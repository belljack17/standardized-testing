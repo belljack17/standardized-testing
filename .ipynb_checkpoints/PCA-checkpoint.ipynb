{
 "cells": [
  {
   "cell_type": "code",
   "execution_count": 43,
   "id": "777cb456",
   "metadata": {
    "scrolled": false
   },
   "outputs": [
    {
     "data": {
      "application/vnd.plotly.v1+json": {
       "config": {
        "plotlyServerURL": "https://plot.ly"
       },
       "data": [
        {
         "customdata": [
          [
           "Abilene Christian University",
           3508
          ],
          [
           "Abraham Baldwin Agricultural College",
           2470
          ],
          [
           "Adams State University",
           1514
          ],
          [
           "Adelphi University",
           4874
          ],
          [
           "Adrian College",
           1606
          ],
          [
           "AdventHealth University",
           575
          ],
          [
           "Alabama A & M University",
           4714
          ],
          [
           "Alabama State University",
           3866
          ],
          [
           "Alcorn State University",
           2893
          ],
          [
           "Allegheny College",
           1752
          ],
          [
           "American University",
           7764
          ],
          [
           "Anderson University",
           1431
          ],
          [
           "Anderson University",
           2550
          ],
          [
           "Andrew College",
           227
          ],
          [
           "Andrews University",
           1344
          ],
          [
           "Angelo State University",
           5332
          ],
          [
           "Appalachian Bible College",
           182
          ],
          [
           "Appalachian State University",
           16071
          ],
          [
           "Aquinas College",
           1317
          ],
          [
           "Arcadia University",
           2177
          ],
          [
           "Arizona Christian University",
           646
          ],
          [
           "Arizona State University Campus Immersion",
           38814
          ],
          [
           "Arkansas State University",
           6894
          ],
          [
           "Art Academy of Cincinnati",
           168
          ],
          [
           "Ashland University",
           3380
          ],
          [
           "Auburn University",
           21762
          ],
          [
           "Auburn University at Montgomery",
           3239
          ],
          [
           "Augsburg University",
           2033
          ],
          [
           "Augusta University",
           4250
          ],
          [
           "Augustana University",
           1679
          ],
          [
           "Aurora University",
           3461
          ],
          [
           "Austin Peay State University",
           7065
          ],
          [
           "Ave Maria University",
           1035
          ],
          [
           "Averett University",
           890
          ],
          [
           "Azusa Pacific University",
           5075
          ],
          [
           "Bacone College",
           864
          ],
          [
           "Baker University",
           1062
          ],
          [
           "Barnard College",
           2514
          ],
          [
           "Barry University",
           2991
          ],
          [
           "Barton College",
           830
          ],
          [
           "Baylor University",
           14100
          ],
          [
           "Becker College",
           1530
          ],
          [
           "Bellarmine University",
           2410
          ],
          [
           "Belmont Abbey College",
           1381
          ],
          [
           "Belmont University",
           6161
          ],
          [
           "Benedictine University",
           2473
          ],
          [
           "Bethany Lutheran College",
           522
          ],
          [
           "Bethel University",
           1044
          ],
          [
           "Bethel University",
           2407
          ],
          [
           "Bethel University",
           3454
          ],
          [
           "Biola University",
           3882
          ],
          [
           "Black Hills State University",
           2195
          ],
          [
           "Blackburn College",
           546
          ],
          [
           "Bloomfield College",
           1700
          ],
          [
           "Bloomsburg University of Pennsylvania",
           7863
          ],
          [
           "Blue Mountain College",
           531
          ],
          [
           "Bluefield University",
           829
          ],
          [
           "Bluffton University",
           660
          ],
          [
           "Boise Bible College",
           111
          ],
          [
           "Boise State University",
           12477
          ],
          [
           "Boston Baptist College",
           57
          ],
          [
           "Boston College",
           9681
          ],
          [
           "Boston University",
           16840
          ],
          [
           "Bowling Green State University-Main Campus",
           13104
          ],
          [
           "Bradley University",
           4512
          ],
          [
           "Brenau University",
           1080
          ],
          [
           "Brewton-Parker College",
           438
          ],
          [
           "Brigham Young University",
           28156
          ],
          [
           "Brigham Young University-Hawaii",
           2702
          ],
          [
           "Brigham Young University-Idaho",
           17230
          ],
          [
           "Buena Vista University",
           1522
          ],
          [
           "Bushnell University",
           444
          ],
          [
           "Butler University",
           4182
          ],
          [
           "Cairn University-Langhorne",
           727
          ],
          [
           "California Baptist University",
           6367
          ],
          [
           "California Polytechnic State University-San Luis Obispo",
           20584
          ],
          [
           "California State Polytechnic University-Humboldt",
           7270
          ],
          [
           "California State Polytechnic University-Pomona",
           21668
          ],
          [
           "California State University-Chico",
           15446
          ],
          [
           "California State University-Fresno",
           19432
          ],
          [
           "California State University-Fullerton",
           28475
          ],
          [
           "California State University-Long Beach",
           27507
          ],
          [
           "California State University-Los Angeles",
           21004
          ],
          [
           "California State University-Monterey Bay",
           6109
          ],
          [
           "California State University-Northridge",
           29739
          ],
          [
           "California State University-Sacramento",
           23491
          ],
          [
           "California State University-San Bernardino",
           16381
          ],
          [
           "California State University-San Marcos",
           11634
          ],
          [
           "California University of Pennsylvania",
           4534
          ],
          [
           "Calvary University",
           160
          ],
          [
           "Calvin University",
           3524
          ],
          [
           "Campbell University",
           3634
          ],
          [
           "Canisius College",
           2303
          ],
          [
           "Capital University",
           2493
          ],
          [
           "Capitol Technology University",
           336
          ],
          [
           "Cardinal Stritch University",
           901
          ],
          [
           "Carlow University",
           1075
          ],
          [
           "Carolina University",
           246
          ],
          [
           "Carroll College",
           1287
          ],
          [
           "Carroll University",
           2737
          ],
          [
           "Carson-Newman University",
           1608
          ],
          [
           "Carthage College",
           2596
          ],
          [
           "Case Western Reserve University",
           4978
          ],
          [
           "Castleton University",
           1590
          ],
          [
           "Cedar Crest College",
           931
          ],
          [
           "Cedarville University",
           3109
          ],
          [
           "Centenary College of Louisiana",
           524
          ],
          [
           "Centenary University",
           1125
          ],
          [
           "Central Baptist College",
           599
          ],
          [
           "Central Connecticut State University",
           7605
          ],
          [
           "Central Methodist University-College of Liberal Arts and Sciences",
           1034
          ],
          [
           "Central Michigan University",
           15585
          ],
          [
           "Central State University",
           1710
          ],
          [
           "Central Washington University",
           10446
          ],
          [
           "Chaminade University of Honolulu",
           1524
          ],
          [
           "Champlain College",
           2603
          ],
          [
           "Chapman University",
           6515
          ],
          [
           "Charleston Southern University",
           2804
          ],
          [
           "Chestnut Hill College",
           1118
          ],
          [
           "Chicago State University",
           1297
          ],
          [
           "Citadel Military College of South Carolina",
           2559
          ],
          [
           "Clarion University of Pennsylvania",
           3483
          ],
          [
           "Cleary University",
           334
          ],
          [
           "Clemson University",
           18642
          ],
          [
           "Cleveland State University",
           9268
          ],
          [
           "Coastal Carolina University",
           9021
          ],
          [
           "Coker University",
           909
          ],
          [
           "College of Charleston",
           9083
          ],
          [
           "College of Coastal Georgia",
           2217
          ],
          [
           "College of Mount Saint Vincent",
           1613
          ],
          [
           "College of Saint Benedict",
           1916
          ],
          [
           "Colorado Mesa University",
           7145
          ],
          [
           "Colorado School of Mines",
           4584
          ],
          [
           "Colorado State University Pueblo",
           3292
          ],
          [
           "Colorado State University-Fort Collins",
           22154
          ],
          [
           "Columbia International University",
           445
          ],
          [
           "Columbia University in the City of New York",
           7578
          ],
          [
           "Columbus State University",
           4693
          ],
          [
           "Concord University",
           1696
          ],
          [
           "Concordia College",
           1024
          ],
          [
           "Concordia University Texas",
           1347
          ],
          [
           "Concordia University-Chicago",
           1299
          ],
          [
           "Concordia University-Irvine",
           1644
          ],
          [
           "Converse University",
           860
          ],
          [
           "Cooper Union for the Advancement of Science and Art",
           859
          ],
          [
           "Coppin State University",
           1854
          ],
          [
           "Corban University",
           936
          ],
          [
           "Cornell University",
           14898
          ],
          [
           "Cornerstone University",
           1260
          ],
          [
           "Cottey College",
           260
          ],
          [
           "Creighton University",
           4011
          ],
          [
           "Crown College",
           698
          ],
          [
           "Culver-Stockton College",
           969
          ],
          [
           "Curry College",
           2059
          ],
          [
           "D'Youville College",
           1295
          ],
          [
           "Dakota State University",
           1397
          ],
          [
           "Dallas Christian College",
           174
          ],
          [
           "Davis & Elkins College",
           785
          ],
          [
           "Dean College",
           1101
          ],
          [
           "Defiance College",
           525
          ],
          [
           "Delaware State University",
           3571
          ],
          [
           "Delta State University",
           2198
          ],
          [
           "DeSales University",
           1811
          ],
          [
           "Dickinson State University",
           922
          ],
          [
           "DigiPen Institute of Technology",
           964
          ],
          [
           "Dominican University of California",
           1135
          ],
          [
           "Dordt University",
           1341
          ],
          [
           "Drake University",
           2955
          ],
          [
           "Drexel University",
           13572
          ],
          [
           "Drury University",
           2478
          ],
          [
           "Duquesne University",
           5826
          ],
          [
           "East Carolina University",
           19999
          ],
          [
           "East Central University",
           2551
          ],
          [
           "East Stroudsburg University of Pennsylvania",
           5552
          ],
          [
           "East Tennessee State University",
           9641
          ],
          [
           "East Texas Baptist University",
           1216
          ],
          [
           "Eastern Kentucky University",
           10744
          ],
          [
           "Eastern Mennonite University",
           942
          ],
          [
           "Eastern Michigan University",
           12410
          ],
          [
           "Eastern New Mexico University-Main Campus",
           2590
          ],
          [
           "Eastern Oregon University",
           1668
          ],
          [
           "Eastern University",
           1462
          ],
          [
           "Eastern Washington University",
           10060
          ],
          [
           "Eckerd College",
           1915
          ],
          [
           "Edgewood College",
           1361
          ],
          [
           "Edinboro University of Pennsylvania",
           3888
          ],
          [
           "Edward Waters University",
           853
          ],
          [
           "Elizabeth City State University",
           1179
          ],
          [
           "Elizabethtown College",
           1636
          ],
          [
           "Elon University",
           5885
          ],
          [
           "Emerson College",
           3748
          ],
          [
           "Emmanuel College",
           822
          ],
          [
           "Emmaus Bible College",
           247
          ],
          [
           "Emory & Henry College",
           966
          ],
          [
           "Erskine College",
           568
          ],
          [
           "Fairmont State University",
           3108
          ],
          [
           "Faulkner University",
           1744
          ],
          [
           "Fayetteville State University",
           3905
          ],
          [
           "Felician University",
           1430
          ],
          [
           "Ferris State University",
           8469
          ],
          [
           "Finlandia University",
           336
          ],
          [
           "Fisk University",
           639
          ],
          [
           "Fitchburg State University",
           3386
          ],
          [
           "Florida Agricultural and Mechanical University",
           6875
          ],
          [
           "Florida Atlantic University",
           16325
          ],
          [
           "Florida College",
           489
          ],
          [
           "Florida Gulf Coast University",
           10973
          ],
          [
           "Florida Institute of Technology",
           3269
          ],
          [
           "Florida International University",
           26655
          ],
          [
           "Florida Polytechnic University",
           1329
          ],
          [
           "Florida Southern College",
           2356
          ],
          [
           "Florida State University",
           29286
          ],
          [
           "Fordham University",
           9132
          ],
          [
           "Fort Lewis College",
           2921
          ],
          [
           "Fort Valley State University",
           2115
          ],
          [
           "Framingham State University",
           3558
          ],
          [
           "Francis Marion University",
           3006
          ],
          [
           "Franciscan University of Steubenville",
           2011
          ],
          [
           "Franklin College",
           962
          ],
          [
           "Freed-Hardeman University",
           1261
          ],
          [
           "Fresno Pacific University",
           2342
          ],
          [
           "Friends University",
           906
          ],
          [
           "Frostburg State University",
           3849
          ],
          [
           "Furman University",
           2658
          ],
          [
           "Gannon University",
           2530
          ],
          [
           "Geneva College",
           1247
          ],
          [
           "George Fox University",
           2494
          ],
          [
           "George Mason University",
           20221
          ],
          [
           "George Washington University",
           10893
          ],
          [
           "Georgetown University",
           6987
          ],
          [
           "Georgia College & State University",
           5442
          ],
          [
           "Georgia Institute of Technology-Main Campus",
           13974
          ],
          [
           "Georgia Southern University",
           15755
          ],
          [
           "Georgia Southwestern State University",
           1779
          ],
          [
           "Georgia State University",
           19882
          ],
          [
           "Georgian Court University",
           1343
          ],
          [
           "Gonzaga University",
           5106
          ],
          [
           "Gordon College",
           1528
          ],
          [
           "Gordon State College",
           2686
          ],
          [
           "Goshen College",
           816
          ],
          [
           "Graceland University-Lamoni",
           1061
          ],
          [
           "Grand Valley State University",
           19373
          ],
          [
           "Grand View University",
           1574
          ],
          [
           "Greenville University",
           887
          ],
          [
           "Grinnell College",
           1662
          ],
          [
           "Gwynedd Mercy University",
           1934
          ],
          [
           "Hamline University",
           2082
          ],
          [
           "Hanover College",
           1081
          ],
          [
           "Hardin-Simmons University",
           1585
          ],
          [
           "Harding University",
           3945
          ],
          [
           "Hawaii Pacific University",
           2411
          ],
          [
           "Heidelberg University",
           1031
          ],
          [
           "Henderson State University",
           2565
          ],
          [
           "Hiram College",
           852
          ],
          [
           "Hobart William Smith Colleges",
           2220
          ],
          [
           "Hofstra University",
           6494
          ],
          [
           "Holy Cross College",
           526
          ],
          [
           "Holy Names University",
           543
          ],
          [
           "Hope College",
           3019
          ],
          [
           "Hope International University",
           579
          ],
          [
           "Houston Baptist University",
           2098
          ],
          [
           "Howard Payne University",
           860
          ],
          [
           "Howard University",
           6090
          ],
          [
           "Huntingdon College",
           878
          ],
          [
           "Huntington University",
           859
          ],
          [
           "Husson University",
           2306
          ],
          [
           "Huston-Tillotson University",
           1003
          ],
          [
           "Illinois Institute of Technology",
           2631
          ],
          [
           "Indiana Institute of Technology",
           4213
          ],
          [
           "Indiana University of Pennsylvania-Main Campus",
           9526
          ],
          [
           "Indiana University-Bloomington",
           32212
          ],
          [
           "Indiana University-Purdue University-Indianapolis",
           17521
          ],
          [
           "Indiana University-South Bend",
           3767
          ],
          [
           "Indiana University-Southeast",
           3218
          ],
          [
           "Indiana Wesleyan University-Marion",
           2634
          ],
          [
           "Iowa State University",
           28590
          ],
          [
           "Iowa Wesleyan University",
           550
          ],
          [
           "Jackson State University",
           5935
          ],
          [
           "Jacksonville State University",
           5523
          ],
          [
           "Jacksonville University",
           2180
          ],
          [
           "John Carroll University",
           2959
          ],
          [
           "John Paul the Great Catholic University",
           247
          ],
          [
           "Johnson C Smith University",
           1329
          ],
          [
           "Johnson University",
           690
          ],
          [
           "Johnson University Florida",
           166
          ],
          [
           "Judson University",
           761
          ],
          [
           "Kansas Wesleyan University",
           631
          ],
          [
           "Kennesaw State University",
           24869
          ],
          [
           "Kent State University at Kent",
           19108
          ],
          [
           "Kentucky Christian University",
           439
          ],
          [
           "Kentucky State University",
           1122
          ],
          [
           "Kettering University",
           1807
          ],
          [
           "King University",
           1608
          ],
          [
           "Kutztown University of Pennsylvania",
           7053
          ],
          [
           "Kuyper College",
           146
          ],
          [
           "La Roche University",
           1163
          ],
          [
           "La Sierra University",
           1830
          ],
          [
           "LaGrange College",
           888
          ],
          [
           "Lake Superior State University",
           1706
          ],
          [
           "Lakeland University",
           779
          ],
          [
           "Lamar University",
           5967
          ],
          [
           "Lancaster Bible College",
           890
          ],
          [
           "Lander University",
           2600
          ],
          [
           "Lawrence Technological University",
           1672
          ],
          [
           "Lawrence University",
           1434
          ],
          [
           "Le Moyne College",
           2410
          ],
          [
           "Lebanon Valley College",
           1624
          ],
          [
           "Lee University",
           3854
          ],
          [
           "Lesley University",
           1645
          ],
          [
           "LeTourneau University",
           1301
          ],
          [
           "Lewis University",
           3687
          ],
          [
           "Lewis-Clark State College",
           2215
          ],
          [
           "Liberty University",
           26892
          ],
          [
           "Life Pacific University",
           431
          ],
          [
           "Life University",
           624
          ],
          [
           "LIM College",
           1305
          ],
          [
           "Limestone University",
           1943
          ],
          [
           "Lincoln Memorial University",
           1355
          ],
          [
           "Lincoln University",
           1826
          ],
          [
           "Lindenwood University",
           6215
          ],
          [
           "Linfield University-McMinnville Campus",
           1505
          ],
          [
           "Lipscomb University",
           2723
          ],
          [
           "Livingstone College",
           1140
          ],
          [
           "Lock Haven University",
           3176
          ],
          [
           "Long Island University",
           2845
          ],
          [
           "Loras College",
           1335
          ],
          [
           "Louisburg College",
           599
          ],
          [
           "Louisiana College",
           866
          ],
          [
           "Louisiana State University and Agricultural & Mechanical College",
           22060
          ],
          [
           "Louisiana Tech University",
           8112
          ],
          [
           "Lourdes University",
           827
          ],
          [
           "Loyola Marymount University",
           6164
          ],
          [
           "Loyola University Chicago",
           10681
          ],
          [
           "Loyola University New Orleans",
           2446
          ],
          [
           "Lubbock Christian University",
           1276
          ],
          [
           "Luther College",
           2014
          ],
          [
           "Madonna University",
           1358
          ],
          [
           "Malone University",
           1099
          ],
          [
           "Manhattan College",
           3479
          ],
          [
           "Manor College",
           428
          ],
          [
           "Mansfield University of Pennsylvania",
           1655
          ],
          [
           "Maranatha Baptist University",
           591
          ],
          [
           "Marian University",
           1961
          ],
          [
           "Marquette University",
           8026
          ],
          [
           "Mars Hill University",
           1199
          ],
          [
           "Marshall University",
           7846
          ],
          [
           "Martin Luther College",
           743
          ],
          [
           "Mary Baldwin University",
           720
          ],
          [
           "Maryland Institute College of Art",
           1673
          ],
          [
           "Marymount Manhattan College",
           1915
          ],
          [
           "Marymount University",
           2069
          ],
          [
           "Maryville University of Saint Louis",
           2375
          ],
          [
           "Marywood University",
           1741
          ],
          [
           "McMurry University",
           956
          ],
          [
           "McNeese State University",
           5567
          ],
          [
           "McPherson College",
           673
          ],
          [
           "Mercer University",
           4135
          ],
          [
           "Meredith College",
           1600
          ],
          [
           "Methodist University",
           1755
          ],
          [
           "Miami University-Oxford",
           16619
          ],
          [
           "Michigan State University",
           35404
          ],
          [
           "Michigan Technological University",
           5492
          ],
          [
           "Mid-Atlantic Christian University",
           166
          ],
          [
           "Middle Georgia State University",
           4507
          ],
          [
           "Middle Tennessee State University",
           15812
          ],
          [
           "Midway University",
           760
          ],
          [
           "Midwestern Baptist Theological Seminary",
           232
          ],
          [
           "Midwestern State University",
           4199
          ],
          [
           "Milligan University",
           764
          ],
          [
           "Millikin University",
           1840
          ],
          [
           "Milwaukee School of Engineering",
           2508
          ],
          [
           "Minnesota State University Moorhead",
           4157
          ],
          [
           "Minot State University",
           1952
          ],
          [
           "Misericordia University",
           1660
          ],
          [
           "Mississippi College",
           2793
          ],
          [
           "Mississippi University for Women",
           2113
          ],
          [
           "Missouri Baptist University",
           1519
          ],
          [
           "Missouri State University-Springfield",
           15363
          ],
          [
           "Missouri University of Science and Technology",
           6128
          ],
          [
           "Montana State University",
           12403
          ],
          [
           "Montana Technological University",
           1529
          ],
          [
           "Morehouse College",
           2090
          ],
          [
           "Morgan State University",
           5825
          ],
          [
           "Mount Saint Joseph University",
           1000
          ],
          [
           "Mount Saint Mary College",
           1737
          ],
          [
           "Mount Vernon Nazarene University",
           1440
          ],
          [
           "Murray State University",
           6584
          ],
          [
           "Muskingum University",
           1363
          ],
          [
           "New Jersey Institute of Technology",
           6380
          ],
          [
           "New Mexico Institute of Mining and Technology",
           1294
          ],
          [
           "New Mexico State University-Main Campus",
           9703
          ],
          [
           "New York Institute of Technology",
           3234
          ],
          [
           "Niagara University",
           2827
          ],
          [
           "Nicholls State University",
           4662
          ],
          [
           "North Carolina A & T State University",
           9347
          ],
          [
           "North Carolina Central University",
           5363
          ],
          [
           "North Carolina State University at Raleigh",
           21384
          ],
          [
           "North Carolina Wesleyan College",
           1754
          ],
          [
           "North Central University",
           912
          ],
          [
           "North Dakota State University-Main Campus",
           10782
          ],
          [
           "North Greenville University",
           2080
          ],
          [
           "North Park University",
           1812
          ],
          [
           "Northeastern State University",
           4753
          ],
          [
           "Northern Kentucky University",
           8962
          ],
          [
           "Northern Michigan University",
           6207
          ],
          [
           "Northern State University",
           1346
          ],
          [
           "Northwest Missouri State University",
           4806
          ],
          [
           "Northwest Nazarene University",
           1125
          ],
          [
           "Northwest University",
           929
          ],
          [
           "Northwestern College",
           997
          ],
          [
           "Northwestern State University of Louisiana",
           5471
          ],
          [
           "Northwood University",
           1785
          ],
          [
           "Notre Dame College",
           1216
          ],
          [
           "Notre Dame de Namur University",
           718
          ],
          [
           "Nova Southeastern University",
           3154
          ],
          [
           "Oakland City University",
           572
          ],
          [
           "Oakland University",
           12549
          ],
          [
           "Oakwood University",
           1521
          ],
          [
           "Oglethorpe University",
           1166
          ],
          [
           "Ohio Dominican University",
           957
          ],
          [
           "Ohio State University-Main Campus",
           42003
          ],
          [
           "Ohio University-Main Campus",
           17695
          ],
          [
           "Ohio Valley University",
           435
          ],
          [
           "Oklahoma Baptist University",
           1835
          ],
          [
           "Oklahoma Christian University",
           1846
          ],
          [
           "Oklahoma City University",
           1579
          ],
          [
           "Oklahoma State University-Main Campus",
           18221
          ],
          [
           "Oklahoma Wesleyan University",
           609
          ],
          [
           "Old Dominion University",
           15036
          ],
          [
           "Olivet Nazarene University",
           3113
          ],
          [
           "Oral Roberts University",
           2866
          ],
          [
           "Oregon Institute of Technology",
           2284
          ],
          [
           "Oregon State University",
           18829
          ],
          [
           "Oregon State University-Cascades Campus",
           367
          ],
          [
           "Otterbein University",
           2294
          ],
          [
           "Ouachita Baptist University",
           1500
          ],
          [
           "Our Lady of the Lake University",
           1221
          ],
          [
           "Ozark Christian College",
           457
          ],
          [
           "Pacific Lutheran University",
           2655
          ],
          [
           "Pacific Union College",
           1077
          ],
          [
           "Paine College",
           328
          ],
          [
           "Palm Beach Atlantic University",
           2350
          ],
          [
           "Paul Quinn College",
           492
          ],
          [
           "Pepperdine University",
           3300
          ],
          [
           "Pfeiffer University",
           733
          ],
          [
           "Piedmont University",
           1160
          ],
          [
           "Point Loma Nazarene University",
           2571
          ],
          [
           "Point Park University",
           2758
          ],
          [
           "Point University",
           1119
          ],
          [
           "Pomona College",
           1578
          ],
          [
           "Prairie View A & M University",
           7341
          ],
          [
           "Pratt Institute-Main",
           3537
          ],
          [
           "Presentation College",
           475
          ],
          [
           "Providence College",
           3826
          ],
          [
           "Purdue University Fort Wayne",
           5913
          ],
          [
           "Purdue University Northwest",
           6172
          ],
          [
           "Purdue University-Main Campus",
           30277
          ],
          [
           "Queens University of Charlotte",
           1449
          ],
          [
           "Quincy University",
           874
          ],
          [
           "Ramapo College of New Jersey",
           4910
          ],
          [
           "Randolph-Macon College",
           1428
          ],
          [
           "Reed College",
           1408
          ],
          [
           "Regent University",
           2263
          ],
          [
           "Reinhardt University",
           1260
          ],
          [
           "Rhode Island College",
           5461
          ],
          [
           "Rider University",
           3711
          ],
          [
           "Ripon College",
           739
          ],
          [
           "Roanoke College",
           1973
          ],
          [
           "Robert Morris University",
           3840
          ],
          [
           "Roberts Wesleyan College",
           1248
          ],
          [
           "Rochester Institute of Technology",
           12447
          ],
          [
           "Rochester University",
           762
          ],
          [
           "Rockford University",
           918
          ],
          [
           "Rockhurst University",
           1445
          ],
          [
           "Rocky Mountain College",
           868
          ],
          [
           "Roosevelt University",
           2117
          ],
          [
           "Rosemont College",
           520
          ],
          [
           "Rowan University",
           13634
          ],
          [
           "Rutgers University-Camden",
           4493
          ],
          [
           "Rutgers University-New Brunswick",
           33677
          ],
          [
           "Rutgers University-Newark",
           7162
          ],
          [
           "Saginaw Valley State University",
           6559
          ],
          [
           "Saint Anselm College",
           1926
          ],
          [
           "Saint Cloud State University",
           8373
          ],
          [
           "Saint Edward's University",
           3528
          ],
          [
           "Saint Francis University",
           1526
          ],
          [
           "Saint John Fisher College",
           2624
          ],
          [
           "Saint Johns University",
           1703
          ],
          [
           "Saint Joseph's University",
           4481
          ],
          [
           "Saint Louis University",
           6625
          ],
          [
           "Saint Mary-of-the-Woods College",
           491
          ],
          [
           "Saint Norbert College",
           2021
          ],
          [
           "Saint Vincent College",
           1617
          ],
          [
           "Saint Xavier University",
           2638
          ],
          [
           "Salem College",
           673
          ],
          [
           "Sam Houston State University",
           14808
          ],
          [
           "Samford University",
           3266
          ],
          [
           "San Diego Christian College",
           504
          ],
          [
           "San Diego State University",
           27040
          ],
          [
           "San Francisco State University",
           22263
          ],
          [
           "San Jose State University",
           23097
          ],
          [
           "Savannah College of Art and Design",
           9013
          ],
          [
           "Savannah State University",
           3687
          ],
          [
           "School of the Art Institute of Chicago",
           2735
          ],
          [
           "Schreiner University",
           1137
          ],
          [
           "Scripps College",
           1060
          ],
          [
           "Seattle Pacific University",
           2783
          ],
          [
           "Seattle University",
           4325
          ],
          [
           "Seton Hall University",
           5554
          ],
          [
           "Shenandoah University",
           1991
          ],
          [
           "Shepherd University",
           2614
          ],
          [
           "Shippensburg University of Pennsylvania",
           5160
          ],
          [
           "Shorter University",
           1140
          ],
          [
           "Sierra Nevada University",
           410
          ],
          [
           "Simpson College",
           1280
          ],
          [
           "Simpson University",
           619
          ],
          [
           "Slippery Rock University of Pennsylvania",
           7125
          ],
          [
           "Sonoma State University",
           7887
          ],
          [
           "South Dakota School of Mines and Technology",
           1997
          ],
          [
           "South Dakota State University",
           8425
          ],
          [
           "Southeastern University",
           4288
          ],
          [
           "Southern Arkansas University Main Campus",
           2924
          ],
          [
           "Southern Connecticut State University",
           6814
          ],
          [
           "Southern Illinois University-Carbondale",
           9455
          ],
          [
           "Southern Illinois University-Edwardsville",
           9550
          ],
          [
           "Southern Methodist University",
           6240
          ],
          [
           "Southern Oregon University",
           3640
          ],
          [
           "Southern University and A & M College",
           4530
          ],
          [
           "Southern Utah University",
           6279
          ],
          [
           "Southern Virginia University",
           853
          ],
          [
           "Southwest Baptist University",
           1835
          ],
          [
           "Southwestern Adventist University",
           652
          ],
          [
           "Southwestern Assemblies of God University",
           1492
          ],
          [
           "Southwestern Christian University",
           539
          ],
          [
           "Southwestern College",
           577
          ],
          [
           "Spelman College",
           2086
          ],
          [
           "Spring Arbor University",
           1380
          ],
          [
           "St Bonaventure University",
           1586
          ],
          [
           "St Catherine University",
           2124
          ],
          [
           "St. Andrews University",
           567
          ],
          [
           "St. Mary's College of Maryland",
           1491
          ],
          [
           "St. Mary's University",
           2228
          ],
          [
           "St. Thomas University",
           935
          ],
          [
           "State University of New York at New Paltz",
           6235
          ],
          [
           "Stephen F Austin State University",
           9567
          ],
          [
           "Stephens College",
           542
          ],
          [
           "Stockton University",
           7809
          ],
          [
           "Stony Brook University",
           16212
          ],
          [
           "SUNY at Purchase College",
           3712
          ],
          [
           "SUNY Brockport",
           6419
          ],
          [
           "SUNY College at Plattsburgh",
           4894
          ],
          [
           "SUNY College of Technology at Alfred",
           3396
          ],
          [
           "SUNY College of Technology at Canton",
           2657
          ],
          [
           "SUNY Cortland",
           6196
          ],
          [
           "SUNY Morrisville",
           2614
          ],
          [
           "SUNY Oneonta",
           5828
          ],
          [
           "Sweet Briar College",
           314
          ],
          [
           "Syracuse University",
           14675
          ],
          [
           "Tarleton State University",
           8429
          ],
          [
           "Taylor University",
           1840
          ],
          [
           "Tennessee Technological University",
           8259
          ],
          [
           "Tennessee Wesleyan University",
           863
          ],
          [
           "Texas A & M International University",
           5191
          ],
          [
           "Texas A & M University-College Station",
           46724
          ],
          [
           "Texas A & M University-Commerce",
           6068
          ],
          [
           "Texas A & M University-Corpus Christi",
           8357
          ],
          [
           "Texas A & M University-Kingsville",
           5020
          ],
          [
           "Texas A&M University-San Antonio",
           2865
          ],
          [
           "Texas A&M University-Texarkana",
           1166
          ],
          [
           "Texas Christian University",
           8738
          ],
          [
           "Texas Lutheran University",
           1305
          ],
          [
           "Texas Southern University",
           6695
          ],
          [
           "Texas State University",
           28019
          ],
          [
           "Texas Tech University",
           27318
          ],
          [
           "Texas Woman's University",
           6968
          ],
          [
           "The Baptist College of Florida",
           281
          ],
          [
           "The New School",
           6224
          ],
          [
           "The University of Alabama",
           29923
          ],
          [
           "The University of Montana",
           7444
          ],
          [
           "The University of Montana-Western",
           1230
          ],
          [
           "The University of Tampa",
           7728
          ],
          [
           "The University of Tennessee-Chattanooga",
           8962
          ],
          [
           "The University of Tennessee-Knoxville",
           20965
          ],
          [
           "The University of Texas at Arlington",
           17819
          ],
          [
           "The University of Texas at Austin",
           37740
          ],
          [
           "The University of Texas at Dallas",
           15294
          ],
          [
           "The University of Texas at San Antonio",
           21510
          ],
          [
           "The University of Texas at Tyler",
           4842
          ],
          [
           "The University of Texas Permian Basin",
           2192
          ],
          [
           "The University of Texas Rio Grande Valley",
           18647
          ],
          [
           "The University of West Florida",
           6906
          ],
          [
           "Thomas More University",
           1356
          ],
          [
           "Toccoa Falls College",
           872
          ],
          [
           "Towson University",
           17106
          ],
          [
           "Trevecca Nazarene University",
           1317
          ],
          [
           "Trine University",
           1938
          ],
          [
           "Trinity Baptist College",
           302
          ],
          [
           "Trinity Bible College and Graduate School",
           159
          ],
          [
           "Trinity Christian College",
           907
          ],
          [
           "Trinity College of Florida",
           163
          ],
          [
           "Trinity International University-Illinois",
           592
          ],
          [
           "Trinity University",
           2353
          ],
          [
           "Troy University",
           9491
          ],
          [
           "Truett McConnell University",
           780
          ],
          [
           "Truman State University",
           5134
          ],
          [
           "Tusculum University",
           1376
          ],
          [
           "Tuskegee University",
           2722
          ],
          [
           "Union College",
           707
          ],
          [
           "University at Buffalo",
           19401
          ],
          [
           "University of Akron Main Campus",
           13563
          ],
          [
           "University of Alabama at Birmingham",
           9677
          ],
          [
           "University of Alabama in Huntsville",
           5903
          ],
          [
           "University of Alaska Fairbanks",
           3022
          ],
          [
           "University of Arkansas",
           20464
          ],
          [
           "University of Arkansas at Pine Bluff",
           2341
          ],
          [
           "University of Bridgeport",
           2300
          ],
          [
           "University of California-Berkeley",
           29351
          ],
          [
           "University of California-Davis",
           29284
          ],
          [
           "University of California-Irvine",
           28855
          ],
          [
           "University of California-Los Angeles",
           30458
          ],
          [
           "University of California-Merced",
           7297
          ],
          [
           "University of California-Riverside",
           19719
          ],
          [
           "University of California-San Diego",
           27880
          ],
          [
           "University of California-Santa Barbara",
           21777
          ],
          [
           "University of California-Santa Cruz",
           17082
          ],
          [
           "University of Central Arkansas",
           8064
          ],
          [
           "University of Central Florida",
           39962
          ],
          [
           "University of Charleston",
           1220
          ],
          [
           "University of Cincinnati-Main Campus",
           22622
          ],
          [
           "University of Colorado Boulder",
           26977
          ],
          [
           "University of Colorado Colorado Springs",
           8171
          ],
          [
           "University of Connecticut",
           18555
          ],
          [
           "University of Connecticut-Stamford",
           1452
          ],
          [
           "University of Dayton",
           8079
          ],
          [
           "University of Delaware",
           18195
          ],
          [
           "University of Denver",
           5494
          ],
          [
           "University of Detroit Mercy",
           2338
          ],
          [
           "University of Dubuque",
           1709
          ],
          [
           "University of Florida",
           31384
          ],
          [
           "University of Georgia",
           27142
          ],
          [
           "University of Hawaii at Hilo",
           2340
          ],
          [
           "University of Hawaii at Manoa",
           10702
          ],
          [
           "University of Health Sciences and Pharmacy in St. Louis",
           435
          ],
          [
           "University of Houston",
           27159
          ],
          [
           "University of Houston-Clear Lake",
           2946
          ],
          [
           "University of Idaho",
           7166
          ],
          [
           "University of Illinois Chicago",
           17961
          ],
          [
           "University of Illinois Springfield",
           1903
          ],
          [
           "University of Illinois Urbana-Champaign",
           32613
          ],
          [
           "University of Indianapolis",
           3828
          ],
          [
           "University of Iowa",
           21222
          ],
          [
           "University of Kentucky",
           20657
          ],
          [
           "University of La Verne",
           3759
          ],
          [
           "University of Louisiana at Lafayette",
           12767
          ],
          [
           "University of Louisville",
           12025
          ],
          [
           "University of Maine",
           8204
          ],
          [
           "University of Maine at Fort Kent",
           582
          ],
          [
           "University of Mary",
           1794
          ],
          [
           "University of Mary Hardin-Baylor",
           3045
          ],
          [
           "University of Mary Washington",
           3905
          ],
          [
           "University of Maryland Eastern Shore",
           2573
          ],
          [
           "University of Maryland-Baltimore County",
           9543
          ],
          [
           "University of Maryland-College Park",
           27708
          ],
          [
           "University of Massachusetts-Dartmouth",
           5790
          ],
          [
           "University of Massachusetts-Lowell",
           10495
          ],
          [
           "University of Memphis",
           12400
          ],
          [
           "University of Miami",
           10216
          ],
          [
           "University of Michigan-Ann Arbor",
           28702
          ],
          [
           "University of Michigan-Flint",
           3809
          ],
          [
           "University of Minnesota-Duluth",
           8906
          ],
          [
           "University of Minnesota-Morris",
           1526
          ],
          [
           "University of Minnesota-Rochester",
           439
          ],
          [
           "University of Minnesota-Twin Cities",
           29991
          ],
          [
           "University of Mississippi",
           17511
          ],
          [
           "University of Missouri-Columbia",
           22197
          ],
          [
           "University of Missouri-Kansas City",
           6760
          ],
          [
           "University of Missouri-St Louis",
           5492
          ],
          [
           "University of Mobile",
           1152
          ],
          [
           "University of Mount Olive",
           1472
          ],
          [
           "University of Mount Union",
           2046
          ],
          [
           "University of Nebraska at Kearney",
           4063
          ],
          [
           "University of Nebraska-Lincoln",
           19534
          ],
          [
           "University of Nevada-Las Vegas",
           18958
          ],
          [
           "University of Nevada-Reno",
           15572
          ],
          [
           "University of New England",
           2361
          ],
          [
           "University of New Hampshire-Main Campus",
           12677
          ],
          [
           "University of New Haven",
           4831
          ],
          [
           "University of New Mexico-Main Campus",
           15093
          ],
          [
           "University of New Orleans",
           4737
          ],
          [
           "University of North Alabama",
           5141
          ],
          [
           "University of North Carolina at Asheville",
           3285
          ],
          [
           "University of North Carolina at Chapel Hill",
           18303
          ],
          [
           "University of North Carolina at Charlotte",
           20597
          ],
          [
           "University of North Carolina at Greensboro",
           14136
          ],
          [
           "University of North Carolina at Pembroke",
           4483
          ],
          [
           "University of North Carolina School of the Arts",
           847
          ],
          [
           "University of North Carolina Wilmington",
           12346
          ],
          [
           "University of North Dakota",
           8525
          ],
          [
           "University of North Florida",
           10223
          ],
          [
           "University of North Georgia",
           12712
          ],
          [
           "University of North Texas",
           25592
          ],
          [
           "University of North Texas at Dallas",
           1704
          ],
          [
           "University of Northern Colorado",
           8328
          ],
          [
           "University of Northern Iowa",
           9100
          ],
          [
           "University of Northwestern-St Paul",
           2033
          ],
          [
           "University of Oklahoma-Norman Campus",
           19065
          ],
          [
           "University of Oregon",
           17801
          ],
          [
           "University of Pennsylvania",
           10496
          ],
          [
           "University of Pittsburgh-Bradford",
           1229
          ],
          [
           "University of Pittsburgh-Greensburg",
           1436
          ],
          [
           "University of Pittsburgh-Johnstown",
           2713
          ],
          [
           "University of Pittsburgh-Pittsburgh Campus",
           18390
          ],
          [
           "University of Pittsburgh-Titusville",
           255
          ],
          [
           "University of Portland",
           3792
          ],
          [
           "University of Redlands",
           2518
          ],
          [
           "University of Rhode Island",
           12629
          ],
          [
           "University of Saint Francis-Fort Wayne",
           1523
          ],
          [
           "University of Saint Joseph",
           654
          ],
          [
           "University of Saint Mary",
           641
          ],
          [
           "University of San Diego",
           5605
          ],
          [
           "University of San Francisco",
           6586
          ],
          [
           "University of Science and Arts of Oklahoma",
           727
          ],
          [
           "University of Sioux Falls",
           1036
          ],
          [
           "University of South Alabama",
           9090
          ],
          [
           "University of South Carolina Aiken",
           2716
          ],
          [
           "University of South Carolina Beaufort",
           1797
          ],
          [
           "University of South Carolina-Columbia",
           25243
          ],
          [
           "University of South Carolina-Upstate",
           4583
          ],
          [
           "University of South Dakota",
           4908
          ],
          [
           "University of South Florida",
           24672
          ],
          [
           "University of Southern California",
           18631
          ],
          [
           "University of Southern Indiana",
           6588
          ],
          [
           "University of Southern Maine",
           3901
          ],
          [
           "University of St Thomas",
           5945
          ],
          [
           "University of St Thomas",
           1434
          ],
          [
           "University of the Cumberlands",
           1828
          ],
          [
           "University of the Incarnate Word",
           4461
          ],
          [
           "University of the Pacific",
           3452
          ],
          [
           "University of Toledo",
           13056
          ],
          [
           "University of Tulsa",
           3203
          ],
          [
           "University of Utah",
           18066
          ],
          [
           "University of Vermont",
           10395
          ],
          [
           "University of Virginia's College at Wise",
           1210
          ],
          [
           "University of Virginia-Main Campus",
           15766
          ],
          [
           "University of Washington-Bothell Campus",
           4641
          ],
          [
           "University of Washington-Seattle Campus",
           28759
          ],
          [
           "University of Washington-Tacoma Campus",
           3945
          ],
          [
           "University of West Alabama",
           1843
          ],
          [
           "University of West Georgia",
           8938
          ],
          [
           "University of Wisconsin-Madison",
           28977
          ],
          [
           "University of Wyoming",
           8281
          ],
          [
           "Upper Iowa University",
           2107
          ],
          [
           "Ursuline College",
           455
          ],
          [
           "Utah State University",
           17188
          ],
          [
           "Valdosta State University",
           7166
          ],
          [
           "Valley City State University",
           834
          ],
          [
           "Valparaiso University",
           3153
          ],
          [
           "Vanderbilt University",
           6805
          ],
          [
           "Vassar College",
           2334
          ],
          [
           "Villanova University",
           6525
          ],
          [
           "Virginia Commonwealth University",
           20036
          ],
          [
           "Virginia Polytechnic Institute and State University",
           26603
          ],
          [
           "Virginia State University",
           3976
          ],
          [
           "Virginia Union University",
           1201
          ],
          [
           "Virginia Wesleyan University",
           1354
          ],
          [
           "Viterbo University",
           1394
          ],
          [
           "Waldorf University",
           1482
          ],
          [
           "Walsh University",
           1744
          ],
          [
           "Washington Adventist University",
           655
          ],
          [
           "Washington State University",
           22166
          ],
          [
           "Washington University in St Louis",
           7074
          ],
          [
           "Wayland Baptist University",
           990
          ],
          [
           "Wayne State University",
           12389
          ],
          [
           "Waynesburg University",
           1330
          ],
          [
           "Webster University",
           2297
          ],
          [
           "Wentworth Institute of Technology",
           3904
          ],
          [
           "Wesley College",
           1303
          ],
          [
           "Wesleyan College",
           431
          ],
          [
           "West Chester University of Pennsylvania",
           13020
          ],
          [
           "West Texas A & M University",
           5615
          ],
          [
           "West Virginia State University",
           1786
          ],
          [
           "West Virginia University",
           20713
          ],
          [
           "West Virginia University Institute of Technology",
           1111
          ],
          [
           "West Virginia Wesleyan College",
           1289
          ],
          [
           "Western Carolina University",
           8040
          ],
          [
           "Western Colorado University",
           1832
          ],
          [
           "Western Kentucky University",
           12919
          ],
          [
           "Western Michigan University",
           15063
          ],
          [
           "Western Washington University",
           13728
          ],
          [
           "Westfield State University",
           4800
          ],
          [
           "Westminster College",
           1906
          ],
          [
           "Westmont College",
           1294
          ],
          [
           "Wheaton College",
           2310
          ],
          [
           "Whitworth University",
           2211
          ],
          [
           "Wichita State University",
           8749
          ],
          [
           "Widener University",
           2919
          ],
          [
           "Wilberforce University",
           489
          ],
          [
           "Wilkes University",
           2233
          ],
          [
           "William & Mary",
           6199
          ],
          [
           "William Carey University",
           1676
          ],
          [
           "William Jessup University",
           987
          ],
          [
           "William Peace University",
           814
          ],
          [
           "Williams College",
           2047
          ],
          [
           "Wilson College",
           565
          ],
          [
           "Winona State University",
           6522
          ],
          [
           "Winston-Salem State University",
           4072
          ],
          [
           "Wisconsin Lutheran College",
           921
          ],
          [
           "Woodbury University",
           923
          ],
          [
           "Wright State University-Lake Campus",
           699
          ],
          [
           "Wright State University-Main Campus",
           9423
          ],
          [
           "Xavier University",
           4370
          ],
          [
           "Xavier University of Louisiana",
           2155
          ],
          [
           "Yeshiva University",
           2646
          ],
          [
           "York College of Pennsylvania",
           3814
          ],
          [
           "Youngstown State University",
           8834
          ]
         ],
         "hovertemplate": "pca0=%{x}<br>pca1=%{y}<br>Name=%{customdata[0]}<br>Full-time undergraduate enrollment=%{customdata[1]}<br>ACT Composite 75th percentile=%{marker.color}<extra></extra>",
         "legendgroup": "",
         "marker": {
          "color": [
           26,
           22,
           22,
           27,
           25,
           23,
           19,
           20,
           22,
           29,
           30,
           25,
           26,
           21,
           29,
           22,
           25,
           27,
           27,
           27,
           21,
           29,
           26,
           22,
           25,
           30,
           24,
           24,
           26,
           29,
           23,
           24,
           27,
           22,
           27,
           18,
           25,
           33,
           20,
           23,
           31,
           26,
           27,
           24,
           29,
           25,
           25,
           25,
           27,
           21,
           28,
           24,
           23,
           18,
           24,
           23,
           23,
           24,
           26,
           26,
           20,
           33,
           32,
           24,
           28,
           23,
           18,
           32,
           26,
           25,
           24,
           23,
           30,
           23,
           25,
           31,
           24,
           27,
           25,
           22,
           24,
           26,
           20,
           24,
           22,
           23,
           21,
           23,
           23,
           24,
           30,
           25,
           28,
           27,
           24,
           23,
           24,
           19,
           28,
           26,
           26,
           27,
           33,
           23,
           26,
           29,
           28,
           24,
           22,
           24,
           25,
           27,
           18,
           24,
           23,
           29,
           30,
           22,
           23,
           21,
           25,
           23,
           23,
           31,
           25,
           24,
           21,
           27,
           21,
           22,
           28,
           24,
           32,
           23,
           28,
           25,
           35,
           24,
           23,
           24,
           24,
           24,
           26,
           26,
           34,
           19,
           26,
           34,
           25,
           23,
           30,
           25,
           23,
           23,
           26,
           26,
           24,
           22,
           25,
           22,
           21,
           23,
           27,
           23,
           30,
           25,
           28,
           30,
           30,
           28,
           29,
           24,
           23,
           25,
           26,
           23,
           25,
           28,
           25,
           22,
           24,
           26,
           24,
           29,
           25,
           23,
           18,
           20,
           27,
           29,
           30,
           22,
           27,
           25,
           24,
           23,
           22,
           20,
           22,
           25,
           23,
           22,
           23,
           22,
           26,
           27,
           25,
           29,
           27,
           29,
           29,
           30,
           31,
           25,
           17,
           24,
           22,
           28,
           25,
           28,
           22,
           25,
           23,
           31,
           26,
           26,
           27,
           30,
           32,
           34,
           27,
           34,
           26,
           23,
           26,
           22,
           30,
           29,
           19,
           28,
           23,
           26,
           23,
           24,
           34,
           23,
           26,
           27,
           24,
           28,
           25,
           25,
           25,
           24,
           30,
           29,
           30,
           22,
           29,
           26,
           25,
           22,
           28,
           24,
           24,
           25,
           20,
           31,
           23,
           23,
           31,
           26,
           24,
           22,
           26,
           28,
           21,
           21,
           26,
           27,
           27,
           27,
           19,
           25,
           21,
           25,
           24,
           26,
           25,
           22,
           21,
           29,
           26,
           24,
           26,
           23,
           22,
           24,
           25,
           22,
           23,
           25,
           23,
           28,
           32,
           27,
           26,
           28,
           27,
           28,
           26,
           22,
           27,
           21,
           20,
           24,
           22,
           25,
           21,
           25,
           26,
           29,
           16,
           22,
           26,
           26,
           18,
           24,
           28,
           27,
           24,
           31,
           29,
           28,
           25,
           28,
           24,
           24,
           28,
           19,
           22,
           25,
           25,
           29,
           22,
           25,
           28,
           26,
           29,
           27,
           24,
           27,
           26,
           22,
           25,
           24,
           30,
           25,
           23,
           31,
           28,
           30,
           21,
           21,
           25,
           23,
           25,
           23,
           27,
           26,
           30,
           25,
           24,
           26,
           29,
           23,
           23,
           26,
           31,
           28,
           27,
           23,
           20,
           24,
           24,
           25,
           27,
           24,
           30,
           29,
           23,
           27,
           26,
           24,
           22,
           20,
           31,
           21,
           28,
           26,
           28,
           24,
           24,
           26,
           26,
           24,
           25,
           27,
           26,
           27,
           24,
           25,
           21,
           22,
           28,
           24,
           27,
           22,
           28,
           24,
           31,
           26,
           23,
           26,
           27,
           28,
           28,
           24,
           25,
           26,
           26,
           26,
           28,
           26,
           27,
           28,
           21,
           25,
           27,
           24,
           18,
           26,
           17,
           31,
           22,
           24,
           28,
           25,
           21,
           34,
           20,
           29,
           22,
           30,
           25,
           25,
           31,
           26,
           24,
           26,
           27,
           33,
           27,
           23,
           22,
           26,
           26,
           27,
           27,
           27,
           32,
           23,
           23,
           27,
           25,
           25,
           20,
           28,
           23,
           31,
           23,
           25,
           28,
           24,
           28,
           27,
           26,
           27,
           28,
           31,
           23,
           27,
           26,
           23,
           29,
           23,
           29,
           22,
           28,
           24,
           26,
           27,
           19,
           30,
           24,
           33,
           27,
           29,
           28,
           26,
           24,
           22,
           24,
           24,
           27,
           23,
           24,
           24,
           29,
           26,
           24,
           25,
           24,
           26,
           26,
           32,
           26,
           21,
           27,
           26,
           26,
           24,
           24,
           20,
           23,
           26,
           27,
           27,
           26,
           23,
           28,
           26,
           22,
           28,
           24,
           25,
           25,
           31,
           26,
           25,
           25,
           25,
           22,
           25,
           23,
           25,
           28,
           30,
           23,
           29,
           28,
           24,
           21,
           30,
           23,
           23,
           22,
           20,
           23,
           30,
           24,
           19,
           26,
           27,
           23,
           22,
           28,
           32,
           26,
           22,
           27,
           26,
           30,
           27,
           33,
           32,
           25,
           26,
           22,
           22,
           27,
           24,
           23,
           25,
           26,
           28,
           20,
           25,
           26,
           19,
           27,
           32,
           25,
           23,
           30,
           24,
           24,
           26,
           28,
           26,
           28,
           31,
           25,
           29,
           20,
           24,
           34,
           32,
           32,
           34,
           27,
           29,
           33,
           33,
           31,
           27,
           29,
           22,
           28,
           30,
           26,
           31,
           25,
           29,
           29,
           30,
           27,
           22,
           32,
           31,
           23,
           26,
           28,
           27,
           24,
           26,
           26,
           27,
           32,
           25,
           28,
           28,
           25,
           26,
           28,
           27,
           22,
           26,
           25,
           27,
           20,
           29,
           33,
           26,
           29,
           25,
           32,
           33,
           26,
           26,
           28,
           26,
           31,
           29,
           29,
           28,
           27,
           25,
           22,
           25,
           25,
           29,
           24,
           26,
           26,
           28,
           27,
           25,
           25,
           25,
           28,
           33,
           26,
           25,
           21,
           28,
           27,
           26,
           26,
           25,
           27,
           20,
           25,
           26,
           27,
           29,
           28,
           35,
           24,
           25,
           25,
           32,
           19,
           29,
           28,
           27,
           24,
           22,
           24,
           30,
           28,
           24,
           25,
           26,
           23,
           22,
           30,
           22,
           25,
           29,
           34,
           25,
           25,
           29,
           26,
           25,
           23,
           30,
           26,
           32,
           29,
           30,
           23,
           33,
           26,
           32,
           24,
           23,
           22,
           31,
           27,
           23,
           24,
           27,
           23,
           23,
           29,
           35,
           33,
           33,
           27,
           30,
           19,
           20,
           25,
           26,
           22,
           26,
           27,
           26,
           34,
           23,
           28,
           24,
           26,
           28,
           20,
           24,
           26,
           23,
           22,
           27,
           27,
           25,
           24,
           25,
           27,
           26,
           28,
           25,
           28,
           30,
           32,
           29,
           27,
           25,
           18,
           26,
           33,
           28,
           26,
           23,
           35,
           26,
           25,
           19,
           26,
           24,
           23,
           25,
           28,
           26,
           29,
           25,
           25
          ],
          "coloraxis": "coloraxis",
          "symbol": "circle"
         },
         "mode": "markers",
         "name": "",
         "orientation": "v",
         "showlegend": false,
         "type": "scatter",
         "x": [
          -0.3180304597928755,
          -0.2478191805257844,
          -0.4078162393295407,
          0.012911348454945014,
          -0.8375733508494997,
          -0.6002500191303125,
          -0.3113628217600747,
          -0.6581063668000956,
          -0.6114581421885522,
          -0.7586991376866754,
          0.3786517444140443,
          -0.850443777161218,
          -0.6477248166093249,
          -1.0007115936954867,
          -0.09572505247501871,
          0.3524841952252607,
          -0.5213488232361941,
          0.971712547254558,
          -0.6897331056842276,
          -0.46348293085193515,
          -0.8283969943526669,
          2.987860153616114,
          0.13762602012871786,
          -1.2475472927115747,
          -0.25834000882962643,
          1.6164097245458084,
          -0.34608769151179974,
          -0.6167092996484402,
          -0.13186471115557835,
          -0.7082018660229903,
          -0.42288109970619453,
          0.3079259322116534,
          -0.6606074191005307,
          -0.9229309910090745,
          0.05192463862470534,
          -1.0084553782628543,
          -0.429585309077638,
          0.09138210455471868,
          -0.33330104415018963,
          -0.9913903307904713,
          0.989824461417464,
          -0.7571610387486624,
          -0.6266837744152396,
          -0.8446295639286364,
          -0.04528074462920679,
          -0.28137628130330433,
          -0.8395388302064608,
          -0.7754963989831939,
          -0.6501242388450764,
          -0.5344449802561206,
          -0.03224764341509604,
          -0.2979559054324027,
          -0.9907044530020519,
          -0.8192805637478157,
          0.1454041854178094,
          -0.9324381825957068,
          -0.88006937151238,
          -0.9763107534673251,
          -0.892009284187275,
          0.9892416222654166,
          -0.7769231902251349,
          0.8472994157083996,
          1.836307258568928,
          0.7244287083981743,
          -0.1809829861385921,
          -0.9347000122009349,
          -1.020387304726524,
          1.9996805199992382,
          0.3150286845530168,
          2.4817942950265826,
          -0.8796217949871071,
          -0.7817228960020431,
          -0.14150519086835245,
          -0.804822164678766,
          -0.06349702731793937,
          2.195412577289651,
          0.29864141307916325,
          2.4287956269676894,
          1.269864505220107,
          1.8746445061901118,
          2.977565187989604,
          2.9170879772852127,
          2.355495007552644,
          0.35612572283107824,
          2.773487477195757,
          2.2673938568617436,
          1.3417481412700392,
          1.1361724556193389,
          -0.2949563149395145,
          -0.6871063921538786,
          -0.3095598485331727,
          -0.42093556873633586,
          -0.6239024847188418,
          -0.7385862518131745,
          -0.7086338467112319,
          -0.6987020651071857,
          -0.9275831716840472,
          -0.9378598764984553,
          -0.7286026851336763,
          -0.5948438061761696,
          -0.7054769090384637,
          -0.7452852827345638,
          0.5748851101695555,
          -0.5892005591331834,
          -0.84193955142704,
          -0.41563888586291253,
          -0.8853424956225802,
          -0.8561456954304105,
          -0.8502764822351386,
          0.27538580501132726,
          -0.8057514969543652,
          0.8983762309660527,
          -0.8669192275105896,
          0.5554441801106427,
          0.14636038291729203,
          -0.4210276730824976,
          0.2830530325578187,
          -0.7854250431673886,
          -0.9659007850210714,
          -0.9554025239480318,
          -0.22877805793585407,
          -0.39950815305252485,
          -0.9310151843746093,
          1.1730000139621026,
          0.6126856385199987,
          0.4455518297985413,
          -0.8973383088288472,
          0.43069343912386077,
          -0.2920441892378215,
          -0.5733991992060626,
          -0.7689173734644517,
          0.21081399212094867,
          0.1614257018562377,
          -0.14269628324697214,
          1.8278472470041307,
          -0.93599609194821,
          0.9153769898529545,
          -0.22628362963433862,
          -0.6507095014402904,
          -0.6154389160478773,
          -0.662208180774811,
          -0.5233832371285104,
          -0.35929394394966546,
          -0.8783815611938914,
          -0.0800759985387988,
          -0.5665995769029245,
          -0.8507318560914149,
          1.6516638991687476,
          -0.819919361604384,
          -0.843517520141827,
          -0.048569296405935256,
          -0.6264872019573922,
          -0.7289452132942519,
          -0.5992004419044838,
          -0.7008670733600734,
          -0.35773499648053664,
          -0.9873382503282545,
          -0.9770517897926184,
          -0.7014236905356039,
          -1.0318506142904338,
          -0.38164138627287364,
          -0.4943883745470368,
          -0.5635475702121128,
          -0.4676143268076616,
          -0.30884234694754653,
          -0.25546318243446975,
          -0.6368211071418941,
          -0.46066002884238716,
          1.3967380113259125,
          -0.6489878627787259,
          -0.291798619205609,
          1.427836016280873,
          -0.3735717719100463,
          -0.0791988023656965,
          0.46541691106515065,
          -0.7077319762041876,
          0.4673108302360408,
          -0.7582271496685802,
          0.7204194315926712,
          -0.09969752619258104,
          -0.4666286173182462,
          -0.879239851963157,
          0.36075026496989415,
          -0.5585831887008513,
          -0.7362505501742722,
          -0.3716996750577486,
          -0.04315440620833346,
          -0.7023986327700009,
          -0.7609666537208335,
          0.17086382954345233,
          -0.18912640456983004,
          -0.7171137110654554,
          -0.734528644881686,
          -0.9147644712447353,
          -1.1433620056137326,
          -0.35050115942339216,
          -0.644207085268919,
          -0.3016198030124199,
          -0.7277786231323183,
          0.39492083659521904,
          -1.159577550174516,
          -1.186693563386112,
          -0.29271940031331306,
          -0.024209866763783634,
          1.5273846830315778,
          -0.8829802327434904,
          0.7823957192307655,
          0.10673489104619394,
          3.076540544499403,
          -0.2365074121958309,
          -0.6001328421238975,
          2.2590724218463945,
          1.0145488109948848,
          -0.4124470418218514,
          -0.8032769446171641,
          -0.1973187540076985,
          -0.5780109868313619,
          -0.6737037577524972,
          -0.9725619295494391,
          -0.7450549462324094,
          -0.6697158126834666,
          -0.8572346562688546,
          -0.17716485804767107,
          -0.5264829893499396,
          -0.49096000941907225,
          -0.9310539464808953,
          -0.5232494846519806,
          1.9037152126548704,
          0.8843591909918782,
          0.5847550638088569,
          -0.10395510762014015,
          1.4838192918956226,
          1.015504861739924,
          -0.45707510080258323,
          1.6585636790834042,
          -0.7530386366765711,
          -0.1264423516505343,
          -0.5931153747124667,
          -0.31563411439577177,
          -0.7908781024116233,
          -0.7261338010411185,
          1.2519453163826144,
          -0.7345701263318641,
          -0.8743313573693767,
          -0.2226487399620673,
          -0.7432385176326992,
          -0.5767384503186631,
          -0.8758886598963304,
          -0.6042405664671235,
          -0.3083433141693323,
          0.21095285205410694,
          -1.0213015977411968,
          -0.561659642697352,
          -0.784215832336454,
          -0.5571252950021816,
          0.521358058250056,
          -0.6768365779472373,
          -0.837382033938708,
          -0.4991122869306465,
          -0.57697325806978,
          -0.29347052975116916,
          -0.8090944939322798,
          0.022248624289297473,
          -0.8060039033203581,
          -0.7118344121152818,
          -0.684135317098177,
          -0.8597577752008103,
          -0.03524657761527135,
          -0.4826209290445026,
          0.3456063831039808,
          2.9612903285074195,
          1.329897313455655,
          -0.08432385151506255,
          -0.1275562884884467,
          -0.5053329413435159,
          1.9275281378691504,
          -0.5322722854549001,
          -0.3554954853034246,
          -0.14730049488689556,
          -0.537340887789412,
          -0.54917499490601,
          -0.8728813265353833,
          -0.9250617944504274,
          -0.7760968230432971,
          -0.9561072902396157,
          -0.65697617301855,
          -0.9610065632676968,
          1.7731937146830512,
          1.2579067999254259,
          -0.9982983267249494,
          -0.6327109526235931,
          -0.5883550290582372,
          -0.8322215268153179,
          -0.008066664043249435,
          -0.8800784965040076,
          -0.5617549588090791,
          -0.21212757887972772,
          -0.9158616698712205,
          -0.6283036988815769,
          -0.7660412893288832,
          0.33047351405829667,
          -0.7797107771521005,
          -0.5326461045252756,
          -0.3550287823079477,
          -0.5160551847489802,
          -0.6275203205654867,
          -0.8569331581667922,
          -0.38951668760655306,
          -0.5169626201827214,
          -0.44223661642804546,
          -0.3284662791319138,
          -0.3364417321316433,
          2.111868755935572,
          -0.6930755052345212,
          -0.7066419387275862,
          -0.6539540667601816,
          -0.9057601929653601,
          -0.9287543596600804,
          -0.8137484078413942,
          -0.2458438668943587,
          -0.5934196653998253,
          -0.5357193689940463,
          -0.9569074781842707,
          -0.5507662379336948,
          0.04702579053055496,
          -0.7907405159566665,
          -1.3941339851366576,
          -0.7007562355818993,
          1.5555407241851704,
          0.28448386150288557,
          -0.7930331065569427,
          0.3925303309411608,
          0.8346002096546927,
          -0.5441600774463187,
          -0.8931881739560029,
          -0.6755044785515859,
          -0.5678581195408364,
          -0.8068298476294476,
          -0.3607148607489689,
          -1.0599685102046978,
          -0.7034118476466786,
          -0.6008684772845007,
          -0.6683470072964153,
          0.38959321497163646,
          -0.8868511451553207,
          0.13100363136246448,
          -0.7358795467375927,
          -0.8085080362930817,
          -0.23070647284723841,
          -0.5490762302927423,
          -0.2789071377655344,
          -0.4086270359002682,
          -0.8078324351645721,
          -0.7022908864359227,
          0.007785469375033799,
          -0.8978964694770807,
          -0.28000298016511493,
          -0.7724712732987967,
          -0.6245176455266604,
          1.4141656117519457,
          3.0743761957328832,
          -0.11283087444965283,
          -0.9802479680540486,
          -0.0807952490607082,
          0.9300473974653883,
          -0.8555641114007326,
          -0.45695785635783226,
          -0.04594348923001074,
          -0.787557352212464,
          -0.7117643925438831,
          -0.5746894518518808,
          -0.18514610780776283,
          -0.32066627561047073,
          -0.7986081201254848,
          -0.4318354688287096,
          -0.6752301426101072,
          -0.37210309292655647,
          1.0263800074994085,
          0.036205042794354526,
          1.1919223167443065,
          -0.4173913949153691,
          -0.6978248624998568,
          -0.08052167452310237,
          -0.7778869015785882,
          -0.7210807970160827,
          -0.8108862639096125,
          0.08327761481357485,
          -0.726599185308516,
          0.7110718159768824,
          -0.31997240554759737,
          0.7030589232202337,
          0.3259747662964549,
          -0.5663098836577719,
          -0.18679876839441628,
          0.2488339683430296,
          -0.20241203239363753,
          1.740909430981851,
          -0.7584604232584361,
          -0.7302570296893841,
          0.42507633842638426,
          -0.7766221186873444,
          -0.5394976341124289,
          -0.0286939651923116,
          0.3944024311514323,
          -0.06628489163795971,
          -0.227045064317299,
          -0.18900279179801635,
          -0.6409183735369616,
          -0.6504571029674814,
          -0.7853562814889407,
          0.02671573297741815,
          -0.6676704489004556,
          -0.6768685679904907,
          -0.40962523191782696,
          0.09166473478685418,
          -0.49200255665900794,
          0.6731790670837966,
          -0.8158260116099649,
          -0.7215848139430353,
          -0.8744131587096637,
          3.022971503413179,
          1.3297630457811285,
          -1.09579031252547,
          -0.5828671172416984,
          -0.532531949195766,
          -0.4909572940109901,
          1.4333997249929038,
          -0.8611795151906988,
          1.021936916924336,
          -0.5023921883245717,
          -0.5727598290704805,
          0.035116232411804685,
          1.6880486880262442,
          -0.5442203010884162,
          -0.6370891342059303,
          -0.710254412553348,
          -0.6271632902066211,
          -0.8022429897196866,
          -0.47058980136797374,
          -0.4043716753162012,
          -1.0528562725382475,
          -0.4638670232066301,
          -0.9610439708135394,
          0.0548078784052774,
          -1.0015965068583477,
          -0.8938377057399763,
          -0.37301806366147944,
          -0.6365816517076163,
          -0.8023523256162823,
          0.1847051718624064,
          -0.032302193138042154,
          0.19528542157711132,
          -1.0300077643781733,
          -0.3570374087177916,
          0.3485657950686647,
          0.26251592908240934,
          2.96236200163006,
          -0.8026230796858084,
          -0.932868355036728,
          0.09841726867014694,
          -0.7459729925409283,
          -0.1935333365514886,
          -0.49302368177847183,
          -0.7723849639098963,
          -0.06570991016423593,
          -0.24032657909335756,
          -1.0509430353091211,
          -0.6893661022847827,
          -0.28720336453014755,
          -0.8750407668999283,
          0.7922665372575174,
          -0.8046669055614313,
          -0.7607970935348604,
          -0.49097126077495246,
          -0.839049957822688,
          -0.5012093224826123,
          -0.9238467917828483,
          0.7601042469662926,
          -0.00018707948082931223,
          3.0900384767728437,
          0.6770717067711645,
          -0.08898123202838329,
          -0.8208061212131111,
          0.5291881410677163,
          -0.29951415314738494,
          -0.6330356283126091,
          -0.6884723486681069,
          -0.6024107252314005,
          -0.2830983143756805,
          0.4016234683611545,
          -1.1180346092423727,
          -0.6996300940148124,
          -0.7602443296236102,
          -0.544842161262536,
          -1.0442713556055787,
          0.9714118993627804,
          -0.3255989891302619,
          -0.8447211820669954,
          2.955089218786534,
          2.770090644569604,
          2.9145383780424354,
          0.5207473888096618,
          -0.5451449171383912,
          0.016676615585851626,
          -0.7338871142919602,
          -0.13631195923922534,
          -0.2881268503647995,
          0.15416332016772516,
          0.3019763334534347,
          -0.7738211776843926,
          -0.3905339466555321,
          -0.11868145205135784,
          -0.7188876583475543,
          -0.7803330708152195,
          -0.8567622835884483,
          -0.9369258889831096,
          -0.06840998112138559,
          0.6463066272832604,
          -0.26436130741271263,
          0.3305378326816403,
          -0.20268365197615282,
          -0.5227203750350125,
          0.15855140539315027,
          0.2709884312097309,
          0.35654956054870834,
          0.32744436845366687,
          -0.13629148530826185,
          -0.38961508607861817,
          0.10241112137142626,
          -0.832165204220094,
          -0.6843437410752673,
          -0.5427227786496741,
          -0.7598371541352978,
          -0.8595155720070202,
          -0.7385733854437195,
          -0.8268745241312283,
          -0.8702889345170686,
          -0.7141873751144862,
          -0.5734536300409914,
          -0.8439563235967187,
          -0.5400083686446633,
          -0.3345501231735914,
          -0.0482940128345791,
          0.23273294236553485,
          0.4961578898359192,
          -1.0731938455140857,
          0.10515012694708535,
          1.9526274215147204,
          -0.2007100209855223,
          -0.07881946897235963,
          -0.0477931703468244,
          -0.37375501292987645,
          -0.5493067876655111,
          0.002729351518928049,
          -0.4865591125450316,
          0.05678052588678646,
          -0.9024532197254831,
          1.2345774358254797,
          0.4253528219664754,
          -0.5272106778714708,
          0.25316521306507456,
          -0.9098775834342293,
          0.4016545701837711,
          4.467161413040574,
          0.171408752115186,
          0.6960513656729943,
          0.26592769448032033,
          -0.1303590978953978,
          -0.5792855438463825,
          0.4169802805610949,
          -0.7188295695076702,
          0.32659904532912093,
          2.3477371614221734,
          2.1504265735012558,
          0.4860949909646767,
          -0.8463412798722864,
          0.44247449713592163,
          2.349348775235468,
          0.24800171853271746,
          -0.608183868903201,
          0.29276622417691434,
          0.3423226162690064,
          1.4953712404074422,
          1.7228410574640778,
          3.5344700290162634,
          1.680753282652705,
          1.8393928352456421,
          0.12380079359675929,
          0.10074095238060753,
          1.9069579848998592,
          0.16876031502742891,
          -0.5736727202868065,
          -0.41166477861200373,
          1.0871279111526473,
          -0.6176087452789429,
          -0.21698716289173323,
          -0.8782378231844598,
          -1.0532068622604323,
          -0.8068564709518717,
          -0.966060198162315,
          -0.7038691663611449,
          -0.2525658559133403,
          0.42347200999104284,
          -0.6623231414666292,
          0.008460072484871399,
          -0.8554004685581145,
          -0.5136664321914755,
          -0.7441518367604741,
          1.9134308068426062,
          1.1106700201634219,
          0.702364925613404,
          0.0771038628737326,
          -0.05744260172362261,
          1.5854145694743451,
          -0.7110045866481313,
          -0.42828198317440114,
          3.4758965009956895,
          3.4962283771008686,
          3.8852396904778668,
          3.4776890989345213,
          1.0558162482803866,
          2.652436882130493,
          3.717158771642726,
          2.798514140059427,
          2.247941976770845,
          0.16815160341493904,
          3.366199070379957,
          -0.7443489862175967,
          1.793282436944071,
          2.6070343036782355,
          0.667154129247141,
          1.6287745575975099,
          0.005308076303316286,
          0.2037945176310873,
          1.5115028520527123,
          0.3376373695489573,
          -0.45382222445246656,
          -0.7652277478994985,
          2.4847211297034053,
          1.966767690816629,
          0.33668294417954286,
          1.6332646740302563,
          -0.45633390069667246,
          2.646104619357327,
          -0.035152324010186184,
          0.31282769211446265,
          1.9120168132420512,
          -0.41173349385017327,
          3.1792024053019166,
          -0.24865951488985763,
          1.9282617048575699,
          1.4900643677389098,
          -0.19369417998005764,
          0.6336764728268417,
          0.7986685581544254,
          0.38416063820821267,
          -0.500976916957344,
          -0.7386025509176968,
          -0.44944444687628216,
          -0.10079581467748805,
          -0.6006370341653323,
          0.9717587936881223,
          2.2224356402294023,
          0.011197480057826382,
          0.6990829397662001,
          0.8715363561508087,
          0.8575999570162866,
          2.708022588663547,
          -0.11993987998292162,
          0.3955038108238478,
          -0.31076125639921126,
          -0.536513962148432,
          2.568043821060355,
          1.2071090218057978,
          1.4216901166362486,
          0.3717514417591826,
          0.2739436912769277,
          -0.8271842846917339,
          -0.627615509121486,
          -0.8308539366382632,
          -0.047094411402203835,
          1.3736846378998924,
          1.7763193833918396,
          1.261661026210448,
          -0.30109318444276784,
          0.7116986075589261,
          -0.1556385729445,
          1.0238561777222617,
          0.18606081332381214,
          -0.1773426879236631,
          -0.2710367076193392,
          1.7125496916354963,
          1.4476303729756936,
          0.7815461961614414,
          -0.32029247164620434,
          -0.5338965943473283,
          0.6288600764207026,
          0.33323820832359896,
          0.840268320282424,
          1.111376503514774,
          2.0943689201366973,
          -0.4361124767071904,
          0.36724156839137034,
          0.20402185666093275,
          -0.40427447379754483,
          1.6265981021241762,
          1.64912725547466,
          1.2581843262274193,
          -0.7266242374239876,
          -0.5288118050787187,
          -0.47728966364970216,
          1.5174232717862561,
          -1.1702674466021363,
          0.027680700307530663,
          -0.4378683650375753,
          0.829837890285784,
          -0.7629854653856455,
          -0.9675182266998368,
          -0.7555100439240996,
          0.2608262675352326,
          0.8247023444661461,
          -0.6750514004657846,
          -0.796096949960293,
          0.27308044380661917,
          -0.44492722468234397,
          -0.5716037922645139,
          1.8653125950102056,
          -0.18234511773805406,
          0.085713271691688,
          2.1064405250625606,
          1.8203517544783727,
          0.31811318024342583,
          -0.11826106408261032,
          -0.10653040883259574,
          -0.18079157585201744,
          -0.3248077147179284,
          -0.2760093113448892,
          0.6381268612603906,
          0.9498217966863626,
          -0.24439169902604588,
          1.7340479718180017,
          0.6848940998652402,
          -0.5995594556075236,
          1.6005343343290417,
          0.692654734488689,
          3.1520737625649233,
          0.27539443728880597,
          -0.6181654125305394,
          0.2812960854109462,
          2.3751733984143737,
          0.2300335443942208,
          -0.48232407443493347,
          -0.9507086794658459,
          1.579045596716852,
          0.034999824436891945,
          -0.4584571548719395,
          -0.5361879016057383,
          0.6480026535934602,
          -0.11405604857796468,
          0.3488169699898684,
          1.6261254628745996,
          2.3222857765492217,
          -0.7792351937798659,
          -0.9515095757640575,
          -0.7067709002343925,
          -0.827271107044587,
          -0.7389913878850464,
          -0.8108101035833453,
          -0.675503502025835,
          1.8100117245313285,
          0.8716962067879376,
          -0.41704748715557516,
          1.0406370157243199,
          -0.8486881422554807,
          -0.40029252677393795,
          -0.15677278675030074,
          -0.8421249185162245,
          -0.7374617722634109,
          0.6703699116765662,
          0.17706723897850069,
          -0.34672397776992403,
          1.542205068348097,
          -0.37477192283264116,
          -0.779592372920593,
          0.373135144235466,
          -0.4297594267188051,
          0.8371535201344941,
          0.9742121117066281,
          0.9888989269776801,
          -0.1317135709765936,
          -0.550477692098086,
          -0.5734684167306929,
          -0.3467555878133466,
          -0.6097889680944751,
          0.44710595700766464,
          -0.44159304644467107,
          -1.038042345015894,
          -0.44414193656042866,
          0.4520796324681121,
          -0.6010307846835645,
          -0.7544914059679133,
          -0.9893767410495244,
          0.12517466507321284,
          -0.8417147190506903,
          0.023413606245882557,
          -0.3954700451197714,
          -0.8627471799776522,
          -0.3846185988463436,
          -0.4968605611105624,
          0.47629820295852815,
          -0.09434144527953084,
          -0.4424237000728239,
          -0.4216045497421745,
          -0.42137706916752327,
          0.395324482530144
         ],
         "xaxis": "x",
         "y": [
          0.5755197324834608,
          -1.0512436276662107,
          -0.6441128000746816,
          0.9126919829372967,
          0.369812693047684,
          -0.35080432145806345,
          -2.080103897781289,
          -2.1754433863141247,
          -1.9899528140179727,
          1.3958315653199276,
          1.8115223595268704,
          0.17475051702598088,
          0.16797107866769845,
          -0.7433956359627207,
          1.4467767210221296,
          -0.6994669222660855,
          -0.12719391512052278,
          -0.9119191459696074,
          0.32411377710455025,
          1.1029265153498717,
          0.029657646609115174,
          -0.4480273657688557,
          -0.8421849814649998,
          -0.4310512481088419,
          -0.5263174987725677,
          -0.4660460947908061,
          -0.9595499840939367,
          0.7613470813993419,
          -0.4537404775933084,
          0.6670015739076017,
          -0.3427874468427769,
          -1.1433051138520818,
          0.179076287060557,
          0.042646554591629464,
          1.2064014597071666,
          -0.9157856848576861,
          0.563329953432203,
          3.1093846249296004,
          -0.10858129312115353,
          -0.02485180907338562,
          1.0190023425092147,
          0.3332964867701265,
          0.9348681233305821,
          -0.16700934266638398,
          0.27121158554163277,
          0.7662894535483993,
          0.3171962743276754,
          0.03217328428102534,
          0.5950613527383107,
          -1.058320060035761,
          1.579917202742629,
          -0.6183363402159865,
          -0.45218884276522747,
          -0.30804303779711856,
          -0.7879048317721696,
          -0.8397030548725182,
          -0.46250370504879396,
          0.18269211635176666,
          -0.7003062962687341,
          -0.7571070562765646,
          -0.46434914703633534,
          2.2018598548297237,
          2.5877979433984306,
          -0.7384021656293204,
          0.3614004282749766,
          -0.23733260968849096,
          -0.0969773807964375,
          -1.1784365545456537,
          1.905953870757288,
          -1.4605549893592857,
          -0.09336854563327798,
          0.42985165490748584,
          0.9901228241834078,
          0.023631309924277682,
          0.1116070687088043,
          0.311286074209762,
          -0.617279489045714,
          0.14764628164795254,
          -0.6358940103919397,
          -0.6156074947482472,
          -0.15320451747956457,
          0.041858328810986015,
          -0.7316147508996491,
          -0.21541463788338536,
          -1.0585205920214789,
          -0.148815390506586,
          -0.8312734318320808,
          -0.24548936071695693,
          -0.803112831337069,
          -0.5262987119525993,
          1.0546367423204386,
          0.2297544890558182,
          0.6672399574235341,
          0.4028021572243053,
          -0.03205651626770236,
          0.3434183747291981,
          -0.21021690069358992,
          -1.0915974073601067,
          0.723880117223778,
          0.4977812707993736,
          0.16497325664205637,
          0.8862708260218567,
          2.627069598974927,
          -0.49019260411728965,
          0.34317936034641217,
          0.3356426078748119,
          0.7172940841675944,
          0.25121662860433724,
          -0.7493890409081921,
          -0.771387869752098,
          0.013491870426187243,
          -1.0909487673958276,
          -2.002791541735934,
          -0.379015063452344,
          3.390535210815776,
          0.5557435268163099,
          1.7960499751303598,
          -0.3378070556007961,
          -0.018489183326741668,
          -1.7180613720333553,
          -0.09462946855281332,
          -0.7113393272446045,
          -0.32864767030411196,
          -0.3644642573911217,
          -0.7661546963644844,
          -0.7142301823732173,
          -0.2804267716975385,
          -0.37687558082516903,
          -0.7879379074082417,
          0.4385904662312645,
          1.1108932644348823,
          -0.8657255131677772,
          0.4726552227718329,
          -0.46796851791862315,
          -0.7151468312555133,
          -0.2114599732965556,
          3.1532164290366564,
          -1.1575539984504022,
          -0.615129768551341,
          0.7445847124374239,
          0.046486035960779444,
          0.19034422926792838,
          1.1134006686892925,
          -0.26541720892935966,
          3.3797687608565568,
          -1.2378317790314528,
          0.9530038515413592,
          3.374413038145917,
          -0.15120908107542583,
          0.39179799655092273,
          1.3456662762622258,
          0.08239757323259471,
          0.07592960179836093,
          0.5359323711802884,
          0.10070118390496624,
          -0.5624700219285386,
          -0.702530273446783,
          0.3716482990583699,
          0.9951201854323876,
          -0.03358228614015904,
          -1.1636865679799784,
          -0.8906181107790258,
          0.44261534633567995,
          -0.3760313746981331,
          0.6257412037549113,
          2.3599574335759144,
          0.511400255474898,
          1.0322141622667422,
          1.7920319689507747,
          0.36097028253316643,
          0.6667261105353441,
          -1.2421987284013787,
          -0.7494277465790794,
          -0.7127572256428728,
          -0.799092340681657,
          -0.1411890679790305,
          -1.012844507798158,
          0.5255976782001696,
          -1.0751955886839515,
          -0.635957129746365,
          -0.42295259236765426,
          0.14703361372445917,
          -0.5407374963441864,
          1.086654402265983,
          0.24805145223243175,
          -0.8229268249698057,
          -0.2575198099931838,
          -1.7048132443153878,
          1.0795990060246752,
          0.6272412927578034,
          1.6557062011278936,
          -0.06789556142992526,
          0.006425777588224116,
          0.3178134463207873,
          0.3051320431044311,
          -0.7073890672961476,
          -0.9067960603304441,
          -1.7275196611416028,
          0.14233420158715726,
          -0.8443784821646545,
          -0.4618585399948274,
          -1.0543390023999106,
          -0.7662303246616372,
          -1.9228324095917484,
          -1.078668576620423,
          -0.20302032376658508,
          -0.869072603500227,
          2.0269050515445457,
          -3.106622331127527,
          -0.02032539769798494,
          0.6384831733724033,
          -1.1014599690125237,
          1.9217068967903566,
          -0.34853533669835907,
          -2.2480483257300246,
          -0.6261051709419145,
          -1.2169255970796273,
          0.015780772325541773,
          0.1531919267467459,
          0.048979914570743834,
          -0.2900873687918272,
          -0.1194005888040265,
          -0.7532158031654445,
          1.8767454476845797,
          0.6914835427409596,
          -0.16460494559949826,
          0.7372396273887654,
          0.2639097828898501,
          2.2579701659935547,
          2.494137512833947,
          -0.2575383646516874,
          1.1756340864269954,
          -1.304823074607829,
          -0.838640729842392,
          -1.0197648854697625,
          0.4232170121482218,
          1.1738075556917047,
          0.9753834335228679,
          -1.3583020099141558,
          0.6313248501073099,
          0.1368084373757135,
          -1.0681973737619685,
          0.15814032137181963,
          -0.09265642049790372,
          2.5917408983333483,
          0.2737992603631974,
          0.8358793697136089,
          0.9295481600026219,
          0.16597186579675713,
          0.06259073020167204,
          1.7203495465864662,
          -0.11703369301552598,
          -0.9794441664884465,
          0.22113715766427353,
          2.1862190339679493,
          1.7080899031980776,
          0.5208965714411021,
          1.0073999524055752,
          0.45419822734608245,
          0.7387315757357542,
          0.6047653418637072,
          -0.19901385634211047,
          -0.7223545102709772,
          -0.4269489473682706,
          0.05297648042345438,
          -0.5560652960299675,
          -1.4087861771388563,
          2.4970161372266255,
          -0.28131581240214837,
          -0.9458620852631847,
          -0.2228047782176689,
          -0.831357613929978,
          -0.6276270861789227,
          -0.6955264121165423,
          0.2732263027735695,
          -0.8905342980663048,
          0.20932718792715055,
          -2.0974316861764404,
          -1.0508637550515283,
          0.9422570583938129,
          0.9436297190360644,
          0.2509251284082344,
          -1.6847891097257819,
          -0.60839762544103,
          -0.8893136089838914,
          0.43385874250337747,
          -0.08220111315415904,
          -1.3540045511382512,
          -0.9000616928174924,
          -0.40186979224008296,
          -1.0907310198564877,
          0.9592128704507493,
          0.015223317773691408,
          -0.8787076613579416,
          -0.017856275615509325,
          0.4868197648661545,
          1.2849715528636192,
          -0.0066642566432444685,
          -0.5249542682453123,
          -0.18362659674398707,
          -0.7652447672346482,
          -0.2607403503052577,
          -0.8257753128593778,
          0.7355359194011116,
          2.342809951468971,
          0.7988031986426053,
          1.0170531073896414,
          -0.3664787739655236,
          0.38676700201791087,
          0.3830191852283862,
          0.2764105660502267,
          -0.5022061688527876,
          -2.2040520061392463,
          -0.28654867156263747,
          -0.4367831912621534,
          0.5179326528545427,
          -0.8620983937122181,
          -0.40827955718724074,
          -1.4927385555837416,
          -0.2566772620345604,
          1.4203654043670235,
          0.5365090044783639,
          -1.8475318255568336,
          -0.9150555698763241,
          0.66163490222387,
          0.48566635269616854,
          -1.6076391243234507,
          -0.6858972390459256,
          -0.4183556729451266,
          -0.4247794814654094,
          -0.3340675895550513,
          1.7677656774953172,
          1.1737957467614744,
          0.8700177826104374,
          -0.4302364274187469,
          1.0817701317037718,
          0.16780567791196027,
          0.11852265986362219,
          0.8897367666433198,
          -1.561855049601333,
          -0.8006450859155764,
          -0.1533634691892666,
          0.4198713630001319,
          1.0976511339873203,
          0.09891584076956111,
          -0.8952589139817844,
          -0.18793383536142622,
          -0.09798621528935215,
          2.2430702012135755,
          0.7842085810528492,
          1.1360399342622203,
          0.3626317683424453,
          0.3933115224048114,
          -0.14165767782842303,
          -0.4300105910202003,
          -0.02224585495377947,
          0.49558805721818283,
          0.5524343831581485,
          0.58471226674684,
          0.30010375013864643,
          -0.7285571946619316,
          -0.08121335569582977,
          -0.7970974309588821,
          -1.22079000784696,
          -1.0607732883316632,
          -0.10744697172237974,
          -0.849452939231049,
          -0.43199210965759255,
          0.5243663080897885,
          0.2822928753350729,
          1.0629135789905741,
          -0.476447754700573,
          -0.2659047625219071,
          0.2471921577901675,
          -0.08596381677072501,
          -1.0651251518899854,
          0.03085141388748347,
          -0.9719446965512735,
          -0.331870729002682,
          -1.2155100538543704,
          -0.28543267202115125,
          -1.0275893266865999,
          -1.221025645678692,
          -0.0403487916172656,
          0.06913195641756002,
          0.045910275174180004,
          -0.5761152402343404,
          0.16185819040290791,
          0.848469888641412,
          -0.30026166267705523,
          -0.5977075358293084,
          1.815778103890978,
          0.771118035543249,
          -1.0547834144634511,
          -2.0740877705795775,
          -1.8798082788116282,
          -0.2549834075553541,
          -0.3978704293658483,
          0.021991655895172588,
          -0.7164523436491067,
          -0.31951306874306445,
          0.5396184301111744,
          -0.5252760279689045,
          -0.7890559302103937,
          -0.6764682787007459,
          -0.2644216428498597,
          -0.6829141022504002,
          0.19200820070122873,
          0.8906785882135786,
          0.5905672299083622,
          -1.415690328338687,
          -0.2221748237084732,
          0.035549412506468765,
          1.2853883527357168,
          0.6268917396688097,
          0.254225527673404,
          -0.6455122782645971,
          -1.2041291126133866,
          0.6869258630718188,
          0.2719142996003414,
          -0.5817539453732723,
          -0.9368593544214534,
          -0.10573281065694001,
          0.42644811128207416,
          0.18320151545304128,
          0.9731670651364897,
          -0.9703044171175258,
          -0.2508934083649197,
          -1.0042677529068536,
          0.03888242484877241,
          0.2703345265647832,
          0.07341152994291378,
          -0.4771177673295162,
          -0.5282155817401072,
          0.5381570562518185,
          0.15200421317325374,
          -0.22015029980729564,
          -0.48304435243284505,
          1.5552098229759346,
          1.2780237032891493,
          -1.589445044450494,
          0.406710937384079,
          -1.9562994002356233,
          2.2941824842460212,
          0.13251557261491745,
          -0.3438132571660278,
          0.8545237655292585,
          0.11083665220385236,
          0.0018476538193080148,
          3.8106407314293715,
          -1.9787085596377718,
          2.437070908651427,
          -0.48641252916505756,
          1.4045701709501555,
          -0.6457882073367458,
          -0.624462848188458,
          -0.06554569553441368,
          0.5378518323046744,
          0.0630548485534989,
          0.04691095054979929,
          0.8946594853072088,
          2.497597550695739,
          -1.1675641093208249,
          -0.46074220054623927,
          -0.8264645178170986,
          0.8823113467404469,
          0.8328179407641706,
          0.9820163980038713,
          0.5065813485290404,
          0.17939855981557734,
          0.7832667116768766,
          -0.41878180556208244,
          0.2017958985135216,
          0.9753825749372345,
          0.4184122590905899,
          0.2608662288784798,
          -0.599144674829778,
          -0.5361890147776585,
          -0.15392704226163556,
          0.6331459088091744,
          0.28302509373832224,
          -0.666152989408797,
          1.0437815927946887,
          -0.31741793037632254,
          1.0589191466413923,
          0.7160537352405942,
          0.21059249308783068,
          0.9640529071167974,
          1.1976513110294051,
          1.2994232348662238,
          -0.016242644334455523,
          0.5497567591411755,
          0.5037652250238599,
          0.008833668834456002,
          -0.01158857264620325,
          -1.2151729115430345,
          0.6008523853213129,
          0.17297159856940128,
          -0.1342947711175199,
          0.29124454448321985,
          0.9949308070156575,
          0.7322711730657671,
          -2.03711537902463,
          2.630858040960822,
          -0.11385630671203938,
          2.67731105796404,
          1.7231485137607838,
          2.165263082511179,
          1.2552694414741097,
          0.30744808764630543,
          -0.5820117006212914,
          -0.6822525828442835,
          -0.4563958582706258,
          0.539576560804373,
          0.5459915097487009,
          -0.18820510984902353,
          -0.7981300752048238,
          -0.1694355614709688,
          0.17092473781164635,
          -0.7757509926253502,
          -0.20601972582604536,
          -1.1309690088775777,
          -0.7621965446734801,
          -0.6267814579748535,
          -0.9010056620137924,
          1.9880097313100915,
          -0.20267290582028807,
          -2.2510711333772018,
          -0.9423770039530216,
          -0.23646221261688116,
          -0.3147913132183927,
          0.17163593564762614,
          -0.6271287944099987,
          -0.335332541774681,
          0.09282541838001196,
          -1.0656176547652996,
          -0.26087908305479457,
          0.5443078412336667,
          0.6421641897984735,
          0.15875266326190077,
          -0.07858632695253098,
          0.5082505612653598,
          0.8148335099289903,
          -0.3748440171415884,
          -1.038707455230545,
          0.02838027229283992,
          -0.5615965038886644,
          0.9153545773775521,
          -0.1446225816206394,
          -0.7750459940339811,
          -0.45065316864476346,
          -0.9011868194663115,
          -0.9992477655144492,
          0.02850662822950324,
          -0.9614615601085296,
          -0.632339449536502,
          0.9855649313078046,
          1.5546965510743163,
          -1.1995488734625988,
          0.6814620139598012,
          -0.5297850449875952,
          -0.008502466535501841,
          -0.802628951055299,
          -2.3745693852310983,
          -0.9786332124957613,
          -0.9606457176283121,
          -0.662224861332111,
          -0.8392227427670652,
          -0.8261433606610671,
          1.0715093054642921,
          0.18873021252392108,
          -1.8046401229568538,
          -1.5635057499304068,
          -1.075829769096199,
          -0.5530498869929699,
          -0.9575462350279936,
          2.5390902327723315,
          -0.7162678453210161,
          -1.0007005199259953,
          -0.6684813232036146,
          0.4162530944852513,
          -0.7157122367417103,
          -0.5698262080036646,
          -0.8662409765095497,
          0.23758291851371388,
          0.9806125312278821,
          -1.2168877328524133,
          -0.5921319413660815,
          -0.41698759186258644,
          -2.020678261809762,
          -0.8218650363120633,
          0.25852905571029705,
          0.13776358261002333,
          -0.6691196052438234,
          0.041577446235411854,
          0.9522556732216746,
          -0.9709794182954273,
          -0.7516628985215859,
          0.21043664026564957,
          -1.1176995452007439,
          0.38464259170040593,
          1.635800345749397,
          -1.3554895090193313,
          0.22134173588149086,
          0.022119160406064948,
          -0.3615912440944253,
          -1.4119042693590822,
          0.22512235043489243,
          0.1872910241613665,
          -0.8936922839619111,
          -0.7427489061405008,
          -0.3094038662555383,
          -0.47335078041894635,
          -0.5663013978340226,
          -1.9775771493664607,
          0.46981655183193644,
          2.1164635778381187,
          1.474219015417762,
          1.8151804543497319,
          1.513333472923921,
          0.985339740297503,
          1.2174405355130844,
          2.0387244655734604,
          1.1425173259777943,
          1.2543300899583998,
          -0.769895359071522,
          -1.8494660513576324,
          0.523363833686648,
          -0.5852995773614137,
          -0.14970812425879118,
          -0.4896122507637968,
          0.30199011118899843,
          0.23808873061307642,
          0.9392184588728613,
          -0.19583355570970334,
          1.6085619207247064,
          1.1213933020676548,
          -0.0488825518117059,
          -0.585383209841353,
          -0.2926729933237742,
          2.228029529128434,
          2.571821808323827,
          1.0837453746040766,
          -0.33302692478474216,
          -0.327550832690815,
          -0.46780961261121645,
          0.03902450174674426,
          -0.3107685005945097,
          0.8898597166266757,
          0.23670543056765575,
          -0.6601634409144427,
          -0.5946149891212116,
          0.6289027269771678,
          -0.9040886109229398,
          -0.5497787950123828,
          -0.5252034249535924,
          -0.22064108532729015,
          -0.01869560036988066,
          -0.2871463508686822,
          0.019766640855021594,
          -1.0850342206260197,
          0.6817525344706887,
          0.212012805563397,
          -0.45914971698092216,
          -0.03690126131065816,
          -1.2138157310516182,
          1.8873662176903536,
          0.7143613105026857,
          -0.7182027647609094,
          -0.45307858521658645,
          0.3804130001831582,
          0.11345118051648316,
          -0.1512006721274437,
          -0.7946652344331966,
          -0.4456390024440239,
          -0.31307705181599,
          -0.4706227850004257,
          0.0872570550002815,
          -0.7184944722943926,
          -0.039656677268700286,
          -0.12574398452077534,
          -0.3113054848296194,
          -0.06970242548099732,
          -0.24183214011038032,
          0.7573351312072752,
          -0.19996917592148378,
          0.548296515870815,
          -0.9293498429550024,
          -0.10662240262544605,
          -0.8962808717922203,
          -0.5909085755159245,
          0.2788492518698784,
          -0.9507282951722023,
          -1.211792086169534,
          -1.5917512838068018,
          -0.3134796559724907,
          -0.7124261729462832,
          -0.4370268685694798,
          -0.5807402157716163,
          -1.0785648566210946,
          -1.016306899556137,
          -0.9742112405604268,
          -0.5282796318557569,
          -0.8064189002808988,
          0.5624140186881286,
          -0.4774996788670533,
          -0.02093711141361938,
          3.121428136587502,
          -0.5469396282614691,
          -0.27486822427111185,
          -0.4174975173305219,
          0.40933893994765375,
          -1.3308980183849313,
          2.0879413885537907,
          1.3806483683178405,
          -0.33147825120483704,
          -0.024979534300506003,
          0.6221178062230761,
          0.10160751411649413,
          1.7778708255789843,
          2.7276082252813065,
          -0.10882791565729251,
          0.12980959525812008,
          -0.9332303609699913,
          -0.867191505298354,
          -0.8000661248890147,
          -0.8077632350290764,
          -0.8984891576161845,
          -0.7937861438410138,
          -0.888065328236876,
          2.9156996880776345,
          -0.49108370317702504,
          -0.3895913646001338,
          0.8653426610371104,
          1.1676836333850118,
          0.011894651218976532,
          -0.04006707268947549,
          3.0807393148834596,
          -0.7567737296775444,
          1.9225953420216813,
          -0.6005191840231855,
          0.42660898706444184,
          -0.6901783333613105,
          1.0055593711459572,
          1.545867602232857,
          1.1052565052380827,
          0.8316176357357415,
          -1.1140410751202177,
          -1.360833872782003,
          -0.17654286344012998,
          -0.3984739998824225,
          0.06256150119522538,
          0.11927672644533273,
          -1.328331203714385,
          -1.2871291470704276,
          -0.4217433313772468,
          0.9070799195243477,
          2.677442298885755,
          2.7571727489019384,
          1.5181798394400114,
          -0.11314853290429412,
          -0.09558877673343961,
          -1.6536571495277987,
          -1.603586251325589,
          0.3502344098062618,
          0.07192592021715538,
          -0.6960822535006775,
          0.23300594809800818,
          -0.20086649139045626,
          -0.4741629313273529,
          2.9271392032342405,
          -0.3628095256618833,
          -0.6981292409202693,
          -0.08680012855122472,
          0.061400321247169244,
          0.8587323799250677,
          -0.48788388081449285,
          0.3539437320060012,
          -0.7562069257362625,
          -0.6080735996692921,
          -0.2649366865994884,
          -0.628934779423708,
          -0.2502071810227126,
          0.4804615203233183,
          -0.8968089025528143,
          -0.35124164291171556,
          -0.8226043304870654,
          -0.9289080055302099,
          -0.31157495792697865,
          -0.660891069071816,
          0.7625758372265308,
          1.445114595657779,
          0.9500686450319573,
          1.531661208696201,
          -0.33768072421887696,
          0.881907464393025,
          -1.6906486747927925,
          0.6899214205683954,
          1.0745280903363714,
          -0.8357698344585589,
          0.30554872430177576,
          -0.28010173055466525,
          3.4339864714345216,
          0.02720391720270343,
          -0.6493699543759541,
          -1.812629226813807,
          0.19871735035095212,
          1.6812556815648365,
          -0.5839030285131959,
          -0.768980534336576,
          0.7675909798563274,
          -0.5922853800172418,
          1.1491398449711472,
          -0.25077791876224,
          -0.859015392821509
         ],
         "yaxis": "y"
        }
       ],
       "layout": {
        "coloraxis": {
         "colorbar": {
          "title": {
           "text": "ACT Composite 75th percentile"
          }
         },
         "colorscale": [
          [
           0,
           "#0d0887"
          ],
          [
           0.1111111111111111,
           "#46039f"
          ],
          [
           0.2222222222222222,
           "#7201a8"
          ],
          [
           0.3333333333333333,
           "#9c179e"
          ],
          [
           0.4444444444444444,
           "#bd3786"
          ],
          [
           0.5555555555555556,
           "#d8576b"
          ],
          [
           0.6666666666666666,
           "#ed7953"
          ],
          [
           0.7777777777777778,
           "#fb9f3a"
          ],
          [
           0.8888888888888888,
           "#fdca26"
          ],
          [
           1,
           "#f0f921"
          ]
         ]
        },
        "legend": {
         "tracegroupgap": 0
        },
        "template": {
         "data": {
          "bar": [
           {
            "error_x": {
             "color": "#2a3f5f"
            },
            "error_y": {
             "color": "#2a3f5f"
            },
            "marker": {
             "line": {
              "color": "#E5ECF6",
              "width": 0.5
             },
             "pattern": {
              "fillmode": "overlay",
              "size": 10,
              "solidity": 0.2
             }
            },
            "type": "bar"
           }
          ],
          "barpolar": [
           {
            "marker": {
             "line": {
              "color": "#E5ECF6",
              "width": 0.5
             },
             "pattern": {
              "fillmode": "overlay",
              "size": 10,
              "solidity": 0.2
             }
            },
            "type": "barpolar"
           }
          ],
          "carpet": [
           {
            "aaxis": {
             "endlinecolor": "#2a3f5f",
             "gridcolor": "white",
             "linecolor": "white",
             "minorgridcolor": "white",
             "startlinecolor": "#2a3f5f"
            },
            "baxis": {
             "endlinecolor": "#2a3f5f",
             "gridcolor": "white",
             "linecolor": "white",
             "minorgridcolor": "white",
             "startlinecolor": "#2a3f5f"
            },
            "type": "carpet"
           }
          ],
          "choropleth": [
           {
            "colorbar": {
             "outlinewidth": 0,
             "ticks": ""
            },
            "type": "choropleth"
           }
          ],
          "contour": [
           {
            "colorbar": {
             "outlinewidth": 0,
             "ticks": ""
            },
            "colorscale": [
             [
              0,
              "#0d0887"
             ],
             [
              0.1111111111111111,
              "#46039f"
             ],
             [
              0.2222222222222222,
              "#7201a8"
             ],
             [
              0.3333333333333333,
              "#9c179e"
             ],
             [
              0.4444444444444444,
              "#bd3786"
             ],
             [
              0.5555555555555556,
              "#d8576b"
             ],
             [
              0.6666666666666666,
              "#ed7953"
             ],
             [
              0.7777777777777778,
              "#fb9f3a"
             ],
             [
              0.8888888888888888,
              "#fdca26"
             ],
             [
              1,
              "#f0f921"
             ]
            ],
            "type": "contour"
           }
          ],
          "contourcarpet": [
           {
            "colorbar": {
             "outlinewidth": 0,
             "ticks": ""
            },
            "type": "contourcarpet"
           }
          ],
          "heatmap": [
           {
            "colorbar": {
             "outlinewidth": 0,
             "ticks": ""
            },
            "colorscale": [
             [
              0,
              "#0d0887"
             ],
             [
              0.1111111111111111,
              "#46039f"
             ],
             [
              0.2222222222222222,
              "#7201a8"
             ],
             [
              0.3333333333333333,
              "#9c179e"
             ],
             [
              0.4444444444444444,
              "#bd3786"
             ],
             [
              0.5555555555555556,
              "#d8576b"
             ],
             [
              0.6666666666666666,
              "#ed7953"
             ],
             [
              0.7777777777777778,
              "#fb9f3a"
             ],
             [
              0.8888888888888888,
              "#fdca26"
             ],
             [
              1,
              "#f0f921"
             ]
            ],
            "type": "heatmap"
           }
          ],
          "heatmapgl": [
           {
            "colorbar": {
             "outlinewidth": 0,
             "ticks": ""
            },
            "colorscale": [
             [
              0,
              "#0d0887"
             ],
             [
              0.1111111111111111,
              "#46039f"
             ],
             [
              0.2222222222222222,
              "#7201a8"
             ],
             [
              0.3333333333333333,
              "#9c179e"
             ],
             [
              0.4444444444444444,
              "#bd3786"
             ],
             [
              0.5555555555555556,
              "#d8576b"
             ],
             [
              0.6666666666666666,
              "#ed7953"
             ],
             [
              0.7777777777777778,
              "#fb9f3a"
             ],
             [
              0.8888888888888888,
              "#fdca26"
             ],
             [
              1,
              "#f0f921"
             ]
            ],
            "type": "heatmapgl"
           }
          ],
          "histogram": [
           {
            "marker": {
             "pattern": {
              "fillmode": "overlay",
              "size": 10,
              "solidity": 0.2
             }
            },
            "type": "histogram"
           }
          ],
          "histogram2d": [
           {
            "colorbar": {
             "outlinewidth": 0,
             "ticks": ""
            },
            "colorscale": [
             [
              0,
              "#0d0887"
             ],
             [
              0.1111111111111111,
              "#46039f"
             ],
             [
              0.2222222222222222,
              "#7201a8"
             ],
             [
              0.3333333333333333,
              "#9c179e"
             ],
             [
              0.4444444444444444,
              "#bd3786"
             ],
             [
              0.5555555555555556,
              "#d8576b"
             ],
             [
              0.6666666666666666,
              "#ed7953"
             ],
             [
              0.7777777777777778,
              "#fb9f3a"
             ],
             [
              0.8888888888888888,
              "#fdca26"
             ],
             [
              1,
              "#f0f921"
             ]
            ],
            "type": "histogram2d"
           }
          ],
          "histogram2dcontour": [
           {
            "colorbar": {
             "outlinewidth": 0,
             "ticks": ""
            },
            "colorscale": [
             [
              0,
              "#0d0887"
             ],
             [
              0.1111111111111111,
              "#46039f"
             ],
             [
              0.2222222222222222,
              "#7201a8"
             ],
             [
              0.3333333333333333,
              "#9c179e"
             ],
             [
              0.4444444444444444,
              "#bd3786"
             ],
             [
              0.5555555555555556,
              "#d8576b"
             ],
             [
              0.6666666666666666,
              "#ed7953"
             ],
             [
              0.7777777777777778,
              "#fb9f3a"
             ],
             [
              0.8888888888888888,
              "#fdca26"
             ],
             [
              1,
              "#f0f921"
             ]
            ],
            "type": "histogram2dcontour"
           }
          ],
          "mesh3d": [
           {
            "colorbar": {
             "outlinewidth": 0,
             "ticks": ""
            },
            "type": "mesh3d"
           }
          ],
          "parcoords": [
           {
            "line": {
             "colorbar": {
              "outlinewidth": 0,
              "ticks": ""
             }
            },
            "type": "parcoords"
           }
          ],
          "pie": [
           {
            "automargin": true,
            "type": "pie"
           }
          ],
          "scatter": [
           {
            "fillpattern": {
             "fillmode": "overlay",
             "size": 10,
             "solidity": 0.2
            },
            "type": "scatter"
           }
          ],
          "scatter3d": [
           {
            "line": {
             "colorbar": {
              "outlinewidth": 0,
              "ticks": ""
             }
            },
            "marker": {
             "colorbar": {
              "outlinewidth": 0,
              "ticks": ""
             }
            },
            "type": "scatter3d"
           }
          ],
          "scattercarpet": [
           {
            "marker": {
             "colorbar": {
              "outlinewidth": 0,
              "ticks": ""
             }
            },
            "type": "scattercarpet"
           }
          ],
          "scattergeo": [
           {
            "marker": {
             "colorbar": {
              "outlinewidth": 0,
              "ticks": ""
             }
            },
            "type": "scattergeo"
           }
          ],
          "scattergl": [
           {
            "marker": {
             "colorbar": {
              "outlinewidth": 0,
              "ticks": ""
             }
            },
            "type": "scattergl"
           }
          ],
          "scattermapbox": [
           {
            "marker": {
             "colorbar": {
              "outlinewidth": 0,
              "ticks": ""
             }
            },
            "type": "scattermapbox"
           }
          ],
          "scatterpolar": [
           {
            "marker": {
             "colorbar": {
              "outlinewidth": 0,
              "ticks": ""
             }
            },
            "type": "scatterpolar"
           }
          ],
          "scatterpolargl": [
           {
            "marker": {
             "colorbar": {
              "outlinewidth": 0,
              "ticks": ""
             }
            },
            "type": "scatterpolargl"
           }
          ],
          "scatterternary": [
           {
            "marker": {
             "colorbar": {
              "outlinewidth": 0,
              "ticks": ""
             }
            },
            "type": "scatterternary"
           }
          ],
          "surface": [
           {
            "colorbar": {
             "outlinewidth": 0,
             "ticks": ""
            },
            "colorscale": [
             [
              0,
              "#0d0887"
             ],
             [
              0.1111111111111111,
              "#46039f"
             ],
             [
              0.2222222222222222,
              "#7201a8"
             ],
             [
              0.3333333333333333,
              "#9c179e"
             ],
             [
              0.4444444444444444,
              "#bd3786"
             ],
             [
              0.5555555555555556,
              "#d8576b"
             ],
             [
              0.6666666666666666,
              "#ed7953"
             ],
             [
              0.7777777777777778,
              "#fb9f3a"
             ],
             [
              0.8888888888888888,
              "#fdca26"
             ],
             [
              1,
              "#f0f921"
             ]
            ],
            "type": "surface"
           }
          ],
          "table": [
           {
            "cells": {
             "fill": {
              "color": "#EBF0F8"
             },
             "line": {
              "color": "white"
             }
            },
            "header": {
             "fill": {
              "color": "#C8D4E3"
             },
             "line": {
              "color": "white"
             }
            },
            "type": "table"
           }
          ]
         },
         "layout": {
          "annotationdefaults": {
           "arrowcolor": "#2a3f5f",
           "arrowhead": 0,
           "arrowwidth": 1
          },
          "autotypenumbers": "strict",
          "coloraxis": {
           "colorbar": {
            "outlinewidth": 0,
            "ticks": ""
           }
          },
          "colorscale": {
           "diverging": [
            [
             0,
             "#8e0152"
            ],
            [
             0.1,
             "#c51b7d"
            ],
            [
             0.2,
             "#de77ae"
            ],
            [
             0.3,
             "#f1b6da"
            ],
            [
             0.4,
             "#fde0ef"
            ],
            [
             0.5,
             "#f7f7f7"
            ],
            [
             0.6,
             "#e6f5d0"
            ],
            [
             0.7,
             "#b8e186"
            ],
            [
             0.8,
             "#7fbc41"
            ],
            [
             0.9,
             "#4d9221"
            ],
            [
             1,
             "#276419"
            ]
           ],
           "sequential": [
            [
             0,
             "#0d0887"
            ],
            [
             0.1111111111111111,
             "#46039f"
            ],
            [
             0.2222222222222222,
             "#7201a8"
            ],
            [
             0.3333333333333333,
             "#9c179e"
            ],
            [
             0.4444444444444444,
             "#bd3786"
            ],
            [
             0.5555555555555556,
             "#d8576b"
            ],
            [
             0.6666666666666666,
             "#ed7953"
            ],
            [
             0.7777777777777778,
             "#fb9f3a"
            ],
            [
             0.8888888888888888,
             "#fdca26"
            ],
            [
             1,
             "#f0f921"
            ]
           ],
           "sequentialminus": [
            [
             0,
             "#0d0887"
            ],
            [
             0.1111111111111111,
             "#46039f"
            ],
            [
             0.2222222222222222,
             "#7201a8"
            ],
            [
             0.3333333333333333,
             "#9c179e"
            ],
            [
             0.4444444444444444,
             "#bd3786"
            ],
            [
             0.5555555555555556,
             "#d8576b"
            ],
            [
             0.6666666666666666,
             "#ed7953"
            ],
            [
             0.7777777777777778,
             "#fb9f3a"
            ],
            [
             0.8888888888888888,
             "#fdca26"
            ],
            [
             1,
             "#f0f921"
            ]
           ]
          },
          "colorway": [
           "#636efa",
           "#EF553B",
           "#00cc96",
           "#ab63fa",
           "#FFA15A",
           "#19d3f3",
           "#FF6692",
           "#B6E880",
           "#FF97FF",
           "#FECB52"
          ],
          "font": {
           "color": "#2a3f5f"
          },
          "geo": {
           "bgcolor": "white",
           "lakecolor": "white",
           "landcolor": "#E5ECF6",
           "showlakes": true,
           "showland": true,
           "subunitcolor": "white"
          },
          "hoverlabel": {
           "align": "left"
          },
          "hovermode": "closest",
          "mapbox": {
           "style": "light"
          },
          "paper_bgcolor": "white",
          "plot_bgcolor": "#E5ECF6",
          "polar": {
           "angularaxis": {
            "gridcolor": "white",
            "linecolor": "white",
            "ticks": ""
           },
           "bgcolor": "#E5ECF6",
           "radialaxis": {
            "gridcolor": "white",
            "linecolor": "white",
            "ticks": ""
           }
          },
          "scene": {
           "xaxis": {
            "backgroundcolor": "#E5ECF6",
            "gridcolor": "white",
            "gridwidth": 2,
            "linecolor": "white",
            "showbackground": true,
            "ticks": "",
            "zerolinecolor": "white"
           },
           "yaxis": {
            "backgroundcolor": "#E5ECF6",
            "gridcolor": "white",
            "gridwidth": 2,
            "linecolor": "white",
            "showbackground": true,
            "ticks": "",
            "zerolinecolor": "white"
           },
           "zaxis": {
            "backgroundcolor": "#E5ECF6",
            "gridcolor": "white",
            "gridwidth": 2,
            "linecolor": "white",
            "showbackground": true,
            "ticks": "",
            "zerolinecolor": "white"
           }
          },
          "shapedefaults": {
           "line": {
            "color": "#2a3f5f"
           }
          },
          "ternary": {
           "aaxis": {
            "gridcolor": "white",
            "linecolor": "white",
            "ticks": ""
           },
           "baxis": {
            "gridcolor": "white",
            "linecolor": "white",
            "ticks": ""
           },
           "bgcolor": "#E5ECF6",
           "caxis": {
            "gridcolor": "white",
            "linecolor": "white",
            "ticks": ""
           }
          },
          "title": {
           "x": 0.05
          },
          "xaxis": {
           "automargin": true,
           "gridcolor": "white",
           "linecolor": "white",
           "ticks": "",
           "title": {
            "standoff": 15
           },
           "zerolinecolor": "white",
           "zerolinewidth": 2
          },
          "yaxis": {
           "automargin": true,
           "gridcolor": "white",
           "linecolor": "white",
           "ticks": "",
           "title": {
            "standoff": 15
           },
           "zerolinecolor": "white",
           "zerolinewidth": 2
          }
         }
        },
        "title": {
         "font": {
          "size": 25
         },
         "text": "PCA of ACT Composite 75th percentile on 2017-2018 IPEDS Data"
        },
        "xaxis": {
         "anchor": "y",
         "domain": [
          0,
          1
         ],
         "tickfont": {
          "size": 20
         },
         "title": {
          "font": {
           "size": 20
          },
          "text": "pca0"
         }
        },
        "yaxis": {
         "anchor": "x",
         "domain": [
          0,
          1
         ],
         "tickfont": {
          "size": 20
         },
         "title": {
          "font": {
           "size": 20
          },
          "text": "pca1"
         }
        }
       }
      },
      "text/html": [
       "<div>                            <div id=\"5c3e7f2a-5d82-4d40-baa7-4c34e8a79d86\" class=\"plotly-graph-div\" style=\"height:525px; width:100%;\"></div>            <script type=\"text/javascript\">                require([\"plotly\"], function(Plotly) {                    window.PLOTLYENV=window.PLOTLYENV || {};                                    if (document.getElementById(\"5c3e7f2a-5d82-4d40-baa7-4c34e8a79d86\")) {                    Plotly.newPlot(                        \"5c3e7f2a-5d82-4d40-baa7-4c34e8a79d86\",                        [{\"customdata\":[[\"Abilene Christian University\",3508.0],[\"Abraham Baldwin Agricultural College\",2470.0],[\"Adams State University\",1514.0],[\"Adelphi University\",4874.0],[\"Adrian College\",1606.0],[\"AdventHealth University\",575.0],[\"Alabama A & M University\",4714.0],[\"Alabama State University\",3866.0],[\"Alcorn State University\",2893.0],[\"Allegheny College\",1752.0],[\"American University\",7764.0],[\"Anderson University\",1431.0],[\"Anderson University\",2550.0],[\"Andrew College\",227.0],[\"Andrews University\",1344.0],[\"Angelo State University\",5332.0],[\"Appalachian Bible College\",182.0],[\"Appalachian State University\",16071.0],[\"Aquinas College\",1317.0],[\"Arcadia University\",2177.0],[\"Arizona Christian University\",646.0],[\"Arizona State University Campus Immersion\",38814.0],[\"Arkansas State University\",6894.0],[\"Art Academy of Cincinnati\",168.0],[\"Ashland University\",3380.0],[\"Auburn University\",21762.0],[\"Auburn University at Montgomery\",3239.0],[\"Augsburg University\",2033.0],[\"Augusta University\",4250.0],[\"Augustana University\",1679.0],[\"Aurora University\",3461.0],[\"Austin Peay State University\",7065.0],[\"Ave Maria University\",1035.0],[\"Averett University\",890.0],[\"Azusa Pacific University\",5075.0],[\"Bacone College\",864.0],[\"Baker University\",1062.0],[\"Barnard College\",2514.0],[\"Barry University\",2991.0],[\"Barton College\",830.0],[\"Baylor University\",14100.0],[\"Becker College\",1530.0],[\"Bellarmine University\",2410.0],[\"Belmont Abbey College\",1381.0],[\"Belmont University\",6161.0],[\"Benedictine University\",2473.0],[\"Bethany Lutheran College\",522.0],[\"Bethel University\",1044.0],[\"Bethel University\",2407.0],[\"Bethel University\",3454.0],[\"Biola University\",3882.0],[\"Black Hills State University\",2195.0],[\"Blackburn College\",546.0],[\"Bloomfield College\",1700.0],[\"Bloomsburg University of Pennsylvania\",7863.0],[\"Blue Mountain College\",531.0],[\"Bluefield University\",829.0],[\"Bluffton University\",660.0],[\"Boise Bible College\",111.0],[\"Boise State University\",12477.0],[\"Boston Baptist College\",57.0],[\"Boston College\",9681.0],[\"Boston University\",16840.0],[\"Bowling Green State University-Main Campus\",13104.0],[\"Bradley University\",4512.0],[\"Brenau University\",1080.0],[\"Brewton-Parker College\",438.0],[\"Brigham Young University\",28156.0],[\"Brigham Young University-Hawaii\",2702.0],[\"Brigham Young University-Idaho\",17230.0],[\"Buena Vista University\",1522.0],[\"Bushnell University\",444.0],[\"Butler University\",4182.0],[\"Cairn University-Langhorne\",727.0],[\"California Baptist University\",6367.0],[\"California Polytechnic State University-San Luis Obispo\",20584.0],[\"California State Polytechnic University-Humboldt\",7270.0],[\"California State Polytechnic University-Pomona\",21668.0],[\"California State University-Chico\",15446.0],[\"California State University-Fresno\",19432.0],[\"California State University-Fullerton\",28475.0],[\"California State University-Long Beach\",27507.0],[\"California State University-Los Angeles\",21004.0],[\"California State University-Monterey Bay\",6109.0],[\"California State University-Northridge\",29739.0],[\"California State University-Sacramento\",23491.0],[\"California State University-San Bernardino\",16381.0],[\"California State University-San Marcos\",11634.0],[\"California University of Pennsylvania\",4534.0],[\"Calvary University\",160.0],[\"Calvin University\",3524.0],[\"Campbell University\",3634.0],[\"Canisius College\",2303.0],[\"Capital University\",2493.0],[\"Capitol Technology University\",336.0],[\"Cardinal Stritch University\",901.0],[\"Carlow University\",1075.0],[\"Carolina University\",246.0],[\"Carroll College\",1287.0],[\"Carroll University\",2737.0],[\"Carson-Newman University\",1608.0],[\"Carthage College\",2596.0],[\"Case Western Reserve University\",4978.0],[\"Castleton University\",1590.0],[\"Cedar Crest College\",931.0],[\"Cedarville University\",3109.0],[\"Centenary College of Louisiana\",524.0],[\"Centenary University\",1125.0],[\"Central Baptist College\",599.0],[\"Central Connecticut State University\",7605.0],[\"Central Methodist University-College of Liberal Arts and Sciences\",1034.0],[\"Central Michigan University\",15585.0],[\"Central State University\",1710.0],[\"Central Washington University\",10446.0],[\"Chaminade University of Honolulu\",1524.0],[\"Champlain College\",2603.0],[\"Chapman University\",6515.0],[\"Charleston Southern University\",2804.0],[\"Chestnut Hill College\",1118.0],[\"Chicago State University\",1297.0],[\"Citadel Military College of South Carolina\",2559.0],[\"Clarion University of Pennsylvania\",3483.0],[\"Cleary University\",334.0],[\"Clemson University\",18642.0],[\"Cleveland State University\",9268.0],[\"Coastal Carolina University\",9021.0],[\"Coker University\",909.0],[\"College of Charleston\",9083.0],[\"College of Coastal Georgia\",2217.0],[\"College of Mount Saint Vincent\",1613.0],[\"College of Saint Benedict\",1916.0],[\"Colorado Mesa University\",7145.0],[\"Colorado School of Mines\",4584.0],[\"Colorado State University Pueblo\",3292.0],[\"Colorado State University-Fort Collins\",22154.0],[\"Columbia International University\",445.0],[\"Columbia University in the City of New York\",7578.0],[\"Columbus State University\",4693.0],[\"Concord University\",1696.0],[\"Concordia College\",1024.0],[\"Concordia University Texas\",1347.0],[\"Concordia University-Chicago\",1299.0],[\"Concordia University-Irvine\",1644.0],[\"Converse University\",860.0],[\"Cooper Union for the Advancement of Science and Art\",859.0],[\"Coppin State University\",1854.0],[\"Corban University\",936.0],[\"Cornell University\",14898.0],[\"Cornerstone University\",1260.0],[\"Cottey College\",260.0],[\"Creighton University\",4011.0],[\"Crown College\",698.0],[\"Culver-Stockton College\",969.0],[\"Curry College\",2059.0],[\"D'Youville College\",1295.0],[\"Dakota State University\",1397.0],[\"Dallas Christian College\",174.0],[\"Davis & Elkins College\",785.0],[\"Dean College\",1101.0],[\"Defiance College\",525.0],[\"Delaware State University\",3571.0],[\"Delta State University\",2198.0],[\"DeSales University\",1811.0],[\"Dickinson State University\",922.0],[\"DigiPen Institute of Technology\",964.0],[\"Dominican University of California\",1135.0],[\"Dordt University\",1341.0],[\"Drake University\",2955.0],[\"Drexel University\",13572.0],[\"Drury University\",2478.0],[\"Duquesne University\",5826.0],[\"East Carolina University\",19999.0],[\"East Central University\",2551.0],[\"East Stroudsburg University of Pennsylvania\",5552.0],[\"East Tennessee State University\",9641.0],[\"East Texas Baptist University\",1216.0],[\"Eastern Kentucky University\",10744.0],[\"Eastern Mennonite University\",942.0],[\"Eastern Michigan University\",12410.0],[\"Eastern New Mexico University-Main Campus\",2590.0],[\"Eastern Oregon University\",1668.0],[\"Eastern University\",1462.0],[\"Eastern Washington University\",10060.0],[\"Eckerd College\",1915.0],[\"Edgewood College\",1361.0],[\"Edinboro University of Pennsylvania\",3888.0],[\"Edward Waters University\",853.0],[\"Elizabeth City State University\",1179.0],[\"Elizabethtown College\",1636.0],[\"Elon University\",5885.0],[\"Emerson College\",3748.0],[\"Emmanuel College\",822.0],[\"Emmaus Bible College\",247.0],[\"Emory & Henry College\",966.0],[\"Erskine College\",568.0],[\"Fairmont State University\",3108.0],[\"Faulkner University\",1744.0],[\"Fayetteville State University\",3905.0],[\"Felician University\",1430.0],[\"Ferris State University\",8469.0],[\"Finlandia University\",336.0],[\"Fisk University\",639.0],[\"Fitchburg State University\",3386.0],[\"Florida Agricultural and Mechanical University\",6875.0],[\"Florida Atlantic University\",16325.0],[\"Florida College\",489.0],[\"Florida Gulf Coast University\",10973.0],[\"Florida Institute of Technology\",3269.0],[\"Florida International University\",26655.0],[\"Florida Polytechnic University\",1329.0],[\"Florida Southern College\",2356.0],[\"Florida State University\",29286.0],[\"Fordham University\",9132.0],[\"Fort Lewis College\",2921.0],[\"Fort Valley State University\",2115.0],[\"Framingham State University\",3558.0],[\"Francis Marion University\",3006.0],[\"Franciscan University of Steubenville\",2011.0],[\"Franklin College\",962.0],[\"Freed-Hardeman University\",1261.0],[\"Fresno Pacific University\",2342.0],[\"Friends University\",906.0],[\"Frostburg State University\",3849.0],[\"Furman University\",2658.0],[\"Gannon University\",2530.0],[\"Geneva College\",1247.0],[\"George Fox University\",2494.0],[\"George Mason University\",20221.0],[\"George Washington University\",10893.0],[\"Georgetown University\",6987.0],[\"Georgia College & State University\",5442.0],[\"Georgia Institute of Technology-Main Campus\",13974.0],[\"Georgia Southern University\",15755.0],[\"Georgia Southwestern State University\",1779.0],[\"Georgia State University\",19882.0],[\"Georgian Court University\",1343.0],[\"Gonzaga University\",5106.0],[\"Gordon College\",1528.0],[\"Gordon State College\",2686.0],[\"Goshen College\",816.0],[\"Graceland University-Lamoni\",1061.0],[\"Grand Valley State University\",19373.0],[\"Grand View University\",1574.0],[\"Greenville University\",887.0],[\"Grinnell College\",1662.0],[\"Gwynedd Mercy University\",1934.0],[\"Hamline University\",2082.0],[\"Hanover College\",1081.0],[\"Hardin-Simmons University\",1585.0],[\"Harding University\",3945.0],[\"Hawaii Pacific University\",2411.0],[\"Heidelberg University\",1031.0],[\"Henderson State University\",2565.0],[\"Hiram College\",852.0],[\"Hobart William Smith Colleges\",2220.0],[\"Hofstra University\",6494.0],[\"Holy Cross College\",526.0],[\"Holy Names University\",543.0],[\"Hope College\",3019.0],[\"Hope International University\",579.0],[\"Houston Baptist University\",2098.0],[\"Howard Payne University\",860.0],[\"Howard University\",6090.0],[\"Huntingdon College\",878.0],[\"Huntington University\",859.0],[\"Husson University\",2306.0],[\"Huston-Tillotson University\",1003.0],[\"Illinois Institute of Technology\",2631.0],[\"Indiana Institute of Technology\",4213.0],[\"Indiana University of Pennsylvania-Main Campus\",9526.0],[\"Indiana University-Bloomington\",32212.0],[\"Indiana University-Purdue University-Indianapolis\",17521.0],[\"Indiana University-South Bend\",3767.0],[\"Indiana University-Southeast\",3218.0],[\"Indiana Wesleyan University-Marion\",2634.0],[\"Iowa State University\",28590.0],[\"Iowa Wesleyan University\",550.0],[\"Jackson State University\",5935.0],[\"Jacksonville State University\",5523.0],[\"Jacksonville University\",2180.0],[\"John Carroll University\",2959.0],[\"John Paul the Great Catholic University\",247.0],[\"Johnson C Smith University\",1329.0],[\"Johnson University\",690.0],[\"Johnson University Florida\",166.0],[\"Judson University\",761.0],[\"Kansas Wesleyan University\",631.0],[\"Kennesaw State University\",24869.0],[\"Kent State University at Kent\",19108.0],[\"Kentucky Christian University\",439.0],[\"Kentucky State University\",1122.0],[\"Kettering University\",1807.0],[\"King University\",1608.0],[\"Kutztown University of Pennsylvania\",7053.0],[\"Kuyper College\",146.0],[\"La Roche University\",1163.0],[\"La Sierra University\",1830.0],[\"LaGrange College\",888.0],[\"Lake Superior State University\",1706.0],[\"Lakeland University\",779.0],[\"Lamar University\",5967.0],[\"Lancaster Bible College\",890.0],[\"Lander University\",2600.0],[\"Lawrence Technological University\",1672.0],[\"Lawrence University\",1434.0],[\"Le Moyne College\",2410.0],[\"Lebanon Valley College\",1624.0],[\"Lee University\",3854.0],[\"Lesley University\",1645.0],[\"LeTourneau University\",1301.0],[\"Lewis University\",3687.0],[\"Lewis-Clark State College\",2215.0],[\"Liberty University\",26892.0],[\"Life Pacific University\",431.0],[\"Life University\",624.0],[\"LIM College\",1305.0],[\"Limestone University\",1943.0],[\"Lincoln Memorial University\",1355.0],[\"Lincoln University\",1826.0],[\"Lindenwood University\",6215.0],[\"Linfield University-McMinnville Campus\",1505.0],[\"Lipscomb University\",2723.0],[\"Livingstone College\",1140.0],[\"Lock Haven University\",3176.0],[\"Long Island University\",2845.0],[\"Loras College\",1335.0],[\"Louisburg College\",599.0],[\"Louisiana College\",866.0],[\"Louisiana State University and Agricultural & Mechanical College\",22060.0],[\"Louisiana Tech University\",8112.0],[\"Lourdes University\",827.0],[\"Loyola Marymount University\",6164.0],[\"Loyola University Chicago\",10681.0],[\"Loyola University New Orleans\",2446.0],[\"Lubbock Christian University\",1276.0],[\"Luther College\",2014.0],[\"Madonna University\",1358.0],[\"Malone University\",1099.0],[\"Manhattan College\",3479.0],[\"Manor College\",428.0],[\"Mansfield University of Pennsylvania\",1655.0],[\"Maranatha Baptist University\",591.0],[\"Marian University\",1961.0],[\"Marquette University\",8026.0],[\"Mars Hill University\",1199.0],[\"Marshall University\",7846.0],[\"Martin Luther College\",743.0],[\"Mary Baldwin University\",720.0],[\"Maryland Institute College of Art\",1673.0],[\"Marymount Manhattan College\",1915.0],[\"Marymount University\",2069.0],[\"Maryville University of Saint Louis\",2375.0],[\"Marywood University\",1741.0],[\"McMurry University\",956.0],[\"McNeese State University\",5567.0],[\"McPherson College\",673.0],[\"Mercer University\",4135.0],[\"Meredith College\",1600.0],[\"Methodist University\",1755.0],[\"Miami University-Oxford\",16619.0],[\"Michigan State University\",35404.0],[\"Michigan Technological University\",5492.0],[\"Mid-Atlantic Christian University\",166.0],[\"Middle Georgia State University\",4507.0],[\"Middle Tennessee State University\",15812.0],[\"Midway University\",760.0],[\"Midwestern Baptist Theological Seminary\",232.0],[\"Midwestern State University\",4199.0],[\"Milligan University\",764.0],[\"Millikin University\",1840.0],[\"Milwaukee School of Engineering\",2508.0],[\"Minnesota State University Moorhead\",4157.0],[\"Minot State University\",1952.0],[\"Misericordia University\",1660.0],[\"Mississippi College\",2793.0],[\"Mississippi University for Women\",2113.0],[\"Missouri Baptist University\",1519.0],[\"Missouri State University-Springfield\",15363.0],[\"Missouri University of Science and Technology\",6128.0],[\"Montana State University\",12403.0],[\"Montana Technological University\",1529.0],[\"Morehouse College\",2090.0],[\"Morgan State University\",5825.0],[\"Mount Saint Joseph University\",1000.0],[\"Mount Saint Mary College\",1737.0],[\"Mount Vernon Nazarene University\",1440.0],[\"Murray State University\",6584.0],[\"Muskingum University\",1363.0],[\"New Jersey Institute of Technology\",6380.0],[\"New Mexico Institute of Mining and Technology\",1294.0],[\"New Mexico State University-Main Campus\",9703.0],[\"New York Institute of Technology\",3234.0],[\"Niagara University\",2827.0],[\"Nicholls State University\",4662.0],[\"North Carolina A & T State University\",9347.0],[\"North Carolina Central University\",5363.0],[\"North Carolina State University at Raleigh\",21384.0],[\"North Carolina Wesleyan College\",1754.0],[\"North Central University\",912.0],[\"North Dakota State University-Main Campus\",10782.0],[\"North Greenville University\",2080.0],[\"North Park University\",1812.0],[\"Northeastern State University\",4753.0],[\"Northern Kentucky University\",8962.0],[\"Northern Michigan University\",6207.0],[\"Northern State University\",1346.0],[\"Northwest Missouri State University\",4806.0],[\"Northwest Nazarene University\",1125.0],[\"Northwest University\",929.0],[\"Northwestern College\",997.0],[\"Northwestern State University of Louisiana\",5471.0],[\"Northwood University\",1785.0],[\"Notre Dame College\",1216.0],[\"Notre Dame de Namur University\",718.0],[\"Nova Southeastern University\",3154.0],[\"Oakland City University\",572.0],[\"Oakland University\",12549.0],[\"Oakwood University\",1521.0],[\"Oglethorpe University\",1166.0],[\"Ohio Dominican University\",957.0],[\"Ohio State University-Main Campus\",42003.0],[\"Ohio University-Main Campus\",17695.0],[\"Ohio Valley University\",435.0],[\"Oklahoma Baptist University\",1835.0],[\"Oklahoma Christian University\",1846.0],[\"Oklahoma City University\",1579.0],[\"Oklahoma State University-Main Campus\",18221.0],[\"Oklahoma Wesleyan University\",609.0],[\"Old Dominion University\",15036.0],[\"Olivet Nazarene University\",3113.0],[\"Oral Roberts University\",2866.0],[\"Oregon Institute of Technology\",2284.0],[\"Oregon State University\",18829.0],[\"Oregon State University-Cascades Campus\",367.0],[\"Otterbein University\",2294.0],[\"Ouachita Baptist University\",1500.0],[\"Our Lady of the Lake University\",1221.0],[\"Ozark Christian College\",457.0],[\"Pacific Lutheran University\",2655.0],[\"Pacific Union College\",1077.0],[\"Paine College\",328.0],[\"Palm Beach Atlantic University\",2350.0],[\"Paul Quinn College\",492.0],[\"Pepperdine University\",3300.0],[\"Pfeiffer University\",733.0],[\"Piedmont University\",1160.0],[\"Point Loma Nazarene University\",2571.0],[\"Point Park University\",2758.0],[\"Point University\",1119.0],[\"Pomona College\",1578.0],[\"Prairie View A & M University\",7341.0],[\"Pratt Institute-Main\",3537.0],[\"Presentation College\",475.0],[\"Providence College\",3826.0],[\"Purdue University Fort Wayne\",5913.0],[\"Purdue University Northwest\",6172.0],[\"Purdue University-Main Campus\",30277.0],[\"Queens University of Charlotte\",1449.0],[\"Quincy University\",874.0],[\"Ramapo College of New Jersey\",4910.0],[\"Randolph-Macon College\",1428.0],[\"Reed College\",1408.0],[\"Regent University\",2263.0],[\"Reinhardt University\",1260.0],[\"Rhode Island College\",5461.0],[\"Rider University\",3711.0],[\"Ripon College\",739.0],[\"Roanoke College\",1973.0],[\"Robert Morris University\",3840.0],[\"Roberts Wesleyan College\",1248.0],[\"Rochester Institute of Technology\",12447.0],[\"Rochester University\",762.0],[\"Rockford University\",918.0],[\"Rockhurst University\",1445.0],[\"Rocky Mountain College\",868.0],[\"Roosevelt University\",2117.0],[\"Rosemont College\",520.0],[\"Rowan University\",13634.0],[\"Rutgers University-Camden\",4493.0],[\"Rutgers University-New Brunswick\",33677.0],[\"Rutgers University-Newark\",7162.0],[\"Saginaw Valley State University\",6559.0],[\"Saint Anselm College\",1926.0],[\"Saint Cloud State University\",8373.0],[\"Saint Edward's University\",3528.0],[\"Saint Francis University\",1526.0],[\"Saint John Fisher College\",2624.0],[\"Saint Johns University\",1703.0],[\"Saint Joseph's University\",4481.0],[\"Saint Louis University\",6625.0],[\"Saint Mary-of-the-Woods College\",491.0],[\"Saint Norbert College\",2021.0],[\"Saint Vincent College\",1617.0],[\"Saint Xavier University\",2638.0],[\"Salem College\",673.0],[\"Sam Houston State University\",14808.0],[\"Samford University\",3266.0],[\"San Diego Christian College\",504.0],[\"San Diego State University\",27040.0],[\"San Francisco State University\",22263.0],[\"San Jose State University\",23097.0],[\"Savannah College of Art and Design\",9013.0],[\"Savannah State University\",3687.0],[\"School of the Art Institute of Chicago\",2735.0],[\"Schreiner University\",1137.0],[\"Scripps College\",1060.0],[\"Seattle Pacific University\",2783.0],[\"Seattle University\",4325.0],[\"Seton Hall University\",5554.0],[\"Shenandoah University\",1991.0],[\"Shepherd University\",2614.0],[\"Shippensburg University of Pennsylvania\",5160.0],[\"Shorter University\",1140.0],[\"Sierra Nevada University\",410.0],[\"Simpson College\",1280.0],[\"Simpson University\",619.0],[\"Slippery Rock University of Pennsylvania\",7125.0],[\"Sonoma State University\",7887.0],[\"South Dakota School of Mines and Technology\",1997.0],[\"South Dakota State University\",8425.0],[\"Southeastern University\",4288.0],[\"Southern Arkansas University Main Campus\",2924.0],[\"Southern Connecticut State University\",6814.0],[\"Southern Illinois University-Carbondale\",9455.0],[\"Southern Illinois University-Edwardsville\",9550.0],[\"Southern Methodist University\",6240.0],[\"Southern Oregon University\",3640.0],[\"Southern University and A & M College\",4530.0],[\"Southern Utah University\",6279.0],[\"Southern Virginia University\",853.0],[\"Southwest Baptist University\",1835.0],[\"Southwestern Adventist University\",652.0],[\"Southwestern Assemblies of God University\",1492.0],[\"Southwestern Christian University\",539.0],[\"Southwestern College\",577.0],[\"Spelman College\",2086.0],[\"Spring Arbor University\",1380.0],[\"St Bonaventure University\",1586.0],[\"St Catherine University\",2124.0],[\"St. Andrews University\",567.0],[\"St. Mary's College of Maryland\",1491.0],[\"St. Mary's University\",2228.0],[\"St. Thomas University\",935.0],[\"State University of New York at New Paltz\",6235.0],[\"Stephen F Austin State University\",9567.0],[\"Stephens College\",542.0],[\"Stockton University\",7809.0],[\"Stony Brook University\",16212.0],[\"SUNY at Purchase College\",3712.0],[\"SUNY Brockport\",6419.0],[\"SUNY College at Plattsburgh\",4894.0],[\"SUNY College of Technology at Alfred\",3396.0],[\"SUNY College of Technology at Canton\",2657.0],[\"SUNY Cortland\",6196.0],[\"SUNY Morrisville\",2614.0],[\"SUNY Oneonta\",5828.0],[\"Sweet Briar College\",314.0],[\"Syracuse University\",14675.0],[\"Tarleton State University\",8429.0],[\"Taylor University\",1840.0],[\"Tennessee Technological University\",8259.0],[\"Tennessee Wesleyan University\",863.0],[\"Texas A & M International University\",5191.0],[\"Texas A & M University-College Station\",46724.0],[\"Texas A & M University-Commerce\",6068.0],[\"Texas A & M University-Corpus Christi\",8357.0],[\"Texas A & M University-Kingsville\",5020.0],[\"Texas A&M University-San Antonio\",2865.0],[\"Texas A&M University-Texarkana\",1166.0],[\"Texas Christian University\",8738.0],[\"Texas Lutheran University\",1305.0],[\"Texas Southern University\",6695.0],[\"Texas State University\",28019.0],[\"Texas Tech University\",27318.0],[\"Texas Woman's University\",6968.0],[\"The Baptist College of Florida\",281.0],[\"The New School\",6224.0],[\"The University of Alabama\",29923.0],[\"The University of Montana\",7444.0],[\"The University of Montana-Western\",1230.0],[\"The University of Tampa\",7728.0],[\"The University of Tennessee-Chattanooga\",8962.0],[\"The University of Tennessee-Knoxville\",20965.0],[\"The University of Texas at Arlington\",17819.0],[\"The University of Texas at Austin\",37740.0],[\"The University of Texas at Dallas\",15294.0],[\"The University of Texas at San Antonio\",21510.0],[\"The University of Texas at Tyler\",4842.0],[\"The University of Texas Permian Basin\",2192.0],[\"The University of Texas Rio Grande Valley\",18647.0],[\"The University of West Florida\",6906.0],[\"Thomas More University\",1356.0],[\"Toccoa Falls College\",872.0],[\"Towson University\",17106.0],[\"Trevecca Nazarene University\",1317.0],[\"Trine University\",1938.0],[\"Trinity Baptist College\",302.0],[\"Trinity Bible College and Graduate School\",159.0],[\"Trinity Christian College\",907.0],[\"Trinity College of Florida\",163.0],[\"Trinity International University-Illinois\",592.0],[\"Trinity University\",2353.0],[\"Troy University\",9491.0],[\"Truett McConnell University\",780.0],[\"Truman State University\",5134.0],[\"Tusculum University\",1376.0],[\"Tuskegee University\",2722.0],[\"Union College\",707.0],[\"University at Buffalo\",19401.0],[\"University of Akron Main Campus\",13563.0],[\"University of Alabama at Birmingham\",9677.0],[\"University of Alabama in Huntsville\",5903.0],[\"University of Alaska Fairbanks\",3022.0],[\"University of Arkansas\",20464.0],[\"University of Arkansas at Pine Bluff\",2341.0],[\"University of Bridgeport\",2300.0],[\"University of California-Berkeley\",29351.0],[\"University of California-Davis\",29284.0],[\"University of California-Irvine\",28855.0],[\"University of California-Los Angeles\",30458.0],[\"University of California-Merced\",7297.0],[\"University of California-Riverside\",19719.0],[\"University of California-San Diego\",27880.0],[\"University of California-Santa Barbara\",21777.0],[\"University of California-Santa Cruz\",17082.0],[\"University of Central Arkansas\",8064.0],[\"University of Central Florida\",39962.0],[\"University of Charleston\",1220.0],[\"University of Cincinnati-Main Campus\",22622.0],[\"University of Colorado Boulder\",26977.0],[\"University of Colorado Colorado Springs\",8171.0],[\"University of Connecticut\",18555.0],[\"University of Connecticut-Stamford\",1452.0],[\"University of Dayton\",8079.0],[\"University of Delaware\",18195.0],[\"University of Denver\",5494.0],[\"University of Detroit Mercy\",2338.0],[\"University of Dubuque\",1709.0],[\"University of Florida\",31384.0],[\"University of Georgia\",27142.0],[\"University of Hawaii at Hilo\",2340.0],[\"University of Hawaii at Manoa\",10702.0],[\"University of Health Sciences and Pharmacy in St. Louis\",435.0],[\"University of Houston\",27159.0],[\"University of Houston-Clear Lake\",2946.0],[\"University of Idaho\",7166.0],[\"University of Illinois Chicago\",17961.0],[\"University of Illinois Springfield\",1903.0],[\"University of Illinois Urbana-Champaign\",32613.0],[\"University of Indianapolis\",3828.0],[\"University of Iowa\",21222.0],[\"University of Kentucky\",20657.0],[\"University of La Verne\",3759.0],[\"University of Louisiana at Lafayette\",12767.0],[\"University of Louisville\",12025.0],[\"University of Maine\",8204.0],[\"University of Maine at Fort Kent\",582.0],[\"University of Mary\",1794.0],[\"University of Mary Hardin-Baylor\",3045.0],[\"University of Mary Washington\",3905.0],[\"University of Maryland Eastern Shore\",2573.0],[\"University of Maryland-Baltimore County\",9543.0],[\"University of Maryland-College Park\",27708.0],[\"University of Massachusetts-Dartmouth\",5790.0],[\"University of Massachusetts-Lowell\",10495.0],[\"University of Memphis\",12400.0],[\"University of Miami\",10216.0],[\"University of Michigan-Ann Arbor\",28702.0],[\"University of Michigan-Flint\",3809.0],[\"University of Minnesota-Duluth\",8906.0],[\"University of Minnesota-Morris\",1526.0],[\"University of Minnesota-Rochester\",439.0],[\"University of Minnesota-Twin Cities\",29991.0],[\"University of Mississippi\",17511.0],[\"University of Missouri-Columbia\",22197.0],[\"University of Missouri-Kansas City\",6760.0],[\"University of Missouri-St Louis\",5492.0],[\"University of Mobile\",1152.0],[\"University of Mount Olive\",1472.0],[\"University of Mount Union\",2046.0],[\"University of Nebraska at Kearney\",4063.0],[\"University of Nebraska-Lincoln\",19534.0],[\"University of Nevada-Las Vegas\",18958.0],[\"University of Nevada-Reno\",15572.0],[\"University of New England\",2361.0],[\"University of New Hampshire-Main Campus\",12677.0],[\"University of New Haven\",4831.0],[\"University of New Mexico-Main Campus\",15093.0],[\"University of New Orleans\",4737.0],[\"University of North Alabama\",5141.0],[\"University of North Carolina at Asheville\",3285.0],[\"University of North Carolina at Chapel Hill\",18303.0],[\"University of North Carolina at Charlotte\",20597.0],[\"University of North Carolina at Greensboro\",14136.0],[\"University of North Carolina at Pembroke\",4483.0],[\"University of North Carolina School of the Arts\",847.0],[\"University of North Carolina Wilmington\",12346.0],[\"University of North Dakota\",8525.0],[\"University of North Florida\",10223.0],[\"University of North Georgia\",12712.0],[\"University of North Texas\",25592.0],[\"University of North Texas at Dallas\",1704.0],[\"University of Northern Colorado\",8328.0],[\"University of Northern Iowa\",9100.0],[\"University of Northwestern-St Paul\",2033.0],[\"University of Oklahoma-Norman Campus\",19065.0],[\"University of Oregon\",17801.0],[\"University of Pennsylvania\",10496.0],[\"University of Pittsburgh-Bradford\",1229.0],[\"University of Pittsburgh-Greensburg\",1436.0],[\"University of Pittsburgh-Johnstown\",2713.0],[\"University of Pittsburgh-Pittsburgh Campus\",18390.0],[\"University of Pittsburgh-Titusville\",255.0],[\"University of Portland\",3792.0],[\"University of Redlands\",2518.0],[\"University of Rhode Island\",12629.0],[\"University of Saint Francis-Fort Wayne\",1523.0],[\"University of Saint Joseph\",654.0],[\"University of Saint Mary\",641.0],[\"University of San Diego\",5605.0],[\"University of San Francisco\",6586.0],[\"University of Science and Arts of Oklahoma\",727.0],[\"University of Sioux Falls\",1036.0],[\"University of South Alabama\",9090.0],[\"University of South Carolina Aiken\",2716.0],[\"University of South Carolina Beaufort\",1797.0],[\"University of South Carolina-Columbia\",25243.0],[\"University of South Carolina-Upstate\",4583.0],[\"University of South Dakota\",4908.0],[\"University of South Florida\",24672.0],[\"University of Southern California\",18631.0],[\"University of Southern Indiana\",6588.0],[\"University of Southern Maine\",3901.0],[\"University of St Thomas\",5945.0],[\"University of St Thomas\",1434.0],[\"University of the Cumberlands\",1828.0],[\"University of the Incarnate Word\",4461.0],[\"University of the Pacific\",3452.0],[\"University of Toledo\",13056.0],[\"University of Tulsa\",3203.0],[\"University of Utah\",18066.0],[\"University of Vermont\",10395.0],[\"University of Virginia's College at Wise\",1210.0],[\"University of Virginia-Main Campus\",15766.0],[\"University of Washington-Bothell Campus\",4641.0],[\"University of Washington-Seattle Campus\",28759.0],[\"University of Washington-Tacoma Campus\",3945.0],[\"University of West Alabama\",1843.0],[\"University of West Georgia\",8938.0],[\"University of Wisconsin-Madison\",28977.0],[\"University of Wyoming\",8281.0],[\"Upper Iowa University\",2107.0],[\"Ursuline College\",455.0],[\"Utah State University\",17188.0],[\"Valdosta State University\",7166.0],[\"Valley City State University\",834.0],[\"Valparaiso University\",3153.0],[\"Vanderbilt University\",6805.0],[\"Vassar College\",2334.0],[\"Villanova University\",6525.0],[\"Virginia Commonwealth University\",20036.0],[\"Virginia Polytechnic Institute and State University\",26603.0],[\"Virginia State University\",3976.0],[\"Virginia Union University\",1201.0],[\"Virginia Wesleyan University\",1354.0],[\"Viterbo University\",1394.0],[\"Waldorf University\",1482.0],[\"Walsh University\",1744.0],[\"Washington Adventist University\",655.0],[\"Washington State University\",22166.0],[\"Washington University in St Louis\",7074.0],[\"Wayland Baptist University\",990.0],[\"Wayne State University\",12389.0],[\"Waynesburg University\",1330.0],[\"Webster University\",2297.0],[\"Wentworth Institute of Technology\",3904.0],[\"Wesley College\",1303.0],[\"Wesleyan College\",431.0],[\"West Chester University of Pennsylvania\",13020.0],[\"West Texas A & M University\",5615.0],[\"West Virginia State University\",1786.0],[\"West Virginia University\",20713.0],[\"West Virginia University Institute of Technology\",1111.0],[\"West Virginia Wesleyan College\",1289.0],[\"Western Carolina University\",8040.0],[\"Western Colorado University\",1832.0],[\"Western Kentucky University\",12919.0],[\"Western Michigan University\",15063.0],[\"Western Washington University\",13728.0],[\"Westfield State University\",4800.0],[\"Westminster College\",1906.0],[\"Westmont College\",1294.0],[\"Wheaton College\",2310.0],[\"Whitworth University\",2211.0],[\"Wichita State University\",8749.0],[\"Widener University\",2919.0],[\"Wilberforce University\",489.0],[\"Wilkes University\",2233.0],[\"William & Mary\",6199.0],[\"William Carey University\",1676.0],[\"William Jessup University\",987.0],[\"William Peace University\",814.0],[\"Williams College\",2047.0],[\"Wilson College\",565.0],[\"Winona State University\",6522.0],[\"Winston-Salem State University\",4072.0],[\"Wisconsin Lutheran College\",921.0],[\"Woodbury University\",923.0],[\"Wright State University-Lake Campus\",699.0],[\"Wright State University-Main Campus\",9423.0],[\"Xavier University\",4370.0],[\"Xavier University of Louisiana\",2155.0],[\"Yeshiva University\",2646.0],[\"York College of Pennsylvania\",3814.0],[\"Youngstown State University\",8834.0]],\"hovertemplate\":\"pca0=%{x}<br>pca1=%{y}<br>Name=%{customdata[0]}<br>Full-time undergraduate enrollment=%{customdata[1]}<br>ACT Composite 75th percentile=%{marker.color}<extra></extra>\",\"legendgroup\":\"\",\"marker\":{\"color\":[26.0,22.0,22.0,27.0,25.0,23.0,19.0,20.0,22.0,29.0,30.0,25.0,26.0,21.0,29.0,22.0,25.0,27.0,27.0,27.0,21.0,29.0,26.0,22.0,25.0,30.0,24.0,24.0,26.0,29.0,23.0,24.0,27.0,22.0,27.0,18.0,25.0,33.0,20.0,23.0,31.0,26.0,27.0,24.0,29.0,25.0,25.0,25.0,27.0,21.0,28.0,24.0,23.0,18.0,24.0,23.0,23.0,24.0,26.0,26.0,20.0,33.0,32.0,24.0,28.0,23.0,18.0,32.0,26.0,25.0,24.0,23.0,30.0,23.0,25.0,31.0,24.0,27.0,25.0,22.0,24.0,26.0,20.0,24.0,22.0,23.0,21.0,23.0,23.0,24.0,30.0,25.0,28.0,27.0,24.0,23.0,24.0,19.0,28.0,26.0,26.0,27.0,33.0,23.0,26.0,29.0,28.0,24.0,22.0,24.0,25.0,27.0,18.0,24.0,23.0,29.0,30.0,22.0,23.0,21.0,25.0,23.0,23.0,31.0,25.0,24.0,21.0,27.0,21.0,22.0,28.0,24.0,32.0,23.0,28.0,25.0,35.0,24.0,23.0,24.0,24.0,24.0,26.0,26.0,34.0,19.0,26.0,34.0,25.0,23.0,30.0,25.0,23.0,23.0,26.0,26.0,24.0,22.0,25.0,22.0,21.0,23.0,27.0,23.0,30.0,25.0,28.0,30.0,30.0,28.0,29.0,24.0,23.0,25.0,26.0,23.0,25.0,28.0,25.0,22.0,24.0,26.0,24.0,29.0,25.0,23.0,18.0,20.0,27.0,29.0,30.0,22.0,27.0,25.0,24.0,23.0,22.0,20.0,22.0,25.0,23.0,22.0,23.0,22.0,26.0,27.0,25.0,29.0,27.0,29.0,29.0,30.0,31.0,25.0,17.0,24.0,22.0,28.0,25.0,28.0,22.0,25.0,23.0,31.0,26.0,26.0,27.0,30.0,32.0,34.0,27.0,34.0,26.0,23.0,26.0,22.0,30.0,29.0,19.0,28.0,23.0,26.0,23.0,24.0,34.0,23.0,26.0,27.0,24.0,28.0,25.0,25.0,25.0,24.0,30.0,29.0,30.0,22.0,29.0,26.0,25.0,22.0,28.0,24.0,24.0,25.0,20.0,31.0,23.0,23.0,31.0,26.0,24.0,22.0,26.0,28.0,21.0,21.0,26.0,27.0,27.0,27.0,19.0,25.0,21.0,25.0,24.0,26.0,25.0,22.0,21.0,29.0,26.0,24.0,26.0,23.0,22.0,24.0,25.0,22.0,23.0,25.0,23.0,28.0,32.0,27.0,26.0,28.0,27.0,28.0,26.0,22.0,27.0,21.0,20.0,24.0,22.0,25.0,21.0,25.0,26.0,29.0,16.0,22.0,26.0,26.0,18.0,24.0,28.0,27.0,24.0,31.0,29.0,28.0,25.0,28.0,24.0,24.0,28.0,19.0,22.0,25.0,25.0,29.0,22.0,25.0,28.0,26.0,29.0,27.0,24.0,27.0,26.0,22.0,25.0,24.0,30.0,25.0,23.0,31.0,28.0,30.0,21.0,21.0,25.0,23.0,25.0,23.0,27.0,26.0,30.0,25.0,24.0,26.0,29.0,23.0,23.0,26.0,31.0,28.0,27.0,23.0,20.0,24.0,24.0,25.0,27.0,24.0,30.0,29.0,23.0,27.0,26.0,24.0,22.0,20.0,31.0,21.0,28.0,26.0,28.0,24.0,24.0,26.0,26.0,24.0,25.0,27.0,26.0,27.0,24.0,25.0,21.0,22.0,28.0,24.0,27.0,22.0,28.0,24.0,31.0,26.0,23.0,26.0,27.0,28.0,28.0,24.0,25.0,26.0,26.0,26.0,28.0,26.0,27.0,28.0,21.0,25.0,27.0,24.0,18.0,26.0,17.0,31.0,22.0,24.0,28.0,25.0,21.0,34.0,20.0,29.0,22.0,30.0,25.0,25.0,31.0,26.0,24.0,26.0,27.0,33.0,27.0,23.0,22.0,26.0,26.0,27.0,27.0,27.0,32.0,23.0,23.0,27.0,25.0,25.0,20.0,28.0,23.0,31.0,23.0,25.0,28.0,24.0,28.0,27.0,26.0,27.0,28.0,31.0,23.0,27.0,26.0,23.0,29.0,23.0,29.0,22.0,28.0,24.0,26.0,27.0,19.0,30.0,24.0,33.0,27.0,29.0,28.0,26.0,24.0,22.0,24.0,24.0,27.0,23.0,24.0,24.0,29.0,26.0,24.0,25.0,24.0,26.0,26.0,32.0,26.0,21.0,27.0,26.0,26.0,24.0,24.0,20.0,23.0,26.0,27.0,27.0,26.0,23.0,28.0,26.0,22.0,28.0,24.0,25.0,25.0,31.0,26.0,25.0,25.0,25.0,22.0,25.0,23.0,25.0,28.0,30.0,23.0,29.0,28.0,24.0,21.0,30.0,23.0,23.0,22.0,20.0,23.0,30.0,24.0,19.0,26.0,27.0,23.0,22.0,28.0,32.0,26.0,22.0,27.0,26.0,30.0,27.0,33.0,32.0,25.0,26.0,22.0,22.0,27.0,24.0,23.0,25.0,26.0,28.0,20.0,25.0,26.0,19.0,27.0,32.0,25.0,23.0,30.0,24.0,24.0,26.0,28.0,26.0,28.0,31.0,25.0,29.0,20.0,24.0,34.0,32.0,32.0,34.0,27.0,29.0,33.0,33.0,31.0,27.0,29.0,22.0,28.0,30.0,26.0,31.0,25.0,29.0,29.0,30.0,27.0,22.0,32.0,31.0,23.0,26.0,28.0,27.0,24.0,26.0,26.0,27.0,32.0,25.0,28.0,28.0,25.0,26.0,28.0,27.0,22.0,26.0,25.0,27.0,20.0,29.0,33.0,26.0,29.0,25.0,32.0,33.0,26.0,26.0,28.0,26.0,31.0,29.0,29.0,28.0,27.0,25.0,22.0,25.0,25.0,29.0,24.0,26.0,26.0,28.0,27.0,25.0,25.0,25.0,28.0,33.0,26.0,25.0,21.0,28.0,27.0,26.0,26.0,25.0,27.0,20.0,25.0,26.0,27.0,29.0,28.0,35.0,24.0,25.0,25.0,32.0,19.0,29.0,28.0,27.0,24.0,22.0,24.0,30.0,28.0,24.0,25.0,26.0,23.0,22.0,30.0,22.0,25.0,29.0,34.0,25.0,25.0,29.0,26.0,25.0,23.0,30.0,26.0,32.0,29.0,30.0,23.0,33.0,26.0,32.0,24.0,23.0,22.0,31.0,27.0,23.0,24.0,27.0,23.0,23.0,29.0,35.0,33.0,33.0,27.0,30.0,19.0,20.0,25.0,26.0,22.0,26.0,27.0,26.0,34.0,23.0,28.0,24.0,26.0,28.0,20.0,24.0,26.0,23.0,22.0,27.0,27.0,25.0,24.0,25.0,27.0,26.0,28.0,25.0,28.0,30.0,32.0,29.0,27.0,25.0,18.0,26.0,33.0,28.0,26.0,23.0,35.0,26.0,25.0,19.0,26.0,24.0,23.0,25.0,28.0,26.0,29.0,25.0,25.0],\"coloraxis\":\"coloraxis\",\"symbol\":\"circle\"},\"mode\":\"markers\",\"name\":\"\",\"orientation\":\"v\",\"showlegend\":false,\"x\":[-0.3180304597928755,-0.2478191805257844,-0.4078162393295407,0.012911348454945014,-0.8375733508494997,-0.6002500191303125,-0.3113628217600747,-0.6581063668000956,-0.6114581421885522,-0.7586991376866754,0.3786517444140443,-0.850443777161218,-0.6477248166093249,-1.0007115936954867,-0.09572505247501871,0.3524841952252607,-0.5213488232361941,0.971712547254558,-0.6897331056842276,-0.46348293085193515,-0.8283969943526669,2.987860153616114,0.13762602012871786,-1.2475472927115747,-0.25834000882962643,1.6164097245458084,-0.34608769151179974,-0.6167092996484402,-0.13186471115557835,-0.7082018660229903,-0.42288109970619453,0.3079259322116534,-0.6606074191005307,-0.9229309910090745,0.05192463862470534,-1.0084553782628543,-0.429585309077638,0.09138210455471868,-0.33330104415018963,-0.9913903307904713,0.989824461417464,-0.7571610387486624,-0.6266837744152396,-0.8446295639286364,-0.04528074462920679,-0.28137628130330433,-0.8395388302064608,-0.7754963989831939,-0.6501242388450764,-0.5344449802561206,-0.03224764341509604,-0.2979559054324027,-0.9907044530020519,-0.8192805637478157,0.1454041854178094,-0.9324381825957068,-0.88006937151238,-0.9763107534673251,-0.892009284187275,0.9892416222654166,-0.7769231902251349,0.8472994157083996,1.836307258568928,0.7244287083981743,-0.1809829861385921,-0.9347000122009349,-1.020387304726524,1.9996805199992382,0.3150286845530168,2.4817942950265826,-0.8796217949871071,-0.7817228960020431,-0.14150519086835245,-0.804822164678766,-0.06349702731793937,2.195412577289651,0.29864141307916325,2.4287956269676894,1.269864505220107,1.8746445061901118,2.977565187989604,2.9170879772852127,2.355495007552644,0.35612572283107824,2.773487477195757,2.2673938568617436,1.3417481412700392,1.1361724556193389,-0.2949563149395145,-0.6871063921538786,-0.3095598485331727,-0.42093556873633586,-0.6239024847188418,-0.7385862518131745,-0.7086338467112319,-0.6987020651071857,-0.9275831716840472,-0.9378598764984553,-0.7286026851336763,-0.5948438061761696,-0.7054769090384637,-0.7452852827345638,0.5748851101695555,-0.5892005591331834,-0.84193955142704,-0.41563888586291253,-0.8853424956225802,-0.8561456954304105,-0.8502764822351386,0.27538580501132726,-0.8057514969543652,0.8983762309660527,-0.8669192275105896,0.5554441801106427,0.14636038291729203,-0.4210276730824976,0.2830530325578187,-0.7854250431673886,-0.9659007850210714,-0.9554025239480318,-0.22877805793585407,-0.39950815305252485,-0.9310151843746093,1.1730000139621026,0.6126856385199987,0.4455518297985413,-0.8973383088288472,0.43069343912386077,-0.2920441892378215,-0.5733991992060626,-0.7689173734644517,0.21081399212094867,0.1614257018562377,-0.14269628324697214,1.8278472470041307,-0.93599609194821,0.9153769898529545,-0.22628362963433862,-0.6507095014402904,-0.6154389160478773,-0.662208180774811,-0.5233832371285104,-0.35929394394966546,-0.8783815611938914,-0.0800759985387988,-0.5665995769029245,-0.8507318560914149,1.6516638991687476,-0.819919361604384,-0.843517520141827,-0.048569296405935256,-0.6264872019573922,-0.7289452132942519,-0.5992004419044838,-0.7008670733600734,-0.35773499648053664,-0.9873382503282545,-0.9770517897926184,-0.7014236905356039,-1.0318506142904338,-0.38164138627287364,-0.4943883745470368,-0.5635475702121128,-0.4676143268076616,-0.30884234694754653,-0.25546318243446975,-0.6368211071418941,-0.46066002884238716,1.3967380113259125,-0.6489878627787259,-0.291798619205609,1.427836016280873,-0.3735717719100463,-0.0791988023656965,0.46541691106515065,-0.7077319762041876,0.4673108302360408,-0.7582271496685802,0.7204194315926712,-0.09969752619258104,-0.4666286173182462,-0.879239851963157,0.36075026496989415,-0.5585831887008513,-0.7362505501742722,-0.3716996750577486,-0.04315440620833346,-0.7023986327700009,-0.7609666537208335,0.17086382954345233,-0.18912640456983004,-0.7171137110654554,-0.734528644881686,-0.9147644712447353,-1.1433620056137326,-0.35050115942339216,-0.644207085268919,-0.3016198030124199,-0.7277786231323183,0.39492083659521904,-1.159577550174516,-1.186693563386112,-0.29271940031331306,-0.024209866763783634,1.5273846830315778,-0.8829802327434904,0.7823957192307655,0.10673489104619394,3.076540544499403,-0.2365074121958309,-0.6001328421238975,2.2590724218463945,1.0145488109948848,-0.4124470418218514,-0.8032769446171641,-0.1973187540076985,-0.5780109868313619,-0.6737037577524972,-0.9725619295494391,-0.7450549462324094,-0.6697158126834666,-0.8572346562688546,-0.17716485804767107,-0.5264829893499396,-0.49096000941907225,-0.9310539464808953,-0.5232494846519806,1.9037152126548704,0.8843591909918782,0.5847550638088569,-0.10395510762014015,1.4838192918956226,1.015504861739924,-0.45707510080258323,1.6585636790834042,-0.7530386366765711,-0.1264423516505343,-0.5931153747124667,-0.31563411439577177,-0.7908781024116233,-0.7261338010411185,1.2519453163826144,-0.7345701263318641,-0.8743313573693767,-0.2226487399620673,-0.7432385176326992,-0.5767384503186631,-0.8758886598963304,-0.6042405664671235,-0.3083433141693323,0.21095285205410694,-1.0213015977411968,-0.561659642697352,-0.784215832336454,-0.5571252950021816,0.521358058250056,-0.6768365779472373,-0.837382033938708,-0.4991122869306465,-0.57697325806978,-0.29347052975116916,-0.8090944939322798,0.022248624289297473,-0.8060039033203581,-0.7118344121152818,-0.684135317098177,-0.8597577752008103,-0.03524657761527135,-0.4826209290445026,0.3456063831039808,2.9612903285074195,1.329897313455655,-0.08432385151506255,-0.1275562884884467,-0.5053329413435159,1.9275281378691504,-0.5322722854549001,-0.3554954853034246,-0.14730049488689556,-0.537340887789412,-0.54917499490601,-0.8728813265353833,-0.9250617944504274,-0.7760968230432971,-0.9561072902396157,-0.65697617301855,-0.9610065632676968,1.7731937146830512,1.2579067999254259,-0.9982983267249494,-0.6327109526235931,-0.5883550290582372,-0.8322215268153179,-0.008066664043249435,-0.8800784965040076,-0.5617549588090791,-0.21212757887972772,-0.9158616698712205,-0.6283036988815769,-0.7660412893288832,0.33047351405829667,-0.7797107771521005,-0.5326461045252756,-0.3550287823079477,-0.5160551847489802,-0.6275203205654867,-0.8569331581667922,-0.38951668760655306,-0.5169626201827214,-0.44223661642804546,-0.3284662791319138,-0.3364417321316433,2.111868755935572,-0.6930755052345212,-0.7066419387275862,-0.6539540667601816,-0.9057601929653601,-0.9287543596600804,-0.8137484078413942,-0.2458438668943587,-0.5934196653998253,-0.5357193689940463,-0.9569074781842707,-0.5507662379336948,0.04702579053055496,-0.7907405159566665,-1.3941339851366576,-0.7007562355818993,1.5555407241851704,0.28448386150288557,-0.7930331065569427,0.3925303309411608,0.8346002096546927,-0.5441600774463187,-0.8931881739560029,-0.6755044785515859,-0.5678581195408364,-0.8068298476294476,-0.3607148607489689,-1.0599685102046978,-0.7034118476466786,-0.6008684772845007,-0.6683470072964153,0.38959321497163646,-0.8868511451553207,0.13100363136246448,-0.7358795467375927,-0.8085080362930817,-0.23070647284723841,-0.5490762302927423,-0.2789071377655344,-0.4086270359002682,-0.8078324351645721,-0.7022908864359227,0.007785469375033799,-0.8978964694770807,-0.28000298016511493,-0.7724712732987967,-0.6245176455266604,1.4141656117519457,3.0743761957328832,-0.11283087444965283,-0.9802479680540486,-0.0807952490607082,0.9300473974653883,-0.8555641114007326,-0.45695785635783226,-0.04594348923001074,-0.787557352212464,-0.7117643925438831,-0.5746894518518808,-0.18514610780776283,-0.32066627561047073,-0.7986081201254848,-0.4318354688287096,-0.6752301426101072,-0.37210309292655647,1.0263800074994085,0.036205042794354526,1.1919223167443065,-0.4173913949153691,-0.6978248624998568,-0.08052167452310237,-0.7778869015785882,-0.7210807970160827,-0.8108862639096125,0.08327761481357485,-0.726599185308516,0.7110718159768824,-0.31997240554759737,0.7030589232202337,0.3259747662964549,-0.5663098836577719,-0.18679876839441628,0.2488339683430296,-0.20241203239363753,1.740909430981851,-0.7584604232584361,-0.7302570296893841,0.42507633842638426,-0.7766221186873444,-0.5394976341124289,-0.0286939651923116,0.3944024311514323,-0.06628489163795971,-0.227045064317299,-0.18900279179801635,-0.6409183735369616,-0.6504571029674814,-0.7853562814889407,0.02671573297741815,-0.6676704489004556,-0.6768685679904907,-0.40962523191782696,0.09166473478685418,-0.49200255665900794,0.6731790670837966,-0.8158260116099649,-0.7215848139430353,-0.8744131587096637,3.022971503413179,1.3297630457811285,-1.09579031252547,-0.5828671172416984,-0.532531949195766,-0.4909572940109901,1.4333997249929038,-0.8611795151906988,1.021936916924336,-0.5023921883245717,-0.5727598290704805,0.035116232411804685,1.6880486880262442,-0.5442203010884162,-0.6370891342059303,-0.710254412553348,-0.6271632902066211,-0.8022429897196866,-0.47058980136797374,-0.4043716753162012,-1.0528562725382475,-0.4638670232066301,-0.9610439708135394,0.0548078784052774,-1.0015965068583477,-0.8938377057399763,-0.37301806366147944,-0.6365816517076163,-0.8023523256162823,0.1847051718624064,-0.032302193138042154,0.19528542157711132,-1.0300077643781733,-0.3570374087177916,0.3485657950686647,0.26251592908240934,2.96236200163006,-0.8026230796858084,-0.932868355036728,0.09841726867014694,-0.7459729925409283,-0.1935333365514886,-0.49302368177847183,-0.7723849639098963,-0.06570991016423593,-0.24032657909335756,-1.0509430353091211,-0.6893661022847827,-0.28720336453014755,-0.8750407668999283,0.7922665372575174,-0.8046669055614313,-0.7607970935348604,-0.49097126077495246,-0.839049957822688,-0.5012093224826123,-0.9238467917828483,0.7601042469662926,-0.00018707948082931223,3.0900384767728437,0.6770717067711645,-0.08898123202838329,-0.8208061212131111,0.5291881410677163,-0.29951415314738494,-0.6330356283126091,-0.6884723486681069,-0.6024107252314005,-0.2830983143756805,0.4016234683611545,-1.1180346092423727,-0.6996300940148124,-0.7602443296236102,-0.544842161262536,-1.0442713556055787,0.9714118993627804,-0.3255989891302619,-0.8447211820669954,2.955089218786534,2.770090644569604,2.9145383780424354,0.5207473888096618,-0.5451449171383912,0.016676615585851626,-0.7338871142919602,-0.13631195923922534,-0.2881268503647995,0.15416332016772516,0.3019763334534347,-0.7738211776843926,-0.3905339466555321,-0.11868145205135784,-0.7188876583475543,-0.7803330708152195,-0.8567622835884483,-0.9369258889831096,-0.06840998112138559,0.6463066272832604,-0.26436130741271263,0.3305378326816403,-0.20268365197615282,-0.5227203750350125,0.15855140539315027,0.2709884312097309,0.35654956054870834,0.32744436845366687,-0.13629148530826185,-0.38961508607861817,0.10241112137142626,-0.832165204220094,-0.6843437410752673,-0.5427227786496741,-0.7598371541352978,-0.8595155720070202,-0.7385733854437195,-0.8268745241312283,-0.8702889345170686,-0.7141873751144862,-0.5734536300409914,-0.8439563235967187,-0.5400083686446633,-0.3345501231735914,-0.0482940128345791,0.23273294236553485,0.4961578898359192,-1.0731938455140857,0.10515012694708535,1.9526274215147204,-0.2007100209855223,-0.07881946897235963,-0.0477931703468244,-0.37375501292987645,-0.5493067876655111,0.002729351518928049,-0.4865591125450316,0.05678052588678646,-0.9024532197254831,1.2345774358254797,0.4253528219664754,-0.5272106778714708,0.25316521306507456,-0.9098775834342293,0.4016545701837711,4.467161413040574,0.171408752115186,0.6960513656729943,0.26592769448032033,-0.1303590978953978,-0.5792855438463825,0.4169802805610949,-0.7188295695076702,0.32659904532912093,2.3477371614221734,2.1504265735012558,0.4860949909646767,-0.8463412798722864,0.44247449713592163,2.349348775235468,0.24800171853271746,-0.608183868903201,0.29276622417691434,0.3423226162690064,1.4953712404074422,1.7228410574640778,3.5344700290162634,1.680753282652705,1.8393928352456421,0.12380079359675929,0.10074095238060753,1.9069579848998592,0.16876031502742891,-0.5736727202868065,-0.41166477861200373,1.0871279111526473,-0.6176087452789429,-0.21698716289173323,-0.8782378231844598,-1.0532068622604323,-0.8068564709518717,-0.966060198162315,-0.7038691663611449,-0.2525658559133403,0.42347200999104284,-0.6623231414666292,0.008460072484871399,-0.8554004685581145,-0.5136664321914755,-0.7441518367604741,1.9134308068426062,1.1106700201634219,0.702364925613404,0.0771038628737326,-0.05744260172362261,1.5854145694743451,-0.7110045866481313,-0.42828198317440114,3.4758965009956895,3.4962283771008686,3.8852396904778668,3.4776890989345213,1.0558162482803866,2.652436882130493,3.717158771642726,2.798514140059427,2.247941976770845,0.16815160341493904,3.366199070379957,-0.7443489862175967,1.793282436944071,2.6070343036782355,0.667154129247141,1.6287745575975099,0.005308076303316286,0.2037945176310873,1.5115028520527123,0.3376373695489573,-0.45382222445246656,-0.7652277478994985,2.4847211297034053,1.966767690816629,0.33668294417954286,1.6332646740302563,-0.45633390069667246,2.646104619357327,-0.035152324010186184,0.31282769211446265,1.9120168132420512,-0.41173349385017327,3.1792024053019166,-0.24865951488985763,1.9282617048575699,1.4900643677389098,-0.19369417998005764,0.6336764728268417,0.7986685581544254,0.38416063820821267,-0.500976916957344,-0.7386025509176968,-0.44944444687628216,-0.10079581467748805,-0.6006370341653323,0.9717587936881223,2.2224356402294023,0.011197480057826382,0.6990829397662001,0.8715363561508087,0.8575999570162866,2.708022588663547,-0.11993987998292162,0.3955038108238478,-0.31076125639921126,-0.536513962148432,2.568043821060355,1.2071090218057978,1.4216901166362486,0.3717514417591826,0.2739436912769277,-0.8271842846917339,-0.627615509121486,-0.8308539366382632,-0.047094411402203835,1.3736846378998924,1.7763193833918396,1.261661026210448,-0.30109318444276784,0.7116986075589261,-0.1556385729445,1.0238561777222617,0.18606081332381214,-0.1773426879236631,-0.2710367076193392,1.7125496916354963,1.4476303729756936,0.7815461961614414,-0.32029247164620434,-0.5338965943473283,0.6288600764207026,0.33323820832359896,0.840268320282424,1.111376503514774,2.0943689201366973,-0.4361124767071904,0.36724156839137034,0.20402185666093275,-0.40427447379754483,1.6265981021241762,1.64912725547466,1.2581843262274193,-0.7266242374239876,-0.5288118050787187,-0.47728966364970216,1.5174232717862561,-1.1702674466021363,0.027680700307530663,-0.4378683650375753,0.829837890285784,-0.7629854653856455,-0.9675182266998368,-0.7555100439240996,0.2608262675352326,0.8247023444661461,-0.6750514004657846,-0.796096949960293,0.27308044380661917,-0.44492722468234397,-0.5716037922645139,1.8653125950102056,-0.18234511773805406,0.085713271691688,2.1064405250625606,1.8203517544783727,0.31811318024342583,-0.11826106408261032,-0.10653040883259574,-0.18079157585201744,-0.3248077147179284,-0.2760093113448892,0.6381268612603906,0.9498217966863626,-0.24439169902604588,1.7340479718180017,0.6848940998652402,-0.5995594556075236,1.6005343343290417,0.692654734488689,3.1520737625649233,0.27539443728880597,-0.6181654125305394,0.2812960854109462,2.3751733984143737,0.2300335443942208,-0.48232407443493347,-0.9507086794658459,1.579045596716852,0.034999824436891945,-0.4584571548719395,-0.5361879016057383,0.6480026535934602,-0.11405604857796468,0.3488169699898684,1.6261254628745996,2.3222857765492217,-0.7792351937798659,-0.9515095757640575,-0.7067709002343925,-0.827271107044587,-0.7389913878850464,-0.8108101035833453,-0.675503502025835,1.8100117245313285,0.8716962067879376,-0.41704748715557516,1.0406370157243199,-0.8486881422554807,-0.40029252677393795,-0.15677278675030074,-0.8421249185162245,-0.7374617722634109,0.6703699116765662,0.17706723897850069,-0.34672397776992403,1.542205068348097,-0.37477192283264116,-0.779592372920593,0.373135144235466,-0.4297594267188051,0.8371535201344941,0.9742121117066281,0.9888989269776801,-0.1317135709765936,-0.550477692098086,-0.5734684167306929,-0.3467555878133466,-0.6097889680944751,0.44710595700766464,-0.44159304644467107,-1.038042345015894,-0.44414193656042866,0.4520796324681121,-0.6010307846835645,-0.7544914059679133,-0.9893767410495244,0.12517466507321284,-0.8417147190506903,0.023413606245882557,-0.3954700451197714,-0.8627471799776522,-0.3846185988463436,-0.4968605611105624,0.47629820295852815,-0.09434144527953084,-0.4424237000728239,-0.4216045497421745,-0.42137706916752327,0.395324482530144],\"xaxis\":\"x\",\"y\":[0.5755197324834608,-1.0512436276662107,-0.6441128000746816,0.9126919829372967,0.369812693047684,-0.35080432145806345,-2.080103897781289,-2.1754433863141247,-1.9899528140179727,1.3958315653199276,1.8115223595268704,0.17475051702598088,0.16797107866769845,-0.7433956359627207,1.4467767210221296,-0.6994669222660855,-0.12719391512052278,-0.9119191459696074,0.32411377710455025,1.1029265153498717,0.029657646609115174,-0.4480273657688557,-0.8421849814649998,-0.4310512481088419,-0.5263174987725677,-0.4660460947908061,-0.9595499840939367,0.7613470813993419,-0.4537404775933084,0.6670015739076017,-0.3427874468427769,-1.1433051138520818,0.179076287060557,0.042646554591629464,1.2064014597071666,-0.9157856848576861,0.563329953432203,3.1093846249296004,-0.10858129312115353,-0.02485180907338562,1.0190023425092147,0.3332964867701265,0.9348681233305821,-0.16700934266638398,0.27121158554163277,0.7662894535483993,0.3171962743276754,0.03217328428102534,0.5950613527383107,-1.058320060035761,1.579917202742629,-0.6183363402159865,-0.45218884276522747,-0.30804303779711856,-0.7879048317721696,-0.8397030548725182,-0.46250370504879396,0.18269211635176666,-0.7003062962687341,-0.7571070562765646,-0.46434914703633534,2.2018598548297237,2.5877979433984306,-0.7384021656293204,0.3614004282749766,-0.23733260968849096,-0.0969773807964375,-1.1784365545456537,1.905953870757288,-1.4605549893592857,-0.09336854563327798,0.42985165490748584,0.9901228241834078,0.023631309924277682,0.1116070687088043,0.311286074209762,-0.617279489045714,0.14764628164795254,-0.6358940103919397,-0.6156074947482472,-0.15320451747956457,0.041858328810986015,-0.7316147508996491,-0.21541463788338536,-1.0585205920214789,-0.148815390506586,-0.8312734318320808,-0.24548936071695693,-0.803112831337069,-0.5262987119525993,1.0546367423204386,0.2297544890558182,0.6672399574235341,0.4028021572243053,-0.03205651626770236,0.3434183747291981,-0.21021690069358992,-1.0915974073601067,0.723880117223778,0.4977812707993736,0.16497325664205637,0.8862708260218567,2.627069598974927,-0.49019260411728965,0.34317936034641217,0.3356426078748119,0.7172940841675944,0.25121662860433724,-0.7493890409081921,-0.771387869752098,0.013491870426187243,-1.0909487673958276,-2.002791541735934,-0.379015063452344,3.390535210815776,0.5557435268163099,1.7960499751303598,-0.3378070556007961,-0.018489183326741668,-1.7180613720333553,-0.09462946855281332,-0.7113393272446045,-0.32864767030411196,-0.3644642573911217,-0.7661546963644844,-0.7142301823732173,-0.2804267716975385,-0.37687558082516903,-0.7879379074082417,0.4385904662312645,1.1108932644348823,-0.8657255131677772,0.4726552227718329,-0.46796851791862315,-0.7151468312555133,-0.2114599732965556,3.1532164290366564,-1.1575539984504022,-0.615129768551341,0.7445847124374239,0.046486035960779444,0.19034422926792838,1.1134006686892925,-0.26541720892935966,3.3797687608565568,-1.2378317790314528,0.9530038515413592,3.374413038145917,-0.15120908107542583,0.39179799655092273,1.3456662762622258,0.08239757323259471,0.07592960179836093,0.5359323711802884,0.10070118390496624,-0.5624700219285386,-0.702530273446783,0.3716482990583699,0.9951201854323876,-0.03358228614015904,-1.1636865679799784,-0.8906181107790258,0.44261534633567995,-0.3760313746981331,0.6257412037549113,2.3599574335759144,0.511400255474898,1.0322141622667422,1.7920319689507747,0.36097028253316643,0.6667261105353441,-1.2421987284013787,-0.7494277465790794,-0.7127572256428728,-0.799092340681657,-0.1411890679790305,-1.012844507798158,0.5255976782001696,-1.0751955886839515,-0.635957129746365,-0.42295259236765426,0.14703361372445917,-0.5407374963441864,1.086654402265983,0.24805145223243175,-0.8229268249698057,-0.2575198099931838,-1.7048132443153878,1.0795990060246752,0.6272412927578034,1.6557062011278936,-0.06789556142992526,0.006425777588224116,0.3178134463207873,0.3051320431044311,-0.7073890672961476,-0.9067960603304441,-1.7275196611416028,0.14233420158715726,-0.8443784821646545,-0.4618585399948274,-1.0543390023999106,-0.7662303246616372,-1.9228324095917484,-1.078668576620423,-0.20302032376658508,-0.869072603500227,2.0269050515445457,-3.106622331127527,-0.02032539769798494,0.6384831733724033,-1.1014599690125237,1.9217068967903566,-0.34853533669835907,-2.2480483257300246,-0.6261051709419145,-1.2169255970796273,0.015780772325541773,0.1531919267467459,0.048979914570743834,-0.2900873687918272,-0.1194005888040265,-0.7532158031654445,1.8767454476845797,0.6914835427409596,-0.16460494559949826,0.7372396273887654,0.2639097828898501,2.2579701659935547,2.494137512833947,-0.2575383646516874,1.1756340864269954,-1.304823074607829,-0.838640729842392,-1.0197648854697625,0.4232170121482218,1.1738075556917047,0.9753834335228679,-1.3583020099141558,0.6313248501073099,0.1368084373757135,-1.0681973737619685,0.15814032137181963,-0.09265642049790372,2.5917408983333483,0.2737992603631974,0.8358793697136089,0.9295481600026219,0.16597186579675713,0.06259073020167204,1.7203495465864662,-0.11703369301552598,-0.9794441664884465,0.22113715766427353,2.1862190339679493,1.7080899031980776,0.5208965714411021,1.0073999524055752,0.45419822734608245,0.7387315757357542,0.6047653418637072,-0.19901385634211047,-0.7223545102709772,-0.4269489473682706,0.05297648042345438,-0.5560652960299675,-1.4087861771388563,2.4970161372266255,-0.28131581240214837,-0.9458620852631847,-0.2228047782176689,-0.831357613929978,-0.6276270861789227,-0.6955264121165423,0.2732263027735695,-0.8905342980663048,0.20932718792715055,-2.0974316861764404,-1.0508637550515283,0.9422570583938129,0.9436297190360644,0.2509251284082344,-1.6847891097257819,-0.60839762544103,-0.8893136089838914,0.43385874250337747,-0.08220111315415904,-1.3540045511382512,-0.9000616928174924,-0.40186979224008296,-1.0907310198564877,0.9592128704507493,0.015223317773691408,-0.8787076613579416,-0.017856275615509325,0.4868197648661545,1.2849715528636192,-0.0066642566432444685,-0.5249542682453123,-0.18362659674398707,-0.7652447672346482,-0.2607403503052577,-0.8257753128593778,0.7355359194011116,2.342809951468971,0.7988031986426053,1.0170531073896414,-0.3664787739655236,0.38676700201791087,0.3830191852283862,0.2764105660502267,-0.5022061688527876,-2.2040520061392463,-0.28654867156263747,-0.4367831912621534,0.5179326528545427,-0.8620983937122181,-0.40827955718724074,-1.4927385555837416,-0.2566772620345604,1.4203654043670235,0.5365090044783639,-1.8475318255568336,-0.9150555698763241,0.66163490222387,0.48566635269616854,-1.6076391243234507,-0.6858972390459256,-0.4183556729451266,-0.4247794814654094,-0.3340675895550513,1.7677656774953172,1.1737957467614744,0.8700177826104374,-0.4302364274187469,1.0817701317037718,0.16780567791196027,0.11852265986362219,0.8897367666433198,-1.561855049601333,-0.8006450859155764,-0.1533634691892666,0.4198713630001319,1.0976511339873203,0.09891584076956111,-0.8952589139817844,-0.18793383536142622,-0.09798621528935215,2.2430702012135755,0.7842085810528492,1.1360399342622203,0.3626317683424453,0.3933115224048114,-0.14165767782842303,-0.4300105910202003,-0.02224585495377947,0.49558805721818283,0.5524343831581485,0.58471226674684,0.30010375013864643,-0.7285571946619316,-0.08121335569582977,-0.7970974309588821,-1.22079000784696,-1.0607732883316632,-0.10744697172237974,-0.849452939231049,-0.43199210965759255,0.5243663080897885,0.2822928753350729,1.0629135789905741,-0.476447754700573,-0.2659047625219071,0.2471921577901675,-0.08596381677072501,-1.0651251518899854,0.03085141388748347,-0.9719446965512735,-0.331870729002682,-1.2155100538543704,-0.28543267202115125,-1.0275893266865999,-1.221025645678692,-0.0403487916172656,0.06913195641756002,0.045910275174180004,-0.5761152402343404,0.16185819040290791,0.848469888641412,-0.30026166267705523,-0.5977075358293084,1.815778103890978,0.771118035543249,-1.0547834144634511,-2.0740877705795775,-1.8798082788116282,-0.2549834075553541,-0.3978704293658483,0.021991655895172588,-0.7164523436491067,-0.31951306874306445,0.5396184301111744,-0.5252760279689045,-0.7890559302103937,-0.6764682787007459,-0.2644216428498597,-0.6829141022504002,0.19200820070122873,0.8906785882135786,0.5905672299083622,-1.415690328338687,-0.2221748237084732,0.035549412506468765,1.2853883527357168,0.6268917396688097,0.254225527673404,-0.6455122782645971,-1.2041291126133866,0.6869258630718188,0.2719142996003414,-0.5817539453732723,-0.9368593544214534,-0.10573281065694001,0.42644811128207416,0.18320151545304128,0.9731670651364897,-0.9703044171175258,-0.2508934083649197,-1.0042677529068536,0.03888242484877241,0.2703345265647832,0.07341152994291378,-0.4771177673295162,-0.5282155817401072,0.5381570562518185,0.15200421317325374,-0.22015029980729564,-0.48304435243284505,1.5552098229759346,1.2780237032891493,-1.589445044450494,0.406710937384079,-1.9562994002356233,2.2941824842460212,0.13251557261491745,-0.3438132571660278,0.8545237655292585,0.11083665220385236,0.0018476538193080148,3.8106407314293715,-1.9787085596377718,2.437070908651427,-0.48641252916505756,1.4045701709501555,-0.6457882073367458,-0.624462848188458,-0.06554569553441368,0.5378518323046744,0.0630548485534989,0.04691095054979929,0.8946594853072088,2.497597550695739,-1.1675641093208249,-0.46074220054623927,-0.8264645178170986,0.8823113467404469,0.8328179407641706,0.9820163980038713,0.5065813485290404,0.17939855981557734,0.7832667116768766,-0.41878180556208244,0.2017958985135216,0.9753825749372345,0.4184122590905899,0.2608662288784798,-0.599144674829778,-0.5361890147776585,-0.15392704226163556,0.6331459088091744,0.28302509373832224,-0.666152989408797,1.0437815927946887,-0.31741793037632254,1.0589191466413923,0.7160537352405942,0.21059249308783068,0.9640529071167974,1.1976513110294051,1.2994232348662238,-0.016242644334455523,0.5497567591411755,0.5037652250238599,0.008833668834456002,-0.01158857264620325,-1.2151729115430345,0.6008523853213129,0.17297159856940128,-0.1342947711175199,0.29124454448321985,0.9949308070156575,0.7322711730657671,-2.03711537902463,2.630858040960822,-0.11385630671203938,2.67731105796404,1.7231485137607838,2.165263082511179,1.2552694414741097,0.30744808764630543,-0.5820117006212914,-0.6822525828442835,-0.4563958582706258,0.539576560804373,0.5459915097487009,-0.18820510984902353,-0.7981300752048238,-0.1694355614709688,0.17092473781164635,-0.7757509926253502,-0.20601972582604536,-1.1309690088775777,-0.7621965446734801,-0.6267814579748535,-0.9010056620137924,1.9880097313100915,-0.20267290582028807,-2.2510711333772018,-0.9423770039530216,-0.23646221261688116,-0.3147913132183927,0.17163593564762614,-0.6271287944099987,-0.335332541774681,0.09282541838001196,-1.0656176547652996,-0.26087908305479457,0.5443078412336667,0.6421641897984735,0.15875266326190077,-0.07858632695253098,0.5082505612653598,0.8148335099289903,-0.3748440171415884,-1.038707455230545,0.02838027229283992,-0.5615965038886644,0.9153545773775521,-0.1446225816206394,-0.7750459940339811,-0.45065316864476346,-0.9011868194663115,-0.9992477655144492,0.02850662822950324,-0.9614615601085296,-0.632339449536502,0.9855649313078046,1.5546965510743163,-1.1995488734625988,0.6814620139598012,-0.5297850449875952,-0.008502466535501841,-0.802628951055299,-2.3745693852310983,-0.9786332124957613,-0.9606457176283121,-0.662224861332111,-0.8392227427670652,-0.8261433606610671,1.0715093054642921,0.18873021252392108,-1.8046401229568538,-1.5635057499304068,-1.075829769096199,-0.5530498869929699,-0.9575462350279936,2.5390902327723315,-0.7162678453210161,-1.0007005199259953,-0.6684813232036146,0.4162530944852513,-0.7157122367417103,-0.5698262080036646,-0.8662409765095497,0.23758291851371388,0.9806125312278821,-1.2168877328524133,-0.5921319413660815,-0.41698759186258644,-2.020678261809762,-0.8218650363120633,0.25852905571029705,0.13776358261002333,-0.6691196052438234,0.041577446235411854,0.9522556732216746,-0.9709794182954273,-0.7516628985215859,0.21043664026564957,-1.1176995452007439,0.38464259170040593,1.635800345749397,-1.3554895090193313,0.22134173588149086,0.022119160406064948,-0.3615912440944253,-1.4119042693590822,0.22512235043489243,0.1872910241613665,-0.8936922839619111,-0.7427489061405008,-0.3094038662555383,-0.47335078041894635,-0.5663013978340226,-1.9775771493664607,0.46981655183193644,2.1164635778381187,1.474219015417762,1.8151804543497319,1.513333472923921,0.985339740297503,1.2174405355130844,2.0387244655734604,1.1425173259777943,1.2543300899583998,-0.769895359071522,-1.8494660513576324,0.523363833686648,-0.5852995773614137,-0.14970812425879118,-0.4896122507637968,0.30199011118899843,0.23808873061307642,0.9392184588728613,-0.19583355570970334,1.6085619207247064,1.1213933020676548,-0.0488825518117059,-0.585383209841353,-0.2926729933237742,2.228029529128434,2.571821808323827,1.0837453746040766,-0.33302692478474216,-0.327550832690815,-0.46780961261121645,0.03902450174674426,-0.3107685005945097,0.8898597166266757,0.23670543056765575,-0.6601634409144427,-0.5946149891212116,0.6289027269771678,-0.9040886109229398,-0.5497787950123828,-0.5252034249535924,-0.22064108532729015,-0.01869560036988066,-0.2871463508686822,0.019766640855021594,-1.0850342206260197,0.6817525344706887,0.212012805563397,-0.45914971698092216,-0.03690126131065816,-1.2138157310516182,1.8873662176903536,0.7143613105026857,-0.7182027647609094,-0.45307858521658645,0.3804130001831582,0.11345118051648316,-0.1512006721274437,-0.7946652344331966,-0.4456390024440239,-0.31307705181599,-0.4706227850004257,0.0872570550002815,-0.7184944722943926,-0.039656677268700286,-0.12574398452077534,-0.3113054848296194,-0.06970242548099732,-0.24183214011038032,0.7573351312072752,-0.19996917592148378,0.548296515870815,-0.9293498429550024,-0.10662240262544605,-0.8962808717922203,-0.5909085755159245,0.2788492518698784,-0.9507282951722023,-1.211792086169534,-1.5917512838068018,-0.3134796559724907,-0.7124261729462832,-0.4370268685694798,-0.5807402157716163,-1.0785648566210946,-1.016306899556137,-0.9742112405604268,-0.5282796318557569,-0.8064189002808988,0.5624140186881286,-0.4774996788670533,-0.02093711141361938,3.121428136587502,-0.5469396282614691,-0.27486822427111185,-0.4174975173305219,0.40933893994765375,-1.3308980183849313,2.0879413885537907,1.3806483683178405,-0.33147825120483704,-0.024979534300506003,0.6221178062230761,0.10160751411649413,1.7778708255789843,2.7276082252813065,-0.10882791565729251,0.12980959525812008,-0.9332303609699913,-0.867191505298354,-0.8000661248890147,-0.8077632350290764,-0.8984891576161845,-0.7937861438410138,-0.888065328236876,2.9156996880776345,-0.49108370317702504,-0.3895913646001338,0.8653426610371104,1.1676836333850118,0.011894651218976532,-0.04006707268947549,3.0807393148834596,-0.7567737296775444,1.9225953420216813,-0.6005191840231855,0.42660898706444184,-0.6901783333613105,1.0055593711459572,1.545867602232857,1.1052565052380827,0.8316176357357415,-1.1140410751202177,-1.360833872782003,-0.17654286344012998,-0.3984739998824225,0.06256150119522538,0.11927672644533273,-1.328331203714385,-1.2871291470704276,-0.4217433313772468,0.9070799195243477,2.677442298885755,2.7571727489019384,1.5181798394400114,-0.11314853290429412,-0.09558877673343961,-1.6536571495277987,-1.603586251325589,0.3502344098062618,0.07192592021715538,-0.6960822535006775,0.23300594809800818,-0.20086649139045626,-0.4741629313273529,2.9271392032342405,-0.3628095256618833,-0.6981292409202693,-0.08680012855122472,0.061400321247169244,0.8587323799250677,-0.48788388081449285,0.3539437320060012,-0.7562069257362625,-0.6080735996692921,-0.2649366865994884,-0.628934779423708,-0.2502071810227126,0.4804615203233183,-0.8968089025528143,-0.35124164291171556,-0.8226043304870654,-0.9289080055302099,-0.31157495792697865,-0.660891069071816,0.7625758372265308,1.445114595657779,0.9500686450319573,1.531661208696201,-0.33768072421887696,0.881907464393025,-1.6906486747927925,0.6899214205683954,1.0745280903363714,-0.8357698344585589,0.30554872430177576,-0.28010173055466525,3.4339864714345216,0.02720391720270343,-0.6493699543759541,-1.812629226813807,0.19871735035095212,1.6812556815648365,-0.5839030285131959,-0.768980534336576,0.7675909798563274,-0.5922853800172418,1.1491398449711472,-0.25077791876224,-0.859015392821509],\"yaxis\":\"y\",\"type\":\"scatter\"}],                        {\"template\":{\"data\":{\"histogram2dcontour\":[{\"type\":\"histogram2dcontour\",\"colorbar\":{\"outlinewidth\":0,\"ticks\":\"\"},\"colorscale\":[[0.0,\"#0d0887\"],[0.1111111111111111,\"#46039f\"],[0.2222222222222222,\"#7201a8\"],[0.3333333333333333,\"#9c179e\"],[0.4444444444444444,\"#bd3786\"],[0.5555555555555556,\"#d8576b\"],[0.6666666666666666,\"#ed7953\"],[0.7777777777777778,\"#fb9f3a\"],[0.8888888888888888,\"#fdca26\"],[1.0,\"#f0f921\"]]}],\"choropleth\":[{\"type\":\"choropleth\",\"colorbar\":{\"outlinewidth\":0,\"ticks\":\"\"}}],\"histogram2d\":[{\"type\":\"histogram2d\",\"colorbar\":{\"outlinewidth\":0,\"ticks\":\"\"},\"colorscale\":[[0.0,\"#0d0887\"],[0.1111111111111111,\"#46039f\"],[0.2222222222222222,\"#7201a8\"],[0.3333333333333333,\"#9c179e\"],[0.4444444444444444,\"#bd3786\"],[0.5555555555555556,\"#d8576b\"],[0.6666666666666666,\"#ed7953\"],[0.7777777777777778,\"#fb9f3a\"],[0.8888888888888888,\"#fdca26\"],[1.0,\"#f0f921\"]]}],\"heatmap\":[{\"type\":\"heatmap\",\"colorbar\":{\"outlinewidth\":0,\"ticks\":\"\"},\"colorscale\":[[0.0,\"#0d0887\"],[0.1111111111111111,\"#46039f\"],[0.2222222222222222,\"#7201a8\"],[0.3333333333333333,\"#9c179e\"],[0.4444444444444444,\"#bd3786\"],[0.5555555555555556,\"#d8576b\"],[0.6666666666666666,\"#ed7953\"],[0.7777777777777778,\"#fb9f3a\"],[0.8888888888888888,\"#fdca26\"],[1.0,\"#f0f921\"]]}],\"heatmapgl\":[{\"type\":\"heatmapgl\",\"colorbar\":{\"outlinewidth\":0,\"ticks\":\"\"},\"colorscale\":[[0.0,\"#0d0887\"],[0.1111111111111111,\"#46039f\"],[0.2222222222222222,\"#7201a8\"],[0.3333333333333333,\"#9c179e\"],[0.4444444444444444,\"#bd3786\"],[0.5555555555555556,\"#d8576b\"],[0.6666666666666666,\"#ed7953\"],[0.7777777777777778,\"#fb9f3a\"],[0.8888888888888888,\"#fdca26\"],[1.0,\"#f0f921\"]]}],\"contourcarpet\":[{\"type\":\"contourcarpet\",\"colorbar\":{\"outlinewidth\":0,\"ticks\":\"\"}}],\"contour\":[{\"type\":\"contour\",\"colorbar\":{\"outlinewidth\":0,\"ticks\":\"\"},\"colorscale\":[[0.0,\"#0d0887\"],[0.1111111111111111,\"#46039f\"],[0.2222222222222222,\"#7201a8\"],[0.3333333333333333,\"#9c179e\"],[0.4444444444444444,\"#bd3786\"],[0.5555555555555556,\"#d8576b\"],[0.6666666666666666,\"#ed7953\"],[0.7777777777777778,\"#fb9f3a\"],[0.8888888888888888,\"#fdca26\"],[1.0,\"#f0f921\"]]}],\"surface\":[{\"type\":\"surface\",\"colorbar\":{\"outlinewidth\":0,\"ticks\":\"\"},\"colorscale\":[[0.0,\"#0d0887\"],[0.1111111111111111,\"#46039f\"],[0.2222222222222222,\"#7201a8\"],[0.3333333333333333,\"#9c179e\"],[0.4444444444444444,\"#bd3786\"],[0.5555555555555556,\"#d8576b\"],[0.6666666666666666,\"#ed7953\"],[0.7777777777777778,\"#fb9f3a\"],[0.8888888888888888,\"#fdca26\"],[1.0,\"#f0f921\"]]}],\"mesh3d\":[{\"type\":\"mesh3d\",\"colorbar\":{\"outlinewidth\":0,\"ticks\":\"\"}}],\"scatter\":[{\"fillpattern\":{\"fillmode\":\"overlay\",\"size\":10,\"solidity\":0.2},\"type\":\"scatter\"}],\"parcoords\":[{\"type\":\"parcoords\",\"line\":{\"colorbar\":{\"outlinewidth\":0,\"ticks\":\"\"}}}],\"scatterpolargl\":[{\"type\":\"scatterpolargl\",\"marker\":{\"colorbar\":{\"outlinewidth\":0,\"ticks\":\"\"}}}],\"bar\":[{\"error_x\":{\"color\":\"#2a3f5f\"},\"error_y\":{\"color\":\"#2a3f5f\"},\"marker\":{\"line\":{\"color\":\"#E5ECF6\",\"width\":0.5},\"pattern\":{\"fillmode\":\"overlay\",\"size\":10,\"solidity\":0.2}},\"type\":\"bar\"}],\"scattergeo\":[{\"type\":\"scattergeo\",\"marker\":{\"colorbar\":{\"outlinewidth\":0,\"ticks\":\"\"}}}],\"scatterpolar\":[{\"type\":\"scatterpolar\",\"marker\":{\"colorbar\":{\"outlinewidth\":0,\"ticks\":\"\"}}}],\"histogram\":[{\"marker\":{\"pattern\":{\"fillmode\":\"overlay\",\"size\":10,\"solidity\":0.2}},\"type\":\"histogram\"}],\"scattergl\":[{\"type\":\"scattergl\",\"marker\":{\"colorbar\":{\"outlinewidth\":0,\"ticks\":\"\"}}}],\"scatter3d\":[{\"type\":\"scatter3d\",\"line\":{\"colorbar\":{\"outlinewidth\":0,\"ticks\":\"\"}},\"marker\":{\"colorbar\":{\"outlinewidth\":0,\"ticks\":\"\"}}}],\"scattermapbox\":[{\"type\":\"scattermapbox\",\"marker\":{\"colorbar\":{\"outlinewidth\":0,\"ticks\":\"\"}}}],\"scatterternary\":[{\"type\":\"scatterternary\",\"marker\":{\"colorbar\":{\"outlinewidth\":0,\"ticks\":\"\"}}}],\"scattercarpet\":[{\"type\":\"scattercarpet\",\"marker\":{\"colorbar\":{\"outlinewidth\":0,\"ticks\":\"\"}}}],\"carpet\":[{\"aaxis\":{\"endlinecolor\":\"#2a3f5f\",\"gridcolor\":\"white\",\"linecolor\":\"white\",\"minorgridcolor\":\"white\",\"startlinecolor\":\"#2a3f5f\"},\"baxis\":{\"endlinecolor\":\"#2a3f5f\",\"gridcolor\":\"white\",\"linecolor\":\"white\",\"minorgridcolor\":\"white\",\"startlinecolor\":\"#2a3f5f\"},\"type\":\"carpet\"}],\"table\":[{\"cells\":{\"fill\":{\"color\":\"#EBF0F8\"},\"line\":{\"color\":\"white\"}},\"header\":{\"fill\":{\"color\":\"#C8D4E3\"},\"line\":{\"color\":\"white\"}},\"type\":\"table\"}],\"barpolar\":[{\"marker\":{\"line\":{\"color\":\"#E5ECF6\",\"width\":0.5},\"pattern\":{\"fillmode\":\"overlay\",\"size\":10,\"solidity\":0.2}},\"type\":\"barpolar\"}],\"pie\":[{\"automargin\":true,\"type\":\"pie\"}]},\"layout\":{\"autotypenumbers\":\"strict\",\"colorway\":[\"#636efa\",\"#EF553B\",\"#00cc96\",\"#ab63fa\",\"#FFA15A\",\"#19d3f3\",\"#FF6692\",\"#B6E880\",\"#FF97FF\",\"#FECB52\"],\"font\":{\"color\":\"#2a3f5f\"},\"hovermode\":\"closest\",\"hoverlabel\":{\"align\":\"left\"},\"paper_bgcolor\":\"white\",\"plot_bgcolor\":\"#E5ECF6\",\"polar\":{\"bgcolor\":\"#E5ECF6\",\"angularaxis\":{\"gridcolor\":\"white\",\"linecolor\":\"white\",\"ticks\":\"\"},\"radialaxis\":{\"gridcolor\":\"white\",\"linecolor\":\"white\",\"ticks\":\"\"}},\"ternary\":{\"bgcolor\":\"#E5ECF6\",\"aaxis\":{\"gridcolor\":\"white\",\"linecolor\":\"white\",\"ticks\":\"\"},\"baxis\":{\"gridcolor\":\"white\",\"linecolor\":\"white\",\"ticks\":\"\"},\"caxis\":{\"gridcolor\":\"white\",\"linecolor\":\"white\",\"ticks\":\"\"}},\"coloraxis\":{\"colorbar\":{\"outlinewidth\":0,\"ticks\":\"\"}},\"colorscale\":{\"sequential\":[[0.0,\"#0d0887\"],[0.1111111111111111,\"#46039f\"],[0.2222222222222222,\"#7201a8\"],[0.3333333333333333,\"#9c179e\"],[0.4444444444444444,\"#bd3786\"],[0.5555555555555556,\"#d8576b\"],[0.6666666666666666,\"#ed7953\"],[0.7777777777777778,\"#fb9f3a\"],[0.8888888888888888,\"#fdca26\"],[1.0,\"#f0f921\"]],\"sequentialminus\":[[0.0,\"#0d0887\"],[0.1111111111111111,\"#46039f\"],[0.2222222222222222,\"#7201a8\"],[0.3333333333333333,\"#9c179e\"],[0.4444444444444444,\"#bd3786\"],[0.5555555555555556,\"#d8576b\"],[0.6666666666666666,\"#ed7953\"],[0.7777777777777778,\"#fb9f3a\"],[0.8888888888888888,\"#fdca26\"],[1.0,\"#f0f921\"]],\"diverging\":[[0,\"#8e0152\"],[0.1,\"#c51b7d\"],[0.2,\"#de77ae\"],[0.3,\"#f1b6da\"],[0.4,\"#fde0ef\"],[0.5,\"#f7f7f7\"],[0.6,\"#e6f5d0\"],[0.7,\"#b8e186\"],[0.8,\"#7fbc41\"],[0.9,\"#4d9221\"],[1,\"#276419\"]]},\"xaxis\":{\"gridcolor\":\"white\",\"linecolor\":\"white\",\"ticks\":\"\",\"title\":{\"standoff\":15},\"zerolinecolor\":\"white\",\"automargin\":true,\"zerolinewidth\":2},\"yaxis\":{\"gridcolor\":\"white\",\"linecolor\":\"white\",\"ticks\":\"\",\"title\":{\"standoff\":15},\"zerolinecolor\":\"white\",\"automargin\":true,\"zerolinewidth\":2},\"scene\":{\"xaxis\":{\"backgroundcolor\":\"#E5ECF6\",\"gridcolor\":\"white\",\"linecolor\":\"white\",\"showbackground\":true,\"ticks\":\"\",\"zerolinecolor\":\"white\",\"gridwidth\":2},\"yaxis\":{\"backgroundcolor\":\"#E5ECF6\",\"gridcolor\":\"white\",\"linecolor\":\"white\",\"showbackground\":true,\"ticks\":\"\",\"zerolinecolor\":\"white\",\"gridwidth\":2},\"zaxis\":{\"backgroundcolor\":\"#E5ECF6\",\"gridcolor\":\"white\",\"linecolor\":\"white\",\"showbackground\":true,\"ticks\":\"\",\"zerolinecolor\":\"white\",\"gridwidth\":2}},\"shapedefaults\":{\"line\":{\"color\":\"#2a3f5f\"}},\"annotationdefaults\":{\"arrowcolor\":\"#2a3f5f\",\"arrowhead\":0,\"arrowwidth\":1},\"geo\":{\"bgcolor\":\"white\",\"landcolor\":\"#E5ECF6\",\"subunitcolor\":\"white\",\"showland\":true,\"showlakes\":true,\"lakecolor\":\"white\"},\"title\":{\"x\":0.05},\"mapbox\":{\"style\":\"light\"}}},\"xaxis\":{\"anchor\":\"y\",\"domain\":[0.0,1.0],\"title\":{\"text\":\"pca0\",\"font\":{\"size\":20}},\"tickfont\":{\"size\":20}},\"yaxis\":{\"anchor\":\"x\",\"domain\":[0.0,1.0],\"title\":{\"text\":\"pca1\",\"font\":{\"size\":20}},\"tickfont\":{\"size\":20}},\"coloraxis\":{\"colorbar\":{\"title\":{\"text\":\"ACT Composite 75th percentile\"}},\"colorscale\":[[0.0,\"#0d0887\"],[0.1111111111111111,\"#46039f\"],[0.2222222222222222,\"#7201a8\"],[0.3333333333333333,\"#9c179e\"],[0.4444444444444444,\"#bd3786\"],[0.5555555555555556,\"#d8576b\"],[0.6666666666666666,\"#ed7953\"],[0.7777777777777778,\"#fb9f3a\"],[0.8888888888888888,\"#fdca26\"],[1.0,\"#f0f921\"]]},\"legend\":{\"tracegroupgap\":0},\"title\":{\"text\":\"PCA of ACT Composite 75th percentile on 2017-2018 IPEDS Data\",\"font\":{\"size\":25}}},                        {\"responsive\": true}                    ).then(function(){\n",
       "                            \n",
       "var gd = document.getElementById('5c3e7f2a-5d82-4d40-baa7-4c34e8a79d86');\n",
       "var x = new MutationObserver(function (mutations, observer) {{\n",
       "        var display = window.getComputedStyle(gd).display;\n",
       "        if (!display || display === 'none') {{\n",
       "            console.log([gd, 'removed!']);\n",
       "            Plotly.purge(gd);\n",
       "            observer.disconnect();\n",
       "        }}\n",
       "}});\n",
       "\n",
       "// Listen for the removal of the full notebook cells\n",
       "var notebookContainer = gd.closest('#notebook-container');\n",
       "if (notebookContainer) {{\n",
       "    x.observe(notebookContainer, {childList: true});\n",
       "}}\n",
       "\n",
       "// Listen for the clearing of the current output cell\n",
       "var outputEl = gd.closest('.output');\n",
       "if (outputEl) {{\n",
       "    x.observe(outputEl, {childList: true});\n",
       "}}\n",
       "\n",
       "                        })                };                });            </script>        </div>"
      ]
     },
     "metadata": {},
     "output_type": "display_data"
    },
    {
     "data": {
      "application/vnd.plotly.v1+json": {
       "config": {
        "plotlyServerURL": "https://plot.ly"
       },
       "data": [
        {
         "customdata": [
          [
           "Abilene Christian University",
           3401
          ],
          [
           "Abraham Baldwin Agricultural College",
           2660
          ],
          [
           "Adams State University",
           1483
          ],
          [
           "Adelphi University",
           5056
          ],
          [
           "Adrian College",
           1751
          ],
          [
           "AdventHealth University",
           528
          ],
          [
           "Alabama A & M University",
           4842
          ],
          [
           "Alabama State University",
           3643
          ],
          [
           "Albertus Magnus College",
           954
          ],
          [
           "Albion College",
           1509
          ],
          [
           "Alcorn State University",
           2855
          ],
          [
           "Allegheny College",
           1724
          ],
          [
           "American University",
           7952
          ],
          [
           "Anderson University",
           1331
          ],
          [
           "Anderson University",
           2525
          ],
          [
           "Andrew College",
           205
          ],
          [
           "Andrews University",
           1346
          ],
          [
           "Angelo State University",
           5459
          ],
          [
           "Appalachian Bible College",
           162
          ],
          [
           "Appalachian State University",
           16421
          ],
          [
           "Aquinas College",
           1299
          ],
          [
           "Arcadia University",
           1951
          ],
          [
           "Arizona Christian University",
           642
          ],
          [
           "Arizona State University Campus Immersion",
           39396
          ],
          [
           "Arkansas State University",
           6789
          ],
          [
           "Art Academy of Cincinnati",
           183
          ],
          [
           "Ashland University",
           3490
          ],
          [
           "Auburn University",
           22460
          ],
          [
           "Auburn University at Montgomery",
           3554
          ],
          [
           "Augsburg University",
           1992
          ],
          [
           "Augusta University",
           4419
          ],
          [
           "Augustana University",
           1717
          ],
          [
           "Austin Peay State University",
           6993
          ],
          [
           "Azusa Pacific University",
           5003
          ],
          [
           "Bacone College",
           243
          ],
          [
           "Baker University",
           1062
          ],
          [
           "Barnard College",
           2519
          ],
          [
           "Barry University",
           2968
          ],
          [
           "Barton College",
           932
          ],
          [
           "Baylor University",
           13976
          ],
          [
           "Becker College",
           1469
          ],
          [
           "Bellarmine University",
           2408
          ],
          [
           "Belmont Abbey College",
           1440
          ],
          [
           "Belmont University",
           6367
          ],
          [
           "Benedictine University",
           2372
          ],
          [
           "Bethel University",
           1060
          ],
          [
           "Bethel University",
           2417
          ],
          [
           "Bethel University",
           2981
          ],
          [
           "Biola University",
           3779
          ],
          [
           "Black Hills State University",
           2029
          ],
          [
           "Blackburn College",
           548
          ],
          [
           "Bloomfield College",
           1555
          ],
          [
           "Bloomsburg University of Pennsylvania",
           7512
          ],
          [
           "Blue Mountain College",
           583
          ],
          [
           "Bluefield University",
           822
          ],
          [
           "Bluffton University",
           605
          ],
          [
           "Boise Bible College",
           96
          ],
          [
           "Boise State University",
           12787
          ],
          [
           "Boston College",
           9696
          ],
          [
           "Boston University",
           17396
          ],
          [
           "Bowling Green State University-Main Campus",
           12987
          ],
          [
           "Bradley University",
           4462
          ],
          [
           "Brenau University",
           1090
          ],
          [
           "Brewton-Parker College",
           454
          ],
          [
           "Brigham Young University",
           28253
          ],
          [
           "Brigham Young University-Hawaii",
           2868
          ],
          [
           "Brigham Young University-Idaho",
           18335
          ],
          [
           "Buena Vista University",
           1394
          ],
          [
           "Bushnell University",
           417
          ],
          [
           "Butler University",
           4520
          ],
          [
           "Cairn University-Langhorne",
           756
          ],
          [
           "California Baptist University",
           6859
          ],
          [
           "California Polytechnic State University-San Luis Obispo",
           20333
          ],
          [
           "California State Polytechnic University-Humboldt",
           6735
          ],
          [
           "California State Polytechnic University-Pomona",
           21824
          ],
          [
           "California State University-Chico",
           15254
          ],
          [
           "California State University-Fresno",
           19369
          ],
          [
           "California State University-Fullerton",
           27936
          ],
          [
           "California State University-Long Beach",
           27617
          ],
          [
           "California State University-Los Angeles",
           20748
          ],
          [
           "California State University-Monterey Bay",
           6048
          ],
          [
           "California State University-Northridge",
           29289
          ],
          [
           "California State University-Sacramento",
           23676
          ],
          [
           "California State University-San Bernardino",
           16166
          ],
          [
           "California State University-San Marcos",
           11895
          ],
          [
           "California University of Pennsylvania",
           4210
          ],
          [
           "Calvary University",
           182
          ],
          [
           "Calvin University",
           3417
          ],
          [
           "Campbell University",
           3471
          ],
          [
           "Capital University",
           2316
          ],
          [
           "Capitol Technology University",
           375
          ],
          [
           "Cardinal Stritch University",
           807
          ],
          [
           "Carlow University",
           1071
          ],
          [
           "Carnegie Mellon University",
           6343
          ],
          [
           "Carolina University",
           398
          ],
          [
           "Carroll University",
           2690
          ],
          [
           "Carson-Newman University",
           1661
          ],
          [
           "Carthage College",
           2649
          ],
          [
           "Case Western Reserve University",
           5095
          ],
          [
           "Castleton University",
           1668
          ],
          [
           "Cedar Crest College",
           929
          ],
          [
           "Cedarville University",
           3278
          ],
          [
           "Centenary College of Louisiana",
           545
          ],
          [
           "Centenary University",
           1058
          ],
          [
           "Central Baptist College",
           576
          ],
          [
           "Central Connecticut State University",
           7576
          ],
          [
           "Central Methodist University-College of Liberal Arts and Sciences",
           1131
          ],
          [
           "Central Michigan University",
           14264
          ],
          [
           "Central State University",
           2029
          ],
          [
           "Central Washington University",
           9954
          ],
          [
           "Chaminade University of Honolulu",
           1401
          ],
          [
           "Champlain College",
           2488
          ],
          [
           "Chapman University",
           6785
          ],
          [
           "Charleston Southern University",
           2729
          ],
          [
           "Chicago State University",
           1287
          ],
          [
           "Citadel Military College of South Carolina",
           2654
          ],
          [
           "Claflin University",
           1984
          ],
          [
           "Claremont McKenna College",
           1321
          ],
          [
           "Clarion University of Pennsylvania",
           3127
          ],
          [
           "Clarke University",
           711
          ],
          [
           "Cleary University",
           353
          ],
          [
           "Clemson University",
           18971
          ],
          [
           "Cleveland State University",
           9348
          ],
          [
           "Coastal Carolina University",
           8941
          ],
          [
           "Coker University",
           1001
          ],
          [
           "College of Charleston",
           9103
          ],
          [
           "College of Coastal Georgia",
           2078
          ],
          [
           "College of Saint Benedict",
           1764
          ],
          [
           "Colorado Mesa University",
           7079
          ],
          [
           "Colorado School of Mines",
           4709
          ],
          [
           "Colorado State University Pueblo",
           3134
          ],
          [
           "Colorado State University-Fort Collins",
           22527
          ],
          [
           "Columbia International University",
           513
          ],
          [
           "Columbia University in the City of New York",
           7666
          ],
          [
           "Columbus State University",
           4702
          ],
          [
           "Concord University",
           1577
          ],
          [
           "Concordia College",
           1112
          ],
          [
           "Concordia University Texas",
           1332
          ],
          [
           "Concordia University-Irvine",
           1661
          ],
          [
           "Converse University",
           842
          ],
          [
           "Cooper Union for the Advancement of Science and Art",
           856
          ],
          [
           "Coppin State University",
           1765
          ],
          [
           "Corban University",
           871
          ],
          [
           "Cornerstone University",
           1288
          ],
          [
           "Cottey College",
           268
          ],
          [
           "Creighton University",
           4291
          ],
          [
           "Crown College",
           732
          ],
          [
           "Cumberland University",
           1694
          ],
          [
           "Curry College",
           1991
          ],
          [
           "D'Youville College",
           1262
          ],
          [
           "Dakota State University",
           1448
          ],
          [
           "Dallas Christian College",
           167
          ],
          [
           "Davis & Elkins College",
           743
          ],
          [
           "Defiance College",
           474
          ],
          [
           "Delaware State University",
           3678
          ],
          [
           "Delta State University",
           1989
          ],
          [
           "DeSales University",
           1959
          ],
          [
           "Dickinson State University",
           900
          ],
          [
           "DigiPen Institute of Technology",
           831
          ],
          [
           "Dominican University",
           1974
          ],
          [
           "Dominican University of California",
           1135
          ],
          [
           "Drake University",
           2834
          ],
          [
           "Drexel University",
           13942
          ],
          [
           "Drury University",
           1462
          ],
          [
           "Duquesne University",
           5896
          ],
          [
           "East Carolina University",
           19562
          ],
          [
           "East Central University",
           2456
          ],
          [
           "East Stroudsburg University of Pennsylvania",
           5243
          ],
          [
           "East Tennessee State University",
           9533
          ],
          [
           "East Texas Baptist University",
           1296
          ],
          [
           "Eastern Kentucky University",
           10451
          ],
          [
           "Eastern Mennonite University",
           849
          ],
          [
           "Eastern Michigan University",
           11403
          ],
          [
           "Eastern New Mexico University-Main Campus",
           2488
          ],
          [
           "Eastern Oregon University",
           1689
          ],
          [
           "Eastern University",
           1463
          ],
          [
           "Eastern Washington University",
           9910
          ],
          [
           "Eckerd College",
           1940
          ],
          [
           "Edgewood College",
           1281
          ],
          [
           "Edinboro University of Pennsylvania",
           3201
          ],
          [
           "Edward Waters University",
           925
          ],
          [
           "Elizabeth City State University",
           1425
          ],
          [
           "Elizabethtown College",
           1595
          ],
          [
           "Emerson College",
           3779
          ],
          [
           "Emmanuel College",
           811
          ],
          [
           "Emmaus Bible College",
           219
          ],
          [
           "Emory & Henry College",
           956
          ],
          [
           "Erskine College",
           561
          ],
          [
           "Eureka College",
           548
          ],
          [
           "Fairmont State University",
           3114
          ],
          [
           "Faulkner University",
           1585
          ],
          [
           "Fayetteville State University",
           4058
          ],
          [
           "Ferris State University",
           8079
          ],
          [
           "Finlandia University",
           376
          ],
          [
           "Fisk University",
           716
          ],
          [
           "Fitchburg State University",
           3319
          ],
          [
           "Florida Agricultural and Mechanical University",
           6958
          ],
          [
           "Florida Atlantic University",
           16436
          ],
          [
           "Florida College",
           494
          ],
          [
           "Florida Gulf Coast University",
           11191
          ],
          [
           "Florida Institute of Technology",
           3271
          ],
          [
           "Florida International University",
           27906
          ],
          [
           "Florida Polytechnic University",
           1251
          ],
          [
           "Florida Southern College",
           2518
          ],
          [
           "Florida State University",
           29301
          ],
          [
           "Fordham University",
           9149
          ],
          [
           "Fort Lewis College",
           2883
          ],
          [
           "Fort Valley State University",
           2148
          ],
          [
           "Francis Marion University",
           2883
          ],
          [
           "Franciscan University of Steubenville",
           2039
          ],
          [
           "Freed-Hardeman University",
           1268
          ],
          [
           "Fresno Pacific University",
           2445
          ],
          [
           "Friends University",
           886
          ],
          [
           "Frostburg State University",
           3805
          ],
          [
           "Furman University",
           2665
          ],
          [
           "Gannon University",
           2653
          ],
          [
           "Gardner-Webb University",
           1641
          ],
          [
           "Geneva College",
           1180
          ],
          [
           "George Fox University",
           2485
          ],
          [
           "George Mason University",
           21213
          ],
          [
           "George Washington University",
           11334
          ],
          [
           "Georgetown University",
           6990
          ],
          [
           "Georgia College & State University",
           5410
          ],
          [
           "Georgia Institute of Technology-Main Campus",
           14318
          ],
          [
           "Georgia Southern University",
           19502
          ],
          [
           "Georgia Southwestern State University",
           1674
          ],
          [
           "Georgia State University",
           21057
          ],
          [
           "Georgian Court University",
           1417
          ],
          [
           "Gonzaga University",
           5237
          ],
          [
           "Gordon College",
           1555
          ],
          [
           "Gordon State College",
           2376
          ],
          [
           "Goshen College",
           798
          ],
          [
           "Graceland University-Lamoni",
           1023
          ],
          [
           "Grand Valley State University",
           19233
          ],
          [
           "Grand View University",
           1589
          ],
          [
           "Greensboro College",
           737
          ],
          [
           "Greenville University",
           872
          ],
          [
           "Gwynedd Mercy University",
           1898
          ],
          [
           "Hanover College",
           1097
          ],
          [
           "Hardin-Simmons University",
           1627
          ],
          [
           "Harding University",
           3742
          ],
          [
           "Hawaii Pacific University",
           2384
          ],
          [
           "Heidelberg University",
           1035
          ],
          [
           "Henderson State University",
           2742
          ],
          [
           "Hiram College",
           824
          ],
          [
           "Hofstra University",
           6329
          ],
          [
           "Hollins University",
           666
          ],
          [
           "Holy Cross College",
           455
          ],
          [
           "Holy Family University",
           1562
          ],
          [
           "Holy Names University",
           594
          ],
          [
           "Hope International University",
           597
          ],
          [
           "Houston Baptist University",
           1876
          ],
          [
           "Howard Payne University",
           812
          ],
          [
           "Howard University",
           5991
          ],
          [
           "Huntingdon College",
           881
          ],
          [
           "Huntington University",
           884
          ],
          [
           "Husson University",
           2394
          ],
          [
           "Huston-Tillotson University",
           1035
          ],
          [
           "Illinois Institute of Technology",
           2792
          ],
          [
           "Indiana Institute of Technology",
           1463
          ],
          [
           "Indiana University of Pennsylvania-Main Campus",
           8583
          ],
          [
           "Indiana University-Bloomington",
           32109
          ],
          [
           "Indiana University-Purdue University-Indianapolis",
           17555
          ],
          [
           "Indiana University-South Bend",
           3614
          ],
          [
           "Indiana University-Southeast",
           3204
          ],
          [
           "Indiana Wesleyan University-Marion",
           2598
          ],
          [
           "Iowa State University",
           27929
          ],
          [
           "Iowa Wesleyan University",
           564
          ],
          [
           "Jackson State University",
           4840
          ],
          [
           "Jacksonville State University",
           5459
          ],
          [
           "Jacksonville University",
           2292
          ],
          [
           "John Carroll University",
           2996
          ],
          [
           "John Paul the Great Catholic University",
           268
          ],
          [
           "Johnson C Smith University",
           1427
          ],
          [
           "Johnson University",
           632
          ],
          [
           "Johnson University Florida",
           187
          ],
          [
           "Judson University",
           678
          ],
          [
           "Kansas Wesleyan University",
           606
          ],
          [
           "Kennesaw State University",
           24150
          ],
          [
           "Kent State University at Kent",
           18640
          ],
          [
           "Kentucky State University",
           1069
          ],
          [
           "Kettering University",
           1825
          ],
          [
           "King University",
           1460
          ],
          [
           "Kutztown University of Pennsylvania",
           6936
          ],
          [
           "Kuyper College",
           130
          ],
          [
           "La Roche University",
           1118
          ],
          [
           "La Sierra University",
           1630
          ],
          [
           "LaGrange College",
           831
          ],
          [
           "Lake Superior State University",
           1669
          ],
          [
           "Lakeland University",
           782
          ],
          [
           "Lamar University",
           5735
          ],
          [
           "Lancaster Bible College",
           986
          ],
          [
           "Lander University",
           2764
          ],
          [
           "Lawrence Technological University",
           1693
          ],
          [
           "Lawrence University",
           1420
          ],
          [
           "Le Moyne College",
           2353
          ],
          [
           "Lebanon Valley College",
           1651
          ],
          [
           "Lee University",
           3780
          ],
          [
           "Lesley University",
           1700
          ],
          [
           "LeTourneau University",
           1315
          ],
          [
           "Lewis University",
           3575
          ],
          [
           "Lewis-Clark State College",
           2209
          ],
          [
           "Liberty University",
           27401
          ],
          [
           "Life Pacific University",
           446
          ],
          [
           "Life University",
           727
          ],
          [
           "LIM College",
           1391
          ],
          [
           "Limestone University",
           1797
          ],
          [
           "Lincoln Memorial University",
           1395
          ],
          [
           "Lincoln University",
           1963
          ],
          [
           "Lindenwood University",
           5969
          ],
          [
           "Linfield University-McMinnville Campus",
           1334
          ],
          [
           "Lipscomb University",
           2738
          ],
          [
           "Livingstone College",
           1139
          ],
          [
           "Lock Haven University",
           2791
          ],
          [
           "Long Island University",
           5688
          ],
          [
           "Loras College",
           1345
          ],
          [
           "Louisburg College",
           591
          ],
          [
           "Louisiana College",
           893
          ],
          [
           "Louisiana State University and Agricultural & Mechanical College",
           22418
          ],
          [
           "Louisiana Tech University",
           8147
          ],
          [
           "Lourdes University",
           842
          ],
          [
           "Loyola Marymount University",
           6466
          ],
          [
           "Loyola University Chicago",
           11189
          ],
          [
           "Loyola University New Orleans",
           2691
          ],
          [
           "Lubbock Christian University",
           1272
          ],
          [
           "Luther College",
           1977
          ],
          [
           "Madonna University",
           1431
          ],
          [
           "Malone University",
           1044
          ],
          [
           "Manhattan College",
           3455
          ],
          [
           "Manor College",
           480
          ],
          [
           "Mansfield University of Pennsylvania",
           1453
          ],
          [
           "Maranatha Baptist University",
           530
          ],
          [
           "Marian University",
           1995
          ],
          [
           "Marquette University",
           8121
          ],
          [
           "Mars Hill University",
           1079
          ],
          [
           "Marshall University",
           7460
          ],
          [
           "Martin Luther College",
           751
          ],
          [
           "Mary Baldwin University",
           960
          ],
          [
           "Maryland Institute College of Art",
           1689
          ],
          [
           "Marymount Manhattan College",
           1861
          ],
          [
           "Marymount University",
           2070
          ],
          [
           "Marywood University",
           1740
          ],
          [
           "McKendree University",
           1631
          ],
          [
           "McMurry University",
           990
          ],
          [
           "McNeese State University",
           5641
          ],
          [
           "McPherson College",
           706
          ],
          [
           "MCPHS University",
           3727
          ],
          [
           "Mercer University",
           4259
          ],
          [
           "Meredith College",
           1531
          ],
          [
           "Methodist University",
           1578
          ],
          [
           "Miami University-Oxford",
           16714
          ],
          [
           "Michigan State University",
           35744
          ],
          [
           "Michigan Technological University",
           5465
          ],
          [
           "Mid-Atlantic Christian University",
           176
          ],
          [
           "Middle Georgia State University",
           4788
          ],
          [
           "Middle Tennessee State University",
           15511
          ],
          [
           "Midland University",
           1194
          ],
          [
           "Midway University",
           819
          ],
          [
           "Midwestern Baptist Theological Seminary",
           280
          ],
          [
           "Midwestern State University",
           4256
          ],
          [
           "Milligan University",
           734
          ],
          [
           "Millikin University",
           1894
          ],
          [
           "Millsaps College",
           792
          ],
          [
           "Milwaukee School of Engineering",
           2491
          ],
          [
           "Minnesota State University Moorhead",
           3897
          ],
          [
           "Minot State University",
           1979
          ],
          [
           "Misericordia University",
           1614
          ],
          [
           "Mississippi College",
           2772
          ],
          [
           "Mississippi University for Women",
           2002
          ],
          [
           "Missouri Baptist University",
           1471
          ],
          [
           "Missouri State University-Springfield",
           14924
          ],
          [
           "Missouri University of Science and Technology",
           6065
          ],
          [
           "Montana State University",
           12516
          ],
          [
           "Montana Technological University",
           1457
          ],
          [
           "Morehouse College",
           2146
          ],
          [
           "Morgan State University",
           5830
          ],
          [
           "Mount Saint Joseph University",
           1006
          ],
          [
           "Mount Saint Mary College",
           1675
          ],
          [
           "Mount St. Mary's University",
           1726
          ],
          [
           "Mount Vernon Nazarene University",
           1519
          ],
          [
           "Murray State University",
           6236
          ],
          [
           "Muskingum University",
           1353
          ],
          [
           "New Jersey Institute of Technology",
           6827
          ],
          [
           "New Mexico Institute of Mining and Technology",
           1269
          ],
          [
           "New Mexico State University-Main Campus",
           9712
          ],
          [
           "New York Institute of Technology",
           3250
          ],
          [
           "Newman University",
           1029
          ],
          [
           "Niagara University",
           2670
          ],
          [
           "Nicholls State University",
           4893
          ],
          [
           "North Carolina A & T State University",
           9591
          ],
          [
           "North Carolina Central University",
           5328
          ],
          [
           "North Carolina State University at Raleigh",
           22317
          ],
          [
           "North Carolina Wesleyan College",
           1677
          ],
          [
           "North Central University",
           929
          ],
          [
           "North Dakota State University-Main Campus",
           10237
          ],
          [
           "North Greenville University",
           1937
          ],
          [
           "North Park University",
           1783
          ],
          [
           "Northeastern State University",
           4641
          ],
          [
           "Northern Kentucky University",
           8551
          ],
          [
           "Northern Michigan University",
           6184
          ],
          [
           "Northern State University",
           1333
          ],
          [
           "Northwest Missouri State University",
           4928
          ],
          [
           "Northwest Nazarene University",
           1089
          ],
          [
           "Northwest University",
           936
          ],
          [
           "Northwestern State University of Louisiana",
           6307
          ],
          [
           "Northwood University",
           1695
          ],
          [
           "Notre Dame College",
           1163
          ],
          [
           "Notre Dame de Namur University",
           669
          ],
          [
           "Nova Southeastern University",
           3685
          ],
          [
           "Oakland City University",
           597
          ],
          [
           "Oakland University",
           12656
          ],
          [
           "Oakwood University",
           1449
          ],
          [
           "Oglethorpe University",
           1212
          ],
          [
           "Ohio Dominican University",
           952
          ],
          [
           "Ohio Northern University",
           2118
          ],
          [
           "Ohio State University-Main Campus",
           42831
          ],
          [
           "Ohio University-Main Campus",
           17046
          ],
          [
           "Ohio Valley University",
           374
          ],
          [
           "Oklahoma Baptist University",
           1788
          ],
          [
           "Oklahoma Christian University",
           1753
          ],
          [
           "Oklahoma City University",
           1591
          ],
          [
           "Oklahoma State University-Main Campus",
           17722
          ],
          [
           "Oklahoma Wesleyan University",
           563
          ],
          [
           "Old Dominion University",
           15003
          ],
          [
           "Olivet Nazarene University",
           2946
          ],
          [
           "Oral Roberts University",
           2851
          ],
          [
           "Oregon Institute of Technology",
           2311
          ],
          [
           "Oregon State University",
           18591
          ],
          [
           "Oregon State University-Cascades Campus",
           432
          ],
          [
           "Ottawa University-Ottawa",
           671
          ],
          [
           "Otterbein University",
           2284
          ],
          [
           "Ouachita Baptist University",
           1529
          ],
          [
           "Our Lady of the Lake University",
           1291
          ],
          [
           "Ozark Christian College",
           488
          ],
          [
           "Paine College",
           432
          ],
          [
           "Palm Beach Atlantic University",
           2269
          ],
          [
           "Paul Quinn College",
           521
          ],
          [
           "Pepperdine University",
           3336
          ],
          [
           "Pfeiffer University",
           845
          ],
          [
           "Piedmont University",
           1153
          ],
          [
           "Point Loma Nazarene University",
           2595
          ],
          [
           "Point Park University",
           2749
          ],
          [
           "Point University",
           1108
          ],
          [
           "Pomona College",
           1559
          ],
          [
           "Portland State University",
           14291
          ],
          [
           "Prairie View A & M University",
           7953
          ],
          [
           "Pratt Institute-Main",
           3536
          ],
          [
           "Presentation College",
           445
          ],
          [
           "Providence College",
           3904
          ],
          [
           "Purdue University Fort Wayne",
           5702
          ],
          [
           "Purdue University Northwest",
           5806
          ],
          [
           "Purdue University-Main Campus",
           31849
          ],
          [
           "Queens University of Charlotte",
           1552
          ],
          [
           "Quincy University",
           886
          ],
          [
           "Ramapo College of New Jersey",
           4821
          ],
          [
           "Randolph-Macon College",
           1464
          ],
          [
           "Reed College",
           1453
          ],
          [
           "Regent University",
           2355
          ],
          [
           "Reinhardt University",
           1307
          ],
          [
           "Rhode Island College",
           5104
          ],
          [
           "Rhodes College",
           1992
          ],
          [
           "Rider University",
           3535
          ],
          [
           "Roanoke College",
           1956
          ],
          [
           "Robert Morris University",
           3683
          ],
          [
           "Rochester Institute of Technology",
           12486
          ],
          [
           "Rochester University",
           697
          ],
          [
           "Rockford University",
           888
          ],
          [
           "Rocky Mountain College",
           867
          ],
          [
           "Roosevelt University",
           2067
          ],
          [
           "Rosemont College",
           462
          ],
          [
           "Rowan University",
           14043
          ],
          [
           "Rutgers University-Camden",
           4764
          ],
          [
           "Rutgers University-New Brunswick",
           34052
          ],
          [
           "Rutgers University-Newark",
           7726
          ],
          [
           "Saginaw Valley State University",
           6472
          ],
          [
           "Saint Anselm College",
           2007
          ],
          [
           "Saint Cloud State University",
           7844
          ],
          [
           "Saint Edward's University",
           3477
          ],
          [
           "Saint Francis University",
           1485
          ],
          [
           "Saint John Fisher College",
           2616
          ],
          [
           "Saint Johns University",
           1646
          ],
          [
           "Saint Joseph's University",
           4350
          ],
          [
           "Saint Louis University",
           6440
          ],
          [
           "Saint Martin's University",
           1172
          ],
          [
           "Saint Mary's University of Minnesota",
           1118
          ],
          [
           "Saint Mary-of-the-Woods College",
           550
          ],
          [
           "Saint Norbert College",
           2083
          ],
          [
           "Saint Xavier University",
           2713
          ],
          [
           "Salem College",
           552
          ],
          [
           "Sam Houston State University",
           15073
          ],
          [
           "Samford University",
           3453
          ],
          [
           "San Diego Christian College",
           440
          ],
          [
           "San Diego State University",
           27453
          ],
          [
           "San Francisco State University",
           22191
          ],
          [
           "San Jose State University",
           23099
          ],
          [
           "Savannah College of Art and Design",
           9752
          ],
          [
           "Savannah State University",
           3338
          ],
          [
           "School of the Art Institute of Chicago",
           2746
          ],
          [
           "Schreiner University",
           1110
          ],
          [
           "Scripps College",
           1046
          ],
          [
           "Seattle Pacific University",
           2781
          ],
          [
           "Seattle University",
           4469
          ],
          [
           "Seton Hall University",
           5777
          ],
          [
           "Shenandoah University",
           1967
          ],
          [
           "Shepherd University",
           2543
          ],
          [
           "Shippensburg University of Pennsylvania",
           5018
          ],
          [
           "Shorter University",
           1078
          ],
          [
           "Sierra Nevada University",
           372
          ],
          [
           "Simmons University",
           1631
          ],
          [
           "Simpson College",
           1252
          ],
          [
           "Simpson University",
           621
          ],
          [
           "Slippery Rock University of Pennsylvania",
           7032
          ],
          [
           "Sonoma State University",
           7888
          ],
          [
           "South Dakota School of Mines and Technology",
           1873
          ],
          [
           "South Dakota State University",
           8169
          ],
          [
           "Southeastern University",
           4877
          ],
          [
           "Southern Arkansas University Main Campus",
           3018
          ],
          [
           "Southern Connecticut State University",
           6877
          ],
          [
           "Southern Illinois University-Carbondale",
           8088
          ],
          [
           "Southern Illinois University-Edwardsville",
           8979
          ],
          [
           "Southern Methodist University",
           6273
          ],
          [
           "Southern Oregon University",
           3397
          ],
          [
           "Southern University and A & M College",
           4868
          ],
          [
           "Southern Utah University",
           6808
          ],
          [
           "Southern Virginia University",
           935
          ],
          [
           "Southwest Baptist University",
           1780
          ],
          [
           "Southwestern Adventist University",
           715
          ],
          [
           "Southwestern Assemblies of God University",
           1398
          ],
          [
           "Southwestern Christian University",
           487
          ],
          [
           "Southwestern College",
           683
          ],
          [
           "Spelman College",
           2123
          ],
          [
           "Spring Arbor University",
           1181
          ],
          [
           "St Bonaventure University",
           1724
          ],
          [
           "St Catherine University",
           2143
          ],
          [
           "St. Andrews University",
           623
          ],
          [
           "St. John's University-New York",
           11734
          ],
          [
           "St. Mary's College of Maryland",
           1503
          ],
          [
           "St. Mary's University",
           2262
          ],
          [
           "St. Thomas University",
           933
          ],
          [
           "State University of New York at New Paltz",
           6190
          ],
          [
           "Stephen F Austin State University",
           9376
          ],
          [
           "Stephens College",
           457
          ],
          [
           "Sterling College",
           556
          ],
          [
           "Stevenson University",
           2708
          ],
          [
           "Stockton University",
           8136
          ],
          [
           "Stony Brook University",
           16341
          ],
          [
           "SUNY at Purchase College",
           3767
          ],
          [
           "SUNY Brockport",
           6343
          ],
          [
           "SUNY College at Plattsburgh",
           4853
          ],
          [
           "SUNY College of Environmental Science and Forestry",
           1776
          ],
          [
           "SUNY College of Technology at Alfred",
           3456
          ],
          [
           "SUNY College of Technology at Canton",
           2743
          ],
          [
           "SUNY Morrisville",
           2508
          ],
          [
           "SUNY Oneonta",
           5942
          ],
          [
           "Syracuse University",
           14655
          ],
          [
           "Tarleton State University",
           8378
          ],
          [
           "Taylor University",
           1846
          ],
          [
           "Tennessee Technological University",
           7999
          ],
          [
           "Tennessee Wesleyan University",
           885
          ],
          [
           "Texas A & M International University",
           5235
          ],
          [
           "Texas A & M University-College Station",
           47399
          ],
          [
           "Texas A & M University-Commerce",
           6106
          ],
          [
           "Texas A & M University-Corpus Christi",
           7713
          ],
          [
           "Texas A & M University-Kingsville",
           5163
          ],
          [
           "Texas A&M University-San Antonio",
           2933
          ],
          [
           "Texas A&M University-Texarkana",
           1228
          ],
          [
           "Texas Christian University",
           9162
          ],
          [
           "Texas Lutheran University",
           1338
          ],
          [
           "Texas Southern University",
           6503
          ],
          [
           "Texas State University",
           28042
          ],
          [
           "Texas Tech University",
           27648
          ],
          [
           "Texas Wesleyan University",
           1290
          ],
          [
           "Texas Woman's University",
           6880
          ],
          [
           "The Baptist College of Florida",
           252
          ],
          [
           "The College of New Jersey",
           6823
          ],
          [
           "The King's College",
           535
          ],
          [
           "The New School",
           6624
          ],
          [
           "The University of Alabama",
           29586
          ],
          [
           "The University of Montana",
           6752
          ],
          [
           "The University of Montana-Western",
           1177
          ],
          [
           "The University of Tampa",
           8146
          ],
          [
           "The University of Tennessee-Chattanooga",
           9099
          ],
          [
           "The University of Tennessee-Knoxville",
           21489
          ],
          [
           "The University of Texas at Arlington",
           19326
          ],
          [
           "The University of Texas at Austin",
           38097
          ],
          [
           "The University of Texas at Dallas",
           16691
          ],
          [
           "The University of Texas at San Antonio",
           22542
          ],
          [
           "The University of Texas at Tyler",
           4708
          ],
          [
           "The University of Texas Permian Basin",
           2014
          ],
          [
           "The University of Texas Rio Grande Valley",
           19128
          ],
          [
           "The University of West Florida",
           6789
          ],
          [
           "Thomas More University",
           1400
          ],
          [
           "Toccoa Falls College",
           890
          ],
          [
           "Tougaloo College",
           696
          ],
          [
           "Towson University",
           17350
          ],
          [
           "Trevecca Nazarene University",
           1886
          ],
          [
           "Trine University",
           2054
          ],
          [
           "Trinity Baptist College",
           284
          ],
          [
           "Trinity Bible College and Graduate School",
           138
          ],
          [
           "Trinity Christian College",
           883
          ],
          [
           "Trinity College of Florida",
           175
          ],
          [
           "Trinity International University-Illinois",
           531
          ],
          [
           "Troy University",
           9161
          ],
          [
           "Truett McConnell University",
           888
          ],
          [
           "Truman State University",
           4771
          ],
          [
           "Tusculum University",
           1223
          ],
          [
           "Tuskegee University",
           2462
          ],
          [
           "Union College",
           672
          ],
          [
           "Union University",
           1778
          ],
          [
           "University at Buffalo",
           19941
          ],
          [
           "University of Akron Main Campus",
           12408
          ],
          [
           "University of Alabama at Birmingham",
           10042
          ],
          [
           "University of Alabama in Huntsville",
           6393
          ],
          [
           "University of Alaska Fairbanks",
           2783
          ],
          [
           "University of Arkansas",
           21005
          ],
          [
           "University of Arkansas at Pine Bluff",
           2250
          ],
          [
           "University of Bridgeport",
           2311
          ],
          [
           "University of California-Berkeley",
           29570
          ],
          [
           "University of California-Davis",
           29967
          ],
          [
           "University of California-Irvine",
           29251
          ],
          [
           "University of California-Los Angeles",
           31009
          ],
          [
           "University of California-Merced",
           7813
          ],
          [
           "University of California-Riverside",
           20210
          ],
          [
           "University of California-San Diego",
           29491
          ],
          [
           "University of California-Santa Barbara",
           22601
          ],
          [
           "University of California-Santa Cruz",
           17255
          ],
          [
           "University of Central Arkansas",
           7863
          ],
          [
           "University of Central Florida",
           41852
          ],
          [
           "University of Charleston",
           1205
          ],
          [
           "University of Cincinnati-Main Campus",
           22990
          ],
          [
           "University of Colorado Boulder",
           28034
          ],
          [
           "University of Colorado Colorado Springs",
           8270
          ],
          [
           "University of Colorado Denver/Anschutz Medical Campus",
           8980
          ],
          [
           "University of Connecticut",
           18478
          ],
          [
           "University of Connecticut-Stamford",
           1701
          ],
          [
           "University of Dayton",
           8162
          ],
          [
           "University of Delaware",
           18355
          ],
          [
           "University of Denver",
           5563
          ],
          [
           "University of Detroit Mercy",
           2494
          ],
          [
           "University of Dubuque",
           1674
          ],
          [
           "University of Florida",
           32209
          ],
          [
           "University of Georgia",
           27947
          ],
          [
           "University of Hawaii at Hilo",
           2233
          ],
          [
           "University of Hawaii at Manoa",
           10739
          ],
          [
           "University of Houston",
           28029
          ],
          [
           "University of Houston-Clear Lake",
           3099
          ],
          [
           "University of Idaho",
           6984
          ],
          [
           "University of Illinois Chicago",
           19254
          ],
          [
           "University of Illinois Springfield",
           1799
          ],
          [
           "University of Illinois Urbana-Champaign",
           32757
          ],
          [
           "University of Indianapolis",
           4065
          ],
          [
           "University of Iowa",
           21690
          ],
          [
           "University of Kentucky",
           20484
          ],
          [
           "University of La Verne",
           3744
          ],
          [
           "University of Louisiana at Lafayette",
           12423
          ],
          [
           "University of Louisville",
           11930
          ],
          [
           "University of Maine",
           8158
          ],
          [
           "University of Maine at Fort Kent",
           581
          ],
          [
           "University of Mary",
           1846
          ],
          [
           "University of Mary Hardin-Baylor",
           3182
          ],
          [
           "University of Mary Washington",
           3876
          ],
          [
           "University of Maryland Eastern Shore",
           2360
          ],
          [
           "University of Maryland-Baltimore County",
           9623
          ],
          [
           "University of Maryland-College Park",
           28501
          ],
          [
           "University of Massachusetts-Dartmouth",
           5895
          ],
          [
           "University of Massachusetts-Lowell",
           10651
          ],
          [
           "University of Memphis",
           12064
          ],
          [
           "University of Miami",
           10484
          ],
          [
           "University of Michigan-Ann Arbor",
           29245
          ],
          [
           "University of Michigan-Flint",
           3674
          ],
          [
           "University of Minnesota-Duluth",
           8799
          ],
          [
           "University of Minnesota-Morris",
           1463
          ],
          [
           "University of Minnesota-Twin Cities",
           30001
          ],
          [
           "University of Mississippi",
           16636
          ],
          [
           "University of Missouri-Columbia",
           20720
          ],
          [
           "University of Missouri-Kansas City",
           6606
          ],
          [
           "University of Missouri-St Louis",
           5383
          ],
          [
           "University of Mobile",
           1150
          ],
          [
           "University of Mount Olive",
           1367
          ],
          [
           "University of Mount Union",
           2074
          ],
          [
           "University of Nebraska at Kearney",
           3941
          ],
          [
           "University of Nebraska-Lincoln",
           19466
          ],
          [
           "University of Nevada-Las Vegas",
           18764
          ],
          [
           "University of Nevada-Reno",
           15200
          ],
          [
           "University of New Hampshire at Manchester",
           589
          ],
          [
           "University of New Hampshire-Main Campus",
           12493
          ],
          [
           "University of New Haven",
           4768
          ],
          [
           "University of New Mexico-Main Campus",
           13624
          ],
          [
           "University of New Orleans",
           4833
          ],
          [
           "University of North Alabama",
           5023
          ],
          [
           "University of North Carolina at Asheville",
           3232
          ],
          [
           "University of North Carolina at Chapel Hill",
           18526
          ],
          [
           "University of North Carolina at Charlotte",
           21025
          ],
          [
           "University of North Carolina at Greensboro",
           14265
          ],
          [
           "University of North Carolina at Pembroke",
           4945
          ],
          [
           "University of North Carolina School of the Arts",
           884
          ],
          [
           "University of North Carolina Wilmington",
           12157
          ],
          [
           "University of North Dakota",
           8184
          ],
          [
           "University of North Florida",
           10452
          ],
          [
           "University of North Georgia",
           13243
          ],
          [
           "University of North Texas",
           25394
          ],
          [
           "University of North Texas at Dallas",
           1824
          ],
          [
           "University of Northern Colorado",
           8064
          ],
          [
           "University of Northern Iowa",
           8745
          ],
          [
           "University of Northwestern-St Paul",
           2097
          ],
          [
           "University of Oklahoma-Norman Campus",
           19063
          ],
          [
           "University of Oregon",
           17550
          ],
          [
           "University of Pennsylvania",
           10605
          ],
          [
           "University of Pittsburgh-Bradford",
           1199
          ],
          [
           "University of Pittsburgh-Greensburg",
           1426
          ],
          [
           "University of Pittsburgh-Johnstown",
           2542
          ],
          [
           "University of Pittsburgh-Pittsburgh Campus",
           18421
          ],
          [
           "University of Pittsburgh-Titusville",
           187
          ],
          [
           "University of Portland",
           3702
          ],
          [
           "University of Redlands",
           2501
          ],
          [
           "University of Rhode Island",
           12485
          ],
          [
           "University of Saint Francis-Fort Wayne",
           1511
          ],
          [
           "University of Saint Mary",
           675
          ],
          [
           "University of San Diego",
           5678
          ],
          [
           "University of San Francisco",
           6435
          ],
          [
           "University of Science and Arts of Oklahoma",
           728
          ],
          [
           "University of Sioux Falls",
           1137
          ],
          [
           "University of South Alabama",
           8637
          ],
          [
           "University of South Carolina Aiken",
           2671
          ],
          [
           "University of South Carolina Beaufort",
           1797
          ],
          [
           "University of South Carolina-Columbia",
           25633
          ],
          [
           "University of South Carolina-Upstate",
           4739
          ],
          [
           "University of South Dakota",
           4969
          ],
          [
           "University of South Florida",
           24834
          ],
          [
           "University of Southern California",
           19194
          ],
          [
           "University of Southern Indiana",
           6481
          ],
          [
           "University of Southern Maine",
           4022
          ],
          [
           "University of St Thomas",
           6162
          ],
          [
           "University of St Thomas",
           1573
          ],
          [
           "University of the Cumberlands",
           1974
          ],
          [
           "University of the Incarnate Word",
           4103
          ],
          [
           "University of the Ozarks",
           861
          ],
          [
           "University of the Pacific",
           3584
          ],
          [
           "University of the Sciences",
           1216
          ],
          [
           "University of Toledo",
           12941
          ],
          [
           "University of Tulsa",
           3156
          ],
          [
           "University of Utah",
           18499
          ],
          [
           "University of Vermont",
           10434
          ],
          [
           "University of Virginia's College at Wise",
           1153
          ],
          [
           "University of Virginia-Main Campus",
           15990
          ],
          [
           "University of Washington-Bothell Campus",
           4623
          ],
          [
           "University of Washington-Seattle Campus",
           29496
          ],
          [
           "University of Washington-Tacoma Campus",
           4005
          ],
          [
           "University of West Alabama",
           1836
          ],
          [
           "University of West Georgia",
           8728
          ],
          [
           "University of Wisconsin-Madison",
           29375
          ],
          [
           "University of Wyoming",
           8457
          ],
          [
           "Upper Iowa University",
           1939
          ],
          [
           "Ursuline College",
           494
          ],
          [
           "Utah State University",
           17393
          ],
          [
           "Valdosta State University",
           6984
          ],
          [
           "Valley City State University",
           862
          ],
          [
           "Valparaiso University",
           3120
          ],
          [
           "Vanderbilt University",
           6789
          ],
          [
           "Villanova University",
           6565
          ],
          [
           "Virginia Commonwealth University",
           20207
          ],
          [
           "Virginia Polytechnic Institute and State University",
           27180
          ],
          [
           "Virginia State University",
           3862
          ],
          [
           "Virginia Union University",
           1102
          ],
          [
           "Viterbo University",
           1394
          ],
          [
           "Waldorf University",
           1735
          ],
          [
           "Walsh University",
           1715
          ],
          [
           "Washington Adventist University",
           749
          ],
          [
           "Washington State University",
           22877
          ],
          [
           "Washington University in St Louis",
           7146
          ],
          [
           "Wayland Baptist University",
           946
          ],
          [
           "Wayne State University",
           12956
          ],
          [
           "Waynesburg University",
           1287
          ],
          [
           "Webber International University",
           587
          ],
          [
           "Webster University",
           2303
          ],
          [
           "Wentworth Institute of Technology",
           3940
          ],
          [
           "Wesleyan College",
           490
          ],
          [
           "West Chester University of Pennsylvania",
           13060
          ],
          [
           "West Texas A & M University",
           5484
          ],
          [
           "West Virginia State University",
           1644
          ],
          [
           "West Virginia University",
           19568
          ],
          [
           "West Virginia University Institute of Technology",
           1175
          ],
          [
           "West Virginia Wesleyan College",
           1162
          ],
          [
           "Western Carolina University",
           8617
          ],
          [
           "Western Colorado University",
           1883
          ],
          [
           "Western Kentucky University",
           12393
          ],
          [
           "Western Michigan University",
           14983
          ],
          [
           "Western Washington University",
           13893
          ],
          [
           "Westfield State University",
           4571
          ],
          [
           "Westminster College",
           1865
          ],
          [
           "Westmont College",
           1266
          ],
          [
           "Wheaton College",
           2326
          ],
          [
           "Whitworth University",
           2304
          ],
          [
           "Wichita State University",
           8855
          ],
          [
           "Widener University",
           2915
          ],
          [
           "Wilberforce University",
           565
          ],
          [
           "Wilkes University",
           2212
          ],
          [
           "William & Mary",
           6300
          ],
          [
           "William Carey University",
           1912
          ],
          [
           "William Jessup University",
           1030
          ],
          [
           "William Peace University",
           832
          ],
          [
           "Wilson College",
           675
          ],
          [
           "Winona State University",
           6324
          ],
          [
           "Winston-Salem State University",
           4124
          ],
          [
           "Wisconsin Lutheran College",
           951
          ],
          [
           "Woodbury University",
           993
          ],
          [
           "Wright State University-Lake Campus",
           715
          ],
          [
           "Wright State University-Main Campus",
           8449
          ],
          [
           "Xavier University",
           4782
          ],
          [
           "Xavier University of Louisiana",
           2357
          ],
          [
           "Yeshiva University",
           2633
          ],
          [
           "York College of Pennsylvania",
           3707
          ],
          [
           "Young Harris College",
           984
          ],
          [
           "Youngstown State University",
           9008
          ]
         ],
         "hovertemplate": "pca0=%{x}<br>pca1=%{y}<br>Name=%{customdata[0]}<br>Full-time undergraduate enrollment=%{customdata[1]}<br>ACT Composite 75th percentile=%{marker.color}<extra></extra>",
         "legendgroup": "",
         "marker": {
          "color": [
           27,
           22,
           22,
           27,
           26,
           22,
           19,
           20,
           20,
           26,
           22,
           30,
           31,
           25,
           26,
           19,
           27,
           23,
           23,
           28,
           26,
           27,
           22,
           29,
           27,
           24,
           25,
           30,
           23,
           24,
           26,
           28,
           24,
           27,
           19,
           25,
           33,
           22,
           23,
           31,
           25,
           28,
           24,
           29,
           25,
           25,
           28,
           25,
           27,
           24,
           22,
           19,
           24,
           25,
           20,
           25,
           23,
           26,
           34,
           33,
           24,
           28,
           23,
           19,
           31,
           26,
           26,
           24,
           23,
           30,
           23,
           25,
           32,
           24,
           27,
           24,
           22,
           24,
           26,
           20,
           23,
           22,
           22,
           20,
           22,
           23,
           26,
           30,
           25,
           26,
           23,
           22,
           24,
           35,
           20,
           26,
           26,
           27,
           34,
           23,
           26,
           29,
           27,
           22,
           22,
           24,
           24,
           27,
           18,
           24,
           23,
           28,
           30,
           26,
           20,
           25,
           21,
           34,
           22,
           23,
           19,
           32,
           25,
           24,
           22,
           28,
           22,
           27,
           24,
           33,
           24,
           28,
           23,
           35,
           23,
           23,
           23,
           24,
           27,
           25,
           34,
           20,
           26,
           26,
           25,
           30,
           24,
           23,
           22,
           23,
           26,
           23,
           22,
           22,
           22,
           24,
           28,
           23,
           31,
           24,
           25,
           30,
           30,
           29,
           29,
           25,
           23,
           24,
           27,
           23,
           26,
           31,
           23,
           22,
           23,
           25,
           23,
           28,
           25,
           23,
           18,
           20,
           28,
           31,
           21,
           25,
           24,
           23,
           25,
           23,
           23,
           21,
           26,
           22,
           23,
           25,
           23,
           25,
           26,
           25,
           30,
           27,
           31,
           29,
           30,
           32,
           24,
           20,
           22,
           28,
           28,
           23,
           24,
           23,
           32,
           26,
           24,
           27,
           27,
           30,
           32,
           34,
           27,
           34,
           25,
           22,
           26,
           24,
           30,
           30,
           20,
           27,
           23,
           27,
           23,
           22,
           24,
           23,
           27,
           24,
           29,
           26,
           25,
           25,
           25,
           30,
           29,
           32,
           22,
           22,
           23,
           25,
           23,
           27,
           24,
           26,
           22,
           18,
           31,
           24,
           23,
           31,
           26,
           23,
           23,
           26,
           28,
           23,
           22,
           26,
           27,
           28,
           29,
           18,
           25,
           21,
           25,
           25,
           26,
           25,
           19,
           30,
           25,
           24,
           25,
           21,
           23,
           23,
           25,
           22,
           23,
           25,
           22,
           28,
           31,
           28,
           28,
           28,
           29,
           28,
           26,
           22,
           28,
           22,
           21,
           23,
           23,
           25,
           20,
           25,
           25,
           29,
           17,
           25,
           27,
           25,
           17,
           23,
           29,
           28,
           24,
           31,
           30,
           28,
           25,
           29,
           25,
           25,
           27,
           16,
           23,
           26,
           26,
           30,
           22,
           25,
           27,
           24,
           29,
           27,
           25,
           26,
           28,
           23,
           25,
           23,
           28,
           30,
           26,
           23,
           30,
           29,
           30,
           22,
           20,
           26,
           23,
           23,
           26,
           23,
           28,
           27,
           28,
           30,
           25,
           23,
           26,
           28,
           24,
           23,
           26,
           31,
           28,
           27,
           25,
           20,
           25,
           24,
           25,
           25,
           27,
           24,
           30,
           29,
           23,
           28,
           26,
           26,
           24,
           22,
           20,
           31,
           21,
           24,
           26,
           30,
           25,
           23,
           26,
           26,
           24,
           24,
           27,
           26,
           24,
           24,
           21,
           21,
           28,
           22,
           28,
           22,
           27,
           24,
           27,
           32,
           26,
           24,
           26,
           27,
           29,
           28,
           21,
           24,
           26,
           25,
           26,
           28,
           27,
           21,
           27,
           28,
           21,
           27,
           18,
           26,
           17,
           32,
           22,
           25,
           29,
           25,
           22,
           34,
           25,
           21,
           30,
           23,
           30,
           25,
           25,
           32,
           26,
           25,
           26,
           27,
           33,
           25,
           23,
           20,
           31,
           25,
           27,
           28,
           32,
           23,
           23,
           25,
           26,
           23,
           27,
           23,
           31,
           24,
           26,
           29,
           24,
           27,
           26,
           26,
           28,
           29,
           31,
           24,
           26,
           23,
           27,
           24,
           28,
           23,
           29,
           24,
           28,
           23,
           26,
           27,
           26,
           28,
           23,
           33,
           27,
           30,
           28,
           26,
           23,
           23,
           24,
           23,
           30,
           25,
           26,
           25,
           23,
           29,
           26,
           24,
           24,
           24,
           26,
           27,
           33,
           25,
           21,
           27,
           26,
           25,
           23,
           23,
           21,
           23,
           26,
           26,
           27,
           25,
           26,
           29,
           28,
           27,
           21,
           29,
           24,
           26,
           23,
           24,
           25,
           31,
           28,
           25,
           25,
           29,
           25,
           22,
           21,
           26,
           30,
           23,
           29,
           27,
           25,
           21,
           31,
           23,
           23,
           22,
           19,
           23,
           30,
           25,
           19,
           26,
           27,
           24,
           23,
           22,
           30,
           29,
           30,
           31,
           26,
           22,
           27,
           27,
           31,
           26,
           33,
           32,
           25,
           27,
           22,
           22,
           27,
           24,
           24,
           23,
           25,
           25,
           27,
           20,
           23,
           25,
           20,
           25,
           24,
           22,
           30,
           24,
           27,
           24,
           30,
           29,
           26,
           29,
           31,
           25,
           29,
           20,
           23,
           35,
           32,
           33,
           34,
           27,
           29,
           33,
           33,
           32,
           27,
           29,
           23,
           29,
           31,
           26,
           26,
           31,
           27,
           30,
           30,
           31,
           27,
           22,
           32,
           32,
           23,
           26,
           28,
           24,
           26,
           27,
           27,
           32,
           25,
           28,
           29,
           26,
           28,
           29,
           27,
           21,
           25,
           25,
           29,
           20,
           29,
           33,
           26,
           29,
           26,
           32,
           34,
           26,
           26,
           27,
           31,
           29,
           29,
           28,
           27,
           25,
           21,
           26,
           26,
           29,
           24,
           26,
           26,
           28,
           26,
           25,
           25,
           25,
           28,
           33,
           26,
           25,
           21,
           28,
           27,
           27,
           27,
           25,
           26,
           20,
           25,
           26,
           27,
           29,
           28,
           35,
           25,
           26,
           26,
           33,
           22,
           28,
           28,
           27,
           24,
           23,
           30,
           29,
           24,
           25,
           27,
           22,
           22,
           30,
           22,
           25,
           30,
           34,
           25,
           25,
           29,
           25,
           26,
           22,
           23,
           30,
           29,
           26,
           32,
           29,
           31,
           25,
           34,
           26,
           32,
           23,
           23,
           22,
           32,
           28,
           23,
           24,
           28,
           23,
           23,
           29,
           35,
           33,
           28,
           31,
           21,
           18,
           26,
           22,
           26,
           20,
           26,
           35,
           22,
           27,
           25,
           20,
           27,
           27,
           22,
           26,
           24,
           22,
           27,
           27,
           25,
           25,
           25,
           27,
           26,
           29,
           25,
           27,
           30,
           32,
           28,
           26,
           26,
           19,
           27,
           33,
           29,
           25,
           24,
           22,
           24,
           19,
           26,
           24,
           23,
           25,
           28,
           26,
           30,
           26,
           23,
           24
          ],
          "coloraxis": "coloraxis",
          "symbol": "circle"
         },
         "mode": "markers",
         "name": "",
         "orientation": "v",
         "showlegend": false,
         "type": "scatter",
         "x": [
          -0.3220761216056386,
          -0.19076190603400264,
          -0.3528628846103647,
          0.01355576484103976,
          -0.778465399761495,
          -0.6272421182284137,
          -0.2977607537715355,
          -0.7153131025046838,
          -0.9643200905734606,
          -0.7801131475067883,
          -0.642080640654169,
          -0.7191483255790133,
          0.40752630101549925,
          -0.7776666879343567,
          -0.659765029547148,
          -1.0053811050050336,
          -0.19856385361089915,
          0.307857063729515,
          -0.6047909227684771,
          1.023056416151405,
          -0.6875827101069759,
          -0.5323007526599784,
          -0.7522662962117596,
          3.1377157700741125,
          0.12285068896323938,
          -1.113931353726298,
          -0.4034985339907773,
          1.6130486382253764,
          -0.1814537410878209,
          -0.6285347360708854,
          -0.053507867968557256,
          -0.7032728627643714,
          0.2647441498412684,
          0.19408287240295924,
          -1.1078810473934968,
          -0.6154063358649197,
          0.10757008357275878,
          -0.3352536095415476,
          -0.873151796729896,
          0.9602434974089843,
          -0.7813625432369691,
          -0.621507018378581,
          -0.8109040281661877,
          0.01482157500339668,
          -0.39970787189107576,
          -0.7088376568764051,
          -0.599027120034225,
          -0.5456281954944527,
          -0.05212387715700254,
          -0.3216456662661427,
          -1.0321286848067202,
          -0.8998427609820371,
          0.09413165091937134,
          -0.890951215442663,
          -0.8719042528166882,
          -0.9719534686039853,
          -0.7310284742164412,
          1.0288859715580219,
          0.8168426680208254,
          1.8125412621739494,
          0.7408661843215353,
          -0.23102763845884058,
          -0.9083453766575845,
          -0.8533689806403694,
          1.985293591327493,
          0.16949525147016042,
          2.3813553636544524,
          -0.905044623731772,
          -0.7684855948684315,
          -0.03742368003719059,
          -0.7448371719527817,
          0.05438449811631014,
          2.0405562231903587,
          0.18381605117243702,
          2.4022489781222736,
          1.2293383073679278,
          1.808506378723144,
          2.9438107509416342,
          3.0532952420610133,
          2.265853281637864,
          0.338661324577869,
          2.651392299620192,
          2.2480628372509157,
          1.2967633951583204,
          1.1216984026388797,
          -0.33262788975032714,
          -0.7365631296545455,
          -0.31580293259901043,
          -0.2955924349088665,
          -0.7468616379447468,
          -0.7361932633605416,
          -0.6818649291675154,
          -0.9167412269402339,
          0.9742827727238278,
          -0.796813547086154,
          -0.5922416610615808,
          -0.704140759263171,
          -0.7201420629539932,
          0.592503590915204,
          -0.642437439216428,
          -0.8685853160762722,
          -0.4120024093306491,
          -0.9032387115173114,
          -0.8088718094610492,
          -0.8998725236246649,
          0.28442245845173997,
          -0.8332241402999727,
          0.7566737778361041,
          -0.9118466641220493,
          0.5542062262890207,
          0.0990322179022958,
          -0.5006856063309922,
          0.2956427341210582,
          -0.6797371214889664,
          -0.869637782769487,
          -0.26506532390526605,
          -0.8116582680932143,
          0.02754568084630978,
          -0.5556052798824951,
          -1.0338822757853343,
          -1.032734394900134,
          1.2315452064706918,
          0.4841869388758544,
          0.3239146814887521,
          -0.8074206181196174,
          0.43399532810140323,
          -0.2699129210169762,
          -0.7834301760637361,
          0.31220059511236664,
          0.1530150774666125,
          -0.22308747559341796,
          1.826118900350507,
          -0.7677482962262469,
          0.829606366930068,
          -0.19571529267701518,
          -0.6303885362594976,
          -0.5635324809098016,
          -0.5899512176767376,
          -0.3997430796037731,
          -0.9266082712393925,
          -0.08620742673636445,
          -0.6384041906906656,
          -0.7908878033691099,
          -0.7522699299132661,
          -0.9147008888869912,
          -0.027931863156424496,
          -0.5656002839782501,
          -0.6634952387934234,
          -0.5651101078272508,
          -0.743841377750385,
          -0.31090582106433057,
          -0.9397794251325532,
          -0.9974830974279927,
          -1.0779892711654302,
          -0.42050242696079654,
          -0.4630958218511274,
          -0.5875047678187034,
          -0.4480942979437009,
          -0.22338886770504107,
          -0.5559308994157532,
          -0.25631328670389975,
          -0.42822091079899044,
          1.4117756753985067,
          -0.6478006973495944,
          -0.2304781285590241,
          1.4024361542317008,
          -0.37219761231694154,
          -0.12433702801869324,
          0.2593483924780853,
          -0.6963079524932384,
          0.41196619031273274,
          -0.7376094118160659,
          0.6356512868043618,
          -0.08210142970017535,
          -0.4646042047954754,
          -0.8511933675188756,
          0.4189685815782009,
          -0.6410567101374868,
          -0.7150065091308316,
          -0.5462413645799682,
          -0.13470158146702665,
          -0.6564828121755342,
          -0.80778669267726,
          -0.1382642820936369,
          -0.7222632880321908,
          -0.7471802425565169,
          -0.8779214897216222,
          -1.0552479253454563,
          -0.993668351836771,
          -0.4132964250141214,
          -0.7348420815996887,
          -0.2941567758524162,
          0.33885852979053804,
          -1.1526770525476477,
          -1.2594972238375965,
          -0.3914982595749548,
          0.023779552156565735,
          1.5457414098422464,
          -0.8042923412512645,
          0.793197817125266,
          0.07381593267126495,
          3.141581105073935,
          -0.20726433982316528,
          -0.5839052215659648,
          2.2944742627457755,
          1.0083717217761274,
          -0.42732567310552905,
          -0.806501068209615,
          -0.46212831005589927,
          -0.6108008798453893,
          -0.7638044169182451,
          -0.7079107341624341,
          -0.7684508401339125,
          -0.19051336046662304,
          -0.5041471900159383,
          -0.4478315902605986,
          -0.7964427291484879,
          -0.8823067764912907,
          -0.5868011287683841,
          1.9185553880515054,
          0.9472934263213815,
          0.5968912337157843,
          -0.09561840931514051,
          1.5644218126302558,
          1.237416799217392,
          -0.4913229051545761,
          1.8479496818540797,
          -0.7336123885803848,
          -0.11704884283105754,
          -0.5940526659652656,
          -0.3793674848535683,
          -0.7998328999716874,
          -0.8230032064434193,
          1.2470242753588654,
          -0.7222542244724849,
          -0.8836847827643844,
          -0.8575451629446662,
          -0.6541779555748299,
          -0.8461742651451251,
          -0.6317725491049492,
          -0.299081086553731,
          0.13498489424710491,
          -0.8949506831427858,
          -0.45824713934759886,
          -0.7734908014688312,
          0.5030184559306962,
          -0.9377681706809132,
          -0.5772674622807058,
          -0.7459939381028329,
          -0.8703780069628925,
          -0.6223062396460448,
          -0.34199344705946694,
          -0.638089354520538,
          -0.09858756915503522,
          -0.8410908890266068,
          -0.6733657117433458,
          -0.6666463554486437,
          -0.9316448920941981,
          0.03795200767907327,
          -0.585918361925467,
          0.24714785294483022,
          2.971630907460248,
          1.3695356760438386,
          -0.09114349994248082,
          -0.08774601044320494,
          -0.537291232275243,
          1.8653701118537909,
          -0.7063449484418721,
          -0.5350678808827672,
          -0.13524691084044987,
          -0.4664045884562588,
          -0.5443977552520046,
          -0.8472402580400393,
          -0.9570679036646582,
          -0.7983858068744035,
          -0.8938419197047102,
          -0.7798860470316922,
          -0.9689918822199567,
          1.6065996755154737,
          1.213999727971042,
          -0.663136513479455,
          -0.5774276767868773,
          -0.9158409526611614,
          -0.01350706087948511,
          -0.796031662989393,
          -0.6301852724207457,
          -0.15250381619225217,
          -0.9458618156629297,
          -0.5979571696157787,
          -0.7661836466013271,
          0.3352933516983,
          -0.7880943490925912,
          -0.5162618028784289,
          -0.40347066922696134,
          -0.39638876855225075,
          -0.5679254686196878,
          -0.8280266917485485,
          -0.41627280287576623,
          -0.5649516627469322,
          -0.4612712614889346,
          -0.30197206179189445,
          -0.2876443017576959,
          2.184711542519348,
          -0.7307418416187065,
          -0.6971096788106099,
          -0.6593251644829442,
          -0.9269787984985819,
          -0.9608003618214844,
          -0.7972991495847523,
          -0.29656096119882364,
          -0.7096131040102022,
          -0.5553412460130296,
          -0.999985631783196,
          -0.5245036462361963,
          0.4084974295004645,
          -0.7932548228087715,
          -1.5044250627291569,
          -0.7033443194564777,
          1.779714927355227,
          0.2654241925298249,
          -0.7468193736453836,
          0.4167706740710322,
          0.8497958036117931,
          -0.514459630905287,
          -0.925190188524295,
          -0.6512247674397856,
          -0.5319149537226517,
          -0.8703636020882368,
          -0.32749547259226025,
          -0.8948329791842269,
          -0.7562009657944097,
          -0.5686317350955487,
          -0.6544286637462345,
          0.42999844092656225,
          -0.877379260076469,
          0.11186203763275727,
          -0.726310029592055,
          -0.7584714267497988,
          -0.2209958895306014,
          -0.4821154638545897,
          -0.28964743863808,
          -0.8523064685362718,
          -0.7106381424714047,
          -0.7097825358483455,
          -0.009643651232494353,
          -0.9189365771850544,
          -0.009224003073599173,
          -0.28443328259217515,
          -0.8018660907542104,
          -0.6835542539174546,
          1.4049064890642404,
          3.010807497890149,
          -0.10516914237244702,
          -0.9892541981204339,
          0.032871281152948434,
          0.8945464519253692,
          -0.465268869827834,
          -0.837164217680773,
          -0.36632410982641894,
          -0.06620115406870485,
          -0.7432861569450754,
          -0.7044138463608594,
          -0.8174682867749968,
          -0.5488024193697782,
          -0.20326870869705543,
          -0.34438498770345083,
          -0.8233142086363789,
          -0.4611356191436643,
          -0.6865914228163408,
          -0.3626458516856415,
          0.9638423820288672,
          -0.04636486178963034,
          1.1786601055474601,
          -0.4408085558858681,
          -0.6278509294281704,
          -0.14773371297431362,
          -0.7383296160593175,
          -0.8015227340524148,
          -0.5719462487564847,
          -0.7962677092949768,
          -0.06061976314929763,
          -0.8358683478524269,
          0.700131123745925,
          -0.3869716381508745,
          0.6585527048438206,
          0.2684919469314414,
          -0.21289195559728138,
          -0.5788067836582117,
          -0.2080910122245163,
          0.2373399378167089,
          -0.1981646809490486,
          1.8131406773218526,
          -0.7993372693139034,
          -0.7217177484629965,
          0.34565736072704634,
          -0.7678720349737074,
          -0.5886168780709983,
          -0.10446420181294912,
          0.30380054244674876,
          -0.036402129671127284,
          -0.2285570986802576,
          -0.19699701067205055,
          -0.6926325329000981,
          -0.7439898830699353,
          0.07849307938989351,
          -0.6927166693241625,
          -0.7887232174750541,
          -0.453223720370619,
          0.19514380338080975,
          -0.44256075408260875,
          0.7329965812162449,
          -0.8726625782836387,
          -0.756827090524086,
          -0.8560324168982585,
          -0.6635030125016725,
          3.142386165235732,
          1.2835643314771066,
          -0.7989852364720168,
          -0.6445048763798858,
          -0.5551893731351231,
          -0.553861694724943,
          1.4077444058170248,
          -0.8419225994884445,
          1.040907837577319,
          -0.6594159924412398,
          -0.5440973552019512,
          0.00037242890674955864,
          1.572862427981571,
          -0.5180569705526156,
          -1.0692279797433826,
          -0.6558367581986179,
          -0.675136988819404,
          -0.5961449484396759,
          -0.7967939125899518,
          -1.1467054794935942,
          -0.4995985951256777,
          -1.070605111173569,
          -0.031622314833390876,
          -1.0467012248223082,
          -0.9134430614521323,
          -0.354267841621885,
          -0.6333220137872941,
          -0.68552851451637,
          0.19847166157396795,
          0.9486600864703377,
          -0.014794658711008933,
          0.17893933641828705,
          -1.0104687468007068,
          -0.32388083834737175,
          0.356519365694925,
          0.2004761500301675,
          3.132554806852811,
          -0.8229338082758176,
          -0.9105983704993589,
          0.08395163358983146,
          -0.7398881147007514,
          -0.20810031478671784,
          -0.5657411459799874,
          -0.750758869512789,
          -0.1017798020627784,
          -0.3757940538311101,
          -0.4198568322506085,
          -0.7165758235277155,
          -0.4202850999860923,
          0.7750880397740743,
          -0.807668688955275,
          -0.7437302891400974,
          -0.8558809800549609,
          -0.5416528301507447,
          -0.9469955922670695,
          0.8116719126357252,
          -0.07005388394706988,
          3.1683892964216454,
          0.6802887442802532,
          -0.06164591741841894,
          -0.8038268145653076,
          0.4085141724390372,
          -0.3376176032028015,
          -0.7126290542137542,
          -0.6670624462378539,
          -0.6112539344892132,
          -0.2887870973105676,
          0.3799739446509684,
          -0.41056059429245606,
          -0.5962784810455913,
          -0.9900384672780581,
          -0.6918001211708262,
          -0.5406191027697911,
          -1.0678876073290313,
          0.9089960022214696,
          -0.305814144103488,
          -0.7496497805187061,
          2.93727015876388,
          2.6774091249621175,
          2.68747192770237,
          0.5737950550480235,
          -0.5943743758968497,
          0.0041738678556222895,
          -0.6773104177031339,
          -0.13839556567217326,
          -0.28385808888033875,
          0.15461732796947156,
          0.38352825163711746,
          -0.8124494864628287,
          -0.4077239505122654,
          -0.13225867386598655,
          -0.7281462204396679,
          -1.1060952489094578,
          -0.5009867454115186,
          -0.8426745570166082,
          -0.8611081231217006,
          -0.08176530134364303,
          0.5947788520698377,
          -0.221553108042725,
          0.3094373692826006,
          -0.06153670049797746,
          -0.5421191568261855,
          0.10436367136421769,
          0.10145194586190943,
          0.3185002423391843,
          0.32300837673932065,
          -0.17623787380455522,
          -0.3079191121734162,
          0.47200510180060207,
          -0.7974012794106554,
          -0.6990948648401012,
          -0.5515608730343322,
          -0.7280942035817788,
          -0.7633323864546713,
          -0.7257972351361933,
          -0.8060584201551637,
          -0.8887178145862428,
          -0.7735717834343009,
          -0.5301579622691265,
          -0.7216806820883017,
          1.2812502131139967,
          -0.47294839306623554,
          -0.3421001941816632,
          -0.1733399811496149,
          0.1922444189002827,
          0.48277065843423933,
          -1.128037427001142,
          -0.8252716344106079,
          -0.5587297683440966,
          0.13046413174402785,
          1.969920521620118,
          -0.19102394053690847,
          -0.06903807771018908,
          -0.1061885450492715,
          -0.43376213581030776,
          -0.343891565138597,
          -0.5164713345694179,
          -0.5082570257079102,
          0.048579074628154674,
          1.2591309630421839,
          0.40764015604731657,
          -0.483069840799427,
          0.2729857000182224,
          -0.8279324440388309,
          0.3373158399316424,
          4.046476865293614,
          0.2334714880656679,
          0.6218266869522632,
          0.3306788793112514,
          -0.06751632751866654,
          -0.5955194276267778,
          0.441083809546415,
          -0.6752573432002199,
          0.026595247594175926,
          2.3598051327826832,
          2.2136759549148524,
          -0.6420246295081304,
          0.3479364045029107,
          -0.8008384896594329,
          0.4332789741355913,
          -0.9576896899534035,
          0.47867382455681196,
          2.2029377640381553,
          0.1335858423099534,
          -0.6557653324529592,
          0.3028947592482531,
          0.3640672388245381,
          1.554208733048216,
          1.7605696710964769,
          3.699355684875318,
          1.872751033630028,
          1.8403463708299632,
          0.16839068577734523,
          -0.07997465281653436,
          1.876454256150453,
          0.17527229738482286,
          -0.5743613893973123,
          -0.6339257962447682,
          -1.214245590590967,
          1.0862539462352019,
          -0.6131369263825519,
          -0.21688731836453562,
          -0.8993918697343625,
          -0.9769674105954749,
          -0.7895575132426089,
          -0.9655106182228952,
          -0.8476768771979059,
          0.3340099873569466,
          -0.6709876862808593,
          -0.043014843248357325,
          -0.7258715626640208,
          -0.28935283061535244,
          -0.7421455478109775,
          -0.9400538688074228,
          1.9221789458179026,
          0.8159551952163665,
          0.707398809957875,
          0.07592886296635354,
          -0.06946342303049012,
          1.5343249311269913,
          -0.7146268443520476,
          -0.5130484756438787,
          3.3279552014090252,
          3.547402427615551,
          3.6867986190502062,
          3.484690770287488,
          1.0272119012427645,
          2.6232051269105288,
          3.825333286634368,
          2.946749536187851,
          2.164817481192004,
          0.179620861520657,
          3.4137596928295815,
          -0.6610863450876885,
          1.8066453765823771,
          2.5965817217137026,
          0.6124561846918161,
          0.9664044714636381,
          1.61490800627537,
          -0.03384036386027904,
          0.17338089982560456,
          1.4811508130685642,
          0.32084490405364946,
          -0.3315061045594894,
          -0.8121756914774948,
          2.592379702675552,
          1.9164633098680022,
          0.2392312784127774,
          1.609545586698122,
          2.7341787864601774,
          -0.003993411636703251,
          0.2902323405942439,
          1.995237175789585,
          -0.41959497322713646,
          3.174920610034137,
          -0.2400548411803027,
          1.716760801515919,
          1.4729299085587346,
          -0.22833865332756725,
          0.5528962892519715,
          0.8518688727597975,
          0.3478396285433947,
          -0.4709697708930402,
          -0.6641307984013954,
          -0.36425953633615576,
          -0.10224328253276085,
          -0.5412332033080764,
          0.9490804474454488,
          2.2857722020688565,
          -0.01740151556738932,
          0.7210791343696565,
          0.8095187226009491,
          0.8782140959244502,
          2.6708668447284105,
          -0.1526135144136003,
          0.3884438012587826,
          -0.362095126033363,
          2.6337897357974427,
          1.0846454985547314,
          1.4782252654542767,
          0.3399511238281706,
          0.22952042105936385,
          -0.7172909157909946,
          -0.7105962275047493,
          -0.7090423792151724,
          -0.05925667144647637,
          1.379971743285144,
          1.7790840476649112,
          1.19276213898228,
          -0.6459379836624847,
          0.6782928626562532,
          -0.26949999926571677,
          0.9327955776220592,
          0.17188839704475106,
          -0.16831701963523732,
          -0.29638045361298226,
          1.7161401644522272,
          1.5043416264353893,
          0.860328054153341,
          -0.21618772955112417,
          -0.5069616650546896,
          0.6289973219095384,
          0.30174205858783465,
          0.8430172714867281,
          1.1911294469261404,
          2.0606594612908165,
          -0.4268578793479962,
          0.35483042284531074,
          0.14797157100887437,
          -0.38994585590444236,
          1.5782428523963243,
          1.7011658609969604,
          1.25281039585213,
          -0.6809901653746255,
          -0.5414131062789538,
          -0.465915723774798,
          1.5577031750250843,
          -1.1969401825907777,
          0.015813598291105783,
          -0.41469917052937794,
          0.7749507175585999,
          -0.82082885027086,
          -0.989624847413151,
          0.2200303961796999,
          0.7891877378718738,
          -0.7081442524514499,
          -0.6880915034391678,
          0.16263210273539624,
          -0.4686848630223139,
          -0.5605161512356206,
          1.85903926535368,
          -0.14957959130161175,
          0.0857345924550539,
          2.129693360488824,
          1.8555022079633232,
          0.2833463240753092,
          0.052513665848906474,
          0.012218730761522193,
          -0.16445349395917752,
          -0.5220366863277736,
          -0.1449983359894687,
          -0.6528768844604202,
          0.6064799158144312,
          -0.05076577158589239,
          0.8648170012788094,
          -0.32493479496560035,
          1.684089910257867,
          0.6391952566091322,
          -0.45563138976730455,
          1.5865775125534642,
          0.6956163755337522,
          3.1739693577612575,
          0.2733569349077822,
          -0.4790875812029542,
          0.30038695301208584,
          2.541279865233405,
          0.2720524836879174,
          -0.6841960797715567,
          -0.9668129659867121,
          1.5422454018042344,
          0.07799054536346038,
          -0.35015233272792146,
          -0.4472538383341236,
          0.6509502824327931,
          0.3377948866187287,
          1.681822463308543,
          2.2892896428643628,
          -0.8498988925702992,
          -1.0411847798918576,
          -0.8030488452336814,
          -0.7078666041083487,
          -0.7619156786138419,
          -0.7968117259515825,
          1.882650107908598,
          0.8196035221164816,
          -0.4375092477250216,
          1.098073627330926,
          -0.8805200256936601,
          -0.7911551899282843,
          -0.37455739588166653,
          -0.14489762202201267,
          -0.73287330189127,
          0.6864442719654333,
          0.11592360530666011,
          -0.3647234397638277,
          1.3909012842170014,
          -0.35182048579280156,
          -0.8048479158582391,
          0.43975037864131516,
          -0.44906088813800293,
          0.6656972115078692,
          1.0387196849210152,
          0.9697531556868315,
          -0.13559983025637554,
          -0.5333917164322561,
          -0.5228341739143146,
          -0.32444787192914093,
          -0.5342993807264804,
          0.4657705776809443,
          -0.4409342010031806,
          -1.1509301883972425,
          -0.5159861018191546,
          0.41352483864594236,
          -0.5055124619664281,
          -0.7707184992474378,
          -0.9711964053270575,
          -0.8328000243826821,
          0.012565157828270687,
          -0.4334820196130985,
          -0.8165230123512299,
          -0.45407322854663257,
          -0.4569342392493784,
          0.36675547202390407,
          -0.04119239059638595,
          -0.4779248144119239,
          -0.4285534312040835,
          -0.41831872437278333,
          -0.5448459754223254,
          0.42879348700258724
         ],
         "xaxis": "x",
         "y": [
          0.4930610535635591,
          -1.0759343139751583,
          -0.6469773517153827,
          0.9195438399759417,
          0.5387170486840004,
          -0.4808169053320603,
          -2.1008145040662063,
          -2.3384080191982446,
          -0.2989233750318163,
          0.9757765939239329,
          -1.9667412984141106,
          1.498394101140614,
          1.8362480211333385,
          0.28181786829607364,
          0.20903566395494802,
          -0.8317895652347173,
          1.345382094159375,
          -0.7006704365806178,
          -0.18726029693221127,
          -0.8997442982248532,
          0.5007014711193646,
          1.0349661499511087,
          0.1960834471863763,
          -0.5464494101459126,
          -0.8244851891927503,
          -0.0905587778140954,
          -0.2903557539356231,
          -0.38262112957060734,
          -1.0336458481656703,
          0.7429219678298022,
          -0.5865655959458301,
          0.7457494518038427,
          -1.0675025420173743,
          1.1976062065839526,
          -0.7455426367781532,
          0.22358610052733624,
          3.1538561937406326,
          -0.11151458554292702,
          0.0438572553245688,
          1.0747462822739944,
          0.41151805389438845,
          1.0595534463796235,
          -0.1729973521688891,
          0.42760962978765193,
          0.7496388768051668,
          0.16351615899029504,
          0.7510222463396838,
          -0.6609797098357618,
          1.66710971229719,
          -0.6000522972041599,
          -0.6076254266438345,
          -0.45363843954060057,
          -0.7979350711814216,
          -0.6807579741310198,
          -0.5351484042229097,
          0.27782325497586224,
          -0.4650246749245733,
          -0.6191715226159905,
          2.3014430329541713,
          2.6614283369660376,
          -0.7113829446500872,
          0.36074202115302556,
          -0.31914334616862416,
          -0.2334650829126668,
          -1.1802301498145635,
          2.019291798667642,
          -1.55175785315765,
          -0.1351306524060812,
          0.5842737064860546,
          1.0209372060592015,
          0.24538106730772516,
          0.09049883381043712,
          0.3026535732163058,
          -0.701358744074416,
          0.05313748516511951,
          -0.6283954681006675,
          -0.6546265455483581,
          -0.1394010317350759,
          -0.08821394324148044,
          -0.7871411857096894,
          -0.26056224384388904,
          -1.0888664887231765,
          -0.24404857312958406,
          -0.955472315341139,
          -0.36094006992634386,
          -0.816254129443785,
          -0.48290245278960325,
          1.1558960781613477,
          0.32723637698462676,
          0.533672035829105,
          0.04065592896235448,
          0.44416911008409876,
          -0.15341678893285768,
          3.61547753597093,
          -0.9165037174945442,
          0.5184161289628767,
          0.059265523121188234,
          0.9010507037710402,
          2.713822923050361,
          -0.43966870703590355,
          0.35731873495926253,
          0.3931946605177946,
          0.848399833578121,
          0.31363485108354505,
          -0.7155932802089676,
          -0.7442805960824959,
          -0.007012966683211756,
          -1.0299196644269761,
          -1.849163574157618,
          -0.4049791708649061,
          3.528040529939725,
          0.6829609811729899,
          1.709830710425085,
          -0.09368114323424591,
          -1.751540182068609,
          -0.06671838259050235,
          -1.7190699781229644,
          3.0824720293817394,
          -0.6915804698946663,
          0.18153835180548789,
          -0.3685963053351242,
          -0.2940553561521714,
          -0.6726530206771435,
          -0.7802743971231462,
          0.11647270564322058,
          -0.40862181578709716,
          -0.7901092156543759,
          1.1136751152098963,
          -0.7472818266338153,
          0.5072558337997534,
          -0.5844786908569655,
          -0.6542405141993592,
          -0.10915384987130022,
          2.9129353431532667,
          -1.2132260122641614,
          -0.564776408917607,
          0.6048720699612478,
          0.102547945573898,
          1.1123664211663056,
          -0.25047211821175464,
          3.3511947714041086,
          -1.447317608034158,
          0.6351078698101629,
          -0.24938944900115695,
          0.25010747492552154,
          1.2859170230109063,
          0.12591008830540962,
          -0.12653716352717084,
          0.6364673313590468,
          0.08399458897412455,
          -0.46729997652219635,
          -0.6091364666518922,
          0.36561802226203,
          -0.12747251787767422,
          -1.2817447304209342,
          -0.8042972602614666,
          0.48228917053426235,
          -0.4291731109618453,
          1.0156396460697639,
          0.07743303324819711,
          2.3350195693735802,
          1.1052704786448417,
          1.8560271165026074,
          0.6323485772121052,
          0.753266669788191,
          -1.2701622994438806,
          -0.7227022676990472,
          -0.7875662618050808,
          -0.8869720994936016,
          -0.15817240795202095,
          -0.9701249410677322,
          0.6117322683828738,
          -0.9459189988663003,
          -0.5975171374752529,
          -0.3590324477441421,
          0.12394288413975221,
          -0.490512616726113,
          1.0675585091743116,
          0.29774028607245806,
          -0.7960575337298661,
          -0.6373916332332678,
          -1.724431989908937,
          1.1080650220329522,
          1.708555299561622,
          0.034067663801142276,
          0.02386007960283736,
          0.46092690065881103,
          0.480770792113557,
          -0.25743272102161335,
          -0.7787206372201094,
          -0.9409579379316863,
          -1.663732328717446,
          -0.6660004010290852,
          -0.2976910769585047,
          -1.3912029455886006,
          -0.6880100960470475,
          -1.949655337272911,
          -1.12597733464016,
          -0.09896684319737613,
          -0.9545121899761678,
          1.9068210291123795,
          -3.5653537021915374,
          0.0003993246502378166,
          0.6936511370726433,
          -1.018326218573403,
          1.9915335835214953,
          -0.3127116058400483,
          -2.214531250931234,
          -1.2975778456706564,
          0.10138638001544314,
          0.0333676086443894,
          -0.38600216705562146,
          0.08220895020606667,
          -0.6517680100735664,
          1.755696692759395,
          0.698219272611,
          -0.04319998890343887,
          -0.021431406933175967,
          0.6437301374913071,
          0.18857514078962748,
          2.1802037410399993,
          2.6455177575227413,
          -0.2839715667744692,
          1.2238496698140933,
          -1.3707858282705099,
          -0.8904704351403636,
          -1.0967245338990261,
          0.42856456264144904,
          1.241920039215193,
          1.047995893459893,
          -1.3082602696428518,
          0.7033673153873211,
          0.15888057907506542,
          -1.0236368361325896,
          0.19671129495831807,
          0.02938358486784571,
          -0.06992347446524279,
          0.2888460894859909,
          0.9117798931978364,
          0.15673104407247376,
          0.01261409265285831,
          1.7205527089458006,
          0.13527690755304228,
          -0.8952173785331645,
          0.3263403439264047,
          1.659643850103175,
          1.1692446205792713,
          0.9040265685590364,
          0.16767956825484925,
          1.0137528332272967,
          0.5912472111547904,
          0.48001922298858013,
          -0.026256776080635046,
          -0.5296896272192461,
          -0.4027844071938146,
          0.0490670892927736,
          -0.4854431015691467,
          -1.7871250300540527,
          2.4974907950084915,
          0.5204797783622911,
          -0.8364400489411034,
          -0.28662718087091055,
          -0.7662748085262575,
          -0.6297847822374553,
          -0.6540878250692785,
          0.29304744036148817,
          -0.8151870770423018,
          0.44506484624743836,
          -2.2730834727235836,
          -0.9987419471917589,
          0.974979190684382,
          0.9720247735659823,
          0.39212182649648575,
          -1.7479791434806713,
          -0.5846998196693801,
          -0.6745199918080301,
          0.08378621303549734,
          -0.07584530132905543,
          -1.2648425331345254,
          -0.9148908214683606,
          -1.084154348881011,
          1.050769605617803,
          -0.10084665128057846,
          -0.8024894319804686,
          0.1352559735191956,
          0.4774882126879671,
          1.2138510476103188,
          0.1148479967670033,
          -0.5347342841073722,
          -0.14896689414855285,
          -0.8523855356386145,
          -0.32007231829309774,
          -0.8048886097503526,
          0.720178874063263,
          2.252551410608805,
          0.8023964553552306,
          1.0830953828189736,
          -0.3588261501232127,
          0.3477403305802596,
          0.3828086919987891,
          0.3332245890978209,
          -0.49797535003494037,
          -2.185800424425322,
          -0.47348403499396796,
          -0.4473545511360115,
          0.4901547821169611,
          -0.9497267176805085,
          -0.33300955493317086,
          -1.648556829365789,
          -0.228379533238053,
          1.6164951928320612,
          0.43791717977749817,
          -1.9719029964783417,
          -0.7116079775597577,
          0.8185612259961934,
          0.4845702310012873,
          -1.9467090437079182,
          -0.5851093671667595,
          -0.482489018764234,
          -0.5268322911266317,
          -0.25853436451176365,
          1.7614576671389715,
          1.1728773892951374,
          0.7531807758449371,
          -0.5405356498594694,
          1.2499942752655937,
          0.23470673433554168,
          0.06992945533226896,
          0.9559882533577082,
          -1.1307035762680966,
          -0.761150404227011,
          -0.11055972304645784,
          0.4898632844876628,
          1.07011771347584,
          0.014830652575582056,
          -0.8735315164294223,
          -0.13483367844130245,
          -0.2940871790021439,
          2.317225039066486,
          0.6804098328883142,
          1.1096921845983294,
          0.35839548390788634,
          0.16392914009116694,
          -0.1905644982575757,
          -0.5591819101164281,
          0.015580314577826892,
          1.507077950550994,
          0.5381711697192685,
          0.6027344874453023,
          0.5916698299854617,
          0.35016602791348633,
          -0.7632555540209549,
          -0.04158022453418077,
          -0.931849917182747,
          -1.28010202873379,
          -0.9795240304344682,
          1.0299913746928557,
          -0.22657262579261805,
          -0.7465859901394786,
          -0.3877348727671367,
          0.6570134937271922,
          0.3994279718180174,
          0.9278138352695656,
          1.1286836268912905,
          -0.4649458443016037,
          -0.22146098041931384,
          0.2753601634917598,
          -0.14072036159497436,
          -1.175896506353797,
          0.06524050436518655,
          -0.9064104053831317,
          -0.10595840245617046,
          -1.0070499437664269,
          -0.1912512827458279,
          -0.8320383554212142,
          -1.4465538172449064,
          0.027464906680917604,
          0.048559549486683014,
          0.8415959409356444,
          0.11676455284806037,
          -0.5309258912740709,
          0.09099180067775572,
          0.9130041909151013,
          -0.3715607393672127,
          -0.7603825255562928,
          1.8897760703702757,
          0.8259949130161686,
          1.1278299860724732,
          -0.9244677750128305,
          -2.0715288029954793,
          -1.809808618026454,
          -0.28215344280024846,
          -0.26606800217899723,
          0.04660347928860189,
          -0.6620585066865255,
          -0.18034749741758832,
          0.3268048013276666,
          -0.6132804514850184,
          -0.6969868986500514,
          -0.6308543915903915,
          -0.21316039741029555,
          -0.7427429561575402,
          0.2620235257640956,
          0.8034158329727987,
          -1.1860061855340605,
          -0.21247785223527635,
          0.09436467992350216,
          1.2132719383108608,
          0.630308952463587,
          0.33159526989553056,
          -0.6356556219710774,
          -1.0738256825880979,
          0.7644278298682586,
          0.17771971698794248,
          0.6007514865572808,
          -0.5711309910519523,
          -0.8066030229040864,
          0.34214982941698446,
          0.4139392278623603,
          0.21783272675795903,
          0.8007697395635279,
          -1.0450725397507121,
          -0.13527784749835903,
          -1.0925291188834807,
          0.3649741879539707,
          0.3740610038058244,
          0.023528899172503635,
          -0.390232794620329,
          -0.4224145806148977,
          -0.0658274671635558,
          0.43505780616706397,
          0.23182281727467705,
          -0.2481316366298267,
          -0.4911199403199348,
          -1.9526546303648944,
          0.5519805301480517,
          -2.1433741619554936,
          2.252371202167562,
          -0.1710286537364192,
          -0.28705759391147123,
          0.8754396978702038,
          0.10193056491028255,
          -0.1176587199737717,
          3.6070107068874298,
          -0.2578132089992981,
          -1.9955850639532906,
          2.488791104313299,
          -0.39696007877196604,
          1.4086110614278216,
          -0.5389244185609766,
          -0.6816580287145252,
          -0.027920962231558884,
          0.4701791714137207,
          0.38538031771485987,
          -0.033636402677541755,
          0.9565575343909678,
          2.531719144969111,
          -1.2321423769485864,
          -0.2574619197477898,
          -0.8493380361205982,
          1.7091494361671393,
          1.1579157278386198,
          0.9890512723645034,
          0.5582896148443656,
          0.8518954008159144,
          -0.4371810348046899,
          0.19826597948067345,
          0.4554382648288832,
          0.2798323138139597,
          -0.368905739937943,
          -0.578910421876627,
          -0.23238032830856542,
          0.5020413879815836,
          0.2302300490559721,
          -0.6360784417182864,
          1.0879723533796364,
          -0.31879506683954345,
          1.0534861691626953,
          0.5854732106051368,
          0.30112911009025684,
          1.1089126500498885,
          1.178053843683891,
          1.397605623271614,
          1.5472652822199229,
          0.5027830841052915,
          -0.033607617863771554,
          0.5329091298595182,
          0.0005176589270545494,
          0.042405428522704285,
          -1.3204844828768747,
          0.6077083472480734,
          0.46284411655670504,
          -0.10371329319625046,
          0.2411616386526897,
          1.0464279747050746,
          0.7265925317444245,
          -1.974321003568017,
          2.486751921980722,
          -0.09554317517989162,
          2.609767674202394,
          1.761268719984178,
          2.1836179851688478,
          1.266872496852784,
          0.4148880178426853,
          -0.3811584224492741,
          -0.6412624770895975,
          -0.43085440230088906,
          0.3052316340099156,
          1.4333480481922027,
          0.5812370376041305,
          0.18597378765913383,
          -0.7623795202442288,
          -0.22816580056977445,
          0.04331960211721357,
          -0.6963732915749974,
          -0.24466174866804705,
          -0.99509432478861,
          -0.9937098266696047,
          -0.5673606688639337,
          -0.766315959910549,
          2.075875452538185,
          -0.2688816879431555,
          -2.2572137180997074,
          -0.5088129550614401,
          -0.28923162212020137,
          -0.20800711005543976,
          0.09223761636030366,
          -0.5026541484568988,
          -0.19871037437189795,
          0.1434820847961418,
          -1.1236085156212925,
          -0.23575677342036702,
          0.45678181613991076,
          0.661855244228455,
          0.30152963815879696,
          1.369072558417731,
          0.03596905577145944,
          0.465015409194999,
          0.6913055963724816,
          -0.3802713134185852,
          -1.028298048408826,
          -0.15762695336999086,
          -0.25469249682427364,
          0.42501633548518997,
          -0.5488462577506744,
          0.9080578376579702,
          -0.18307748806123078,
          -0.7886896119591236,
          -0.49057451506693867,
          -0.05577933103279818,
          -0.8770416677474423,
          -0.9451104330059922,
          -0.9016198317948834,
          -0.6222370420057513,
          1.6314309944155025,
          -1.225379468910001,
          0.826227714107409,
          -0.4860782471653066,
          -0.013418098051704018,
          -1.0911739694696199,
          -1.7840589334561279,
          -0.967281873437926,
          -1.041218568356764,
          -0.7949156146871741,
          -0.9113062444499631,
          -0.796717324412044,
          1.1167948586665757,
          0.15760833489607678,
          -1.8514029144137167,
          -1.5941583365636538,
          -1.105069107209626,
          0.29761369201635823,
          -0.5684249756302154,
          -0.7771423311970522,
          0.31754578324545346,
          0.8341889441304421,
          2.60215995499682,
          -0.6953456449992093,
          -0.945026510819271,
          -0.7320484419094334,
          0.4302630707406722,
          -0.710714816774697,
          -0.5507144964392076,
          -0.8799079916518875,
          0.4576616545362065,
          0.9493688131876868,
          -1.3187495615556286,
          -0.5832101378910364,
          -0.6961544128026749,
          -2.0200466821642156,
          -0.7209944035178724,
          0.28796188468334094,
          0.042557156953371776,
          -2.3169118827473527,
          -0.7330752757428802,
          0.07615156486744032,
          0.8563592194239626,
          -0.9766270309884683,
          -0.5263428360809378,
          0.1010353680440004,
          -1.0174951355586044,
          0.2836531573567276,
          -1.3265792648176007,
          0.27180265491958494,
          0.03918114768957735,
          -0.1184329644821816,
          -0.6181338101367531,
          0.35809371679015484,
          0.21201067249090472,
          0.150960709550462,
          -0.7524802732113313,
          -0.7322452954428965,
          -0.2644138951136284,
          -0.4171673165716353,
          -0.6022247289651842,
          -1.9187513442371937,
          0.28203099593107284,
          2.058043251210349,
          1.3239871745014582,
          1.7592814763409614,
          1.4650845832241348,
          0.8436111612650873,
          1.1192191447331634,
          1.7389350774048489,
          1.1231466801544974,
          1.233625879433569,
          -0.770015629040011,
          -1.8138853492807898,
          0.2818058683896979,
          -0.6332902012703598,
          -0.18817406028582626,
          -0.42483161363657623,
          -0.04985796517697694,
          0.3619945485612182,
          0.20583666177596244,
          0.912943569415096,
          -0.1609961778515775,
          1.643098522507274,
          0.48357518883219247,
          -0.08789816736002337,
          -0.6103754623338427,
          -0.27471517492243885,
          1.896266873835298,
          2.3352472593589244,
          -0.6014480632758907,
          -0.48550075350509325,
          -0.43915551464117075,
          -0.007449620573370406,
          -0.37107678027207197,
          0.7708228654495571,
          0.28188216012865813,
          -0.4879771586654352,
          -0.5410422007366597,
          0.49422184814032566,
          -0.8852406485966599,
          -0.5680892178484577,
          -0.47274652042498727,
          -0.3194941486140547,
          -0.04007813624763408,
          -0.2550720414980649,
          -0.015545545133737475,
          -1.2877033153727508,
          0.6298567800598495,
          0.1489123251669835,
          -0.5055242715681039,
          -0.004982267530599589,
          -1.1809006535458513,
          1.9501805111560269,
          0.7345315016163626,
          -0.7072755006439665,
          -0.40177177881743575,
          0.36145083161488767,
          0.21993300822757256,
          -0.6697236758065344,
          -0.49336456140161294,
          -0.3222111280451888,
          -0.48922388567359365,
          -0.17788885490016265,
          -0.8401713870342863,
          0.24415653336800824,
          -0.17196270923386112,
          -0.2876832159100272,
          -0.292412334683424,
          -0.2588615465617742,
          -0.24054896726650712,
          -0.1400775581934916,
          0.449217511595026,
          -0.856543633493509,
          -0.199511753622775,
          -0.8136063158054053,
          -0.6178489129939694,
          0.1906780326726529,
          -0.9749580335879794,
          -1.316399338750666,
          -1.5979726542549304,
          -0.2892822391505708,
          -0.7030655960315869,
          -0.39376222343313555,
          -0.6132719336501444,
          -1.024511755620306,
          -1.0486792085795533,
          -1.0350698024006797,
          -0.5084068437637453,
          -0.7399223839970108,
          0.5570635978607835,
          -0.488240357940817,
          -0.13211309927041312,
          3.126378774548073,
          -0.48218658906276585,
          -0.28683920441641847,
          -0.33559624892924933,
          0.40501093983711994,
          -1.3070864861130262,
          2.131895192894924,
          1.756933683858068,
          -0.3582236579105939,
          0.01971045810805801,
          -0.15032439903923245,
          1.8113442117266358,
          2.646088205113938,
          -0.17849280504143214,
          -0.2578639719677388,
          -1.1479691265249194,
          -0.8242691629927495,
          -0.79064116509114,
          -0.7432427353443988,
          -0.9329451781123771,
          -0.7456748096422058,
          -0.9102968695413939,
          2.897047849484869,
          -0.566170257603517,
          -0.7745131248065441,
          0.9127885299408041,
          1.1301607594600678,
          -0.13235778847314894,
          0.10219488590109822,
          0.9482147742147586,
          3.051465758018672,
          2.0582504335270224,
          -0.6076398990603372,
          1.723942830138969,
          -0.6037410249747394,
          0.43222430211492424,
          -0.4022257158394703,
          1.0073299972115053,
          1.5204381446227748,
          1.0712000317782333,
          0.7783246111432943,
          -1.2524804342385947,
          -1.3856010031348571,
          -0.10424431885720861,
          -0.36580534688515903,
          -0.3723567505714085,
          0.052461136872008055,
          -1.289265027340866,
          -1.3030665084603656,
          -0.2856140014889184,
          0.904362910780597,
          2.7265942205854294,
          1.5962830641360057,
          -0.1453575209364925,
          -0.07047136835823353,
          -1.458956946190503,
          -1.431990183551125,
          0.15196376820339208,
          -0.50022811397532,
          0.35161246020596487,
          -0.4519304143749593,
          -0.5601442967720235,
          2.8657665210916683,
          -0.42109161066173884,
          -0.7111510338378503,
          -0.08866625631631471,
          0.15357766200483985,
          0.14824084611656502,
          0.8788597675112527,
          0.12874819120550965,
          -0.735479674549761,
          -0.7687405438085717,
          -0.4718002070430107,
          -0.6231613890316278,
          -0.20814321811963213,
          0.5193500549917128,
          -0.9637290681558773,
          -0.29190448222577275,
          -0.7624908155034811,
          -0.7994835665617377,
          -0.26532386987560147,
          -0.6632573534213254,
          0.7408186525021445,
          1.6716124294631478,
          1.0834161552491062,
          1.5618113727756324,
          -0.37782296997023773,
          0.9814729856008185,
          -2.0712091048595265,
          0.6803498591032003,
          1.0355101358448535,
          -0.8605949180310654,
          0.46425738295365654,
          -0.17261409250266227,
          0.04318340301832317,
          -0.5317980160529582,
          -1.8538557026186748,
          0.24639904641453006,
          1.3961497191820882,
          -0.5091367605755143,
          -0.6890421168072037,
          0.7767427912299009,
          -0.7604091869763426,
          1.2377863461201386,
          -0.16059929682124643,
          0.6288143350821271,
          -0.8318574985796265
         ],
         "yaxis": "y"
        }
       ],
       "layout": {
        "coloraxis": {
         "colorbar": {
          "title": {
           "text": "ACT Composite 75th percentile"
          }
         },
         "colorscale": [
          [
           0,
           "#0d0887"
          ],
          [
           0.1111111111111111,
           "#46039f"
          ],
          [
           0.2222222222222222,
           "#7201a8"
          ],
          [
           0.3333333333333333,
           "#9c179e"
          ],
          [
           0.4444444444444444,
           "#bd3786"
          ],
          [
           0.5555555555555556,
           "#d8576b"
          ],
          [
           0.6666666666666666,
           "#ed7953"
          ],
          [
           0.7777777777777778,
           "#fb9f3a"
          ],
          [
           0.8888888888888888,
           "#fdca26"
          ],
          [
           1,
           "#f0f921"
          ]
         ]
        },
        "legend": {
         "tracegroupgap": 0
        },
        "template": {
         "data": {
          "bar": [
           {
            "error_x": {
             "color": "#2a3f5f"
            },
            "error_y": {
             "color": "#2a3f5f"
            },
            "marker": {
             "line": {
              "color": "#E5ECF6",
              "width": 0.5
             },
             "pattern": {
              "fillmode": "overlay",
              "size": 10,
              "solidity": 0.2
             }
            },
            "type": "bar"
           }
          ],
          "barpolar": [
           {
            "marker": {
             "line": {
              "color": "#E5ECF6",
              "width": 0.5
             },
             "pattern": {
              "fillmode": "overlay",
              "size": 10,
              "solidity": 0.2
             }
            },
            "type": "barpolar"
           }
          ],
          "carpet": [
           {
            "aaxis": {
             "endlinecolor": "#2a3f5f",
             "gridcolor": "white",
             "linecolor": "white",
             "minorgridcolor": "white",
             "startlinecolor": "#2a3f5f"
            },
            "baxis": {
             "endlinecolor": "#2a3f5f",
             "gridcolor": "white",
             "linecolor": "white",
             "minorgridcolor": "white",
             "startlinecolor": "#2a3f5f"
            },
            "type": "carpet"
           }
          ],
          "choropleth": [
           {
            "colorbar": {
             "outlinewidth": 0,
             "ticks": ""
            },
            "type": "choropleth"
           }
          ],
          "contour": [
           {
            "colorbar": {
             "outlinewidth": 0,
             "ticks": ""
            },
            "colorscale": [
             [
              0,
              "#0d0887"
             ],
             [
              0.1111111111111111,
              "#46039f"
             ],
             [
              0.2222222222222222,
              "#7201a8"
             ],
             [
              0.3333333333333333,
              "#9c179e"
             ],
             [
              0.4444444444444444,
              "#bd3786"
             ],
             [
              0.5555555555555556,
              "#d8576b"
             ],
             [
              0.6666666666666666,
              "#ed7953"
             ],
             [
              0.7777777777777778,
              "#fb9f3a"
             ],
             [
              0.8888888888888888,
              "#fdca26"
             ],
             [
              1,
              "#f0f921"
             ]
            ],
            "type": "contour"
           }
          ],
          "contourcarpet": [
           {
            "colorbar": {
             "outlinewidth": 0,
             "ticks": ""
            },
            "type": "contourcarpet"
           }
          ],
          "heatmap": [
           {
            "colorbar": {
             "outlinewidth": 0,
             "ticks": ""
            },
            "colorscale": [
             [
              0,
              "#0d0887"
             ],
             [
              0.1111111111111111,
              "#46039f"
             ],
             [
              0.2222222222222222,
              "#7201a8"
             ],
             [
              0.3333333333333333,
              "#9c179e"
             ],
             [
              0.4444444444444444,
              "#bd3786"
             ],
             [
              0.5555555555555556,
              "#d8576b"
             ],
             [
              0.6666666666666666,
              "#ed7953"
             ],
             [
              0.7777777777777778,
              "#fb9f3a"
             ],
             [
              0.8888888888888888,
              "#fdca26"
             ],
             [
              1,
              "#f0f921"
             ]
            ],
            "type": "heatmap"
           }
          ],
          "heatmapgl": [
           {
            "colorbar": {
             "outlinewidth": 0,
             "ticks": ""
            },
            "colorscale": [
             [
              0,
              "#0d0887"
             ],
             [
              0.1111111111111111,
              "#46039f"
             ],
             [
              0.2222222222222222,
              "#7201a8"
             ],
             [
              0.3333333333333333,
              "#9c179e"
             ],
             [
              0.4444444444444444,
              "#bd3786"
             ],
             [
              0.5555555555555556,
              "#d8576b"
             ],
             [
              0.6666666666666666,
              "#ed7953"
             ],
             [
              0.7777777777777778,
              "#fb9f3a"
             ],
             [
              0.8888888888888888,
              "#fdca26"
             ],
             [
              1,
              "#f0f921"
             ]
            ],
            "type": "heatmapgl"
           }
          ],
          "histogram": [
           {
            "marker": {
             "pattern": {
              "fillmode": "overlay",
              "size": 10,
              "solidity": 0.2
             }
            },
            "type": "histogram"
           }
          ],
          "histogram2d": [
           {
            "colorbar": {
             "outlinewidth": 0,
             "ticks": ""
            },
            "colorscale": [
             [
              0,
              "#0d0887"
             ],
             [
              0.1111111111111111,
              "#46039f"
             ],
             [
              0.2222222222222222,
              "#7201a8"
             ],
             [
              0.3333333333333333,
              "#9c179e"
             ],
             [
              0.4444444444444444,
              "#bd3786"
             ],
             [
              0.5555555555555556,
              "#d8576b"
             ],
             [
              0.6666666666666666,
              "#ed7953"
             ],
             [
              0.7777777777777778,
              "#fb9f3a"
             ],
             [
              0.8888888888888888,
              "#fdca26"
             ],
             [
              1,
              "#f0f921"
             ]
            ],
            "type": "histogram2d"
           }
          ],
          "histogram2dcontour": [
           {
            "colorbar": {
             "outlinewidth": 0,
             "ticks": ""
            },
            "colorscale": [
             [
              0,
              "#0d0887"
             ],
             [
              0.1111111111111111,
              "#46039f"
             ],
             [
              0.2222222222222222,
              "#7201a8"
             ],
             [
              0.3333333333333333,
              "#9c179e"
             ],
             [
              0.4444444444444444,
              "#bd3786"
             ],
             [
              0.5555555555555556,
              "#d8576b"
             ],
             [
              0.6666666666666666,
              "#ed7953"
             ],
             [
              0.7777777777777778,
              "#fb9f3a"
             ],
             [
              0.8888888888888888,
              "#fdca26"
             ],
             [
              1,
              "#f0f921"
             ]
            ],
            "type": "histogram2dcontour"
           }
          ],
          "mesh3d": [
           {
            "colorbar": {
             "outlinewidth": 0,
             "ticks": ""
            },
            "type": "mesh3d"
           }
          ],
          "parcoords": [
           {
            "line": {
             "colorbar": {
              "outlinewidth": 0,
              "ticks": ""
             }
            },
            "type": "parcoords"
           }
          ],
          "pie": [
           {
            "automargin": true,
            "type": "pie"
           }
          ],
          "scatter": [
           {
            "fillpattern": {
             "fillmode": "overlay",
             "size": 10,
             "solidity": 0.2
            },
            "type": "scatter"
           }
          ],
          "scatter3d": [
           {
            "line": {
             "colorbar": {
              "outlinewidth": 0,
              "ticks": ""
             }
            },
            "marker": {
             "colorbar": {
              "outlinewidth": 0,
              "ticks": ""
             }
            },
            "type": "scatter3d"
           }
          ],
          "scattercarpet": [
           {
            "marker": {
             "colorbar": {
              "outlinewidth": 0,
              "ticks": ""
             }
            },
            "type": "scattercarpet"
           }
          ],
          "scattergeo": [
           {
            "marker": {
             "colorbar": {
              "outlinewidth": 0,
              "ticks": ""
             }
            },
            "type": "scattergeo"
           }
          ],
          "scattergl": [
           {
            "marker": {
             "colorbar": {
              "outlinewidth": 0,
              "ticks": ""
             }
            },
            "type": "scattergl"
           }
          ],
          "scattermapbox": [
           {
            "marker": {
             "colorbar": {
              "outlinewidth": 0,
              "ticks": ""
             }
            },
            "type": "scattermapbox"
           }
          ],
          "scatterpolar": [
           {
            "marker": {
             "colorbar": {
              "outlinewidth": 0,
              "ticks": ""
             }
            },
            "type": "scatterpolar"
           }
          ],
          "scatterpolargl": [
           {
            "marker": {
             "colorbar": {
              "outlinewidth": 0,
              "ticks": ""
             }
            },
            "type": "scatterpolargl"
           }
          ],
          "scatterternary": [
           {
            "marker": {
             "colorbar": {
              "outlinewidth": 0,
              "ticks": ""
             }
            },
            "type": "scatterternary"
           }
          ],
          "surface": [
           {
            "colorbar": {
             "outlinewidth": 0,
             "ticks": ""
            },
            "colorscale": [
             [
              0,
              "#0d0887"
             ],
             [
              0.1111111111111111,
              "#46039f"
             ],
             [
              0.2222222222222222,
              "#7201a8"
             ],
             [
              0.3333333333333333,
              "#9c179e"
             ],
             [
              0.4444444444444444,
              "#bd3786"
             ],
             [
              0.5555555555555556,
              "#d8576b"
             ],
             [
              0.6666666666666666,
              "#ed7953"
             ],
             [
              0.7777777777777778,
              "#fb9f3a"
             ],
             [
              0.8888888888888888,
              "#fdca26"
             ],
             [
              1,
              "#f0f921"
             ]
            ],
            "type": "surface"
           }
          ],
          "table": [
           {
            "cells": {
             "fill": {
              "color": "#EBF0F8"
             },
             "line": {
              "color": "white"
             }
            },
            "header": {
             "fill": {
              "color": "#C8D4E3"
             },
             "line": {
              "color": "white"
             }
            },
            "type": "table"
           }
          ]
         },
         "layout": {
          "annotationdefaults": {
           "arrowcolor": "#2a3f5f",
           "arrowhead": 0,
           "arrowwidth": 1
          },
          "autotypenumbers": "strict",
          "coloraxis": {
           "colorbar": {
            "outlinewidth": 0,
            "ticks": ""
           }
          },
          "colorscale": {
           "diverging": [
            [
             0,
             "#8e0152"
            ],
            [
             0.1,
             "#c51b7d"
            ],
            [
             0.2,
             "#de77ae"
            ],
            [
             0.3,
             "#f1b6da"
            ],
            [
             0.4,
             "#fde0ef"
            ],
            [
             0.5,
             "#f7f7f7"
            ],
            [
             0.6,
             "#e6f5d0"
            ],
            [
             0.7,
             "#b8e186"
            ],
            [
             0.8,
             "#7fbc41"
            ],
            [
             0.9,
             "#4d9221"
            ],
            [
             1,
             "#276419"
            ]
           ],
           "sequential": [
            [
             0,
             "#0d0887"
            ],
            [
             0.1111111111111111,
             "#46039f"
            ],
            [
             0.2222222222222222,
             "#7201a8"
            ],
            [
             0.3333333333333333,
             "#9c179e"
            ],
            [
             0.4444444444444444,
             "#bd3786"
            ],
            [
             0.5555555555555556,
             "#d8576b"
            ],
            [
             0.6666666666666666,
             "#ed7953"
            ],
            [
             0.7777777777777778,
             "#fb9f3a"
            ],
            [
             0.8888888888888888,
             "#fdca26"
            ],
            [
             1,
             "#f0f921"
            ]
           ],
           "sequentialminus": [
            [
             0,
             "#0d0887"
            ],
            [
             0.1111111111111111,
             "#46039f"
            ],
            [
             0.2222222222222222,
             "#7201a8"
            ],
            [
             0.3333333333333333,
             "#9c179e"
            ],
            [
             0.4444444444444444,
             "#bd3786"
            ],
            [
             0.5555555555555556,
             "#d8576b"
            ],
            [
             0.6666666666666666,
             "#ed7953"
            ],
            [
             0.7777777777777778,
             "#fb9f3a"
            ],
            [
             0.8888888888888888,
             "#fdca26"
            ],
            [
             1,
             "#f0f921"
            ]
           ]
          },
          "colorway": [
           "#636efa",
           "#EF553B",
           "#00cc96",
           "#ab63fa",
           "#FFA15A",
           "#19d3f3",
           "#FF6692",
           "#B6E880",
           "#FF97FF",
           "#FECB52"
          ],
          "font": {
           "color": "#2a3f5f"
          },
          "geo": {
           "bgcolor": "white",
           "lakecolor": "white",
           "landcolor": "#E5ECF6",
           "showlakes": true,
           "showland": true,
           "subunitcolor": "white"
          },
          "hoverlabel": {
           "align": "left"
          },
          "hovermode": "closest",
          "mapbox": {
           "style": "light"
          },
          "paper_bgcolor": "white",
          "plot_bgcolor": "#E5ECF6",
          "polar": {
           "angularaxis": {
            "gridcolor": "white",
            "linecolor": "white",
            "ticks": ""
           },
           "bgcolor": "#E5ECF6",
           "radialaxis": {
            "gridcolor": "white",
            "linecolor": "white",
            "ticks": ""
           }
          },
          "scene": {
           "xaxis": {
            "backgroundcolor": "#E5ECF6",
            "gridcolor": "white",
            "gridwidth": 2,
            "linecolor": "white",
            "showbackground": true,
            "ticks": "",
            "zerolinecolor": "white"
           },
           "yaxis": {
            "backgroundcolor": "#E5ECF6",
            "gridcolor": "white",
            "gridwidth": 2,
            "linecolor": "white",
            "showbackground": true,
            "ticks": "",
            "zerolinecolor": "white"
           },
           "zaxis": {
            "backgroundcolor": "#E5ECF6",
            "gridcolor": "white",
            "gridwidth": 2,
            "linecolor": "white",
            "showbackground": true,
            "ticks": "",
            "zerolinecolor": "white"
           }
          },
          "shapedefaults": {
           "line": {
            "color": "#2a3f5f"
           }
          },
          "ternary": {
           "aaxis": {
            "gridcolor": "white",
            "linecolor": "white",
            "ticks": ""
           },
           "baxis": {
            "gridcolor": "white",
            "linecolor": "white",
            "ticks": ""
           },
           "bgcolor": "#E5ECF6",
           "caxis": {
            "gridcolor": "white",
            "linecolor": "white",
            "ticks": ""
           }
          },
          "title": {
           "x": 0.05
          },
          "xaxis": {
           "automargin": true,
           "gridcolor": "white",
           "linecolor": "white",
           "ticks": "",
           "title": {
            "standoff": 15
           },
           "zerolinecolor": "white",
           "zerolinewidth": 2
          },
          "yaxis": {
           "automargin": true,
           "gridcolor": "white",
           "linecolor": "white",
           "ticks": "",
           "title": {
            "standoff": 15
           },
           "zerolinecolor": "white",
           "zerolinewidth": 2
          }
         }
        },
        "title": {
         "font": {
          "size": 25
         },
         "text": "PCA of ACT Composite 75th percentile on 2018-2019 IPEDS Data"
        },
        "xaxis": {
         "anchor": "y",
         "domain": [
          0,
          1
         ],
         "tickfont": {
          "size": 20
         },
         "title": {
          "font": {
           "size": 20
          },
          "text": "pca0"
         }
        },
        "yaxis": {
         "anchor": "x",
         "domain": [
          0,
          1
         ],
         "tickfont": {
          "size": 20
         },
         "title": {
          "font": {
           "size": 20
          },
          "text": "pca1"
         }
        }
       }
      },
      "text/html": [
       "<div>                            <div id=\"f1f05c6c-1a26-47e9-9322-5763e3c91185\" class=\"plotly-graph-div\" style=\"height:525px; width:100%;\"></div>            <script type=\"text/javascript\">                require([\"plotly\"], function(Plotly) {                    window.PLOTLYENV=window.PLOTLYENV || {};                                    if (document.getElementById(\"f1f05c6c-1a26-47e9-9322-5763e3c91185\")) {                    Plotly.newPlot(                        \"f1f05c6c-1a26-47e9-9322-5763e3c91185\",                        [{\"customdata\":[[\"Abilene Christian University\",3401.0],[\"Abraham Baldwin Agricultural College\",2660.0],[\"Adams State University\",1483.0],[\"Adelphi University\",5056.0],[\"Adrian College\",1751.0],[\"AdventHealth University\",528.0],[\"Alabama A & M University\",4842.0],[\"Alabama State University\",3643.0],[\"Albertus Magnus College\",954.0],[\"Albion College\",1509.0],[\"Alcorn State University\",2855.0],[\"Allegheny College\",1724.0],[\"American University\",7952.0],[\"Anderson University\",1331.0],[\"Anderson University\",2525.0],[\"Andrew College\",205.0],[\"Andrews University\",1346.0],[\"Angelo State University\",5459.0],[\"Appalachian Bible College\",162.0],[\"Appalachian State University\",16421.0],[\"Aquinas College\",1299.0],[\"Arcadia University\",1951.0],[\"Arizona Christian University\",642.0],[\"Arizona State University Campus Immersion\",39396.0],[\"Arkansas State University\",6789.0],[\"Art Academy of Cincinnati\",183.0],[\"Ashland University\",3490.0],[\"Auburn University\",22460.0],[\"Auburn University at Montgomery\",3554.0],[\"Augsburg University\",1992.0],[\"Augusta University\",4419.0],[\"Augustana University\",1717.0],[\"Austin Peay State University\",6993.0],[\"Azusa Pacific University\",5003.0],[\"Bacone College\",243.0],[\"Baker University\",1062.0],[\"Barnard College\",2519.0],[\"Barry University\",2968.0],[\"Barton College\",932.0],[\"Baylor University\",13976.0],[\"Becker College\",1469.0],[\"Bellarmine University\",2408.0],[\"Belmont Abbey College\",1440.0],[\"Belmont University\",6367.0],[\"Benedictine University\",2372.0],[\"Bethel University\",1060.0],[\"Bethel University\",2417.0],[\"Bethel University\",2981.0],[\"Biola University\",3779.0],[\"Black Hills State University\",2029.0],[\"Blackburn College\",548.0],[\"Bloomfield College\",1555.0],[\"Bloomsburg University of Pennsylvania\",7512.0],[\"Blue Mountain College\",583.0],[\"Bluefield University\",822.0],[\"Bluffton University\",605.0],[\"Boise Bible College\",96.0],[\"Boise State University\",12787.0],[\"Boston College\",9696.0],[\"Boston University\",17396.0],[\"Bowling Green State University-Main Campus\",12987.0],[\"Bradley University\",4462.0],[\"Brenau University\",1090.0],[\"Brewton-Parker College\",454.0],[\"Brigham Young University\",28253.0],[\"Brigham Young University-Hawaii\",2868.0],[\"Brigham Young University-Idaho\",18335.0],[\"Buena Vista University\",1394.0],[\"Bushnell University\",417.0],[\"Butler University\",4520.0],[\"Cairn University-Langhorne\",756.0],[\"California Baptist University\",6859.0],[\"California Polytechnic State University-San Luis Obispo\",20333.0],[\"California State Polytechnic University-Humboldt\",6735.0],[\"California State Polytechnic University-Pomona\",21824.0],[\"California State University-Chico\",15254.0],[\"California State University-Fresno\",19369.0],[\"California State University-Fullerton\",27936.0],[\"California State University-Long Beach\",27617.0],[\"California State University-Los Angeles\",20748.0],[\"California State University-Monterey Bay\",6048.0],[\"California State University-Northridge\",29289.0],[\"California State University-Sacramento\",23676.0],[\"California State University-San Bernardino\",16166.0],[\"California State University-San Marcos\",11895.0],[\"California University of Pennsylvania\",4210.0],[\"Calvary University\",182.0],[\"Calvin University\",3417.0],[\"Campbell University\",3471.0],[\"Capital University\",2316.0],[\"Capitol Technology University\",375.0],[\"Cardinal Stritch University\",807.0],[\"Carlow University\",1071.0],[\"Carnegie Mellon University\",6343.0],[\"Carolina University\",398.0],[\"Carroll University\",2690.0],[\"Carson-Newman University\",1661.0],[\"Carthage College\",2649.0],[\"Case Western Reserve University\",5095.0],[\"Castleton University\",1668.0],[\"Cedar Crest College\",929.0],[\"Cedarville University\",3278.0],[\"Centenary College of Louisiana\",545.0],[\"Centenary University\",1058.0],[\"Central Baptist College\",576.0],[\"Central Connecticut State University\",7576.0],[\"Central Methodist University-College of Liberal Arts and Sciences\",1131.0],[\"Central Michigan University\",14264.0],[\"Central State University\",2029.0],[\"Central Washington University\",9954.0],[\"Chaminade University of Honolulu\",1401.0],[\"Champlain College\",2488.0],[\"Chapman University\",6785.0],[\"Charleston Southern University\",2729.0],[\"Chicago State University\",1287.0],[\"Citadel Military College of South Carolina\",2654.0],[\"Claflin University\",1984.0],[\"Claremont McKenna College\",1321.0],[\"Clarion University of Pennsylvania\",3127.0],[\"Clarke University\",711.0],[\"Cleary University\",353.0],[\"Clemson University\",18971.0],[\"Cleveland State University\",9348.0],[\"Coastal Carolina University\",8941.0],[\"Coker University\",1001.0],[\"College of Charleston\",9103.0],[\"College of Coastal Georgia\",2078.0],[\"College of Saint Benedict\",1764.0],[\"Colorado Mesa University\",7079.0],[\"Colorado School of Mines\",4709.0],[\"Colorado State University Pueblo\",3134.0],[\"Colorado State University-Fort Collins\",22527.0],[\"Columbia International University\",513.0],[\"Columbia University in the City of New York\",7666.0],[\"Columbus State University\",4702.0],[\"Concord University\",1577.0],[\"Concordia College\",1112.0],[\"Concordia University Texas\",1332.0],[\"Concordia University-Irvine\",1661.0],[\"Converse University\",842.0],[\"Cooper Union for the Advancement of Science and Art\",856.0],[\"Coppin State University\",1765.0],[\"Corban University\",871.0],[\"Cornerstone University\",1288.0],[\"Cottey College\",268.0],[\"Creighton University\",4291.0],[\"Crown College\",732.0],[\"Cumberland University\",1694.0],[\"Curry College\",1991.0],[\"D'Youville College\",1262.0],[\"Dakota State University\",1448.0],[\"Dallas Christian College\",167.0],[\"Davis & Elkins College\",743.0],[\"Defiance College\",474.0],[\"Delaware State University\",3678.0],[\"Delta State University\",1989.0],[\"DeSales University\",1959.0],[\"Dickinson State University\",900.0],[\"DigiPen Institute of Technology\",831.0],[\"Dominican University\",1974.0],[\"Dominican University of California\",1135.0],[\"Drake University\",2834.0],[\"Drexel University\",13942.0],[\"Drury University\",1462.0],[\"Duquesne University\",5896.0],[\"East Carolina University\",19562.0],[\"East Central University\",2456.0],[\"East Stroudsburg University of Pennsylvania\",5243.0],[\"East Tennessee State University\",9533.0],[\"East Texas Baptist University\",1296.0],[\"Eastern Kentucky University\",10451.0],[\"Eastern Mennonite University\",849.0],[\"Eastern Michigan University\",11403.0],[\"Eastern New Mexico University-Main Campus\",2488.0],[\"Eastern Oregon University\",1689.0],[\"Eastern University\",1463.0],[\"Eastern Washington University\",9910.0],[\"Eckerd College\",1940.0],[\"Edgewood College\",1281.0],[\"Edinboro University of Pennsylvania\",3201.0],[\"Edward Waters University\",925.0],[\"Elizabeth City State University\",1425.0],[\"Elizabethtown College\",1595.0],[\"Emerson College\",3779.0],[\"Emmanuel College\",811.0],[\"Emmaus Bible College\",219.0],[\"Emory & Henry College\",956.0],[\"Erskine College\",561.0],[\"Eureka College\",548.0],[\"Fairmont State University\",3114.0],[\"Faulkner University\",1585.0],[\"Fayetteville State University\",4058.0],[\"Ferris State University\",8079.0],[\"Finlandia University\",376.0],[\"Fisk University\",716.0],[\"Fitchburg State University\",3319.0],[\"Florida Agricultural and Mechanical University\",6958.0],[\"Florida Atlantic University\",16436.0],[\"Florida College\",494.0],[\"Florida Gulf Coast University\",11191.0],[\"Florida Institute of Technology\",3271.0],[\"Florida International University\",27906.0],[\"Florida Polytechnic University\",1251.0],[\"Florida Southern College\",2518.0],[\"Florida State University\",29301.0],[\"Fordham University\",9149.0],[\"Fort Lewis College\",2883.0],[\"Fort Valley State University\",2148.0],[\"Francis Marion University\",2883.0],[\"Franciscan University of Steubenville\",2039.0],[\"Freed-Hardeman University\",1268.0],[\"Fresno Pacific University\",2445.0],[\"Friends University\",886.0],[\"Frostburg State University\",3805.0],[\"Furman University\",2665.0],[\"Gannon University\",2653.0],[\"Gardner-Webb University\",1641.0],[\"Geneva College\",1180.0],[\"George Fox University\",2485.0],[\"George Mason University\",21213.0],[\"George Washington University\",11334.0],[\"Georgetown University\",6990.0],[\"Georgia College & State University\",5410.0],[\"Georgia Institute of Technology-Main Campus\",14318.0],[\"Georgia Southern University\",19502.0],[\"Georgia Southwestern State University\",1674.0],[\"Georgia State University\",21057.0],[\"Georgian Court University\",1417.0],[\"Gonzaga University\",5237.0],[\"Gordon College\",1555.0],[\"Gordon State College\",2376.0],[\"Goshen College\",798.0],[\"Graceland University-Lamoni\",1023.0],[\"Grand Valley State University\",19233.0],[\"Grand View University\",1589.0],[\"Greensboro College\",737.0],[\"Greenville University\",872.0],[\"Gwynedd Mercy University\",1898.0],[\"Hanover College\",1097.0],[\"Hardin-Simmons University\",1627.0],[\"Harding University\",3742.0],[\"Hawaii Pacific University\",2384.0],[\"Heidelberg University\",1035.0],[\"Henderson State University\",2742.0],[\"Hiram College\",824.0],[\"Hofstra University\",6329.0],[\"Hollins University\",666.0],[\"Holy Cross College\",455.0],[\"Holy Family University\",1562.0],[\"Holy Names University\",594.0],[\"Hope International University\",597.0],[\"Houston Baptist University\",1876.0],[\"Howard Payne University\",812.0],[\"Howard University\",5991.0],[\"Huntingdon College\",881.0],[\"Huntington University\",884.0],[\"Husson University\",2394.0],[\"Huston-Tillotson University\",1035.0],[\"Illinois Institute of Technology\",2792.0],[\"Indiana Institute of Technology\",1463.0],[\"Indiana University of Pennsylvania-Main Campus\",8583.0],[\"Indiana University-Bloomington\",32109.0],[\"Indiana University-Purdue University-Indianapolis\",17555.0],[\"Indiana University-South Bend\",3614.0],[\"Indiana University-Southeast\",3204.0],[\"Indiana Wesleyan University-Marion\",2598.0],[\"Iowa State University\",27929.0],[\"Iowa Wesleyan University\",564.0],[\"Jackson State University\",4840.0],[\"Jacksonville State University\",5459.0],[\"Jacksonville University\",2292.0],[\"John Carroll University\",2996.0],[\"John Paul the Great Catholic University\",268.0],[\"Johnson C Smith University\",1427.0],[\"Johnson University\",632.0],[\"Johnson University Florida\",187.0],[\"Judson University\",678.0],[\"Kansas Wesleyan University\",606.0],[\"Kennesaw State University\",24150.0],[\"Kent State University at Kent\",18640.0],[\"Kentucky State University\",1069.0],[\"Kettering University\",1825.0],[\"King University\",1460.0],[\"Kutztown University of Pennsylvania\",6936.0],[\"Kuyper College\",130.0],[\"La Roche University\",1118.0],[\"La Sierra University\",1630.0],[\"LaGrange College\",831.0],[\"Lake Superior State University\",1669.0],[\"Lakeland University\",782.0],[\"Lamar University\",5735.0],[\"Lancaster Bible College\",986.0],[\"Lander University\",2764.0],[\"Lawrence Technological University\",1693.0],[\"Lawrence University\",1420.0],[\"Le Moyne College\",2353.0],[\"Lebanon Valley College\",1651.0],[\"Lee University\",3780.0],[\"Lesley University\",1700.0],[\"LeTourneau University\",1315.0],[\"Lewis University\",3575.0],[\"Lewis-Clark State College\",2209.0],[\"Liberty University\",27401.0],[\"Life Pacific University\",446.0],[\"Life University\",727.0],[\"LIM College\",1391.0],[\"Limestone University\",1797.0],[\"Lincoln Memorial University\",1395.0],[\"Lincoln University\",1963.0],[\"Lindenwood University\",5969.0],[\"Linfield University-McMinnville Campus\",1334.0],[\"Lipscomb University\",2738.0],[\"Livingstone College\",1139.0],[\"Lock Haven University\",2791.0],[\"Long Island University\",5688.0],[\"Loras College\",1345.0],[\"Louisburg College\",591.0],[\"Louisiana College\",893.0],[\"Louisiana State University and Agricultural & Mechanical College\",22418.0],[\"Louisiana Tech University\",8147.0],[\"Lourdes University\",842.0],[\"Loyola Marymount University\",6466.0],[\"Loyola University Chicago\",11189.0],[\"Loyola University New Orleans\",2691.0],[\"Lubbock Christian University\",1272.0],[\"Luther College\",1977.0],[\"Madonna University\",1431.0],[\"Malone University\",1044.0],[\"Manhattan College\",3455.0],[\"Manor College\",480.0],[\"Mansfield University of Pennsylvania\",1453.0],[\"Maranatha Baptist University\",530.0],[\"Marian University\",1995.0],[\"Marquette University\",8121.0],[\"Mars Hill University\",1079.0],[\"Marshall University\",7460.0],[\"Martin Luther College\",751.0],[\"Mary Baldwin University\",960.0],[\"Maryland Institute College of Art\",1689.0],[\"Marymount Manhattan College\",1861.0],[\"Marymount University\",2070.0],[\"Marywood University\",1740.0],[\"McKendree University\",1631.0],[\"McMurry University\",990.0],[\"McNeese State University\",5641.0],[\"McPherson College\",706.0],[\"MCPHS University\",3727.0],[\"Mercer University\",4259.0],[\"Meredith College\",1531.0],[\"Methodist University\",1578.0],[\"Miami University-Oxford\",16714.0],[\"Michigan State University\",35744.0],[\"Michigan Technological University\",5465.0],[\"Mid-Atlantic Christian University\",176.0],[\"Middle Georgia State University\",4788.0],[\"Middle Tennessee State University\",15511.0],[\"Midland University\",1194.0],[\"Midway University\",819.0],[\"Midwestern Baptist Theological Seminary\",280.0],[\"Midwestern State University\",4256.0],[\"Milligan University\",734.0],[\"Millikin University\",1894.0],[\"Millsaps College\",792.0],[\"Milwaukee School of Engineering\",2491.0],[\"Minnesota State University Moorhead\",3897.0],[\"Minot State University\",1979.0],[\"Misericordia University\",1614.0],[\"Mississippi College\",2772.0],[\"Mississippi University for Women\",2002.0],[\"Missouri Baptist University\",1471.0],[\"Missouri State University-Springfield\",14924.0],[\"Missouri University of Science and Technology\",6065.0],[\"Montana State University\",12516.0],[\"Montana Technological University\",1457.0],[\"Morehouse College\",2146.0],[\"Morgan State University\",5830.0],[\"Mount Saint Joseph University\",1006.0],[\"Mount Saint Mary College\",1675.0],[\"Mount St. Mary's University\",1726.0],[\"Mount Vernon Nazarene University\",1519.0],[\"Murray State University\",6236.0],[\"Muskingum University\",1353.0],[\"New Jersey Institute of Technology\",6827.0],[\"New Mexico Institute of Mining and Technology\",1269.0],[\"New Mexico State University-Main Campus\",9712.0],[\"New York Institute of Technology\",3250.0],[\"Newman University\",1029.0],[\"Niagara University\",2670.0],[\"Nicholls State University\",4893.0],[\"North Carolina A & T State University\",9591.0],[\"North Carolina Central University\",5328.0],[\"North Carolina State University at Raleigh\",22317.0],[\"North Carolina Wesleyan College\",1677.0],[\"North Central University\",929.0],[\"North Dakota State University-Main Campus\",10237.0],[\"North Greenville University\",1937.0],[\"North Park University\",1783.0],[\"Northeastern State University\",4641.0],[\"Northern Kentucky University\",8551.0],[\"Northern Michigan University\",6184.0],[\"Northern State University\",1333.0],[\"Northwest Missouri State University\",4928.0],[\"Northwest Nazarene University\",1089.0],[\"Northwest University\",936.0],[\"Northwestern State University of Louisiana\",6307.0],[\"Northwood University\",1695.0],[\"Notre Dame College\",1163.0],[\"Notre Dame de Namur University\",669.0],[\"Nova Southeastern University\",3685.0],[\"Oakland City University\",597.0],[\"Oakland University\",12656.0],[\"Oakwood University\",1449.0],[\"Oglethorpe University\",1212.0],[\"Ohio Dominican University\",952.0],[\"Ohio Northern University\",2118.0],[\"Ohio State University-Main Campus\",42831.0],[\"Ohio University-Main Campus\",17046.0],[\"Ohio Valley University\",374.0],[\"Oklahoma Baptist University\",1788.0],[\"Oklahoma Christian University\",1753.0],[\"Oklahoma City University\",1591.0],[\"Oklahoma State University-Main Campus\",17722.0],[\"Oklahoma Wesleyan University\",563.0],[\"Old Dominion University\",15003.0],[\"Olivet Nazarene University\",2946.0],[\"Oral Roberts University\",2851.0],[\"Oregon Institute of Technology\",2311.0],[\"Oregon State University\",18591.0],[\"Oregon State University-Cascades Campus\",432.0],[\"Ottawa University-Ottawa\",671.0],[\"Otterbein University\",2284.0],[\"Ouachita Baptist University\",1529.0],[\"Our Lady of the Lake University\",1291.0],[\"Ozark Christian College\",488.0],[\"Paine College\",432.0],[\"Palm Beach Atlantic University\",2269.0],[\"Paul Quinn College\",521.0],[\"Pepperdine University\",3336.0],[\"Pfeiffer University\",845.0],[\"Piedmont University\",1153.0],[\"Point Loma Nazarene University\",2595.0],[\"Point Park University\",2749.0],[\"Point University\",1108.0],[\"Pomona College\",1559.0],[\"Portland State University\",14291.0],[\"Prairie View A & M University\",7953.0],[\"Pratt Institute-Main\",3536.0],[\"Presentation College\",445.0],[\"Providence College\",3904.0],[\"Purdue University Fort Wayne\",5702.0],[\"Purdue University Northwest\",5806.0],[\"Purdue University-Main Campus\",31849.0],[\"Queens University of Charlotte\",1552.0],[\"Quincy University\",886.0],[\"Ramapo College of New Jersey\",4821.0],[\"Randolph-Macon College\",1464.0],[\"Reed College\",1453.0],[\"Regent University\",2355.0],[\"Reinhardt University\",1307.0],[\"Rhode Island College\",5104.0],[\"Rhodes College\",1992.0],[\"Rider University\",3535.0],[\"Roanoke College\",1956.0],[\"Robert Morris University\",3683.0],[\"Rochester Institute of Technology\",12486.0],[\"Rochester University\",697.0],[\"Rockford University\",888.0],[\"Rocky Mountain College\",867.0],[\"Roosevelt University\",2067.0],[\"Rosemont College\",462.0],[\"Rowan University\",14043.0],[\"Rutgers University-Camden\",4764.0],[\"Rutgers University-New Brunswick\",34052.0],[\"Rutgers University-Newark\",7726.0],[\"Saginaw Valley State University\",6472.0],[\"Saint Anselm College\",2007.0],[\"Saint Cloud State University\",7844.0],[\"Saint Edward's University\",3477.0],[\"Saint Francis University\",1485.0],[\"Saint John Fisher College\",2616.0],[\"Saint Johns University\",1646.0],[\"Saint Joseph's University\",4350.0],[\"Saint Louis University\",6440.0],[\"Saint Martin's University\",1172.0],[\"Saint Mary's University of Minnesota\",1118.0],[\"Saint Mary-of-the-Woods College\",550.0],[\"Saint Norbert College\",2083.0],[\"Saint Xavier University\",2713.0],[\"Salem College\",552.0],[\"Sam Houston State University\",15073.0],[\"Samford University\",3453.0],[\"San Diego Christian College\",440.0],[\"San Diego State University\",27453.0],[\"San Francisco State University\",22191.0],[\"San Jose State University\",23099.0],[\"Savannah College of Art and Design\",9752.0],[\"Savannah State University\",3338.0],[\"School of the Art Institute of Chicago\",2746.0],[\"Schreiner University\",1110.0],[\"Scripps College\",1046.0],[\"Seattle Pacific University\",2781.0],[\"Seattle University\",4469.0],[\"Seton Hall University\",5777.0],[\"Shenandoah University\",1967.0],[\"Shepherd University\",2543.0],[\"Shippensburg University of Pennsylvania\",5018.0],[\"Shorter University\",1078.0],[\"Sierra Nevada University\",372.0],[\"Simmons University\",1631.0],[\"Simpson College\",1252.0],[\"Simpson University\",621.0],[\"Slippery Rock University of Pennsylvania\",7032.0],[\"Sonoma State University\",7888.0],[\"South Dakota School of Mines and Technology\",1873.0],[\"South Dakota State University\",8169.0],[\"Southeastern University\",4877.0],[\"Southern Arkansas University Main Campus\",3018.0],[\"Southern Connecticut State University\",6877.0],[\"Southern Illinois University-Carbondale\",8088.0],[\"Southern Illinois University-Edwardsville\",8979.0],[\"Southern Methodist University\",6273.0],[\"Southern Oregon University\",3397.0],[\"Southern University and A & M College\",4868.0],[\"Southern Utah University\",6808.0],[\"Southern Virginia University\",935.0],[\"Southwest Baptist University\",1780.0],[\"Southwestern Adventist University\",715.0],[\"Southwestern Assemblies of God University\",1398.0],[\"Southwestern Christian University\",487.0],[\"Southwestern College\",683.0],[\"Spelman College\",2123.0],[\"Spring Arbor University\",1181.0],[\"St Bonaventure University\",1724.0],[\"St Catherine University\",2143.0],[\"St. Andrews University\",623.0],[\"St. John's University-New York\",11734.0],[\"St. Mary's College of Maryland\",1503.0],[\"St. Mary's University\",2262.0],[\"St. Thomas University\",933.0],[\"State University of New York at New Paltz\",6190.0],[\"Stephen F Austin State University\",9376.0],[\"Stephens College\",457.0],[\"Sterling College\",556.0],[\"Stevenson University\",2708.0],[\"Stockton University\",8136.0],[\"Stony Brook University\",16341.0],[\"SUNY at Purchase College\",3767.0],[\"SUNY Brockport\",6343.0],[\"SUNY College at Plattsburgh\",4853.0],[\"SUNY College of Environmental Science and Forestry\",1776.0],[\"SUNY College of Technology at Alfred\",3456.0],[\"SUNY College of Technology at Canton\",2743.0],[\"SUNY Morrisville\",2508.0],[\"SUNY Oneonta\",5942.0],[\"Syracuse University\",14655.0],[\"Tarleton State University\",8378.0],[\"Taylor University\",1846.0],[\"Tennessee Technological University\",7999.0],[\"Tennessee Wesleyan University\",885.0],[\"Texas A & M International University\",5235.0],[\"Texas A & M University-College Station\",47399.0],[\"Texas A & M University-Commerce\",6106.0],[\"Texas A & M University-Corpus Christi\",7713.0],[\"Texas A & M University-Kingsville\",5163.0],[\"Texas A&M University-San Antonio\",2933.0],[\"Texas A&M University-Texarkana\",1228.0],[\"Texas Christian University\",9162.0],[\"Texas Lutheran University\",1338.0],[\"Texas Southern University\",6503.0],[\"Texas State University\",28042.0],[\"Texas Tech University\",27648.0],[\"Texas Wesleyan University\",1290.0],[\"Texas Woman's University\",6880.0],[\"The Baptist College of Florida\",252.0],[\"The College of New Jersey\",6823.0],[\"The King's College\",535.0],[\"The New School\",6624.0],[\"The University of Alabama\",29586.0],[\"The University of Montana\",6752.0],[\"The University of Montana-Western\",1177.0],[\"The University of Tampa\",8146.0],[\"The University of Tennessee-Chattanooga\",9099.0],[\"The University of Tennessee-Knoxville\",21489.0],[\"The University of Texas at Arlington\",19326.0],[\"The University of Texas at Austin\",38097.0],[\"The University of Texas at Dallas\",16691.0],[\"The University of Texas at San Antonio\",22542.0],[\"The University of Texas at Tyler\",4708.0],[\"The University of Texas Permian Basin\",2014.0],[\"The University of Texas Rio Grande Valley\",19128.0],[\"The University of West Florida\",6789.0],[\"Thomas More University\",1400.0],[\"Toccoa Falls College\",890.0],[\"Tougaloo College\",696.0],[\"Towson University\",17350.0],[\"Trevecca Nazarene University\",1886.0],[\"Trine University\",2054.0],[\"Trinity Baptist College\",284.0],[\"Trinity Bible College and Graduate School\",138.0],[\"Trinity Christian College\",883.0],[\"Trinity College of Florida\",175.0],[\"Trinity International University-Illinois\",531.0],[\"Troy University\",9161.0],[\"Truett McConnell University\",888.0],[\"Truman State University\",4771.0],[\"Tusculum University\",1223.0],[\"Tuskegee University\",2462.0],[\"Union College\",672.0],[\"Union University\",1778.0],[\"University at Buffalo\",19941.0],[\"University of Akron Main Campus\",12408.0],[\"University of Alabama at Birmingham\",10042.0],[\"University of Alabama in Huntsville\",6393.0],[\"University of Alaska Fairbanks\",2783.0],[\"University of Arkansas\",21005.0],[\"University of Arkansas at Pine Bluff\",2250.0],[\"University of Bridgeport\",2311.0],[\"University of California-Berkeley\",29570.0],[\"University of California-Davis\",29967.0],[\"University of California-Irvine\",29251.0],[\"University of California-Los Angeles\",31009.0],[\"University of California-Merced\",7813.0],[\"University of California-Riverside\",20210.0],[\"University of California-San Diego\",29491.0],[\"University of California-Santa Barbara\",22601.0],[\"University of California-Santa Cruz\",17255.0],[\"University of Central Arkansas\",7863.0],[\"University of Central Florida\",41852.0],[\"University of Charleston\",1205.0],[\"University of Cincinnati-Main Campus\",22990.0],[\"University of Colorado Boulder\",28034.0],[\"University of Colorado Colorado Springs\",8270.0],[\"University of Colorado Denver/Anschutz Medical Campus\",8980.0],[\"University of Connecticut\",18478.0],[\"University of Connecticut-Stamford\",1701.0],[\"University of Dayton\",8162.0],[\"University of Delaware\",18355.0],[\"University of Denver\",5563.0],[\"University of Detroit Mercy\",2494.0],[\"University of Dubuque\",1674.0],[\"University of Florida\",32209.0],[\"University of Georgia\",27947.0],[\"University of Hawaii at Hilo\",2233.0],[\"University of Hawaii at Manoa\",10739.0],[\"University of Houston\",28029.0],[\"University of Houston-Clear Lake\",3099.0],[\"University of Idaho\",6984.0],[\"University of Illinois Chicago\",19254.0],[\"University of Illinois Springfield\",1799.0],[\"University of Illinois Urbana-Champaign\",32757.0],[\"University of Indianapolis\",4065.0],[\"University of Iowa\",21690.0],[\"University of Kentucky\",20484.0],[\"University of La Verne\",3744.0],[\"University of Louisiana at Lafayette\",12423.0],[\"University of Louisville\",11930.0],[\"University of Maine\",8158.0],[\"University of Maine at Fort Kent\",581.0],[\"University of Mary\",1846.0],[\"University of Mary Hardin-Baylor\",3182.0],[\"University of Mary Washington\",3876.0],[\"University of Maryland Eastern Shore\",2360.0],[\"University of Maryland-Baltimore County\",9623.0],[\"University of Maryland-College Park\",28501.0],[\"University of Massachusetts-Dartmouth\",5895.0],[\"University of Massachusetts-Lowell\",10651.0],[\"University of Memphis\",12064.0],[\"University of Miami\",10484.0],[\"University of Michigan-Ann Arbor\",29245.0],[\"University of Michigan-Flint\",3674.0],[\"University of Minnesota-Duluth\",8799.0],[\"University of Minnesota-Morris\",1463.0],[\"University of Minnesota-Twin Cities\",30001.0],[\"University of Mississippi\",16636.0],[\"University of Missouri-Columbia\",20720.0],[\"University of Missouri-Kansas City\",6606.0],[\"University of Missouri-St Louis\",5383.0],[\"University of Mobile\",1150.0],[\"University of Mount Olive\",1367.0],[\"University of Mount Union\",2074.0],[\"University of Nebraska at Kearney\",3941.0],[\"University of Nebraska-Lincoln\",19466.0],[\"University of Nevada-Las Vegas\",18764.0],[\"University of Nevada-Reno\",15200.0],[\"University of New Hampshire at Manchester\",589.0],[\"University of New Hampshire-Main Campus\",12493.0],[\"University of New Haven\",4768.0],[\"University of New Mexico-Main Campus\",13624.0],[\"University of New Orleans\",4833.0],[\"University of North Alabama\",5023.0],[\"University of North Carolina at Asheville\",3232.0],[\"University of North Carolina at Chapel Hill\",18526.0],[\"University of North Carolina at Charlotte\",21025.0],[\"University of North Carolina at Greensboro\",14265.0],[\"University of North Carolina at Pembroke\",4945.0],[\"University of North Carolina School of the Arts\",884.0],[\"University of North Carolina Wilmington\",12157.0],[\"University of North Dakota\",8184.0],[\"University of North Florida\",10452.0],[\"University of North Georgia\",13243.0],[\"University of North Texas\",25394.0],[\"University of North Texas at Dallas\",1824.0],[\"University of Northern Colorado\",8064.0],[\"University of Northern Iowa\",8745.0],[\"University of Northwestern-St Paul\",2097.0],[\"University of Oklahoma-Norman Campus\",19063.0],[\"University of Oregon\",17550.0],[\"University of Pennsylvania\",10605.0],[\"University of Pittsburgh-Bradford\",1199.0],[\"University of Pittsburgh-Greensburg\",1426.0],[\"University of Pittsburgh-Johnstown\",2542.0],[\"University of Pittsburgh-Pittsburgh Campus\",18421.0],[\"University of Pittsburgh-Titusville\",187.0],[\"University of Portland\",3702.0],[\"University of Redlands\",2501.0],[\"University of Rhode Island\",12485.0],[\"University of Saint Francis-Fort Wayne\",1511.0],[\"University of Saint Mary\",675.0],[\"University of San Diego\",5678.0],[\"University of San Francisco\",6435.0],[\"University of Science and Arts of Oklahoma\",728.0],[\"University of Sioux Falls\",1137.0],[\"University of South Alabama\",8637.0],[\"University of South Carolina Aiken\",2671.0],[\"University of South Carolina Beaufort\",1797.0],[\"University of South Carolina-Columbia\",25633.0],[\"University of South Carolina-Upstate\",4739.0],[\"University of South Dakota\",4969.0],[\"University of South Florida\",24834.0],[\"University of Southern California\",19194.0],[\"University of Southern Indiana\",6481.0],[\"University of Southern Maine\",4022.0],[\"University of St Thomas\",6162.0],[\"University of St Thomas\",1573.0],[\"University of the Cumberlands\",1974.0],[\"University of the Incarnate Word\",4103.0],[\"University of the Ozarks\",861.0],[\"University of the Pacific\",3584.0],[\"University of the Sciences\",1216.0],[\"University of Toledo\",12941.0],[\"University of Tulsa\",3156.0],[\"University of Utah\",18499.0],[\"University of Vermont\",10434.0],[\"University of Virginia's College at Wise\",1153.0],[\"University of Virginia-Main Campus\",15990.0],[\"University of Washington-Bothell Campus\",4623.0],[\"University of Washington-Seattle Campus\",29496.0],[\"University of Washington-Tacoma Campus\",4005.0],[\"University of West Alabama\",1836.0],[\"University of West Georgia\",8728.0],[\"University of Wisconsin-Madison\",29375.0],[\"University of Wyoming\",8457.0],[\"Upper Iowa University\",1939.0],[\"Ursuline College\",494.0],[\"Utah State University\",17393.0],[\"Valdosta State University\",6984.0],[\"Valley City State University\",862.0],[\"Valparaiso University\",3120.0],[\"Vanderbilt University\",6789.0],[\"Villanova University\",6565.0],[\"Virginia Commonwealth University\",20207.0],[\"Virginia Polytechnic Institute and State University\",27180.0],[\"Virginia State University\",3862.0],[\"Virginia Union University\",1102.0],[\"Viterbo University\",1394.0],[\"Waldorf University\",1735.0],[\"Walsh University\",1715.0],[\"Washington Adventist University\",749.0],[\"Washington State University\",22877.0],[\"Washington University in St Louis\",7146.0],[\"Wayland Baptist University\",946.0],[\"Wayne State University\",12956.0],[\"Waynesburg University\",1287.0],[\"Webber International University\",587.0],[\"Webster University\",2303.0],[\"Wentworth Institute of Technology\",3940.0],[\"Wesleyan College\",490.0],[\"West Chester University of Pennsylvania\",13060.0],[\"West Texas A & M University\",5484.0],[\"West Virginia State University\",1644.0],[\"West Virginia University\",19568.0],[\"West Virginia University Institute of Technology\",1175.0],[\"West Virginia Wesleyan College\",1162.0],[\"Western Carolina University\",8617.0],[\"Western Colorado University\",1883.0],[\"Western Kentucky University\",12393.0],[\"Western Michigan University\",14983.0],[\"Western Washington University\",13893.0],[\"Westfield State University\",4571.0],[\"Westminster College\",1865.0],[\"Westmont College\",1266.0],[\"Wheaton College\",2326.0],[\"Whitworth University\",2304.0],[\"Wichita State University\",8855.0],[\"Widener University\",2915.0],[\"Wilberforce University\",565.0],[\"Wilkes University\",2212.0],[\"William & Mary\",6300.0],[\"William Carey University\",1912.0],[\"William Jessup University\",1030.0],[\"William Peace University\",832.0],[\"Wilson College\",675.0],[\"Winona State University\",6324.0],[\"Winston-Salem State University\",4124.0],[\"Wisconsin Lutheran College\",951.0],[\"Woodbury University\",993.0],[\"Wright State University-Lake Campus\",715.0],[\"Wright State University-Main Campus\",8449.0],[\"Xavier University\",4782.0],[\"Xavier University of Louisiana\",2357.0],[\"Yeshiva University\",2633.0],[\"York College of Pennsylvania\",3707.0],[\"Young Harris College\",984.0],[\"Youngstown State University\",9008.0]],\"hovertemplate\":\"pca0=%{x}<br>pca1=%{y}<br>Name=%{customdata[0]}<br>Full-time undergraduate enrollment=%{customdata[1]}<br>ACT Composite 75th percentile=%{marker.color}<extra></extra>\",\"legendgroup\":\"\",\"marker\":{\"color\":[27.0,22.0,22.0,27.0,26.0,22.0,19.0,20.0,20.0,26.0,22.0,30.0,31.0,25.0,26.0,19.0,27.0,23.0,23.0,28.0,26.0,27.0,22.0,29.0,27.0,24.0,25.0,30.0,23.0,24.0,26.0,28.0,24.0,27.0,19.0,25.0,33.0,22.0,23.0,31.0,25.0,28.0,24.0,29.0,25.0,25.0,28.0,25.0,27.0,24.0,22.0,19.0,24.0,25.0,20.0,25.0,23.0,26.0,34.0,33.0,24.0,28.0,23.0,19.0,31.0,26.0,26.0,24.0,23.0,30.0,23.0,25.0,32.0,24.0,27.0,24.0,22.0,24.0,26.0,20.0,23.0,22.0,22.0,20.0,22.0,23.0,26.0,30.0,25.0,26.0,23.0,22.0,24.0,35.0,20.0,26.0,26.0,27.0,34.0,23.0,26.0,29.0,27.0,22.0,22.0,24.0,24.0,27.0,18.0,24.0,23.0,28.0,30.0,26.0,20.0,25.0,21.0,34.0,22.0,23.0,19.0,32.0,25.0,24.0,22.0,28.0,22.0,27.0,24.0,33.0,24.0,28.0,23.0,35.0,23.0,23.0,23.0,24.0,27.0,25.0,34.0,20.0,26.0,26.0,25.0,30.0,24.0,23.0,22.0,23.0,26.0,23.0,22.0,22.0,22.0,24.0,28.0,23.0,31.0,24.0,25.0,30.0,30.0,29.0,29.0,25.0,23.0,24.0,27.0,23.0,26.0,31.0,23.0,22.0,23.0,25.0,23.0,28.0,25.0,23.0,18.0,20.0,28.0,31.0,21.0,25.0,24.0,23.0,25.0,23.0,23.0,21.0,26.0,22.0,23.0,25.0,23.0,25.0,26.0,25.0,30.0,27.0,31.0,29.0,30.0,32.0,24.0,20.0,22.0,28.0,28.0,23.0,24.0,23.0,32.0,26.0,24.0,27.0,27.0,30.0,32.0,34.0,27.0,34.0,25.0,22.0,26.0,24.0,30.0,30.0,20.0,27.0,23.0,27.0,23.0,22.0,24.0,23.0,27.0,24.0,29.0,26.0,25.0,25.0,25.0,30.0,29.0,32.0,22.0,22.0,23.0,25.0,23.0,27.0,24.0,26.0,22.0,18.0,31.0,24.0,23.0,31.0,26.0,23.0,23.0,26.0,28.0,23.0,22.0,26.0,27.0,28.0,29.0,18.0,25.0,21.0,25.0,25.0,26.0,25.0,19.0,30.0,25.0,24.0,25.0,21.0,23.0,23.0,25.0,22.0,23.0,25.0,22.0,28.0,31.0,28.0,28.0,28.0,29.0,28.0,26.0,22.0,28.0,22.0,21.0,23.0,23.0,25.0,20.0,25.0,25.0,29.0,17.0,25.0,27.0,25.0,17.0,23.0,29.0,28.0,24.0,31.0,30.0,28.0,25.0,29.0,25.0,25.0,27.0,16.0,23.0,26.0,26.0,30.0,22.0,25.0,27.0,24.0,29.0,27.0,25.0,26.0,28.0,23.0,25.0,23.0,28.0,30.0,26.0,23.0,30.0,29.0,30.0,22.0,20.0,26.0,23.0,23.0,26.0,23.0,28.0,27.0,28.0,30.0,25.0,23.0,26.0,28.0,24.0,23.0,26.0,31.0,28.0,27.0,25.0,20.0,25.0,24.0,25.0,25.0,27.0,24.0,30.0,29.0,23.0,28.0,26.0,26.0,24.0,22.0,20.0,31.0,21.0,24.0,26.0,30.0,25.0,23.0,26.0,26.0,24.0,24.0,27.0,26.0,24.0,24.0,21.0,21.0,28.0,22.0,28.0,22.0,27.0,24.0,27.0,32.0,26.0,24.0,26.0,27.0,29.0,28.0,21.0,24.0,26.0,25.0,26.0,28.0,27.0,21.0,27.0,28.0,21.0,27.0,18.0,26.0,17.0,32.0,22.0,25.0,29.0,25.0,22.0,34.0,25.0,21.0,30.0,23.0,30.0,25.0,25.0,32.0,26.0,25.0,26.0,27.0,33.0,25.0,23.0,20.0,31.0,25.0,27.0,28.0,32.0,23.0,23.0,25.0,26.0,23.0,27.0,23.0,31.0,24.0,26.0,29.0,24.0,27.0,26.0,26.0,28.0,29.0,31.0,24.0,26.0,23.0,27.0,24.0,28.0,23.0,29.0,24.0,28.0,23.0,26.0,27.0,26.0,28.0,23.0,33.0,27.0,30.0,28.0,26.0,23.0,23.0,24.0,23.0,30.0,25.0,26.0,25.0,23.0,29.0,26.0,24.0,24.0,24.0,26.0,27.0,33.0,25.0,21.0,27.0,26.0,25.0,23.0,23.0,21.0,23.0,26.0,26.0,27.0,25.0,26.0,29.0,28.0,27.0,21.0,29.0,24.0,26.0,23.0,24.0,25.0,31.0,28.0,25.0,25.0,29.0,25.0,22.0,21.0,26.0,30.0,23.0,29.0,27.0,25.0,21.0,31.0,23.0,23.0,22.0,19.0,23.0,30.0,25.0,19.0,26.0,27.0,24.0,23.0,22.0,30.0,29.0,30.0,31.0,26.0,22.0,27.0,27.0,31.0,26.0,33.0,32.0,25.0,27.0,22.0,22.0,27.0,24.0,24.0,23.0,25.0,25.0,27.0,20.0,23.0,25.0,20.0,25.0,24.0,22.0,30.0,24.0,27.0,24.0,30.0,29.0,26.0,29.0,31.0,25.0,29.0,20.0,23.0,35.0,32.0,33.0,34.0,27.0,29.0,33.0,33.0,32.0,27.0,29.0,23.0,29.0,31.0,26.0,26.0,31.0,27.0,30.0,30.0,31.0,27.0,22.0,32.0,32.0,23.0,26.0,28.0,24.0,26.0,27.0,27.0,32.0,25.0,28.0,29.0,26.0,28.0,29.0,27.0,21.0,25.0,25.0,29.0,20.0,29.0,33.0,26.0,29.0,26.0,32.0,34.0,26.0,26.0,27.0,31.0,29.0,29.0,28.0,27.0,25.0,21.0,26.0,26.0,29.0,24.0,26.0,26.0,28.0,26.0,25.0,25.0,25.0,28.0,33.0,26.0,25.0,21.0,28.0,27.0,27.0,27.0,25.0,26.0,20.0,25.0,26.0,27.0,29.0,28.0,35.0,25.0,26.0,26.0,33.0,22.0,28.0,28.0,27.0,24.0,23.0,30.0,29.0,24.0,25.0,27.0,22.0,22.0,30.0,22.0,25.0,30.0,34.0,25.0,25.0,29.0,25.0,26.0,22.0,23.0,30.0,29.0,26.0,32.0,29.0,31.0,25.0,34.0,26.0,32.0,23.0,23.0,22.0,32.0,28.0,23.0,24.0,28.0,23.0,23.0,29.0,35.0,33.0,28.0,31.0,21.0,18.0,26.0,22.0,26.0,20.0,26.0,35.0,22.0,27.0,25.0,20.0,27.0,27.0,22.0,26.0,24.0,22.0,27.0,27.0,25.0,25.0,25.0,27.0,26.0,29.0,25.0,27.0,30.0,32.0,28.0,26.0,26.0,19.0,27.0,33.0,29.0,25.0,24.0,22.0,24.0,19.0,26.0,24.0,23.0,25.0,28.0,26.0,30.0,26.0,23.0,24.0],\"coloraxis\":\"coloraxis\",\"symbol\":\"circle\"},\"mode\":\"markers\",\"name\":\"\",\"orientation\":\"v\",\"showlegend\":false,\"x\":[-0.3220761216056386,-0.19076190603400264,-0.3528628846103647,0.01355576484103976,-0.778465399761495,-0.6272421182284137,-0.2977607537715355,-0.7153131025046838,-0.9643200905734606,-0.7801131475067883,-0.642080640654169,-0.7191483255790133,0.40752630101549925,-0.7776666879343567,-0.659765029547148,-1.0053811050050336,-0.19856385361089915,0.307857063729515,-0.6047909227684771,1.023056416151405,-0.6875827101069759,-0.5323007526599784,-0.7522662962117596,3.1377157700741125,0.12285068896323938,-1.113931353726298,-0.4034985339907773,1.6130486382253764,-0.1814537410878209,-0.6285347360708854,-0.053507867968557256,-0.7032728627643714,0.2647441498412684,0.19408287240295924,-1.1078810473934968,-0.6154063358649197,0.10757008357275878,-0.3352536095415476,-0.873151796729896,0.9602434974089843,-0.7813625432369691,-0.621507018378581,-0.8109040281661877,0.01482157500339668,-0.39970787189107576,-0.7088376568764051,-0.599027120034225,-0.5456281954944527,-0.05212387715700254,-0.3216456662661427,-1.0321286848067202,-0.8998427609820371,0.09413165091937134,-0.890951215442663,-0.8719042528166882,-0.9719534686039853,-0.7310284742164412,1.0288859715580219,0.8168426680208254,1.8125412621739494,0.7408661843215353,-0.23102763845884058,-0.9083453766575845,-0.8533689806403694,1.985293591327493,0.16949525147016042,2.3813553636544524,-0.905044623731772,-0.7684855948684315,-0.03742368003719059,-0.7448371719527817,0.05438449811631014,2.0405562231903587,0.18381605117243702,2.4022489781222736,1.2293383073679278,1.808506378723144,2.9438107509416342,3.0532952420610133,2.265853281637864,0.338661324577869,2.651392299620192,2.2480628372509157,1.2967633951583204,1.1216984026388797,-0.33262788975032714,-0.7365631296545455,-0.31580293259901043,-0.2955924349088665,-0.7468616379447468,-0.7361932633605416,-0.6818649291675154,-0.9167412269402339,0.9742827727238278,-0.796813547086154,-0.5922416610615808,-0.704140759263171,-0.7201420629539932,0.592503590915204,-0.642437439216428,-0.8685853160762722,-0.4120024093306491,-0.9032387115173114,-0.8088718094610492,-0.8998725236246649,0.28442245845173997,-0.8332241402999727,0.7566737778361041,-0.9118466641220493,0.5542062262890207,0.0990322179022958,-0.5006856063309922,0.2956427341210582,-0.6797371214889664,-0.869637782769487,-0.26506532390526605,-0.8116582680932143,0.02754568084630978,-0.5556052798824951,-1.0338822757853343,-1.032734394900134,1.2315452064706918,0.4841869388758544,0.3239146814887521,-0.8074206181196174,0.43399532810140323,-0.2699129210169762,-0.7834301760637361,0.31220059511236664,0.1530150774666125,-0.22308747559341796,1.826118900350507,-0.7677482962262469,0.829606366930068,-0.19571529267701518,-0.6303885362594976,-0.5635324809098016,-0.5899512176767376,-0.3997430796037731,-0.9266082712393925,-0.08620742673636445,-0.6384041906906656,-0.7908878033691099,-0.7522699299132661,-0.9147008888869912,-0.027931863156424496,-0.5656002839782501,-0.6634952387934234,-0.5651101078272508,-0.743841377750385,-0.31090582106433057,-0.9397794251325532,-0.9974830974279927,-1.0779892711654302,-0.42050242696079654,-0.4630958218511274,-0.5875047678187034,-0.4480942979437009,-0.22338886770504107,-0.5559308994157532,-0.25631328670389975,-0.42822091079899044,1.4117756753985067,-0.6478006973495944,-0.2304781285590241,1.4024361542317008,-0.37219761231694154,-0.12433702801869324,0.2593483924780853,-0.6963079524932384,0.41196619031273274,-0.7376094118160659,0.6356512868043618,-0.08210142970017535,-0.4646042047954754,-0.8511933675188756,0.4189685815782009,-0.6410567101374868,-0.7150065091308316,-0.5462413645799682,-0.13470158146702665,-0.6564828121755342,-0.80778669267726,-0.1382642820936369,-0.7222632880321908,-0.7471802425565169,-0.8779214897216222,-1.0552479253454563,-0.993668351836771,-0.4132964250141214,-0.7348420815996887,-0.2941567758524162,0.33885852979053804,-1.1526770525476477,-1.2594972238375965,-0.3914982595749548,0.023779552156565735,1.5457414098422464,-0.8042923412512645,0.793197817125266,0.07381593267126495,3.141581105073935,-0.20726433982316528,-0.5839052215659648,2.2944742627457755,1.0083717217761274,-0.42732567310552905,-0.806501068209615,-0.46212831005589927,-0.6108008798453893,-0.7638044169182451,-0.7079107341624341,-0.7684508401339125,-0.19051336046662304,-0.5041471900159383,-0.4478315902605986,-0.7964427291484879,-0.8823067764912907,-0.5868011287683841,1.9185553880515054,0.9472934263213815,0.5968912337157843,-0.09561840931514051,1.5644218126302558,1.237416799217392,-0.4913229051545761,1.8479496818540797,-0.7336123885803848,-0.11704884283105754,-0.5940526659652656,-0.3793674848535683,-0.7998328999716874,-0.8230032064434193,1.2470242753588654,-0.7222542244724849,-0.8836847827643844,-0.8575451629446662,-0.6541779555748299,-0.8461742651451251,-0.6317725491049492,-0.299081086553731,0.13498489424710491,-0.8949506831427858,-0.45824713934759886,-0.7734908014688312,0.5030184559306962,-0.9377681706809132,-0.5772674622807058,-0.7459939381028329,-0.8703780069628925,-0.6223062396460448,-0.34199344705946694,-0.638089354520538,-0.09858756915503522,-0.8410908890266068,-0.6733657117433458,-0.6666463554486437,-0.9316448920941981,0.03795200767907327,-0.585918361925467,0.24714785294483022,2.971630907460248,1.3695356760438386,-0.09114349994248082,-0.08774601044320494,-0.537291232275243,1.8653701118537909,-0.7063449484418721,-0.5350678808827672,-0.13524691084044987,-0.4664045884562588,-0.5443977552520046,-0.8472402580400393,-0.9570679036646582,-0.7983858068744035,-0.8938419197047102,-0.7798860470316922,-0.9689918822199567,1.6065996755154737,1.213999727971042,-0.663136513479455,-0.5774276767868773,-0.9158409526611614,-0.01350706087948511,-0.796031662989393,-0.6301852724207457,-0.15250381619225217,-0.9458618156629297,-0.5979571696157787,-0.7661836466013271,0.3352933516983,-0.7880943490925912,-0.5162618028784289,-0.40347066922696134,-0.39638876855225075,-0.5679254686196878,-0.8280266917485485,-0.41627280287576623,-0.5649516627469322,-0.4612712614889346,-0.30197206179189445,-0.2876443017576959,2.184711542519348,-0.7307418416187065,-0.6971096788106099,-0.6593251644829442,-0.9269787984985819,-0.9608003618214844,-0.7972991495847523,-0.29656096119882364,-0.7096131040102022,-0.5553412460130296,-0.999985631783196,-0.5245036462361963,0.4084974295004645,-0.7932548228087715,-1.5044250627291569,-0.7033443194564777,1.779714927355227,0.2654241925298249,-0.7468193736453836,0.4167706740710322,0.8497958036117931,-0.514459630905287,-0.925190188524295,-0.6512247674397856,-0.5319149537226517,-0.8703636020882368,-0.32749547259226025,-0.8948329791842269,-0.7562009657944097,-0.5686317350955487,-0.6544286637462345,0.42999844092656225,-0.877379260076469,0.11186203763275727,-0.726310029592055,-0.7584714267497988,-0.2209958895306014,-0.4821154638545897,-0.28964743863808,-0.8523064685362718,-0.7106381424714047,-0.7097825358483455,-0.009643651232494353,-0.9189365771850544,-0.009224003073599173,-0.28443328259217515,-0.8018660907542104,-0.6835542539174546,1.4049064890642404,3.010807497890149,-0.10516914237244702,-0.9892541981204339,0.032871281152948434,0.8945464519253692,-0.465268869827834,-0.837164217680773,-0.36632410982641894,-0.06620115406870485,-0.7432861569450754,-0.7044138463608594,-0.8174682867749968,-0.5488024193697782,-0.20326870869705543,-0.34438498770345083,-0.8233142086363789,-0.4611356191436643,-0.6865914228163408,-0.3626458516856415,0.9638423820288672,-0.04636486178963034,1.1786601055474601,-0.4408085558858681,-0.6278509294281704,-0.14773371297431362,-0.7383296160593175,-0.8015227340524148,-0.5719462487564847,-0.7962677092949768,-0.06061976314929763,-0.8358683478524269,0.700131123745925,-0.3869716381508745,0.6585527048438206,0.2684919469314414,-0.21289195559728138,-0.5788067836582117,-0.2080910122245163,0.2373399378167089,-0.1981646809490486,1.8131406773218526,-0.7993372693139034,-0.7217177484629965,0.34565736072704634,-0.7678720349737074,-0.5886168780709983,-0.10446420181294912,0.30380054244674876,-0.036402129671127284,-0.2285570986802576,-0.19699701067205055,-0.6926325329000981,-0.7439898830699353,0.07849307938989351,-0.6927166693241625,-0.7887232174750541,-0.453223720370619,0.19514380338080975,-0.44256075408260875,0.7329965812162449,-0.8726625782836387,-0.756827090524086,-0.8560324168982585,-0.6635030125016725,3.142386165235732,1.2835643314771066,-0.7989852364720168,-0.6445048763798858,-0.5551893731351231,-0.553861694724943,1.4077444058170248,-0.8419225994884445,1.040907837577319,-0.6594159924412398,-0.5440973552019512,0.00037242890674955864,1.572862427981571,-0.5180569705526156,-1.0692279797433826,-0.6558367581986179,-0.675136988819404,-0.5961449484396759,-0.7967939125899518,-1.1467054794935942,-0.4995985951256777,-1.070605111173569,-0.031622314833390876,-1.0467012248223082,-0.9134430614521323,-0.354267841621885,-0.6333220137872941,-0.68552851451637,0.19847166157396795,0.9486600864703377,-0.014794658711008933,0.17893933641828705,-1.0104687468007068,-0.32388083834737175,0.356519365694925,0.2004761500301675,3.132554806852811,-0.8229338082758176,-0.9105983704993589,0.08395163358983146,-0.7398881147007514,-0.20810031478671784,-0.5657411459799874,-0.750758869512789,-0.1017798020627784,-0.3757940538311101,-0.4198568322506085,-0.7165758235277155,-0.4202850999860923,0.7750880397740743,-0.807668688955275,-0.7437302891400974,-0.8558809800549609,-0.5416528301507447,-0.9469955922670695,0.8116719126357252,-0.07005388394706988,3.1683892964216454,0.6802887442802532,-0.06164591741841894,-0.8038268145653076,0.4085141724390372,-0.3376176032028015,-0.7126290542137542,-0.6670624462378539,-0.6112539344892132,-0.2887870973105676,0.3799739446509684,-0.41056059429245606,-0.5962784810455913,-0.9900384672780581,-0.6918001211708262,-0.5406191027697911,-1.0678876073290313,0.9089960022214696,-0.305814144103488,-0.7496497805187061,2.93727015876388,2.6774091249621175,2.68747192770237,0.5737950550480235,-0.5943743758968497,0.0041738678556222895,-0.6773104177031339,-0.13839556567217326,-0.28385808888033875,0.15461732796947156,0.38352825163711746,-0.8124494864628287,-0.4077239505122654,-0.13225867386598655,-0.7281462204396679,-1.1060952489094578,-0.5009867454115186,-0.8426745570166082,-0.8611081231217006,-0.08176530134364303,0.5947788520698377,-0.221553108042725,0.3094373692826006,-0.06153670049797746,-0.5421191568261855,0.10436367136421769,0.10145194586190943,0.3185002423391843,0.32300837673932065,-0.17623787380455522,-0.3079191121734162,0.47200510180060207,-0.7974012794106554,-0.6990948648401012,-0.5515608730343322,-0.7280942035817788,-0.7633323864546713,-0.7257972351361933,-0.8060584201551637,-0.8887178145862428,-0.7735717834343009,-0.5301579622691265,-0.7216806820883017,1.2812502131139967,-0.47294839306623554,-0.3421001941816632,-0.1733399811496149,0.1922444189002827,0.48277065843423933,-1.128037427001142,-0.8252716344106079,-0.5587297683440966,0.13046413174402785,1.969920521620118,-0.19102394053690847,-0.06903807771018908,-0.1061885450492715,-0.43376213581030776,-0.343891565138597,-0.5164713345694179,-0.5082570257079102,0.048579074628154674,1.2591309630421839,0.40764015604731657,-0.483069840799427,0.2729857000182224,-0.8279324440388309,0.3373158399316424,4.046476865293614,0.2334714880656679,0.6218266869522632,0.3306788793112514,-0.06751632751866654,-0.5955194276267778,0.441083809546415,-0.6752573432002199,0.026595247594175926,2.3598051327826832,2.2136759549148524,-0.6420246295081304,0.3479364045029107,-0.8008384896594329,0.4332789741355913,-0.9576896899534035,0.47867382455681196,2.2029377640381553,0.1335858423099534,-0.6557653324529592,0.3028947592482531,0.3640672388245381,1.554208733048216,1.7605696710964769,3.699355684875318,1.872751033630028,1.8403463708299632,0.16839068577734523,-0.07997465281653436,1.876454256150453,0.17527229738482286,-0.5743613893973123,-0.6339257962447682,-1.214245590590967,1.0862539462352019,-0.6131369263825519,-0.21688731836453562,-0.8993918697343625,-0.9769674105954749,-0.7895575132426089,-0.9655106182228952,-0.8476768771979059,0.3340099873569466,-0.6709876862808593,-0.043014843248357325,-0.7258715626640208,-0.28935283061535244,-0.7421455478109775,-0.9400538688074228,1.9221789458179026,0.8159551952163665,0.707398809957875,0.07592886296635354,-0.06946342303049012,1.5343249311269913,-0.7146268443520476,-0.5130484756438787,3.3279552014090252,3.547402427615551,3.6867986190502062,3.484690770287488,1.0272119012427645,2.6232051269105288,3.825333286634368,2.946749536187851,2.164817481192004,0.179620861520657,3.4137596928295815,-0.6610863450876885,1.8066453765823771,2.5965817217137026,0.6124561846918161,0.9664044714636381,1.61490800627537,-0.03384036386027904,0.17338089982560456,1.4811508130685642,0.32084490405364946,-0.3315061045594894,-0.8121756914774948,2.592379702675552,1.9164633098680022,0.2392312784127774,1.609545586698122,2.7341787864601774,-0.003993411636703251,0.2902323405942439,1.995237175789585,-0.41959497322713646,3.174920610034137,-0.2400548411803027,1.716760801515919,1.4729299085587346,-0.22833865332756725,0.5528962892519715,0.8518688727597975,0.3478396285433947,-0.4709697708930402,-0.6641307984013954,-0.36425953633615576,-0.10224328253276085,-0.5412332033080764,0.9490804474454488,2.2857722020688565,-0.01740151556738932,0.7210791343696565,0.8095187226009491,0.8782140959244502,2.6708668447284105,-0.1526135144136003,0.3884438012587826,-0.362095126033363,2.6337897357974427,1.0846454985547314,1.4782252654542767,0.3399511238281706,0.22952042105936385,-0.7172909157909946,-0.7105962275047493,-0.7090423792151724,-0.05925667144647637,1.379971743285144,1.7790840476649112,1.19276213898228,-0.6459379836624847,0.6782928626562532,-0.26949999926571677,0.9327955776220592,0.17188839704475106,-0.16831701963523732,-0.29638045361298226,1.7161401644522272,1.5043416264353893,0.860328054153341,-0.21618772955112417,-0.5069616650546896,0.6289973219095384,0.30174205858783465,0.8430172714867281,1.1911294469261404,2.0606594612908165,-0.4268578793479962,0.35483042284531074,0.14797157100887437,-0.38994585590444236,1.5782428523963243,1.7011658609969604,1.25281039585213,-0.6809901653746255,-0.5414131062789538,-0.465915723774798,1.5577031750250843,-1.1969401825907777,0.015813598291105783,-0.41469917052937794,0.7749507175585999,-0.82082885027086,-0.989624847413151,0.2200303961796999,0.7891877378718738,-0.7081442524514499,-0.6880915034391678,0.16263210273539624,-0.4686848630223139,-0.5605161512356206,1.85903926535368,-0.14957959130161175,0.0857345924550539,2.129693360488824,1.8555022079633232,0.2833463240753092,0.052513665848906474,0.012218730761522193,-0.16445349395917752,-0.5220366863277736,-0.1449983359894687,-0.6528768844604202,0.6064799158144312,-0.05076577158589239,0.8648170012788094,-0.32493479496560035,1.684089910257867,0.6391952566091322,-0.45563138976730455,1.5865775125534642,0.6956163755337522,3.1739693577612575,0.2733569349077822,-0.4790875812029542,0.30038695301208584,2.541279865233405,0.2720524836879174,-0.6841960797715567,-0.9668129659867121,1.5422454018042344,0.07799054536346038,-0.35015233272792146,-0.4472538383341236,0.6509502824327931,0.3377948866187287,1.681822463308543,2.2892896428643628,-0.8498988925702992,-1.0411847798918576,-0.8030488452336814,-0.7078666041083487,-0.7619156786138419,-0.7968117259515825,1.882650107908598,0.8196035221164816,-0.4375092477250216,1.098073627330926,-0.8805200256936601,-0.7911551899282843,-0.37455739588166653,-0.14489762202201267,-0.73287330189127,0.6864442719654333,0.11592360530666011,-0.3647234397638277,1.3909012842170014,-0.35182048579280156,-0.8048479158582391,0.43975037864131516,-0.44906088813800293,0.6656972115078692,1.0387196849210152,0.9697531556868315,-0.13559983025637554,-0.5333917164322561,-0.5228341739143146,-0.32444787192914093,-0.5342993807264804,0.4657705776809443,-0.4409342010031806,-1.1509301883972425,-0.5159861018191546,0.41352483864594236,-0.5055124619664281,-0.7707184992474378,-0.9711964053270575,-0.8328000243826821,0.012565157828270687,-0.4334820196130985,-0.8165230123512299,-0.45407322854663257,-0.4569342392493784,0.36675547202390407,-0.04119239059638595,-0.4779248144119239,-0.4285534312040835,-0.41831872437278333,-0.5448459754223254,0.42879348700258724],\"xaxis\":\"x\",\"y\":[0.4930610535635591,-1.0759343139751583,-0.6469773517153827,0.9195438399759417,0.5387170486840004,-0.4808169053320603,-2.1008145040662063,-2.3384080191982446,-0.2989233750318163,0.9757765939239329,-1.9667412984141106,1.498394101140614,1.8362480211333385,0.28181786829607364,0.20903566395494802,-0.8317895652347173,1.345382094159375,-0.7006704365806178,-0.18726029693221127,-0.8997442982248532,0.5007014711193646,1.0349661499511087,0.1960834471863763,-0.5464494101459126,-0.8244851891927503,-0.0905587778140954,-0.2903557539356231,-0.38262112957060734,-1.0336458481656703,0.7429219678298022,-0.5865655959458301,0.7457494518038427,-1.0675025420173743,1.1976062065839526,-0.7455426367781532,0.22358610052733624,3.1538561937406326,-0.11151458554292702,0.0438572553245688,1.0747462822739944,0.41151805389438845,1.0595534463796235,-0.1729973521688891,0.42760962978765193,0.7496388768051668,0.16351615899029504,0.7510222463396838,-0.6609797098357618,1.66710971229719,-0.6000522972041599,-0.6076254266438345,-0.45363843954060057,-0.7979350711814216,-0.6807579741310198,-0.5351484042229097,0.27782325497586224,-0.4650246749245733,-0.6191715226159905,2.3014430329541713,2.6614283369660376,-0.7113829446500872,0.36074202115302556,-0.31914334616862416,-0.2334650829126668,-1.1802301498145635,2.019291798667642,-1.55175785315765,-0.1351306524060812,0.5842737064860546,1.0209372060592015,0.24538106730772516,0.09049883381043712,0.3026535732163058,-0.701358744074416,0.05313748516511951,-0.6283954681006675,-0.6546265455483581,-0.1394010317350759,-0.08821394324148044,-0.7871411857096894,-0.26056224384388904,-1.0888664887231765,-0.24404857312958406,-0.955472315341139,-0.36094006992634386,-0.816254129443785,-0.48290245278960325,1.1558960781613477,0.32723637698462676,0.533672035829105,0.04065592896235448,0.44416911008409876,-0.15341678893285768,3.61547753597093,-0.9165037174945442,0.5184161289628767,0.059265523121188234,0.9010507037710402,2.713822923050361,-0.43966870703590355,0.35731873495926253,0.3931946605177946,0.848399833578121,0.31363485108354505,-0.7155932802089676,-0.7442805960824959,-0.007012966683211756,-1.0299196644269761,-1.849163574157618,-0.4049791708649061,3.528040529939725,0.6829609811729899,1.709830710425085,-0.09368114323424591,-1.751540182068609,-0.06671838259050235,-1.7190699781229644,3.0824720293817394,-0.6915804698946663,0.18153835180548789,-0.3685963053351242,-0.2940553561521714,-0.6726530206771435,-0.7802743971231462,0.11647270564322058,-0.40862181578709716,-0.7901092156543759,1.1136751152098963,-0.7472818266338153,0.5072558337997534,-0.5844786908569655,-0.6542405141993592,-0.10915384987130022,2.9129353431532667,-1.2132260122641614,-0.564776408917607,0.6048720699612478,0.102547945573898,1.1123664211663056,-0.25047211821175464,3.3511947714041086,-1.447317608034158,0.6351078698101629,-0.24938944900115695,0.25010747492552154,1.2859170230109063,0.12591008830540962,-0.12653716352717084,0.6364673313590468,0.08399458897412455,-0.46729997652219635,-0.6091364666518922,0.36561802226203,-0.12747251787767422,-1.2817447304209342,-0.8042972602614666,0.48228917053426235,-0.4291731109618453,1.0156396460697639,0.07743303324819711,2.3350195693735802,1.1052704786448417,1.8560271165026074,0.6323485772121052,0.753266669788191,-1.2701622994438806,-0.7227022676990472,-0.7875662618050808,-0.8869720994936016,-0.15817240795202095,-0.9701249410677322,0.6117322683828738,-0.9459189988663003,-0.5975171374752529,-0.3590324477441421,0.12394288413975221,-0.490512616726113,1.0675585091743116,0.29774028607245806,-0.7960575337298661,-0.6373916332332678,-1.724431989908937,1.1080650220329522,1.708555299561622,0.034067663801142276,0.02386007960283736,0.46092690065881103,0.480770792113557,-0.25743272102161335,-0.7787206372201094,-0.9409579379316863,-1.663732328717446,-0.6660004010290852,-0.2976910769585047,-1.3912029455886006,-0.6880100960470475,-1.949655337272911,-1.12597733464016,-0.09896684319737613,-0.9545121899761678,1.9068210291123795,-3.5653537021915374,0.0003993246502378166,0.6936511370726433,-1.018326218573403,1.9915335835214953,-0.3127116058400483,-2.214531250931234,-1.2975778456706564,0.10138638001544314,0.0333676086443894,-0.38600216705562146,0.08220895020606667,-0.6517680100735664,1.755696692759395,0.698219272611,-0.04319998890343887,-0.021431406933175967,0.6437301374913071,0.18857514078962748,2.1802037410399993,2.6455177575227413,-0.2839715667744692,1.2238496698140933,-1.3707858282705099,-0.8904704351403636,-1.0967245338990261,0.42856456264144904,1.241920039215193,1.047995893459893,-1.3082602696428518,0.7033673153873211,0.15888057907506542,-1.0236368361325896,0.19671129495831807,0.02938358486784571,-0.06992347446524279,0.2888460894859909,0.9117798931978364,0.15673104407247376,0.01261409265285831,1.7205527089458006,0.13527690755304228,-0.8952173785331645,0.3263403439264047,1.659643850103175,1.1692446205792713,0.9040265685590364,0.16767956825484925,1.0137528332272967,0.5912472111547904,0.48001922298858013,-0.026256776080635046,-0.5296896272192461,-0.4027844071938146,0.0490670892927736,-0.4854431015691467,-1.7871250300540527,2.4974907950084915,0.5204797783622911,-0.8364400489411034,-0.28662718087091055,-0.7662748085262575,-0.6297847822374553,-0.6540878250692785,0.29304744036148817,-0.8151870770423018,0.44506484624743836,-2.2730834727235836,-0.9987419471917589,0.974979190684382,0.9720247735659823,0.39212182649648575,-1.7479791434806713,-0.5846998196693801,-0.6745199918080301,0.08378621303549734,-0.07584530132905543,-1.2648425331345254,-0.9148908214683606,-1.084154348881011,1.050769605617803,-0.10084665128057846,-0.8024894319804686,0.1352559735191956,0.4774882126879671,1.2138510476103188,0.1148479967670033,-0.5347342841073722,-0.14896689414855285,-0.8523855356386145,-0.32007231829309774,-0.8048886097503526,0.720178874063263,2.252551410608805,0.8023964553552306,1.0830953828189736,-0.3588261501232127,0.3477403305802596,0.3828086919987891,0.3332245890978209,-0.49797535003494037,-2.185800424425322,-0.47348403499396796,-0.4473545511360115,0.4901547821169611,-0.9497267176805085,-0.33300955493317086,-1.648556829365789,-0.228379533238053,1.6164951928320612,0.43791717977749817,-1.9719029964783417,-0.7116079775597577,0.8185612259961934,0.4845702310012873,-1.9467090437079182,-0.5851093671667595,-0.482489018764234,-0.5268322911266317,-0.25853436451176365,1.7614576671389715,1.1728773892951374,0.7531807758449371,-0.5405356498594694,1.2499942752655937,0.23470673433554168,0.06992945533226896,0.9559882533577082,-1.1307035762680966,-0.761150404227011,-0.11055972304645784,0.4898632844876628,1.07011771347584,0.014830652575582056,-0.8735315164294223,-0.13483367844130245,-0.2940871790021439,2.317225039066486,0.6804098328883142,1.1096921845983294,0.35839548390788634,0.16392914009116694,-0.1905644982575757,-0.5591819101164281,0.015580314577826892,1.507077950550994,0.5381711697192685,0.6027344874453023,0.5916698299854617,0.35016602791348633,-0.7632555540209549,-0.04158022453418077,-0.931849917182747,-1.28010202873379,-0.9795240304344682,1.0299913746928557,-0.22657262579261805,-0.7465859901394786,-0.3877348727671367,0.6570134937271922,0.3994279718180174,0.9278138352695656,1.1286836268912905,-0.4649458443016037,-0.22146098041931384,0.2753601634917598,-0.14072036159497436,-1.175896506353797,0.06524050436518655,-0.9064104053831317,-0.10595840245617046,-1.0070499437664269,-0.1912512827458279,-0.8320383554212142,-1.4465538172449064,0.027464906680917604,0.048559549486683014,0.8415959409356444,0.11676455284806037,-0.5309258912740709,0.09099180067775572,0.9130041909151013,-0.3715607393672127,-0.7603825255562928,1.8897760703702757,0.8259949130161686,1.1278299860724732,-0.9244677750128305,-2.0715288029954793,-1.809808618026454,-0.28215344280024846,-0.26606800217899723,0.04660347928860189,-0.6620585066865255,-0.18034749741758832,0.3268048013276666,-0.6132804514850184,-0.6969868986500514,-0.6308543915903915,-0.21316039741029555,-0.7427429561575402,0.2620235257640956,0.8034158329727987,-1.1860061855340605,-0.21247785223527635,0.09436467992350216,1.2132719383108608,0.630308952463587,0.33159526989553056,-0.6356556219710774,-1.0738256825880979,0.7644278298682586,0.17771971698794248,0.6007514865572808,-0.5711309910519523,-0.8066030229040864,0.34214982941698446,0.4139392278623603,0.21783272675795903,0.8007697395635279,-1.0450725397507121,-0.13527784749835903,-1.0925291188834807,0.3649741879539707,0.3740610038058244,0.023528899172503635,-0.390232794620329,-0.4224145806148977,-0.0658274671635558,0.43505780616706397,0.23182281727467705,-0.2481316366298267,-0.4911199403199348,-1.9526546303648944,0.5519805301480517,-2.1433741619554936,2.252371202167562,-0.1710286537364192,-0.28705759391147123,0.8754396978702038,0.10193056491028255,-0.1176587199737717,3.6070107068874298,-0.2578132089992981,-1.9955850639532906,2.488791104313299,-0.39696007877196604,1.4086110614278216,-0.5389244185609766,-0.6816580287145252,-0.027920962231558884,0.4701791714137207,0.38538031771485987,-0.033636402677541755,0.9565575343909678,2.531719144969111,-1.2321423769485864,-0.2574619197477898,-0.8493380361205982,1.7091494361671393,1.1579157278386198,0.9890512723645034,0.5582896148443656,0.8518954008159144,-0.4371810348046899,0.19826597948067345,0.4554382648288832,0.2798323138139597,-0.368905739937943,-0.578910421876627,-0.23238032830856542,0.5020413879815836,0.2302300490559721,-0.6360784417182864,1.0879723533796364,-0.31879506683954345,1.0534861691626953,0.5854732106051368,0.30112911009025684,1.1089126500498885,1.178053843683891,1.397605623271614,1.5472652822199229,0.5027830841052915,-0.033607617863771554,0.5329091298595182,0.0005176589270545494,0.042405428522704285,-1.3204844828768747,0.6077083472480734,0.46284411655670504,-0.10371329319625046,0.2411616386526897,1.0464279747050746,0.7265925317444245,-1.974321003568017,2.486751921980722,-0.09554317517989162,2.609767674202394,1.761268719984178,2.1836179851688478,1.266872496852784,0.4148880178426853,-0.3811584224492741,-0.6412624770895975,-0.43085440230088906,0.3052316340099156,1.4333480481922027,0.5812370376041305,0.18597378765913383,-0.7623795202442288,-0.22816580056977445,0.04331960211721357,-0.6963732915749974,-0.24466174866804705,-0.99509432478861,-0.9937098266696047,-0.5673606688639337,-0.766315959910549,2.075875452538185,-0.2688816879431555,-2.2572137180997074,-0.5088129550614401,-0.28923162212020137,-0.20800711005543976,0.09223761636030366,-0.5026541484568988,-0.19871037437189795,0.1434820847961418,-1.1236085156212925,-0.23575677342036702,0.45678181613991076,0.661855244228455,0.30152963815879696,1.369072558417731,0.03596905577145944,0.465015409194999,0.6913055963724816,-0.3802713134185852,-1.028298048408826,-0.15762695336999086,-0.25469249682427364,0.42501633548518997,-0.5488462577506744,0.9080578376579702,-0.18307748806123078,-0.7886896119591236,-0.49057451506693867,-0.05577933103279818,-0.8770416677474423,-0.9451104330059922,-0.9016198317948834,-0.6222370420057513,1.6314309944155025,-1.225379468910001,0.826227714107409,-0.4860782471653066,-0.013418098051704018,-1.0911739694696199,-1.7840589334561279,-0.967281873437926,-1.041218568356764,-0.7949156146871741,-0.9113062444499631,-0.796717324412044,1.1167948586665757,0.15760833489607678,-1.8514029144137167,-1.5941583365636538,-1.105069107209626,0.29761369201635823,-0.5684249756302154,-0.7771423311970522,0.31754578324545346,0.8341889441304421,2.60215995499682,-0.6953456449992093,-0.945026510819271,-0.7320484419094334,0.4302630707406722,-0.710714816774697,-0.5507144964392076,-0.8799079916518875,0.4576616545362065,0.9493688131876868,-1.3187495615556286,-0.5832101378910364,-0.6961544128026749,-2.0200466821642156,-0.7209944035178724,0.28796188468334094,0.042557156953371776,-2.3169118827473527,-0.7330752757428802,0.07615156486744032,0.8563592194239626,-0.9766270309884683,-0.5263428360809378,0.1010353680440004,-1.0174951355586044,0.2836531573567276,-1.3265792648176007,0.27180265491958494,0.03918114768957735,-0.1184329644821816,-0.6181338101367531,0.35809371679015484,0.21201067249090472,0.150960709550462,-0.7524802732113313,-0.7322452954428965,-0.2644138951136284,-0.4171673165716353,-0.6022247289651842,-1.9187513442371937,0.28203099593107284,2.058043251210349,1.3239871745014582,1.7592814763409614,1.4650845832241348,0.8436111612650873,1.1192191447331634,1.7389350774048489,1.1231466801544974,1.233625879433569,-0.770015629040011,-1.8138853492807898,0.2818058683896979,-0.6332902012703598,-0.18817406028582626,-0.42483161363657623,-0.04985796517697694,0.3619945485612182,0.20583666177596244,0.912943569415096,-0.1609961778515775,1.643098522507274,0.48357518883219247,-0.08789816736002337,-0.6103754623338427,-0.27471517492243885,1.896266873835298,2.3352472593589244,-0.6014480632758907,-0.48550075350509325,-0.43915551464117075,-0.007449620573370406,-0.37107678027207197,0.7708228654495571,0.28188216012865813,-0.4879771586654352,-0.5410422007366597,0.49422184814032566,-0.8852406485966599,-0.5680892178484577,-0.47274652042498727,-0.3194941486140547,-0.04007813624763408,-0.2550720414980649,-0.015545545133737475,-1.2877033153727508,0.6298567800598495,0.1489123251669835,-0.5055242715681039,-0.004982267530599589,-1.1809006535458513,1.9501805111560269,0.7345315016163626,-0.7072755006439665,-0.40177177881743575,0.36145083161488767,0.21993300822757256,-0.6697236758065344,-0.49336456140161294,-0.3222111280451888,-0.48922388567359365,-0.17788885490016265,-0.8401713870342863,0.24415653336800824,-0.17196270923386112,-0.2876832159100272,-0.292412334683424,-0.2588615465617742,-0.24054896726650712,-0.1400775581934916,0.449217511595026,-0.856543633493509,-0.199511753622775,-0.8136063158054053,-0.6178489129939694,0.1906780326726529,-0.9749580335879794,-1.316399338750666,-1.5979726542549304,-0.2892822391505708,-0.7030655960315869,-0.39376222343313555,-0.6132719336501444,-1.024511755620306,-1.0486792085795533,-1.0350698024006797,-0.5084068437637453,-0.7399223839970108,0.5570635978607835,-0.488240357940817,-0.13211309927041312,3.126378774548073,-0.48218658906276585,-0.28683920441641847,-0.33559624892924933,0.40501093983711994,-1.3070864861130262,2.131895192894924,1.756933683858068,-0.3582236579105939,0.01971045810805801,-0.15032439903923245,1.8113442117266358,2.646088205113938,-0.17849280504143214,-0.2578639719677388,-1.1479691265249194,-0.8242691629927495,-0.79064116509114,-0.7432427353443988,-0.9329451781123771,-0.7456748096422058,-0.9102968695413939,2.897047849484869,-0.566170257603517,-0.7745131248065441,0.9127885299408041,1.1301607594600678,-0.13235778847314894,0.10219488590109822,0.9482147742147586,3.051465758018672,2.0582504335270224,-0.6076398990603372,1.723942830138969,-0.6037410249747394,0.43222430211492424,-0.4022257158394703,1.0073299972115053,1.5204381446227748,1.0712000317782333,0.7783246111432943,-1.2524804342385947,-1.3856010031348571,-0.10424431885720861,-0.36580534688515903,-0.3723567505714085,0.052461136872008055,-1.289265027340866,-1.3030665084603656,-0.2856140014889184,0.904362910780597,2.7265942205854294,1.5962830641360057,-0.1453575209364925,-0.07047136835823353,-1.458956946190503,-1.431990183551125,0.15196376820339208,-0.50022811397532,0.35161246020596487,-0.4519304143749593,-0.5601442967720235,2.8657665210916683,-0.42109161066173884,-0.7111510338378503,-0.08866625631631471,0.15357766200483985,0.14824084611656502,0.8788597675112527,0.12874819120550965,-0.735479674549761,-0.7687405438085717,-0.4718002070430107,-0.6231613890316278,-0.20814321811963213,0.5193500549917128,-0.9637290681558773,-0.29190448222577275,-0.7624908155034811,-0.7994835665617377,-0.26532386987560147,-0.6632573534213254,0.7408186525021445,1.6716124294631478,1.0834161552491062,1.5618113727756324,-0.37782296997023773,0.9814729856008185,-2.0712091048595265,0.6803498591032003,1.0355101358448535,-0.8605949180310654,0.46425738295365654,-0.17261409250266227,0.04318340301832317,-0.5317980160529582,-1.8538557026186748,0.24639904641453006,1.3961497191820882,-0.5091367605755143,-0.6890421168072037,0.7767427912299009,-0.7604091869763426,1.2377863461201386,-0.16059929682124643,0.6288143350821271,-0.8318574985796265],\"yaxis\":\"y\",\"type\":\"scatter\"}],                        {\"template\":{\"data\":{\"histogram2dcontour\":[{\"type\":\"histogram2dcontour\",\"colorbar\":{\"outlinewidth\":0,\"ticks\":\"\"},\"colorscale\":[[0.0,\"#0d0887\"],[0.1111111111111111,\"#46039f\"],[0.2222222222222222,\"#7201a8\"],[0.3333333333333333,\"#9c179e\"],[0.4444444444444444,\"#bd3786\"],[0.5555555555555556,\"#d8576b\"],[0.6666666666666666,\"#ed7953\"],[0.7777777777777778,\"#fb9f3a\"],[0.8888888888888888,\"#fdca26\"],[1.0,\"#f0f921\"]]}],\"choropleth\":[{\"type\":\"choropleth\",\"colorbar\":{\"outlinewidth\":0,\"ticks\":\"\"}}],\"histogram2d\":[{\"type\":\"histogram2d\",\"colorbar\":{\"outlinewidth\":0,\"ticks\":\"\"},\"colorscale\":[[0.0,\"#0d0887\"],[0.1111111111111111,\"#46039f\"],[0.2222222222222222,\"#7201a8\"],[0.3333333333333333,\"#9c179e\"],[0.4444444444444444,\"#bd3786\"],[0.5555555555555556,\"#d8576b\"],[0.6666666666666666,\"#ed7953\"],[0.7777777777777778,\"#fb9f3a\"],[0.8888888888888888,\"#fdca26\"],[1.0,\"#f0f921\"]]}],\"heatmap\":[{\"type\":\"heatmap\",\"colorbar\":{\"outlinewidth\":0,\"ticks\":\"\"},\"colorscale\":[[0.0,\"#0d0887\"],[0.1111111111111111,\"#46039f\"],[0.2222222222222222,\"#7201a8\"],[0.3333333333333333,\"#9c179e\"],[0.4444444444444444,\"#bd3786\"],[0.5555555555555556,\"#d8576b\"],[0.6666666666666666,\"#ed7953\"],[0.7777777777777778,\"#fb9f3a\"],[0.8888888888888888,\"#fdca26\"],[1.0,\"#f0f921\"]]}],\"heatmapgl\":[{\"type\":\"heatmapgl\",\"colorbar\":{\"outlinewidth\":0,\"ticks\":\"\"},\"colorscale\":[[0.0,\"#0d0887\"],[0.1111111111111111,\"#46039f\"],[0.2222222222222222,\"#7201a8\"],[0.3333333333333333,\"#9c179e\"],[0.4444444444444444,\"#bd3786\"],[0.5555555555555556,\"#d8576b\"],[0.6666666666666666,\"#ed7953\"],[0.7777777777777778,\"#fb9f3a\"],[0.8888888888888888,\"#fdca26\"],[1.0,\"#f0f921\"]]}],\"contourcarpet\":[{\"type\":\"contourcarpet\",\"colorbar\":{\"outlinewidth\":0,\"ticks\":\"\"}}],\"contour\":[{\"type\":\"contour\",\"colorbar\":{\"outlinewidth\":0,\"ticks\":\"\"},\"colorscale\":[[0.0,\"#0d0887\"],[0.1111111111111111,\"#46039f\"],[0.2222222222222222,\"#7201a8\"],[0.3333333333333333,\"#9c179e\"],[0.4444444444444444,\"#bd3786\"],[0.5555555555555556,\"#d8576b\"],[0.6666666666666666,\"#ed7953\"],[0.7777777777777778,\"#fb9f3a\"],[0.8888888888888888,\"#fdca26\"],[1.0,\"#f0f921\"]]}],\"surface\":[{\"type\":\"surface\",\"colorbar\":{\"outlinewidth\":0,\"ticks\":\"\"},\"colorscale\":[[0.0,\"#0d0887\"],[0.1111111111111111,\"#46039f\"],[0.2222222222222222,\"#7201a8\"],[0.3333333333333333,\"#9c179e\"],[0.4444444444444444,\"#bd3786\"],[0.5555555555555556,\"#d8576b\"],[0.6666666666666666,\"#ed7953\"],[0.7777777777777778,\"#fb9f3a\"],[0.8888888888888888,\"#fdca26\"],[1.0,\"#f0f921\"]]}],\"mesh3d\":[{\"type\":\"mesh3d\",\"colorbar\":{\"outlinewidth\":0,\"ticks\":\"\"}}],\"scatter\":[{\"fillpattern\":{\"fillmode\":\"overlay\",\"size\":10,\"solidity\":0.2},\"type\":\"scatter\"}],\"parcoords\":[{\"type\":\"parcoords\",\"line\":{\"colorbar\":{\"outlinewidth\":0,\"ticks\":\"\"}}}],\"scatterpolargl\":[{\"type\":\"scatterpolargl\",\"marker\":{\"colorbar\":{\"outlinewidth\":0,\"ticks\":\"\"}}}],\"bar\":[{\"error_x\":{\"color\":\"#2a3f5f\"},\"error_y\":{\"color\":\"#2a3f5f\"},\"marker\":{\"line\":{\"color\":\"#E5ECF6\",\"width\":0.5},\"pattern\":{\"fillmode\":\"overlay\",\"size\":10,\"solidity\":0.2}},\"type\":\"bar\"}],\"scattergeo\":[{\"type\":\"scattergeo\",\"marker\":{\"colorbar\":{\"outlinewidth\":0,\"ticks\":\"\"}}}],\"scatterpolar\":[{\"type\":\"scatterpolar\",\"marker\":{\"colorbar\":{\"outlinewidth\":0,\"ticks\":\"\"}}}],\"histogram\":[{\"marker\":{\"pattern\":{\"fillmode\":\"overlay\",\"size\":10,\"solidity\":0.2}},\"type\":\"histogram\"}],\"scattergl\":[{\"type\":\"scattergl\",\"marker\":{\"colorbar\":{\"outlinewidth\":0,\"ticks\":\"\"}}}],\"scatter3d\":[{\"type\":\"scatter3d\",\"line\":{\"colorbar\":{\"outlinewidth\":0,\"ticks\":\"\"}},\"marker\":{\"colorbar\":{\"outlinewidth\":0,\"ticks\":\"\"}}}],\"scattermapbox\":[{\"type\":\"scattermapbox\",\"marker\":{\"colorbar\":{\"outlinewidth\":0,\"ticks\":\"\"}}}],\"scatterternary\":[{\"type\":\"scatterternary\",\"marker\":{\"colorbar\":{\"outlinewidth\":0,\"ticks\":\"\"}}}],\"scattercarpet\":[{\"type\":\"scattercarpet\",\"marker\":{\"colorbar\":{\"outlinewidth\":0,\"ticks\":\"\"}}}],\"carpet\":[{\"aaxis\":{\"endlinecolor\":\"#2a3f5f\",\"gridcolor\":\"white\",\"linecolor\":\"white\",\"minorgridcolor\":\"white\",\"startlinecolor\":\"#2a3f5f\"},\"baxis\":{\"endlinecolor\":\"#2a3f5f\",\"gridcolor\":\"white\",\"linecolor\":\"white\",\"minorgridcolor\":\"white\",\"startlinecolor\":\"#2a3f5f\"},\"type\":\"carpet\"}],\"table\":[{\"cells\":{\"fill\":{\"color\":\"#EBF0F8\"},\"line\":{\"color\":\"white\"}},\"header\":{\"fill\":{\"color\":\"#C8D4E3\"},\"line\":{\"color\":\"white\"}},\"type\":\"table\"}],\"barpolar\":[{\"marker\":{\"line\":{\"color\":\"#E5ECF6\",\"width\":0.5},\"pattern\":{\"fillmode\":\"overlay\",\"size\":10,\"solidity\":0.2}},\"type\":\"barpolar\"}],\"pie\":[{\"automargin\":true,\"type\":\"pie\"}]},\"layout\":{\"autotypenumbers\":\"strict\",\"colorway\":[\"#636efa\",\"#EF553B\",\"#00cc96\",\"#ab63fa\",\"#FFA15A\",\"#19d3f3\",\"#FF6692\",\"#B6E880\",\"#FF97FF\",\"#FECB52\"],\"font\":{\"color\":\"#2a3f5f\"},\"hovermode\":\"closest\",\"hoverlabel\":{\"align\":\"left\"},\"paper_bgcolor\":\"white\",\"plot_bgcolor\":\"#E5ECF6\",\"polar\":{\"bgcolor\":\"#E5ECF6\",\"angularaxis\":{\"gridcolor\":\"white\",\"linecolor\":\"white\",\"ticks\":\"\"},\"radialaxis\":{\"gridcolor\":\"white\",\"linecolor\":\"white\",\"ticks\":\"\"}},\"ternary\":{\"bgcolor\":\"#E5ECF6\",\"aaxis\":{\"gridcolor\":\"white\",\"linecolor\":\"white\",\"ticks\":\"\"},\"baxis\":{\"gridcolor\":\"white\",\"linecolor\":\"white\",\"ticks\":\"\"},\"caxis\":{\"gridcolor\":\"white\",\"linecolor\":\"white\",\"ticks\":\"\"}},\"coloraxis\":{\"colorbar\":{\"outlinewidth\":0,\"ticks\":\"\"}},\"colorscale\":{\"sequential\":[[0.0,\"#0d0887\"],[0.1111111111111111,\"#46039f\"],[0.2222222222222222,\"#7201a8\"],[0.3333333333333333,\"#9c179e\"],[0.4444444444444444,\"#bd3786\"],[0.5555555555555556,\"#d8576b\"],[0.6666666666666666,\"#ed7953\"],[0.7777777777777778,\"#fb9f3a\"],[0.8888888888888888,\"#fdca26\"],[1.0,\"#f0f921\"]],\"sequentialminus\":[[0.0,\"#0d0887\"],[0.1111111111111111,\"#46039f\"],[0.2222222222222222,\"#7201a8\"],[0.3333333333333333,\"#9c179e\"],[0.4444444444444444,\"#bd3786\"],[0.5555555555555556,\"#d8576b\"],[0.6666666666666666,\"#ed7953\"],[0.7777777777777778,\"#fb9f3a\"],[0.8888888888888888,\"#fdca26\"],[1.0,\"#f0f921\"]],\"diverging\":[[0,\"#8e0152\"],[0.1,\"#c51b7d\"],[0.2,\"#de77ae\"],[0.3,\"#f1b6da\"],[0.4,\"#fde0ef\"],[0.5,\"#f7f7f7\"],[0.6,\"#e6f5d0\"],[0.7,\"#b8e186\"],[0.8,\"#7fbc41\"],[0.9,\"#4d9221\"],[1,\"#276419\"]]},\"xaxis\":{\"gridcolor\":\"white\",\"linecolor\":\"white\",\"ticks\":\"\",\"title\":{\"standoff\":15},\"zerolinecolor\":\"white\",\"automargin\":true,\"zerolinewidth\":2},\"yaxis\":{\"gridcolor\":\"white\",\"linecolor\":\"white\",\"ticks\":\"\",\"title\":{\"standoff\":15},\"zerolinecolor\":\"white\",\"automargin\":true,\"zerolinewidth\":2},\"scene\":{\"xaxis\":{\"backgroundcolor\":\"#E5ECF6\",\"gridcolor\":\"white\",\"linecolor\":\"white\",\"showbackground\":true,\"ticks\":\"\",\"zerolinecolor\":\"white\",\"gridwidth\":2},\"yaxis\":{\"backgroundcolor\":\"#E5ECF6\",\"gridcolor\":\"white\",\"linecolor\":\"white\",\"showbackground\":true,\"ticks\":\"\",\"zerolinecolor\":\"white\",\"gridwidth\":2},\"zaxis\":{\"backgroundcolor\":\"#E5ECF6\",\"gridcolor\":\"white\",\"linecolor\":\"white\",\"showbackground\":true,\"ticks\":\"\",\"zerolinecolor\":\"white\",\"gridwidth\":2}},\"shapedefaults\":{\"line\":{\"color\":\"#2a3f5f\"}},\"annotationdefaults\":{\"arrowcolor\":\"#2a3f5f\",\"arrowhead\":0,\"arrowwidth\":1},\"geo\":{\"bgcolor\":\"white\",\"landcolor\":\"#E5ECF6\",\"subunitcolor\":\"white\",\"showland\":true,\"showlakes\":true,\"lakecolor\":\"white\"},\"title\":{\"x\":0.05},\"mapbox\":{\"style\":\"light\"}}},\"xaxis\":{\"anchor\":\"y\",\"domain\":[0.0,1.0],\"title\":{\"text\":\"pca0\",\"font\":{\"size\":20}},\"tickfont\":{\"size\":20}},\"yaxis\":{\"anchor\":\"x\",\"domain\":[0.0,1.0],\"title\":{\"text\":\"pca1\",\"font\":{\"size\":20}},\"tickfont\":{\"size\":20}},\"coloraxis\":{\"colorbar\":{\"title\":{\"text\":\"ACT Composite 75th percentile\"}},\"colorscale\":[[0.0,\"#0d0887\"],[0.1111111111111111,\"#46039f\"],[0.2222222222222222,\"#7201a8\"],[0.3333333333333333,\"#9c179e\"],[0.4444444444444444,\"#bd3786\"],[0.5555555555555556,\"#d8576b\"],[0.6666666666666666,\"#ed7953\"],[0.7777777777777778,\"#fb9f3a\"],[0.8888888888888888,\"#fdca26\"],[1.0,\"#f0f921\"]]},\"legend\":{\"tracegroupgap\":0},\"title\":{\"text\":\"PCA of ACT Composite 75th percentile on 2018-2019 IPEDS Data\",\"font\":{\"size\":25}}},                        {\"responsive\": true}                    ).then(function(){\n",
       "                            \n",
       "var gd = document.getElementById('f1f05c6c-1a26-47e9-9322-5763e3c91185');\n",
       "var x = new MutationObserver(function (mutations, observer) {{\n",
       "        var display = window.getComputedStyle(gd).display;\n",
       "        if (!display || display === 'none') {{\n",
       "            console.log([gd, 'removed!']);\n",
       "            Plotly.purge(gd);\n",
       "            observer.disconnect();\n",
       "        }}\n",
       "}});\n",
       "\n",
       "// Listen for the removal of the full notebook cells\n",
       "var notebookContainer = gd.closest('#notebook-container');\n",
       "if (notebookContainer) {{\n",
       "    x.observe(notebookContainer, {childList: true});\n",
       "}}\n",
       "\n",
       "// Listen for the clearing of the current output cell\n",
       "var outputEl = gd.closest('.output');\n",
       "if (outputEl) {{\n",
       "    x.observe(outputEl, {childList: true});\n",
       "}}\n",
       "\n",
       "                        })                };                });            </script>        </div>"
      ]
     },
     "metadata": {},
     "output_type": "display_data"
    },
    {
     "data": {
      "application/vnd.plotly.v1+json": {
       "config": {
        "plotlyServerURL": "https://plot.ly"
       },
       "data": [
        {
         "customdata": [
          [
           "Abilene Christian University",
           3352
          ],
          [
           "Abraham Baldwin Agricultural College",
           2480
          ],
          [
           "Adams State University",
           1362
          ],
          [
           "Adelphi University",
           5063
          ],
          [
           "Adrian College",
           1723
          ],
          [
           "AdventHealth University",
           390
          ],
          [
           "Alabama A & M University",
           4975
          ],
          [
           "Alabama State University",
           3446
          ],
          [
           "Alcorn State University",
           2729
          ],
          [
           "Allegheny College",
           1713
          ],
          [
           "American University",
           8207
          ],
          [
           "Anderson University",
           1213
          ],
          [
           "Anderson University",
           2544
          ],
          [
           "Andrew College",
           188
          ],
          [
           "Andrews University",
           1352
          ],
          [
           "Angelo State University",
           5469
          ],
          [
           "Appalachian Bible College",
           173
          ],
          [
           "Appalachian State University",
           16622
          ],
          [
           "Aquinas College",
           1196
          ],
          [
           "Arcadia University",
           1929
          ],
          [
           "Arizona Christian University",
           713
          ],
          [
           "Arizona State University Campus Immersion",
           41182
          ],
          [
           "Arkansas State University",
           6439
          ],
          [
           "Art Academy of Cincinnati",
           204
          ],
          [
           "Ashland University",
           2687
          ],
          [
           "Auburn University",
           22527
          ],
          [
           "Auburn University at Montgomery",
           3505
          ],
          [
           "Augsburg University",
           2178
          ],
          [
           "Augusta University",
           4562
          ],
          [
           "Augustana University",
           1727
          ],
          [
           "Aurora University",
           3679
          ],
          [
           "Austin Peay State University",
           6773
          ],
          [
           "Azusa Pacific University",
           4411
          ],
          [
           "Bacone College",
           235
          ],
          [
           "Baker University",
           1092
          ],
          [
           "Barnard College",
           2584
          ],
          [
           "Barry University",
           3015
          ],
          [
           "Barton College",
           990
          ],
          [
           "Baylor University",
           13906
          ],
          [
           "Becker College",
           1321
          ],
          [
           "Bellarmine University",
           2416
          ],
          [
           "Belmont Abbey College",
           1388
          ],
          [
           "Belmont University",
           6563
          ],
          [
           "Benedictine University",
           2131
          ],
          [
           "Bentley University",
           4177
          ],
          [
           "Bethany Lutheran College",
           591
          ],
          [
           "Bethel University",
           1018
          ],
          [
           "Bethel University",
           2327
          ],
          [
           "Bethel University",
           2300
          ],
          [
           "Biola University",
           3772
          ],
          [
           "Black Hills State University",
           1945
          ],
          [
           "Blackburn College",
           467
          ],
          [
           "Bloomfield College",
           1516
          ],
          [
           "Bloomsburg University of Pennsylvania",
           7263
          ],
          [
           "Blue Mountain College",
           590
          ],
          [
           "Bluefield University",
           781
          ],
          [
           "Bluffton University",
           626
          ],
          [
           "Boise Bible College",
           74
          ],
          [
           "Boise State University",
           13104
          ],
          [
           "Boston Baptist College",
           32
          ],
          [
           "Boston University",
           16978
          ],
          [
           "Bowling Green State University-Main Campus",
           12936
          ],
          [
           "Bradley University",
           4508
          ],
          [
           "Brenau University",
           1105
          ],
          [
           "Brewton-Parker College",
           484
          ],
          [
           "Brigham Young University",
           28288
          ],
          [
           "Brigham Young University-Hawaii",
           2851
          ],
          [
           "Brigham Young University-Idaho",
           18448
          ],
          [
           "Buena Vista University",
           1257
          ],
          [
           "Bushnell University",
           450
          ],
          [
           "Butler University",
           4509
          ],
          [
           "Cairn University-Langhorne",
           809
          ],
          [
           "Caldwell University",
           1609
          ],
          [
           "California Baptist University",
           7333
          ],
          [
           "California Polytechnic State University-San Luis Obispo",
           19685
          ],
          [
           "California State Polytechnic University-Humboldt",
           6087
          ],
          [
           "California State Polytechnic University-Pomona",
           23596
          ],
          [
           "California State University-Chico",
           15000
          ],
          [
           "California State University-Fresno",
           18901
          ],
          [
           "California State University-Fullerton",
           28820
          ],
          [
           "California State University-Long Beach",
           28752
          ],
          [
           "California State University-Los Angeles",
           19729
          ],
          [
           "California State University-Monterey Bay",
           6055
          ],
          [
           "California State University-Northridge",
           29320
          ],
          [
           "California State University-Sacramento",
           24105
          ],
          [
           "California State University-San Bernardino",
           16549
          ],
          [
           "California State University-San Marcos",
           12155
          ],
          [
           "California University of Pennsylvania",
           3979
          ],
          [
           "Calvary University",
           216
          ],
          [
           "Calvin University",
           3234
          ],
          [
           "Campbell University",
           3257
          ],
          [
           "Capital University",
           2400
          ],
          [
           "Capitol Technology University",
           340
          ],
          [
           "Cardinal Stritch University",
           721
          ],
          [
           "Carlow University",
           1037
          ],
          [
           "Carnegie Mellon University",
           6425
          ],
          [
           "Carolina University",
           254
          ],
          [
           "Carroll College",
           1140
          ],
          [
           "Carroll University",
           2767
          ],
          [
           "Carson-Newman University",
           1716
          ],
          [
           "Carthage College",
           2548
          ],
          [
           "Case Western Reserve University",
           5237
          ],
          [
           "Castleton University",
           1694
          ],
          [
           "Cedarville University",
           3438
          ],
          [
           "Centenary College of Louisiana",
           541
          ],
          [
           "Centenary University",
           1038
          ],
          [
           "Central Baptist College",
           546
          ],
          [
           "Central Connecticut State University",
           7253
          ],
          [
           "Central Michigan University",
           12798
          ],
          [
           "Central State University",
           1919
          ],
          [
           "Central Washington University",
           9977
          ],
          [
           "Chaminade University of Honolulu",
           1334
          ],
          [
           "Champlain College",
           2447
          ],
          [
           "Chapman University",
           7046
          ],
          [
           "Charleston Southern University",
           2558
          ],
          [
           "Chicago State University",
           1361
          ],
          [
           "Citadel Military College of South Carolina",
           2688
          ],
          [
           "Claremont McKenna College",
           1340
          ],
          [
           "Clarion University of Pennsylvania",
           2992
          ],
          [
           "Clarke University",
           645
          ],
          [
           "Clarkson University",
           3012
          ],
          [
           "Cleary University",
           339
          ],
          [
           "Clemson University",
           19486
          ],
          [
           "Cleveland Institute of Art",
           633
          ],
          [
           "Cleveland State University",
           9097
          ],
          [
           "Coastal Carolina University",
           8810
          ],
          [
           "Coker University",
           920
          ],
          [
           "College of Charleston",
           8762
          ],
          [
           "College of Coastal Georgia",
           1997
          ],
          [
           "College of Our Lady of the Elms",
           997
          ],
          [
           "College of Saint Benedict",
           1731
          ],
          [
           "Colorado Mesa University",
           6972
          ],
          [
           "Colorado School of Mines",
           4930
          ],
          [
           "Colorado State University Pueblo",
           2985
          ],
          [
           "Colorado State University-Fort Collins",
           22247
          ],
          [
           "Columbia University in the City of New York",
           7701
          ],
          [
           "Columbus State University",
           4554
          ],
          [
           "Concord University",
           1436
          ],
          [
           "Concordia College",
           1129
          ],
          [
           "Concordia University Texas",
           1440
          ],
          [
           "Converse University",
           761
          ],
          [
           "Cooper Union for the Advancement of Science and Art",
           854
          ],
          [
           "Coppin State University",
           1804
          ],
          [
           "Corban University",
           888
          ],
          [
           "Cornerstone University",
           1020
          ],
          [
           "Cottey College",
           254
          ],
          [
           "Creighton University",
           4325
          ],
          [
           "Crown College",
           604
          ],
          [
           "Culver-Stockton College",
           882
          ],
          [
           "Cumberland University",
           1827
          ],
          [
           "Curry College",
           1969
          ],
          [
           "D'Youville College",
           1179
          ],
          [
           "Dakota State University",
           1503
          ],
          [
           "Dallas Christian College",
           146
          ],
          [
           "Davis & Elkins College",
           751
          ],
          [
           "Defiance College",
           464
          ],
          [
           "Delaware State University",
           3790
          ],
          [
           "Delta State University",
           1981
          ],
          [
           "DePauw University",
           1943
          ],
          [
           "DeSales University",
           1963
          ],
          [
           "Dickinson State University",
           922
          ],
          [
           "DigiPen Institute of Technology",
           1027
          ],
          [
           "Dominican University",
           2011
          ],
          [
           "Dominican University of California",
           1239
          ],
          [
           "Drake University",
           2830
          ],
          [
           "Drexel University",
           13878
          ],
          [
           "Drury University",
           1444
          ],
          [
           "Duquesne University",
           5732
          ],
          [
           "East Carolina University",
           19204
          ],
          [
           "East Central University",
           2471
          ],
          [
           "East Stroudsburg University of Pennsylvania",
           4939
          ],
          [
           "East Tennessee State University",
           9228
          ],
          [
           "East Texas Baptist University",
           1230
          ],
          [
           "Eastern Kentucky University",
           9908
          ],
          [
           "Eastern Mennonite University",
           828
          ],
          [
           "Eastern Michigan University",
           10572
          ],
          [
           "Eastern New Mexico University-Main Campus",
           2400
          ],
          [
           "Eastern Oregon University",
           1639
          ],
          [
           "Eastern University",
           1328
          ],
          [
           "Eastern Washington University",
           9498
          ],
          [
           "Eckerd College",
           1958
          ],
          [
           "Edgewood College",
           1191
          ],
          [
           "Edinboro University of Pennsylvania",
           2998
          ],
          [
           "Edward Waters University",
           862
          ],
          [
           "Elizabeth City State University",
           1516
          ],
          [
           "Elizabethtown College",
           1503
          ],
          [
           "Elmhurst University",
           2722
          ],
          [
           "Emerson College",
           3827
          ],
          [
           "Emmanuel College",
           829
          ],
          [
           "Emmaus Bible College",
           186
          ],
          [
           "Emory & Henry College",
           988
          ],
          [
           "Erskine College",
           771
          ],
          [
           "Eureka College",
           480
          ],
          [
           "Fairmont State University",
           2955
          ],
          [
           "Faulkner University",
           1484
          ],
          [
           "Fayetteville State University",
           4071
          ],
          [
           "Felician University",
           1640
          ],
          [
           "Ferris State University",
           7779
          ],
          [
           "Finlandia University",
           370
          ],
          [
           "Fisk University",
           822
          ],
          [
           "Fitchburg State University",
           3164
          ],
          [
           "Florida Agricultural and Mechanical University",
           6802
          ],
          [
           "Florida Atlantic University",
           16678
          ],
          [
           "Florida College",
           521
          ],
          [
           "Florida Gulf Coast University",
           11211
          ],
          [
           "Florida Institute of Technology",
           3169
          ],
          [
           "Florida International University",
           28335
          ],
          [
           "Florida Southern College",
           2537
          ],
          [
           "Florida State University",
           29879
          ],
          [
           "Fordham University",
           9229
          ],
          [
           "Fort Lewis College",
           2862
          ],
          [
           "Fort Valley State University",
           2059
          ],
          [
           "Francis Marion University",
           2900
          ],
          [
           "Franciscan University of Steubenville",
           2063
          ],
          [
           "Freed-Hardeman University",
           1306
          ],
          [
           "Fresno Pacific University",
           2442
          ],
          [
           "Friends University",
           860
          ],
          [
           "Frostburg State University",
           3522
          ],
          [
           "Gallaudet University",
           1005
          ],
          [
           "Gannon University",
           2775
          ],
          [
           "Gardner-Webb University",
           1632
          ],
          [
           "Geneva College",
           1116
          ],
          [
           "George Fox University",
           2428
          ],
          [
           "George Mason University",
           21672
          ],
          [
           "George Washington University",
           11102
          ],
          [
           "Georgetown University",
           7029
          ],
          [
           "Georgia College & State University",
           5364
          ],
          [
           "Georgia Institute of Technology-Main Campus",
           14310
          ],
          [
           "Georgia Southern University",
           19172
          ],
          [
           "Georgia Southwestern State University",
           1648
          ],
          [
           "Georgia State University",
           21958
          ],
          [
           "Georgian Court University",
           1417
          ],
          [
           "Gonzaga University",
           5123
          ],
          [
           "Gordon College",
           1440
          ],
          [
           "Gordon State College",
           2228
          ],
          [
           "Goshen College",
           751
          ],
          [
           "Governors State University",
           1918
          ],
          [
           "Graceland University-Lamoni",
           898
          ],
          [
           "Grand Valley State University",
           18810
          ],
          [
           "Grand View University",
           1586
          ],
          [
           "Greensboro College",
           704
          ],
          [
           "Greenville University",
           838
          ],
          [
           "Hamline University",
           2008
          ],
          [
           "Hanover College",
           1065
          ],
          [
           "Hardin-Simmons University",
           1615
          ],
          [
           "Harding University",
           3533
          ],
          [
           "Hastings College",
           958
          ],
          [
           "Heidelberg University",
           1043
          ],
          [
           "Henderson State University",
           2718
          ],
          [
           "Hendrix College",
           1101
          ],
          [
           "Hiram College",
           808
          ],
          [
           "Hofstra University",
           6156
          ],
          [
           "Hollins University",
           659
          ],
          [
           "Holy Cross College",
           430
          ],
          [
           "Holy Family University",
           1696
          ],
          [
           "Holy Names University",
           591
          ],
          [
           "Hope College",
           2957
          ],
          [
           "Hope International University",
           539
          ],
          [
           "Houston Baptist University",
           2067
          ],
          [
           "Howard Payne University",
           738
          ],
          [
           "Howard University",
           6269
          ],
          [
           "Huntingdon College",
           830
          ],
          [
           "Huntington University",
           864
          ],
          [
           "Husson University",
           2404
          ],
          [
           "Huston-Tillotson University",
           1026
          ],
          [
           "Illinois Institute of Technology",
           2882
          ],
          [
           "Indiana Institute of Technology",
           1429
          ],
          [
           "Indiana University of Pennsylvania-Main Campus",
           7695
          ],
          [
           "Indiana University-Bloomington",
           31981
          ],
          [
           "Indiana University-Purdue University-Indianapolis",
           17630
          ],
          [
           "Indiana University-South Bend",
           3481
          ],
          [
           "Indiana University-Southeast",
           3099
          ],
          [
           "Indiana Wesleyan University-Marion",
           2528
          ],
          [
           "Iowa State University",
           26713
          ],
          [
           "Iowa Wesleyan University",
           560
          ],
          [
           "Jackson State University",
           4126
          ],
          [
           "Jacksonville State University",
           5942
          ],
          [
           "Jacksonville University",
           2391
          ],
          [
           "John Carroll University",
           2925
          ],
          [
           "John Paul the Great Catholic University",
           262
          ],
          [
           "Johnson C Smith University",
           1359
          ],
          [
           "Johnson University",
           601
          ],
          [
           "Johnson University Florida",
           170
          ],
          [
           "Judson University",
           944
          ],
          [
           "Kennesaw State University",
           25745
          ],
          [
           "Kent State University at Kent",
           18432
          ],
          [
           "Kentucky State University",
           1156
          ],
          [
           "Kentucky Wesleyan College",
           803
          ],
          [
           "Kettering University",
           1720
          ],
          [
           "King University",
           1483
          ],
          [
           "Kutztown University of Pennsylvania",
           6458
          ],
          [
           "Kuyper College",
           103
          ],
          [
           "La Sierra University",
           1476
          ],
          [
           "LaGrange College",
           847
          ],
          [
           "Lake Superior State University",
           1542
          ],
          [
           "Lakeland University",
           803
          ],
          [
           "Lamar University",
           5243
          ],
          [
           "Lancaster Bible College",
           994
          ],
          [
           "Lander University",
           2941
          ],
          [
           "Lawrence Technological University",
           1677
          ],
          [
           "Lawrence University",
           1348
          ],
          [
           "Le Moyne College",
           2392
          ],
          [
           "Lee University",
           3677
          ],
          [
           "Lenoir-Rhyne University",
           1589
          ],
          [
           "Lesley University",
           1599
          ],
          [
           "LeTourneau University",
           1347
          ],
          [
           "Lewis University",
           3542
          ],
          [
           "Lewis-Clark State College",
           2172
          ],
          [
           "Liberty University",
           28487
          ],
          [
           "Life Pacific University",
           400
          ],
          [
           "Life University",
           729
          ],
          [
           "LIM College",
           1276
          ],
          [
           "Limestone University",
           1647
          ],
          [
           "Lincoln Memorial University",
           1427
          ],
          [
           "Lincoln University",
           1901
          ],
          [
           "Lindenwood University",
           5000
          ],
          [
           "Linfield University-McMinnville Campus",
           1383
          ],
          [
           "Lipscomb University",
           2679
          ],
          [
           "Lock Haven University",
           2480
          ],
          [
           "Long Island University",
           5630
          ],
          [
           "Loras College",
           1264
          ],
          [
           "Louisburg College",
           546
          ],
          [
           "Louisiana College",
           890
          ],
          [
           "Louisiana State University and Agricultural & Mechanical College",
           22726
          ],
          [
           "Louisiana Tech University",
           8131
          ],
          [
           "Lourdes University",
           858
          ],
          [
           "Loyola Marymount University",
           6548
          ],
          [
           "Loyola University Chicago",
           11622
          ],
          [
           "Loyola University New Orleans",
           2876
          ],
          [
           "Lubbock Christian University",
           1201
          ],
          [
           "Madonna University",
           1645
          ],
          [
           "Malone University",
           923
          ],
          [
           "Manhattan College",
           3365
          ],
          [
           "Manor College",
           453
          ],
          [
           "Mansfield University of Pennsylvania",
           1484
          ],
          [
           "Maranatha Baptist University",
           509
          ],
          [
           "Marian University",
           2039
          ],
          [
           "Marquette University",
           8175
          ],
          [
           "Mars Hill University",
           987
          ],
          [
           "Marshall University",
           7123
          ],
          [
           "Martin Luther College",
           705
          ],
          [
           "Maryland Institute College of Art",
           1666
          ],
          [
           "Marymount Manhattan College",
           1660
          ],
          [
           "Marymount University",
           1951
          ],
          [
           "Marywood University",
           1649
          ],
          [
           "McMurry University",
           1020
          ],
          [
           "McNeese State University",
           5407
          ],
          [
           "McPherson College",
           753
          ],
          [
           "MCPHS University",
           3843
          ],
          [
           "Mercer University",
           4260
          ],
          [
           "Meredith College",
           1464
          ],
          [
           "Methodist University",
           1500
          ],
          [
           "Miami University-Oxford",
           16682
          ],
          [
           "Michigan State University",
           35722
          ],
          [
           "Michigan Technological University",
           5383
          ],
          [
           "Mid-Atlantic Christian University",
           168
          ],
          [
           "Middle Georgia State University",
           4904
          ],
          [
           "Middle Tennessee State University",
           15721
          ],
          [
           "Midway University",
           888
          ],
          [
           "Midwestern Baptist Theological Seminary",
           362
          ],
          [
           "Midwestern State University",
           4084
          ],
          [
           "Milligan University",
           767
          ],
          [
           "Millikin University",
           1919
          ],
          [
           "Milwaukee School of Engineering",
           2478
          ],
          [
           "Minnesota State University Moorhead",
           3787
          ],
          [
           "Minot State University",
           1921
          ],
          [
           "Misericordia University",
           1584
          ],
          [
           "Mississippi College",
           2516
          ],
          [
           "Mississippi University for Women",
           2026
          ],
          [
           "Missouri Baptist University",
           1526
          ],
          [
           "Missouri State University-Springfield",
           14005
          ],
          [
           "Missouri University of Science and Technology",
           5692
          ],
          [
           "Monmouth University",
           4301
          ],
          [
           "Montana State University",
           12359
          ],
          [
           "Montana Technological University",
           1369
          ],
          [
           "Montreat College",
           613
          ],
          [
           "Morehouse College",
           2145
          ],
          [
           "Morgan State University",
           5759
          ],
          [
           "Mount Saint Joseph University",
           1008
          ],
          [
           "Mount Saint Mary College",
           1596
          ],
          [
           "Mount St. Mary's University",
           1762
          ],
          [
           "Mount Vernon Nazarene University",
           1670
          ],
          [
           "Murray State University",
           6190
          ],
          [
           "Muskingum University",
           1365
          ],
          [
           "New Jersey Institute of Technology",
           6878
          ],
          [
           "New Mexico Institute of Mining and Technology",
           1178
          ],
          [
           "New Mexico State University-Main Campus",
           9740
          ],
          [
           "New York Institute of Technology",
           3357
          ],
          [
           "Newberry College",
           1225
          ],
          [
           "Newman University",
           944
          ],
          [
           "Niagara University",
           2692
          ],
          [
           "Nicholls State University",
           4975
          ],
          [
           "North Carolina A & T State University",
           10013
          ],
          [
           "North Carolina Central University",
           5012
          ],
          [
           "North Carolina State University at Raleigh",
           22820
          ],
          [
           "North Carolina Wesleyan College",
           1600
          ],
          [
           "North Central University",
           967
          ],
          [
           "North Dakota State University-Main Campus",
           9638
          ],
          [
           "North Greenville University",
           1758
          ],
          [
           "North Park University",
           1723
          ],
          [
           "Northeastern State University",
           4341
          ],
          [
           "Northern Kentucky University",
           8243
          ],
          [
           "Northern Michigan University",
           6191
          ],
          [
           "Northern State University",
           1265
          ],
          [
           "Northwest Missouri State University",
           4954
          ],
          [
           "Northwest University",
           923
          ],
          [
           "Northwestern State University of Louisiana",
           6340
          ],
          [
           "Northwood University",
           1544
          ],
          [
           "Notre Dame College",
           1130
          ],
          [
           "Nova Southeastern University",
           4619
          ],
          [
           "Oakland City University",
           609
          ],
          [
           "Oakland University",
           12454
          ],
          [
           "Oakwood University",
           1366
          ],
          [
           "Oglethorpe University",
           1328
          ],
          [
           "Ohio Dominican University",
           920
          ],
          [
           "Ohio Northern University",
           2095
          ],
          [
           "Ohio State University-Main Campus",
           42776
          ],
          [
           "Ohio University-Main Campus",
           16209
          ],
          [
           "Ohio Valley University",
           271
          ],
          [
           "Oklahoma City University",
           1510
          ],
          [
           "Oklahoma State University-Main Campus",
           17291
          ],
          [
           "Oklahoma Wesleyan University",
           546
          ],
          [
           "Old Dominion University",
           14702
          ],
          [
           "Olivet Nazarene University",
           2855
          ],
          [
           "Oral Roberts University",
           2714
          ],
          [
           "Oregon Institute of Technology",
           2370
          ],
          [
           "Oregon State University",
           18554
          ],
          [
           "Oregon State University-Cascades Campus",
           471
          ],
          [
           "Ottawa University-Ottawa",
           645
          ],
          [
           "Otterbein University",
           2332
          ],
          [
           "Ouachita Baptist University",
           1506
          ],
          [
           "Our Lady of the Lake University",
           1244
          ],
          [
           "Ozark Christian College",
           559
          ],
          [
           "Pacific Lutheran University",
           2627
          ],
          [
           "Pacific Union College",
           822
          ],
          [
           "Paine College",
           395
          ],
          [
           "Palm Beach Atlantic University",
           2264
          ],
          [
           "Paul Quinn College",
           525
          ],
          [
           "Pepperdine University",
           3320
          ],
          [
           "Pfeiffer University",
           837
          ],
          [
           "Piedmont University",
           1155
          ],
          [
           "Point Loma Nazarene University",
           2611
          ],
          [
           "Point Park University",
           2626
          ],
          [
           "Point University",
           1109
          ],
          [
           "Pomona College",
           1617
          ],
          [
           "Portland State University",
           13949
          ],
          [
           "Prairie View A & M University",
           7501
          ],
          [
           "Pratt Institute-Main",
           3570
          ],
          [
           "Presentation College",
           359
          ],
          [
           "Providence College",
           3891
          ],
          [
           "Purdue University Fort Wayne",
           5370
          ],
          [
           "Purdue University Northwest",
           5561
          ],
          [
           "Purdue University-Main Campus",
           32606
          ],
          [
           "Queens University of Charlotte",
           1570
          ],
          [
           "Quincy University",
           934
          ],
          [
           "Ramapo College of New Jersey",
           4870
          ],
          [
           "Randolph-Macon College",
           1520
          ],
          [
           "Regent University",
           2333
          ],
          [
           "Reinhardt University",
           1262
          ],
          [
           "Rider University",
           3465
          ],
          [
           "Roanoke College",
           1942
          ],
          [
           "Robert Morris University",
           3500
          ],
          [
           "Roberts Wesleyan College",
           1176
          ],
          [
           "Rochester Institute of Technology",
           12254
          ],
          [
           "Rochester University",
           658
          ],
          [
           "Rocky Mountain College",
           829
          ],
          [
           "Roosevelt University",
           1965
          ],
          [
           "Rosemont College",
           390
          ],
          [
           "Rowan University",
           14055
          ],
          [
           "Rutgers University-Camden",
           4767
          ],
          [
           "Rutgers University-New Brunswick",
           34285
          ],
          [
           "Rutgers University-Newark",
           7975
          ],
          [
           "Saginaw Valley State University",
           6348
          ],
          [
           "Saint Anselm College",
           2014
          ],
          [
           "Saint Cloud State University",
           6977
          ],
          [
           "Saint Edward's University",
           3199
          ],
          [
           "Saint Francis University",
           1466
          ],
          [
           "Saint John Fisher College",
           2535
          ],
          [
           "Saint Johns University",
           1604
          ],
          [
           "Saint Louis University",
           6691
          ],
          [
           "Saint Martin's University",
           1257
          ],
          [
           "Saint Mary's University of Minnesota",
           1132
          ],
          [
           "Saint Mary-of-the-Woods College",
           629
          ],
          [
           "Saint Norbert College",
           1962
          ],
          [
           "Saint Vincent College",
           1491
          ],
          [
           "Salem College",
           473
          ],
          [
           "Sam Houston State University",
           15311
          ],
          [
           "Samford University",
           3509
          ],
          [
           "San Diego Christian College",
           380
          ],
          [
           "San Diego State University",
           27638
          ],
          [
           "San Francisco State University",
           21687
          ],
          [
           "San Jose State University",
           23593
          ],
          [
           "Savannah College of Art and Design",
           10260
          ],
          [
           "Savannah State University",
           2972
          ],
          [
           "School of the Art Institute of Chicago",
           2804
          ],
          [
           "Schreiner University",
           1087
          ],
          [
           "Scripps College",
           1082
          ],
          [
           "Seattle Pacific University",
           2636
          ],
          [
           "Seattle University",
           4410
          ],
          [
           "Seton Hall University",
           5782
          ],
          [
           "Shenandoah University",
           1989
          ],
          [
           "Shepherd University",
           2354
          ],
          [
           "Shippensburg University of Pennsylvania",
           4861
          ],
          [
           "Shorter University",
           1112
          ],
          [
           "Sierra Nevada University",
           331
          ],
          [
           "Simmons University",
           1607
          ],
          [
           "Simpson College",
           1161
          ],
          [
           "Skidmore College",
           2622
          ],
          [
           "Slippery Rock University of Pennsylvania",
           6968
          ],
          [
           "Sonoma State University",
           7416
          ],
          [
           "South Dakota School of Mines and Technology",
           1870
          ],
          [
           "South Dakota State University",
           7971
          ],
          [
           "Southeastern University",
           4974
          ],
          [
           "Southern Arkansas University Main Campus",
           3003
          ],
          [
           "Southern Connecticut State University",
           6801
          ],
          [
           "Southern Illinois University-Carbondale",
           7150
          ],
          [
           "Southern Illinois University-Edwardsville",
           8615
          ],
          [
           "Southern Methodist University",
           6519
          ],
          [
           "Southern Oregon University",
           3184
          ],
          [
           "Southern University and A & M College",
           4875
          ],
          [
           "Southern Utah University",
           7097
          ],
          [
           "Southern Virginia University",
           1015
          ],
          [
           "Southwest Baptist University",
           1701
          ],
          [
           "Southwestern Adventist University",
           537
          ],
          [
           "Southwestern Assemblies of God University",
           1392
          ],
          [
           "Southwestern Christian University",
           438
          ],
          [
           "Southwestern College",
           678
          ],
          [
           "Southwestern University",
           1495
          ],
          [
           "Spelman College",
           2080
          ],
          [
           "Spring Arbor University",
           1134
          ],
          [
           "Spring Hill College",
           1143
          ],
          [
           "St Catherine University",
           2004
          ],
          [
           "St. John's University-New York",
           11525
          ],
          [
           "St. Mary's College of Maryland",
           1411
          ],
          [
           "St. Mary's University",
           2162
          ],
          [
           "St. Thomas University",
           1246
          ],
          [
           "State University of New York at New Paltz",
           6291
          ],
          [
           "Stephen F Austin State University",
           9213
          ],
          [
           "Stephens College",
           411
          ],
          [
           "Sterling College",
           527
          ],
          [
           "Stevenson University",
           2724
          ],
          [
           "Stockton University",
           8459
          ],
          [
           "Stony Brook University",
           16697
          ],
          [
           "SUNY at Purchase College",
           3709
          ],
          [
           "SUNY Brockport",
           5960
          ],
          [
           "SUNY College at Plattsburgh",
           4420
          ],
          [
           "SUNY College of Environmental Science and Forestry",
           1747
          ],
          [
           "SUNY College of Technology at Alfred",
           3482
          ],
          [
           "SUNY College of Technology at Canton",
           2784
          ],
          [
           "SUNY Cortland",
           6170
          ],
          [
           "SUNY Morrisville",
           2283
          ],
          [
           "SUNY Oneonta",
           5942
          ],
          [
           "SUNY Polytechnic Institute",
           1903
          ],
          [
           "Syracuse University",
           14727
          ],
          [
           "Tarleton State University",
           8211
          ],
          [
           "Taylor University",
           1799
          ],
          [
           "Tennessee Technological University",
           8004
          ],
          [
           "Tennessee Wesleyan University",
           966
          ],
          [
           "Texas A & M International University",
           5574
          ],
          [
           "Texas A & M University-College Station",
           47667
          ],
          [
           "Texas A & M University-Commerce",
           6177
          ],
          [
           "Texas A & M University-Corpus Christi",
           7201
          ],
          [
           "Texas A & M University-Kingsville",
           4670
          ],
          [
           "Texas A&M University-San Antonio",
           3316
          ],
          [
           "Texas A&M University-Texarkana",
           1248
          ],
          [
           "Texas Christian University",
           9219
          ],
          [
           "Texas Lutheran University",
           1380
          ],
          [
           "Texas Southern University",
           6032
          ],
          [
           "Texas State University",
           27923
          ],
          [
           "Texas Tech University",
           28062
          ],
          [
           "Texas Wesleyan University",
           1327
          ],
          [
           "Texas Woman's University",
           7040
          ],
          [
           "The Baptist College of Florida",
           226
          ],
          [
           "The King's College",
           523
          ],
          [
           "The New School",
           6697
          ],
          [
           "The University of Alabama",
           29135
          ],
          [
           "The University of Findlay",
           2189
          ],
          [
           "The University of Montana",
           6163
          ],
          [
           "The University of Montana-Western",
           1126
          ],
          [
           "The University of Tampa",
           8441
          ],
          [
           "The University of Tennessee-Chattanooga",
           9224
          ],
          [
           "The University of Tennessee-Knoxville",
           22018
          ],
          [
           "The University of Texas at Arlington",
           19441
          ],
          [
           "The University of Texas at Austin",
           37515
          ],
          [
           "The University of Texas at Dallas",
           17943
          ],
          [
           "The University of Texas at San Antonio",
           22414
          ],
          [
           "The University of Texas at Tyler",
           4764
          ],
          [
           "The University of Texas Permian Basin",
           1862
          ],
          [
           "The University of Texas Rio Grande Valley",
           19922
          ],
          [
           "The University of West Florida",
           6612
          ],
          [
           "Thomas More University",
           1295
          ],
          [
           "Toccoa Falls College",
           911
          ],
          [
           "Towson University",
           17209
          ],
          [
           "Trevecca Nazarene University",
           1913
          ],
          [
           "Trinity Baptist College",
           271
          ],
          [
           "Trinity Bible College and Graduate School",
           147
          ],
          [
           "Trinity Christian College",
           837
          ],
          [
           "Trinity College of Florida",
           182
          ],
          [
           "Trinity International University-Illinois",
           492
          ],
          [
           "Troy University",
           8741
          ],
          [
           "Truett McConnell University",
           852
          ],
          [
           "Truman State University",
           4269
          ],
          [
           "Tusculum University",
           1263
          ],
          [
           "Tuskegee University",
           2254
          ],
          [
           "Union University",
           1796
          ],
          [
           "University at Buffalo",
           20401
          ],
          [
           "University of Akron Main Campus",
           11641
          ],
          [
           "University of Alabama at Birmingham",
           10315
          ],
          [
           "University of Alabama in Huntsville",
           6749
          ],
          [
           "University of Alaska Fairbanks",
           2596
          ],
          [
           "University of Arkansas",
           20559
          ],
          [
           "University of Arkansas at Pine Bluff",
           2161
          ],
          [
           "University of California-Berkeley",
           29991
          ],
          [
           "University of California-Davis",
           30171
          ],
          [
           "University of California-Irvine",
           29797
          ],
          [
           "University of California-Los Angeles",
           30969
          ],
          [
           "University of California-Merced",
           8080
          ],
          [
           "University of California-Riverside",
           21652
          ],
          [
           "University of California-San Diego",
           29966
          ],
          [
           "University of California-Santa Barbara",
           22846
          ],
          [
           "University of California-Santa Cruz",
           16994
          ],
          [
           "University of Central Arkansas",
           7634
          ],
          [
           "University of Central Florida",
           42468
          ],
          [
           "University of Charleston",
           1172
          ],
          [
           "University of Cincinnati-Main Campus",
           23712
          ],
          [
           "University of Colorado Boulder",
           28877
          ],
          [
           "University of Colorado Colorado Springs",
           8168
          ],
          [
           "University of Colorado Denver/Anschutz Medical Campus",
           8857
          ],
          [
           "University of Connecticut",
           18229
          ],
          [
           "University of Connecticut-Stamford",
           1846
          ],
          [
           "University of Dayton",
           8046
          ],
          [
           "University of Delaware",
           18378
          ],
          [
           "University of Denver",
           5478
          ],
          [
           "University of Detroit Mercy",
           2350
          ],
          [
           "University of Dubuque",
           1554
          ],
          [
           "University of Florida",
           32157
          ],
          [
           "University of Georgia",
           28175
          ],
          [
           "University of Hawaii at Hilo",
           2204
          ],
          [
           "University of Hawaii at Manoa",
           10560
          ],
          [
           "University of Houston",
           28368
          ],
          [
           "University of Houston-Clear Lake",
           3358
          ],
          [
           "University of Idaho",
           6749
          ],
          [
           "University of Illinois Chicago",
           20195
          ],
          [
           "University of Illinois Springfield",
           1853
          ],
          [
           "University of Illinois Urbana-Champaign",
           32854
          ],
          [
           "University of Indianapolis",
           4066
          ],
          [
           "University of Iowa",
           21212
          ],
          [
           "University of Kentucky",
           20622
          ],
          [
           "University of La Verne",
           3353
          ],
          [
           "University of Louisiana at Lafayette",
           11929
          ],
          [
           "University of Louisville",
           11560
          ],
          [
           "University of Maine",
           8060
          ],
          [
           "University of Maine at Fort Kent",
           552
          ],
          [
           "University of Mary",
           1869
          ],
          [
           "University of Mary Hardin-Baylor",
           3113
          ],
          [
           "University of Mary Washington",
           3694
          ],
          [
           "University of Maryland Eastern Shore",
           2095
          ],
          [
           "University of Maryland-Baltimore County",
           9436
          ],
          [
           "University of Maryland-College Park",
           28390
          ],
          [
           "University of Massachusetts-Amherst",
           22491
          ],
          [
           "University of Massachusetts-Dartmouth",
           5465
          ],
          [
           "University of Massachusetts-Lowell",
           10862
          ],
          [
           "University of Memphis",
           12066
          ],
          [
           "University of Miami",
           10701
          ],
          [
           "University of Michigan-Ann Arbor",
           30204
          ],
          [
           "University of Michigan-Flint",
           3633
          ],
          [
           "University of Minnesota-Duluth",
           8535
          ],
          [
           "University of Minnesota-Morris",
           1368
          ],
          [
           "University of Minnesota-Rochester",
           536
          ],
          [
           "University of Minnesota-Twin Cities",
           29939
          ],
          [
           "University of Mississippi",
           15902
          ],
          [
           "University of Missouri-Columbia",
           20676
          ],
          [
           "University of Missouri-Kansas City",
           6487
          ],
          [
           "University of Missouri-St Louis",
           5098
          ],
          [
           "University of Mobile",
           1106
          ],
          [
           "University of Mount Olive",
           1494
          ],
          [
           "University of Mount Union",
           1994
          ],
          [
           "University of Nebraska at Kearney",
           3827
          ],
          [
           "University of Nebraska-Lincoln",
           19132
          ],
          [
           "University of Nevada-Las Vegas",
           19523
          ],
          [
           "University of Nevada-Reno",
           14788
          ],
          [
           "University of New England",
           2425
          ],
          [
           "University of New Hampshire-Main Campus",
           11960
          ],
          [
           "University of New Haven",
           4625
          ],
          [
           "University of New Mexico-Main Campus",
           12705
          ],
          [
           "University of New Orleans",
           4905
          ],
          [
           "University of North Alabama",
           4901
          ],
          [
           "University of North Carolina at Asheville",
           3036
          ],
          [
           "University of North Carolina at Chapel Hill",
           18528
          ],
          [
           "University of North Carolina at Charlotte",
           20877
          ],
          [
           "University of North Carolina at Greensboro",
           14007
          ],
          [
           "University of North Carolina at Pembroke",
           5109
          ],
          [
           "University of North Carolina School of the Arts",
           901
          ],
          [
           "University of North Carolina Wilmington",
           12480
          ],
          [
           "University of North Dakota",
           7628
          ],
          [
           "University of North Florida",
           10757
          ],
          [
           "University of North Georgia",
           13103
          ],
          [
           "University of North Texas",
           26055
          ],
          [
           "University of Northern Colorado",
           7752
          ],
          [
           "University of Northern Iowa",
           8228
          ],
          [
           "University of Northwestern-St Paul",
           2073
          ],
          [
           "University of Oklahoma-Norman Campus",
           18996
          ],
          [
           "University of Oregon",
           17419
          ],
          [
           "University of Pennsylvania",
           10448
          ],
          [
           "University of Pittsburgh-Bradford",
           1259
          ],
          [
           "University of Pittsburgh-Greensburg",
           1359
          ],
          [
           "University of Pittsburgh-Johnstown",
           2404
          ],
          [
           "University of Pittsburgh-Pittsburgh Campus",
           18392
          ],
          [
           "University of Portland",
           3743
          ],
          [
           "University of Redlands",
           2597
          ],
          [
           "University of Rhode Island",
           12596
          ],
          [
           "University of Saint Francis-Fort Wayne",
           1497
          ],
          [
           "University of Saint Mary",
           713
          ],
          [
           "University of San Diego",
           5761
          ],
          [
           "University of San Francisco",
           6296
          ],
          [
           "University of Science and Arts of Oklahoma",
           727
          ],
          [
           "University of Sioux Falls",
           1206
          ],
          [
           "University of South Alabama",
           8065
          ],
          [
           "University of South Carolina Aiken",
           2585
          ],
          [
           "University of South Carolina Beaufort",
           1775
          ],
          [
           "University of South Carolina-Columbia",
           26400
          ],
          [
           "University of South Carolina-Upstate",
           4637
          ],
          [
           "University of South Dakota",
           4899
          ],
          [
           "University of South Florida",
           25457
          ],
          [
           "University of Southern California",
           19622
          ],
          [
           "University of Southern Indiana",
           6133
          ],
          [
           "University of Southern Maine",
           4062
          ],
          [
           "University of St Thomas",
           6137
          ],
          [
           "University of St Thomas",
           1693
          ],
          [
           "University of the Incarnate Word",
           4093
          ],
          [
           "University of the Pacific",
           3536
          ],
          [
           "University of the Sciences",
           1353
          ],
          [
           "University of Toledo",
           12548
          ],
          [
           "University of Tulsa",
           3171
          ],
          [
           "University of Utah",
           18628
          ],
          [
           "University of Vermont",
           10501
          ],
          [
           "University of Virginia's College at Wise",
           1106
          ],
          [
           "University of Virginia-Main Campus",
           16267
          ],
          [
           "University of Washington-Bothell Campus",
           4631
          ],
          [
           "University of Washington-Seattle Campus",
           29332
          ],
          [
           "University of Washington-Tacoma Campus",
           4066
          ],
          [
           "University of West Alabama",
           1883
          ],
          [
           "University of West Georgia",
           8090
          ],
          [
           "University of Wisconsin-Madison",
           30157
          ],
          [
           "University of Wyoming",
           8332
          ],
          [
           "Upper Iowa University",
           1856
          ],
          [
           "Ursuline College",
           491
          ],
          [
           "Utah State University",
           17063
          ],
          [
           "Valdosta State University",
           6797
          ],
          [
           "Valley City State University",
           904
          ],
          [
           "Valparaiso University",
           2940
          ],
          [
           "Vanderbilt University",
           6833
          ],
          [
           "Villanova University",
           6528
          ],
          [
           "Virginia Commonwealth University",
           19825
          ],
          [
           "Virginia Polytechnic Institute and State University",
           28584
          ],
          [
           "Virginia State University",
           3903
          ],
          [
           "Virginia Union University",
           1019
          ],
          [
           "Viterbo University",
           1433
          ],
          [
           "Waldorf University",
           1619
          ],
          [
           "Walsh University",
           1628
          ],
          [
           "Wartburg College",
           1462
          ],
          [
           "Washington Adventist University",
           723
          ],
          [
           "Washington State University",
           23092
          ],
          [
           "Washington University in St Louis",
           7139
          ],
          [
           "Wayland Baptist University",
           869
          ],
          [
           "Wayne State University",
           13107
          ],
          [
           "Waynesburg University",
           1239
          ],
          [
           "Webber International University",
           642
          ],
          [
           "Webster University",
           2170
          ],
          [
           "Wentworth Institute of Technology",
           3904
          ],
          [
           "Wesleyan College",
           476
          ],
          [
           "West Chester University of Pennsylvania",
           13044
          ],
          [
           "West Texas A & M University",
           5582
          ],
          [
           "West Virginia State University",
           1585
          ],
          [
           "West Virginia University",
           19369
          ],
          [
           "West Virginia University Institute of Technology",
           1148
          ],
          [
           "West Virginia Wesleyan College",
           1118
          ],
          [
           "Western Carolina University",
           8934
          ],
          [
           "Western Colorado University",
           1755
          ],
          [
           "Western Kentucky University",
           11815
          ],
          [
           "Western Michigan University",
           14558
          ],
          [
           "Western Washington University",
           13887
          ],
          [
           "Westminster College",
           1649
          ],
          [
           "Westmont College",
           1312
          ],
          [
           "Wheaton College",
           2328
          ],
          [
           "Wheeling University",
           423
          ],
          [
           "Whitworth University",
           2360
          ],
          [
           "Wichita State University",
           8994
          ],
          [
           "Widener University",
           2784
          ],
          [
           "Wilberforce University",
           497
          ],
          [
           "Wilkes University",
           2110
          ],
          [
           "William & Mary",
           6190
          ],
          [
           "William Carey University",
           1901
          ],
          [
           "William Jessup University",
           1078
          ],
          [
           "William Jewell College",
           724
          ],
          [
           "William Peace University",
           802
          ],
          [
           "Wilson College",
           689
          ],
          [
           "Wingate University",
           2706
          ],
          [
           "Winona State University",
           6125
          ],
          [
           "Winston-Salem State University",
           4067
          ],
          [
           "Wisconsin Lutheran College",
           915
          ],
          [
           "Woodbury University",
           1061
          ],
          [
           "Wright State University-Lake Campus",
           868
          ],
          [
           "Wright State University-Main Campus",
           7226
          ],
          [
           "Xavier University",
           4834
          ],
          [
           "Xavier University of Louisiana",
           2424
          ],
          [
           "Yeshiva University",
           2643
          ],
          [
           "York College of Pennsylvania",
           3687
          ],
          [
           "Young Harris College",
           914
          ],
          [
           "Youngstown State University",
           8715
          ]
         ],
         "hovertemplate": "pca0=%{x}<br>pca1=%{y}<br>Name=%{customdata[0]}<br>Full-time undergraduate enrollment=%{customdata[1]}<br>ACT Composite 75th percentile=%{marker.color}<extra></extra>",
         "legendgroup": "",
         "marker": {
          "color": [
           28,
           22,
           22,
           27,
           24,
           21,
           19,
           19,
           24,
           30,
           31,
           25,
           26,
           19,
           29,
           23,
           23,
           28,
           26,
           28,
           21,
           28,
           27,
           24,
           24,
           31,
           23,
           23,
           26,
           29,
           23,
           24,
           26,
           18,
           25,
           34,
           21,
           22,
           32,
           24,
           28,
           26,
           29,
           25,
           31,
           26,
           24,
           27,
           20,
           28,
           24,
           23,
           20,
           23,
           23,
           22,
           23,
           23,
           26,
           22,
           34,
           24,
           28,
           23,
           20,
           31,
           27,
           25,
           25,
           21,
           30,
           24,
           23,
           24,
           32,
           25,
           27,
           24,
           22,
           24,
           26,
           20,
           23,
           22,
           22,
           19,
           22,
           23,
           23,
           30,
           25,
           26,
           25,
           22,
           24,
           35,
           21,
           26,
           26,
           29,
           27,
           34,
           22,
           29,
           28,
           25,
           22,
           23,
           26,
           17,
           24,
           23,
           29,
           31,
           31,
           19,
           25,
           34,
           23,
           23,
           30,
           19,
           32,
           27,
           25,
           24,
           28,
           28,
           21,
           24,
           28,
           25,
           33,
           24,
           29,
           35,
           22,
           23,
           22,
           23,
           22,
           35,
           21,
           26,
           26,
           24,
           29,
           23,
           22,
           23,
           23,
           24,
           25,
           20,
           23,
           21,
           22,
           24,
           30,
           29,
           23,
           30,
           25,
           25,
           31,
           31,
           28,
           28,
           24,
           23,
           21,
           27,
           22,
           26,
           26,
           25,
           22,
           23,
           27,
           24,
           29,
           25,
           23,
           18,
           20,
           28,
           26,
           31,
           22,
           27,
           25,
           22,
           23,
           23,
           23,
           21,
           20,
           25,
           23,
           24,
           24,
           23,
           26,
           27,
           25,
           30,
           28,
           29,
           30,
           32,
           23,
           18,
           21,
           29,
           28,
           24,
           25,
           23,
           19,
           26,
           24,
           29,
           27,
           30,
           33,
           35,
           28,
           34,
           25,
           21,
           26,
           25,
           30,
           30,
           19,
           29,
           22,
           24,
           27,
           22,
           21,
           24,
           26,
           26,
           23,
           29,
           24,
           24,
           24,
           32,
           25,
           30,
           30,
           33,
           22,
           21,
           29,
           23,
           24,
           23,
           27,
           24,
           25,
           23,
           18,
           32,
           24,
           23,
           31,
           25,
           23,
           23,
           26,
           28,
           23,
           21,
           24,
           25,
           28,
           25,
           18,
           24,
           21,
           25,
           26,
           26,
           22,
           26,
           30,
           25,
           24,
           27,
           24,
           23,
           25,
           22,
           23,
           24,
           23,
           27,
           32,
           28,
           28,
           24,
           26,
           29,
           27,
           23,
           28,
           19,
           26,
           23,
           24,
           25,
           18,
           25,
           26,
           29,
           22,
           28,
           25,
           17,
           23,
           29,
           28,
           23,
           31,
           30,
           28,
           25,
           24,
           26,
           28,
           19,
           22,
           26,
           25,
           29,
           23,
           25,
           28,
           29,
           27,
           25,
           29,
           22,
           24,
           23,
           27,
           30,
           25,
           22,
           30,
           29,
           30,
           20,
           21,
           26,
           23,
           24,
           22,
           28,
           27,
           30,
           24,
           23,
           27,
           29,
           25,
           23,
           27,
           32,
           27,
           27,
           26,
           23,
           25,
           20,
           23,
           24,
           24,
           25,
           28,
           23,
           31,
           29,
           23,
           29,
           21,
           25,
           27,
           25,
           22,
           19,
           32,
           19,
           24,
           26,
           28,
           25,
           24,
           26,
           26,
           25,
           25,
           26,
           24,
           25,
           21,
           28,
           21,
           27,
           23,
           28,
           25,
           28,
           32,
           26,
           23,
           29,
           28,
           23,
           24,
           26,
           25,
           26,
           28,
           27,
           22,
           27,
           28,
           20,
           24,
           29,
           25,
           17,
           26,
           19,
           32,
           23,
           24,
           29,
           26,
           20,
           35,
           24,
           20,
           30,
           21,
           31,
           25,
           24,
           32,
           27,
           25,
           27,
           26,
           25,
           25,
           26,
           28,
           27,
           26,
           32,
           21,
           24,
           27,
           22,
           28,
           22,
           32,
           25,
           25,
           29,
           24,
           28,
           26,
           26,
           27,
           30,
           24,
           26,
           23,
           27,
           27,
           23,
           23,
           29,
           23,
           29,
           23,
           27,
           27,
           19,
           29,
           23,
           33,
           26,
           30,
           29,
           26,
           25,
           23,
           23,
           22,
           29,
           25,
           32,
           24,
           23,
           29,
           26,
           24,
           24,
           25,
           28,
           26,
           33,
           25,
           20,
           27,
           26,
           25,
           22,
           22,
           20,
           24,
           29,
           26,
           27,
           25,
           25,
           29,
           29,
           26,
           22,
           28,
           24,
           25,
           23,
           24,
           26,
           32,
           30,
           24,
           25,
           28,
           25,
           23,
           26,
           22,
           26,
           29,
           30,
           23,
           28,
           27,
           25,
           20,
           31,
           24,
           24,
           22,
           20,
           23,
           31,
           24,
           18,
           25,
           27,
           24,
           23,
           21,
           28,
           30,
           31,
           26,
           26,
           22,
           28,
           26,
           30,
           27,
           33,
           33,
           25,
           27,
           22,
           22,
           28,
           25,
           22,
           25,
           26,
           22,
           22,
           27,
           19,
           26,
           24,
           24,
           31,
           23,
           23,
           30,
           29,
           25,
           29,
           31,
           25,
           30,
           20,
           35,
           32,
           33,
           35,
           25,
           30,
           34,
           34,
           32,
           27,
           30,
           24,
           29,
           31,
           26,
           27,
           32,
           27,
           29,
           30,
           31,
           28,
           22,
           33,
           32,
           23,
           26,
           27,
           24,
           27,
           28,
           26,
           32,
           25,
           29,
           29,
           24,
           26,
           29,
           27,
           19,
           26,
           25,
           29,
           19,
           29,
           34,
           32,
           25,
           29,
           26,
           32,
           34,
           26,
           26,
           28,
           26,
           31,
           29,
           29,
           28,
           27,
           27,
           22,
           25,
           26,
           28,
           25,
           26,
           27,
           28,
           27,
           25,
           25,
           26,
           27,
           33,
           26,
           25,
           21,
           29,
           27,
           26,
           25,
           26,
           27,
           26,
           26,
           28,
           29,
           28,
           35,
           25,
           25,
           24,
           33,
           29,
           28,
           28,
           25,
           23,
           31,
           29,
           24,
           25,
           27,
           23,
           22,
           31,
           22,
           25,
           30,
           34,
           25,
           25,
           29,
           26,
           23,
           31,
           28,
           26,
           31,
           29,
           31,
           25,
           34,
           28,
           33,
           24,
           22,
           22,
           32,
           28,
           23,
           23,
           28,
           23,
           24,
           29,
           35,
           34,
           28,
           31,
           20,
           17,
           25,
           22,
           26,
           26,
           25,
           26,
           35,
           22,
           27,
           23,
           20,
           27,
           28,
           22,
           26,
           23,
           22,
           27,
           24,
           24,
           25,
           26,
           27,
           26,
           28,
           29,
           30,
           32,
           23,
           29,
           27,
           25,
           19,
           26,
           34,
           28,
           25,
           27,
           22,
           24,
           23,
           24,
           19,
           27,
           27,
           24,
           25,
           28,
           26,
           30,
           25,
           23,
           24
          ],
          "coloraxis": "coloraxis",
          "symbol": "circle"
         },
         "mode": "markers",
         "name": "",
         "orientation": "v",
         "showlegend": false,
         "type": "scatter",
         "x": [
          -0.32624318049694173,
          -0.2201877244360534,
          -0.4327471953356623,
          0.0513171979083156,
          -0.8801608210588631,
          -0.5705444958308087,
          -0.24514043319130058,
          -0.6659347413997694,
          -0.7013362615604334,
          -0.7497806116698015,
          0.4052935345816897,
          -0.7830862780629062,
          -0.6366960220411669,
          -1.0109482860791275,
          -0.16188282033777082,
          0.3080794820271774,
          -0.6179287208094075,
          1.0422819551128573,
          -0.6816285650625125,
          -0.5101981699193926,
          -0.7488461963203911,
          3.8667248023876235,
          0.019558381748407933,
          -1.14647402617189,
          -0.404021923647996,
          1.568229747305797,
          -0.24645165455153217,
          -0.6262097196946964,
          -0.05591249799820535,
          -0.7880984538666626,
          -0.3981786045271425,
          0.27517191161803994,
          -0.14097619629212,
          -1.084856018251397,
          -0.656195770569436,
          0.12914902967403624,
          -0.23140801626771437,
          -0.8183863541808555,
          0.9306690750559232,
          -0.8928596700855063,
          -0.6354100460754873,
          -0.7647695729863675,
          0.025740483885479875,
          -0.39124761465679264,
          0.031649538278026544,
          -0.6754704216445732,
          -0.6926913954287436,
          -0.5957685862866499,
          -0.53793628996768,
          -0.057801420065927284,
          -0.2809359340117685,
          -1.0272201324724324,
          -0.8764990549520215,
          0.03893706446648228,
          -0.7512846720635175,
          -0.8473641104966051,
          -0.9384934263344097,
          -0.720188698827268,
          1.141266189481521,
          -0.7609455868135321,
          1.6586931514039847,
          0.7139417442550907,
          -0.23935042682956228,
          -0.8586185952903539,
          -0.8230996308270636,
          1.9638757770430844,
          0.3024793383560936,
          2.690189948950709,
          -0.9091592543043819,
          -0.7553637980319211,
          -0.10388083910278438,
          -0.7035419307586451,
          -0.5863887681481371,
          0.11663991105497692,
          2.0173684979781425,
          0.25579676082883707,
          2.4294518355639236,
          1.226116855871536,
          1.7128884477139896,
          3.003424806244039,
          3.1969502800402103,
          2.027313830514629,
          0.38835023158585347,
          2.5572772315923076,
          2.372984256300525,
          1.368471412671402,
          1.0898966206113236,
          -0.37428275852544746,
          -0.6151447799477122,
          -0.3132118017257995,
          -0.2942390466545593,
          -0.7048457309183658,
          -0.7650675049429377,
          -0.6582478464759646,
          -0.9411115053505169,
          0.9714848776646804,
          -0.9801838515403577,
          -0.8166290290958171,
          -0.584891926309688,
          -0.6882243364643101,
          -0.7708657639295486,
          0.5757082896926311,
          -0.6645573757270978,
          -0.39162487816150315,
          -0.8952725613840359,
          -0.7972359024292355,
          -0.8371840584700334,
          0.23753595673807282,
          0.48398438447540126,
          -0.760416278685759,
          0.5925418630564531,
          0.12264830902505121,
          -0.505574705728972,
          0.30430832169803407,
          -0.6109872888203066,
          -0.9463660179154598,
          -0.263332099556127,
          0.0015776336489703002,
          -0.5856981928393264,
          -1.0954509300685715,
          -0.5212324366128631,
          -1.0787178317773305,
          1.224928328121946,
          -1.0263888693097891,
          0.4875568319120273,
          0.3058830248409588,
          -0.6856728142265427,
          0.3584490008665229,
          -0.2608779684113242,
          -1.0068163308540008,
          -0.7936331303202337,
          0.34270538173939025,
          0.1377126479261479,
          -0.2107368769861868,
          1.872973903789676,
          0.8484186498716947,
          -0.20124148330315525,
          -0.6092861548137324,
          -0.5406617491737072,
          -0.6214316903320221,
          -0.5012677526916253,
          -0.09275036426168123,
          -0.6231531412889935,
          -0.8070260071242641,
          -0.8052673339698979,
          -0.8553612343994819,
          -0.15019579830509672,
          -0.4848023955146604,
          -0.7727399999240282,
          -0.6182926204002702,
          -0.6085249718011766,
          -0.6637646563190202,
          -0.3321187045066638,
          -0.8298793835050836,
          -1.100158985495271,
          -0.9693283066463222,
          -0.2623401846205675,
          -0.4526482004032657,
          -0.5592565658248808,
          -0.636635387762919,
          -0.5121929370050343,
          -0.22716156804258006,
          -0.5150405042621131,
          -0.13618846007803395,
          -0.422437206155212,
          1.3718269535906094,
          -0.6982616794420362,
          -0.28089734910140485,
          1.398331325699343,
          -0.3293333976362617,
          -0.17445892173039151,
          0.2966202078573746,
          -0.6857760027549773,
          0.4071940013598516,
          -0.7528229396368975,
          0.5728191567242922,
          -0.13313375950277448,
          -0.38041274113851536,
          -0.8918285640607199,
          0.34310706890983084,
          -0.6694402106751799,
          -0.7224798974802799,
          -0.597807978886799,
          -0.16632856853874767,
          -0.6183607621077094,
          -0.7398787820117797,
          -0.5045297577093496,
          -0.14555623458041364,
          -0.6807687933227932,
          -0.7190231538044184,
          -0.8762894019220093,
          -1.0224639512485887,
          -0.9470842228244591,
          -0.3986081070847728,
          -0.7855987020468411,
          -0.22825022937753492,
          -0.6750167482874533,
          0.3045365716488159,
          -0.9742329479769032,
          -0.8539527599641812,
          -0.3526987714661146,
          -0.06842072036552962,
          1.6188958056309481,
          -0.798826523182179,
          0.7599923027605145,
          0.004921289744094267,
          2.7074139930937164,
          -0.5591840127679732,
          2.5892793154102,
          0.9861879482995247,
          -0.3670070405988154,
          -0.8124817919887706,
          -0.4486957769390939,
          -0.6316215062986107,
          -0.7496457316840739,
          -0.7017523699921489,
          -0.7423608722656737,
          -0.1737661620249183,
          -0.5209513719519204,
          -0.4543209618858833,
          -0.76921799334838,
          -0.8704981921824847,
          -0.5721975670782183,
          1.929599518270966,
          0.8787095735953189,
          0.5908922882205753,
          -0.12214783580239683,
          1.5105671408369097,
          1.1919808196919757,
          -0.4054269641060645,
          1.9034398969387998,
          -0.7275206429451987,
          -0.10622378293650706,
          -0.5827653904350107,
          -0.38331646640154665,
          -0.8074409870021039,
          -0.5453169491304457,
          -0.8201491993443468,
          1.1267626491182734,
          -0.7149113062073181,
          -0.7635263671450206,
          -0.7481941934488303,
          -0.5394110575016494,
          -0.8627822986817645,
          -0.6085953112904128,
          -0.4148005728250701,
          -0.9349671342653367,
          -0.8422326332352054,
          -0.3683439835804096,
          -0.8814322403689528,
          -0.7783837015553084,
          0.419622073898065,
          -0.9088947074201857,
          -0.5572880044723146,
          -0.7401731673702854,
          -0.7608425053914298,
          -0.5138580606028118,
          -0.7800101662554002,
          -0.2466584564312192,
          -0.7277189046704816,
          -0.07147586420884391,
          -0.8377197433740234,
          -0.6514056507716164,
          -0.6862304313847308,
          -0.942859761581803,
          -0.009733840493851136,
          -0.606916684906539,
          0.18796867225143235,
          2.855053648518466,
          1.3799345606351452,
          -0.13756311388865516,
          -0.18470716935727682,
          -0.588943788967233,
          1.7051789021035766,
          -0.7079978670518533,
          -0.47853697964518405,
          -0.09088987972498824,
          -0.48675849169672586,
          -0.5945295880692867,
          -0.9094615662874971,
          -1.0022962745807942,
          -0.8890962605692002,
          -0.9193768553973918,
          -0.6798403897627587,
          2.1119575510818707,
          1.1446504067371115,
          -0.5091581723537599,
          -1.0216076691052653,
          -0.5335228613330939,
          -0.9206587622211666,
          -0.11347094172575112,
          -0.878069980492264,
          -0.14474085025953115,
          -1.0413131841275267,
          -0.6163755423657192,
          -0.7755421413442152,
          0.33011302778426305,
          -0.7136874832683499,
          -0.48857765462710945,
          -0.438671227790911,
          -0.4369936259910387,
          -0.5693370393673823,
          -0.4725890408184133,
          -0.6099017254030703,
          -0.5562023999242395,
          -0.4846926191233134,
          -0.27069969060697946,
          -0.3114957250660069,
          2.782428339199471,
          -0.7907712270302981,
          -0.6260952377775106,
          -0.6818690607620848,
          -0.9480432910278209,
          -0.9618515809320097,
          -0.800845948338899,
          -0.40603664396177774,
          -0.6782852270397067,
          -0.5438668222707755,
          -0.5914700737770837,
          0.4154656440496706,
          -0.7946321608906118,
          -1.1400633031017586,
          -0.7320780206628905,
          1.7828743470871469,
          0.23717580126667548,
          -0.7744563711707357,
          0.37571742772315847,
          0.7934929528955668,
          -0.47362590833798085,
          -0.8038017830157784,
          -0.5274089989704573,
          -0.8550809222560785,
          -0.33144121598622495,
          -0.8497021933873316,
          -0.7507890150254327,
          -0.6103248978725335,
          -0.6114766059843542,
          0.35847850365643275,
          -0.896563250490394,
          0.15226982120884827,
          -0.7667157749206089,
          -0.22797931599668683,
          -0.5173414498682095,
          -0.30789402937160687,
          -0.8413589977394358,
          -0.7714077784390465,
          -0.07427733287709153,
          -0.9863881662552413,
          -0.12126808594931482,
          -0.29459195441337094,
          -0.7835350048665943,
          -0.7027860303191307,
          1.3558668648540715,
          3.1193877887733397,
          -0.12111097250532561,
          -0.8967724713771948,
          0.027445754048234697,
          0.9496314774674457,
          -0.8593353565638837,
          -0.297265632263238,
          -0.08460863825631432,
          -0.7400057954822234,
          -0.7033439636859876,
          -0.5837634126072855,
          -0.30833648495190974,
          -0.3510843051524176,
          -0.8463786290100817,
          -0.5558329086601129,
          -0.6777636244762439,
          -0.3675909251716688,
          0.8226369943907155,
          -0.09537693339733275,
          -0.3335986579371063,
          1.2034000582673288,
          -0.5070400565493437,
          -0.8871211239393577,
          -0.7343855089891316,
          -0.14077950275163403,
          -0.7116952790360934,
          -0.7542416720363945,
          -0.6136116768197776,
          -0.8119971553242975,
          -0.05970825139347877,
          -0.7170680903979997,
          0.7145851415180553,
          -0.36129755805783353,
          0.6278154413555931,
          0.3054688670700001,
          -0.8340926371817499,
          -0.22284082760737509,
          -0.5725517277064456,
          -0.2327235759033051,
          0.35695317710147334,
          -0.2603318982954096,
          1.7925399543509155,
          -0.8029774756879314,
          -0.6791244795677902,
          0.30466812138635574,
          -0.7090507470196249,
          -0.5571745573147054,
          -0.14307038226823648,
          0.30572827812279935,
          -0.04559779888934772,
          -0.21632496345599952,
          -0.17088728390430716,
          -0.6675641914740658,
          0.05921789258101975,
          -0.6506269317857905,
          -0.7994249850778004,
          0.3061042974203524,
          -0.39981698647118136,
          0.6546877170987744,
          -0.7478862285370407,
          -0.7278493497205252,
          -0.8229307125112867,
          -0.6718843677887734,
          3.0598540467968585,
          1.1829029185214468,
          -1.0797911868680163,
          -0.5637600434514014,
          1.5097758435463289,
          -0.7521078215596528,
          1.0458721693553852,
          -0.6633900828504837,
          -0.5494193703198335,
          0.00944676778789373,
          1.6046745713884454,
          -0.4533599627868876,
          -1.066782536813762,
          -0.6571139263464201,
          -0.5964815188926694,
          -0.5764486936535244,
          -0.7564698588129005,
          -0.5169318482894211,
          -0.41402997359608884,
          -1.1302998912334157,
          -0.4989898276271516,
          -1.0741411376148093,
          -0.04851698337358377,
          -0.9402063116904564,
          -0.8769490582726298,
          -0.3827907579096374,
          -0.6823959372312375,
          -0.5447913777895749,
          0.18854151455639656,
          0.8943561447470534,
          -0.08193648600675273,
          0.19653503599067595,
          -0.9041153671452652,
          -0.3938397707419131,
          0.39304449173212075,
          0.20713544882066762,
          3.1030315595484086,
          -0.679704664808489,
          -0.828602593777924,
          0.13088738563245897,
          -0.7823024799101321,
          -0.306126102608063,
          -0.7404181071794413,
          -0.45207478499702447,
          -0.7227962697306536,
          -0.48370562606215084,
          -0.7613389549584458,
          0.7511552362470996,
          -0.7845484530072211,
          -0.7900367658229129,
          -0.5110232985312774,
          -0.9405827902708714,
          0.8017351969001338,
          0.005065608284161889,
          3.2300905736328684,
          0.7501016681079483,
          -0.04982923309240584,
          -0.8333361573602073,
          0.3236597247853652,
          -0.36530525603489405,
          -0.6147389845470987,
          -0.658877852652261,
          -0.6221532556178699,
          0.30027057824113934,
          -0.37037886553199945,
          -0.6501706795653981,
          -0.927176802518585,
          -0.7127496691768305,
          -0.8226613615558961,
          -1.101516275134053,
          0.9071672915179531,
          -0.4177074013793588,
          -0.8772798363251456,
          2.85895475937891,
          2.5082887651746244,
          2.7297831604419516,
          0.646918932967069,
          -0.552278759976475,
          -0.04098773096404012,
          -0.70746841354403,
          -0.14945428853923165,
          -0.2917575084429022,
          0.1768388713827667,
          0.36360833799795744,
          -0.7547022224026061,
          -0.37357942059414684,
          -0.23453064449222719,
          -0.6718230260379685,
          -0.9297502130742641,
          -0.491735783060544,
          -0.8496907116528033,
          -0.14550966782926053,
          -0.12118581486795266,
          0.5590998816136291,
          -0.28411416876867285,
          0.24536259385220952,
          0.02573168876697772,
          -0.5393684041562307,
          -0.031592782873949336,
          0.049313853915880064,
          0.28461149705804867,
          0.3097410253916336,
          -0.12793062968768767,
          -0.23730965930260278,
          0.47807219220448155,
          -0.6946744769002594,
          -0.7062407288956555,
          -0.5712713015062961,
          -0.7326441517180179,
          -0.8984315600791483,
          -0.6771442785690057,
          -0.5979853947032782,
          -0.7767239282128763,
          -0.8487801612490435,
          -0.9812726904916487,
          -0.5375979201809263,
          1.2774334970523042,
          -0.553064892359496,
          -0.39423648990475746,
          -0.11050810387463936,
          0.17021055441705035,
          0.4559245148430877,
          -1.1017991144092874,
          -0.7852134305059054,
          -0.4981997749415766,
          0.11487423608995431,
          1.9398741037576714,
          -0.21754238888618643,
          -0.15292257118232683,
          -0.15405508316450137,
          -0.46543331709090824,
          -0.3633194288490822,
          -0.5328160948453652,
          0.005613143488338623,
          -0.5286045644320285,
          0.03513014346231926,
          -0.3014814195674536,
          1.176549583835371,
          0.4046285181548446,
          -0.5052735426318721,
          0.20147413969356792,
          -0.7823915125164217,
          0.3499434605194817,
          4.183041253771847,
          0.176059921625893,
          0.5649809283772198,
          0.20882537788054734,
          -0.012406692533556122,
          -0.6003092563050182,
          0.4029038987978938,
          -0.6415310602339903,
          -0.07430029279692364,
          2.3982711080180366,
          2.206018282658015,
          -0.6323597735240498,
          0.3801429228462421,
          -0.6609703616777064,
          -0.9752463293414793,
          0.4098425328194555,
          2.3009159256138325,
          -0.6230611875341497,
          0.14195699168650466,
          -0.6498425682554718,
          0.2724272530337014,
          0.34227921470071787,
          1.5590112085691863,
          1.784125714298802,
          3.496231755774579,
          1.9432456095127049,
          1.8767969960184523,
          0.028100145800792273,
          -0.06271115760212284,
          1.9835469136977522,
          0.23104904022302272,
          -0.5750901643521678,
          -0.532396289947634,
          1.039180574775749,
          -0.5733267328024513,
          -0.8540108010707245,
          -1.0284994044229772,
          -0.7415223622276348,
          -1.0193015580515148,
          -0.5605020553353669,
          0.3387833516733708,
          -0.7632293616322601,
          -0.10777037150907531,
          -0.7366956589218374,
          -0.32803893711334214,
          -0.7430004288542899,
          1.8897065839100937,
          0.7579997288894245,
          0.7214858353203892,
          0.08992216461980494,
          -0.03245311031189457,
          1.3648455825240726,
          -0.7314288843562164,
          3.3358407553298717,
          3.3872392122562567,
          3.6041839126339426,
          3.2579868552910165,
          1.0240515946104785,
          2.672654731926711,
          3.670456347545175,
          2.8226582547170977,
          2.116077398644687,
          0.134625827732498,
          3.4716472202619104,
          -0.7072285315858711,
          1.7167583706583784,
          2.668621028527684,
          0.4985401211285446,
          0.8852514309138698,
          1.5260249161337787,
          -0.035708144546709036,
          0.22246707106791383,
          1.411370492000901,
          0.2121943872102167,
          -0.40123065197609664,
          -0.741199435932464,
          2.4796456939160603,
          1.8781711669400334,
          0.3329696964201364,
          1.622315305471213,
          2.8500439710566576,
          0.019903524464048788,
          0.27450119824241725,
          2.0133896358970964,
          -0.37411932604406617,
          3.107984067794873,
          -0.3010570451781957,
          1.6262745917526518,
          1.4394381985748412,
          -0.34896693135829343,
          0.5211424917516667,
          0.6958136784397208,
          0.34101993661809066,
          -0.4585417617405888,
          -0.6931303128606214,
          -0.2832863464953953,
          -0.16460193403307305,
          -0.6103857280630143,
          0.8887241487492562,
          2.1299630422737708,
          2.0309622108585637,
          -0.11472293154505979,
          0.7808359104990368,
          0.8182397129902294,
          0.828934711235054,
          2.687203049974733,
          -0.22444490417869203,
          0.3322058823523914,
          -0.35600864331953463,
          -0.4637703987542723,
          2.5787540897369094,
          0.9761266849896687,
          1.5419905286376128,
          0.32565556635085646,
          0.19766266248374903,
          -0.6555532876598367,
          -0.7526387682070492,
          -0.7594259715206757,
          -0.12087244043460185,
          1.3332167461939575,
          1.8289530389048683,
          1.12124478136432,
          -0.4021246232518765,
          0.44643156941712075,
          -0.3494622369163649,
          0.8514414702936022,
          0.16327502415676784,
          -0.14336577848571183,
          -0.30827864402985716,
          1.6884749328598665,
          1.5533657249056327,
          0.8779090579169773,
          -0.13431932582771597,
          -0.48445008170641085,
          0.6596240695251601,
          0.22257656627382885,
          1.001484350973133,
          1.150937975503139,
          2.2090001681224534,
          0.34031468974660556,
          0.09923351213741878,
          -0.4234613781896042,
          1.670734663662219,
          1.7142563644601767,
          1.2161728379552355,
          -0.6588954527670956,
          -0.5760689096975913,
          -0.5082447570215535,
          1.6121178012099286,
          0.05894278086190345,
          -0.48097994975264746,
          0.8693056948609393,
          -0.8085867056821471,
          -0.948889483030121,
          0.17432398039829353,
          0.7377114078639159,
          -0.5934786372367408,
          -0.6914051377365702,
          0.056281490469958007,
          -0.4521365995883389,
          -0.5576526914635522,
          1.9001811985070167,
          -0.1937425314856537,
          -0.042592299616472325,
          2.3783120576302124,
          1.758906470257411,
          0.21975510298168696,
          -0.0860662029900896,
          -0.08932229347885023,
          -0.19557060291562692,
          -0.0926901866583232,
          0.5552492855053094,
          -0.03130874226450371,
          0.7020623724907709,
          -0.3193587793884923,
          1.6701161385660024,
          0.5492995509973828,
          -0.5555947174105178,
          1.5833747624063454,
          0.7275482222283574,
          3.0937993456728923,
          0.30291703551453947,
          -0.528582076403175,
          0.21349787256696626,
          2.6235270692053136,
          0.22881019227001625,
          -0.6399957867589168,
          -0.9041227646302975,
          1.7170592406461298,
          0.07076908312079337,
          -0.4230739604676778,
          -0.5234401242381598,
          0.6472505516932048,
          0.2910725409973339,
          1.6222919386867936,
          2.4419969764605702,
          -0.5915946927904028,
          -0.9725378432585304,
          -0.7933056864902002,
          -0.7694747168128263,
          -0.8153672872803268,
          -0.7085571500333347,
          -0.7512621036889745,
          1.762991521729196,
          0.6910217331319747,
          -0.45793138427317465,
          1.1392931011133858,
          -0.8711229231933354,
          -0.8340991597786376,
          -0.474504893101528,
          -0.22637912723959494,
          -0.8099450488718066,
          0.703546601927505,
          -0.15122764297005076,
          -0.3007020874153657,
          1.3535971546578556,
          -0.33922116139884995,
          -0.8026435995040849,
          0.3816927051822804,
          -0.34539423888815574,
          0.5379319492880885,
          0.9904776397145827,
          0.9204368790461138,
          -0.6024229752667266,
          -0.6497127683589846,
          -0.33220731818082644,
          -1.0554376366450842,
          -0.5064036190051375,
          0.5146488932947711,
          -0.49397628088262413,
          -1.1346425883566673,
          -0.630306181870046,
          0.40604237875726173,
          -0.4660547224669456,
          -0.7467427585532034,
          -0.9861898520850897,
          -1.0351224043599354,
          -0.870488359263439,
          -0.33818588153926493,
          -0.1106405253330267,
          -0.398685103075044,
          -0.8717113135843683,
          -0.5358861914549837,
          -0.3232710701868432,
          0.20524536898975423,
          -0.17049961917091697,
          -0.4813663085084733,
          -0.4449688350748593,
          -0.43254559843396156,
          -0.748876674405239,
          0.3484461243708902
         ],
         "xaxis": "x",
         "y": [
          0.40540175468082335,
          -1.2126388829210315,
          -0.6910304591531188,
          1.0181041911246802,
          0.4951713947411494,
          -0.374674942717841,
          -2.2429115565271105,
          -2.303610882128672,
          -2.0792541905698467,
          1.5314646083136594,
          2.0609907497556446,
          0.1520210144654517,
          0.2174840252508893,
          -1.1697571908117512,
          1.3172222685078996,
          -0.6843917998010909,
          -0.12248759001901575,
          -0.9108016037408659,
          0.45069708159539973,
          0.8479272846335331,
          0.09113685079215003,
          -0.9704961048435836,
          -0.807133965194624,
          -0.09568610538084649,
          -0.3050063809113068,
          -0.33815326106296784,
          -1.1295658269838937,
          0.8411927811086012,
          -0.604000000667191,
          0.8250534462007194,
          -0.29536693094518107,
          -1.0929288355407563,
          1.1965292833193837,
          -1.4505815024672166,
          0.22285816379695966,
          3.0848704985065853,
          -0.1857685861232419,
          0.01956754935588573,
          1.1162809120941726,
          0.6926586722423076,
          0.894285471397726,
          -0.16089167172487112,
          0.3606845302958247,
          0.8102723653419962,
          2.116780084404498,
          0.7017189373885933,
          0.06412039973410685,
          0.6656219915123844,
          -0.6425280654239914,
          1.5287598523882582,
          -0.5635463604760109,
          -0.6561226098280516,
          -0.5584329401975173,
          -0.8136971856565481,
          -0.6182170107200281,
          -0.4946981760027209,
          0.2485740912050423,
          -0.45122223820518237,
          -0.5994419763806712,
          -0.544562570474705,
          2.8112307567196373,
          -0.6782336860322572,
          0.33208885888712836,
          -0.1646230663095787,
          -0.19712266639151954,
          -1.2078075614965254,
          2.053003494010874,
          -2.2025771470880495,
          -0.10781702665903202,
          0.6601503041351345,
          0.968240028466173,
          0.2675618756338038,
          0.6215409367632057,
          0.11347751346921459,
          0.42199940981740125,
          -0.6324443893181396,
          0.04183450674834083,
          -0.5499551530035068,
          -0.5892919535121193,
          -0.13831679933661178,
          -0.11249849901357305,
          -0.6957100413963931,
          -0.21804639168872922,
          -1.0888162032073514,
          -0.24907333377164667,
          -0.9329188249473571,
          -0.4050101138956285,
          -0.7692255646892884,
          -0.4369847829117351,
          1.1363640903317838,
          0.3022529866647211,
          0.47562331694533216,
          0.10102913692450662,
          0.6059463807171193,
          -0.27708186352637737,
          3.70527025633438,
          -1.3143036116671942,
          0.840347211356046,
          0.45395031100485095,
          -0.04327657321116495,
          0.8846510615180346,
          2.649484099891453,
          -0.532376867709907,
          0.3718457836055747,
          0.5994437386396982,
          0.19746117590746487,
          -0.6807424071395172,
          -0.783076022724004,
          -1.0499445977184798,
          -2.0974549667898303,
          -0.3965202755603746,
          3.3456401490195717,
          0.7975653955487094,
          1.8516295923898212,
          0.019118567015407407,
          -1.689169958716815,
          -0.1145627535128721,
          3.095142753542065,
          -0.7100001566247868,
          0.132540308731644,
          1.347711536907382,
          -0.30540776254978286,
          -0.2201307059403235,
          0.7714464754365872,
          -0.7164016168085574,
          -0.7454706375532761,
          -0.11282041588971513,
          -0.41936776733398323,
          -0.862957616688548,
          -0.03574159469620501,
          1.0198401760907945,
          -0.7988919224684593,
          0.47094109453498445,
          -0.42335644625121766,
          -0.6548447345424457,
          3.08967211410613,
          -1.229264419635276,
          -0.5270730825494216,
          0.4085370372650336,
          0.030909315020188434,
          0.22821695837362502,
          3.199145311828553,
          -1.6185486744053001,
          0.5811765310795173,
          -0.23581220897134253,
          0.26164543398527945,
          1.4182922635608786,
          0.29415689641173165,
          -0.010265085212201165,
          -0.14356978908053278,
          0.5650425000337972,
          0.11856102237370596,
          -0.4802098386086749,
          -0.5557525148088452,
          0.28184104195005494,
          -0.18110388292056445,
          -1.1686135123236843,
          -0.7266941507696625,
          2.005481618936918,
          0.40383036474173717,
          -0.5217280685308294,
          0.9052711655791348,
          0.06596187217637343,
          2.3161330106349807,
          1.0662854897324223,
          1.871062645509369,
          0.4981198701609702,
          0.6785809119410278,
          -1.1957402430445236,
          -0.7272452931347718,
          -0.7821719720522073,
          -0.7240693317840768,
          -0.2545408746372381,
          -0.983947313278911,
          0.5295123620184482,
          -0.8837109088092067,
          -0.5861073491110068,
          -0.3357942349461858,
          0.10644084284578226,
          -0.5473548046329195,
          0.9412431480373021,
          0.22099821266137104,
          -0.9112714842625017,
          -0.47808571722672893,
          -1.807872422133672,
          0.23523020415414192,
          0.5660610885659918,
          1.8305920534643658,
          -0.0755670764731315,
          -0.07052118242084722,
          0.22775355736016453,
          0.29665980756096744,
          -0.2629222956364208,
          -0.7710093879976349,
          -0.9600746952533271,
          -1.633278849312123,
          0.15089065583184771,
          -0.8986147054692495,
          -0.4204580267593088,
          -1.3604389676398163,
          -0.47903407184129093,
          -2.0118963537537633,
          -1.2144902918543945,
          -0.1257963347560695,
          -0.9481265776849702,
          1.6892328681618758,
          -2.361086040241766,
          0.6059508989702439,
          -0.855863122185084,
          2.0466033653597107,
          -0.3594949408914222,
          -2.2890096953412984,
          -1.1258566528977858,
          0.10220700583890756,
          -0.03489048526627326,
          -0.5196241533693725,
          0.1817054375605688,
          -0.5212631757808971,
          -0.11949987153747396,
          0.6456107823765964,
          -0.1665066505392135,
          -0.05784599360976017,
          0.5673142993674803,
          0.29902425061778803,
          2.2730239853032446,
          2.782020276761162,
          -0.3706271503132738,
          1.337187689626992,
          -1.3056466476605209,
          -0.6855242837832771,
          -0.9564317792776414,
          0.3714297419548979,
          1.2579194342067057,
          0.9554682210917848,
          -1.4090854518757765,
          0.56606724780626,
          -1.1615002926548772,
          0.14756294950131013,
          -0.982343982108133,
          0.11452297610382449,
          -0.661175840716225,
          0.12422619090918592,
          0.8249531156228931,
          0.92051711020348,
          0.04609567239663694,
          -0.02535359628300423,
          0.603228437019605,
          0.09639137734960256,
          -0.6825871467774842,
          1.6150541760215826,
          0.28518050517125276,
          1.6756358235293929,
          1.2532985245636843,
          0.9323355374971614,
          0.15700222352189908,
          1.0437658647218675,
          0.4424505893365173,
          0.6473542321589985,
          0.33404374470657267,
          -0.2504110981686573,
          -0.5451626305252625,
          -0.48067619669317274,
          0.07188714435503653,
          -0.5497058439862462,
          -1.7599819248916964,
          2.3554399237656805,
          0.3581954346752487,
          -0.8703292971346068,
          -0.22482609077547913,
          -0.7277256643505547,
          -0.6510228421884716,
          -0.6240871824423637,
          0.20290507555539175,
          -0.7353367405753798,
          0.32533621484625735,
          -2.3851047789089965,
          -1.0905643275875885,
          1.01665948936115,
          0.9856404428631362,
          0.2916522441551223,
          -1.7964914546821655,
          -0.7589688664588573,
          -0.8424153196297497,
          -0.1992401062521846,
          -1.5850685674983738,
          -0.8674060224636959,
          -1.271857968806259,
          -0.0075355996065743745,
          0.984546735230864,
          -0.03157184195665522,
          -0.8068690971832765,
          0.11853391486458603,
          1.120522723627282,
          -0.16573206768085424,
          -0.589707249946485,
          -0.13767963906333905,
          -0.8639530929244158,
          -0.0427712452417877,
          -0.9425296284506244,
          0.6373508947919545,
          2.2684345596471593,
          0.7768407751065123,
          -0.34177465219404235,
          0.7435272024438182,
          0.32859293237981907,
          0.4807578511274359,
          0.287159156575661,
          -0.5382115738360295,
          -2.4721814686568684,
          -0.5689035072215741,
          -0.2845420141544225,
          0.5511780704582294,
          -0.9569102523244837,
          -0.5069525312055907,
          -1.663538300771334,
          0.08995883519273931,
          1.4149893492288135,
          0.8162100161050174,
          -0.8257322098747467,
          0.8667273448126187,
          0.36588033000730663,
          -2.0767580228841465,
          -0.7314114632387769,
          -0.4218013072166464,
          -0.5067961127247271,
          -0.3277782450913588,
          1.7721559433381417,
          1.0922213629754836,
          0.6259218826348295,
          -0.3573772256849006,
          0.3873685095005142,
          0.13561250015692478,
          0.8779576303943175,
          -0.9998078090805244,
          -0.913179735621842,
          -0.324989925140841,
          0.495247284060329,
          1.0528962749264903,
          0.015836176964296653,
          -0.8562375085129688,
          -0.16047965034810632,
          2.2530627791397313,
          0.628807979951768,
          1.0002087545849114,
          0.3575498774441079,
          -0.39633796569044566,
          -0.5177483672014415,
          0.15617811368074047,
          1.4256589285802104,
          0.47065006522138886,
          0.6317642851053276,
          0.551882216259714,
          0.23968320615111718,
          -0.7008422619201972,
          -0.0812822909081296,
          -0.8095903550670505,
          -1.3015040192029275,
          -0.9427175027240076,
          -0.27573908707318484,
          -0.44723137422339404,
          -0.3989219366835001,
          0.5906116150689691,
          0.4121362238799342,
          1.0160246805372672,
          -0.5371401879152571,
          -0.17423820127238618,
          0.19002789697435368,
          -0.12836207333750185,
          -1.2126986695956727,
          0.15932930055629552,
          -0.7748353315431125,
          -0.02941724556265865,
          0.471051010629214,
          -1.1910487411021855,
          -0.4097142093043715,
          -0.09299458852638517,
          -0.8545814065676623,
          -1.6426701070566183,
          0.0334309892055927,
          0.0713394873336587,
          1.078242388126627,
          -0.011032511564728712,
          -0.5740476881766851,
          -0.23966190573267823,
          0.9444759698387183,
          -0.3530990849399002,
          -0.7651858241062354,
          1.8474978595901532,
          -0.10149223340196895,
          0.8424061967710863,
          1.1201810766566114,
          -0.9785786687402167,
          -2.0692209943800757,
          -1.8259786893981123,
          -0.18725692270865582,
          -0.2468892208456237,
          0.015368308454426986,
          -0.6040343086900345,
          -0.1830415977036184,
          0.34836483794064227,
          -0.6926310331996725,
          -0.6700893366885666,
          -0.6300437290182903,
          -0.23140330021926553,
          -0.7252743428360209,
          0.9580013896981514,
          -1.172547980822494,
          -0.12145346017612012,
          0.04226817949078896,
          0.5622508098981346,
          0.47949300850705573,
          -0.5782817756760327,
          -1.2173586668180427,
          0.6779343037321744,
          0.28606825477890785,
          0.6849130089120633,
          -0.4646754841864624,
          -0.6977259388601587,
          0.2657449400197065,
          0.6202146808456548,
          -1.3224975529564365,
          -0.1550570119679565,
          -1.0626147440293732,
          0.2281472657933147,
          0.3567969981554099,
          -0.07133440671990333,
          -0.4280171731119252,
          -0.3797016543751673,
          -0.24531262556401864,
          0.3185752424117586,
          0.25385220926795204,
          -0.26169933737587664,
          -0.5363050840043301,
          1.7038923940335262,
          1.4021011539315824,
          -2.128703015692711,
          0.4660898305332744,
          -2.3155022828605274,
          2.217464055928672,
          0.07188402854450171,
          -0.2990334591399014,
          0.809523459901567,
          -0.028114568445779996,
          -0.25504994765789724,
          3.401519644873065,
          -0.14443115680605942,
          -1.9954832887661937,
          2.636121308522986,
          -0.2788203665467802,
          1.3997153710013197,
          -0.5012584831261483,
          -0.6434537409046719,
          0.011472906853185087,
          0.6331328228966835,
          0.13625482893084287,
          0.012940134816156874,
          0.7769554455984755,
          -1.0884442294831165,
          -0.2466475841625811,
          1.0789946504941468,
          0.875174154166216,
          0.4090871233709992,
          0.23648648215171564,
          0.883530417154925,
          -0.42324056668509186,
          0.3485262462085369,
          0.08053317692551586,
          -0.2058471293387473,
          -0.4447016847140964,
          -0.015170377968788114,
          0.8860839639858324,
          0.3811117591543125,
          -0.6938200884119348,
          1.0635346093238573,
          -0.26326758643592274,
          1.046714995896957,
          0.6138272461210168,
          0.20499838225182682,
          1.0388645370702398,
          1.4111381821121292,
          1.5115662651300072,
          0.4829383821536803,
          0.33510807087170275,
          0.4784738357562958,
          0.49689951288961653,
          0.21554887052649147,
          -1.322626733045751,
          0.6825599057265197,
          0.4212575769649583,
          -0.03190245371525746,
          0.3730304303843891,
          1.1641030412081634,
          0.6201619975222814,
          -1.933676292055529,
          2.419217895141114,
          -0.13911965300478246,
          2.8298788810528466,
          1.7209046052667507,
          2.2721721999747784,
          1.1796242561950994,
          0.21009744224529578,
          -0.5421555670129722,
          -0.7485495457855453,
          -0.39798337879427,
          0.28714000592469807,
          1.3997887270117981,
          0.5148850025041363,
          2.61026742351493,
          -0.779592166297656,
          -0.1517300127808401,
          0.0512369316820263,
          -0.7459687088819185,
          -0.1962224827235793,
          -1.0230507908247253,
          -0.9273139078013997,
          -0.5643701316340461,
          -0.7490000236044564,
          1.951636976855376,
          -0.1932347760292301,
          -2.2286680696473047,
          -0.5652356778266326,
          -0.31218140536037225,
          -0.18066531894519214,
          -0.04215946734977119,
          -0.8273360605196879,
          -0.40875050515723044,
          0.13734352823092372,
          1.0633506866819291,
          -1.2008215364687655,
          -0.1906269552303972,
          0.8185940360157793,
          0.6452358459778017,
          1.5080316645276146,
          -0.1342613216044468,
          0.34349116862396306,
          0.47399730493658276,
          -0.4084601401294046,
          -0.988404399869598,
          -0.24259906944589948,
          -0.18481850994604657,
          0.35272494426261636,
          -0.1880829642231443,
          1.0128024799954822,
          -0.18047092920327612,
          -0.7277743766376947,
          -0.5064417437769031,
          -0.11076698366561621,
          -0.9240508195069479,
          -0.9744034026617266,
          -0.07290674806533337,
          -1.0621553481120438,
          -0.6621011680304939,
          -0.2526410480444895,
          1.5918694121826698,
          -1.149148133957861,
          0.7074861254267103,
          -0.583024997349851,
          -0.15482492623378077,
          -1.2182426857479574,
          -1.9541515179092823,
          -0.7770350685333495,
          -1.060723142030304,
          -0.7586877788603253,
          -1.0835450045416528,
          -0.8572366439702558,
          1.1104192841864162,
          0.14803690033577996,
          -2.082716333780857,
          -1.637036021604109,
          -1.0988580409720854,
          0.32152749020785193,
          -0.5183054805794585,
          -0.5131123084020646,
          0.6974472324687828,
          2.6888001358557543,
          -0.6332119097360323,
          0.5418092579990392,
          -0.9474629784293762,
          -0.7885515076168005,
          0.3961612837920197,
          -0.7332203566258898,
          -0.4809624631514945,
          -0.7337001903979159,
          0.6055908850498655,
          1.1034172509581812,
          -1.5060378098888845,
          -0.6011231122889039,
          -0.5989754521317963,
          -2.1974611122245573,
          -0.8775839098106848,
          0.29139399131990257,
          -0.03396574245768948,
          -0.6532884913609835,
          0.014000454657536606,
          -1.0100399639216064,
          -0.8965338523537664,
          0.19337640279694884,
          -1.102376061021978,
          0.5722422789807933,
          -1.4336338584155166,
          0.30720537270963055,
          0.08752044066366325,
          0.00401673308331067,
          -0.7606481772920219,
          0.24552258866558466,
          0.16512207153914696,
          -0.7159031682505361,
          -0.6642378995327853,
          -0.24822885564711278,
          -0.35552638373053036,
          -0.5107225974260835,
          -2.0252497843427433,
          2.1664209624161903,
          1.4691948756458828,
          1.863180551315014,
          1.5060387102693034,
          0.7839995622784854,
          1.0404287243800723,
          1.863704932750016,
          1.2750152986711476,
          1.3241613081625254,
          -0.7205254152221126,
          -1.6742248391069081,
          0.45930422918329483,
          -0.6034722541490921,
          -0.176820740810262,
          -0.4187986017182272,
          -0.01978663537145715,
          0.41477282685609485,
          0.14917291902751253,
          0.9281393680712363,
          -0.16794749048122398,
          1.7181602086798653,
          0.37425518579888706,
          0.2683945706501267,
          -0.4822037954140682,
          -0.13022732735894987,
          1.6541163168267112,
          2.1768878122932738,
          -0.6155558469072531,
          -0.4731099500527355,
          -0.43611239842936544,
          0.044234066856338405,
          -0.3630069886943921,
          0.7526700534522897,
          0.13688839009615733,
          -0.520524303399282,
          -0.5321636260177228,
          0.6434736823677014,
          -0.8370386294176215,
          -0.5596724348520171,
          -0.39504197940666563,
          -0.11431180596492771,
          -0.27081643457171944,
          -0.285067979425493,
          -0.13298921598551527,
          -1.190892787666912,
          0.6637695676392211,
          0.3064139319026261,
          -0.015421058497018796,
          -0.5262448728468786,
          0.015315977673515717,
          -1.201400061956921,
          1.8724307449810995,
          0.9052745759040081,
          -0.7800658625311562,
          -0.40032876534790474,
          0.12795310637511856,
          0.2700429796122514,
          0.33207884634788903,
          -0.671090622469271,
          -0.5734094370745553,
          -0.2453807933413318,
          -0.43474127203799323,
          -0.16886319246010775,
          -0.7199555442134871,
          0.16766847432658044,
          -0.2884823689680568,
          -0.24167540363268167,
          -0.1700495698365006,
          -0.2643917819130959,
          0.9637800757851985,
          0.03790029694076308,
          0.6199026427268467,
          -0.8585815552932938,
          -0.31521159797610054,
          -0.6539080184850782,
          -0.6541290586316527,
          0.22847006022110505,
          -0.8676824453209192,
          -1.3136441503280438,
          -1.5883719730713395,
          -0.3151026462227426,
          -0.7285148592101887,
          -0.3362477904252728,
          -0.6854644363029202,
          -1.118604155272777,
          -1.067944955810113,
          -0.5270307255168976,
          -0.6912878002135611,
          0.5261246850791399,
          -0.5992688772062134,
          -0.12075177644143617,
          3.225707933419049,
          -0.5083489187806025,
          -0.3180193339883561,
          -0.33932347307409333,
          0.4792412538432544,
          2.138219445096772,
          1.3972443170246949,
          -0.21514690200289452,
          -0.10960138135971247,
          -0.0181653849228272,
          1.7760702663298,
          2.8465279585284518,
          -0.23792811395511115,
          -0.30114890124487614,
          -1.065803863545445,
          -0.9150944730454381,
          -0.872809379968383,
          -0.6916574585678715,
          -0.9549355799314131,
          -0.7377710619505528,
          -0.9235746724359332,
          2.9316908695613084,
          -0.5170344516484798,
          -0.42661158571192076,
          0.9326520907224475,
          0.9201759138293167,
          0.09343068900736397,
          3.0455345189857757,
          1.9374484703635486,
          -0.5813759181816051,
          1.6422109651180712,
          -0.5034835757571388,
          0.35875352751309264,
          -0.6165939367700282,
          1.0400813336831785,
          1.5986762167172222,
          1.200350063723683,
          0.7501165207432255,
          -1.1824728357546024,
          -1.3330242023478882,
          -0.02056295072343262,
          -0.4281325798153959,
          -0.15288636180192233,
          0.1321602873064974,
          -1.3955387088447693,
          -1.4029180263353276,
          -0.42771895755232536,
          0.8719920981700648,
          2.7459210409496477,
          1.5133302586458628,
          -0.014674629370551803,
          -0.04634913927777724,
          -2.2127138722100415,
          -1.5644536342733684,
          0.035682576151474896,
          0.022587179101374942,
          0.6554219232386829,
          0.9392926300098846,
          -0.4324669492533094,
          -0.463975390423505,
          2.8103122350346834,
          -0.2153555704840507,
          -0.576775284474052,
          -0.0498601601573671,
          -0.12456049042796938,
          0.18308948288492055,
          1.080756861668389,
          -0.13303934627440084,
          -0.7241436127900459,
          -1.1062167037425437,
          -0.39131713238906257,
          -0.6547512146839473,
          -0.21979924301393228,
          0.3102638250713939,
          -0.9862779448060471,
          -0.30729501691952915,
          -0.7909885799086164,
          -0.6785473075638571,
          -0.23432757982973856,
          0.8339967863847155,
          1.4465990001719522,
          1.1501473218450082,
          -0.1504038708320235,
          1.5828212384118228,
          -0.28903920978307135,
          0.7579374584798577,
          -2.052783830512834,
          0.5739149921774167,
          1.0545992985862365,
          -0.8229822350069398,
          0.49099130980347055,
          0.44033839548778186,
          -0.2100228781285746,
          0.13051272738248543,
          0.5283201696715929,
          -0.4398381874195937,
          -1.9621433840727136,
          0.15246741789065887,
          1.2738608255462547,
          -0.44604657487240823,
          -0.6757630731157844,
          0.9206295133206779,
          -0.9587348904743643,
          1.1541704842051836,
          -0.19991059031729513,
          0.6352345741772208,
          -0.7521913121036017
         ],
         "yaxis": "y"
        }
       ],
       "layout": {
        "coloraxis": {
         "colorbar": {
          "title": {
           "text": "ACT Composite 75th percentile"
          }
         },
         "colorscale": [
          [
           0,
           "#0d0887"
          ],
          [
           0.1111111111111111,
           "#46039f"
          ],
          [
           0.2222222222222222,
           "#7201a8"
          ],
          [
           0.3333333333333333,
           "#9c179e"
          ],
          [
           0.4444444444444444,
           "#bd3786"
          ],
          [
           0.5555555555555556,
           "#d8576b"
          ],
          [
           0.6666666666666666,
           "#ed7953"
          ],
          [
           0.7777777777777778,
           "#fb9f3a"
          ],
          [
           0.8888888888888888,
           "#fdca26"
          ],
          [
           1,
           "#f0f921"
          ]
         ]
        },
        "legend": {
         "tracegroupgap": 0
        },
        "template": {
         "data": {
          "bar": [
           {
            "error_x": {
             "color": "#2a3f5f"
            },
            "error_y": {
             "color": "#2a3f5f"
            },
            "marker": {
             "line": {
              "color": "#E5ECF6",
              "width": 0.5
             },
             "pattern": {
              "fillmode": "overlay",
              "size": 10,
              "solidity": 0.2
             }
            },
            "type": "bar"
           }
          ],
          "barpolar": [
           {
            "marker": {
             "line": {
              "color": "#E5ECF6",
              "width": 0.5
             },
             "pattern": {
              "fillmode": "overlay",
              "size": 10,
              "solidity": 0.2
             }
            },
            "type": "barpolar"
           }
          ],
          "carpet": [
           {
            "aaxis": {
             "endlinecolor": "#2a3f5f",
             "gridcolor": "white",
             "linecolor": "white",
             "minorgridcolor": "white",
             "startlinecolor": "#2a3f5f"
            },
            "baxis": {
             "endlinecolor": "#2a3f5f",
             "gridcolor": "white",
             "linecolor": "white",
             "minorgridcolor": "white",
             "startlinecolor": "#2a3f5f"
            },
            "type": "carpet"
           }
          ],
          "choropleth": [
           {
            "colorbar": {
             "outlinewidth": 0,
             "ticks": ""
            },
            "type": "choropleth"
           }
          ],
          "contour": [
           {
            "colorbar": {
             "outlinewidth": 0,
             "ticks": ""
            },
            "colorscale": [
             [
              0,
              "#0d0887"
             ],
             [
              0.1111111111111111,
              "#46039f"
             ],
             [
              0.2222222222222222,
              "#7201a8"
             ],
             [
              0.3333333333333333,
              "#9c179e"
             ],
             [
              0.4444444444444444,
              "#bd3786"
             ],
             [
              0.5555555555555556,
              "#d8576b"
             ],
             [
              0.6666666666666666,
              "#ed7953"
             ],
             [
              0.7777777777777778,
              "#fb9f3a"
             ],
             [
              0.8888888888888888,
              "#fdca26"
             ],
             [
              1,
              "#f0f921"
             ]
            ],
            "type": "contour"
           }
          ],
          "contourcarpet": [
           {
            "colorbar": {
             "outlinewidth": 0,
             "ticks": ""
            },
            "type": "contourcarpet"
           }
          ],
          "heatmap": [
           {
            "colorbar": {
             "outlinewidth": 0,
             "ticks": ""
            },
            "colorscale": [
             [
              0,
              "#0d0887"
             ],
             [
              0.1111111111111111,
              "#46039f"
             ],
             [
              0.2222222222222222,
              "#7201a8"
             ],
             [
              0.3333333333333333,
              "#9c179e"
             ],
             [
              0.4444444444444444,
              "#bd3786"
             ],
             [
              0.5555555555555556,
              "#d8576b"
             ],
             [
              0.6666666666666666,
              "#ed7953"
             ],
             [
              0.7777777777777778,
              "#fb9f3a"
             ],
             [
              0.8888888888888888,
              "#fdca26"
             ],
             [
              1,
              "#f0f921"
             ]
            ],
            "type": "heatmap"
           }
          ],
          "heatmapgl": [
           {
            "colorbar": {
             "outlinewidth": 0,
             "ticks": ""
            },
            "colorscale": [
             [
              0,
              "#0d0887"
             ],
             [
              0.1111111111111111,
              "#46039f"
             ],
             [
              0.2222222222222222,
              "#7201a8"
             ],
             [
              0.3333333333333333,
              "#9c179e"
             ],
             [
              0.4444444444444444,
              "#bd3786"
             ],
             [
              0.5555555555555556,
              "#d8576b"
             ],
             [
              0.6666666666666666,
              "#ed7953"
             ],
             [
              0.7777777777777778,
              "#fb9f3a"
             ],
             [
              0.8888888888888888,
              "#fdca26"
             ],
             [
              1,
              "#f0f921"
             ]
            ],
            "type": "heatmapgl"
           }
          ],
          "histogram": [
           {
            "marker": {
             "pattern": {
              "fillmode": "overlay",
              "size": 10,
              "solidity": 0.2
             }
            },
            "type": "histogram"
           }
          ],
          "histogram2d": [
           {
            "colorbar": {
             "outlinewidth": 0,
             "ticks": ""
            },
            "colorscale": [
             [
              0,
              "#0d0887"
             ],
             [
              0.1111111111111111,
              "#46039f"
             ],
             [
              0.2222222222222222,
              "#7201a8"
             ],
             [
              0.3333333333333333,
              "#9c179e"
             ],
             [
              0.4444444444444444,
              "#bd3786"
             ],
             [
              0.5555555555555556,
              "#d8576b"
             ],
             [
              0.6666666666666666,
              "#ed7953"
             ],
             [
              0.7777777777777778,
              "#fb9f3a"
             ],
             [
              0.8888888888888888,
              "#fdca26"
             ],
             [
              1,
              "#f0f921"
             ]
            ],
            "type": "histogram2d"
           }
          ],
          "histogram2dcontour": [
           {
            "colorbar": {
             "outlinewidth": 0,
             "ticks": ""
            },
            "colorscale": [
             [
              0,
              "#0d0887"
             ],
             [
              0.1111111111111111,
              "#46039f"
             ],
             [
              0.2222222222222222,
              "#7201a8"
             ],
             [
              0.3333333333333333,
              "#9c179e"
             ],
             [
              0.4444444444444444,
              "#bd3786"
             ],
             [
              0.5555555555555556,
              "#d8576b"
             ],
             [
              0.6666666666666666,
              "#ed7953"
             ],
             [
              0.7777777777777778,
              "#fb9f3a"
             ],
             [
              0.8888888888888888,
              "#fdca26"
             ],
             [
              1,
              "#f0f921"
             ]
            ],
            "type": "histogram2dcontour"
           }
          ],
          "mesh3d": [
           {
            "colorbar": {
             "outlinewidth": 0,
             "ticks": ""
            },
            "type": "mesh3d"
           }
          ],
          "parcoords": [
           {
            "line": {
             "colorbar": {
              "outlinewidth": 0,
              "ticks": ""
             }
            },
            "type": "parcoords"
           }
          ],
          "pie": [
           {
            "automargin": true,
            "type": "pie"
           }
          ],
          "scatter": [
           {
            "fillpattern": {
             "fillmode": "overlay",
             "size": 10,
             "solidity": 0.2
            },
            "type": "scatter"
           }
          ],
          "scatter3d": [
           {
            "line": {
             "colorbar": {
              "outlinewidth": 0,
              "ticks": ""
             }
            },
            "marker": {
             "colorbar": {
              "outlinewidth": 0,
              "ticks": ""
             }
            },
            "type": "scatter3d"
           }
          ],
          "scattercarpet": [
           {
            "marker": {
             "colorbar": {
              "outlinewidth": 0,
              "ticks": ""
             }
            },
            "type": "scattercarpet"
           }
          ],
          "scattergeo": [
           {
            "marker": {
             "colorbar": {
              "outlinewidth": 0,
              "ticks": ""
             }
            },
            "type": "scattergeo"
           }
          ],
          "scattergl": [
           {
            "marker": {
             "colorbar": {
              "outlinewidth": 0,
              "ticks": ""
             }
            },
            "type": "scattergl"
           }
          ],
          "scattermapbox": [
           {
            "marker": {
             "colorbar": {
              "outlinewidth": 0,
              "ticks": ""
             }
            },
            "type": "scattermapbox"
           }
          ],
          "scatterpolar": [
           {
            "marker": {
             "colorbar": {
              "outlinewidth": 0,
              "ticks": ""
             }
            },
            "type": "scatterpolar"
           }
          ],
          "scatterpolargl": [
           {
            "marker": {
             "colorbar": {
              "outlinewidth": 0,
              "ticks": ""
             }
            },
            "type": "scatterpolargl"
           }
          ],
          "scatterternary": [
           {
            "marker": {
             "colorbar": {
              "outlinewidth": 0,
              "ticks": ""
             }
            },
            "type": "scatterternary"
           }
          ],
          "surface": [
           {
            "colorbar": {
             "outlinewidth": 0,
             "ticks": ""
            },
            "colorscale": [
             [
              0,
              "#0d0887"
             ],
             [
              0.1111111111111111,
              "#46039f"
             ],
             [
              0.2222222222222222,
              "#7201a8"
             ],
             [
              0.3333333333333333,
              "#9c179e"
             ],
             [
              0.4444444444444444,
              "#bd3786"
             ],
             [
              0.5555555555555556,
              "#d8576b"
             ],
             [
              0.6666666666666666,
              "#ed7953"
             ],
             [
              0.7777777777777778,
              "#fb9f3a"
             ],
             [
              0.8888888888888888,
              "#fdca26"
             ],
             [
              1,
              "#f0f921"
             ]
            ],
            "type": "surface"
           }
          ],
          "table": [
           {
            "cells": {
             "fill": {
              "color": "#EBF0F8"
             },
             "line": {
              "color": "white"
             }
            },
            "header": {
             "fill": {
              "color": "#C8D4E3"
             },
             "line": {
              "color": "white"
             }
            },
            "type": "table"
           }
          ]
         },
         "layout": {
          "annotationdefaults": {
           "arrowcolor": "#2a3f5f",
           "arrowhead": 0,
           "arrowwidth": 1
          },
          "autotypenumbers": "strict",
          "coloraxis": {
           "colorbar": {
            "outlinewidth": 0,
            "ticks": ""
           }
          },
          "colorscale": {
           "diverging": [
            [
             0,
             "#8e0152"
            ],
            [
             0.1,
             "#c51b7d"
            ],
            [
             0.2,
             "#de77ae"
            ],
            [
             0.3,
             "#f1b6da"
            ],
            [
             0.4,
             "#fde0ef"
            ],
            [
             0.5,
             "#f7f7f7"
            ],
            [
             0.6,
             "#e6f5d0"
            ],
            [
             0.7,
             "#b8e186"
            ],
            [
             0.8,
             "#7fbc41"
            ],
            [
             0.9,
             "#4d9221"
            ],
            [
             1,
             "#276419"
            ]
           ],
           "sequential": [
            [
             0,
             "#0d0887"
            ],
            [
             0.1111111111111111,
             "#46039f"
            ],
            [
             0.2222222222222222,
             "#7201a8"
            ],
            [
             0.3333333333333333,
             "#9c179e"
            ],
            [
             0.4444444444444444,
             "#bd3786"
            ],
            [
             0.5555555555555556,
             "#d8576b"
            ],
            [
             0.6666666666666666,
             "#ed7953"
            ],
            [
             0.7777777777777778,
             "#fb9f3a"
            ],
            [
             0.8888888888888888,
             "#fdca26"
            ],
            [
             1,
             "#f0f921"
            ]
           ],
           "sequentialminus": [
            [
             0,
             "#0d0887"
            ],
            [
             0.1111111111111111,
             "#46039f"
            ],
            [
             0.2222222222222222,
             "#7201a8"
            ],
            [
             0.3333333333333333,
             "#9c179e"
            ],
            [
             0.4444444444444444,
             "#bd3786"
            ],
            [
             0.5555555555555556,
             "#d8576b"
            ],
            [
             0.6666666666666666,
             "#ed7953"
            ],
            [
             0.7777777777777778,
             "#fb9f3a"
            ],
            [
             0.8888888888888888,
             "#fdca26"
            ],
            [
             1,
             "#f0f921"
            ]
           ]
          },
          "colorway": [
           "#636efa",
           "#EF553B",
           "#00cc96",
           "#ab63fa",
           "#FFA15A",
           "#19d3f3",
           "#FF6692",
           "#B6E880",
           "#FF97FF",
           "#FECB52"
          ],
          "font": {
           "color": "#2a3f5f"
          },
          "geo": {
           "bgcolor": "white",
           "lakecolor": "white",
           "landcolor": "#E5ECF6",
           "showlakes": true,
           "showland": true,
           "subunitcolor": "white"
          },
          "hoverlabel": {
           "align": "left"
          },
          "hovermode": "closest",
          "mapbox": {
           "style": "light"
          },
          "paper_bgcolor": "white",
          "plot_bgcolor": "#E5ECF6",
          "polar": {
           "angularaxis": {
            "gridcolor": "white",
            "linecolor": "white",
            "ticks": ""
           },
           "bgcolor": "#E5ECF6",
           "radialaxis": {
            "gridcolor": "white",
            "linecolor": "white",
            "ticks": ""
           }
          },
          "scene": {
           "xaxis": {
            "backgroundcolor": "#E5ECF6",
            "gridcolor": "white",
            "gridwidth": 2,
            "linecolor": "white",
            "showbackground": true,
            "ticks": "",
            "zerolinecolor": "white"
           },
           "yaxis": {
            "backgroundcolor": "#E5ECF6",
            "gridcolor": "white",
            "gridwidth": 2,
            "linecolor": "white",
            "showbackground": true,
            "ticks": "",
            "zerolinecolor": "white"
           },
           "zaxis": {
            "backgroundcolor": "#E5ECF6",
            "gridcolor": "white",
            "gridwidth": 2,
            "linecolor": "white",
            "showbackground": true,
            "ticks": "",
            "zerolinecolor": "white"
           }
          },
          "shapedefaults": {
           "line": {
            "color": "#2a3f5f"
           }
          },
          "ternary": {
           "aaxis": {
            "gridcolor": "white",
            "linecolor": "white",
            "ticks": ""
           },
           "baxis": {
            "gridcolor": "white",
            "linecolor": "white",
            "ticks": ""
           },
           "bgcolor": "#E5ECF6",
           "caxis": {
            "gridcolor": "white",
            "linecolor": "white",
            "ticks": ""
           }
          },
          "title": {
           "x": 0.05
          },
          "xaxis": {
           "automargin": true,
           "gridcolor": "white",
           "linecolor": "white",
           "ticks": "",
           "title": {
            "standoff": 15
           },
           "zerolinecolor": "white",
           "zerolinewidth": 2
          },
          "yaxis": {
           "automargin": true,
           "gridcolor": "white",
           "linecolor": "white",
           "ticks": "",
           "title": {
            "standoff": 15
           },
           "zerolinecolor": "white",
           "zerolinewidth": 2
          }
         }
        },
        "title": {
         "font": {
          "size": 25
         },
         "text": "PCA of ACT Composite 75th percentile on 2019-2020 IPEDS Data"
        },
        "xaxis": {
         "anchor": "y",
         "domain": [
          0,
          1
         ],
         "tickfont": {
          "size": 20
         },
         "title": {
          "font": {
           "size": 20
          },
          "text": "pca0"
         }
        },
        "yaxis": {
         "anchor": "x",
         "domain": [
          0,
          1
         ],
         "tickfont": {
          "size": 20
         },
         "title": {
          "font": {
           "size": 20
          },
          "text": "pca1"
         }
        }
       }
      },
      "text/html": [
       "<div>                            <div id=\"4c372e9f-4f72-4ac0-aef2-36d8a2538ea1\" class=\"plotly-graph-div\" style=\"height:525px; width:100%;\"></div>            <script type=\"text/javascript\">                require([\"plotly\"], function(Plotly) {                    window.PLOTLYENV=window.PLOTLYENV || {};                                    if (document.getElementById(\"4c372e9f-4f72-4ac0-aef2-36d8a2538ea1\")) {                    Plotly.newPlot(                        \"4c372e9f-4f72-4ac0-aef2-36d8a2538ea1\",                        [{\"customdata\":[[\"Abilene Christian University\",3352.0],[\"Abraham Baldwin Agricultural College\",2480.0],[\"Adams State University\",1362.0],[\"Adelphi University\",5063.0],[\"Adrian College\",1723.0],[\"AdventHealth University\",390.0],[\"Alabama A & M University\",4975.0],[\"Alabama State University\",3446.0],[\"Alcorn State University\",2729.0],[\"Allegheny College\",1713.0],[\"American University\",8207.0],[\"Anderson University\",1213.0],[\"Anderson University\",2544.0],[\"Andrew College\",188.0],[\"Andrews University\",1352.0],[\"Angelo State University\",5469.0],[\"Appalachian Bible College\",173.0],[\"Appalachian State University\",16622.0],[\"Aquinas College\",1196.0],[\"Arcadia University\",1929.0],[\"Arizona Christian University\",713.0],[\"Arizona State University Campus Immersion\",41182.0],[\"Arkansas State University\",6439.0],[\"Art Academy of Cincinnati\",204.0],[\"Ashland University\",2687.0],[\"Auburn University\",22527.0],[\"Auburn University at Montgomery\",3505.0],[\"Augsburg University\",2178.0],[\"Augusta University\",4562.0],[\"Augustana University\",1727.0],[\"Aurora University\",3679.0],[\"Austin Peay State University\",6773.0],[\"Azusa Pacific University\",4411.0],[\"Bacone College\",235.0],[\"Baker University\",1092.0],[\"Barnard College\",2584.0],[\"Barry University\",3015.0],[\"Barton College\",990.0],[\"Baylor University\",13906.0],[\"Becker College\",1321.0],[\"Bellarmine University\",2416.0],[\"Belmont Abbey College\",1388.0],[\"Belmont University\",6563.0],[\"Benedictine University\",2131.0],[\"Bentley University\",4177.0],[\"Bethany Lutheran College\",591.0],[\"Bethel University\",1018.0],[\"Bethel University\",2327.0],[\"Bethel University\",2300.0],[\"Biola University\",3772.0],[\"Black Hills State University\",1945.0],[\"Blackburn College\",467.0],[\"Bloomfield College\",1516.0],[\"Bloomsburg University of Pennsylvania\",7263.0],[\"Blue Mountain College\",590.0],[\"Bluefield University\",781.0],[\"Bluffton University\",626.0],[\"Boise Bible College\",74.0],[\"Boise State University\",13104.0],[\"Boston Baptist College\",32.0],[\"Boston University\",16978.0],[\"Bowling Green State University-Main Campus\",12936.0],[\"Bradley University\",4508.0],[\"Brenau University\",1105.0],[\"Brewton-Parker College\",484.0],[\"Brigham Young University\",28288.0],[\"Brigham Young University-Hawaii\",2851.0],[\"Brigham Young University-Idaho\",18448.0],[\"Buena Vista University\",1257.0],[\"Bushnell University\",450.0],[\"Butler University\",4509.0],[\"Cairn University-Langhorne\",809.0],[\"Caldwell University\",1609.0],[\"California Baptist University\",7333.0],[\"California Polytechnic State University-San Luis Obispo\",19685.0],[\"California State Polytechnic University-Humboldt\",6087.0],[\"California State Polytechnic University-Pomona\",23596.0],[\"California State University-Chico\",15000.0],[\"California State University-Fresno\",18901.0],[\"California State University-Fullerton\",28820.0],[\"California State University-Long Beach\",28752.0],[\"California State University-Los Angeles\",19729.0],[\"California State University-Monterey Bay\",6055.0],[\"California State University-Northridge\",29320.0],[\"California State University-Sacramento\",24105.0],[\"California State University-San Bernardino\",16549.0],[\"California State University-San Marcos\",12155.0],[\"California University of Pennsylvania\",3979.0],[\"Calvary University\",216.0],[\"Calvin University\",3234.0],[\"Campbell University\",3257.0],[\"Capital University\",2400.0],[\"Capitol Technology University\",340.0],[\"Cardinal Stritch University\",721.0],[\"Carlow University\",1037.0],[\"Carnegie Mellon University\",6425.0],[\"Carolina University\",254.0],[\"Carroll College\",1140.0],[\"Carroll University\",2767.0],[\"Carson-Newman University\",1716.0],[\"Carthage College\",2548.0],[\"Case Western Reserve University\",5237.0],[\"Castleton University\",1694.0],[\"Cedarville University\",3438.0],[\"Centenary College of Louisiana\",541.0],[\"Centenary University\",1038.0],[\"Central Baptist College\",546.0],[\"Central Connecticut State University\",7253.0],[\"Central Michigan University\",12798.0],[\"Central State University\",1919.0],[\"Central Washington University\",9977.0],[\"Chaminade University of Honolulu\",1334.0],[\"Champlain College\",2447.0],[\"Chapman University\",7046.0],[\"Charleston Southern University\",2558.0],[\"Chicago State University\",1361.0],[\"Citadel Military College of South Carolina\",2688.0],[\"Claremont McKenna College\",1340.0],[\"Clarion University of Pennsylvania\",2992.0],[\"Clarke University\",645.0],[\"Clarkson University\",3012.0],[\"Cleary University\",339.0],[\"Clemson University\",19486.0],[\"Cleveland Institute of Art\",633.0],[\"Cleveland State University\",9097.0],[\"Coastal Carolina University\",8810.0],[\"Coker University\",920.0],[\"College of Charleston\",8762.0],[\"College of Coastal Georgia\",1997.0],[\"College of Our Lady of the Elms\",997.0],[\"College of Saint Benedict\",1731.0],[\"Colorado Mesa University\",6972.0],[\"Colorado School of Mines\",4930.0],[\"Colorado State University Pueblo\",2985.0],[\"Colorado State University-Fort Collins\",22247.0],[\"Columbia University in the City of New York\",7701.0],[\"Columbus State University\",4554.0],[\"Concord University\",1436.0],[\"Concordia College\",1129.0],[\"Concordia University Texas\",1440.0],[\"Converse University\",761.0],[\"Cooper Union for the Advancement of Science and Art\",854.0],[\"Coppin State University\",1804.0],[\"Corban University\",888.0],[\"Cornerstone University\",1020.0],[\"Cottey College\",254.0],[\"Creighton University\",4325.0],[\"Crown College\",604.0],[\"Culver-Stockton College\",882.0],[\"Cumberland University\",1827.0],[\"Curry College\",1969.0],[\"D'Youville College\",1179.0],[\"Dakota State University\",1503.0],[\"Dallas Christian College\",146.0],[\"Davis & Elkins College\",751.0],[\"Defiance College\",464.0],[\"Delaware State University\",3790.0],[\"Delta State University\",1981.0],[\"DePauw University\",1943.0],[\"DeSales University\",1963.0],[\"Dickinson State University\",922.0],[\"DigiPen Institute of Technology\",1027.0],[\"Dominican University\",2011.0],[\"Dominican University of California\",1239.0],[\"Drake University\",2830.0],[\"Drexel University\",13878.0],[\"Drury University\",1444.0],[\"Duquesne University\",5732.0],[\"East Carolina University\",19204.0],[\"East Central University\",2471.0],[\"East Stroudsburg University of Pennsylvania\",4939.0],[\"East Tennessee State University\",9228.0],[\"East Texas Baptist University\",1230.0],[\"Eastern Kentucky University\",9908.0],[\"Eastern Mennonite University\",828.0],[\"Eastern Michigan University\",10572.0],[\"Eastern New Mexico University-Main Campus\",2400.0],[\"Eastern Oregon University\",1639.0],[\"Eastern University\",1328.0],[\"Eastern Washington University\",9498.0],[\"Eckerd College\",1958.0],[\"Edgewood College\",1191.0],[\"Edinboro University of Pennsylvania\",2998.0],[\"Edward Waters University\",862.0],[\"Elizabeth City State University\",1516.0],[\"Elizabethtown College\",1503.0],[\"Elmhurst University\",2722.0],[\"Emerson College\",3827.0],[\"Emmanuel College\",829.0],[\"Emmaus Bible College\",186.0],[\"Emory & Henry College\",988.0],[\"Erskine College\",771.0],[\"Eureka College\",480.0],[\"Fairmont State University\",2955.0],[\"Faulkner University\",1484.0],[\"Fayetteville State University\",4071.0],[\"Felician University\",1640.0],[\"Ferris State University\",7779.0],[\"Finlandia University\",370.0],[\"Fisk University\",822.0],[\"Fitchburg State University\",3164.0],[\"Florida Agricultural and Mechanical University\",6802.0],[\"Florida Atlantic University\",16678.0],[\"Florida College\",521.0],[\"Florida Gulf Coast University\",11211.0],[\"Florida Institute of Technology\",3169.0],[\"Florida International University\",28335.0],[\"Florida Southern College\",2537.0],[\"Florida State University\",29879.0],[\"Fordham University\",9229.0],[\"Fort Lewis College\",2862.0],[\"Fort Valley State University\",2059.0],[\"Francis Marion University\",2900.0],[\"Franciscan University of Steubenville\",2063.0],[\"Freed-Hardeman University\",1306.0],[\"Fresno Pacific University\",2442.0],[\"Friends University\",860.0],[\"Frostburg State University\",3522.0],[\"Gallaudet University\",1005.0],[\"Gannon University\",2775.0],[\"Gardner-Webb University\",1632.0],[\"Geneva College\",1116.0],[\"George Fox University\",2428.0],[\"George Mason University\",21672.0],[\"George Washington University\",11102.0],[\"Georgetown University\",7029.0],[\"Georgia College & State University\",5364.0],[\"Georgia Institute of Technology-Main Campus\",14310.0],[\"Georgia Southern University\",19172.0],[\"Georgia Southwestern State University\",1648.0],[\"Georgia State University\",21958.0],[\"Georgian Court University\",1417.0],[\"Gonzaga University\",5123.0],[\"Gordon College\",1440.0],[\"Gordon State College\",2228.0],[\"Goshen College\",751.0],[\"Governors State University\",1918.0],[\"Graceland University-Lamoni\",898.0],[\"Grand Valley State University\",18810.0],[\"Grand View University\",1586.0],[\"Greensboro College\",704.0],[\"Greenville University\",838.0],[\"Hamline University\",2008.0],[\"Hanover College\",1065.0],[\"Hardin-Simmons University\",1615.0],[\"Harding University\",3533.0],[\"Hastings College\",958.0],[\"Heidelberg University\",1043.0],[\"Henderson State University\",2718.0],[\"Hendrix College\",1101.0],[\"Hiram College\",808.0],[\"Hofstra University\",6156.0],[\"Hollins University\",659.0],[\"Holy Cross College\",430.0],[\"Holy Family University\",1696.0],[\"Holy Names University\",591.0],[\"Hope College\",2957.0],[\"Hope International University\",539.0],[\"Houston Baptist University\",2067.0],[\"Howard Payne University\",738.0],[\"Howard University\",6269.0],[\"Huntingdon College\",830.0],[\"Huntington University\",864.0],[\"Husson University\",2404.0],[\"Huston-Tillotson University\",1026.0],[\"Illinois Institute of Technology\",2882.0],[\"Indiana Institute of Technology\",1429.0],[\"Indiana University of Pennsylvania-Main Campus\",7695.0],[\"Indiana University-Bloomington\",31981.0],[\"Indiana University-Purdue University-Indianapolis\",17630.0],[\"Indiana University-South Bend\",3481.0],[\"Indiana University-Southeast\",3099.0],[\"Indiana Wesleyan University-Marion\",2528.0],[\"Iowa State University\",26713.0],[\"Iowa Wesleyan University\",560.0],[\"Jackson State University\",4126.0],[\"Jacksonville State University\",5942.0],[\"Jacksonville University\",2391.0],[\"John Carroll University\",2925.0],[\"John Paul the Great Catholic University\",262.0],[\"Johnson C Smith University\",1359.0],[\"Johnson University\",601.0],[\"Johnson University Florida\",170.0],[\"Judson University\",944.0],[\"Kennesaw State University\",25745.0],[\"Kent State University at Kent\",18432.0],[\"Kentucky State University\",1156.0],[\"Kentucky Wesleyan College\",803.0],[\"Kettering University\",1720.0],[\"King University\",1483.0],[\"Kutztown University of Pennsylvania\",6458.0],[\"Kuyper College\",103.0],[\"La Sierra University\",1476.0],[\"LaGrange College\",847.0],[\"Lake Superior State University\",1542.0],[\"Lakeland University\",803.0],[\"Lamar University\",5243.0],[\"Lancaster Bible College\",994.0],[\"Lander University\",2941.0],[\"Lawrence Technological University\",1677.0],[\"Lawrence University\",1348.0],[\"Le Moyne College\",2392.0],[\"Lee University\",3677.0],[\"Lenoir-Rhyne University\",1589.0],[\"Lesley University\",1599.0],[\"LeTourneau University\",1347.0],[\"Lewis University\",3542.0],[\"Lewis-Clark State College\",2172.0],[\"Liberty University\",28487.0],[\"Life Pacific University\",400.0],[\"Life University\",729.0],[\"LIM College\",1276.0],[\"Limestone University\",1647.0],[\"Lincoln Memorial University\",1427.0],[\"Lincoln University\",1901.0],[\"Lindenwood University\",5000.0],[\"Linfield University-McMinnville Campus\",1383.0],[\"Lipscomb University\",2679.0],[\"Lock Haven University\",2480.0],[\"Long Island University\",5630.0],[\"Loras College\",1264.0],[\"Louisburg College\",546.0],[\"Louisiana College\",890.0],[\"Louisiana State University and Agricultural & Mechanical College\",22726.0],[\"Louisiana Tech University\",8131.0],[\"Lourdes University\",858.0],[\"Loyola Marymount University\",6548.0],[\"Loyola University Chicago\",11622.0],[\"Loyola University New Orleans\",2876.0],[\"Lubbock Christian University\",1201.0],[\"Madonna University\",1645.0],[\"Malone University\",923.0],[\"Manhattan College\",3365.0],[\"Manor College\",453.0],[\"Mansfield University of Pennsylvania\",1484.0],[\"Maranatha Baptist University\",509.0],[\"Marian University\",2039.0],[\"Marquette University\",8175.0],[\"Mars Hill University\",987.0],[\"Marshall University\",7123.0],[\"Martin Luther College\",705.0],[\"Maryland Institute College of Art\",1666.0],[\"Marymount Manhattan College\",1660.0],[\"Marymount University\",1951.0],[\"Marywood University\",1649.0],[\"McMurry University\",1020.0],[\"McNeese State University\",5407.0],[\"McPherson College\",753.0],[\"MCPHS University\",3843.0],[\"Mercer University\",4260.0],[\"Meredith College\",1464.0],[\"Methodist University\",1500.0],[\"Miami University-Oxford\",16682.0],[\"Michigan State University\",35722.0],[\"Michigan Technological University\",5383.0],[\"Mid-Atlantic Christian University\",168.0],[\"Middle Georgia State University\",4904.0],[\"Middle Tennessee State University\",15721.0],[\"Midway University\",888.0],[\"Midwestern Baptist Theological Seminary\",362.0],[\"Midwestern State University\",4084.0],[\"Milligan University\",767.0],[\"Millikin University\",1919.0],[\"Milwaukee School of Engineering\",2478.0],[\"Minnesota State University Moorhead\",3787.0],[\"Minot State University\",1921.0],[\"Misericordia University\",1584.0],[\"Mississippi College\",2516.0],[\"Mississippi University for Women\",2026.0],[\"Missouri Baptist University\",1526.0],[\"Missouri State University-Springfield\",14005.0],[\"Missouri University of Science and Technology\",5692.0],[\"Monmouth University\",4301.0],[\"Montana State University\",12359.0],[\"Montana Technological University\",1369.0],[\"Montreat College\",613.0],[\"Morehouse College\",2145.0],[\"Morgan State University\",5759.0],[\"Mount Saint Joseph University\",1008.0],[\"Mount Saint Mary College\",1596.0],[\"Mount St. Mary's University\",1762.0],[\"Mount Vernon Nazarene University\",1670.0],[\"Murray State University\",6190.0],[\"Muskingum University\",1365.0],[\"New Jersey Institute of Technology\",6878.0],[\"New Mexico Institute of Mining and Technology\",1178.0],[\"New Mexico State University-Main Campus\",9740.0],[\"New York Institute of Technology\",3357.0],[\"Newberry College\",1225.0],[\"Newman University\",944.0],[\"Niagara University\",2692.0],[\"Nicholls State University\",4975.0],[\"North Carolina A & T State University\",10013.0],[\"North Carolina Central University\",5012.0],[\"North Carolina State University at Raleigh\",22820.0],[\"North Carolina Wesleyan College\",1600.0],[\"North Central University\",967.0],[\"North Dakota State University-Main Campus\",9638.0],[\"North Greenville University\",1758.0],[\"North Park University\",1723.0],[\"Northeastern State University\",4341.0],[\"Northern Kentucky University\",8243.0],[\"Northern Michigan University\",6191.0],[\"Northern State University\",1265.0],[\"Northwest Missouri State University\",4954.0],[\"Northwest University\",923.0],[\"Northwestern State University of Louisiana\",6340.0],[\"Northwood University\",1544.0],[\"Notre Dame College\",1130.0],[\"Nova Southeastern University\",4619.0],[\"Oakland City University\",609.0],[\"Oakland University\",12454.0],[\"Oakwood University\",1366.0],[\"Oglethorpe University\",1328.0],[\"Ohio Dominican University\",920.0],[\"Ohio Northern University\",2095.0],[\"Ohio State University-Main Campus\",42776.0],[\"Ohio University-Main Campus\",16209.0],[\"Ohio Valley University\",271.0],[\"Oklahoma City University\",1510.0],[\"Oklahoma State University-Main Campus\",17291.0],[\"Oklahoma Wesleyan University\",546.0],[\"Old Dominion University\",14702.0],[\"Olivet Nazarene University\",2855.0],[\"Oral Roberts University\",2714.0],[\"Oregon Institute of Technology\",2370.0],[\"Oregon State University\",18554.0],[\"Oregon State University-Cascades Campus\",471.0],[\"Ottawa University-Ottawa\",645.0],[\"Otterbein University\",2332.0],[\"Ouachita Baptist University\",1506.0],[\"Our Lady of the Lake University\",1244.0],[\"Ozark Christian College\",559.0],[\"Pacific Lutheran University\",2627.0],[\"Pacific Union College\",822.0],[\"Paine College\",395.0],[\"Palm Beach Atlantic University\",2264.0],[\"Paul Quinn College\",525.0],[\"Pepperdine University\",3320.0],[\"Pfeiffer University\",837.0],[\"Piedmont University\",1155.0],[\"Point Loma Nazarene University\",2611.0],[\"Point Park University\",2626.0],[\"Point University\",1109.0],[\"Pomona College\",1617.0],[\"Portland State University\",13949.0],[\"Prairie View A & M University\",7501.0],[\"Pratt Institute-Main\",3570.0],[\"Presentation College\",359.0],[\"Providence College\",3891.0],[\"Purdue University Fort Wayne\",5370.0],[\"Purdue University Northwest\",5561.0],[\"Purdue University-Main Campus\",32606.0],[\"Queens University of Charlotte\",1570.0],[\"Quincy University\",934.0],[\"Ramapo College of New Jersey\",4870.0],[\"Randolph-Macon College\",1520.0],[\"Regent University\",2333.0],[\"Reinhardt University\",1262.0],[\"Rider University\",3465.0],[\"Roanoke College\",1942.0],[\"Robert Morris University\",3500.0],[\"Roberts Wesleyan College\",1176.0],[\"Rochester Institute of Technology\",12254.0],[\"Rochester University\",658.0],[\"Rocky Mountain College\",829.0],[\"Roosevelt University\",1965.0],[\"Rosemont College\",390.0],[\"Rowan University\",14055.0],[\"Rutgers University-Camden\",4767.0],[\"Rutgers University-New Brunswick\",34285.0],[\"Rutgers University-Newark\",7975.0],[\"Saginaw Valley State University\",6348.0],[\"Saint Anselm College\",2014.0],[\"Saint Cloud State University\",6977.0],[\"Saint Edward's University\",3199.0],[\"Saint Francis University\",1466.0],[\"Saint John Fisher College\",2535.0],[\"Saint Johns University\",1604.0],[\"Saint Louis University\",6691.0],[\"Saint Martin's University\",1257.0],[\"Saint Mary's University of Minnesota\",1132.0],[\"Saint Mary-of-the-Woods College\",629.0],[\"Saint Norbert College\",1962.0],[\"Saint Vincent College\",1491.0],[\"Salem College\",473.0],[\"Sam Houston State University\",15311.0],[\"Samford University\",3509.0],[\"San Diego Christian College\",380.0],[\"San Diego State University\",27638.0],[\"San Francisco State University\",21687.0],[\"San Jose State University\",23593.0],[\"Savannah College of Art and Design\",10260.0],[\"Savannah State University\",2972.0],[\"School of the Art Institute of Chicago\",2804.0],[\"Schreiner University\",1087.0],[\"Scripps College\",1082.0],[\"Seattle Pacific University\",2636.0],[\"Seattle University\",4410.0],[\"Seton Hall University\",5782.0],[\"Shenandoah University\",1989.0],[\"Shepherd University\",2354.0],[\"Shippensburg University of Pennsylvania\",4861.0],[\"Shorter University\",1112.0],[\"Sierra Nevada University\",331.0],[\"Simmons University\",1607.0],[\"Simpson College\",1161.0],[\"Skidmore College\",2622.0],[\"Slippery Rock University of Pennsylvania\",6968.0],[\"Sonoma State University\",7416.0],[\"South Dakota School of Mines and Technology\",1870.0],[\"South Dakota State University\",7971.0],[\"Southeastern University\",4974.0],[\"Southern Arkansas University Main Campus\",3003.0],[\"Southern Connecticut State University\",6801.0],[\"Southern Illinois University-Carbondale\",7150.0],[\"Southern Illinois University-Edwardsville\",8615.0],[\"Southern Methodist University\",6519.0],[\"Southern Oregon University\",3184.0],[\"Southern University and A & M College\",4875.0],[\"Southern Utah University\",7097.0],[\"Southern Virginia University\",1015.0],[\"Southwest Baptist University\",1701.0],[\"Southwestern Adventist University\",537.0],[\"Southwestern Assemblies of God University\",1392.0],[\"Southwestern Christian University\",438.0],[\"Southwestern College\",678.0],[\"Southwestern University\",1495.0],[\"Spelman College\",2080.0],[\"Spring Arbor University\",1134.0],[\"Spring Hill College\",1143.0],[\"St Catherine University\",2004.0],[\"St. John's University-New York\",11525.0],[\"St. Mary's College of Maryland\",1411.0],[\"St. Mary's University\",2162.0],[\"St. Thomas University\",1246.0],[\"State University of New York at New Paltz\",6291.0],[\"Stephen F Austin State University\",9213.0],[\"Stephens College\",411.0],[\"Sterling College\",527.0],[\"Stevenson University\",2724.0],[\"Stockton University\",8459.0],[\"Stony Brook University\",16697.0],[\"SUNY at Purchase College\",3709.0],[\"SUNY Brockport\",5960.0],[\"SUNY College at Plattsburgh\",4420.0],[\"SUNY College of Environmental Science and Forestry\",1747.0],[\"SUNY College of Technology at Alfred\",3482.0],[\"SUNY College of Technology at Canton\",2784.0],[\"SUNY Cortland\",6170.0],[\"SUNY Morrisville\",2283.0],[\"SUNY Oneonta\",5942.0],[\"SUNY Polytechnic Institute\",1903.0],[\"Syracuse University\",14727.0],[\"Tarleton State University\",8211.0],[\"Taylor University\",1799.0],[\"Tennessee Technological University\",8004.0],[\"Tennessee Wesleyan University\",966.0],[\"Texas A & M International University\",5574.0],[\"Texas A & M University-College Station\",47667.0],[\"Texas A & M University-Commerce\",6177.0],[\"Texas A & M University-Corpus Christi\",7201.0],[\"Texas A & M University-Kingsville\",4670.0],[\"Texas A&M University-San Antonio\",3316.0],[\"Texas A&M University-Texarkana\",1248.0],[\"Texas Christian University\",9219.0],[\"Texas Lutheran University\",1380.0],[\"Texas Southern University\",6032.0],[\"Texas State University\",27923.0],[\"Texas Tech University\",28062.0],[\"Texas Wesleyan University\",1327.0],[\"Texas Woman's University\",7040.0],[\"The Baptist College of Florida\",226.0],[\"The King's College\",523.0],[\"The New School\",6697.0],[\"The University of Alabama\",29135.0],[\"The University of Findlay\",2189.0],[\"The University of Montana\",6163.0],[\"The University of Montana-Western\",1126.0],[\"The University of Tampa\",8441.0],[\"The University of Tennessee-Chattanooga\",9224.0],[\"The University of Tennessee-Knoxville\",22018.0],[\"The University of Texas at Arlington\",19441.0],[\"The University of Texas at Austin\",37515.0],[\"The University of Texas at Dallas\",17943.0],[\"The University of Texas at San Antonio\",22414.0],[\"The University of Texas at Tyler\",4764.0],[\"The University of Texas Permian Basin\",1862.0],[\"The University of Texas Rio Grande Valley\",19922.0],[\"The University of West Florida\",6612.0],[\"Thomas More University\",1295.0],[\"Toccoa Falls College\",911.0],[\"Towson University\",17209.0],[\"Trevecca Nazarene University\",1913.0],[\"Trinity Baptist College\",271.0],[\"Trinity Bible College and Graduate School\",147.0],[\"Trinity Christian College\",837.0],[\"Trinity College of Florida\",182.0],[\"Trinity International University-Illinois\",492.0],[\"Troy University\",8741.0],[\"Truett McConnell University\",852.0],[\"Truman State University\",4269.0],[\"Tusculum University\",1263.0],[\"Tuskegee University\",2254.0],[\"Union University\",1796.0],[\"University at Buffalo\",20401.0],[\"University of Akron Main Campus\",11641.0],[\"University of Alabama at Birmingham\",10315.0],[\"University of Alabama in Huntsville\",6749.0],[\"University of Alaska Fairbanks\",2596.0],[\"University of Arkansas\",20559.0],[\"University of Arkansas at Pine Bluff\",2161.0],[\"University of California-Berkeley\",29991.0],[\"University of California-Davis\",30171.0],[\"University of California-Irvine\",29797.0],[\"University of California-Los Angeles\",30969.0],[\"University of California-Merced\",8080.0],[\"University of California-Riverside\",21652.0],[\"University of California-San Diego\",29966.0],[\"University of California-Santa Barbara\",22846.0],[\"University of California-Santa Cruz\",16994.0],[\"University of Central Arkansas\",7634.0],[\"University of Central Florida\",42468.0],[\"University of Charleston\",1172.0],[\"University of Cincinnati-Main Campus\",23712.0],[\"University of Colorado Boulder\",28877.0],[\"University of Colorado Colorado Springs\",8168.0],[\"University of Colorado Denver/Anschutz Medical Campus\",8857.0],[\"University of Connecticut\",18229.0],[\"University of Connecticut-Stamford\",1846.0],[\"University of Dayton\",8046.0],[\"University of Delaware\",18378.0],[\"University of Denver\",5478.0],[\"University of Detroit Mercy\",2350.0],[\"University of Dubuque\",1554.0],[\"University of Florida\",32157.0],[\"University of Georgia\",28175.0],[\"University of Hawaii at Hilo\",2204.0],[\"University of Hawaii at Manoa\",10560.0],[\"University of Houston\",28368.0],[\"University of Houston-Clear Lake\",3358.0],[\"University of Idaho\",6749.0],[\"University of Illinois Chicago\",20195.0],[\"University of Illinois Springfield\",1853.0],[\"University of Illinois Urbana-Champaign\",32854.0],[\"University of Indianapolis\",4066.0],[\"University of Iowa\",21212.0],[\"University of Kentucky\",20622.0],[\"University of La Verne\",3353.0],[\"University of Louisiana at Lafayette\",11929.0],[\"University of Louisville\",11560.0],[\"University of Maine\",8060.0],[\"University of Maine at Fort Kent\",552.0],[\"University of Mary\",1869.0],[\"University of Mary Hardin-Baylor\",3113.0],[\"University of Mary Washington\",3694.0],[\"University of Maryland Eastern Shore\",2095.0],[\"University of Maryland-Baltimore County\",9436.0],[\"University of Maryland-College Park\",28390.0],[\"University of Massachusetts-Amherst\",22491.0],[\"University of Massachusetts-Dartmouth\",5465.0],[\"University of Massachusetts-Lowell\",10862.0],[\"University of Memphis\",12066.0],[\"University of Miami\",10701.0],[\"University of Michigan-Ann Arbor\",30204.0],[\"University of Michigan-Flint\",3633.0],[\"University of Minnesota-Duluth\",8535.0],[\"University of Minnesota-Morris\",1368.0],[\"University of Minnesota-Rochester\",536.0],[\"University of Minnesota-Twin Cities\",29939.0],[\"University of Mississippi\",15902.0],[\"University of Missouri-Columbia\",20676.0],[\"University of Missouri-Kansas City\",6487.0],[\"University of Missouri-St Louis\",5098.0],[\"University of Mobile\",1106.0],[\"University of Mount Olive\",1494.0],[\"University of Mount Union\",1994.0],[\"University of Nebraska at Kearney\",3827.0],[\"University of Nebraska-Lincoln\",19132.0],[\"University of Nevada-Las Vegas\",19523.0],[\"University of Nevada-Reno\",14788.0],[\"University of New England\",2425.0],[\"University of New Hampshire-Main Campus\",11960.0],[\"University of New Haven\",4625.0],[\"University of New Mexico-Main Campus\",12705.0],[\"University of New Orleans\",4905.0],[\"University of North Alabama\",4901.0],[\"University of North Carolina at Asheville\",3036.0],[\"University of North Carolina at Chapel Hill\",18528.0],[\"University of North Carolina at Charlotte\",20877.0],[\"University of North Carolina at Greensboro\",14007.0],[\"University of North Carolina at Pembroke\",5109.0],[\"University of North Carolina School of the Arts\",901.0],[\"University of North Carolina Wilmington\",12480.0],[\"University of North Dakota\",7628.0],[\"University of North Florida\",10757.0],[\"University of North Georgia\",13103.0],[\"University of North Texas\",26055.0],[\"University of Northern Colorado\",7752.0],[\"University of Northern Iowa\",8228.0],[\"University of Northwestern-St Paul\",2073.0],[\"University of Oklahoma-Norman Campus\",18996.0],[\"University of Oregon\",17419.0],[\"University of Pennsylvania\",10448.0],[\"University of Pittsburgh-Bradford\",1259.0],[\"University of Pittsburgh-Greensburg\",1359.0],[\"University of Pittsburgh-Johnstown\",2404.0],[\"University of Pittsburgh-Pittsburgh Campus\",18392.0],[\"University of Portland\",3743.0],[\"University of Redlands\",2597.0],[\"University of Rhode Island\",12596.0],[\"University of Saint Francis-Fort Wayne\",1497.0],[\"University of Saint Mary\",713.0],[\"University of San Diego\",5761.0],[\"University of San Francisco\",6296.0],[\"University of Science and Arts of Oklahoma\",727.0],[\"University of Sioux Falls\",1206.0],[\"University of South Alabama\",8065.0],[\"University of South Carolina Aiken\",2585.0],[\"University of South Carolina Beaufort\",1775.0],[\"University of South Carolina-Columbia\",26400.0],[\"University of South Carolina-Upstate\",4637.0],[\"University of South Dakota\",4899.0],[\"University of South Florida\",25457.0],[\"University of Southern California\",19622.0],[\"University of Southern Indiana\",6133.0],[\"University of Southern Maine\",4062.0],[\"University of St Thomas\",6137.0],[\"University of St Thomas\",1693.0],[\"University of the Incarnate Word\",4093.0],[\"University of the Pacific\",3536.0],[\"University of the Sciences\",1353.0],[\"University of Toledo\",12548.0],[\"University of Tulsa\",3171.0],[\"University of Utah\",18628.0],[\"University of Vermont\",10501.0],[\"University of Virginia's College at Wise\",1106.0],[\"University of Virginia-Main Campus\",16267.0],[\"University of Washington-Bothell Campus\",4631.0],[\"University of Washington-Seattle Campus\",29332.0],[\"University of Washington-Tacoma Campus\",4066.0],[\"University of West Alabama\",1883.0],[\"University of West Georgia\",8090.0],[\"University of Wisconsin-Madison\",30157.0],[\"University of Wyoming\",8332.0],[\"Upper Iowa University\",1856.0],[\"Ursuline College\",491.0],[\"Utah State University\",17063.0],[\"Valdosta State University\",6797.0],[\"Valley City State University\",904.0],[\"Valparaiso University\",2940.0],[\"Vanderbilt University\",6833.0],[\"Villanova University\",6528.0],[\"Virginia Commonwealth University\",19825.0],[\"Virginia Polytechnic Institute and State University\",28584.0],[\"Virginia State University\",3903.0],[\"Virginia Union University\",1019.0],[\"Viterbo University\",1433.0],[\"Waldorf University\",1619.0],[\"Walsh University\",1628.0],[\"Wartburg College\",1462.0],[\"Washington Adventist University\",723.0],[\"Washington State University\",23092.0],[\"Washington University in St Louis\",7139.0],[\"Wayland Baptist University\",869.0],[\"Wayne State University\",13107.0],[\"Waynesburg University\",1239.0],[\"Webber International University\",642.0],[\"Webster University\",2170.0],[\"Wentworth Institute of Technology\",3904.0],[\"Wesleyan College\",476.0],[\"West Chester University of Pennsylvania\",13044.0],[\"West Texas A & M University\",5582.0],[\"West Virginia State University\",1585.0],[\"West Virginia University\",19369.0],[\"West Virginia University Institute of Technology\",1148.0],[\"West Virginia Wesleyan College\",1118.0],[\"Western Carolina University\",8934.0],[\"Western Colorado University\",1755.0],[\"Western Kentucky University\",11815.0],[\"Western Michigan University\",14558.0],[\"Western Washington University\",13887.0],[\"Westminster College\",1649.0],[\"Westmont College\",1312.0],[\"Wheaton College\",2328.0],[\"Wheeling University\",423.0],[\"Whitworth University\",2360.0],[\"Wichita State University\",8994.0],[\"Widener University\",2784.0],[\"Wilberforce University\",497.0],[\"Wilkes University\",2110.0],[\"William & Mary\",6190.0],[\"William Carey University\",1901.0],[\"William Jessup University\",1078.0],[\"William Jewell College\",724.0],[\"William Peace University\",802.0],[\"Wilson College\",689.0],[\"Wingate University\",2706.0],[\"Winona State University\",6125.0],[\"Winston-Salem State University\",4067.0],[\"Wisconsin Lutheran College\",915.0],[\"Woodbury University\",1061.0],[\"Wright State University-Lake Campus\",868.0],[\"Wright State University-Main Campus\",7226.0],[\"Xavier University\",4834.0],[\"Xavier University of Louisiana\",2424.0],[\"Yeshiva University\",2643.0],[\"York College of Pennsylvania\",3687.0],[\"Young Harris College\",914.0],[\"Youngstown State University\",8715.0]],\"hovertemplate\":\"pca0=%{x}<br>pca1=%{y}<br>Name=%{customdata[0]}<br>Full-time undergraduate enrollment=%{customdata[1]}<br>ACT Composite 75th percentile=%{marker.color}<extra></extra>\",\"legendgroup\":\"\",\"marker\":{\"color\":[28.0,22.0,22.0,27.0,24.0,21.0,19.0,19.0,24.0,30.0,31.0,25.0,26.0,19.0,29.0,23.0,23.0,28.0,26.0,28.0,21.0,28.0,27.0,24.0,24.0,31.0,23.0,23.0,26.0,29.0,23.0,24.0,26.0,18.0,25.0,34.0,21.0,22.0,32.0,24.0,28.0,26.0,29.0,25.0,31.0,26.0,24.0,27.0,20.0,28.0,24.0,23.0,20.0,23.0,23.0,22.0,23.0,23.0,26.0,22.0,34.0,24.0,28.0,23.0,20.0,31.0,27.0,25.0,25.0,21.0,30.0,24.0,23.0,24.0,32.0,25.0,27.0,24.0,22.0,24.0,26.0,20.0,23.0,22.0,22.0,19.0,22.0,23.0,23.0,30.0,25.0,26.0,25.0,22.0,24.0,35.0,21.0,26.0,26.0,29.0,27.0,34.0,22.0,29.0,28.0,25.0,22.0,23.0,26.0,17.0,24.0,23.0,29.0,31.0,31.0,19.0,25.0,34.0,23.0,23.0,30.0,19.0,32.0,27.0,25.0,24.0,28.0,28.0,21.0,24.0,28.0,25.0,33.0,24.0,29.0,35.0,22.0,23.0,22.0,23.0,22.0,35.0,21.0,26.0,26.0,24.0,29.0,23.0,22.0,23.0,23.0,24.0,25.0,20.0,23.0,21.0,22.0,24.0,30.0,29.0,23.0,30.0,25.0,25.0,31.0,31.0,28.0,28.0,24.0,23.0,21.0,27.0,22.0,26.0,26.0,25.0,22.0,23.0,27.0,24.0,29.0,25.0,23.0,18.0,20.0,28.0,26.0,31.0,22.0,27.0,25.0,22.0,23.0,23.0,23.0,21.0,20.0,25.0,23.0,24.0,24.0,23.0,26.0,27.0,25.0,30.0,28.0,29.0,30.0,32.0,23.0,18.0,21.0,29.0,28.0,24.0,25.0,23.0,19.0,26.0,24.0,29.0,27.0,30.0,33.0,35.0,28.0,34.0,25.0,21.0,26.0,25.0,30.0,30.0,19.0,29.0,22.0,24.0,27.0,22.0,21.0,24.0,26.0,26.0,23.0,29.0,24.0,24.0,24.0,32.0,25.0,30.0,30.0,33.0,22.0,21.0,29.0,23.0,24.0,23.0,27.0,24.0,25.0,23.0,18.0,32.0,24.0,23.0,31.0,25.0,23.0,23.0,26.0,28.0,23.0,21.0,24.0,25.0,28.0,25.0,18.0,24.0,21.0,25.0,26.0,26.0,22.0,26.0,30.0,25.0,24.0,27.0,24.0,23.0,25.0,22.0,23.0,24.0,23.0,27.0,32.0,28.0,28.0,24.0,26.0,29.0,27.0,23.0,28.0,19.0,26.0,23.0,24.0,25.0,18.0,25.0,26.0,29.0,22.0,28.0,25.0,17.0,23.0,29.0,28.0,23.0,31.0,30.0,28.0,25.0,24.0,26.0,28.0,19.0,22.0,26.0,25.0,29.0,23.0,25.0,28.0,29.0,27.0,25.0,29.0,22.0,24.0,23.0,27.0,30.0,25.0,22.0,30.0,29.0,30.0,20.0,21.0,26.0,23.0,24.0,22.0,28.0,27.0,30.0,24.0,23.0,27.0,29.0,25.0,23.0,27.0,32.0,27.0,27.0,26.0,23.0,25.0,20.0,23.0,24.0,24.0,25.0,28.0,23.0,31.0,29.0,23.0,29.0,21.0,25.0,27.0,25.0,22.0,19.0,32.0,19.0,24.0,26.0,28.0,25.0,24.0,26.0,26.0,25.0,25.0,26.0,24.0,25.0,21.0,28.0,21.0,27.0,23.0,28.0,25.0,28.0,32.0,26.0,23.0,29.0,28.0,23.0,24.0,26.0,25.0,26.0,28.0,27.0,22.0,27.0,28.0,20.0,24.0,29.0,25.0,17.0,26.0,19.0,32.0,23.0,24.0,29.0,26.0,20.0,35.0,24.0,20.0,30.0,21.0,31.0,25.0,24.0,32.0,27.0,25.0,27.0,26.0,25.0,25.0,26.0,28.0,27.0,26.0,32.0,21.0,24.0,27.0,22.0,28.0,22.0,32.0,25.0,25.0,29.0,24.0,28.0,26.0,26.0,27.0,30.0,24.0,26.0,23.0,27.0,27.0,23.0,23.0,29.0,23.0,29.0,23.0,27.0,27.0,19.0,29.0,23.0,33.0,26.0,30.0,29.0,26.0,25.0,23.0,23.0,22.0,29.0,25.0,32.0,24.0,23.0,29.0,26.0,24.0,24.0,25.0,28.0,26.0,33.0,25.0,20.0,27.0,26.0,25.0,22.0,22.0,20.0,24.0,29.0,26.0,27.0,25.0,25.0,29.0,29.0,26.0,22.0,28.0,24.0,25.0,23.0,24.0,26.0,32.0,30.0,24.0,25.0,28.0,25.0,23.0,26.0,22.0,26.0,29.0,30.0,23.0,28.0,27.0,25.0,20.0,31.0,24.0,24.0,22.0,20.0,23.0,31.0,24.0,18.0,25.0,27.0,24.0,23.0,21.0,28.0,30.0,31.0,26.0,26.0,22.0,28.0,26.0,30.0,27.0,33.0,33.0,25.0,27.0,22.0,22.0,28.0,25.0,22.0,25.0,26.0,22.0,22.0,27.0,19.0,26.0,24.0,24.0,31.0,23.0,23.0,30.0,29.0,25.0,29.0,31.0,25.0,30.0,20.0,35.0,32.0,33.0,35.0,25.0,30.0,34.0,34.0,32.0,27.0,30.0,24.0,29.0,31.0,26.0,27.0,32.0,27.0,29.0,30.0,31.0,28.0,22.0,33.0,32.0,23.0,26.0,27.0,24.0,27.0,28.0,26.0,32.0,25.0,29.0,29.0,24.0,26.0,29.0,27.0,19.0,26.0,25.0,29.0,19.0,29.0,34.0,32.0,25.0,29.0,26.0,32.0,34.0,26.0,26.0,28.0,26.0,31.0,29.0,29.0,28.0,27.0,27.0,22.0,25.0,26.0,28.0,25.0,26.0,27.0,28.0,27.0,25.0,25.0,26.0,27.0,33.0,26.0,25.0,21.0,29.0,27.0,26.0,25.0,26.0,27.0,26.0,26.0,28.0,29.0,28.0,35.0,25.0,25.0,24.0,33.0,29.0,28.0,28.0,25.0,23.0,31.0,29.0,24.0,25.0,27.0,23.0,22.0,31.0,22.0,25.0,30.0,34.0,25.0,25.0,29.0,26.0,23.0,31.0,28.0,26.0,31.0,29.0,31.0,25.0,34.0,28.0,33.0,24.0,22.0,22.0,32.0,28.0,23.0,23.0,28.0,23.0,24.0,29.0,35.0,34.0,28.0,31.0,20.0,17.0,25.0,22.0,26.0,26.0,25.0,26.0,35.0,22.0,27.0,23.0,20.0,27.0,28.0,22.0,26.0,23.0,22.0,27.0,24.0,24.0,25.0,26.0,27.0,26.0,28.0,29.0,30.0,32.0,23.0,29.0,27.0,25.0,19.0,26.0,34.0,28.0,25.0,27.0,22.0,24.0,23.0,24.0,19.0,27.0,27.0,24.0,25.0,28.0,26.0,30.0,25.0,23.0,24.0],\"coloraxis\":\"coloraxis\",\"symbol\":\"circle\"},\"mode\":\"markers\",\"name\":\"\",\"orientation\":\"v\",\"showlegend\":false,\"x\":[-0.32624318049694173,-0.2201877244360534,-0.4327471953356623,0.0513171979083156,-0.8801608210588631,-0.5705444958308087,-0.24514043319130058,-0.6659347413997694,-0.7013362615604334,-0.7497806116698015,0.4052935345816897,-0.7830862780629062,-0.6366960220411669,-1.0109482860791275,-0.16188282033777082,0.3080794820271774,-0.6179287208094075,1.0422819551128573,-0.6816285650625125,-0.5101981699193926,-0.7488461963203911,3.8667248023876235,0.019558381748407933,-1.14647402617189,-0.404021923647996,1.568229747305797,-0.24645165455153217,-0.6262097196946964,-0.05591249799820535,-0.7880984538666626,-0.3981786045271425,0.27517191161803994,-0.14097619629212,-1.084856018251397,-0.656195770569436,0.12914902967403624,-0.23140801626771437,-0.8183863541808555,0.9306690750559232,-0.8928596700855063,-0.6354100460754873,-0.7647695729863675,0.025740483885479875,-0.39124761465679264,0.031649538278026544,-0.6754704216445732,-0.6926913954287436,-0.5957685862866499,-0.53793628996768,-0.057801420065927284,-0.2809359340117685,-1.0272201324724324,-0.8764990549520215,0.03893706446648228,-0.7512846720635175,-0.8473641104966051,-0.9384934263344097,-0.720188698827268,1.141266189481521,-0.7609455868135321,1.6586931514039847,0.7139417442550907,-0.23935042682956228,-0.8586185952903539,-0.8230996308270636,1.9638757770430844,0.3024793383560936,2.690189948950709,-0.9091592543043819,-0.7553637980319211,-0.10388083910278438,-0.7035419307586451,-0.5863887681481371,0.11663991105497692,2.0173684979781425,0.25579676082883707,2.4294518355639236,1.226116855871536,1.7128884477139896,3.003424806244039,3.1969502800402103,2.027313830514629,0.38835023158585347,2.5572772315923076,2.372984256300525,1.368471412671402,1.0898966206113236,-0.37428275852544746,-0.6151447799477122,-0.3132118017257995,-0.2942390466545593,-0.7048457309183658,-0.7650675049429377,-0.6582478464759646,-0.9411115053505169,0.9714848776646804,-0.9801838515403577,-0.8166290290958171,-0.584891926309688,-0.6882243364643101,-0.7708657639295486,0.5757082896926311,-0.6645573757270978,-0.39162487816150315,-0.8952725613840359,-0.7972359024292355,-0.8371840584700334,0.23753595673807282,0.48398438447540126,-0.760416278685759,0.5925418630564531,0.12264830902505121,-0.505574705728972,0.30430832169803407,-0.6109872888203066,-0.9463660179154598,-0.263332099556127,0.0015776336489703002,-0.5856981928393264,-1.0954509300685715,-0.5212324366128631,-1.0787178317773305,1.224928328121946,-1.0263888693097891,0.4875568319120273,0.3058830248409588,-0.6856728142265427,0.3584490008665229,-0.2608779684113242,-1.0068163308540008,-0.7936331303202337,0.34270538173939025,0.1377126479261479,-0.2107368769861868,1.872973903789676,0.8484186498716947,-0.20124148330315525,-0.6092861548137324,-0.5406617491737072,-0.6214316903320221,-0.5012677526916253,-0.09275036426168123,-0.6231531412889935,-0.8070260071242641,-0.8052673339698979,-0.8553612343994819,-0.15019579830509672,-0.4848023955146604,-0.7727399999240282,-0.6182926204002702,-0.6085249718011766,-0.6637646563190202,-0.3321187045066638,-0.8298793835050836,-1.100158985495271,-0.9693283066463222,-0.2623401846205675,-0.4526482004032657,-0.5592565658248808,-0.636635387762919,-0.5121929370050343,-0.22716156804258006,-0.5150405042621131,-0.13618846007803395,-0.422437206155212,1.3718269535906094,-0.6982616794420362,-0.28089734910140485,1.398331325699343,-0.3293333976362617,-0.17445892173039151,0.2966202078573746,-0.6857760027549773,0.4071940013598516,-0.7528229396368975,0.5728191567242922,-0.13313375950277448,-0.38041274113851536,-0.8918285640607199,0.34310706890983084,-0.6694402106751799,-0.7224798974802799,-0.597807978886799,-0.16632856853874767,-0.6183607621077094,-0.7398787820117797,-0.5045297577093496,-0.14555623458041364,-0.6807687933227932,-0.7190231538044184,-0.8762894019220093,-1.0224639512485887,-0.9470842228244591,-0.3986081070847728,-0.7855987020468411,-0.22825022937753492,-0.6750167482874533,0.3045365716488159,-0.9742329479769032,-0.8539527599641812,-0.3526987714661146,-0.06842072036552962,1.6188958056309481,-0.798826523182179,0.7599923027605145,0.004921289744094267,2.7074139930937164,-0.5591840127679732,2.5892793154102,0.9861879482995247,-0.3670070405988154,-0.8124817919887706,-0.4486957769390939,-0.6316215062986107,-0.7496457316840739,-0.7017523699921489,-0.7423608722656737,-0.1737661620249183,-0.5209513719519204,-0.4543209618858833,-0.76921799334838,-0.8704981921824847,-0.5721975670782183,1.929599518270966,0.8787095735953189,0.5908922882205753,-0.12214783580239683,1.5105671408369097,1.1919808196919757,-0.4054269641060645,1.9034398969387998,-0.7275206429451987,-0.10622378293650706,-0.5827653904350107,-0.38331646640154665,-0.8074409870021039,-0.5453169491304457,-0.8201491993443468,1.1267626491182734,-0.7149113062073181,-0.7635263671450206,-0.7481941934488303,-0.5394110575016494,-0.8627822986817645,-0.6085953112904128,-0.4148005728250701,-0.9349671342653367,-0.8422326332352054,-0.3683439835804096,-0.8814322403689528,-0.7783837015553084,0.419622073898065,-0.9088947074201857,-0.5572880044723146,-0.7401731673702854,-0.7608425053914298,-0.5138580606028118,-0.7800101662554002,-0.2466584564312192,-0.7277189046704816,-0.07147586420884391,-0.8377197433740234,-0.6514056507716164,-0.6862304313847308,-0.942859761581803,-0.009733840493851136,-0.606916684906539,0.18796867225143235,2.855053648518466,1.3799345606351452,-0.13756311388865516,-0.18470716935727682,-0.588943788967233,1.7051789021035766,-0.7079978670518533,-0.47853697964518405,-0.09088987972498824,-0.48675849169672586,-0.5945295880692867,-0.9094615662874971,-1.0022962745807942,-0.8890962605692002,-0.9193768553973918,-0.6798403897627587,2.1119575510818707,1.1446504067371115,-0.5091581723537599,-1.0216076691052653,-0.5335228613330939,-0.9206587622211666,-0.11347094172575112,-0.878069980492264,-0.14474085025953115,-1.0413131841275267,-0.6163755423657192,-0.7755421413442152,0.33011302778426305,-0.7136874832683499,-0.48857765462710945,-0.438671227790911,-0.4369936259910387,-0.5693370393673823,-0.4725890408184133,-0.6099017254030703,-0.5562023999242395,-0.4846926191233134,-0.27069969060697946,-0.3114957250660069,2.782428339199471,-0.7907712270302981,-0.6260952377775106,-0.6818690607620848,-0.9480432910278209,-0.9618515809320097,-0.800845948338899,-0.40603664396177774,-0.6782852270397067,-0.5438668222707755,-0.5914700737770837,0.4154656440496706,-0.7946321608906118,-1.1400633031017586,-0.7320780206628905,1.7828743470871469,0.23717580126667548,-0.7744563711707357,0.37571742772315847,0.7934929528955668,-0.47362590833798085,-0.8038017830157784,-0.5274089989704573,-0.8550809222560785,-0.33144121598622495,-0.8497021933873316,-0.7507890150254327,-0.6103248978725335,-0.6114766059843542,0.35847850365643275,-0.896563250490394,0.15226982120884827,-0.7667157749206089,-0.22797931599668683,-0.5173414498682095,-0.30789402937160687,-0.8413589977394358,-0.7714077784390465,-0.07427733287709153,-0.9863881662552413,-0.12126808594931482,-0.29459195441337094,-0.7835350048665943,-0.7027860303191307,1.3558668648540715,3.1193877887733397,-0.12111097250532561,-0.8967724713771948,0.027445754048234697,0.9496314774674457,-0.8593353565638837,-0.297265632263238,-0.08460863825631432,-0.7400057954822234,-0.7033439636859876,-0.5837634126072855,-0.30833648495190974,-0.3510843051524176,-0.8463786290100817,-0.5558329086601129,-0.6777636244762439,-0.3675909251716688,0.8226369943907155,-0.09537693339733275,-0.3335986579371063,1.2034000582673288,-0.5070400565493437,-0.8871211239393577,-0.7343855089891316,-0.14077950275163403,-0.7116952790360934,-0.7542416720363945,-0.6136116768197776,-0.8119971553242975,-0.05970825139347877,-0.7170680903979997,0.7145851415180553,-0.36129755805783353,0.6278154413555931,0.3054688670700001,-0.8340926371817499,-0.22284082760737509,-0.5725517277064456,-0.2327235759033051,0.35695317710147334,-0.2603318982954096,1.7925399543509155,-0.8029774756879314,-0.6791244795677902,0.30466812138635574,-0.7090507470196249,-0.5571745573147054,-0.14307038226823648,0.30572827812279935,-0.04559779888934772,-0.21632496345599952,-0.17088728390430716,-0.6675641914740658,0.05921789258101975,-0.6506269317857905,-0.7994249850778004,0.3061042974203524,-0.39981698647118136,0.6546877170987744,-0.7478862285370407,-0.7278493497205252,-0.8229307125112867,-0.6718843677887734,3.0598540467968585,1.1829029185214468,-1.0797911868680163,-0.5637600434514014,1.5097758435463289,-0.7521078215596528,1.0458721693553852,-0.6633900828504837,-0.5494193703198335,0.00944676778789373,1.6046745713884454,-0.4533599627868876,-1.066782536813762,-0.6571139263464201,-0.5964815188926694,-0.5764486936535244,-0.7564698588129005,-0.5169318482894211,-0.41402997359608884,-1.1302998912334157,-0.4989898276271516,-1.0741411376148093,-0.04851698337358377,-0.9402063116904564,-0.8769490582726298,-0.3827907579096374,-0.6823959372312375,-0.5447913777895749,0.18854151455639656,0.8943561447470534,-0.08193648600675273,0.19653503599067595,-0.9041153671452652,-0.3938397707419131,0.39304449173212075,0.20713544882066762,3.1030315595484086,-0.679704664808489,-0.828602593777924,0.13088738563245897,-0.7823024799101321,-0.306126102608063,-0.7404181071794413,-0.45207478499702447,-0.7227962697306536,-0.48370562606215084,-0.7613389549584458,0.7511552362470996,-0.7845484530072211,-0.7900367658229129,-0.5110232985312774,-0.9405827902708714,0.8017351969001338,0.005065608284161889,3.2300905736328684,0.7501016681079483,-0.04982923309240584,-0.8333361573602073,0.3236597247853652,-0.36530525603489405,-0.6147389845470987,-0.658877852652261,-0.6221532556178699,0.30027057824113934,-0.37037886553199945,-0.6501706795653981,-0.927176802518585,-0.7127496691768305,-0.8226613615558961,-1.101516275134053,0.9071672915179531,-0.4177074013793588,-0.8772798363251456,2.85895475937891,2.5082887651746244,2.7297831604419516,0.646918932967069,-0.552278759976475,-0.04098773096404012,-0.70746841354403,-0.14945428853923165,-0.2917575084429022,0.1768388713827667,0.36360833799795744,-0.7547022224026061,-0.37357942059414684,-0.23453064449222719,-0.6718230260379685,-0.9297502130742641,-0.491735783060544,-0.8496907116528033,-0.14550966782926053,-0.12118581486795266,0.5590998816136291,-0.28411416876867285,0.24536259385220952,0.02573168876697772,-0.5393684041562307,-0.031592782873949336,0.049313853915880064,0.28461149705804867,0.3097410253916336,-0.12793062968768767,-0.23730965930260278,0.47807219220448155,-0.6946744769002594,-0.7062407288956555,-0.5712713015062961,-0.7326441517180179,-0.8984315600791483,-0.6771442785690057,-0.5979853947032782,-0.7767239282128763,-0.8487801612490435,-0.9812726904916487,-0.5375979201809263,1.2774334970523042,-0.553064892359496,-0.39423648990475746,-0.11050810387463936,0.17021055441705035,0.4559245148430877,-1.1017991144092874,-0.7852134305059054,-0.4981997749415766,0.11487423608995431,1.9398741037576714,-0.21754238888618643,-0.15292257118232683,-0.15405508316450137,-0.46543331709090824,-0.3633194288490822,-0.5328160948453652,0.005613143488338623,-0.5286045644320285,0.03513014346231926,-0.3014814195674536,1.176549583835371,0.4046285181548446,-0.5052735426318721,0.20147413969356792,-0.7823915125164217,0.3499434605194817,4.183041253771847,0.176059921625893,0.5649809283772198,0.20882537788054734,-0.012406692533556122,-0.6003092563050182,0.4029038987978938,-0.6415310602339903,-0.07430029279692364,2.3982711080180366,2.206018282658015,-0.6323597735240498,0.3801429228462421,-0.6609703616777064,-0.9752463293414793,0.4098425328194555,2.3009159256138325,-0.6230611875341497,0.14195699168650466,-0.6498425682554718,0.2724272530337014,0.34227921470071787,1.5590112085691863,1.784125714298802,3.496231755774579,1.9432456095127049,1.8767969960184523,0.028100145800792273,-0.06271115760212284,1.9835469136977522,0.23104904022302272,-0.5750901643521678,-0.532396289947634,1.039180574775749,-0.5733267328024513,-0.8540108010707245,-1.0284994044229772,-0.7415223622276348,-1.0193015580515148,-0.5605020553353669,0.3387833516733708,-0.7632293616322601,-0.10777037150907531,-0.7366956589218374,-0.32803893711334214,-0.7430004288542899,1.8897065839100937,0.7579997288894245,0.7214858353203892,0.08992216461980494,-0.03245311031189457,1.3648455825240726,-0.7314288843562164,3.3358407553298717,3.3872392122562567,3.6041839126339426,3.2579868552910165,1.0240515946104785,2.672654731926711,3.670456347545175,2.8226582547170977,2.116077398644687,0.134625827732498,3.4716472202619104,-0.7072285315858711,1.7167583706583784,2.668621028527684,0.4985401211285446,0.8852514309138698,1.5260249161337787,-0.035708144546709036,0.22246707106791383,1.411370492000901,0.2121943872102167,-0.40123065197609664,-0.741199435932464,2.4796456939160603,1.8781711669400334,0.3329696964201364,1.622315305471213,2.8500439710566576,0.019903524464048788,0.27450119824241725,2.0133896358970964,-0.37411932604406617,3.107984067794873,-0.3010570451781957,1.6262745917526518,1.4394381985748412,-0.34896693135829343,0.5211424917516667,0.6958136784397208,0.34101993661809066,-0.4585417617405888,-0.6931303128606214,-0.2832863464953953,-0.16460193403307305,-0.6103857280630143,0.8887241487492562,2.1299630422737708,2.0309622108585637,-0.11472293154505979,0.7808359104990368,0.8182397129902294,0.828934711235054,2.687203049974733,-0.22444490417869203,0.3322058823523914,-0.35600864331953463,-0.4637703987542723,2.5787540897369094,0.9761266849896687,1.5419905286376128,0.32565556635085646,0.19766266248374903,-0.6555532876598367,-0.7526387682070492,-0.7594259715206757,-0.12087244043460185,1.3332167461939575,1.8289530389048683,1.12124478136432,-0.4021246232518765,0.44643156941712075,-0.3494622369163649,0.8514414702936022,0.16327502415676784,-0.14336577848571183,-0.30827864402985716,1.6884749328598665,1.5533657249056327,0.8779090579169773,-0.13431932582771597,-0.48445008170641085,0.6596240695251601,0.22257656627382885,1.001484350973133,1.150937975503139,2.2090001681224534,0.34031468974660556,0.09923351213741878,-0.4234613781896042,1.670734663662219,1.7142563644601767,1.2161728379552355,-0.6588954527670956,-0.5760689096975913,-0.5082447570215535,1.6121178012099286,0.05894278086190345,-0.48097994975264746,0.8693056948609393,-0.8085867056821471,-0.948889483030121,0.17432398039829353,0.7377114078639159,-0.5934786372367408,-0.6914051377365702,0.056281490469958007,-0.4521365995883389,-0.5576526914635522,1.9001811985070167,-0.1937425314856537,-0.042592299616472325,2.3783120576302124,1.758906470257411,0.21975510298168696,-0.0860662029900896,-0.08932229347885023,-0.19557060291562692,-0.0926901866583232,0.5552492855053094,-0.03130874226450371,0.7020623724907709,-0.3193587793884923,1.6701161385660024,0.5492995509973828,-0.5555947174105178,1.5833747624063454,0.7275482222283574,3.0937993456728923,0.30291703551453947,-0.528582076403175,0.21349787256696626,2.6235270692053136,0.22881019227001625,-0.6399957867589168,-0.9041227646302975,1.7170592406461298,0.07076908312079337,-0.4230739604676778,-0.5234401242381598,0.6472505516932048,0.2910725409973339,1.6222919386867936,2.4419969764605702,-0.5915946927904028,-0.9725378432585304,-0.7933056864902002,-0.7694747168128263,-0.8153672872803268,-0.7085571500333347,-0.7512621036889745,1.762991521729196,0.6910217331319747,-0.45793138427317465,1.1392931011133858,-0.8711229231933354,-0.8340991597786376,-0.474504893101528,-0.22637912723959494,-0.8099450488718066,0.703546601927505,-0.15122764297005076,-0.3007020874153657,1.3535971546578556,-0.33922116139884995,-0.8026435995040849,0.3816927051822804,-0.34539423888815574,0.5379319492880885,0.9904776397145827,0.9204368790461138,-0.6024229752667266,-0.6497127683589846,-0.33220731818082644,-1.0554376366450842,-0.5064036190051375,0.5146488932947711,-0.49397628088262413,-1.1346425883566673,-0.630306181870046,0.40604237875726173,-0.4660547224669456,-0.7467427585532034,-0.9861898520850897,-1.0351224043599354,-0.870488359263439,-0.33818588153926493,-0.1106405253330267,-0.398685103075044,-0.8717113135843683,-0.5358861914549837,-0.3232710701868432,0.20524536898975423,-0.17049961917091697,-0.4813663085084733,-0.4449688350748593,-0.43254559843396156,-0.748876674405239,0.3484461243708902],\"xaxis\":\"x\",\"y\":[0.40540175468082335,-1.2126388829210315,-0.6910304591531188,1.0181041911246802,0.4951713947411494,-0.374674942717841,-2.2429115565271105,-2.303610882128672,-2.0792541905698467,1.5314646083136594,2.0609907497556446,0.1520210144654517,0.2174840252508893,-1.1697571908117512,1.3172222685078996,-0.6843917998010909,-0.12248759001901575,-0.9108016037408659,0.45069708159539973,0.8479272846335331,0.09113685079215003,-0.9704961048435836,-0.807133965194624,-0.09568610538084649,-0.3050063809113068,-0.33815326106296784,-1.1295658269838937,0.8411927811086012,-0.604000000667191,0.8250534462007194,-0.29536693094518107,-1.0929288355407563,1.1965292833193837,-1.4505815024672166,0.22285816379695966,3.0848704985065853,-0.1857685861232419,0.01956754935588573,1.1162809120941726,0.6926586722423076,0.894285471397726,-0.16089167172487112,0.3606845302958247,0.8102723653419962,2.116780084404498,0.7017189373885933,0.06412039973410685,0.6656219915123844,-0.6425280654239914,1.5287598523882582,-0.5635463604760109,-0.6561226098280516,-0.5584329401975173,-0.8136971856565481,-0.6182170107200281,-0.4946981760027209,0.2485740912050423,-0.45122223820518237,-0.5994419763806712,-0.544562570474705,2.8112307567196373,-0.6782336860322572,0.33208885888712836,-0.1646230663095787,-0.19712266639151954,-1.2078075614965254,2.053003494010874,-2.2025771470880495,-0.10781702665903202,0.6601503041351345,0.968240028466173,0.2675618756338038,0.6215409367632057,0.11347751346921459,0.42199940981740125,-0.6324443893181396,0.04183450674834083,-0.5499551530035068,-0.5892919535121193,-0.13831679933661178,-0.11249849901357305,-0.6957100413963931,-0.21804639168872922,-1.0888162032073514,-0.24907333377164667,-0.9329188249473571,-0.4050101138956285,-0.7692255646892884,-0.4369847829117351,1.1363640903317838,0.3022529866647211,0.47562331694533216,0.10102913692450662,0.6059463807171193,-0.27708186352637737,3.70527025633438,-1.3143036116671942,0.840347211356046,0.45395031100485095,-0.04327657321116495,0.8846510615180346,2.649484099891453,-0.532376867709907,0.3718457836055747,0.5994437386396982,0.19746117590746487,-0.6807424071395172,-0.783076022724004,-1.0499445977184798,-2.0974549667898303,-0.3965202755603746,3.3456401490195717,0.7975653955487094,1.8516295923898212,0.019118567015407407,-1.689169958716815,-0.1145627535128721,3.095142753542065,-0.7100001566247868,0.132540308731644,1.347711536907382,-0.30540776254978286,-0.2201307059403235,0.7714464754365872,-0.7164016168085574,-0.7454706375532761,-0.11282041588971513,-0.41936776733398323,-0.862957616688548,-0.03574159469620501,1.0198401760907945,-0.7988919224684593,0.47094109453498445,-0.42335644625121766,-0.6548447345424457,3.08967211410613,-1.229264419635276,-0.5270730825494216,0.4085370372650336,0.030909315020188434,0.22821695837362502,3.199145311828553,-1.6185486744053001,0.5811765310795173,-0.23581220897134253,0.26164543398527945,1.4182922635608786,0.29415689641173165,-0.010265085212201165,-0.14356978908053278,0.5650425000337972,0.11856102237370596,-0.4802098386086749,-0.5557525148088452,0.28184104195005494,-0.18110388292056445,-1.1686135123236843,-0.7266941507696625,2.005481618936918,0.40383036474173717,-0.5217280685308294,0.9052711655791348,0.06596187217637343,2.3161330106349807,1.0662854897324223,1.871062645509369,0.4981198701609702,0.6785809119410278,-1.1957402430445236,-0.7272452931347718,-0.7821719720522073,-0.7240693317840768,-0.2545408746372381,-0.983947313278911,0.5295123620184482,-0.8837109088092067,-0.5861073491110068,-0.3357942349461858,0.10644084284578226,-0.5473548046329195,0.9412431480373021,0.22099821266137104,-0.9112714842625017,-0.47808571722672893,-1.807872422133672,0.23523020415414192,0.5660610885659918,1.8305920534643658,-0.0755670764731315,-0.07052118242084722,0.22775355736016453,0.29665980756096744,-0.2629222956364208,-0.7710093879976349,-0.9600746952533271,-1.633278849312123,0.15089065583184771,-0.8986147054692495,-0.4204580267593088,-1.3604389676398163,-0.47903407184129093,-2.0118963537537633,-1.2144902918543945,-0.1257963347560695,-0.9481265776849702,1.6892328681618758,-2.361086040241766,0.6059508989702439,-0.855863122185084,2.0466033653597107,-0.3594949408914222,-2.2890096953412984,-1.1258566528977858,0.10220700583890756,-0.03489048526627326,-0.5196241533693725,0.1817054375605688,-0.5212631757808971,-0.11949987153747396,0.6456107823765964,-0.1665066505392135,-0.05784599360976017,0.5673142993674803,0.29902425061778803,2.2730239853032446,2.782020276761162,-0.3706271503132738,1.337187689626992,-1.3056466476605209,-0.6855242837832771,-0.9564317792776414,0.3714297419548979,1.2579194342067057,0.9554682210917848,-1.4090854518757765,0.56606724780626,-1.1615002926548772,0.14756294950131013,-0.982343982108133,0.11452297610382449,-0.661175840716225,0.12422619090918592,0.8249531156228931,0.92051711020348,0.04609567239663694,-0.02535359628300423,0.603228437019605,0.09639137734960256,-0.6825871467774842,1.6150541760215826,0.28518050517125276,1.6756358235293929,1.2532985245636843,0.9323355374971614,0.15700222352189908,1.0437658647218675,0.4424505893365173,0.6473542321589985,0.33404374470657267,-0.2504110981686573,-0.5451626305252625,-0.48067619669317274,0.07188714435503653,-0.5497058439862462,-1.7599819248916964,2.3554399237656805,0.3581954346752487,-0.8703292971346068,-0.22482609077547913,-0.7277256643505547,-0.6510228421884716,-0.6240871824423637,0.20290507555539175,-0.7353367405753798,0.32533621484625735,-2.3851047789089965,-1.0905643275875885,1.01665948936115,0.9856404428631362,0.2916522441551223,-1.7964914546821655,-0.7589688664588573,-0.8424153196297497,-0.1992401062521846,-1.5850685674983738,-0.8674060224636959,-1.271857968806259,-0.0075355996065743745,0.984546735230864,-0.03157184195665522,-0.8068690971832765,0.11853391486458603,1.120522723627282,-0.16573206768085424,-0.589707249946485,-0.13767963906333905,-0.8639530929244158,-0.0427712452417877,-0.9425296284506244,0.6373508947919545,2.2684345596471593,0.7768407751065123,-0.34177465219404235,0.7435272024438182,0.32859293237981907,0.4807578511274359,0.287159156575661,-0.5382115738360295,-2.4721814686568684,-0.5689035072215741,-0.2845420141544225,0.5511780704582294,-0.9569102523244837,-0.5069525312055907,-1.663538300771334,0.08995883519273931,1.4149893492288135,0.8162100161050174,-0.8257322098747467,0.8667273448126187,0.36588033000730663,-2.0767580228841465,-0.7314114632387769,-0.4218013072166464,-0.5067961127247271,-0.3277782450913588,1.7721559433381417,1.0922213629754836,0.6259218826348295,-0.3573772256849006,0.3873685095005142,0.13561250015692478,0.8779576303943175,-0.9998078090805244,-0.913179735621842,-0.324989925140841,0.495247284060329,1.0528962749264903,0.015836176964296653,-0.8562375085129688,-0.16047965034810632,2.2530627791397313,0.628807979951768,1.0002087545849114,0.3575498774441079,-0.39633796569044566,-0.5177483672014415,0.15617811368074047,1.4256589285802104,0.47065006522138886,0.6317642851053276,0.551882216259714,0.23968320615111718,-0.7008422619201972,-0.0812822909081296,-0.8095903550670505,-1.3015040192029275,-0.9427175027240076,-0.27573908707318484,-0.44723137422339404,-0.3989219366835001,0.5906116150689691,0.4121362238799342,1.0160246805372672,-0.5371401879152571,-0.17423820127238618,0.19002789697435368,-0.12836207333750185,-1.2126986695956727,0.15932930055629552,-0.7748353315431125,-0.02941724556265865,0.471051010629214,-1.1910487411021855,-0.4097142093043715,-0.09299458852638517,-0.8545814065676623,-1.6426701070566183,0.0334309892055927,0.0713394873336587,1.078242388126627,-0.011032511564728712,-0.5740476881766851,-0.23966190573267823,0.9444759698387183,-0.3530990849399002,-0.7651858241062354,1.8474978595901532,-0.10149223340196895,0.8424061967710863,1.1201810766566114,-0.9785786687402167,-2.0692209943800757,-1.8259786893981123,-0.18725692270865582,-0.2468892208456237,0.015368308454426986,-0.6040343086900345,-0.1830415977036184,0.34836483794064227,-0.6926310331996725,-0.6700893366885666,-0.6300437290182903,-0.23140330021926553,-0.7252743428360209,0.9580013896981514,-1.172547980822494,-0.12145346017612012,0.04226817949078896,0.5622508098981346,0.47949300850705573,-0.5782817756760327,-1.2173586668180427,0.6779343037321744,0.28606825477890785,0.6849130089120633,-0.4646754841864624,-0.6977259388601587,0.2657449400197065,0.6202146808456548,-1.3224975529564365,-0.1550570119679565,-1.0626147440293732,0.2281472657933147,0.3567969981554099,-0.07133440671990333,-0.4280171731119252,-0.3797016543751673,-0.24531262556401864,0.3185752424117586,0.25385220926795204,-0.26169933737587664,-0.5363050840043301,1.7038923940335262,1.4021011539315824,-2.128703015692711,0.4660898305332744,-2.3155022828605274,2.217464055928672,0.07188402854450171,-0.2990334591399014,0.809523459901567,-0.028114568445779996,-0.25504994765789724,3.401519644873065,-0.14443115680605942,-1.9954832887661937,2.636121308522986,-0.2788203665467802,1.3997153710013197,-0.5012584831261483,-0.6434537409046719,0.011472906853185087,0.6331328228966835,0.13625482893084287,0.012940134816156874,0.7769554455984755,-1.0884442294831165,-0.2466475841625811,1.0789946504941468,0.875174154166216,0.4090871233709992,0.23648648215171564,0.883530417154925,-0.42324056668509186,0.3485262462085369,0.08053317692551586,-0.2058471293387473,-0.4447016847140964,-0.015170377968788114,0.8860839639858324,0.3811117591543125,-0.6938200884119348,1.0635346093238573,-0.26326758643592274,1.046714995896957,0.6138272461210168,0.20499838225182682,1.0388645370702398,1.4111381821121292,1.5115662651300072,0.4829383821536803,0.33510807087170275,0.4784738357562958,0.49689951288961653,0.21554887052649147,-1.322626733045751,0.6825599057265197,0.4212575769649583,-0.03190245371525746,0.3730304303843891,1.1641030412081634,0.6201619975222814,-1.933676292055529,2.419217895141114,-0.13911965300478246,2.8298788810528466,1.7209046052667507,2.2721721999747784,1.1796242561950994,0.21009744224529578,-0.5421555670129722,-0.7485495457855453,-0.39798337879427,0.28714000592469807,1.3997887270117981,0.5148850025041363,2.61026742351493,-0.779592166297656,-0.1517300127808401,0.0512369316820263,-0.7459687088819185,-0.1962224827235793,-1.0230507908247253,-0.9273139078013997,-0.5643701316340461,-0.7490000236044564,1.951636976855376,-0.1932347760292301,-2.2286680696473047,-0.5652356778266326,-0.31218140536037225,-0.18066531894519214,-0.04215946734977119,-0.8273360605196879,-0.40875050515723044,0.13734352823092372,1.0633506866819291,-1.2008215364687655,-0.1906269552303972,0.8185940360157793,0.6452358459778017,1.5080316645276146,-0.1342613216044468,0.34349116862396306,0.47399730493658276,-0.4084601401294046,-0.988404399869598,-0.24259906944589948,-0.18481850994604657,0.35272494426261636,-0.1880829642231443,1.0128024799954822,-0.18047092920327612,-0.7277743766376947,-0.5064417437769031,-0.11076698366561621,-0.9240508195069479,-0.9744034026617266,-0.07290674806533337,-1.0621553481120438,-0.6621011680304939,-0.2526410480444895,1.5918694121826698,-1.149148133957861,0.7074861254267103,-0.583024997349851,-0.15482492623378077,-1.2182426857479574,-1.9541515179092823,-0.7770350685333495,-1.060723142030304,-0.7586877788603253,-1.0835450045416528,-0.8572366439702558,1.1104192841864162,0.14803690033577996,-2.082716333780857,-1.637036021604109,-1.0988580409720854,0.32152749020785193,-0.5183054805794585,-0.5131123084020646,0.6974472324687828,2.6888001358557543,-0.6332119097360323,0.5418092579990392,-0.9474629784293762,-0.7885515076168005,0.3961612837920197,-0.7332203566258898,-0.4809624631514945,-0.7337001903979159,0.6055908850498655,1.1034172509581812,-1.5060378098888845,-0.6011231122889039,-0.5989754521317963,-2.1974611122245573,-0.8775839098106848,0.29139399131990257,-0.03396574245768948,-0.6532884913609835,0.014000454657536606,-1.0100399639216064,-0.8965338523537664,0.19337640279694884,-1.102376061021978,0.5722422789807933,-1.4336338584155166,0.30720537270963055,0.08752044066366325,0.00401673308331067,-0.7606481772920219,0.24552258866558466,0.16512207153914696,-0.7159031682505361,-0.6642378995327853,-0.24822885564711278,-0.35552638373053036,-0.5107225974260835,-2.0252497843427433,2.1664209624161903,1.4691948756458828,1.863180551315014,1.5060387102693034,0.7839995622784854,1.0404287243800723,1.863704932750016,1.2750152986711476,1.3241613081625254,-0.7205254152221126,-1.6742248391069081,0.45930422918329483,-0.6034722541490921,-0.176820740810262,-0.4187986017182272,-0.01978663537145715,0.41477282685609485,0.14917291902751253,0.9281393680712363,-0.16794749048122398,1.7181602086798653,0.37425518579888706,0.2683945706501267,-0.4822037954140682,-0.13022732735894987,1.6541163168267112,2.1768878122932738,-0.6155558469072531,-0.4731099500527355,-0.43611239842936544,0.044234066856338405,-0.3630069886943921,0.7526700534522897,0.13688839009615733,-0.520524303399282,-0.5321636260177228,0.6434736823677014,-0.8370386294176215,-0.5596724348520171,-0.39504197940666563,-0.11431180596492771,-0.27081643457171944,-0.285067979425493,-0.13298921598551527,-1.190892787666912,0.6637695676392211,0.3064139319026261,-0.015421058497018796,-0.5262448728468786,0.015315977673515717,-1.201400061956921,1.8724307449810995,0.9052745759040081,-0.7800658625311562,-0.40032876534790474,0.12795310637511856,0.2700429796122514,0.33207884634788903,-0.671090622469271,-0.5734094370745553,-0.2453807933413318,-0.43474127203799323,-0.16886319246010775,-0.7199555442134871,0.16766847432658044,-0.2884823689680568,-0.24167540363268167,-0.1700495698365006,-0.2643917819130959,0.9637800757851985,0.03790029694076308,0.6199026427268467,-0.8585815552932938,-0.31521159797610054,-0.6539080184850782,-0.6541290586316527,0.22847006022110505,-0.8676824453209192,-1.3136441503280438,-1.5883719730713395,-0.3151026462227426,-0.7285148592101887,-0.3362477904252728,-0.6854644363029202,-1.118604155272777,-1.067944955810113,-0.5270307255168976,-0.6912878002135611,0.5261246850791399,-0.5992688772062134,-0.12075177644143617,3.225707933419049,-0.5083489187806025,-0.3180193339883561,-0.33932347307409333,0.4792412538432544,2.138219445096772,1.3972443170246949,-0.21514690200289452,-0.10960138135971247,-0.0181653849228272,1.7760702663298,2.8465279585284518,-0.23792811395511115,-0.30114890124487614,-1.065803863545445,-0.9150944730454381,-0.872809379968383,-0.6916574585678715,-0.9549355799314131,-0.7377710619505528,-0.9235746724359332,2.9316908695613084,-0.5170344516484798,-0.42661158571192076,0.9326520907224475,0.9201759138293167,0.09343068900736397,3.0455345189857757,1.9374484703635486,-0.5813759181816051,1.6422109651180712,-0.5034835757571388,0.35875352751309264,-0.6165939367700282,1.0400813336831785,1.5986762167172222,1.200350063723683,0.7501165207432255,-1.1824728357546024,-1.3330242023478882,-0.02056295072343262,-0.4281325798153959,-0.15288636180192233,0.1321602873064974,-1.3955387088447693,-1.4029180263353276,-0.42771895755232536,0.8719920981700648,2.7459210409496477,1.5133302586458628,-0.014674629370551803,-0.04634913927777724,-2.2127138722100415,-1.5644536342733684,0.035682576151474896,0.022587179101374942,0.6554219232386829,0.9392926300098846,-0.4324669492533094,-0.463975390423505,2.8103122350346834,-0.2153555704840507,-0.576775284474052,-0.0498601601573671,-0.12456049042796938,0.18308948288492055,1.080756861668389,-0.13303934627440084,-0.7241436127900459,-1.1062167037425437,-0.39131713238906257,-0.6547512146839473,-0.21979924301393228,0.3102638250713939,-0.9862779448060471,-0.30729501691952915,-0.7909885799086164,-0.6785473075638571,-0.23432757982973856,0.8339967863847155,1.4465990001719522,1.1501473218450082,-0.1504038708320235,1.5828212384118228,-0.28903920978307135,0.7579374584798577,-2.052783830512834,0.5739149921774167,1.0545992985862365,-0.8229822350069398,0.49099130980347055,0.44033839548778186,-0.2100228781285746,0.13051272738248543,0.5283201696715929,-0.4398381874195937,-1.9621433840727136,0.15246741789065887,1.2738608255462547,-0.44604657487240823,-0.6757630731157844,0.9206295133206779,-0.9587348904743643,1.1541704842051836,-0.19991059031729513,0.6352345741772208,-0.7521913121036017],\"yaxis\":\"y\",\"type\":\"scatter\"}],                        {\"template\":{\"data\":{\"histogram2dcontour\":[{\"type\":\"histogram2dcontour\",\"colorbar\":{\"outlinewidth\":0,\"ticks\":\"\"},\"colorscale\":[[0.0,\"#0d0887\"],[0.1111111111111111,\"#46039f\"],[0.2222222222222222,\"#7201a8\"],[0.3333333333333333,\"#9c179e\"],[0.4444444444444444,\"#bd3786\"],[0.5555555555555556,\"#d8576b\"],[0.6666666666666666,\"#ed7953\"],[0.7777777777777778,\"#fb9f3a\"],[0.8888888888888888,\"#fdca26\"],[1.0,\"#f0f921\"]]}],\"choropleth\":[{\"type\":\"choropleth\",\"colorbar\":{\"outlinewidth\":0,\"ticks\":\"\"}}],\"histogram2d\":[{\"type\":\"histogram2d\",\"colorbar\":{\"outlinewidth\":0,\"ticks\":\"\"},\"colorscale\":[[0.0,\"#0d0887\"],[0.1111111111111111,\"#46039f\"],[0.2222222222222222,\"#7201a8\"],[0.3333333333333333,\"#9c179e\"],[0.4444444444444444,\"#bd3786\"],[0.5555555555555556,\"#d8576b\"],[0.6666666666666666,\"#ed7953\"],[0.7777777777777778,\"#fb9f3a\"],[0.8888888888888888,\"#fdca26\"],[1.0,\"#f0f921\"]]}],\"heatmap\":[{\"type\":\"heatmap\",\"colorbar\":{\"outlinewidth\":0,\"ticks\":\"\"},\"colorscale\":[[0.0,\"#0d0887\"],[0.1111111111111111,\"#46039f\"],[0.2222222222222222,\"#7201a8\"],[0.3333333333333333,\"#9c179e\"],[0.4444444444444444,\"#bd3786\"],[0.5555555555555556,\"#d8576b\"],[0.6666666666666666,\"#ed7953\"],[0.7777777777777778,\"#fb9f3a\"],[0.8888888888888888,\"#fdca26\"],[1.0,\"#f0f921\"]]}],\"heatmapgl\":[{\"type\":\"heatmapgl\",\"colorbar\":{\"outlinewidth\":0,\"ticks\":\"\"},\"colorscale\":[[0.0,\"#0d0887\"],[0.1111111111111111,\"#46039f\"],[0.2222222222222222,\"#7201a8\"],[0.3333333333333333,\"#9c179e\"],[0.4444444444444444,\"#bd3786\"],[0.5555555555555556,\"#d8576b\"],[0.6666666666666666,\"#ed7953\"],[0.7777777777777778,\"#fb9f3a\"],[0.8888888888888888,\"#fdca26\"],[1.0,\"#f0f921\"]]}],\"contourcarpet\":[{\"type\":\"contourcarpet\",\"colorbar\":{\"outlinewidth\":0,\"ticks\":\"\"}}],\"contour\":[{\"type\":\"contour\",\"colorbar\":{\"outlinewidth\":0,\"ticks\":\"\"},\"colorscale\":[[0.0,\"#0d0887\"],[0.1111111111111111,\"#46039f\"],[0.2222222222222222,\"#7201a8\"],[0.3333333333333333,\"#9c179e\"],[0.4444444444444444,\"#bd3786\"],[0.5555555555555556,\"#d8576b\"],[0.6666666666666666,\"#ed7953\"],[0.7777777777777778,\"#fb9f3a\"],[0.8888888888888888,\"#fdca26\"],[1.0,\"#f0f921\"]]}],\"surface\":[{\"type\":\"surface\",\"colorbar\":{\"outlinewidth\":0,\"ticks\":\"\"},\"colorscale\":[[0.0,\"#0d0887\"],[0.1111111111111111,\"#46039f\"],[0.2222222222222222,\"#7201a8\"],[0.3333333333333333,\"#9c179e\"],[0.4444444444444444,\"#bd3786\"],[0.5555555555555556,\"#d8576b\"],[0.6666666666666666,\"#ed7953\"],[0.7777777777777778,\"#fb9f3a\"],[0.8888888888888888,\"#fdca26\"],[1.0,\"#f0f921\"]]}],\"mesh3d\":[{\"type\":\"mesh3d\",\"colorbar\":{\"outlinewidth\":0,\"ticks\":\"\"}}],\"scatter\":[{\"fillpattern\":{\"fillmode\":\"overlay\",\"size\":10,\"solidity\":0.2},\"type\":\"scatter\"}],\"parcoords\":[{\"type\":\"parcoords\",\"line\":{\"colorbar\":{\"outlinewidth\":0,\"ticks\":\"\"}}}],\"scatterpolargl\":[{\"type\":\"scatterpolargl\",\"marker\":{\"colorbar\":{\"outlinewidth\":0,\"ticks\":\"\"}}}],\"bar\":[{\"error_x\":{\"color\":\"#2a3f5f\"},\"error_y\":{\"color\":\"#2a3f5f\"},\"marker\":{\"line\":{\"color\":\"#E5ECF6\",\"width\":0.5},\"pattern\":{\"fillmode\":\"overlay\",\"size\":10,\"solidity\":0.2}},\"type\":\"bar\"}],\"scattergeo\":[{\"type\":\"scattergeo\",\"marker\":{\"colorbar\":{\"outlinewidth\":0,\"ticks\":\"\"}}}],\"scatterpolar\":[{\"type\":\"scatterpolar\",\"marker\":{\"colorbar\":{\"outlinewidth\":0,\"ticks\":\"\"}}}],\"histogram\":[{\"marker\":{\"pattern\":{\"fillmode\":\"overlay\",\"size\":10,\"solidity\":0.2}},\"type\":\"histogram\"}],\"scattergl\":[{\"type\":\"scattergl\",\"marker\":{\"colorbar\":{\"outlinewidth\":0,\"ticks\":\"\"}}}],\"scatter3d\":[{\"type\":\"scatter3d\",\"line\":{\"colorbar\":{\"outlinewidth\":0,\"ticks\":\"\"}},\"marker\":{\"colorbar\":{\"outlinewidth\":0,\"ticks\":\"\"}}}],\"scattermapbox\":[{\"type\":\"scattermapbox\",\"marker\":{\"colorbar\":{\"outlinewidth\":0,\"ticks\":\"\"}}}],\"scatterternary\":[{\"type\":\"scatterternary\",\"marker\":{\"colorbar\":{\"outlinewidth\":0,\"ticks\":\"\"}}}],\"scattercarpet\":[{\"type\":\"scattercarpet\",\"marker\":{\"colorbar\":{\"outlinewidth\":0,\"ticks\":\"\"}}}],\"carpet\":[{\"aaxis\":{\"endlinecolor\":\"#2a3f5f\",\"gridcolor\":\"white\",\"linecolor\":\"white\",\"minorgridcolor\":\"white\",\"startlinecolor\":\"#2a3f5f\"},\"baxis\":{\"endlinecolor\":\"#2a3f5f\",\"gridcolor\":\"white\",\"linecolor\":\"white\",\"minorgridcolor\":\"white\",\"startlinecolor\":\"#2a3f5f\"},\"type\":\"carpet\"}],\"table\":[{\"cells\":{\"fill\":{\"color\":\"#EBF0F8\"},\"line\":{\"color\":\"white\"}},\"header\":{\"fill\":{\"color\":\"#C8D4E3\"},\"line\":{\"color\":\"white\"}},\"type\":\"table\"}],\"barpolar\":[{\"marker\":{\"line\":{\"color\":\"#E5ECF6\",\"width\":0.5},\"pattern\":{\"fillmode\":\"overlay\",\"size\":10,\"solidity\":0.2}},\"type\":\"barpolar\"}],\"pie\":[{\"automargin\":true,\"type\":\"pie\"}]},\"layout\":{\"autotypenumbers\":\"strict\",\"colorway\":[\"#636efa\",\"#EF553B\",\"#00cc96\",\"#ab63fa\",\"#FFA15A\",\"#19d3f3\",\"#FF6692\",\"#B6E880\",\"#FF97FF\",\"#FECB52\"],\"font\":{\"color\":\"#2a3f5f\"},\"hovermode\":\"closest\",\"hoverlabel\":{\"align\":\"left\"},\"paper_bgcolor\":\"white\",\"plot_bgcolor\":\"#E5ECF6\",\"polar\":{\"bgcolor\":\"#E5ECF6\",\"angularaxis\":{\"gridcolor\":\"white\",\"linecolor\":\"white\",\"ticks\":\"\"},\"radialaxis\":{\"gridcolor\":\"white\",\"linecolor\":\"white\",\"ticks\":\"\"}},\"ternary\":{\"bgcolor\":\"#E5ECF6\",\"aaxis\":{\"gridcolor\":\"white\",\"linecolor\":\"white\",\"ticks\":\"\"},\"baxis\":{\"gridcolor\":\"white\",\"linecolor\":\"white\",\"ticks\":\"\"},\"caxis\":{\"gridcolor\":\"white\",\"linecolor\":\"white\",\"ticks\":\"\"}},\"coloraxis\":{\"colorbar\":{\"outlinewidth\":0,\"ticks\":\"\"}},\"colorscale\":{\"sequential\":[[0.0,\"#0d0887\"],[0.1111111111111111,\"#46039f\"],[0.2222222222222222,\"#7201a8\"],[0.3333333333333333,\"#9c179e\"],[0.4444444444444444,\"#bd3786\"],[0.5555555555555556,\"#d8576b\"],[0.6666666666666666,\"#ed7953\"],[0.7777777777777778,\"#fb9f3a\"],[0.8888888888888888,\"#fdca26\"],[1.0,\"#f0f921\"]],\"sequentialminus\":[[0.0,\"#0d0887\"],[0.1111111111111111,\"#46039f\"],[0.2222222222222222,\"#7201a8\"],[0.3333333333333333,\"#9c179e\"],[0.4444444444444444,\"#bd3786\"],[0.5555555555555556,\"#d8576b\"],[0.6666666666666666,\"#ed7953\"],[0.7777777777777778,\"#fb9f3a\"],[0.8888888888888888,\"#fdca26\"],[1.0,\"#f0f921\"]],\"diverging\":[[0,\"#8e0152\"],[0.1,\"#c51b7d\"],[0.2,\"#de77ae\"],[0.3,\"#f1b6da\"],[0.4,\"#fde0ef\"],[0.5,\"#f7f7f7\"],[0.6,\"#e6f5d0\"],[0.7,\"#b8e186\"],[0.8,\"#7fbc41\"],[0.9,\"#4d9221\"],[1,\"#276419\"]]},\"xaxis\":{\"gridcolor\":\"white\",\"linecolor\":\"white\",\"ticks\":\"\",\"title\":{\"standoff\":15},\"zerolinecolor\":\"white\",\"automargin\":true,\"zerolinewidth\":2},\"yaxis\":{\"gridcolor\":\"white\",\"linecolor\":\"white\",\"ticks\":\"\",\"title\":{\"standoff\":15},\"zerolinecolor\":\"white\",\"automargin\":true,\"zerolinewidth\":2},\"scene\":{\"xaxis\":{\"backgroundcolor\":\"#E5ECF6\",\"gridcolor\":\"white\",\"linecolor\":\"white\",\"showbackground\":true,\"ticks\":\"\",\"zerolinecolor\":\"white\",\"gridwidth\":2},\"yaxis\":{\"backgroundcolor\":\"#E5ECF6\",\"gridcolor\":\"white\",\"linecolor\":\"white\",\"showbackground\":true,\"ticks\":\"\",\"zerolinecolor\":\"white\",\"gridwidth\":2},\"zaxis\":{\"backgroundcolor\":\"#E5ECF6\",\"gridcolor\":\"white\",\"linecolor\":\"white\",\"showbackground\":true,\"ticks\":\"\",\"zerolinecolor\":\"white\",\"gridwidth\":2}},\"shapedefaults\":{\"line\":{\"color\":\"#2a3f5f\"}},\"annotationdefaults\":{\"arrowcolor\":\"#2a3f5f\",\"arrowhead\":0,\"arrowwidth\":1},\"geo\":{\"bgcolor\":\"white\",\"landcolor\":\"#E5ECF6\",\"subunitcolor\":\"white\",\"showland\":true,\"showlakes\":true,\"lakecolor\":\"white\"},\"title\":{\"x\":0.05},\"mapbox\":{\"style\":\"light\"}}},\"xaxis\":{\"anchor\":\"y\",\"domain\":[0.0,1.0],\"title\":{\"text\":\"pca0\",\"font\":{\"size\":20}},\"tickfont\":{\"size\":20}},\"yaxis\":{\"anchor\":\"x\",\"domain\":[0.0,1.0],\"title\":{\"text\":\"pca1\",\"font\":{\"size\":20}},\"tickfont\":{\"size\":20}},\"coloraxis\":{\"colorbar\":{\"title\":{\"text\":\"ACT Composite 75th percentile\"}},\"colorscale\":[[0.0,\"#0d0887\"],[0.1111111111111111,\"#46039f\"],[0.2222222222222222,\"#7201a8\"],[0.3333333333333333,\"#9c179e\"],[0.4444444444444444,\"#bd3786\"],[0.5555555555555556,\"#d8576b\"],[0.6666666666666666,\"#ed7953\"],[0.7777777777777778,\"#fb9f3a\"],[0.8888888888888888,\"#fdca26\"],[1.0,\"#f0f921\"]]},\"legend\":{\"tracegroupgap\":0},\"title\":{\"text\":\"PCA of ACT Composite 75th percentile on 2019-2020 IPEDS Data\",\"font\":{\"size\":25}}},                        {\"responsive\": true}                    ).then(function(){\n",
       "                            \n",
       "var gd = document.getElementById('4c372e9f-4f72-4ac0-aef2-36d8a2538ea1');\n",
       "var x = new MutationObserver(function (mutations, observer) {{\n",
       "        var display = window.getComputedStyle(gd).display;\n",
       "        if (!display || display === 'none') {{\n",
       "            console.log([gd, 'removed!']);\n",
       "            Plotly.purge(gd);\n",
       "            observer.disconnect();\n",
       "        }}\n",
       "}});\n",
       "\n",
       "// Listen for the removal of the full notebook cells\n",
       "var notebookContainer = gd.closest('#notebook-container');\n",
       "if (notebookContainer) {{\n",
       "    x.observe(notebookContainer, {childList: true});\n",
       "}}\n",
       "\n",
       "// Listen for the clearing of the current output cell\n",
       "var outputEl = gd.closest('.output');\n",
       "if (outputEl) {{\n",
       "    x.observe(outputEl, {childList: true});\n",
       "}}\n",
       "\n",
       "                        })                };                });            </script>        </div>"
      ]
     },
     "metadata": {},
     "output_type": "display_data"
    }
   ],
   "source": [
    "# importing necessary libraries\n",
    "import plotly.express as px\n",
    "import seaborn as sns\n",
    "from sklearn.decomposition import PCA\n",
    "import pandas as pd\n",
    "\n",
    "# define iterable dataframes\n",
    "dfs = [pd.read_csv(f'IPEDS_201{yr}.csv') for yr in range(7, 10)]\n",
    "year = 17\n",
    "\n",
    "# for each dataframe\n",
    "for df in dfs:\n",
    "    # isolating quantitative x features\n",
    "    x_feat_list = df.columns[2:9]\n",
    "    x_feat_list = x_feat_list.append(df.columns[11:33])\n",
    "    \n",
    "    # isolating x data\n",
    "    x = df.loc[:, 'Percent on any financial aid' : 'Enrolled part time total']\n",
    "    x = x.drop('State', axis = 1)\n",
    "    \n",
    "    # normalizing x data\n",
    "    x /= x.std()\n",
    "    \n",
    "    # isolating y data\n",
    "    y_feat = 'ACT Composite 75th percentile'\n",
    "    y = df.loc[:, y_feat]\n",
    "    \n",
    "    # fitting PCA model and adding PCA variables to dataframe\n",
    "    pca = PCA(n_components = 2, whiten = True)\n",
    "    df['pca0'], df['pca1'] = pca.fit_transform(x).T\n",
    "\n",
    "    # plotting PCA analysis\n",
    "    fig = px.scatter(df, x = 'pca0', y = 'pca1', hover_data = ['Name', 'Full-time undergraduate enrollment'], \\\n",
    "                     color = y_feat, title = f'PCA of {y_feat} on 20{year}-20{year + 1} IPEDS Data')\n",
    "    \n",
    "    # adjusting font sizes\n",
    "    fig.update_layout(\n",
    "        title_font_size=25,\n",
    "        xaxis = dict(titlefont = dict(size=20), tickfont = dict(size=20)),\n",
    "        yaxis = dict(titlefont = dict(size=20), tickfont = dict(size=20)),\n",
    "    )\n",
    "    \n",
    "    # showing figure\n",
    "    fig.show()\n",
    "    \n",
    "    # move onto next dataframe\n",
    "    year += 1"
   ]
  },
  {
   "cell_type": "code",
   "execution_count": 2,
   "id": "25105f64",
   "metadata": {
    "scrolled": false
   },
   "outputs": [
    {
     "data": {
      "text/plain": [
       "Text(0.5, 1.0, 'Mean Squared Distance for Different Number of Clusters on PCA Data')"
      ]
     },
     "execution_count": 2,
     "metadata": {},
     "output_type": "execute_result"
    },
    {
     "data": {
      "image/png": "[encoded data removed]",
      "text/plain": [
       "<Figure size 640x480 with 1 Axes>"
      ]
     },
     "metadata": {},
     "output_type": "display_data"
    }
   ],
   "source": [
    "# import libraries\n",
    "from sklearn.cluster import KMeans\n",
    "import matplotlib.pyplot as plt\n",
    "import numpy as np\n",
    "\n",
    "sns.set()\n",
    "\n",
    "# keys are k (number of clusters), values are mean_d (mean distance\n",
    "# from each sample to its cluster centroid)\n",
    "mean_d_dict = dict()\n",
    "\n",
    "# defining pca variable\n",
    "pca = df.loc[:, 'pca0' : 'pca1']\n",
    "\n",
    "# iterating k means for several numbers of clusters\n",
    "for n_clusters in range(2, 10):\n",
    "    # fit kmeans\n",
    "    kmeans = KMeans(n_clusters=n_clusters)\n",
    "    kmeans.fit(pca)\n",
    "    pca_y = kmeans.predict(pca)    \n",
    "        \n",
    "    # compute & store mean distance\n",
    "    mean_d = -kmeans.score(pca)\n",
    "    mean_d_dict[n_clusters] = mean_d\n",
    "\n",
    "# plotting elbow function\n",
    "plt.plot(mean_d_dict.keys(), mean_d_dict.values())\n",
    "plt.xlabel('Number of Clusters')\n",
    "plt.ylabel('Mean Squared Distance to Centroid')\n",
    "plt.title('Mean Squared Distance for Different Number of Clusters on PCA Data')"
   ]
  },
  {
   "cell_type": "code",
   "execution_count": 3,
   "id": "6a32a925",
   "metadata": {
    "scrolled": false
   },
   "outputs": [
    {
     "data": {
      "application/vnd.plotly.v1+json": {
       "config": {
        "plotlyServerURL": "https://plot.ly"
       },
       "data": [
        {
         "customdata": [
          [
           "Abilene Christian University",
           3352,
           26
          ],
          [
           "Abraham Baldwin Agricultural College",
           2480,
           39
          ],
          [
           "Adams State University",
           1362,
           41
          ],
          [
           "Adelphi University",
           5063,
           27
          ],
          [
           "Adrian College",
           1723,
           35
          ],
          [
           "AdventHealth University",
           390,
           35
          ],
          [
           "Alabama A & M University",
           4975,
           71
          ],
          [
           "Alabama State University",
           3446,
           74
          ],
          [
           "Alcorn State University",
           2729,
           78
          ],
          [
           "Allegheny College",
           1713,
           32
          ],
          [
           "American University",
           8207,
           14
          ],
          [
           "Anderson University",
           1213,
           37
          ],
          [
           "Anderson University",
           2544,
           24
          ],
          [
           "Andrew College",
           188,
           60
          ],
          [
           "Andrews University",
           1352,
           22
          ],
          [
           "Angelo State University",
           5469,
           31
          ],
          [
           "Appalachian Bible College",
           173,
           41
          ],
          [
           "Appalachian State University",
           16622,
           29
          ],
          [
           "Aquinas College",
           1196,
           27
          ],
          [
           "Arcadia University",
           1929,
           34
          ],
          [
           "Arizona Christian University",
           713,
           38
          ],
          [
           "Arizona State University Campus Immersion",
           41182,
           33
          ],
          [
           "Arkansas State University",
           6439,
           39
          ],
          [
           "Art Academy of Cincinnati",
           204,
           57
          ],
          [
           "Ashland University",
           2687,
           28
          ],
          [
           "Auburn University",
           22527,
           13
          ],
          [
           "Auburn University at Montgomery",
           3505,
           47
          ],
          [
           "Augsburg University",
           2178,
           49
          ],
          [
           "Augusta University",
           4562,
           39
          ],
          [
           "Augustana University",
           1727,
           19
          ],
          [
           "Aurora University",
           3679,
           44
          ],
          [
           "Austin Peay State University",
           6773,
           48
          ],
          [
           "Azusa Pacific University",
           4411,
           35
          ],
          [
           "Bacone College",
           235,
           65
          ],
          [
           "Baker University",
           1092,
           26
          ],
          [
           "Barnard College",
           2584,
           14
          ],
          [
           "Barry University",
           3015,
           47
          ],
          [
           "Barton College",
           990,
           42
          ],
          [
           "Baylor University",
           13906,
           17
          ],
          [
           "Becker College",
           1321,
           35
          ],
          [
           "Bellarmine University",
           2416,
           24
          ],
          [
           "Belmont Abbey College",
           1388,
           31
          ],
          [
           "Belmont University",
           6563,
           16
          ],
          [
           "Benedictine University",
           2131,
           41
          ],
          [
           "Bentley University",
           4177,
           14
          ],
          [
           "Bethany Lutheran College",
           591,
           23
          ],
          [
           "Bethel University",
           1018,
           40
          ],
          [
           "Bethel University",
           2327,
           24
          ],
          [
           "Bethel University",
           2300,
           40
          ],
          [
           "Biola University",
           3772,
           28
          ],
          [
           "Black Hills State University",
           1945,
           23
          ],
          [
           "Blackburn College",
           467,
           61
          ],
          [
           "Bloomfield College",
           1516,
           72
          ],
          [
           "Bloomsburg University of Pennsylvania",
           7263,
           32
          ],
          [
           "Blue Mountain College",
           590,
           39
          ],
          [
           "Bluefield University",
           781,
           52
          ],
          [
           "Bluffton University",
           626,
           36
          ],
          [
           "Boise Bible College",
           74,
           47
          ],
          [
           "Boise State University",
           13104,
           21
          ],
          [
           "Boston Baptist College",
           32,
           33
          ],
          [
           "Boston University",
           16978,
           16
          ],
          [
           "Bowling Green State University-Main Campus",
           12936,
           25
          ],
          [
           "Bradley University",
           4508,
           29
          ],
          [
           "Brenau University",
           1105,
           47
          ],
          [
           "Brewton-Parker College",
           484,
           36
          ],
          [
           "Brigham Young University",
           28288,
           35
          ],
          [
           "Brigham Young University-Hawaii",
           2851,
           19
          ],
          [
           "Brigham Young University-Idaho",
           18448,
           33
          ],
          [
           "Buena Vista University",
           1257,
           49
          ],
          [
           "Bushnell University",
           450,
           36
          ],
          [
           "Butler University",
           4509,
           13
          ],
          [
           "Cairn University-Langhorne",
           809,
           36
          ],
          [
           "Caldwell University",
           1609,
           46
          ],
          [
           "California Baptist University",
           7333,
           45
          ],
          [
           "California Polytechnic State University-San Luis Obispo",
           19685,
           17
          ],
          [
           "California State Polytechnic University-Humboldt",
           6087,
           53
          ],
          [
           "California State Polytechnic University-Pomona",
           23596,
           49
          ],
          [
           "California State University-Chico",
           15000,
           44
          ],
          [
           "California State University-Fresno",
           18901,
           58
          ],
          [
           "California State University-Fullerton",
           28820,
           48
          ],
          [
           "California State University-Long Beach",
           28752,
           51
          ],
          [
           "California State University-Los Angeles",
           19729,
           68
          ],
          [
           "California State University-Monterey Bay",
           6055,
           47
          ],
          [
           "California State University-Northridge",
           29320,
           58
          ],
          [
           "California State University-Sacramento",
           24105,
           52
          ],
          [
           "California State University-San Bernardino",
           16549,
           61
          ],
          [
           "California State University-San Marcos",
           12155,
           47
          ],
          [
           "California University of Pennsylvania",
           3979,
           40
          ],
          [
           "Calvary University",
           216,
           34
          ],
          [
           "Calvin University",
           3234,
           17
          ],
          [
           "Campbell University",
           3257,
           34
          ],
          [
           "Capital University",
           2400,
           29
          ],
          [
           "Capitol Technology University",
           340,
           40
          ],
          [
           "Cardinal Stritch University",
           721,
           33
          ],
          [
           "Carlow University",
           1037,
           43
          ],
          [
           "Carnegie Mellon University",
           6425,
           15
          ],
          [
           "Carolina University",
           254,
           75
          ],
          [
           "Carroll College",
           1140,
           21
          ],
          [
           "Carroll University",
           2767,
           23
          ],
          [
           "Carson-Newman University",
           1716,
           46
          ],
          [
           "Carthage College",
           2548,
           27
          ],
          [
           "Case Western Reserve University",
           5237,
           14
          ],
          [
           "Castleton University",
           1694,
           37
          ],
          [
           "Cedarville University",
           3438,
           19
          ],
          [
           "Centenary College of Louisiana",
           541,
           36
          ],
          [
           "Centenary University",
           1038,
           36
          ],
          [
           "Central Baptist College",
           546,
           46
          ],
          [
           "Central Connecticut State University",
           7253,
           38
          ],
          [
           "Central Michigan University",
           12798,
           34
          ],
          [
           "Central State University",
           1919,
           94
          ],
          [
           "Central Washington University",
           9977,
           34
          ],
          [
           "Chaminade University of Honolulu",
           1334,
           42
          ],
          [
           "Champlain College",
           2447,
           22
          ],
          [
           "Chapman University",
           7046,
           19
          ],
          [
           "Charleston Southern University",
           2558,
           37
          ],
          [
           "Chicago State University",
           1361,
           62
          ],
          [
           "Citadel Military College of South Carolina",
           2688,
           21
          ],
          [
           "Claremont McKenna College",
           1340,
           18
          ],
          [
           "Clarion University of Pennsylvania",
           2992,
           39
          ],
          [
           "Clarke University",
           645,
           35
          ],
          [
           "Clarkson University",
           3012,
           23
          ],
          [
           "Cleary University",
           339,
           32
          ],
          [
           "Clemson University",
           19486,
           16
          ],
          [
           "Cleveland Institute of Art",
           633,
           43
          ],
          [
           "Cleveland State University",
           9097,
           40
          ],
          [
           "Coastal Carolina University",
           8810,
           34
          ],
          [
           "Coker University",
           920,
           55
          ],
          [
           "College of Charleston",
           8762,
           22
          ],
          [
           "College of Coastal Georgia",
           1997,
           40
          ],
          [
           "College of Our Lady of the Elms",
           997,
           44
          ],
          [
           "College of Saint Benedict",
           1731,
           23
          ],
          [
           "Colorado Mesa University",
           6972,
           32
          ],
          [
           "Colorado School of Mines",
           4930,
           15
          ],
          [
           "Colorado State University Pueblo",
           2985,
           36
          ],
          [
           "Colorado State University-Fort Collins",
           22247,
           23
          ],
          [
           "Columbia University in the City of New York",
           7701,
           23
          ],
          [
           "Columbus State University",
           4554,
           45
          ],
          [
           "Concord University",
           1436,
           48
          ],
          [
           "Concordia College",
           1129,
           43
          ],
          [
           "Concordia University Texas",
           1440,
           39
          ],
          [
           "Converse University",
           761,
           42
          ],
          [
           "Cooper Union for the Advancement of Science and Art",
           854,
           26
          ],
          [
           "Coppin State University",
           1804,
           60
          ],
          [
           "Corban University",
           888,
           31
          ],
          [
           "Cornerstone University",
           1020,
           36
          ],
          [
           "Cottey College",
           254,
           47
          ],
          [
           "Creighton University",
           4325,
           12
          ],
          [
           "Crown College",
           604,
           28
          ],
          [
           "Culver-Stockton College",
           882,
           39
          ],
          [
           "Cumberland University",
           1827,
           34
          ],
          [
           "Curry College",
           1969,
           28
          ],
          [
           "D'Youville College",
           1179,
           31
          ],
          [
           "Dakota State University",
           1503,
           22
          ],
          [
           "Dallas Christian College",
           146,
           49
          ],
          [
           "Davis & Elkins College",
           751,
           48
          ],
          [
           "Defiance College",
           464,
           48
          ],
          [
           "Delaware State University",
           3790,
           47
          ],
          [
           "Delta State University",
           1981,
           34
          ],
          [
           "DePauw University",
           1943,
           19
          ],
          [
           "DeSales University",
           1963,
           26
          ],
          [
           "Dickinson State University",
           922,
           26
          ],
          [
           "DigiPen Institute of Technology",
           1027,
           25
          ],
          [
           "Dominican University",
           2011,
           46
          ],
          [
           "Dominican University of California",
           1239,
           26
          ],
          [
           "Drake University",
           2830,
           19
          ],
          [
           "Drexel University",
           13878,
           24
          ],
          [
           "Drury University",
           1444,
           31
          ],
          [
           "Duquesne University",
           5732,
           18
          ],
          [
           "East Carolina University",
           19204,
           33
          ],
          [
           "East Central University",
           2471,
           43
          ],
          [
           "East Stroudsburg University of Pennsylvania",
           4939,
           41
          ],
          [
           "East Tennessee State University",
           9228,
           39
          ],
          [
           "East Texas Baptist University",
           1230,
           40
          ],
          [
           "Eastern Kentucky University",
           9908,
           38
          ],
          [
           "Eastern Mennonite University",
           828,
           31
          ],
          [
           "Eastern Michigan University",
           10572,
           38
          ],
          [
           "Eastern New Mexico University-Main Campus",
           2400,
           33
          ],
          [
           "Eastern Oregon University",
           1639,
           40
          ],
          [
           "Eastern University",
           1328,
           43
          ],
          [
           "Eastern Washington University",
           9498,
           36
          ],
          [
           "Eckerd College",
           1958,
           21
          ],
          [
           "Edgewood College",
           1191,
           27
          ],
          [
           "Edinboro University of Pennsylvania",
           2998,
           40
          ],
          [
           "Edward Waters University",
           862,
           25
          ],
          [
           "Elizabeth City State University",
           1516,
           66
          ],
          [
           "Elizabethtown College",
           1503,
           21
          ],
          [
           "Elmhurst University",
           2722,
           36
          ],
          [
           "Emerson College",
           3827,
           16
          ],
          [
           "Emmanuel College",
           829,
           39
          ],
          [
           "Emmaus Bible College",
           186,
           45
          ],
          [
           "Emory & Henry College",
           988,
           45
          ],
          [
           "Erskine College",
           771,
           43
          ],
          [
           "Eureka College",
           480,
           39
          ],
          [
           "Fairmont State University",
           2955,
           39
          ],
          [
           "Faulkner University",
           1484,
           50
          ],
          [
           "Fayetteville State University",
           4071,
           54
          ],
          [
           "Felician University",
           1640,
           53
          ],
          [
           "Ferris State University",
           7779,
           35
          ],
          [
           "Finlandia University",
           370,
           54
          ],
          [
           "Fisk University",
           822,
           60
          ],
          [
           "Fitchburg State University",
           3164,
           35
          ],
          [
           "Florida Agricultural and Mechanical University",
           6802,
           60
          ],
          [
           "Florida Atlantic University",
           16678,
           38
          ],
          [
           "Florida College",
           521,
           29
          ],
          [
           "Florida Gulf Coast University",
           11211,
           31
          ],
          [
           "Florida Institute of Technology",
           3169,
           21
          ],
          [
           "Florida International University",
           28335,
           48
          ],
          [
           "Florida Southern College",
           2537,
           26
          ],
          [
           "Florida State University",
           29879,
           26
          ],
          [
           "Fordham University",
           9229,
           18
          ],
          [
           "Fort Lewis College",
           2862,
           36
          ],
          [
           "Fort Valley State University",
           2059,
           75
          ],
          [
           "Francis Marion University",
           2900,
           47
          ],
          [
           "Franciscan University of Steubenville",
           2063,
           23
          ],
          [
           "Freed-Hardeman University",
           1306,
           25
          ],
          [
           "Fresno Pacific University",
           2442,
           65
          ],
          [
           "Friends University",
           860,
           35
          ],
          [
           "Frostburg State University",
           3522,
           35
          ],
          [
           "Gallaudet University",
           1005,
           56
          ],
          [
           "Gannon University",
           2775,
           26
          ],
          [
           "Gardner-Webb University",
           1632,
           45
          ],
          [
           "Geneva College",
           1116,
           36
          ],
          [
           "George Fox University",
           2428,
           28
          ],
          [
           "George Mason University",
           21672,
           30
          ],
          [
           "George Washington University",
           11102,
           14
          ],
          [
           "Georgetown University",
           7029,
           13
          ],
          [
           "Georgia College & State University",
           5364,
           19
          ],
          [
           "Georgia Institute of Technology-Main Campus",
           14310,
           13
          ],
          [
           "Georgia Southern University",
           19172,
           36
          ],
          [
           "Georgia Southwestern State University",
           1648,
           38
          ],
          [
           "Georgia State University",
           21958,
           49
          ],
          [
           "Georgian Court University",
           1417,
           36
          ],
          [
           "Gonzaga University",
           5123,
           12
          ],
          [
           "Gordon College",
           1440,
           21
          ],
          [
           "Gordon State College",
           2228,
           49
          ],
          [
           "Goshen College",
           751,
           33
          ],
          [
           "Governors State University",
           1918,
           54
          ],
          [
           "Graceland University-Lamoni",
           898,
           49
          ],
          [
           "Grand Valley State University",
           18810,
           29
          ],
          [
           "Grand View University",
           1586,
           39
          ],
          [
           "Greensboro College",
           704,
           44
          ],
          [
           "Greenville University",
           838,
           42
          ],
          [
           "Hamline University",
           2008,
           39
          ],
          [
           "Hanover College",
           1065,
           30
          ],
          [
           "Hardin-Simmons University",
           1615,
           38
          ],
          [
           "Harding University",
           3533,
           23
          ],
          [
           "Hastings College",
           958,
           32
          ],
          [
           "Heidelberg University",
           1043,
           34
          ],
          [
           "Henderson State University",
           2718,
           43
          ],
          [
           "Hendrix College",
           1101,
           30
          ],
          [
           "Hiram College",
           808,
           36
          ],
          [
           "Hofstra University",
           6156,
           22
          ],
          [
           "Hollins University",
           659,
           36
          ],
          [
           "Holy Cross College",
           430,
           29
          ],
          [
           "Holy Family University",
           1696,
           35
          ],
          [
           "Holy Names University",
           591,
           47
          ],
          [
           "Hope College",
           2957,
           18
          ],
          [
           "Hope International University",
           539,
           54
          ],
          [
           "Houston Baptist University",
           2067,
           49
          ],
          [
           "Howard Payne University",
           738,
           37
          ],
          [
           "Howard University",
           6269,
           44
          ],
          [
           "Huntingdon College",
           830,
           41
          ],
          [
           "Huntington University",
           864,
           32
          ],
          [
           "Husson University",
           2404,
           42
          ],
          [
           "Huston-Tillotson University",
           1026,
           71
          ],
          [
           "Illinois Institute of Technology",
           2882,
           29
          ],
          [
           "Indiana Institute of Technology",
           1429,
           39
          ],
          [
           "Indiana University of Pennsylvania-Main Campus",
           7695,
           38
          ],
          [
           "Indiana University-Bloomington",
           31981,
           18
          ],
          [
           "Indiana University-Purdue University-Indianapolis",
           17630,
           35
          ],
          [
           "Indiana University-South Bend",
           3481,
           41
          ],
          [
           "Indiana University-Southeast",
           3099,
           36
          ],
          [
           "Indiana Wesleyan University-Marion",
           2528,
           28
          ],
          [
           "Iowa State University",
           26713,
           20
          ],
          [
           "Iowa Wesleyan University",
           560,
           53
          ],
          [
           "Jackson State University",
           4126,
           71
          ],
          [
           "Jacksonville State University",
           5942,
           40
          ],
          [
           "Jacksonville University",
           2391,
           31
          ],
          [
           "John Carroll University",
           2925,
           20
          ],
          [
           "John Paul the Great Catholic University",
           262,
           36
          ],
          [
           "Johnson C Smith University",
           1359,
           74
          ],
          [
           "Johnson University",
           601,
           43
          ],
          [
           "Johnson University Florida",
           170,
           65
          ],
          [
           "Judson University",
           944,
           42
          ],
          [
           "Kennesaw State University",
           25745,
           34
          ],
          [
           "Kent State University at Kent",
           18432,
           30
          ],
          [
           "Kentucky State University",
           1156,
           45
          ],
          [
           "Kentucky Wesleyan College",
           803,
           43
          ],
          [
           "Kettering University",
           1720,
           20
          ],
          [
           "King University",
           1483,
           48
          ],
          [
           "Kutztown University of Pennsylvania",
           6458,
           33
          ],
          [
           "Kuyper College",
           103,
           37
          ],
          [
           "La Sierra University",
           1476,
           47
          ],
          [
           "LaGrange College",
           847,
           42
          ],
          [
           "Lake Superior State University",
           1542,
           31
          ],
          [
           "Lakeland University",
           803,
           42
          ],
          [
           "Lamar University",
           5243,
           41
          ],
          [
           "Lancaster Bible College",
           994,
           38
          ],
          [
           "Lander University",
           2941,
           43
          ],
          [
           "Lawrence Technological University",
           1677,
           22
          ],
          [
           "Lawrence University",
           1348,
           24
          ],
          [
           "Le Moyne College",
           2392,
           30
          ],
          [
           "Lee University",
           3677,
           30
          ],
          [
           "Lenoir-Rhyne University",
           1589,
           37
          ],
          [
           "Lesley University",
           1599,
           31
          ],
          [
           "LeTourneau University",
           1347,
           21
          ],
          [
           "Lewis University",
           3542,
           33
          ],
          [
           "Lewis-Clark State College",
           2172,
           31
          ],
          [
           "Liberty University",
           28487,
           42
          ],
          [
           "Life Pacific University",
           400,
           54
          ],
          [
           "Life University",
           729,
           39
          ],
          [
           "LIM College",
           1276,
           37
          ],
          [
           "Limestone University",
           1647,
           52
          ],
          [
           "Lincoln Memorial University",
           1427,
           47
          ],
          [
           "Lincoln University",
           1901,
           64
          ],
          [
           "Lindenwood University",
           5000,
           31
          ],
          [
           "Linfield University-McMinnville Campus",
           1383,
           27
          ],
          [
           "Lipscomb University",
           2679,
           22
          ],
          [
           "Lock Haven University",
           2480,
           38
          ],
          [
           "Long Island University",
           5630,
           21
          ],
          [
           "Loras College",
           1264,
           27
          ],
          [
           "Louisburg College",
           546,
           76
          ],
          [
           "Louisiana College",
           890,
           47
          ],
          [
           "Louisiana State University and Agricultural & Mechanical College",
           22726,
           24
          ],
          [
           "Louisiana Tech University",
           8131,
           23
          ],
          [
           "Lourdes University",
           858,
           39
          ],
          [
           "Loyola Marymount University",
           6548,
           15
          ],
          [
           "Loyola University Chicago",
           11622,
           23
          ],
          [
           "Loyola University New Orleans",
           2876,
           35
          ],
          [
           "Lubbock Christian University",
           1201,
           32
          ],
          [
           "Madonna University",
           1645,
           30
          ],
          [
           "Malone University",
           923,
           36
          ],
          [
           "Manhattan College",
           3365,
           28
          ],
          [
           "Manor College",
           453,
           61
          ],
          [
           "Mansfield University of Pennsylvania",
           1484,
           47
          ],
          [
           "Maranatha Baptist University",
           509,
           34
          ],
          [
           "Marian University",
           2039,
           24
          ],
          [
           "Marquette University",
           8175,
           19
          ],
          [
           "Mars Hill University",
           987,
           55
          ],
          [
           "Marshall University",
           7123,
           38
          ],
          [
           "Martin Luther College",
           705,
           27
          ],
          [
           "Maryland Institute College of Art",
           1666,
           20
          ],
          [
           "Marymount Manhattan College",
           1660,
           26
          ],
          [
           "Marymount University",
           1951,
           28
          ],
          [
           "Marywood University",
           1649,
           32
          ],
          [
           "McMurry University",
           1020,
           50
          ],
          [
           "McNeese State University",
           5407,
           31
          ],
          [
           "McPherson College",
           753,
           36
          ],
          [
           "MCPHS University",
           3843,
           25
          ],
          [
           "Mercer University",
           4260,
           33
          ],
          [
           "Meredith College",
           1464,
           32
          ],
          [
           "Methodist University",
           1500,
           38
          ],
          [
           "Miami University-Oxford",
           16682,
           11
          ],
          [
           "Michigan State University",
           35722,
           22
          ],
          [
           "Michigan Technological University",
           5383,
           22
          ],
          [
           "Mid-Atlantic Christian University",
           168,
           53
          ],
          [
           "Middle Georgia State University",
           4904,
           45
          ],
          [
           "Middle Tennessee State University",
           15721,
           37
          ],
          [
           "Midway University",
           888,
           45
          ],
          [
           "Midwestern Baptist Theological Seminary",
           362,
           34
          ],
          [
           "Midwestern State University",
           4084,
           40
          ],
          [
           "Milligan University",
           767,
           26
          ],
          [
           "Millikin University",
           1919,
           36
          ],
          [
           "Milwaukee School of Engineering",
           2478,
           24
          ],
          [
           "Minnesota State University Moorhead",
           3787,
           30
          ],
          [
           "Minot State University",
           1921,
           22
          ],
          [
           "Misericordia University",
           1584,
           26
          ],
          [
           "Mississippi College",
           2516,
           30
          ],
          [
           "Mississippi University for Women",
           2026,
           46
          ],
          [
           "Missouri Baptist University",
           1526,
           16
          ],
          [
           "Missouri State University-Springfield",
           14005,
           25
          ],
          [
           "Missouri University of Science and Technology",
           5692,
           23
          ],
          [
           "Monmouth University",
           4301,
           30
          ],
          [
           "Montana State University",
           12359,
           22
          ],
          [
           "Montana Technological University",
           1369,
           29
          ],
          [
           "Montreat College",
           613,
           40
          ],
          [
           "Morehouse College",
           2145,
           48
          ],
          [
           "Morgan State University",
           5759,
           53
          ],
          [
           "Mount Saint Joseph University",
           1008,
           27
          ],
          [
           "Mount Saint Mary College",
           1596,
           30
          ],
          [
           "Mount St. Mary's University",
           1762,
           24
          ],
          [
           "Mount Vernon Nazarene University",
           1670,
           35
          ],
          [
           "Murray State University",
           6190,
           31
          ],
          [
           "Muskingum University",
           1365,
           41
          ],
          [
           "New Jersey Institute of Technology",
           6878,
           37
          ],
          [
           "New Mexico Institute of Mining and Technology",
           1178,
           33
          ],
          [
           "New Mexico State University-Main Campus",
           9740,
           46
          ],
          [
           "New York Institute of Technology",
           3357,
           39
          ],
          [
           "Newberry College",
           1225,
           48
          ],
          [
           "Newman University",
           944,
           14
          ],
          [
           "Niagara University",
           2692,
           28
          ],
          [
           "Nicholls State University",
           4975,
           38
          ],
          [
           "North Carolina A & T State University",
           10013,
           56
          ],
          [
           "North Carolina Central University",
           5012,
           60
          ],
          [
           "North Carolina State University at Raleigh",
           22820,
           19
          ],
          [
           "North Carolina Wesleyan College",
           1600,
           52
          ],
          [
           "North Central University",
           967,
           37
          ],
          [
           "North Dakota State University-Main Campus",
           9638,
           20
          ],
          [
           "North Greenville University",
           1758,
           33
          ],
          [
           "North Park University",
           1723,
           46
          ],
          [
           "Northeastern State University",
           4341,
           45
          ],
          [
           "Northern Kentucky University",
           8243,
           27
          ],
          [
           "Northern Michigan University",
           6191,
           32
          ],
          [
           "Northern State University",
           1265,
           15
          ],
          [
           "Northwest Missouri State University",
           4954,
           31
          ],
          [
           "Northwest University",
           923,
           34
          ],
          [
           "Northwestern State University of Louisiana",
           6340,
           42
          ],
          [
           "Northwood University",
           1544,
           26
          ],
          [
           "Notre Dame College",
           1130,
           40
          ],
          [
           "Nova Southeastern University",
           4619,
           41
          ],
          [
           "Oakland City University",
           609,
           18
          ],
          [
           "Oakland University",
           12454,
           31
          ],
          [
           "Oakwood University",
           1366,
           54
          ],
          [
           "Oglethorpe University",
           1328,
           37
          ],
          [
           "Ohio Dominican University",
           920,
           40
          ],
          [
           "Ohio Northern University",
           2095,
           23
          ],
          [
           "Ohio State University-Main Campus",
           42776,
           20
          ],
          [
           "Ohio University-Main Campus",
           16209,
           23
          ],
          [
           "Ohio Valley University",
           271,
           60
          ],
          [
           "Oklahoma City University",
           1510,
           23
          ],
          [
           "Oklahoma State University-Main Campus",
           17291,
           28
          ],
          [
           "Oklahoma Wesleyan University",
           546,
           39
          ],
          [
           "Old Dominion University",
           14702,
           38
          ],
          [
           "Olivet Nazarene University",
           2855,
           35
          ],
          [
           "Oral Roberts University",
           2714,
           38
          ],
          [
           "Oregon Institute of Technology",
           2370,
           23
          ],
          [
           "Oregon State University",
           18554,
           23
          ],
          [
           "Oregon State University-Cascades Campus",
           471,
           33
          ],
          [
           "Ottawa University-Ottawa",
           645,
           44
          ],
          [
           "Otterbein University",
           2332,
           27
          ],
          [
           "Ouachita Baptist University",
           1506,
           26
          ],
          [
           "Our Lady of the Lake University",
           1244,
           58
          ],
          [
           "Ozark Christian College",
           559,
           41
          ],
          [
           "Pacific Lutheran University",
           2627,
           32
          ],
          [
           "Pacific Union College",
           822,
           43
          ],
          [
           "Paine College",
           395,
           83
          ],
          [
           "Palm Beach Atlantic University",
           2264,
           29
          ],
          [
           "Paul Quinn College",
           525,
           79
          ],
          [
           "Pepperdine University",
           3320,
           18
          ],
          [
           "Pfeiffer University",
           837,
           51
          ],
          [
           "Piedmont University",
           1155,
           43
          ],
          [
           "Point Loma Nazarene University",
           2611,
           26
          ],
          [
           "Point Park University",
           2626,
           41
          ],
          [
           "Point University",
           1109,
           28
          ],
          [
           "Pomona College",
           1617,
           21
          ],
          [
           "Portland State University",
           13949,
           39
          ],
          [
           "Prairie View A & M University",
           7501,
           63
          ],
          [
           "Pratt Institute-Main",
           3570,
           17
          ],
          [
           "Presentation College",
           359,
           35
          ],
          [
           "Providence College",
           3891,
           14
          ],
          [
           "Purdue University Fort Wayne",
           5370,
           26
          ],
          [
           "Purdue University Northwest",
           5561,
           32
          ],
          [
           "Purdue University-Main Campus",
           32606,
           15
          ],
          [
           "Queens University of Charlotte",
           1570,
           26
          ],
          [
           "Quincy University",
           934,
           32
          ],
          [
           "Ramapo College of New Jersey",
           4870,
           26
          ],
          [
           "Randolph-Macon College",
           1520,
           21
          ],
          [
           "Regent University",
           2333,
           49
          ],
          [
           "Reinhardt University",
           1262,
           40
          ],
          [
           "Rider University",
           3465,
           32
          ],
          [
           "Roanoke College",
           1942,
           26
          ],
          [
           "Robert Morris University",
           3500,
           28
          ],
          [
           "Roberts Wesleyan College",
           1176,
           34
          ],
          [
           "Rochester Institute of Technology",
           12254,
           28
          ],
          [
           "Rochester University",
           658,
           37
          ],
          [
           "Rocky Mountain College",
           829,
           35
          ],
          [
           "Roosevelt University",
           1965,
           50
          ],
          [
           "Rosemont College",
           390,
           40
          ],
          [
           "Rowan University",
           14055,
           32
          ],
          [
           "Rutgers University-Camden",
           4767,
           44
          ],
          [
           "Rutgers University-New Brunswick",
           34285,
           27
          ],
          [
           "Rutgers University-Newark",
           7975,
           53
          ],
          [
           "Saginaw Valley State University",
           6348,
           35
          ],
          [
           "Saint Anselm College",
           2014,
           12
          ],
          [
           "Saint Cloud State University",
           6977,
           25
          ],
          [
           "Saint Edward's University",
           3199,
           38
          ],
          [
           "Saint Francis University",
           1466,
           20
          ],
          [
           "Saint John Fisher College",
           2535,
           27
          ],
          [
           "Saint Johns University",
           1604,
           21
          ],
          [
           "Saint Louis University",
           6691,
           17
          ],
          [
           "Saint Martin's University",
           1257,
           37
          ],
          [
           "Saint Mary's University of Minnesota",
           1132,
           30
          ],
          [
           "Saint Mary-of-the-Woods College",
           629,
           52
          ],
          [
           "Saint Norbert College",
           1962,
           18
          ],
          [
           "Saint Vincent College",
           1491,
           29
          ],
          [
           "Salem College",
           473,
           55
          ],
          [
           "Sam Houston State University",
           15311,
           41
          ],
          [
           "Samford University",
           3509,
           11
          ],
          [
           "San Diego Christian College",
           380,
           46
          ],
          [
           "San Diego State University",
           27638,
           33
          ],
          [
           "San Francisco State University",
           21687,
           43
          ],
          [
           "San Jose State University",
           23593,
           39
          ],
          [
           "Savannah College of Art and Design",
           10260,
           20
          ],
          [
           "Savannah State University",
           2972,
           70
          ],
          [
           "School of the Art Institute of Chicago",
           2804,
           19
          ],
          [
           "Schreiner University",
           1087,
           35
          ],
          [
           "Scripps College",
           1082,
           11
          ],
          [
           "Seattle Pacific University",
           2636,
           32
          ],
          [
           "Seattle University",
           4410,
           19
          ],
          [
           "Seton Hall University",
           5782,
           26
          ],
          [
           "Shenandoah University",
           1989,
           23
          ],
          [
           "Shepherd University",
           2354,
           31
          ],
          [
           "Shippensburg University of Pennsylvania",
           4861,
           33
          ],
          [
           "Shorter University",
           1112,
           39
          ],
          [
           "Sierra Nevada University",
           331,
           32
          ],
          [
           "Simmons University",
           1607,
           24
          ],
          [
           "Simpson College",
           1161,
           36
          ],
          [
           "Skidmore College",
           2622,
           16
          ],
          [
           "Slippery Rock University of Pennsylvania",
           6968,
           31
          ],
          [
           "Sonoma State University",
           7416,
           34
          ],
          [
           "South Dakota School of Mines and Technology",
           1870,
           20
          ],
          [
           "South Dakota State University",
           7971,
           20
          ],
          [
           "Southeastern University",
           4974,
           29
          ],
          [
           "Southern Arkansas University Main Campus",
           3003,
           46
          ],
          [
           "Southern Connecticut State University",
           6801,
           41
          ],
          [
           "Southern Illinois University-Carbondale",
           7150,
           36
          ],
          [
           "Southern Illinois University-Edwardsville",
           8615,
           33
          ],
          [
           "Southern Methodist University",
           6519,
           11
          ],
          [
           "Southern Oregon University",
           3184,
           27
          ],
          [
           "Southern University and A & M College",
           4875,
           64
          ],
          [
           "Southern Utah University",
           7097,
           28
          ],
          [
           "Southern Virginia University",
           1015,
           49
          ],
          [
           "Southwest Baptist University",
           1701,
           38
          ],
          [
           "Southwestern Adventist University",
           537,
           48
          ],
          [
           "Southwestern Assemblies of God University",
           1392,
           54
          ],
          [
           "Southwestern Christian University",
           438,
           44
          ],
          [
           "Southwestern College",
           678,
           40
          ],
          [
           "Southwestern University",
           1495,
           23
          ],
          [
           "Spelman College",
           2080,
           43
          ],
          [
           "Spring Arbor University",
           1134,
           33
          ],
          [
           "Spring Hill College",
           1143,
           37
          ],
          [
           "St Catherine University",
           2004,
           38
          ],
          [
           "St. John's University-New York",
           11525,
           24
          ],
          [
           "St. Mary's College of Maryland",
           1411,
           21
          ],
          [
           "St. Mary's University",
           2162,
           43
          ],
          [
           "St. Thomas University",
           1246,
           24
          ],
          [
           "State University of New York at New Paltz",
           6291,
           36
          ],
          [
           "Stephen F Austin State University",
           9213,
           37
          ],
          [
           "Stephens College",
           411,
           50
          ],
          [
           "Sterling College",
           527,
           39
          ],
          [
           "Stevenson University",
           2724,
           28
          ],
          [
           "Stockton University",
           8459,
           40
          ],
          [
           "Stony Brook University",
           16697,
           35
          ],
          [
           "SUNY at Purchase College",
           3709,
           37
          ],
          [
           "SUNY Brockport",
           5960,
           41
          ],
          [
           "SUNY College at Plattsburgh",
           4420,
           40
          ],
          [
           "SUNY College of Environmental Science and Forestry",
           1747,
           27
          ],
          [
           "SUNY College of Technology at Alfred",
           3482,
           49
          ],
          [
           "SUNY College of Technology at Canton",
           2784,
           54
          ],
          [
           "SUNY Cortland",
           6170,
           31
          ],
          [
           "SUNY Morrisville",
           2283,
           56
          ],
          [
           "SUNY Oneonta",
           5942,
           34
          ],
          [
           "SUNY Polytechnic Institute",
           1903,
           41
          ],
          [
           "Syracuse University",
           14727,
           16
          ],
          [
           "Tarleton State University",
           8211,
           39
          ],
          [
           "Taylor University",
           1799,
           17
          ],
          [
           "Tennessee Technological University",
           8004,
           34
          ],
          [
           "Tennessee Wesleyan University",
           966,
           45
          ],
          [
           "Texas A & M International University",
           5574,
           66
          ],
          [
           "Texas A & M University-College Station",
           47667,
           21
          ],
          [
           "Texas A & M University-Commerce",
           6177,
           43
          ],
          [
           "Texas A & M University-Corpus Christi",
           7201,
           40
          ],
          [
           "Texas A & M University-Kingsville",
           4670,
           46
          ],
          [
           "Texas A&M University-San Antonio",
           3316,
           53
          ],
          [
           "Texas A&M University-Texarkana",
           1248,
           51
          ],
          [
           "Texas Christian University",
           9219,
           14
          ],
          [
           "Texas Lutheran University",
           1380,
           38
          ],
          [
           "Texas Southern University",
           6032,
           69
          ],
          [
           "Texas State University",
           27923,
           36
          ],
          [
           "Texas Tech University",
           28062,
           25
          ],
          [
           "Texas Wesleyan University",
           1327,
           51
          ],
          [
           "Texas Woman's University",
           7040,
           39
          ],
          [
           "The Baptist College of Florida",
           226,
           37
          ],
          [
           "The King's College",
           523,
           24
          ],
          [
           "The New School",
           6697,
           17
          ],
          [
           "The University of Alabama",
           29135,
           17
          ],
          [
           "The University of Findlay",
           2189,
           17
          ],
          [
           "The University of Montana",
           6163,
           34
          ],
          [
           "The University of Montana-Western",
           1126,
           38
          ],
          [
           "The University of Tampa",
           8441,
           20
          ],
          [
           "The University of Tennessee-Chattanooga",
           9224,
           33
          ],
          [
           "The University of Tennessee-Knoxville",
           22018,
           25
          ],
          [
           "The University of Texas at Arlington",
           19441,
           35
          ],
          [
           "The University of Texas at Austin",
           37515,
           22
          ],
          [
           "The University of Texas at Dallas",
           17943,
           32
          ],
          [
           "The University of Texas at San Antonio",
           22414,
           45
          ],
          [
           "The University of Texas at Tyler",
           4764,
           35
          ],
          [
           "The University of Texas Permian Basin",
           1862,
           29
          ],
          [
           "The University of Texas Rio Grande Valley",
           19922,
           64
          ],
          [
           "The University of West Florida",
           6612,
           35
          ],
          [
           "Thomas More University",
           1295,
           26
          ],
          [
           "Toccoa Falls College",
           911,
           29
          ],
          [
           "Towson University",
           17209,
           31
          ],
          [
           "Trevecca Nazarene University",
           1913,
           34
          ],
          [
           "Trinity Baptist College",
           271,
           53
          ],
          [
           "Trinity Bible College and Graduate School",
           147,
           54
          ],
          [
           "Trinity Christian College",
           837,
           33
          ],
          [
           "Trinity College of Florida",
           182,
           64
          ],
          [
           "Trinity International University-Illinois",
           492,
           28
          ],
          [
           "Troy University",
           8741,
           41
          ],
          [
           "Truett McConnell University",
           852,
           10
          ],
          [
           "Truman State University",
           4269,
           19
          ],
          [
           "Tusculum University",
           1263,
           46
          ],
          [
           "Tuskegee University",
           2254,
           57
          ],
          [
           "Union University",
           1796,
           31
          ],
          [
           "University at Buffalo",
           20401,
           33
          ],
          [
           "University of Akron Main Campus",
           11641,
           29
          ],
          [
           "University of Alabama at Birmingham",
           10315,
           34
          ],
          [
           "University of Alabama in Huntsville",
           6749,
           24
          ],
          [
           "University of Alaska Fairbanks",
           2596,
           23
          ],
          [
           "University of Arkansas",
           20559,
           19
          ],
          [
           "University of Arkansas at Pine Bluff",
           2161,
           70
          ],
          [
           "University of California-Berkeley",
           29991,
           26
          ],
          [
           "University of California-Davis",
           30171,
           36
          ],
          [
           "University of California-Irvine",
           29797,
           39
          ],
          [
           "University of California-Los Angeles",
           30969,
           31
          ],
          [
           "University of California-Merced",
           8080,
           64
          ],
          [
           "University of California-Riverside",
           21652,
           51
          ],
          [
           "University of California-San Diego",
           29966,
           35
          ],
          [
           "University of California-Santa Barbara",
           22846,
           33
          ],
          [
           "University of California-Santa Cruz",
           16994,
           32
          ],
          [
           "University of Central Arkansas",
           7634,
           38
          ],
          [
           "University of Central Florida",
           42468,
           36
          ],
          [
           "University of Charleston",
           1172,
           36
          ],
          [
           "University of Cincinnati-Main Campus",
           23712,
           20
          ],
          [
           "University of Colorado Boulder",
           28877,
           15
          ],
          [
           "University of Colorado Colorado Springs",
           8168,
           30
          ],
          [
           "University of Colorado Denver/Anschutz Medical Campus",
           8857,
           26
          ],
          [
           "University of Connecticut",
           18229,
           22
          ],
          [
           "University of Connecticut-Stamford",
           1846,
           44
          ],
          [
           "University of Dayton",
           8046,
           13
          ],
          [
           "University of Delaware",
           18378,
           15
          ],
          [
           "University of Denver",
           5478,
           16
          ],
          [
           "University of Detroit Mercy",
           2350,
           31
          ],
          [
           "University of Dubuque",
           1554,
           48
          ],
          [
           "University of Florida",
           32157,
           24
          ],
          [
           "University of Georgia",
           28175,
           20
          ],
          [
           "University of Hawaii at Hilo",
           2204,
           45
          ],
          [
           "University of Hawaii at Manoa",
           10560,
           28
          ],
          [
           "University of Houston",
           28368,
           41
          ],
          [
           "University of Houston-Clear Lake",
           3358,
           42
          ],
          [
           "University of Idaho",
           6749,
           27
          ],
          [
           "University of Illinois Chicago",
           20195,
           51
          ],
          [
           "University of Illinois Springfield",
           1853,
           36
          ],
          [
           "University of Illinois Urbana-Champaign",
           32854,
           24
          ],
          [
           "University of Indianapolis",
           4066,
           39
          ],
          [
           "University of Iowa",
           21212,
           19
          ],
          [
           "University of Kentucky",
           20622,
           22
          ],
          [
           "University of La Verne",
           3353,
           47
          ],
          [
           "University of Louisiana at Lafayette",
           11929,
           35
          ],
          [
           "University of Louisville",
           11560,
           29
          ],
          [
           "University of Maine",
           8060,
           26
          ],
          [
           "University of Maine at Fort Kent",
           552,
           21
          ],
          [
           "University of Mary",
           1869,
           19
          ],
          [
           "University of Mary Hardin-Baylor",
           3113,
           39
          ],
          [
           "University of Mary Washington",
           3694,
           19
          ],
          [
           "University of Maryland Eastern Shore",
           2095,
           52
          ],
          [
           "University of Maryland-Baltimore County",
           9436,
           29
          ],
          [
           "University of Maryland-College Park",
           28390,
           18
          ],
          [
           "University of Massachusetts-Amherst",
           22491,
           22
          ],
          [
           "University of Massachusetts-Dartmouth",
           5465,
           40
          ],
          [
           "University of Massachusetts-Lowell",
           10862,
           28
          ],
          [
           "University of Memphis",
           12066,
           43
          ],
          [
           "University of Miami",
           10701,
           15
          ],
          [
           "University of Michigan-Ann Arbor",
           30204,
           18
          ],
          [
           "University of Michigan-Flint",
           3633,
           37
          ],
          [
           "University of Minnesota-Duluth",
           8535,
           21
          ],
          [
           "University of Minnesota-Morris",
           1368,
           31
          ],
          [
           "University of Minnesota-Rochester",
           536,
           35
          ],
          [
           "University of Minnesota-Twin Cities",
           29939,
           18
          ],
          [
           "University of Mississippi",
           15902,
           24
          ],
          [
           "University of Missouri-Columbia",
           20676,
           21
          ],
          [
           "University of Missouri-Kansas City",
           6487,
           24
          ],
          [
           "University of Missouri-St Louis",
           5098,
           21
          ],
          [
           "University of Mobile",
           1106,
           30
          ],
          [
           "University of Mount Olive",
           1494,
           47
          ],
          [
           "University of Mount Union",
           1994,
           31
          ],
          [
           "University of Nebraska at Kearney",
           3827,
           36
          ],
          [
           "University of Nebraska-Lincoln",
           19132,
           22
          ],
          [
           "University of Nevada-Las Vegas",
           19523,
           37
          ],
          [
           "University of Nevada-Reno",
           14788,
           26
          ],
          [
           "University of New England",
           2425,
           12
          ],
          [
           "University of New Hampshire-Main Campus",
           11960,
           21
          ],
          [
           "University of New Haven",
           4625,
           28
          ],
          [
           "University of New Mexico-Main Campus",
           12705,
           36
          ],
          [
           "University of New Orleans",
           4905,
           39
          ],
          [
           "University of North Alabama",
           4901,
           35
          ],
          [
           "University of North Carolina at Asheville",
           3036,
           35
          ],
          [
           "University of North Carolina at Chapel Hill",
           18528,
           23
          ],
          [
           "University of North Carolina at Charlotte",
           20877,
           36
          ],
          [
           "University of North Carolina at Greensboro",
           14007,
           48
          ],
          [
           "University of North Carolina at Pembroke",
           5109,
           53
          ],
          [
           "University of North Carolina School of the Arts",
           901,
           28
          ],
          [
           "University of North Carolina Wilmington",
           12480,
           27
          ],
          [
           "University of North Dakota",
           7628,
           18
          ],
          [
           "University of North Florida",
           10757,
           30
          ],
          [
           "University of North Georgia",
           13103,
           30
          ],
          [
           "University of North Texas",
           26055,
           36
          ],
          [
           "University of Northern Colorado",
           7752,
           27
          ],
          [
           "University of Northern Iowa",
           8228,
           26
          ],
          [
           "University of Northwestern-St Paul",
           2073,
           17
          ],
          [
           "University of Oklahoma-Norman Campus",
           18996,
           23
          ],
          [
           "University of Oregon",
           17419,
           25
          ],
          [
           "University of Pennsylvania",
           10448,
           13
          ],
          [
           "University of Pittsburgh-Bradford",
           1259,
           46
          ],
          [
           "University of Pittsburgh-Greensburg",
           1359,
           36
          ],
          [
           "University of Pittsburgh-Johnstown",
           2404,
           31
          ],
          [
           "University of Pittsburgh-Pittsburgh Campus",
           18392,
           13
          ],
          [
           "University of Portland",
           3743,
           15
          ],
          [
           "University of Redlands",
           2597,
           31
          ],
          [
           "University of Rhode Island",
           12596,
           19
          ],
          [
           "University of Saint Francis-Fort Wayne",
           1497,
           43
          ],
          [
           "University of Saint Mary",
           713,
           42
          ],
          [
           "University of San Diego",
           5761,
           17
          ],
          [
           "University of San Francisco",
           6296,
           28
          ],
          [
           "University of Science and Arts of Oklahoma",
           727,
           46
          ],
          [
           "University of Sioux Falls",
           1206,
           27
          ],
          [
           "University of South Alabama",
           8065,
           39
          ],
          [
           "University of South Carolina Aiken",
           2585,
           39
          ],
          [
           "University of South Carolina Beaufort",
           1775,
           42
          ],
          [
           "University of South Carolina-Columbia",
           26400,
           19
          ],
          [
           "University of South Carolina-Upstate",
           4637,
           45
          ],
          [
           "University of South Dakota",
           4899,
           23
          ],
          [
           "University of South Florida",
           25457,
           34
          ],
          [
           "University of Southern California",
           19622,
           20
          ],
          [
           "University of Southern Indiana",
           6133,
           25
          ],
          [
           "University of Southern Maine",
           4062,
           31
          ],
          [
           "University of St Thomas",
           6137,
           18
          ],
          [
           "University of St Thomas",
           1693,
           40
          ],
          [
           "University of the Incarnate Word",
           4093,
           40
          ],
          [
           "University of the Pacific",
           3536,
           37
          ],
          [
           "University of the Sciences",
           1353,
           28
          ],
          [
           "University of Toledo",
           12548,
           29
          ],
          [
           "University of Tulsa",
           3171,
           22
          ],
          [
           "University of Utah",
           18628,
           24
          ],
          [
           "University of Vermont",
           10501,
           14
          ],
          [
           "University of Virginia's College at Wise",
           1106,
           38
          ],
          [
           "University of Virginia-Main Campus",
           16267,
           14
          ],
          [
           "University of Washington-Bothell Campus",
           4631,
           32
          ],
          [
           "University of Washington-Seattle Campus",
           29332,
           20
          ],
          [
           "University of Washington-Tacoma Campus",
           4066,
           43
          ],
          [
           "University of West Alabama",
           1883,
           53
          ],
          [
           "University of West Georgia",
           8090,
           45
          ],
          [
           "University of Wisconsin-Madison",
           30157,
           14
          ],
          [
           "University of Wyoming",
           8332,
           23
          ],
          [
           "Upper Iowa University",
           1856,
           38
          ],
          [
           "Ursuline College",
           491,
           40
          ],
          [
           "Utah State University",
           17063,
           32
          ],
          [
           "Valdosta State University",
           6797,
           51
          ],
          [
           "Valley City State University",
           904,
           20
          ],
          [
           "Valparaiso University",
           2940,
           27
          ],
          [
           "Vanderbilt University",
           6833,
           16
          ],
          [
           "Villanova University",
           6528,
           10
          ],
          [
           "Virginia Commonwealth University",
           19825,
           29
          ],
          [
           "Virginia Polytechnic Institute and State University",
           28584,
           14
          ],
          [
           "Virginia State University",
           3903,
           71
          ],
          [
           "Virginia Union University",
           1019,
           69
          ],
          [
           "Viterbo University",
           1433,
           27
          ],
          [
           "Waldorf University",
           1619,
           34
          ],
          [
           "Walsh University",
           1628,
           29
          ],
          [
           "Wartburg College",
           1462,
           23
          ],
          [
           "Washington Adventist University",
           723,
           46
          ],
          [
           "Washington State University",
           23092,
           29
          ],
          [
           "Washington University in St Louis",
           7139,
           13
          ],
          [
           "Wayland Baptist University",
           869,
           38
          ],
          [
           "Wayne State University",
           13107,
           43
          ],
          [
           "Waynesburg University",
           1239,
           32
          ],
          [
           "Webber International University",
           642,
           56
          ],
          [
           "Webster University",
           2170,
           30
          ],
          [
           "Wentworth Institute of Technology",
           3904,
           23
          ],
          [
           "Wesleyan College",
           476,
           36
          ],
          [
           "West Chester University of Pennsylvania",
           13044,
           25
          ],
          [
           "West Texas A & M University",
           5582,
           64
          ],
          [
           "West Virginia State University",
           1585,
           21
          ],
          [
           "West Virginia University",
           19369,
           23
          ],
          [
           "West Virginia University Institute of Technology",
           1148,
           28
          ],
          [
           "West Virginia Wesleyan College",
           1118,
           36
          ],
          [
           "Western Carolina University",
           8934,
           36
          ],
          [
           "Western Colorado University",
           1755,
           17
          ],
          [
           "Western Kentucky University",
           11815,
           29
          ],
          [
           "Western Michigan University",
           14558,
           30
          ],
          [
           "Western Washington University",
           13887,
           23
          ],
          [
           "Westminster College",
           1649,
           29
          ],
          [
           "Westmont College",
           1312,
           20
          ],
          [
           "Wheaton College",
           2328,
           20
          ],
          [
           "Wheeling University",
           423,
           34
          ],
          [
           "Whitworth University",
           2360,
           31
          ],
          [
           "Wichita State University",
           8994,
           32
          ],
          [
           "Widener University",
           2784,
           21
          ],
          [
           "Wilberforce University",
           497,
           85
          ],
          [
           "Wilkes University",
           2110,
           33
          ],
          [
           "William & Mary",
           6190,
           12
          ],
          [
           "William Carey University",
           1901,
           39
          ],
          [
           "William Jessup University",
           1078,
           38
          ],
          [
           "William Jewell College",
           724,
           26
          ],
          [
           "William Peace University",
           802,
           47
          ],
          [
           "Wilson College",
           689,
           30
          ],
          [
           "Wingate University",
           2706,
           41
          ],
          [
           "Winona State University",
           6125,
           26
          ],
          [
           "Winston-Salem State University",
           4067,
           65
          ],
          [
           "Wisconsin Lutheran College",
           915,
           28
          ],
          [
           "Woodbury University",
           1061,
           48
          ],
          [
           "Wright State University-Lake Campus",
           868,
           18
          ],
          [
           "Wright State University-Main Campus",
           7226,
           33
          ],
          [
           "Xavier University",
           4834,
           13
          ],
          [
           "Xavier University of Louisiana",
           2424,
           51
          ],
          [
           "Yeshiva University",
           2643,
           15
          ],
          [
           "York College of Pennsylvania",
           3687,
           25
          ],
          [
           "Young Harris College",
           914,
           23
          ],
          [
           "Youngstown State University",
           8715,
           38
          ]
         ],
         "hovertemplate": "pca0=%{x}<br>pca1=%{y}<br>Name=%{customdata[0]}<br>Full-time undergraduate enrollment=%{customdata[1]}<br>Percent of students awarded Pell grants=%{customdata[2]}<br>color=%{marker.color}<extra></extra>",
         "legendgroup": "",
         "marker": {
          "color": [
           2,
           0,
           0,
           2,
           2,
           0,
           0,
           0,
           0,
           2,
           2,
           0,
           0,
           0,
           2,
           0,
           0,
           1,
           2,
           2,
           0,
           1,
           0,
           0,
           0,
           1,
           0,
           2,
           0,
           2,
           0,
           0,
           2,
           0,
           0,
           2,
           0,
           0,
           2,
           2,
           2,
           0,
           2,
           2,
           2,
           2,
           0,
           2,
           0,
           2,
           0,
           0,
           0,
           0,
           0,
           0,
           0,
           0,
           1,
           0,
           2,
           0,
           0,
           0,
           0,
           1,
           2,
           1,
           0,
           2,
           2,
           0,
           2,
           0,
           1,
           0,
           1,
           1,
           1,
           1,
           1,
           1,
           0,
           1,
           1,
           1,
           1,
           0,
           0,
           2,
           0,
           2,
           0,
           2,
           0,
           2,
           0,
           2,
           2,
           0,
           2,
           2,
           0,
           0,
           2,
           0,
           0,
           0,
           0,
           0,
           0,
           2,
           2,
           2,
           0,
           0,
           0,
           2,
           0,
           0,
           2,
           0,
           1,
           2,
           0,
           0,
           0,
           0,
           0,
           0,
           2,
           0,
           2,
           0,
           1,
           2,
           0,
           0,
           2,
           0,
           0,
           2,
           0,
           2,
           0,
           0,
           2,
           0,
           0,
           0,
           2,
           0,
           0,
           0,
           0,
           0,
           0,
           0,
           2,
           0,
           0,
           2,
           0,
           2,
           2,
           2,
           2,
           2,
           1,
           0,
           0,
           0,
           0,
           0,
           2,
           0,
           0,
           0,
           0,
           0,
           2,
           0,
           0,
           0,
           0,
           0,
           2,
           2,
           0,
           0,
           0,
           0,
           0,
           0,
           0,
           0,
           0,
           0,
           0,
           0,
           0,
           0,
           1,
           0,
           0,
           2,
           1,
           2,
           1,
           2,
           0,
           0,
           0,
           0,
           0,
           0,
           0,
           0,
           0,
           2,
           0,
           0,
           2,
           1,
           2,
           2,
           0,
           2,
           1,
           0,
           1,
           0,
           2,
           2,
           0,
           2,
           0,
           0,
           1,
           0,
           0,
           0,
           2,
           2,
           0,
           0,
           2,
           0,
           0,
           2,
           0,
           2,
           2,
           2,
           0,
           2,
           2,
           2,
           0,
           0,
           0,
           0,
           0,
           0,
           0,
           2,
           0,
           0,
           1,
           1,
           0,
           0,
           0,
           1,
           0,
           0,
           0,
           2,
           2,
           0,
           0,
           0,
           0,
           0,
           1,
           1,
           0,
           0,
           2,
           0,
           0,
           0,
           2,
           0,
           0,
           0,
           0,
           0,
           0,
           2,
           2,
           2,
           0,
           2,
           0,
           2,
           0,
           0,
           1,
           0,
           0,
           2,
           0,
           0,
           0,
           0,
           2,
           2,
           0,
           2,
           0,
           0,
           0,
           1,
           0,
           0,
           2,
           2,
           2,
           0,
           0,
           0,
           2,
           0,
           0,
           0,
           2,
           2,
           0,
           0,
           0,
           2,
           2,
           2,
           0,
           0,
           0,
           0,
           2,
           2,
           2,
           2,
           1,
           1,
           0,
           0,
           0,
           1,
           0,
           0,
           0,
           2,
           0,
           2,
           0,
           0,
           0,
           0,
           0,
           0,
           1,
           0,
           2,
           1,
           0,
           0,
           0,
           0,
           0,
           0,
           2,
           0,
           0,
           0,
           2,
           0,
           0,
           2,
           0,
           2,
           2,
           0,
           0,
           0,
           1,
           0,
           0,
           0,
           0,
           0,
           0,
           0,
           0,
           0,
           0,
           2,
           0,
           0,
           0,
           2,
           2,
           0,
           0,
           2,
           0,
           2,
           1,
           1,
           0,
           2,
           1,
           0,
           1,
           0,
           0,
           0,
           1,
           0,
           0,
           0,
           0,
           0,
           0,
           2,
           2,
           0,
           2,
           0,
           2,
           0,
           0,
           2,
           0,
           0,
           2,
           1,
           0,
           2,
           0,
           2,
           0,
           0,
           1,
           2,
           0,
           0,
           2,
           0,
           0,
           2,
           2,
           2,
           0,
           2,
           0,
           0,
           0,
           0,
           1,
           0,
           1,
           2,
           0,
           2,
           0,
           2,
           2,
           0,
           2,
           2,
           2,
           2,
           0,
           2,
           2,
           0,
           1,
           2,
           0,
           1,
           1,
           1,
           2,
           0,
           2,
           0,
           2,
           2,
           2,
           2,
           0,
           0,
           0,
           0,
           0,
           2,
           2,
           2,
           0,
           0,
           0,
           0,
           0,
           0,
           0,
           0,
           0,
           2,
           0,
           0,
           0,
           0,
           0,
           0,
           0,
           0,
           0,
           2,
           0,
           0,
           2,
           2,
           2,
           0,
           0,
           2,
           0,
           0,
           0,
           0,
           0,
           0,
           1,
           0,
           0,
           0,
           0,
           0,
           0,
           0,
           0,
           0,
           0,
           2,
           0,
           2,
           0,
           0,
           0,
           1,
           0,
           0,
           0,
           0,
           0,
           2,
           0,
           0,
           1,
           1,
           0,
           0,
           0,
           2,
           2,
           1,
           2,
           0,
           0,
           2,
           0,
           1,
           1,
           1,
           1,
           1,
           0,
           0,
           1,
           0,
           0,
           0,
           1,
           0,
           0,
           0,
           0,
           0,
           2,
           0,
           0,
           0,
           0,
           0,
           0,
           1,
           0,
           0,
           0,
           0,
           1,
           0,
           1,
           1,
           1,
           1,
           2,
           1,
           1,
           1,
           1,
           0,
           1,
           2,
           1,
           1,
           0,
           1,
           1,
           0,
           2,
           1,
           2,
           0,
           0,
           1,
           1,
           2,
           2,
           1,
           0,
           0,
           1,
           0,
           1,
           0,
           1,
           1,
           2,
           0,
           0,
           0,
           0,
           0,
           0,
           0,
           0,
           2,
           1,
           1,
           0,
           1,
           1,
           2,
           1,
           0,
           0,
           0,
           0,
           1,
           1,
           1,
           0,
           0,
           0,
           0,
           0,
           0,
           1,
           1,
           1,
           2,
           0,
           2,
           1,
           0,
           0,
           0,
           1,
           1,
           1,
           0,
           0,
           0,
           0,
           1,
           1,
           1,
           0,
           0,
           2,
           1,
           1,
           2,
           0,
           0,
           0,
           1,
           2,
           2,
           1,
           0,
           0,
           2,
           2,
           0,
           0,
           0,
           0,
           0,
           1,
           0,
           0,
           1,
           2,
           0,
           0,
           2,
           2,
           0,
           2,
           2,
           0,
           2,
           1,
           2,
           0,
           1,
           2,
           1,
           2,
           0,
           0,
           1,
           0,
           0,
           0,
           1,
           0,
           0,
           2,
           2,
           2,
           1,
           1,
           0,
           0,
           0,
           0,
           2,
           2,
           0,
           1,
           2,
           0,
           1,
           0,
           0,
           0,
           2,
           0,
           0,
           0,
           0,
           1,
           0,
           0,
           0,
           0,
           0,
           1,
           1,
           2,
           2,
           2,
           0,
           2,
           0,
           2,
           0,
           2,
           2,
           0,
           2,
           0,
           0,
           0,
           2,
           0,
           0,
           0,
           2,
           0,
           0,
           2,
           0,
           2,
           0,
           2,
           0
          ],
          "coloraxis": "coloraxis",
          "symbol": "circle"
         },
         "mode": "markers",
         "name": "",
         "orientation": "v",
         "showlegend": false,
         "type": "scatter",
         "x": [
          -0.32624328501978284,
          -0.2201877247893929,
          -0.4327471079946458,
          0.05131718909725039,
          -0.8801608031528353,
          -0.5705445790436643,
          -0.2451403823623899,
          -0.6659347730707436,
          -0.7013362382980319,
          -0.7497806358890093,
          0.40529368066189764,
          -0.7830864136809155,
          -0.6366960528360356,
          -1.0109483126590042,
          -0.16188280150524006,
          0.3080794668798342,
          -0.6179286175586565,
          1.0422819067863056,
          -0.6816284961728792,
          -0.510198173118105,
          -0.7488461928541364,
          3.8667249341375154,
          0.019558389948647673,
          -1.1464740673464073,
          -0.4040219582602286,
          1.568229787426136,
          -0.2464516915971681,
          -0.6262096735701749,
          -0.055912603734593766,
          -0.7880983825641678,
          -0.39817867812175406,
          0.27517192125593026,
          -0.14097617061161843,
          -1.0848555930465593,
          -0.6561958434925909,
          0.12914887218526463,
          -0.23140800473013975,
          -0.8183862981362735,
          0.9306691329043182,
          -0.8928596611835244,
          -0.6354100438765571,
          -0.7647694236888609,
          0.025740459444116466,
          -0.39124773273987506,
          0.031649649944462815,
          -0.6754703743732478,
          -0.6926913988521564,
          -0.5957686252373582,
          -0.5379361483852955,
          -0.057801478945043665,
          -0.28093590848337985,
          -1.027220080878387,
          -0.8764989071822448,
          0.03893704409001212,
          -0.7512846548318299,
          -0.8473639862039448,
          -0.9384933796753577,
          -0.7201886174277524,
          1.1412661757196338,
          -0.7609456452757621,
          1.6586933284675225,
          0.7139416238117606,
          -0.23935041625724277,
          -0.8586185597097352,
          -0.8230996208543664,
          1.963875769449601,
          0.30247964727991816,
          2.69019006894525,
          -0.9091592506683943,
          -0.7553638931099678,
          -0.10388097629170422,
          -0.7035419166777807,
          -0.5863886903039083,
          0.1166398913923662,
          2.017368431337408,
          0.25579670131501997,
          2.4294517894429157,
          1.2261168253225991,
          1.7128884029766842,
          3.0034247821516,
          3.1969502774810983,
          2.027313791950536,
          0.38835022161665994,
          2.557277229145434,
          2.3729842304392728,
          1.3684713905747945,
          1.0898965821599733,
          -0.3742828769358685,
          -0.6151449154487996,
          -0.31321171242906787,
          -0.29423902752600817,
          -0.7048457958449248,
          -0.7650674957366771,
          -0.6582477412417973,
          -0.9411115810029663,
          0.9714848144864314,
          -0.980183886304587,
          -0.8166289379368074,
          -0.584891930580721,
          -0.6882243112427071,
          -0.7708656677985233,
          0.5757083983430802,
          -0.6645573664408677,
          -0.39162487394386725,
          -0.8952725855282977,
          -0.7972359397487159,
          -0.8371839941136427,
          0.23753599512820725,
          0.4839843966975314,
          -0.7604161199697211,
          0.5925418843034334,
          0.12264854120986098,
          -0.5055746177396292,
          0.304308324474252,
          -0.6109873877663177,
          -0.9463660558308772,
          -0.2633320764255711,
          0.001577733954518101,
          -0.5856983367082327,
          -1.095450963416476,
          -0.5212322923567602,
          -1.0787177072776337,
          1.2249282000248962,
          -1.0263888566874844,
          0.48755682649516124,
          0.3058828831456704,
          -0.6856728619944957,
          0.3584489900402764,
          -0.26087801854518383,
          -1.006816313686522,
          -0.7936331995267322,
          0.3427053883139937,
          0.1377127071760458,
          -0.2107370111854546,
          1.872973967225333,
          0.8484186512784655,
          -0.2012415159148105,
          -0.6092861968292361,
          -0.5406618600496502,
          -0.6214317849350065,
          -0.5012674667311159,
          -0.09275037858320104,
          -0.6231530812227231,
          -0.8070260703303176,
          -0.8052674122703344,
          -0.8553612492998367,
          -0.15019575115982547,
          -0.4848024759332393,
          -0.7727401110258995,
          -0.6182925203115863,
          -0.6085249519712578,
          -0.6637647343657697,
          -0.33211865201127244,
          -0.8298793652006479,
          -1.100158745060037,
          -0.9693282562747012,
          -0.2623401690707396,
          -0.4526483630649932,
          -0.55925651743483,
          -0.6366353974158251,
          -0.5121929563529759,
          -0.22716152216208638,
          -0.5150405087771651,
          -0.13618852696914371,
          -0.42243723540016903,
          1.3718270176371268,
          -0.6982617638739559,
          -0.28089740300283916,
          1.3983312953344524,
          -0.32933322933634546,
          -0.17445884515649043,
          0.2966201739219755,
          -0.6857760283125199,
          0.4071939868086281,
          -0.7528229811895981,
          0.5728190872549315,
          -0.13313374807010814,
          -0.38041275301581096,
          -0.8918284617684668,
          0.34310711981148995,
          -0.6694402193401313,
          -0.7224798599714751,
          -0.597807940515997,
          -0.1663286260054121,
          -0.6183607548341515,
          -0.7398787982092826,
          -0.5045298329786878,
          -0.14555614047282794,
          -0.6807687037384407,
          -0.7190232017146075,
          -0.876289402191415,
          -1.0224637479363214,
          -0.9470842005179361,
          -0.3986081950885676,
          -0.7855987138206596,
          -0.22825020022199863,
          -0.675016698290367,
          0.3045365228377788,
          -0.9742327046298038,
          -0.853952649900645,
          -0.35269884122713663,
          -0.068420719180298,
          1.6188957344118995,
          -0.7988265252143709,
          0.7599922284100052,
          0.0049214834919110275,
          2.707414147545928,
          -0.5591840036110427,
          2.5892791929047774,
          0.9861878494498206,
          -0.3670069565359635,
          -0.8124817831933032,
          -0.44869576601518507,
          -0.6316215564449515,
          -0.7496456968346077,
          -0.7017524390175199,
          -0.7423609547567762,
          -0.17376615830346037,
          -0.5209513821486068,
          -0.4543208970083209,
          -0.7692179381089631,
          -0.8704981627092846,
          -0.5721975644417633,
          1.9295993883620732,
          0.8787096383980596,
          0.5908922724053757,
          -0.12214788329042801,
          1.510567141558634,
          1.1919807174894697,
          -0.40542697286269264,
          1.9034399043805457,
          -0.7275207789651721,
          -0.1062238022132121,
          -0.5827653497162782,
          -0.3833165300632752,
          -0.8074409176055803,
          -0.5453170536803437,
          -0.8201490983401535,
          1.1267626320774566,
          -0.7149112782459563,
          -0.7635263886164398,
          -0.7481941648331918,
          -0.5394110829796062,
          -0.8627821797392351,
          -0.6085952624673785,
          -0.41480059882108944,
          -0.9349670740963693,
          -0.8422326539321867,
          -0.3683439467759817,
          -0.8814321909471995,
          -0.7783835844043367,
          0.4196221515112856,
          -0.9088948560786553,
          -0.5572881681526417,
          -0.740173168717279,
          -0.7608425719615853,
          -0.5138581122950066,
          -0.7800101499994632,
          -0.2466584569493773,
          -0.7277188044513564,
          -0.0714758677975315,
          -0.8377197377310126,
          -0.6514056524923737,
          -0.6862304236999701,
          -0.9428595698803304,
          -0.009733721821033976,
          -0.6069165509579476,
          0.187968683168251,
          2.8550537121593953,
          1.379934581692024,
          -0.13756313861243338,
          -0.18470720382890826,
          -0.5889439320371104,
          1.7051790204289974,
          -0.7079974776272335,
          -0.4785369264991348,
          -0.09088988847337061,
          -0.48675851049121227,
          -0.5945296689951457,
          -0.9094614999870724,
          -1.0022962587838327,
          -0.8890962796073225,
          -0.919376782741079,
          -0.6798404592511693,
          2.111957685425409,
          1.1446503859426098,
          -0.5091581865008283,
          -1.021607730190563,
          -0.5335227533471995,
          -0.920658890957609,
          -0.11347091730963202,
          -0.878069920608897,
          -0.1447409104108853,
          -1.0413131700106282,
          -0.6163754689759627,
          -0.7755421031986596,
          0.3301129832019995,
          -0.7136874327051772,
          -0.48857764865816117,
          -0.43867110542574883,
          -0.43699369798066556,
          -0.5693371142163499,
          -0.47258908288538914,
          -0.6099018167716529,
          -0.5562024151251175,
          -0.4846926087793382,
          -0.2706997041718665,
          -0.3114958036081232,
          2.782428739762614,
          -0.7907712981707691,
          -0.626095214987082,
          -0.6818691464002772,
          -0.948043266977317,
          -0.961851636243797,
          -0.8008460244411958,
          -0.4060364449516226,
          -0.6782852051495962,
          -0.5438668262505666,
          -0.5914701011299942,
          0.41546563771682277,
          -0.7946321316291337,
          -1.1400629731387681,
          -0.7320780615378378,
          1.7828742272612064,
          0.2371758284668664,
          -0.7744564495358562,
          0.37571746330834377,
          0.793492912651623,
          -0.47362587921433635,
          -0.8038018681828594,
          -0.5274090688946471,
          -0.8550809491971817,
          -0.3314411537283081,
          -0.8497021757557275,
          -0.7507890022919136,
          -0.6103248590243892,
          -0.6114766513531146,
          0.35847837676697997,
          -0.8965633298833513,
          0.15226969207885485,
          -0.7667158727405002,
          -0.22797918818878665,
          -0.5173415527510034,
          -0.30789397864036594,
          -0.8413589936020631,
          -0.7714077542061772,
          -0.07427738477958985,
          -0.986388217540318,
          -0.12126822120729802,
          -0.29459198298393685,
          -0.7835352297255652,
          -0.7027858152427992,
          1.3558669879358838,
          3.119387890827419,
          -0.12111098253430769,
          -0.8967723751955782,
          0.027445735134012262,
          0.9496314472917863,
          -0.8593354875848899,
          -0.29726568444640383,
          -0.08460860211758711,
          -0.7400057364140418,
          -0.7033438849415732,
          -0.5837633106409602,
          -0.30833641902174846,
          -0.35108425891608125,
          -0.8463786567870005,
          -0.5558329347306412,
          -0.6777637899456651,
          -0.367590813354035,
          0.8226369728067727,
          -0.09537676932548957,
          -0.33359872009426955,
          1.2034002344127361,
          -0.5070399303547497,
          -0.8871210918790253,
          -0.7343852501639295,
          -0.14077947232966773,
          -0.7116953532881025,
          -0.7542416863657915,
          -0.6136116349448806,
          -0.811997147542629,
          -0.05970828981433255,
          -0.7170680174165263,
          0.7145850453163314,
          -0.36129755079973536,
          0.627815307725456,
          0.30546892235967527,
          -0.8340926712331896,
          -0.22284090589171476,
          -0.5725515556646594,
          -0.23272355661622832,
          0.35695321616141834,
          -0.260331917470558,
          1.7925399590289346,
          -0.8029775246539821,
          -0.6791245275647749,
          0.30466809411124923,
          -0.7090506735986313,
          -0.5571746316564603,
          -0.14307028314142958,
          0.30572823189742326,
          -0.045597856443753804,
          -0.21632495295095447,
          -0.17088734471554617,
          -0.6675641789982969,
          0.05921779950584247,
          -0.6506269171350673,
          -0.7994249141690253,
          0.3061042423303414,
          -0.39981707434093755,
          0.6546876802245389,
          -0.7478860953590085,
          -0.7278492824283455,
          -0.8229305899568213,
          -0.671884400851062,
          3.059854178527022,
          1.1829029151959527,
          -1.0797908751575478,
          -0.5637600490820246,
          1.509776094088889,
          -0.7521077045228205,
          1.0458721655577807,
          -0.6633900743537164,
          -0.549419401758983,
          0.009446652061874016,
          1.6046747329581643,
          -0.45335995484328045,
          -1.0667824571445592,
          -0.6571139696150348,
          -0.5964815320921065,
          -0.5764488513591429,
          -0.7564698500809054,
          -0.5169320180418396,
          -0.4140300034269008,
          -1.1302999026031781,
          -0.49898979916151787,
          -1.0741411696192997,
          -0.04851696288626022,
          -0.9402063768485428,
          -0.8769490881574783,
          -0.3827907968309901,
          -0.6823959834988864,
          -0.5447914930400783,
          0.18854135558821067,
          0.8943562137981449,
          -0.0819364105529281,
          0.196535154847326,
          -0.9041154054402321,
          -0.3938398222988902,
          0.3930444613278031,
          0.20713542847880995,
          3.103031692945996,
          -0.6797047593118681,
          -0.8286025363593591,
          0.13088718795394472,
          -0.7823024364165374,
          -0.3061261681812711,
          -0.740418060593572,
          -0.45207475122864876,
          -0.722796245497774,
          -0.48370552458457267,
          -0.761338974592077,
          0.7511553308242305,
          -0.7845485063824502,
          -0.7900366400822086,
          -0.5110233310075831,
          -0.9405828751831005,
          0.8017350447050586,
          0.005065399655950371,
          3.2300904318517665,
          0.750101518746109,
          -0.04982924081790469,
          -0.8333361319187409,
          0.32365975115842605,
          -0.3653053461946823,
          -0.6147390478921828,
          -0.6588778702116067,
          -0.6221531065455117,
          0.30027054638872736,
          -0.37037874865811915,
          -0.6501706380297408,
          -0.927176844773979,
          -0.7127496424329233,
          -0.8226614640387362,
          -1.1015164052621813,
          0.9071672322431383,
          -0.41770742415274087,
          -0.8772797806223037,
          2.858954727859401,
          2.5082887443128743,
          2.7297831254351332,
          0.6469191254774683,
          -0.5522787715651091,
          -0.040987658504444774,
          -0.7074685053962546,
          -0.14945451638954332,
          -0.29175753398095783,
          0.17683890464380972,
          0.3636083575393588,
          -0.7547021971211123,
          -0.37357950522901,
          -0.23453059424779193,
          -0.6718230470484122,
          -0.92975013170946,
          -0.4917358714360197,
          -0.8496906840335228,
          -0.14550959307365052,
          -0.1211858369746325,
          0.5590998150667791,
          -0.28411423964925203,
          0.24536265175836958,
          0.02573173993035427,
          -0.5393683473243789,
          -0.031592828563169376,
          0.04931383870899688,
          0.28461146467597603,
          0.3097410610938072,
          -0.12793072706446817,
          -0.23730958848484102,
          0.47807214474822307,
          -0.6946744725856937,
          -0.7062407607095783,
          -0.571271352663137,
          -0.7326441749644547,
          -0.8984314333228118,
          -0.6771440358934965,
          -0.5979853018485451,
          -0.7767239800008738,
          -0.8487801016330662,
          -0.9812726621100207,
          -0.5375980426760137,
          1.2774334219662258,
          -0.5530649525458343,
          -0.394236520173645,
          -0.11050822366364353,
          0.17021043638242853,
          0.45592446750620647,
          -1.1017993345925354,
          -0.7852133967071616,
          -0.4981997977166089,
          0.1148740913298231,
          1.9398741377152664,
          -0.2175423932889727,
          -0.15292269760063587,
          -0.1540550687360724,
          -0.4654332990423619,
          -0.36331944944220707,
          -0.5328161289916414,
          0.005612963604930778,
          -0.5286045197074356,
          0.03513011061333499,
          -0.301481424286025,
          1.1765496980368042,
          0.4046284088552553,
          -0.5052735239638184,
          0.20147417090041686,
          -0.7823914996322042,
          0.34994339797516694,
          4.183041564541837,
          0.1760597557946211,
          0.5649809392145918,
          0.2088252585884298,
          -0.012406702102880387,
          -0.6003092331921402,
          0.4029039216090765,
          -0.641531184193703,
          -0.07430015957790585,
          2.398271159257478,
          2.2060183127447384,
          -0.6323597267435268,
          0.38014265673823633,
          -0.6609703860901983,
          -0.9752462673840941,
          0.40984273313112973,
          2.3009159712538203,
          -0.6230611825913974,
          0.14195705270563896,
          -0.649842630816553,
          0.2724273032329407,
          0.34227916123514956,
          1.5590110832913633,
          1.7841257552514436,
          3.4962315633268957,
          1.9432455104711686,
          1.8767971016000151,
          0.02810012407948358,
          -0.06271123295621069,
          1.9835470098235706,
          0.23104911249874283,
          -0.5750901905222732,
          -0.5323963847071538,
          1.039180494540306,
          -0.5733266885340774,
          -0.8540109075134159,
          -1.0284993555834518,
          -0.7415224540885227,
          -1.0193015124411462,
          -0.5605020525904977,
          0.3387834393234771,
          -0.7632291274206335,
          -0.10777048701753625,
          -0.7366957029518957,
          -0.32803888753264576,
          -0.7430004112538311,
          1.8897066651957295,
          0.7579997448220894,
          0.7214857014697054,
          0.08992218985755303,
          -0.03245299037851883,
          1.3648454820103353,
          -0.7314288393624678,
          3.335840755708886,
          3.3872392629304544,
          3.6041839791060517,
          3.25798684859255,
          1.0240515771293808,
          2.672654652798432,
          3.67045638652461,
          2.822658306362622,
          2.1160773931526347,
          0.13462574932753327,
          3.471647287280153,
          -0.7072283208535544,
          1.7167582878030099,
          2.6686210904139376,
          0.4985400801875509,
          0.8852513864730692,
          1.5260249468803937,
          -0.03570816369735098,
          0.2224671429647435,
          1.411370519730791,
          0.21219447060342259,
          -0.4012306070830819,
          -0.7411994903333767,
          2.4796456437941603,
          1.878171123825262,
          0.3329697102769666,
          1.6223152408721189,
          2.850044044964806,
          0.019903422297622583,
          0.2745011725257143,
          2.0133896778499683,
          -0.37411935407344477,
          3.1079840751218573,
          -0.30105696239536545,
          1.6262746389527363,
          1.439438245839999,
          -0.3489668673991633,
          0.5211424423705984,
          0.6958138707093884,
          0.34101996604683404,
          -0.4585417324249264,
          -0.6931302402151768,
          -0.2832862924016482,
          -0.1646019857600597,
          -0.6103856586976656,
          0.8887239708065101,
          2.1299630166526624,
          2.0309622959762224,
          -0.11472305311742728,
          0.7808358825124904,
          0.81823968588578,
          0.828934843430578,
          2.6872029619574023,
          -0.22444494083175434,
          0.33220591137209315,
          -0.356008535699255,
          -0.4637706380468365,
          2.578753936736508,
          0.9761266436383447,
          1.5419905328966594,
          0.32565550894413386,
          0.1976626247348406,
          -0.6555534031959708,
          -0.7526388128164745,
          -0.7594260656908193,
          -0.12087240300509393,
          1.3332167126586367,
          1.8289529384518797,
          1.121244734538711,
          -0.4021245410497658,
          0.4464316181188316,
          -0.3494621485339327,
          0.8514414613463425,
          0.16327495562665087,
          -0.14336579676050773,
          -0.30827863719558096,
          1.6884749145146147,
          1.5533657127789415,
          0.8779090188639379,
          -0.13431924730453393,
          -0.484450118556482,
          0.6596240544169203,
          0.22257658205309663,
          1.001484331392467,
          1.1509380003869107,
          2.209000210169071,
          0.340314640524825,
          0.09923355436230992,
          -0.4234615593378988,
          1.6707346996628336,
          1.7142563874569408,
          1.2161728291502432,
          -0.6588954506002523,
          -0.5760689333004416,
          -0.5082446920206642,
          1.6121176460731348,
          0.058942756845325676,
          -0.4809800456965017,
          0.8693055478964273,
          -0.8085867282326693,
          -0.9488893490113267,
          0.17432400906425877,
          0.7377114258218062,
          -0.5934785599561873,
          -0.6914052116856073,
          0.05628132669548029,
          -0.4521366148560211,
          -0.5576528072546708,
          1.9001812218587546,
          -0.19374262380366114,
          -0.0425922644937705,
          2.378312076510869,
          1.7589064993279926,
          0.21975503843232136,
          -0.08606618751897971,
          -0.08932224184752738,
          -0.19557067533387215,
          -0.09269018771615563,
          0.5552491928914143,
          -0.031308916323662145,
          0.7020624332221236,
          -0.31935877169891214,
          1.670116136373277,
          0.5492994454371888,
          -0.5555946778520687,
          1.5833747416253738,
          0.7275481093443166,
          3.0937993790046985,
          0.30291693888580795,
          -0.5285821142344719,
          0.21349783089977603,
          2.623527147488488,
          0.22881019574902658,
          -0.6399959613330057,
          -0.9041229384327195,
          1.7170591224772047,
          0.07076903604986425,
          -0.4230739873431436,
          -0.52344011521293,
          0.6472506414396489,
          0.2910725320287471,
          1.6222917769378302,
          2.441996984917768,
          -0.5915946309162342,
          -0.9725377004385977,
          -0.7933057240057422,
          -0.769474436233682,
          -0.8153670865933487,
          -0.7085570394559271,
          -0.7512621285822786,
          1.7629915205419806,
          0.6910217449706643,
          -0.45793129647447345,
          1.1392930327663426,
          -0.8711230623367765,
          -0.8340989671163586,
          -0.4745048538244341,
          -0.2263790059584092,
          -0.8099452599237399,
          0.7035465484761306,
          -0.1512275449692324,
          -0.3007021786052545,
          1.353597179546918,
          -0.3392212216931675,
          -0.8026435734555585,
          0.381692695640458,
          -0.34539421954186483,
          0.5379319017673762,
          0.9904775945838007,
          0.920436812302707,
          -0.6024230910389657,
          -0.6497127217657844,
          -0.3322074613811242,
          -1.0554376808232036,
          -0.5064035864651836,
          0.5146489657800727,
          -0.49397624844964594,
          -1.1346425492561931,
          -0.6303060648069638,
          0.40604223241450965,
          -0.4660547575098956,
          -0.7467426788989935,
          -0.9861898533251512,
          -1.03512251368376,
          -0.8704883250850595,
          -0.3381857907808816,
          -0.11064065690801453,
          -0.3986851183555185,
          -0.8717113216941705,
          -0.5358861749946553,
          -0.3232711466842788,
          0.20524532301149312,
          -0.17049956168592398,
          -0.48136630184442003,
          -0.44496879865023237,
          -0.43254564642843135,
          -0.7488767033307374,
          0.3484459931686569
         ],
         "xaxis": "x",
         "y": [
          0.40549857225743824,
          -1.2125926133872553,
          -0.6910892583831019,
          1.0181243773756297,
          0.4950567570514896,
          -0.37460948978941516,
          -2.2429894161952646,
          -2.3036495283396,
          -2.0792649447208125,
          1.5314344302468805,
          2.06098579726983,
          0.15205259034198923,
          0.21754005428529669,
          -1.16979319242367,
          1.31727538150331,
          -0.6843115119279157,
          -0.12254314740986144,
          -0.9107864572087131,
          0.4506627557432956,
          0.8479379070231401,
          0.09112456401627113,
          -0.9705849731717047,
          -0.8071131662602883,
          -0.09570998842491311,
          -0.3049799268372206,
          -0.33815185719266694,
          -1.1295202148206251,
          0.84108812639246,
          -0.6039560862747896,
          0.8250341468557658,
          -0.2953283806716658,
          -1.0929404604969104,
          1.1964873938769967,
          -1.4500919236382324,
          0.22292121328824854,
          3.0851533492961996,
          -0.18568835675694043,
          0.019560561104874037,
          1.116284747966836,
          0.6925535303265222,
          0.8943111911045701,
          -0.16104749483668626,
          0.36075324200129083,
          0.8102715746647493,
          2.1167828206929,
          0.7017438790343185,
          0.06413162652409138,
          0.6656262097139206,
          -0.6426207800825721,
          1.5287739808282124,
          -0.5634707056908372,
          -0.6561802172141843,
          -0.5585435554566457,
          -0.813717535586508,
          -0.618186476489088,
          -0.4947855240761304,
          0.24852738176497505,
          -0.4512785160758653,
          -0.5994190993697327,
          -0.5445296484492111,
          2.811249841332499,
          -0.6782149724101851,
          0.3320576541517891,
          -0.16458981445235218,
          -0.1972120539749941,
          -1.2077950269708573,
          2.052961600190908,
          -2.202394700879245,
          -0.10783614773806877,
          0.6601891958096525,
          0.9683036159692884,
          0.2675433255329529,
          0.6215773085790177,
          0.11349243741828505,
          0.4219641422921021,
          -0.632419551943479,
          0.041818443986504736,
          -0.549955599183888,
          -0.5892334713314457,
          -0.13832370811168673,
          -0.11252914450787163,
          -0.6956262755773702,
          -0.21799698442193424,
          -1.088789464882581,
          -0.24912255125806293,
          -0.9328243386326619,
          -0.404948912521647,
          -0.7692315949941795,
          -0.4369477908429565,
          1.136381953465139,
          0.3022478184628597,
          0.47563716049708815,
          0.10086948643619632,
          0.6059532174734152,
          -0.2770377418722847,
          3.705301194565903,
          -1.3143438388248136,
          0.8402769608035716,
          0.45395503565559686,
          -0.043260587159661586,
          0.8845641927866831,
          2.649437069765172,
          -0.5324195947308851,
          0.3718394426990018,
          0.5994798304799085,
          0.19749506653662932,
          -0.6807786001631517,
          -0.7831173110268329,
          -1.0499569829652404,
          -2.0976333968130616,
          -0.3965732360987644,
          3.3450884445096722,
          0.7974410492826031,
          1.851618775080028,
          0.01913073059696381,
          -1.689178050873945,
          -0.11466165276092034,
          3.0952121436253073,
          -0.7099630982734537,
          0.13251960318422448,
          1.3475956759915406,
          -0.30554622527886943,
          -0.22012081674152809,
          0.771422341418919,
          -0.7164056282134242,
          -0.7454605348655007,
          -0.11281318085855598,
          -0.41934057932785246,
          -0.862897422283379,
          -0.03576525013965632,
          1.020011271412863,
          -0.7988624119808886,
          0.4708715526750928,
          -0.4233183853708407,
          -0.6548738834758498,
          3.0897852747176358,
          -1.2292566410579773,
          -0.5270450792766266,
          0.40864925443820876,
          0.03099388291778488,
          0.22811390560672773,
          3.199166954930207,
          -1.6185724298573496,
          0.5811840762421052,
          -0.23577582628260604,
          0.2618308341306119,
          1.4182322085732189,
          0.2941948510651821,
          -0.01023944406709742,
          -0.1436195937882432,
          0.5650251929173683,
          0.11860716254996896,
          -0.4802535500100213,
          -0.5558402369598187,
          0.2816244532427807,
          -0.18117236031093192,
          -1.1686149095855363,
          -0.7266037507956028,
          2.0054872397988333,
          0.40383907068458513,
          -0.521682632437216,
          0.9052268936359977,
          0.06603177489496845,
          2.316127468393868,
          1.0663211142897695,
          1.870993776077092,
          0.49818933443728713,
          0.6786155396086605,
          -1.1957425209039756,
          -0.7270611918683608,
          -0.7822680384129602,
          -0.7240699007251736,
          -0.25452257443295234,
          -0.9839490130720548,
          0.5295380788435445,
          -0.8836938462415177,
          -0.5860652858665654,
          -0.33579774759744185,
          0.10636164704292113,
          -0.5474175690330312,
          0.9413000152809884,
          0.22101665517302008,
          -0.9113143072502996,
          -0.4780694580668924,
          -1.80791511373412,
          0.23522906769086763,
          0.5661078540531012,
          1.8306096914365333,
          -0.07558656801404323,
          -0.07046689665704232,
          0.22773094566939067,
          0.2964779906823119,
          -0.2629665220287079,
          -0.7709631867274862,
          -0.9600889066432273,
          -1.6332617874407664,
          0.15091749391487624,
          -0.8986026267336753,
          -0.4207051277745416,
          -1.3604902621563078,
          -0.47906170737051423,
          -2.011907079313327,
          -1.2143787147362386,
          -0.1258337163770779,
          -0.9480511764265895,
          1.6892408530309775,
          -2.3609706027483934,
          0.6059938319162865,
          -0.8558178708571013,
          2.046678924184929,
          -0.35921094881660187,
          -2.289067809180375,
          -1.1258415471445664,
          0.10222787597964564,
          -0.034930509022503116,
          -0.519519469092481,
          0.18171407866012504,
          -0.5212526806150233,
          -0.11949237623017549,
          0.6456196238854198,
          -0.16654342064528208,
          -0.05794634740557842,
          0.5672850701530184,
          0.2990083027999477,
          2.273027187997848,
          2.7821372986522253,
          -0.3705797943674025,
          1.3371184572798491,
          -1.305637900793948,
          -0.6854745284614696,
          -0.9564972075703483,
          0.3715286807977126,
          1.2579031965548146,
          0.955504608142009,
          -1.4090411195459855,
          0.5660973041664219,
          -1.1614471389504568,
          0.14748534894961834,
          -0.9823652934110462,
          0.11447139998858197,
          -0.6612384244635214,
          0.12421840292963905,
          0.8249423244903674,
          0.9204234211256577,
          0.04609900200920377,
          -0.025313574317263398,
          0.6031486909528273,
          0.09635641474382017,
          -0.6826197976005302,
          1.6149575296866285,
          0.28507506883493305,
          1.6755677355212166,
          1.253489680470401,
          0.9324205334899371,
          0.15696898153871622,
          1.0438049779124476,
          0.4424914907839646,
          0.6472195072560579,
          0.3340844792615659,
          -0.25047803563791876,
          -0.5451446172078068,
          -0.48071844377362516,
          0.07190456411943032,
          -0.54974647279074,
          -1.7601515645018644,
          2.355404248087644,
          0.35812417043433,
          -0.8703612527484402,
          -0.224886248465476,
          -0.7277319776633568,
          -0.6509842762773836,
          -0.6240541154905894,
          0.202964883948324,
          -0.7354470902003339,
          0.32509806133561103,
          -2.385148435988677,
          -1.0905940132711291,
          1.0166779698993638,
          0.9856427381819337,
          0.2915141628252467,
          -1.7965540196046235,
          -0.7590072083924234,
          -0.8425076025605556,
          -0.1992295167907111,
          -1.5851512734311217,
          -0.8674151639320966,
          -1.271924333018,
          -0.007565930950498758,
          0.9844201843817205,
          -0.03152818607082217,
          -0.8069119469656292,
          0.1184831341675564,
          1.1205780765569526,
          -0.16576612845319788,
          -0.5896328059464391,
          -0.13772624460664604,
          -0.8639007081770167,
          -0.04291737038271856,
          -0.9425149344954243,
          0.6372741442447286,
          2.2684928492980987,
          0.776827854852128,
          -0.34177732625257334,
          0.7435757893684338,
          0.32864812701437895,
          0.48071282047258507,
          0.28716074462943164,
          -0.5381082386468298,
          -2.472307782779073,
          -0.5688808850467897,
          -0.2845321410002988,
          0.5512500271611762,
          -0.9569410844135882,
          -0.506910447832725,
          -1.663552407080022,
          0.0898066837863173,
          1.4149521778344523,
          0.8162511485424928,
          -0.8257424078998247,
          0.866729704091137,
          0.36581784085257496,
          -2.076270913719623,
          -0.7314180083653441,
          -0.42178509835345424,
          -0.5068385183694298,
          -0.32775049825789515,
          1.7722022604330518,
          1.092253948605877,
          0.6259420080360798,
          -0.3573012707747461,
          0.38745690363839896,
          0.1356052600954678,
          0.8779256525382209,
          -0.9998555543529186,
          -0.9132013487339666,
          -0.32500775446747643,
          0.4952943533915621,
          1.0529488526075759,
          0.01585157570693516,
          -0.8561688785869203,
          -0.1604686706256748,
          2.253179459690342,
          0.6289168792161116,
          1.0002855952630194,
          0.3575462083848035,
          -0.3963241063655951,
          -0.5176975166285265,
          0.1561563623905681,
          1.4257648992288408,
          0.47065959850728434,
          0.6319468190742326,
          0.5517783921185312,
          0.23967009191523572,
          -0.7008862430225576,
          -0.08135568951568069,
          -0.8096875970990218,
          -1.3015009422431723,
          -0.9427289045966308,
          -0.2757033759821907,
          -0.4472281013729823,
          -0.39886059727796913,
          0.5906068091946088,
          0.41210435800639783,
          1.0158877689012598,
          -0.5371601131203033,
          -0.17418262746739735,
          0.19003557635404433,
          -0.12831028781439952,
          -1.2125481170126116,
          0.15928113871271307,
          -0.7748042064642365,
          -0.02961294514867003,
          0.47107610897164653,
          -1.191063519861625,
          -0.40976184324626447,
          -0.0930496371378617,
          -0.8549107512868033,
          -1.64271113236441,
          0.03346588555809638,
          0.07135904121841162,
          1.0781603641642674,
          -0.011042561410840044,
          -0.5740203437012208,
          -0.23969632325734655,
          0.9444124388733705,
          -0.35308206043495777,
          -0.7650383896268216,
          1.847461367446294,
          -0.10153513421086038,
          0.8425276030249925,
          1.1201799844782028,
          -0.9785538811602135,
          -2.0692981996966795,
          -1.8259944348473187,
          -0.1872998366549573,
          -0.24688068113319203,
          0.015354730580684893,
          -0.6040637536671467,
          -0.18313108662922073,
          0.34840601536678445,
          -0.6924825940744475,
          -0.6700432024757674,
          -0.6300342433995219,
          -0.2313304349235723,
          -0.7252467514553448,
          0.9580070669368714,
          -1.1724629535488769,
          -0.12149179265430063,
          0.04218651012025525,
          0.5623328148141528,
          0.47956400357831747,
          -0.5782984701839293,
          -1.2174107218742392,
          0.6779631660521872,
          0.28593836880424556,
          0.6848493440746333,
          -0.4647773429334795,
          -0.6977446870330838,
          0.26553129285591354,
          0.6202976294357128,
          -1.322493018154283,
          -0.1550143656223795,
          -1.0626603782233908,
          0.22813176702322224,
          0.3568720006751287,
          -0.07126518468089721,
          -0.4280586143200966,
          -0.37971485434237146,
          -0.245416072024593,
          0.3185679318871254,
          0.25388521092036653,
          -0.2615471927048357,
          -0.5363291058166745,
          1.7039000113427416,
          1.4020181714018505,
          -2.1287718108471156,
          0.4661290793979409,
          -2.3155022940037293,
          2.2175062388886935,
          0.07186607381613472,
          -0.29901540612408173,
          0.8095329443158945,
          -0.02810177092166048,
          -0.25498308214475557,
          3.4016782645915327,
          -0.14452084780903904,
          -1.995532288068521,
          2.6362632138681987,
          -0.27877923191218185,
          1.3997213417361798,
          -0.501223851954184,
          -0.6434142447390541,
          0.011386311175299244,
          0.6332371052576862,
          0.13621077865809977,
          0.013050523274698297,
          0.7769285775083515,
          -1.0884045640454325,
          -0.24670262854500083,
          1.078941970935428,
          0.8751759660439764,
          0.40902889494162004,
          0.23653015771358832,
          0.883409157666717,
          -0.42321576490058566,
          0.3484438646507368,
          0.08058112811242671,
          -0.20587706726287305,
          -0.444687789921488,
          -0.015109771371623419,
          0.8860583461950455,
          0.3811760317259814,
          -0.6938019464972303,
          1.0634854580118882,
          -0.2632694462073515,
          1.0468464226142926,
          0.6138825025996889,
          0.20498831814452878,
          1.038708540398208,
          1.4111649361741783,
          1.5114254848604147,
          0.4829254123355509,
          0.33510607088957794,
          0.4784829562791806,
          0.49690498771567454,
          0.21561551844953095,
          -1.3225755294988952,
          0.6825866256562007,
          0.4211781768411954,
          -0.03187888739873294,
          0.3730091644967422,
          1.1640210520102943,
          0.6202135260397046,
          -1.9337066705326695,
          2.419398652398618,
          -0.1390344261859557,
          2.830129507369283,
          1.720898159196665,
          2.272151021225703,
          1.1796019783916105,
          0.21005964317712322,
          -0.5421053924382369,
          -0.7486164529283055,
          -0.3979663419477862,
          0.2870876872265292,
          1.3999244721344766,
          0.514842240074825,
          2.610326568317131,
          -0.7796189875415469,
          -0.1516762737282436,
          0.05121904595225957,
          -0.7459742519173895,
          -0.19621663166483103,
          -1.0231030507489876,
          -0.9273171981814514,
          -0.5643622012694854,
          -0.7489914476367577,
          1.9516883692411031,
          -0.19317937663718998,
          -2.2287128730110397,
          -0.5651637284988992,
          -0.31227551657494307,
          -0.1806876649947768,
          -0.0421105272078551,
          -0.8272906826902572,
          -0.4087615077234002,
          0.13714326531309695,
          1.063298418961121,
          -1.20069487533485,
          -0.1906747005907242,
          0.818564445887187,
          0.6453426713006782,
          1.508013348366992,
          -0.13425333227610428,
          0.34358966229488236,
          0.47415082347893117,
          -0.408385461565403,
          -0.9883447694865796,
          -0.24246284697500464,
          -0.184828506090518,
          0.3527440767657528,
          -0.18807903735121423,
          1.0127423120984327,
          -0.1804896187174076,
          -0.7277705592474536,
          -0.5064284534848813,
          -0.11080534827913013,
          -0.9241238776792634,
          -0.9743966418751485,
          -0.07287648332298297,
          -1.0622341652267644,
          -0.6620691711215742,
          -0.25270953518261674,
          1.5918937985001347,
          -1.1490405760290565,
          0.7075199791149536,
          -0.5830770579190748,
          -0.15480202152336509,
          -1.2180831236371825,
          -1.9542002727020438,
          -0.7769410172290516,
          -1.0606443243828692,
          -0.7585363397071799,
          -1.0834537478856177,
          -0.85721544200747,
          1.110495314933466,
          0.14809782131297503,
          -2.0827890043351163,
          -1.6370193171693805,
          -1.0988513934840791,
          0.3215784309794221,
          -0.518117352910461,
          -0.5131735873560571,
          0.6974478406674841,
          2.688882038734465,
          -0.6332527356934389,
          0.5418250129477195,
          -0.9474321249569082,
          -0.7885006675637752,
          0.396143066069451,
          -0.7332152334707859,
          -0.4809576715521103,
          -0.7336900517486328,
          0.6056439610984947,
          1.1033552058113845,
          -1.5060576911968078,
          -0.6010675844029555,
          -0.5988398239012309,
          -2.197356507337919,
          -0.8776157879419447,
          0.2913905844685834,
          -0.0338926548314065,
          -0.6532735962682795,
          0.014001737998642438,
          -1.0100541181736016,
          -0.8966075624227202,
          0.1934520476422186,
          -1.1024608334397163,
          0.5722114668097447,
          -1.4336503073810307,
          0.3069529138707928,
          0.08759912077811662,
          0.004044039352019784,
          -0.7606424950229628,
          0.24555277306955647,
          0.16506099674248872,
          -0.7159352396489451,
          -0.6641559151098584,
          -0.2482710336458601,
          -0.3554300215762877,
          -0.5106906455592604,
          -2.025311450428586,
          2.1663569497990967,
          1.4691633747326025,
          1.863105491886898,
          1.5059937493950941,
          0.7839913809384877,
          1.0403606727560324,
          1.863637426765179,
          1.274992602140677,
          1.3241008803854493,
          -0.7204637388633389,
          -1.674250459685535,
          0.4591378750988134,
          -0.6034885799234416,
          -0.1768683180695196,
          -0.41878648669743435,
          -0.01972679546223446,
          0.41475895634447135,
          0.14920679622656366,
          0.9281166498518024,
          -0.1679714342646712,
          1.7181430256981318,
          0.37424580519645934,
          0.26839064150681596,
          -0.48218803895496243,
          -0.1302579905413085,
          1.6538949732432193,
          2.176745757367585,
          -0.6156087525176874,
          -0.47300460669644084,
          -0.43609433712935536,
          0.044191408298716615,
          -0.3629974954159998,
          0.7526411042631497,
          0.1368812930098409,
          -0.5205612371361585,
          -0.5322086425031931,
          0.6434472406540909,
          -0.8370369440957098,
          -0.5598188384494384,
          -0.39509742618113414,
          -0.11429181457239694,
          -0.2708722742060254,
          -0.28508066467970394,
          -0.13295618438894963,
          -1.1910022880547357,
          0.6637669328256205,
          0.3063775808361029,
          -0.01552895736005101,
          -0.5262635378848846,
          0.015258194290349936,
          -1.2014214198437043,
          1.872486077018259,
          0.9052676430332293,
          -0.7800192380482039,
          -0.40038028278850873,
          0.1280076008547105,
          0.27014806930782953,
          0.33211734095629536,
          -0.6710588460001656,
          -0.5734312582418811,
          -0.2453220154572947,
          -0.43468436751848066,
          -0.16875737687490144,
          -0.7199442715631034,
          0.1676460515537677,
          -0.2884505413541314,
          -0.241683293756605,
          -0.17005208063380142,
          -0.2643992615860159,
          0.963683964889933,
          0.03779313751635929,
          0.6198078903801961,
          -0.8584927690688074,
          -0.31520149108676865,
          -0.6538597037486933,
          -0.6541329675541938,
          0.22848199210546155,
          -0.8677297246531682,
          -1.3136265126397635,
          -1.5882586645515389,
          -0.31507391137656526,
          -0.7284798044876676,
          -0.33627846918551824,
          -0.6854227780110936,
          -1.1185802432320393,
          -1.0679492476981143,
          -0.5269688767007916,
          -0.6913082920839921,
          0.5262374717836654,
          -0.5992142899008001,
          -0.12074604044513393,
          3.225787011174132,
          -0.5083932863953388,
          -0.3180498384469216,
          -0.33940808518934956,
          0.4792765244613424,
          2.1381823476413397,
          1.3973119023274965,
          -0.21510327614974248,
          -0.10958224221715519,
          -0.018340219341650855,
          1.7761284508726367,
          2.8464853942357013,
          -0.2378426450224185,
          -0.30112657833514,
          -1.0657250127544002,
          -0.9150658945697976,
          -0.8727455550837283,
          -0.691701040021637,
          -0.9548885211095017,
          -0.7377337209802023,
          -0.923558139230323,
          2.931702516327157,
          -0.5169742356924458,
          -0.4266360783858689,
          0.9326146271617638,
          0.9202796563502598,
          0.0935054746563137,
          3.04550988684445,
          1.9374126337110684,
          -0.5814114313990792,
          1.64230099600991,
          -0.5034774552141285,
          0.3587962522849634,
          -0.6166199356954893,
          1.0400759309348584,
          1.5986800153760985,
          1.2003113391434321,
          0.7501080109584966,
          -1.182473091892147,
          -1.3330013543699413,
          -0.020590234952255766,
          -0.42814644003990665,
          -0.15278540504449986,
          0.13228212311306073,
          -1.395391473718456,
          -1.4028986220187571,
          -0.4276746512368516,
          0.8720132078185515,
          2.745929718403004,
          1.5133753863207406,
          -0.014652750798195042,
          -0.04641710611048245,
          -2.212807843708695,
          -1.5646241221858563,
          0.03572529769599234,
          0.022242665578242393,
          0.655241105017147,
          0.9392800877168129,
          -0.43242587121904874,
          -0.463984377906526,
          2.810370627542157,
          -0.21543418491833322,
          -0.5767897122676799,
          -0.049847917185962626,
          -0.1246635389886652,
          0.18306525530236464,
          1.0805763093187517,
          -0.13283148754315294,
          -0.7241485204585443,
          -1.1063153563258705,
          -0.39122907971374,
          -0.6547855349022026,
          -0.21976234181424104,
          0.31026999297349345,
          -0.9862744657980419,
          -0.3073204145112841,
          -0.7909734618425305,
          -0.6785322206370142,
          -0.23432572710763003,
          0.8340725755227749,
          1.4465382654397205,
          1.1501928167940194,
          -0.15041447384204687,
          1.5827766723179144,
          -0.2890324325586851,
          0.7579225364057267,
          -2.052894693368061,
          0.5738582205387078,
          1.0546999834145177,
          -0.8229301311498987,
          0.49095584035386775,
          0.44032377455185445,
          -0.21003427411679523,
          0.13049691177051934,
          0.5282447297502987,
          -0.4398056773825589,
          -1.962148456477782,
          0.15243272006200634,
          1.2738662315733964,
          -0.4459690300331203,
          -0.6757502832621644,
          0.9205565828689694,
          -0.9587340757150701,
          1.1542069046059162,
          -0.19991534164096134,
          0.6352484136362615,
          -0.7521479175176599
         ],
         "yaxis": "y"
        }
       ],
       "layout": {
        "coloraxis": {
         "colorbar": {
          "title": {
           "text": "color"
          }
         },
         "colorscale": [
          [
           0,
           "#0d0887"
          ],
          [
           0.1111111111111111,
           "#46039f"
          ],
          [
           0.2222222222222222,
           "#7201a8"
          ],
          [
           0.3333333333333333,
           "#9c179e"
          ],
          [
           0.4444444444444444,
           "#bd3786"
          ],
          [
           0.5555555555555556,
           "#d8576b"
          ],
          [
           0.6666666666666666,
           "#ed7953"
          ],
          [
           0.7777777777777778,
           "#fb9f3a"
          ],
          [
           0.8888888888888888,
           "#fdca26"
          ],
          [
           1,
           "#f0f921"
          ]
         ]
        },
        "legend": {
         "tracegroupgap": 0
        },
        "template": {
         "data": {
          "bar": [
           {
            "error_x": {
             "color": "#2a3f5f"
            },
            "error_y": {
             "color": "#2a3f5f"
            },
            "marker": {
             "line": {
              "color": "#E5ECF6",
              "width": 0.5
             },
             "pattern": {
              "fillmode": "overlay",
              "size": 10,
              "solidity": 0.2
             }
            },
            "type": "bar"
           }
          ],
          "barpolar": [
           {
            "marker": {
             "line": {
              "color": "#E5ECF6",
              "width": 0.5
             },
             "pattern": {
              "fillmode": "overlay",
              "size": 10,
              "solidity": 0.2
             }
            },
            "type": "barpolar"
           }
          ],
          "carpet": [
           {
            "aaxis": {
             "endlinecolor": "#2a3f5f",
             "gridcolor": "white",
             "linecolor": "white",
             "minorgridcolor": "white",
             "startlinecolor": "#2a3f5f"
            },
            "baxis": {
             "endlinecolor": "#2a3f5f",
             "gridcolor": "white",
             "linecolor": "white",
             "minorgridcolor": "white",
             "startlinecolor": "#2a3f5f"
            },
            "type": "carpet"
           }
          ],
          "choropleth": [
           {
            "colorbar": {
             "outlinewidth": 0,
             "ticks": ""
            },
            "type": "choropleth"
           }
          ],
          "contour": [
           {
            "colorbar": {
             "outlinewidth": 0,
             "ticks": ""
            },
            "colorscale": [
             [
              0,
              "#0d0887"
             ],
             [
              0.1111111111111111,
              "#46039f"
             ],
             [
              0.2222222222222222,
              "#7201a8"
             ],
             [
              0.3333333333333333,
              "#9c179e"
             ],
             [
              0.4444444444444444,
              "#bd3786"
             ],
             [
              0.5555555555555556,
              "#d8576b"
             ],
             [
              0.6666666666666666,
              "#ed7953"
             ],
             [
              0.7777777777777778,
              "#fb9f3a"
             ],
             [
              0.8888888888888888,
              "#fdca26"
             ],
             [
              1,
              "#f0f921"
             ]
            ],
            "type": "contour"
           }
          ],
          "contourcarpet": [
           {
            "colorbar": {
             "outlinewidth": 0,
             "ticks": ""
            },
            "type": "contourcarpet"
           }
          ],
          "heatmap": [
           {
            "colorbar": {
             "outlinewidth": 0,
             "ticks": ""
            },
            "colorscale": [
             [
              0,
              "#0d0887"
             ],
             [
              0.1111111111111111,
              "#46039f"
             ],
             [
              0.2222222222222222,
              "#7201a8"
             ],
             [
              0.3333333333333333,
              "#9c179e"
             ],
             [
              0.4444444444444444,
              "#bd3786"
             ],
             [
              0.5555555555555556,
              "#d8576b"
             ],
             [
              0.6666666666666666,
              "#ed7953"
             ],
             [
              0.7777777777777778,
              "#fb9f3a"
             ],
             [
              0.8888888888888888,
              "#fdca26"
             ],
             [
              1,
              "#f0f921"
             ]
            ],
            "type": "heatmap"
           }
          ],
          "heatmapgl": [
           {
            "colorbar": {
             "outlinewidth": 0,
             "ticks": ""
            },
            "colorscale": [
             [
              0,
              "#0d0887"
             ],
             [
              0.1111111111111111,
              "#46039f"
             ],
             [
              0.2222222222222222,
              "#7201a8"
             ],
             [
              0.3333333333333333,
              "#9c179e"
             ],
             [
              0.4444444444444444,
              "#bd3786"
             ],
             [
              0.5555555555555556,
              "#d8576b"
             ],
             [
              0.6666666666666666,
              "#ed7953"
             ],
             [
              0.7777777777777778,
              "#fb9f3a"
             ],
             [
              0.8888888888888888,
              "#fdca26"
             ],
             [
              1,
              "#f0f921"
             ]
            ],
            "type": "heatmapgl"
           }
          ],
          "histogram": [
           {
            "marker": {
             "pattern": {
              "fillmode": "overlay",
              "size": 10,
              "solidity": 0.2
             }
            },
            "type": "histogram"
           }
          ],
          "histogram2d": [
           {
            "colorbar": {
             "outlinewidth": 0,
             "ticks": ""
            },
            "colorscale": [
             [
              0,
              "#0d0887"
             ],
             [
              0.1111111111111111,
              "#46039f"
             ],
             [
              0.2222222222222222,
              "#7201a8"
             ],
             [
              0.3333333333333333,
              "#9c179e"
             ],
             [
              0.4444444444444444,
              "#bd3786"
             ],
             [
              0.5555555555555556,
              "#d8576b"
             ],
             [
              0.6666666666666666,
              "#ed7953"
             ],
             [
              0.7777777777777778,
              "#fb9f3a"
             ],
             [
              0.8888888888888888,
              "#fdca26"
             ],
             [
              1,
              "#f0f921"
             ]
            ],
            "type": "histogram2d"
           }
          ],
          "histogram2dcontour": [
           {
            "colorbar": {
             "outlinewidth": 0,
             "ticks": ""
            },
            "colorscale": [
             [
              0,
              "#0d0887"
             ],
             [
              0.1111111111111111,
              "#46039f"
             ],
             [
              0.2222222222222222,
              "#7201a8"
             ],
             [
              0.3333333333333333,
              "#9c179e"
             ],
             [
              0.4444444444444444,
              "#bd3786"
             ],
             [
              0.5555555555555556,
              "#d8576b"
             ],
             [
              0.6666666666666666,
              "#ed7953"
             ],
             [
              0.7777777777777778,
              "#fb9f3a"
             ],
             [
              0.8888888888888888,
              "#fdca26"
             ],
             [
              1,
              "#f0f921"
             ]
            ],
            "type": "histogram2dcontour"
           }
          ],
          "mesh3d": [
           {
            "colorbar": {
             "outlinewidth": 0,
             "ticks": ""
            },
            "type": "mesh3d"
           }
          ],
          "parcoords": [
           {
            "line": {
             "colorbar": {
              "outlinewidth": 0,
              "ticks": ""
             }
            },
            "type": "parcoords"
           }
          ],
          "pie": [
           {
            "automargin": true,
            "type": "pie"
           }
          ],
          "scatter": [
           {
            "fillpattern": {
             "fillmode": "overlay",
             "size": 10,
             "solidity": 0.2
            },
            "type": "scatter"
           }
          ],
          "scatter3d": [
           {
            "line": {
             "colorbar": {
              "outlinewidth": 0,
              "ticks": ""
             }
            },
            "marker": {
             "colorbar": {
              "outlinewidth": 0,
              "ticks": ""
             }
            },
            "type": "scatter3d"
           }
          ],
          "scattercarpet": [
           {
            "marker": {
             "colorbar": {
              "outlinewidth": 0,
              "ticks": ""
             }
            },
            "type": "scattercarpet"
           }
          ],
          "scattergeo": [
           {
            "marker": {
             "colorbar": {
              "outlinewidth": 0,
              "ticks": ""
             }
            },
            "type": "scattergeo"
           }
          ],
          "scattergl": [
           {
            "marker": {
             "colorbar": {
              "outlinewidth": 0,
              "ticks": ""
             }
            },
            "type": "scattergl"
           }
          ],
          "scattermapbox": [
           {
            "marker": {
             "colorbar": {
              "outlinewidth": 0,
              "ticks": ""
             }
            },
            "type": "scattermapbox"
           }
          ],
          "scatterpolar": [
           {
            "marker": {
             "colorbar": {
              "outlinewidth": 0,
              "ticks": ""
             }
            },
            "type": "scatterpolar"
           }
          ],
          "scatterpolargl": [
           {
            "marker": {
             "colorbar": {
              "outlinewidth": 0,
              "ticks": ""
             }
            },
            "type": "scatterpolargl"
           }
          ],
          "scatterternary": [
           {
            "marker": {
             "colorbar": {
              "outlinewidth": 0,
              "ticks": ""
             }
            },
            "type": "scatterternary"
           }
          ],
          "surface": [
           {
            "colorbar": {
             "outlinewidth": 0,
             "ticks": ""
            },
            "colorscale": [
             [
              0,
              "#0d0887"
             ],
             [
              0.1111111111111111,
              "#46039f"
             ],
             [
              0.2222222222222222,
              "#7201a8"
             ],
             [
              0.3333333333333333,
              "#9c179e"
             ],
             [
              0.4444444444444444,
              "#bd3786"
             ],
             [
              0.5555555555555556,
              "#d8576b"
             ],
             [
              0.6666666666666666,
              "#ed7953"
             ],
             [
              0.7777777777777778,
              "#fb9f3a"
             ],
             [
              0.8888888888888888,
              "#fdca26"
             ],
             [
              1,
              "#f0f921"
             ]
            ],
            "type": "surface"
           }
          ],
          "table": [
           {
            "cells": {
             "fill": {
              "color": "#EBF0F8"
             },
             "line": {
              "color": "white"
             }
            },
            "header": {
             "fill": {
              "color": "#C8D4E3"
             },
             "line": {
              "color": "white"
             }
            },
            "type": "table"
           }
          ]
         },
         "layout": {
          "annotationdefaults": {
           "arrowcolor": "#2a3f5f",
           "arrowhead": 0,
           "arrowwidth": 1
          },
          "autotypenumbers": "strict",
          "coloraxis": {
           "colorbar": {
            "outlinewidth": 0,
            "ticks": ""
           }
          },
          "colorscale": {
           "diverging": [
            [
             0,
             "#8e0152"
            ],
            [
             0.1,
             "#c51b7d"
            ],
            [
             0.2,
             "#de77ae"
            ],
            [
             0.3,
             "#f1b6da"
            ],
            [
             0.4,
             "#fde0ef"
            ],
            [
             0.5,
             "#f7f7f7"
            ],
            [
             0.6,
             "#e6f5d0"
            ],
            [
             0.7,
             "#b8e186"
            ],
            [
             0.8,
             "#7fbc41"
            ],
            [
             0.9,
             "#4d9221"
            ],
            [
             1,
             "#276419"
            ]
           ],
           "sequential": [
            [
             0,
             "#0d0887"
            ],
            [
             0.1111111111111111,
             "#46039f"
            ],
            [
             0.2222222222222222,
             "#7201a8"
            ],
            [
             0.3333333333333333,
             "#9c179e"
            ],
            [
             0.4444444444444444,
             "#bd3786"
            ],
            [
             0.5555555555555556,
             "#d8576b"
            ],
            [
             0.6666666666666666,
             "#ed7953"
            ],
            [
             0.7777777777777778,
             "#fb9f3a"
            ],
            [
             0.8888888888888888,
             "#fdca26"
            ],
            [
             1,
             "#f0f921"
            ]
           ],
           "sequentialminus": [
            [
             0,
             "#0d0887"
            ],
            [
             0.1111111111111111,
             "#46039f"
            ],
            [
             0.2222222222222222,
             "#7201a8"
            ],
            [
             0.3333333333333333,
             "#9c179e"
            ],
            [
             0.4444444444444444,
             "#bd3786"
            ],
            [
             0.5555555555555556,
             "#d8576b"
            ],
            [
             0.6666666666666666,
             "#ed7953"
            ],
            [
             0.7777777777777778,
             "#fb9f3a"
            ],
            [
             0.8888888888888888,
             "#fdca26"
            ],
            [
             1,
             "#f0f921"
            ]
           ]
          },
          "colorway": [
           "#636efa",
           "#EF553B",
           "#00cc96",
           "#ab63fa",
           "#FFA15A",
           "#19d3f3",
           "#FF6692",
           "#B6E880",
           "#FF97FF",
           "#FECB52"
          ],
          "font": {
           "color": "#2a3f5f"
          },
          "geo": {
           "bgcolor": "white",
           "lakecolor": "white",
           "landcolor": "#E5ECF6",
           "showlakes": true,
           "showland": true,
           "subunitcolor": "white"
          },
          "hoverlabel": {
           "align": "left"
          },
          "hovermode": "closest",
          "mapbox": {
           "style": "light"
          },
          "paper_bgcolor": "white",
          "plot_bgcolor": "#E5ECF6",
          "polar": {
           "angularaxis": {
            "gridcolor": "white",
            "linecolor": "white",
            "ticks": ""
           },
           "bgcolor": "#E5ECF6",
           "radialaxis": {
            "gridcolor": "white",
            "linecolor": "white",
            "ticks": ""
           }
          },
          "scene": {
           "xaxis": {
            "backgroundcolor": "#E5ECF6",
            "gridcolor": "white",
            "gridwidth": 2,
            "linecolor": "white",
            "showbackground": true,
            "ticks": "",
            "zerolinecolor": "white"
           },
           "yaxis": {
            "backgroundcolor": "#E5ECF6",
            "gridcolor": "white",
            "gridwidth": 2,
            "linecolor": "white",
            "showbackground": true,
            "ticks": "",
            "zerolinecolor": "white"
           },
           "zaxis": {
            "backgroundcolor": "#E5ECF6",
            "gridcolor": "white",
            "gridwidth": 2,
            "linecolor": "white",
            "showbackground": true,
            "ticks": "",
            "zerolinecolor": "white"
           }
          },
          "shapedefaults": {
           "line": {
            "color": "#2a3f5f"
           }
          },
          "ternary": {
           "aaxis": {
            "gridcolor": "white",
            "linecolor": "white",
            "ticks": ""
           },
           "baxis": {
            "gridcolor": "white",
            "linecolor": "white",
            "ticks": ""
           },
           "bgcolor": "#E5ECF6",
           "caxis": {
            "gridcolor": "white",
            "linecolor": "white",
            "ticks": ""
           }
          },
          "title": {
           "x": 0.05
          },
          "xaxis": {
           "automargin": true,
           "gridcolor": "white",
           "linecolor": "white",
           "ticks": "",
           "title": {
            "standoff": 15
           },
           "zerolinecolor": "white",
           "zerolinewidth": 2
          },
          "yaxis": {
           "automargin": true,
           "gridcolor": "white",
           "linecolor": "white",
           "ticks": "",
           "title": {
            "standoff": 15
           },
           "zerolinecolor": "white",
           "zerolinewidth": 2
          }
         }
        },
        "title": {
         "text": "PCA Analysis on 2019-2020 IPEDS Data"
        },
        "xaxis": {
         "anchor": "y",
         "domain": [
          0,
          1
         ],
         "title": {
          "text": "pca0"
         }
        },
        "yaxis": {
         "anchor": "x",
         "domain": [
          0,
          1
         ],
         "title": {
          "text": "pca1"
         }
        }
       }
      },
      "text/html": [
       "<div>                            <div id=\"7c1f59e0-b8c3-4421-ad62-a1903b93c50b\" class=\"plotly-graph-div\" style=\"height:525px; width:100%;\"></div>            <script type=\"text/javascript\">                require([\"plotly\"], function(Plotly) {                    window.PLOTLYENV=window.PLOTLYENV || {};                                    if (document.getElementById(\"7c1f59e0-b8c3-4421-ad62-a1903b93c50b\")) {                    Plotly.newPlot(                        \"7c1f59e0-b8c3-4421-ad62-a1903b93c50b\",                        [{\"customdata\":[[\"Abilene Christian University\",3352.0,26.0],[\"Abraham Baldwin Agricultural College\",2480.0,39.0],[\"Adams State University\",1362.0,41.0],[\"Adelphi University\",5063.0,27.0],[\"Adrian College\",1723.0,35.0],[\"AdventHealth University\",390.0,35.0],[\"Alabama A & M University\",4975.0,71.0],[\"Alabama State University\",3446.0,74.0],[\"Alcorn State University\",2729.0,78.0],[\"Allegheny College\",1713.0,32.0],[\"American University\",8207.0,14.0],[\"Anderson University\",1213.0,37.0],[\"Anderson University\",2544.0,24.0],[\"Andrew College\",188.0,60.0],[\"Andrews University\",1352.0,22.0],[\"Angelo State University\",5469.0,31.0],[\"Appalachian Bible College\",173.0,41.0],[\"Appalachian State University\",16622.0,29.0],[\"Aquinas College\",1196.0,27.0],[\"Arcadia University\",1929.0,34.0],[\"Arizona Christian University\",713.0,38.0],[\"Arizona State University Campus Immersion\",41182.0,33.0],[\"Arkansas State University\",6439.0,39.0],[\"Art Academy of Cincinnati\",204.0,57.0],[\"Ashland University\",2687.0,28.0],[\"Auburn University\",22527.0,13.0],[\"Auburn University at Montgomery\",3505.0,47.0],[\"Augsburg University\",2178.0,49.0],[\"Augusta University\",4562.0,39.0],[\"Augustana University\",1727.0,19.0],[\"Aurora University\",3679.0,44.0],[\"Austin Peay State University\",6773.0,48.0],[\"Azusa Pacific University\",4411.0,35.0],[\"Bacone College\",235.0,65.0],[\"Baker University\",1092.0,26.0],[\"Barnard College\",2584.0,14.0],[\"Barry University\",3015.0,47.0],[\"Barton College\",990.0,42.0],[\"Baylor University\",13906.0,17.0],[\"Becker College\",1321.0,35.0],[\"Bellarmine University\",2416.0,24.0],[\"Belmont Abbey College\",1388.0,31.0],[\"Belmont University\",6563.0,16.0],[\"Benedictine University\",2131.0,41.0],[\"Bentley University\",4177.0,14.0],[\"Bethany Lutheran College\",591.0,23.0],[\"Bethel University\",1018.0,40.0],[\"Bethel University\",2327.0,24.0],[\"Bethel University\",2300.0,40.0],[\"Biola University\",3772.0,28.0],[\"Black Hills State University\",1945.0,23.0],[\"Blackburn College\",467.0,61.0],[\"Bloomfield College\",1516.0,72.0],[\"Bloomsburg University of Pennsylvania\",7263.0,32.0],[\"Blue Mountain College\",590.0,39.0],[\"Bluefield University\",781.0,52.0],[\"Bluffton University\",626.0,36.0],[\"Boise Bible College\",74.0,47.0],[\"Boise State University\",13104.0,21.0],[\"Boston Baptist College\",32.0,33.0],[\"Boston University\",16978.0,16.0],[\"Bowling Green State University-Main Campus\",12936.0,25.0],[\"Bradley University\",4508.0,29.0],[\"Brenau University\",1105.0,47.0],[\"Brewton-Parker College\",484.0,36.0],[\"Brigham Young University\",28288.0,35.0],[\"Brigham Young University-Hawaii\",2851.0,19.0],[\"Brigham Young University-Idaho\",18448.0,33.0],[\"Buena Vista University\",1257.0,49.0],[\"Bushnell University\",450.0,36.0],[\"Butler University\",4509.0,13.0],[\"Cairn University-Langhorne\",809.0,36.0],[\"Caldwell University\",1609.0,46.0],[\"California Baptist University\",7333.0,45.0],[\"California Polytechnic State University-San Luis Obispo\",19685.0,17.0],[\"California State Polytechnic University-Humboldt\",6087.0,53.0],[\"California State Polytechnic University-Pomona\",23596.0,49.0],[\"California State University-Chico\",15000.0,44.0],[\"California State University-Fresno\",18901.0,58.0],[\"California State University-Fullerton\",28820.0,48.0],[\"California State University-Long Beach\",28752.0,51.0],[\"California State University-Los Angeles\",19729.0,68.0],[\"California State University-Monterey Bay\",6055.0,47.0],[\"California State University-Northridge\",29320.0,58.0],[\"California State University-Sacramento\",24105.0,52.0],[\"California State University-San Bernardino\",16549.0,61.0],[\"California State University-San Marcos\",12155.0,47.0],[\"California University of Pennsylvania\",3979.0,40.0],[\"Calvary University\",216.0,34.0],[\"Calvin University\",3234.0,17.0],[\"Campbell University\",3257.0,34.0],[\"Capital University\",2400.0,29.0],[\"Capitol Technology University\",340.0,40.0],[\"Cardinal Stritch University\",721.0,33.0],[\"Carlow University\",1037.0,43.0],[\"Carnegie Mellon University\",6425.0,15.0],[\"Carolina University\",254.0,75.0],[\"Carroll College\",1140.0,21.0],[\"Carroll University\",2767.0,23.0],[\"Carson-Newman University\",1716.0,46.0],[\"Carthage College\",2548.0,27.0],[\"Case Western Reserve University\",5237.0,14.0],[\"Castleton University\",1694.0,37.0],[\"Cedarville University\",3438.0,19.0],[\"Centenary College of Louisiana\",541.0,36.0],[\"Centenary University\",1038.0,36.0],[\"Central Baptist College\",546.0,46.0],[\"Central Connecticut State University\",7253.0,38.0],[\"Central Michigan University\",12798.0,34.0],[\"Central State University\",1919.0,94.0],[\"Central Washington University\",9977.0,34.0],[\"Chaminade University of Honolulu\",1334.0,42.0],[\"Champlain College\",2447.0,22.0],[\"Chapman University\",7046.0,19.0],[\"Charleston Southern University\",2558.0,37.0],[\"Chicago State University\",1361.0,62.0],[\"Citadel Military College of South Carolina\",2688.0,21.0],[\"Claremont McKenna College\",1340.0,18.0],[\"Clarion University of Pennsylvania\",2992.0,39.0],[\"Clarke University\",645.0,35.0],[\"Clarkson University\",3012.0,23.0],[\"Cleary University\",339.0,32.0],[\"Clemson University\",19486.0,16.0],[\"Cleveland Institute of Art\",633.0,43.0],[\"Cleveland State University\",9097.0,40.0],[\"Coastal Carolina University\",8810.0,34.0],[\"Coker University\",920.0,55.0],[\"College of Charleston\",8762.0,22.0],[\"College of Coastal Georgia\",1997.0,40.0],[\"College of Our Lady of the Elms\",997.0,44.0],[\"College of Saint Benedict\",1731.0,23.0],[\"Colorado Mesa University\",6972.0,32.0],[\"Colorado School of Mines\",4930.0,15.0],[\"Colorado State University Pueblo\",2985.0,36.0],[\"Colorado State University-Fort Collins\",22247.0,23.0],[\"Columbia University in the City of New York\",7701.0,23.0],[\"Columbus State University\",4554.0,45.0],[\"Concord University\",1436.0,48.0],[\"Concordia College\",1129.0,43.0],[\"Concordia University Texas\",1440.0,39.0],[\"Converse University\",761.0,42.0],[\"Cooper Union for the Advancement of Science and Art\",854.0,26.0],[\"Coppin State University\",1804.0,60.0],[\"Corban University\",888.0,31.0],[\"Cornerstone University\",1020.0,36.0],[\"Cottey College\",254.0,47.0],[\"Creighton University\",4325.0,12.0],[\"Crown College\",604.0,28.0],[\"Culver-Stockton College\",882.0,39.0],[\"Cumberland University\",1827.0,34.0],[\"Curry College\",1969.0,28.0],[\"D'Youville College\",1179.0,31.0],[\"Dakota State University\",1503.0,22.0],[\"Dallas Christian College\",146.0,49.0],[\"Davis & Elkins College\",751.0,48.0],[\"Defiance College\",464.0,48.0],[\"Delaware State University\",3790.0,47.0],[\"Delta State University\",1981.0,34.0],[\"DePauw University\",1943.0,19.0],[\"DeSales University\",1963.0,26.0],[\"Dickinson State University\",922.0,26.0],[\"DigiPen Institute of Technology\",1027.0,25.0],[\"Dominican University\",2011.0,46.0],[\"Dominican University of California\",1239.0,26.0],[\"Drake University\",2830.0,19.0],[\"Drexel University\",13878.0,24.0],[\"Drury University\",1444.0,31.0],[\"Duquesne University\",5732.0,18.0],[\"East Carolina University\",19204.0,33.0],[\"East Central University\",2471.0,43.0],[\"East Stroudsburg University of Pennsylvania\",4939.0,41.0],[\"East Tennessee State University\",9228.0,39.0],[\"East Texas Baptist University\",1230.0,40.0],[\"Eastern Kentucky University\",9908.0,38.0],[\"Eastern Mennonite University\",828.0,31.0],[\"Eastern Michigan University\",10572.0,38.0],[\"Eastern New Mexico University-Main Campus\",2400.0,33.0],[\"Eastern Oregon University\",1639.0,40.0],[\"Eastern University\",1328.0,43.0],[\"Eastern Washington University\",9498.0,36.0],[\"Eckerd College\",1958.0,21.0],[\"Edgewood College\",1191.0,27.0],[\"Edinboro University of Pennsylvania\",2998.0,40.0],[\"Edward Waters University\",862.0,25.0],[\"Elizabeth City State University\",1516.0,66.0],[\"Elizabethtown College\",1503.0,21.0],[\"Elmhurst University\",2722.0,36.0],[\"Emerson College\",3827.0,16.0],[\"Emmanuel College\",829.0,39.0],[\"Emmaus Bible College\",186.0,45.0],[\"Emory & Henry College\",988.0,45.0],[\"Erskine College\",771.0,43.0],[\"Eureka College\",480.0,39.0],[\"Fairmont State University\",2955.0,39.0],[\"Faulkner University\",1484.0,50.0],[\"Fayetteville State University\",4071.0,54.0],[\"Felician University\",1640.0,53.0],[\"Ferris State University\",7779.0,35.0],[\"Finlandia University\",370.0,54.0],[\"Fisk University\",822.0,60.0],[\"Fitchburg State University\",3164.0,35.0],[\"Florida Agricultural and Mechanical University\",6802.0,60.0],[\"Florida Atlantic University\",16678.0,38.0],[\"Florida College\",521.0,29.0],[\"Florida Gulf Coast University\",11211.0,31.0],[\"Florida Institute of Technology\",3169.0,21.0],[\"Florida International University\",28335.0,48.0],[\"Florida Southern College\",2537.0,26.0],[\"Florida State University\",29879.0,26.0],[\"Fordham University\",9229.0,18.0],[\"Fort Lewis College\",2862.0,36.0],[\"Fort Valley State University\",2059.0,75.0],[\"Francis Marion University\",2900.0,47.0],[\"Franciscan University of Steubenville\",2063.0,23.0],[\"Freed-Hardeman University\",1306.0,25.0],[\"Fresno Pacific University\",2442.0,65.0],[\"Friends University\",860.0,35.0],[\"Frostburg State University\",3522.0,35.0],[\"Gallaudet University\",1005.0,56.0],[\"Gannon University\",2775.0,26.0],[\"Gardner-Webb University\",1632.0,45.0],[\"Geneva College\",1116.0,36.0],[\"George Fox University\",2428.0,28.0],[\"George Mason University\",21672.0,30.0],[\"George Washington University\",11102.0,14.0],[\"Georgetown University\",7029.0,13.0],[\"Georgia College & State University\",5364.0,19.0],[\"Georgia Institute of Technology-Main Campus\",14310.0,13.0],[\"Georgia Southern University\",19172.0,36.0],[\"Georgia Southwestern State University\",1648.0,38.0],[\"Georgia State University\",21958.0,49.0],[\"Georgian Court University\",1417.0,36.0],[\"Gonzaga University\",5123.0,12.0],[\"Gordon College\",1440.0,21.0],[\"Gordon State College\",2228.0,49.0],[\"Goshen College\",751.0,33.0],[\"Governors State University\",1918.0,54.0],[\"Graceland University-Lamoni\",898.0,49.0],[\"Grand Valley State University\",18810.0,29.0],[\"Grand View University\",1586.0,39.0],[\"Greensboro College\",704.0,44.0],[\"Greenville University\",838.0,42.0],[\"Hamline University\",2008.0,39.0],[\"Hanover College\",1065.0,30.0],[\"Hardin-Simmons University\",1615.0,38.0],[\"Harding University\",3533.0,23.0],[\"Hastings College\",958.0,32.0],[\"Heidelberg University\",1043.0,34.0],[\"Henderson State University\",2718.0,43.0],[\"Hendrix College\",1101.0,30.0],[\"Hiram College\",808.0,36.0],[\"Hofstra University\",6156.0,22.0],[\"Hollins University\",659.0,36.0],[\"Holy Cross College\",430.0,29.0],[\"Holy Family University\",1696.0,35.0],[\"Holy Names University\",591.0,47.0],[\"Hope College\",2957.0,18.0],[\"Hope International University\",539.0,54.0],[\"Houston Baptist University\",2067.0,49.0],[\"Howard Payne University\",738.0,37.0],[\"Howard University\",6269.0,44.0],[\"Huntingdon College\",830.0,41.0],[\"Huntington University\",864.0,32.0],[\"Husson University\",2404.0,42.0],[\"Huston-Tillotson University\",1026.0,71.0],[\"Illinois Institute of Technology\",2882.0,29.0],[\"Indiana Institute of Technology\",1429.0,39.0],[\"Indiana University of Pennsylvania-Main Campus\",7695.0,38.0],[\"Indiana University-Bloomington\",31981.0,18.0],[\"Indiana University-Purdue University-Indianapolis\",17630.0,35.0],[\"Indiana University-South Bend\",3481.0,41.0],[\"Indiana University-Southeast\",3099.0,36.0],[\"Indiana Wesleyan University-Marion\",2528.0,28.0],[\"Iowa State University\",26713.0,20.0],[\"Iowa Wesleyan University\",560.0,53.0],[\"Jackson State University\",4126.0,71.0],[\"Jacksonville State University\",5942.0,40.0],[\"Jacksonville University\",2391.0,31.0],[\"John Carroll University\",2925.0,20.0],[\"John Paul the Great Catholic University\",262.0,36.0],[\"Johnson C Smith University\",1359.0,74.0],[\"Johnson University\",601.0,43.0],[\"Johnson University Florida\",170.0,65.0],[\"Judson University\",944.0,42.0],[\"Kennesaw State University\",25745.0,34.0],[\"Kent State University at Kent\",18432.0,30.0],[\"Kentucky State University\",1156.0,45.0],[\"Kentucky Wesleyan College\",803.0,43.0],[\"Kettering University\",1720.0,20.0],[\"King University\",1483.0,48.0],[\"Kutztown University of Pennsylvania\",6458.0,33.0],[\"Kuyper College\",103.0,37.0],[\"La Sierra University\",1476.0,47.0],[\"LaGrange College\",847.0,42.0],[\"Lake Superior State University\",1542.0,31.0],[\"Lakeland University\",803.0,42.0],[\"Lamar University\",5243.0,41.0],[\"Lancaster Bible College\",994.0,38.0],[\"Lander University\",2941.0,43.0],[\"Lawrence Technological University\",1677.0,22.0],[\"Lawrence University\",1348.0,24.0],[\"Le Moyne College\",2392.0,30.0],[\"Lee University\",3677.0,30.0],[\"Lenoir-Rhyne University\",1589.0,37.0],[\"Lesley University\",1599.0,31.0],[\"LeTourneau University\",1347.0,21.0],[\"Lewis University\",3542.0,33.0],[\"Lewis-Clark State College\",2172.0,31.0],[\"Liberty University\",28487.0,42.0],[\"Life Pacific University\",400.0,54.0],[\"Life University\",729.0,39.0],[\"LIM College\",1276.0,37.0],[\"Limestone University\",1647.0,52.0],[\"Lincoln Memorial University\",1427.0,47.0],[\"Lincoln University\",1901.0,64.0],[\"Lindenwood University\",5000.0,31.0],[\"Linfield University-McMinnville Campus\",1383.0,27.0],[\"Lipscomb University\",2679.0,22.0],[\"Lock Haven University\",2480.0,38.0],[\"Long Island University\",5630.0,21.0],[\"Loras College\",1264.0,27.0],[\"Louisburg College\",546.0,76.0],[\"Louisiana College\",890.0,47.0],[\"Louisiana State University and Agricultural & Mechanical College\",22726.0,24.0],[\"Louisiana Tech University\",8131.0,23.0],[\"Lourdes University\",858.0,39.0],[\"Loyola Marymount University\",6548.0,15.0],[\"Loyola University Chicago\",11622.0,23.0],[\"Loyola University New Orleans\",2876.0,35.0],[\"Lubbock Christian University\",1201.0,32.0],[\"Madonna University\",1645.0,30.0],[\"Malone University\",923.0,36.0],[\"Manhattan College\",3365.0,28.0],[\"Manor College\",453.0,61.0],[\"Mansfield University of Pennsylvania\",1484.0,47.0],[\"Maranatha Baptist University\",509.0,34.0],[\"Marian University\",2039.0,24.0],[\"Marquette University\",8175.0,19.0],[\"Mars Hill University\",987.0,55.0],[\"Marshall University\",7123.0,38.0],[\"Martin Luther College\",705.0,27.0],[\"Maryland Institute College of Art\",1666.0,20.0],[\"Marymount Manhattan College\",1660.0,26.0],[\"Marymount University\",1951.0,28.0],[\"Marywood University\",1649.0,32.0],[\"McMurry University\",1020.0,50.0],[\"McNeese State University\",5407.0,31.0],[\"McPherson College\",753.0,36.0],[\"MCPHS University\",3843.0,25.0],[\"Mercer University\",4260.0,33.0],[\"Meredith College\",1464.0,32.0],[\"Methodist University\",1500.0,38.0],[\"Miami University-Oxford\",16682.0,11.0],[\"Michigan State University\",35722.0,22.0],[\"Michigan Technological University\",5383.0,22.0],[\"Mid-Atlantic Christian University\",168.0,53.0],[\"Middle Georgia State University\",4904.0,45.0],[\"Middle Tennessee State University\",15721.0,37.0],[\"Midway University\",888.0,45.0],[\"Midwestern Baptist Theological Seminary\",362.0,34.0],[\"Midwestern State University\",4084.0,40.0],[\"Milligan University\",767.0,26.0],[\"Millikin University\",1919.0,36.0],[\"Milwaukee School of Engineering\",2478.0,24.0],[\"Minnesota State University Moorhead\",3787.0,30.0],[\"Minot State University\",1921.0,22.0],[\"Misericordia University\",1584.0,26.0],[\"Mississippi College\",2516.0,30.0],[\"Mississippi University for Women\",2026.0,46.0],[\"Missouri Baptist University\",1526.0,16.0],[\"Missouri State University-Springfield\",14005.0,25.0],[\"Missouri University of Science and Technology\",5692.0,23.0],[\"Monmouth University\",4301.0,30.0],[\"Montana State University\",12359.0,22.0],[\"Montana Technological University\",1369.0,29.0],[\"Montreat College\",613.0,40.0],[\"Morehouse College\",2145.0,48.0],[\"Morgan State University\",5759.0,53.0],[\"Mount Saint Joseph University\",1008.0,27.0],[\"Mount Saint Mary College\",1596.0,30.0],[\"Mount St. Mary's University\",1762.0,24.0],[\"Mount Vernon Nazarene University\",1670.0,35.0],[\"Murray State University\",6190.0,31.0],[\"Muskingum University\",1365.0,41.0],[\"New Jersey Institute of Technology\",6878.0,37.0],[\"New Mexico Institute of Mining and Technology\",1178.0,33.0],[\"New Mexico State University-Main Campus\",9740.0,46.0],[\"New York Institute of Technology\",3357.0,39.0],[\"Newberry College\",1225.0,48.0],[\"Newman University\",944.0,14.0],[\"Niagara University\",2692.0,28.0],[\"Nicholls State University\",4975.0,38.0],[\"North Carolina A & T State University\",10013.0,56.0],[\"North Carolina Central University\",5012.0,60.0],[\"North Carolina State University at Raleigh\",22820.0,19.0],[\"North Carolina Wesleyan College\",1600.0,52.0],[\"North Central University\",967.0,37.0],[\"North Dakota State University-Main Campus\",9638.0,20.0],[\"North Greenville University\",1758.0,33.0],[\"North Park University\",1723.0,46.0],[\"Northeastern State University\",4341.0,45.0],[\"Northern Kentucky University\",8243.0,27.0],[\"Northern Michigan University\",6191.0,32.0],[\"Northern State University\",1265.0,15.0],[\"Northwest Missouri State University\",4954.0,31.0],[\"Northwest University\",923.0,34.0],[\"Northwestern State University of Louisiana\",6340.0,42.0],[\"Northwood University\",1544.0,26.0],[\"Notre Dame College\",1130.0,40.0],[\"Nova Southeastern University\",4619.0,41.0],[\"Oakland City University\",609.0,18.0],[\"Oakland University\",12454.0,31.0],[\"Oakwood University\",1366.0,54.0],[\"Oglethorpe University\",1328.0,37.0],[\"Ohio Dominican University\",920.0,40.0],[\"Ohio Northern University\",2095.0,23.0],[\"Ohio State University-Main Campus\",42776.0,20.0],[\"Ohio University-Main Campus\",16209.0,23.0],[\"Ohio Valley University\",271.0,60.0],[\"Oklahoma City University\",1510.0,23.0],[\"Oklahoma State University-Main Campus\",17291.0,28.0],[\"Oklahoma Wesleyan University\",546.0,39.0],[\"Old Dominion University\",14702.0,38.0],[\"Olivet Nazarene University\",2855.0,35.0],[\"Oral Roberts University\",2714.0,38.0],[\"Oregon Institute of Technology\",2370.0,23.0],[\"Oregon State University\",18554.0,23.0],[\"Oregon State University-Cascades Campus\",471.0,33.0],[\"Ottawa University-Ottawa\",645.0,44.0],[\"Otterbein University\",2332.0,27.0],[\"Ouachita Baptist University\",1506.0,26.0],[\"Our Lady of the Lake University\",1244.0,58.0],[\"Ozark Christian College\",559.0,41.0],[\"Pacific Lutheran University\",2627.0,32.0],[\"Pacific Union College\",822.0,43.0],[\"Paine College\",395.0,83.0],[\"Palm Beach Atlantic University\",2264.0,29.0],[\"Paul Quinn College\",525.0,79.0],[\"Pepperdine University\",3320.0,18.0],[\"Pfeiffer University\",837.0,51.0],[\"Piedmont University\",1155.0,43.0],[\"Point Loma Nazarene University\",2611.0,26.0],[\"Point Park University\",2626.0,41.0],[\"Point University\",1109.0,28.0],[\"Pomona College\",1617.0,21.0],[\"Portland State University\",13949.0,39.0],[\"Prairie View A & M University\",7501.0,63.0],[\"Pratt Institute-Main\",3570.0,17.0],[\"Presentation College\",359.0,35.0],[\"Providence College\",3891.0,14.0],[\"Purdue University Fort Wayne\",5370.0,26.0],[\"Purdue University Northwest\",5561.0,32.0],[\"Purdue University-Main Campus\",32606.0,15.0],[\"Queens University of Charlotte\",1570.0,26.0],[\"Quincy University\",934.0,32.0],[\"Ramapo College of New Jersey\",4870.0,26.0],[\"Randolph-Macon College\",1520.0,21.0],[\"Regent University\",2333.0,49.0],[\"Reinhardt University\",1262.0,40.0],[\"Rider University\",3465.0,32.0],[\"Roanoke College\",1942.0,26.0],[\"Robert Morris University\",3500.0,28.0],[\"Roberts Wesleyan College\",1176.0,34.0],[\"Rochester Institute of Technology\",12254.0,28.0],[\"Rochester University\",658.0,37.0],[\"Rocky Mountain College\",829.0,35.0],[\"Roosevelt University\",1965.0,50.0],[\"Rosemont College\",390.0,40.0],[\"Rowan University\",14055.0,32.0],[\"Rutgers University-Camden\",4767.0,44.0],[\"Rutgers University-New Brunswick\",34285.0,27.0],[\"Rutgers University-Newark\",7975.0,53.0],[\"Saginaw Valley State University\",6348.0,35.0],[\"Saint Anselm College\",2014.0,12.0],[\"Saint Cloud State University\",6977.0,25.0],[\"Saint Edward's University\",3199.0,38.0],[\"Saint Francis University\",1466.0,20.0],[\"Saint John Fisher College\",2535.0,27.0],[\"Saint Johns University\",1604.0,21.0],[\"Saint Louis University\",6691.0,17.0],[\"Saint Martin's University\",1257.0,37.0],[\"Saint Mary's University of Minnesota\",1132.0,30.0],[\"Saint Mary-of-the-Woods College\",629.0,52.0],[\"Saint Norbert College\",1962.0,18.0],[\"Saint Vincent College\",1491.0,29.0],[\"Salem College\",473.0,55.0],[\"Sam Houston State University\",15311.0,41.0],[\"Samford University\",3509.0,11.0],[\"San Diego Christian College\",380.0,46.0],[\"San Diego State University\",27638.0,33.0],[\"San Francisco State University\",21687.0,43.0],[\"San Jose State University\",23593.0,39.0],[\"Savannah College of Art and Design\",10260.0,20.0],[\"Savannah State University\",2972.0,70.0],[\"School of the Art Institute of Chicago\",2804.0,19.0],[\"Schreiner University\",1087.0,35.0],[\"Scripps College\",1082.0,11.0],[\"Seattle Pacific University\",2636.0,32.0],[\"Seattle University\",4410.0,19.0],[\"Seton Hall University\",5782.0,26.0],[\"Shenandoah University\",1989.0,23.0],[\"Shepherd University\",2354.0,31.0],[\"Shippensburg University of Pennsylvania\",4861.0,33.0],[\"Shorter University\",1112.0,39.0],[\"Sierra Nevada University\",331.0,32.0],[\"Simmons University\",1607.0,24.0],[\"Simpson College\",1161.0,36.0],[\"Skidmore College\",2622.0,16.0],[\"Slippery Rock University of Pennsylvania\",6968.0,31.0],[\"Sonoma State University\",7416.0,34.0],[\"South Dakota School of Mines and Technology\",1870.0,20.0],[\"South Dakota State University\",7971.0,20.0],[\"Southeastern University\",4974.0,29.0],[\"Southern Arkansas University Main Campus\",3003.0,46.0],[\"Southern Connecticut State University\",6801.0,41.0],[\"Southern Illinois University-Carbondale\",7150.0,36.0],[\"Southern Illinois University-Edwardsville\",8615.0,33.0],[\"Southern Methodist University\",6519.0,11.0],[\"Southern Oregon University\",3184.0,27.0],[\"Southern University and A & M College\",4875.0,64.0],[\"Southern Utah University\",7097.0,28.0],[\"Southern Virginia University\",1015.0,49.0],[\"Southwest Baptist University\",1701.0,38.0],[\"Southwestern Adventist University\",537.0,48.0],[\"Southwestern Assemblies of God University\",1392.0,54.0],[\"Southwestern Christian University\",438.0,44.0],[\"Southwestern College\",678.0,40.0],[\"Southwestern University\",1495.0,23.0],[\"Spelman College\",2080.0,43.0],[\"Spring Arbor University\",1134.0,33.0],[\"Spring Hill College\",1143.0,37.0],[\"St Catherine University\",2004.0,38.0],[\"St. John's University-New York\",11525.0,24.0],[\"St. Mary's College of Maryland\",1411.0,21.0],[\"St. Mary's University\",2162.0,43.0],[\"St. Thomas University\",1246.0,24.0],[\"State University of New York at New Paltz\",6291.0,36.0],[\"Stephen F Austin State University\",9213.0,37.0],[\"Stephens College\",411.0,50.0],[\"Sterling College\",527.0,39.0],[\"Stevenson University\",2724.0,28.0],[\"Stockton University\",8459.0,40.0],[\"Stony Brook University\",16697.0,35.0],[\"SUNY at Purchase College\",3709.0,37.0],[\"SUNY Brockport\",5960.0,41.0],[\"SUNY College at Plattsburgh\",4420.0,40.0],[\"SUNY College of Environmental Science and Forestry\",1747.0,27.0],[\"SUNY College of Technology at Alfred\",3482.0,49.0],[\"SUNY College of Technology at Canton\",2784.0,54.0],[\"SUNY Cortland\",6170.0,31.0],[\"SUNY Morrisville\",2283.0,56.0],[\"SUNY Oneonta\",5942.0,34.0],[\"SUNY Polytechnic Institute\",1903.0,41.0],[\"Syracuse University\",14727.0,16.0],[\"Tarleton State University\",8211.0,39.0],[\"Taylor University\",1799.0,17.0],[\"Tennessee Technological University\",8004.0,34.0],[\"Tennessee Wesleyan University\",966.0,45.0],[\"Texas A & M International University\",5574.0,66.0],[\"Texas A & M University-College Station\",47667.0,21.0],[\"Texas A & M University-Commerce\",6177.0,43.0],[\"Texas A & M University-Corpus Christi\",7201.0,40.0],[\"Texas A & M University-Kingsville\",4670.0,46.0],[\"Texas A&M University-San Antonio\",3316.0,53.0],[\"Texas A&M University-Texarkana\",1248.0,51.0],[\"Texas Christian University\",9219.0,14.0],[\"Texas Lutheran University\",1380.0,38.0],[\"Texas Southern University\",6032.0,69.0],[\"Texas State University\",27923.0,36.0],[\"Texas Tech University\",28062.0,25.0],[\"Texas Wesleyan University\",1327.0,51.0],[\"Texas Woman's University\",7040.0,39.0],[\"The Baptist College of Florida\",226.0,37.0],[\"The King's College\",523.0,24.0],[\"The New School\",6697.0,17.0],[\"The University of Alabama\",29135.0,17.0],[\"The University of Findlay\",2189.0,17.0],[\"The University of Montana\",6163.0,34.0],[\"The University of Montana-Western\",1126.0,38.0],[\"The University of Tampa\",8441.0,20.0],[\"The University of Tennessee-Chattanooga\",9224.0,33.0],[\"The University of Tennessee-Knoxville\",22018.0,25.0],[\"The University of Texas at Arlington\",19441.0,35.0],[\"The University of Texas at Austin\",37515.0,22.0],[\"The University of Texas at Dallas\",17943.0,32.0],[\"The University of Texas at San Antonio\",22414.0,45.0],[\"The University of Texas at Tyler\",4764.0,35.0],[\"The University of Texas Permian Basin\",1862.0,29.0],[\"The University of Texas Rio Grande Valley\",19922.0,64.0],[\"The University of West Florida\",6612.0,35.0],[\"Thomas More University\",1295.0,26.0],[\"Toccoa Falls College\",911.0,29.0],[\"Towson University\",17209.0,31.0],[\"Trevecca Nazarene University\",1913.0,34.0],[\"Trinity Baptist College\",271.0,53.0],[\"Trinity Bible College and Graduate School\",147.0,54.0],[\"Trinity Christian College\",837.0,33.0],[\"Trinity College of Florida\",182.0,64.0],[\"Trinity International University-Illinois\",492.0,28.0],[\"Troy University\",8741.0,41.0],[\"Truett McConnell University\",852.0,10.0],[\"Truman State University\",4269.0,19.0],[\"Tusculum University\",1263.0,46.0],[\"Tuskegee University\",2254.0,57.0],[\"Union University\",1796.0,31.0],[\"University at Buffalo\",20401.0,33.0],[\"University of Akron Main Campus\",11641.0,29.0],[\"University of Alabama at Birmingham\",10315.0,34.0],[\"University of Alabama in Huntsville\",6749.0,24.0],[\"University of Alaska Fairbanks\",2596.0,23.0],[\"University of Arkansas\",20559.0,19.0],[\"University of Arkansas at Pine Bluff\",2161.0,70.0],[\"University of California-Berkeley\",29991.0,26.0],[\"University of California-Davis\",30171.0,36.0],[\"University of California-Irvine\",29797.0,39.0],[\"University of California-Los Angeles\",30969.0,31.0],[\"University of California-Merced\",8080.0,64.0],[\"University of California-Riverside\",21652.0,51.0],[\"University of California-San Diego\",29966.0,35.0],[\"University of California-Santa Barbara\",22846.0,33.0],[\"University of California-Santa Cruz\",16994.0,32.0],[\"University of Central Arkansas\",7634.0,38.0],[\"University of Central Florida\",42468.0,36.0],[\"University of Charleston\",1172.0,36.0],[\"University of Cincinnati-Main Campus\",23712.0,20.0],[\"University of Colorado Boulder\",28877.0,15.0],[\"University of Colorado Colorado Springs\",8168.0,30.0],[\"University of Colorado Denver/Anschutz Medical Campus\",8857.0,26.0],[\"University of Connecticut\",18229.0,22.0],[\"University of Connecticut-Stamford\",1846.0,44.0],[\"University of Dayton\",8046.0,13.0],[\"University of Delaware\",18378.0,15.0],[\"University of Denver\",5478.0,16.0],[\"University of Detroit Mercy\",2350.0,31.0],[\"University of Dubuque\",1554.0,48.0],[\"University of Florida\",32157.0,24.0],[\"University of Georgia\",28175.0,20.0],[\"University of Hawaii at Hilo\",2204.0,45.0],[\"University of Hawaii at Manoa\",10560.0,28.0],[\"University of Houston\",28368.0,41.0],[\"University of Houston-Clear Lake\",3358.0,42.0],[\"University of Idaho\",6749.0,27.0],[\"University of Illinois Chicago\",20195.0,51.0],[\"University of Illinois Springfield\",1853.0,36.0],[\"University of Illinois Urbana-Champaign\",32854.0,24.0],[\"University of Indianapolis\",4066.0,39.0],[\"University of Iowa\",21212.0,19.0],[\"University of Kentucky\",20622.0,22.0],[\"University of La Verne\",3353.0,47.0],[\"University of Louisiana at Lafayette\",11929.0,35.0],[\"University of Louisville\",11560.0,29.0],[\"University of Maine\",8060.0,26.0],[\"University of Maine at Fort Kent\",552.0,21.0],[\"University of Mary\",1869.0,19.0],[\"University of Mary Hardin-Baylor\",3113.0,39.0],[\"University of Mary Washington\",3694.0,19.0],[\"University of Maryland Eastern Shore\",2095.0,52.0],[\"University of Maryland-Baltimore County\",9436.0,29.0],[\"University of Maryland-College Park\",28390.0,18.0],[\"University of Massachusetts-Amherst\",22491.0,22.0],[\"University of Massachusetts-Dartmouth\",5465.0,40.0],[\"University of Massachusetts-Lowell\",10862.0,28.0],[\"University of Memphis\",12066.0,43.0],[\"University of Miami\",10701.0,15.0],[\"University of Michigan-Ann Arbor\",30204.0,18.0],[\"University of Michigan-Flint\",3633.0,37.0],[\"University of Minnesota-Duluth\",8535.0,21.0],[\"University of Minnesota-Morris\",1368.0,31.0],[\"University of Minnesota-Rochester\",536.0,35.0],[\"University of Minnesota-Twin Cities\",29939.0,18.0],[\"University of Mississippi\",15902.0,24.0],[\"University of Missouri-Columbia\",20676.0,21.0],[\"University of Missouri-Kansas City\",6487.0,24.0],[\"University of Missouri-St Louis\",5098.0,21.0],[\"University of Mobile\",1106.0,30.0],[\"University of Mount Olive\",1494.0,47.0],[\"University of Mount Union\",1994.0,31.0],[\"University of Nebraska at Kearney\",3827.0,36.0],[\"University of Nebraska-Lincoln\",19132.0,22.0],[\"University of Nevada-Las Vegas\",19523.0,37.0],[\"University of Nevada-Reno\",14788.0,26.0],[\"University of New England\",2425.0,12.0],[\"University of New Hampshire-Main Campus\",11960.0,21.0],[\"University of New Haven\",4625.0,28.0],[\"University of New Mexico-Main Campus\",12705.0,36.0],[\"University of New Orleans\",4905.0,39.0],[\"University of North Alabama\",4901.0,35.0],[\"University of North Carolina at Asheville\",3036.0,35.0],[\"University of North Carolina at Chapel Hill\",18528.0,23.0],[\"University of North Carolina at Charlotte\",20877.0,36.0],[\"University of North Carolina at Greensboro\",14007.0,48.0],[\"University of North Carolina at Pembroke\",5109.0,53.0],[\"University of North Carolina School of the Arts\",901.0,28.0],[\"University of North Carolina Wilmington\",12480.0,27.0],[\"University of North Dakota\",7628.0,18.0],[\"University of North Florida\",10757.0,30.0],[\"University of North Georgia\",13103.0,30.0],[\"University of North Texas\",26055.0,36.0],[\"University of Northern Colorado\",7752.0,27.0],[\"University of Northern Iowa\",8228.0,26.0],[\"University of Northwestern-St Paul\",2073.0,17.0],[\"University of Oklahoma-Norman Campus\",18996.0,23.0],[\"University of Oregon\",17419.0,25.0],[\"University of Pennsylvania\",10448.0,13.0],[\"University of Pittsburgh-Bradford\",1259.0,46.0],[\"University of Pittsburgh-Greensburg\",1359.0,36.0],[\"University of Pittsburgh-Johnstown\",2404.0,31.0],[\"University of Pittsburgh-Pittsburgh Campus\",18392.0,13.0],[\"University of Portland\",3743.0,15.0],[\"University of Redlands\",2597.0,31.0],[\"University of Rhode Island\",12596.0,19.0],[\"University of Saint Francis-Fort Wayne\",1497.0,43.0],[\"University of Saint Mary\",713.0,42.0],[\"University of San Diego\",5761.0,17.0],[\"University of San Francisco\",6296.0,28.0],[\"University of Science and Arts of Oklahoma\",727.0,46.0],[\"University of Sioux Falls\",1206.0,27.0],[\"University of South Alabama\",8065.0,39.0],[\"University of South Carolina Aiken\",2585.0,39.0],[\"University of South Carolina Beaufort\",1775.0,42.0],[\"University of South Carolina-Columbia\",26400.0,19.0],[\"University of South Carolina-Upstate\",4637.0,45.0],[\"University of South Dakota\",4899.0,23.0],[\"University of South Florida\",25457.0,34.0],[\"University of Southern California\",19622.0,20.0],[\"University of Southern Indiana\",6133.0,25.0],[\"University of Southern Maine\",4062.0,31.0],[\"University of St Thomas\",6137.0,18.0],[\"University of St Thomas\",1693.0,40.0],[\"University of the Incarnate Word\",4093.0,40.0],[\"University of the Pacific\",3536.0,37.0],[\"University of the Sciences\",1353.0,28.0],[\"University of Toledo\",12548.0,29.0],[\"University of Tulsa\",3171.0,22.0],[\"University of Utah\",18628.0,24.0],[\"University of Vermont\",10501.0,14.0],[\"University of Virginia's College at Wise\",1106.0,38.0],[\"University of Virginia-Main Campus\",16267.0,14.0],[\"University of Washington-Bothell Campus\",4631.0,32.0],[\"University of Washington-Seattle Campus\",29332.0,20.0],[\"University of Washington-Tacoma Campus\",4066.0,43.0],[\"University of West Alabama\",1883.0,53.0],[\"University of West Georgia\",8090.0,45.0],[\"University of Wisconsin-Madison\",30157.0,14.0],[\"University of Wyoming\",8332.0,23.0],[\"Upper Iowa University\",1856.0,38.0],[\"Ursuline College\",491.0,40.0],[\"Utah State University\",17063.0,32.0],[\"Valdosta State University\",6797.0,51.0],[\"Valley City State University\",904.0,20.0],[\"Valparaiso University\",2940.0,27.0],[\"Vanderbilt University\",6833.0,16.0],[\"Villanova University\",6528.0,10.0],[\"Virginia Commonwealth University\",19825.0,29.0],[\"Virginia Polytechnic Institute and State University\",28584.0,14.0],[\"Virginia State University\",3903.0,71.0],[\"Virginia Union University\",1019.0,69.0],[\"Viterbo University\",1433.0,27.0],[\"Waldorf University\",1619.0,34.0],[\"Walsh University\",1628.0,29.0],[\"Wartburg College\",1462.0,23.0],[\"Washington Adventist University\",723.0,46.0],[\"Washington State University\",23092.0,29.0],[\"Washington University in St Louis\",7139.0,13.0],[\"Wayland Baptist University\",869.0,38.0],[\"Wayne State University\",13107.0,43.0],[\"Waynesburg University\",1239.0,32.0],[\"Webber International University\",642.0,56.0],[\"Webster University\",2170.0,30.0],[\"Wentworth Institute of Technology\",3904.0,23.0],[\"Wesleyan College\",476.0,36.0],[\"West Chester University of Pennsylvania\",13044.0,25.0],[\"West Texas A & M University\",5582.0,64.0],[\"West Virginia State University\",1585.0,21.0],[\"West Virginia University\",19369.0,23.0],[\"West Virginia University Institute of Technology\",1148.0,28.0],[\"West Virginia Wesleyan College\",1118.0,36.0],[\"Western Carolina University\",8934.0,36.0],[\"Western Colorado University\",1755.0,17.0],[\"Western Kentucky University\",11815.0,29.0],[\"Western Michigan University\",14558.0,30.0],[\"Western Washington University\",13887.0,23.0],[\"Westminster College\",1649.0,29.0],[\"Westmont College\",1312.0,20.0],[\"Wheaton College\",2328.0,20.0],[\"Wheeling University\",423.0,34.0],[\"Whitworth University\",2360.0,31.0],[\"Wichita State University\",8994.0,32.0],[\"Widener University\",2784.0,21.0],[\"Wilberforce University\",497.0,85.0],[\"Wilkes University\",2110.0,33.0],[\"William & Mary\",6190.0,12.0],[\"William Carey University\",1901.0,39.0],[\"William Jessup University\",1078.0,38.0],[\"William Jewell College\",724.0,26.0],[\"William Peace University\",802.0,47.0],[\"Wilson College\",689.0,30.0],[\"Wingate University\",2706.0,41.0],[\"Winona State University\",6125.0,26.0],[\"Winston-Salem State University\",4067.0,65.0],[\"Wisconsin Lutheran College\",915.0,28.0],[\"Woodbury University\",1061.0,48.0],[\"Wright State University-Lake Campus\",868.0,18.0],[\"Wright State University-Main Campus\",7226.0,33.0],[\"Xavier University\",4834.0,13.0],[\"Xavier University of Louisiana\",2424.0,51.0],[\"Yeshiva University\",2643.0,15.0],[\"York College of Pennsylvania\",3687.0,25.0],[\"Young Harris College\",914.0,23.0],[\"Youngstown State University\",8715.0,38.0]],\"hovertemplate\":\"pca0=%{x}<br>pca1=%{y}<br>Name=%{customdata[0]}<br>Full-time undergraduate enrollment=%{customdata[1]}<br>Percent of students awarded Pell grants=%{customdata[2]}<br>color=%{marker.color}<extra></extra>\",\"legendgroup\":\"\",\"marker\":{\"color\":[2,0,0,2,2,0,0,0,0,2,2,0,0,0,2,0,0,1,2,2,0,1,0,0,0,1,0,2,0,2,0,0,2,0,0,2,0,0,2,2,2,0,2,2,2,2,0,2,0,2,0,0,0,0,0,0,0,0,1,0,2,0,0,0,0,1,2,1,0,2,2,0,2,0,1,0,1,1,1,1,1,1,0,1,1,1,1,0,0,2,0,2,0,2,0,2,0,2,2,0,2,2,0,0,2,0,0,0,0,0,0,2,2,2,0,0,0,2,0,0,2,0,1,2,0,0,0,0,0,0,2,0,2,0,1,2,0,0,2,0,0,2,0,2,0,0,2,0,0,0,2,0,0,0,0,0,0,0,2,0,0,2,0,2,2,2,2,2,1,0,0,0,0,0,2,0,0,0,0,0,2,0,0,0,0,0,2,2,0,0,0,0,0,0,0,0,0,0,0,0,0,0,1,0,0,2,1,2,1,2,0,0,0,0,0,0,0,0,0,2,0,0,2,1,2,2,0,2,1,0,1,0,2,2,0,2,0,0,1,0,0,0,2,2,0,0,2,0,0,2,0,2,2,2,0,2,2,2,0,0,0,0,0,0,0,2,0,0,1,1,0,0,0,1,0,0,0,2,2,0,0,0,0,0,1,1,0,0,2,0,0,0,2,0,0,0,0,0,0,2,2,2,0,2,0,2,0,0,1,0,0,2,0,0,0,0,2,2,0,2,0,0,0,1,0,0,2,2,2,0,0,0,2,0,0,0,2,2,0,0,0,2,2,2,0,0,0,0,2,2,2,2,1,1,0,0,0,1,0,0,0,2,0,2,0,0,0,0,0,0,1,0,2,1,0,0,0,0,0,0,2,0,0,0,2,0,0,2,0,2,2,0,0,0,1,0,0,0,0,0,0,0,0,0,0,2,0,0,0,2,2,0,0,2,0,2,1,1,0,2,1,0,1,0,0,0,1,0,0,0,0,0,0,2,2,0,2,0,2,0,0,2,0,0,2,1,0,2,0,2,0,0,1,2,0,0,2,0,0,2,2,2,0,2,0,0,0,0,1,0,1,2,0,2,0,2,2,0,2,2,2,2,0,2,2,0,1,2,0,1,1,1,2,0,2,0,2,2,2,2,0,0,0,0,0,2,2,2,0,0,0,0,0,0,0,0,0,2,0,0,0,0,0,0,0,0,0,2,0,0,2,2,2,0,0,2,0,0,0,0,0,0,1,0,0,0,0,0,0,0,0,0,0,2,0,2,0,0,0,1,0,0,0,0,0,2,0,0,1,1,0,0,0,2,2,1,2,0,0,2,0,1,1,1,1,1,0,0,1,0,0,0,1,0,0,0,0,0,2,0,0,0,0,0,0,1,0,0,0,0,1,0,1,1,1,1,2,1,1,1,1,0,1,2,1,1,0,1,1,0,2,1,2,0,0,1,1,2,2,1,0,0,1,0,1,0,1,1,2,0,0,0,0,0,0,0,0,2,1,1,0,1,1,2,1,0,0,0,0,1,1,1,0,0,0,0,0,0,1,1,1,2,0,2,1,0,0,0,1,1,1,0,0,0,0,1,1,1,0,0,2,1,1,2,0,0,0,1,2,2,1,0,0,2,2,0,0,0,0,0,1,0,0,1,2,0,0,2,2,0,2,2,0,2,1,2,0,1,2,1,2,0,0,1,0,0,0,1,0,0,2,2,2,1,1,0,0,0,0,2,2,0,1,2,0,1,0,0,0,2,0,0,0,0,1,0,0,0,0,0,1,1,2,2,2,0,2,0,2,0,2,2,0,2,0,0,0,2,0,0,0,2,0,0,2,0,2,0,2,0],\"coloraxis\":\"coloraxis\",\"symbol\":\"circle\"},\"mode\":\"markers\",\"name\":\"\",\"orientation\":\"v\",\"showlegend\":false,\"x\":[-0.32624328501978284,-0.2201877247893929,-0.4327471079946458,0.05131718909725039,-0.8801608031528353,-0.5705445790436643,-0.2451403823623899,-0.6659347730707436,-0.7013362382980319,-0.7497806358890093,0.40529368066189764,-0.7830864136809155,-0.6366960528360356,-1.0109483126590042,-0.16188280150524006,0.3080794668798342,-0.6179286175586565,1.0422819067863056,-0.6816284961728792,-0.510198173118105,-0.7488461928541364,3.8667249341375154,0.019558389948647673,-1.1464740673464073,-0.4040219582602286,1.568229787426136,-0.2464516915971681,-0.6262096735701749,-0.055912603734593766,-0.7880983825641678,-0.39817867812175406,0.27517192125593026,-0.14097617061161843,-1.0848555930465593,-0.6561958434925909,0.12914887218526463,-0.23140800473013975,-0.8183862981362735,0.9306691329043182,-0.8928596611835244,-0.6354100438765571,-0.7647694236888609,0.025740459444116466,-0.39124773273987506,0.031649649944462815,-0.6754703743732478,-0.6926913988521564,-0.5957686252373582,-0.5379361483852955,-0.057801478945043665,-0.28093590848337985,-1.027220080878387,-0.8764989071822448,0.03893704409001212,-0.7512846548318299,-0.8473639862039448,-0.9384933796753577,-0.7201886174277524,1.1412661757196338,-0.7609456452757621,1.6586933284675225,0.7139416238117606,-0.23935041625724277,-0.8586185597097352,-0.8230996208543664,1.963875769449601,0.30247964727991816,2.69019006894525,-0.9091592506683943,-0.7553638931099678,-0.10388097629170422,-0.7035419166777807,-0.5863886903039083,0.1166398913923662,2.017368431337408,0.25579670131501997,2.4294517894429157,1.2261168253225991,1.7128884029766842,3.0034247821516,3.1969502774810983,2.027313791950536,0.38835022161665994,2.557277229145434,2.3729842304392728,1.3684713905747945,1.0898965821599733,-0.3742828769358685,-0.6151449154487996,-0.31321171242906787,-0.29423902752600817,-0.7048457958449248,-0.7650674957366771,-0.6582477412417973,-0.9411115810029663,0.9714848144864314,-0.980183886304587,-0.8166289379368074,-0.584891930580721,-0.6882243112427071,-0.7708656677985233,0.5757083983430802,-0.6645573664408677,-0.39162487394386725,-0.8952725855282977,-0.7972359397487159,-0.8371839941136427,0.23753599512820725,0.4839843966975314,-0.7604161199697211,0.5925418843034334,0.12264854120986098,-0.5055746177396292,0.304308324474252,-0.6109873877663177,-0.9463660558308772,-0.2633320764255711,0.001577733954518101,-0.5856983367082327,-1.095450963416476,-0.5212322923567602,-1.0787177072776337,1.2249282000248962,-1.0263888566874844,0.48755682649516124,0.3058828831456704,-0.6856728619944957,0.3584489900402764,-0.26087801854518383,-1.006816313686522,-0.7936331995267322,0.3427053883139937,0.1377127071760458,-0.2107370111854546,1.872973967225333,0.8484186512784655,-0.2012415159148105,-0.6092861968292361,-0.5406618600496502,-0.6214317849350065,-0.5012674667311159,-0.09275037858320104,-0.6231530812227231,-0.8070260703303176,-0.8052674122703344,-0.8553612492998367,-0.15019575115982547,-0.4848024759332393,-0.7727401110258995,-0.6182925203115863,-0.6085249519712578,-0.6637647343657697,-0.33211865201127244,-0.8298793652006479,-1.100158745060037,-0.9693282562747012,-0.2623401690707396,-0.4526483630649932,-0.55925651743483,-0.6366353974158251,-0.5121929563529759,-0.22716152216208638,-0.5150405087771651,-0.13618852696914371,-0.42243723540016903,1.3718270176371268,-0.6982617638739559,-0.28089740300283916,1.3983312953344524,-0.32933322933634546,-0.17445884515649043,0.2966201739219755,-0.6857760283125199,0.4071939868086281,-0.7528229811895981,0.5728190872549315,-0.13313374807010814,-0.38041275301581096,-0.8918284617684668,0.34310711981148995,-0.6694402193401313,-0.7224798599714751,-0.597807940515997,-0.1663286260054121,-0.6183607548341515,-0.7398787982092826,-0.5045298329786878,-0.14555614047282794,-0.6807687037384407,-0.7190232017146075,-0.876289402191415,-1.0224637479363214,-0.9470842005179361,-0.3986081950885676,-0.7855987138206596,-0.22825020022199863,-0.675016698290367,0.3045365228377788,-0.9742327046298038,-0.853952649900645,-0.35269884122713663,-0.068420719180298,1.6188957344118995,-0.7988265252143709,0.7599922284100052,0.0049214834919110275,2.707414147545928,-0.5591840036110427,2.5892791929047774,0.9861878494498206,-0.3670069565359635,-0.8124817831933032,-0.44869576601518507,-0.6316215564449515,-0.7496456968346077,-0.7017524390175199,-0.7423609547567762,-0.17376615830346037,-0.5209513821486068,-0.4543208970083209,-0.7692179381089631,-0.8704981627092846,-0.5721975644417633,1.9295993883620732,0.8787096383980596,0.5908922724053757,-0.12214788329042801,1.510567141558634,1.1919807174894697,-0.40542697286269264,1.9034399043805457,-0.7275207789651721,-0.1062238022132121,-0.5827653497162782,-0.3833165300632752,-0.8074409176055803,-0.5453170536803437,-0.8201490983401535,1.1267626320774566,-0.7149112782459563,-0.7635263886164398,-0.7481941648331918,-0.5394110829796062,-0.8627821797392351,-0.6085952624673785,-0.41480059882108944,-0.9349670740963693,-0.8422326539321867,-0.3683439467759817,-0.8814321909471995,-0.7783835844043367,0.4196221515112856,-0.9088948560786553,-0.5572881681526417,-0.740173168717279,-0.7608425719615853,-0.5138581122950066,-0.7800101499994632,-0.2466584569493773,-0.7277188044513564,-0.0714758677975315,-0.8377197377310126,-0.6514056524923737,-0.6862304236999701,-0.9428595698803304,-0.009733721821033976,-0.6069165509579476,0.187968683168251,2.8550537121593953,1.379934581692024,-0.13756313861243338,-0.18470720382890826,-0.5889439320371104,1.7051790204289974,-0.7079974776272335,-0.4785369264991348,-0.09088988847337061,-0.48675851049121227,-0.5945296689951457,-0.9094614999870724,-1.0022962587838327,-0.8890962796073225,-0.919376782741079,-0.6798404592511693,2.111957685425409,1.1446503859426098,-0.5091581865008283,-1.021607730190563,-0.5335227533471995,-0.920658890957609,-0.11347091730963202,-0.878069920608897,-0.1447409104108853,-1.0413131700106282,-0.6163754689759627,-0.7755421031986596,0.3301129832019995,-0.7136874327051772,-0.48857764865816117,-0.43867110542574883,-0.43699369798066556,-0.5693371142163499,-0.47258908288538914,-0.6099018167716529,-0.5562024151251175,-0.4846926087793382,-0.2706997041718665,-0.3114958036081232,2.782428739762614,-0.7907712981707691,-0.626095214987082,-0.6818691464002772,-0.948043266977317,-0.961851636243797,-0.8008460244411958,-0.4060364449516226,-0.6782852051495962,-0.5438668262505666,-0.5914701011299942,0.41546563771682277,-0.7946321316291337,-1.1400629731387681,-0.7320780615378378,1.7828742272612064,0.2371758284668664,-0.7744564495358562,0.37571746330834377,0.793492912651623,-0.47362587921433635,-0.8038018681828594,-0.5274090688946471,-0.8550809491971817,-0.3314411537283081,-0.8497021757557275,-0.7507890022919136,-0.6103248590243892,-0.6114766513531146,0.35847837676697997,-0.8965633298833513,0.15226969207885485,-0.7667158727405002,-0.22797918818878665,-0.5173415527510034,-0.30789397864036594,-0.8413589936020631,-0.7714077542061772,-0.07427738477958985,-0.986388217540318,-0.12126822120729802,-0.29459198298393685,-0.7835352297255652,-0.7027858152427992,1.3558669879358838,3.119387890827419,-0.12111098253430769,-0.8967723751955782,0.027445735134012262,0.9496314472917863,-0.8593354875848899,-0.29726568444640383,-0.08460860211758711,-0.7400057364140418,-0.7033438849415732,-0.5837633106409602,-0.30833641902174846,-0.35108425891608125,-0.8463786567870005,-0.5558329347306412,-0.6777637899456651,-0.367590813354035,0.8226369728067727,-0.09537676932548957,-0.33359872009426955,1.2034002344127361,-0.5070399303547497,-0.8871210918790253,-0.7343852501639295,-0.14077947232966773,-0.7116953532881025,-0.7542416863657915,-0.6136116349448806,-0.811997147542629,-0.05970828981433255,-0.7170680174165263,0.7145850453163314,-0.36129755079973536,0.627815307725456,0.30546892235967527,-0.8340926712331896,-0.22284090589171476,-0.5725515556646594,-0.23272355661622832,0.35695321616141834,-0.260331917470558,1.7925399590289346,-0.8029775246539821,-0.6791245275647749,0.30466809411124923,-0.7090506735986313,-0.5571746316564603,-0.14307028314142958,0.30572823189742326,-0.045597856443753804,-0.21632495295095447,-0.17088734471554617,-0.6675641789982969,0.05921779950584247,-0.6506269171350673,-0.7994249141690253,0.3061042423303414,-0.39981707434093755,0.6546876802245389,-0.7478860953590085,-0.7278492824283455,-0.8229305899568213,-0.671884400851062,3.059854178527022,1.1829029151959527,-1.0797908751575478,-0.5637600490820246,1.509776094088889,-0.7521077045228205,1.0458721655577807,-0.6633900743537164,-0.549419401758983,0.009446652061874016,1.6046747329581643,-0.45335995484328045,-1.0667824571445592,-0.6571139696150348,-0.5964815320921065,-0.5764488513591429,-0.7564698500809054,-0.5169320180418396,-0.4140300034269008,-1.1302999026031781,-0.49898979916151787,-1.0741411696192997,-0.04851696288626022,-0.9402063768485428,-0.8769490881574783,-0.3827907968309901,-0.6823959834988864,-0.5447914930400783,0.18854135558821067,0.8943562137981449,-0.0819364105529281,0.196535154847326,-0.9041154054402321,-0.3938398222988902,0.3930444613278031,0.20713542847880995,3.103031692945996,-0.6797047593118681,-0.8286025363593591,0.13088718795394472,-0.7823024364165374,-0.3061261681812711,-0.740418060593572,-0.45207475122864876,-0.722796245497774,-0.48370552458457267,-0.761338974592077,0.7511553308242305,-0.7845485063824502,-0.7900366400822086,-0.5110233310075831,-0.9405828751831005,0.8017350447050586,0.005065399655950371,3.2300904318517665,0.750101518746109,-0.04982924081790469,-0.8333361319187409,0.32365975115842605,-0.3653053461946823,-0.6147390478921828,-0.6588778702116067,-0.6221531065455117,0.30027054638872736,-0.37037874865811915,-0.6501706380297408,-0.927176844773979,-0.7127496424329233,-0.8226614640387362,-1.1015164052621813,0.9071672322431383,-0.41770742415274087,-0.8772797806223037,2.858954727859401,2.5082887443128743,2.7297831254351332,0.6469191254774683,-0.5522787715651091,-0.040987658504444774,-0.7074685053962546,-0.14945451638954332,-0.29175753398095783,0.17683890464380972,0.3636083575393588,-0.7547021971211123,-0.37357950522901,-0.23453059424779193,-0.6718230470484122,-0.92975013170946,-0.4917358714360197,-0.8496906840335228,-0.14550959307365052,-0.1211858369746325,0.5590998150667791,-0.28411423964925203,0.24536265175836958,0.02573173993035427,-0.5393683473243789,-0.031592828563169376,0.04931383870899688,0.28461146467597603,0.3097410610938072,-0.12793072706446817,-0.23730958848484102,0.47807214474822307,-0.6946744725856937,-0.7062407607095783,-0.571271352663137,-0.7326441749644547,-0.8984314333228118,-0.6771440358934965,-0.5979853018485451,-0.7767239800008738,-0.8487801016330662,-0.9812726621100207,-0.5375980426760137,1.2774334219662258,-0.5530649525458343,-0.394236520173645,-0.11050822366364353,0.17021043638242853,0.45592446750620647,-1.1017993345925354,-0.7852133967071616,-0.4981997977166089,0.1148740913298231,1.9398741377152664,-0.2175423932889727,-0.15292269760063587,-0.1540550687360724,-0.4654332990423619,-0.36331944944220707,-0.5328161289916414,0.005612963604930778,-0.5286045197074356,0.03513011061333499,-0.301481424286025,1.1765496980368042,0.4046284088552553,-0.5052735239638184,0.20147417090041686,-0.7823914996322042,0.34994339797516694,4.183041564541837,0.1760597557946211,0.5649809392145918,0.2088252585884298,-0.012406702102880387,-0.6003092331921402,0.4029039216090765,-0.641531184193703,-0.07430015957790585,2.398271159257478,2.2060183127447384,-0.6323597267435268,0.38014265673823633,-0.6609703860901983,-0.9752462673840941,0.40984273313112973,2.3009159712538203,-0.6230611825913974,0.14195705270563896,-0.649842630816553,0.2724273032329407,0.34227916123514956,1.5590110832913633,1.7841257552514436,3.4962315633268957,1.9432455104711686,1.8767971016000151,0.02810012407948358,-0.06271123295621069,1.9835470098235706,0.23104911249874283,-0.5750901905222732,-0.5323963847071538,1.039180494540306,-0.5733266885340774,-0.8540109075134159,-1.0284993555834518,-0.7415224540885227,-1.0193015124411462,-0.5605020525904977,0.3387834393234771,-0.7632291274206335,-0.10777048701753625,-0.7366957029518957,-0.32803888753264576,-0.7430004112538311,1.8897066651957295,0.7579997448220894,0.7214857014697054,0.08992218985755303,-0.03245299037851883,1.3648454820103353,-0.7314288393624678,3.335840755708886,3.3872392629304544,3.6041839791060517,3.25798684859255,1.0240515771293808,2.672654652798432,3.67045638652461,2.822658306362622,2.1160773931526347,0.13462574932753327,3.471647287280153,-0.7072283208535544,1.7167582878030099,2.6686210904139376,0.4985400801875509,0.8852513864730692,1.5260249468803937,-0.03570816369735098,0.2224671429647435,1.411370519730791,0.21219447060342259,-0.4012306070830819,-0.7411994903333767,2.4796456437941603,1.878171123825262,0.3329697102769666,1.6223152408721189,2.850044044964806,0.019903422297622583,0.2745011725257143,2.0133896778499683,-0.37411935407344477,3.1079840751218573,-0.30105696239536545,1.6262746389527363,1.439438245839999,-0.3489668673991633,0.5211424423705984,0.6958138707093884,0.34101996604683404,-0.4585417324249264,-0.6931302402151768,-0.2832862924016482,-0.1646019857600597,-0.6103856586976656,0.8887239708065101,2.1299630166526624,2.0309622959762224,-0.11472305311742728,0.7808358825124904,0.81823968588578,0.828934843430578,2.6872029619574023,-0.22444494083175434,0.33220591137209315,-0.356008535699255,-0.4637706380468365,2.578753936736508,0.9761266436383447,1.5419905328966594,0.32565550894413386,0.1976626247348406,-0.6555534031959708,-0.7526388128164745,-0.7594260656908193,-0.12087240300509393,1.3332167126586367,1.8289529384518797,1.121244734538711,-0.4021245410497658,0.4464316181188316,-0.3494621485339327,0.8514414613463425,0.16327495562665087,-0.14336579676050773,-0.30827863719558096,1.6884749145146147,1.5533657127789415,0.8779090188639379,-0.13431924730453393,-0.484450118556482,0.6596240544169203,0.22257658205309663,1.001484331392467,1.1509380003869107,2.209000210169071,0.340314640524825,0.09923355436230992,-0.4234615593378988,1.6707346996628336,1.7142563874569408,1.2161728291502432,-0.6588954506002523,-0.5760689333004416,-0.5082446920206642,1.6121176460731348,0.058942756845325676,-0.4809800456965017,0.8693055478964273,-0.8085867282326693,-0.9488893490113267,0.17432400906425877,0.7377114258218062,-0.5934785599561873,-0.6914052116856073,0.05628132669548029,-0.4521366148560211,-0.5576528072546708,1.9001812218587546,-0.19374262380366114,-0.0425922644937705,2.378312076510869,1.7589064993279926,0.21975503843232136,-0.08606618751897971,-0.08932224184752738,-0.19557067533387215,-0.09269018771615563,0.5552491928914143,-0.031308916323662145,0.7020624332221236,-0.31935877169891214,1.670116136373277,0.5492994454371888,-0.5555946778520687,1.5833747416253738,0.7275481093443166,3.0937993790046985,0.30291693888580795,-0.5285821142344719,0.21349783089977603,2.623527147488488,0.22881019574902658,-0.6399959613330057,-0.9041229384327195,1.7170591224772047,0.07076903604986425,-0.4230739873431436,-0.52344011521293,0.6472506414396489,0.2910725320287471,1.6222917769378302,2.441996984917768,-0.5915946309162342,-0.9725377004385977,-0.7933057240057422,-0.769474436233682,-0.8153670865933487,-0.7085570394559271,-0.7512621285822786,1.7629915205419806,0.6910217449706643,-0.45793129647447345,1.1392930327663426,-0.8711230623367765,-0.8340989671163586,-0.4745048538244341,-0.2263790059584092,-0.8099452599237399,0.7035465484761306,-0.1512275449692324,-0.3007021786052545,1.353597179546918,-0.3392212216931675,-0.8026435734555585,0.381692695640458,-0.34539421954186483,0.5379319017673762,0.9904775945838007,0.920436812302707,-0.6024230910389657,-0.6497127217657844,-0.3322074613811242,-1.0554376808232036,-0.5064035864651836,0.5146489657800727,-0.49397624844964594,-1.1346425492561931,-0.6303060648069638,0.40604223241450965,-0.4660547575098956,-0.7467426788989935,-0.9861898533251512,-1.03512251368376,-0.8704883250850595,-0.3381857907808816,-0.11064065690801453,-0.3986851183555185,-0.8717113216941705,-0.5358861749946553,-0.3232711466842788,0.20524532301149312,-0.17049956168592398,-0.48136630184442003,-0.44496879865023237,-0.43254564642843135,-0.7488767033307374,0.3484459931686569],\"xaxis\":\"x\",\"y\":[0.40549857225743824,-1.2125926133872553,-0.6910892583831019,1.0181243773756297,0.4950567570514896,-0.37460948978941516,-2.2429894161952646,-2.3036495283396,-2.0792649447208125,1.5314344302468805,2.06098579726983,0.15205259034198923,0.21754005428529669,-1.16979319242367,1.31727538150331,-0.6843115119279157,-0.12254314740986144,-0.9107864572087131,0.4506627557432956,0.8479379070231401,0.09112456401627113,-0.9705849731717047,-0.8071131662602883,-0.09570998842491311,-0.3049799268372206,-0.33815185719266694,-1.1295202148206251,0.84108812639246,-0.6039560862747896,0.8250341468557658,-0.2953283806716658,-1.0929404604969104,1.1964873938769967,-1.4500919236382324,0.22292121328824854,3.0851533492961996,-0.18568835675694043,0.019560561104874037,1.116284747966836,0.6925535303265222,0.8943111911045701,-0.16104749483668626,0.36075324200129083,0.8102715746647493,2.1167828206929,0.7017438790343185,0.06413162652409138,0.6656262097139206,-0.6426207800825721,1.5287739808282124,-0.5634707056908372,-0.6561802172141843,-0.5585435554566457,-0.813717535586508,-0.618186476489088,-0.4947855240761304,0.24852738176497505,-0.4512785160758653,-0.5994190993697327,-0.5445296484492111,2.811249841332499,-0.6782149724101851,0.3320576541517891,-0.16458981445235218,-0.1972120539749941,-1.2077950269708573,2.052961600190908,-2.202394700879245,-0.10783614773806877,0.6601891958096525,0.9683036159692884,0.2675433255329529,0.6215773085790177,0.11349243741828505,0.4219641422921021,-0.632419551943479,0.041818443986504736,-0.549955599183888,-0.5892334713314457,-0.13832370811168673,-0.11252914450787163,-0.6956262755773702,-0.21799698442193424,-1.088789464882581,-0.24912255125806293,-0.9328243386326619,-0.404948912521647,-0.7692315949941795,-0.4369477908429565,1.136381953465139,0.3022478184628597,0.47563716049708815,0.10086948643619632,0.6059532174734152,-0.2770377418722847,3.705301194565903,-1.3143438388248136,0.8402769608035716,0.45395503565559686,-0.043260587159661586,0.8845641927866831,2.649437069765172,-0.5324195947308851,0.3718394426990018,0.5994798304799085,0.19749506653662932,-0.6807786001631517,-0.7831173110268329,-1.0499569829652404,-2.0976333968130616,-0.3965732360987644,3.3450884445096722,0.7974410492826031,1.851618775080028,0.01913073059696381,-1.689178050873945,-0.11466165276092034,3.0952121436253073,-0.7099630982734537,0.13251960318422448,1.3475956759915406,-0.30554622527886943,-0.22012081674152809,0.771422341418919,-0.7164056282134242,-0.7454605348655007,-0.11281318085855598,-0.41934057932785246,-0.862897422283379,-0.03576525013965632,1.020011271412863,-0.7988624119808886,0.4708715526750928,-0.4233183853708407,-0.6548738834758498,3.0897852747176358,-1.2292566410579773,-0.5270450792766266,0.40864925443820876,0.03099388291778488,0.22811390560672773,3.199166954930207,-1.6185724298573496,0.5811840762421052,-0.23577582628260604,0.2618308341306119,1.4182322085732189,0.2941948510651821,-0.01023944406709742,-0.1436195937882432,0.5650251929173683,0.11860716254996896,-0.4802535500100213,-0.5558402369598187,0.2816244532427807,-0.18117236031093192,-1.1686149095855363,-0.7266037507956028,2.0054872397988333,0.40383907068458513,-0.521682632437216,0.9052268936359977,0.06603177489496845,2.316127468393868,1.0663211142897695,1.870993776077092,0.49818933443728713,0.6786155396086605,-1.1957425209039756,-0.7270611918683608,-0.7822680384129602,-0.7240699007251736,-0.25452257443295234,-0.9839490130720548,0.5295380788435445,-0.8836938462415177,-0.5860652858665654,-0.33579774759744185,0.10636164704292113,-0.5474175690330312,0.9413000152809884,0.22101665517302008,-0.9113143072502996,-0.4780694580668924,-1.80791511373412,0.23522906769086763,0.5661078540531012,1.8306096914365333,-0.07558656801404323,-0.07046689665704232,0.22773094566939067,0.2964779906823119,-0.2629665220287079,-0.7709631867274862,-0.9600889066432273,-1.6332617874407664,0.15091749391487624,-0.8986026267336753,-0.4207051277745416,-1.3604902621563078,-0.47906170737051423,-2.011907079313327,-1.2143787147362386,-0.1258337163770779,-0.9480511764265895,1.6892408530309775,-2.3609706027483934,0.6059938319162865,-0.8558178708571013,2.046678924184929,-0.35921094881660187,-2.289067809180375,-1.1258415471445664,0.10222787597964564,-0.034930509022503116,-0.519519469092481,0.18171407866012504,-0.5212526806150233,-0.11949237623017549,0.6456196238854198,-0.16654342064528208,-0.05794634740557842,0.5672850701530184,0.2990083027999477,2.273027187997848,2.7821372986522253,-0.3705797943674025,1.3371184572798491,-1.305637900793948,-0.6854745284614696,-0.9564972075703483,0.3715286807977126,1.2579031965548146,0.955504608142009,-1.4090411195459855,0.5660973041664219,-1.1614471389504568,0.14748534894961834,-0.9823652934110462,0.11447139998858197,-0.6612384244635214,0.12421840292963905,0.8249423244903674,0.9204234211256577,0.04609900200920377,-0.025313574317263398,0.6031486909528273,0.09635641474382017,-0.6826197976005302,1.6149575296866285,0.28507506883493305,1.6755677355212166,1.253489680470401,0.9324205334899371,0.15696898153871622,1.0438049779124476,0.4424914907839646,0.6472195072560579,0.3340844792615659,-0.25047803563791876,-0.5451446172078068,-0.48071844377362516,0.07190456411943032,-0.54974647279074,-1.7601515645018644,2.355404248087644,0.35812417043433,-0.8703612527484402,-0.224886248465476,-0.7277319776633568,-0.6509842762773836,-0.6240541154905894,0.202964883948324,-0.7354470902003339,0.32509806133561103,-2.385148435988677,-1.0905940132711291,1.0166779698993638,0.9856427381819337,0.2915141628252467,-1.7965540196046235,-0.7590072083924234,-0.8425076025605556,-0.1992295167907111,-1.5851512734311217,-0.8674151639320966,-1.271924333018,-0.007565930950498758,0.9844201843817205,-0.03152818607082217,-0.8069119469656292,0.1184831341675564,1.1205780765569526,-0.16576612845319788,-0.5896328059464391,-0.13772624460664604,-0.8639007081770167,-0.04291737038271856,-0.9425149344954243,0.6372741442447286,2.2684928492980987,0.776827854852128,-0.34177732625257334,0.7435757893684338,0.32864812701437895,0.48071282047258507,0.28716074462943164,-0.5381082386468298,-2.472307782779073,-0.5688808850467897,-0.2845321410002988,0.5512500271611762,-0.9569410844135882,-0.506910447832725,-1.663552407080022,0.0898066837863173,1.4149521778344523,0.8162511485424928,-0.8257424078998247,0.866729704091137,0.36581784085257496,-2.076270913719623,-0.7314180083653441,-0.42178509835345424,-0.5068385183694298,-0.32775049825789515,1.7722022604330518,1.092253948605877,0.6259420080360798,-0.3573012707747461,0.38745690363839896,0.1356052600954678,0.8779256525382209,-0.9998555543529186,-0.9132013487339666,-0.32500775446747643,0.4952943533915621,1.0529488526075759,0.01585157570693516,-0.8561688785869203,-0.1604686706256748,2.253179459690342,0.6289168792161116,1.0002855952630194,0.3575462083848035,-0.3963241063655951,-0.5176975166285265,0.1561563623905681,1.4257648992288408,0.47065959850728434,0.6319468190742326,0.5517783921185312,0.23967009191523572,-0.7008862430225576,-0.08135568951568069,-0.8096875970990218,-1.3015009422431723,-0.9427289045966308,-0.2757033759821907,-0.4472281013729823,-0.39886059727796913,0.5906068091946088,0.41210435800639783,1.0158877689012598,-0.5371601131203033,-0.17418262746739735,0.19003557635404433,-0.12831028781439952,-1.2125481170126116,0.15928113871271307,-0.7748042064642365,-0.02961294514867003,0.47107610897164653,-1.191063519861625,-0.40976184324626447,-0.0930496371378617,-0.8549107512868033,-1.64271113236441,0.03346588555809638,0.07135904121841162,1.0781603641642674,-0.011042561410840044,-0.5740203437012208,-0.23969632325734655,0.9444124388733705,-0.35308206043495777,-0.7650383896268216,1.847461367446294,-0.10153513421086038,0.8425276030249925,1.1201799844782028,-0.9785538811602135,-2.0692981996966795,-1.8259944348473187,-0.1872998366549573,-0.24688068113319203,0.015354730580684893,-0.6040637536671467,-0.18313108662922073,0.34840601536678445,-0.6924825940744475,-0.6700432024757674,-0.6300342433995219,-0.2313304349235723,-0.7252467514553448,0.9580070669368714,-1.1724629535488769,-0.12149179265430063,0.04218651012025525,0.5623328148141528,0.47956400357831747,-0.5782984701839293,-1.2174107218742392,0.6779631660521872,0.28593836880424556,0.6848493440746333,-0.4647773429334795,-0.6977446870330838,0.26553129285591354,0.6202976294357128,-1.322493018154283,-0.1550143656223795,-1.0626603782233908,0.22813176702322224,0.3568720006751287,-0.07126518468089721,-0.4280586143200966,-0.37971485434237146,-0.245416072024593,0.3185679318871254,0.25388521092036653,-0.2615471927048357,-0.5363291058166745,1.7039000113427416,1.4020181714018505,-2.1287718108471156,0.4661290793979409,-2.3155022940037293,2.2175062388886935,0.07186607381613472,-0.29901540612408173,0.8095329443158945,-0.02810177092166048,-0.25498308214475557,3.4016782645915327,-0.14452084780903904,-1.995532288068521,2.6362632138681987,-0.27877923191218185,1.3997213417361798,-0.501223851954184,-0.6434142447390541,0.011386311175299244,0.6332371052576862,0.13621077865809977,0.013050523274698297,0.7769285775083515,-1.0884045640454325,-0.24670262854500083,1.078941970935428,0.8751759660439764,0.40902889494162004,0.23653015771358832,0.883409157666717,-0.42321576490058566,0.3484438646507368,0.08058112811242671,-0.20587706726287305,-0.444687789921488,-0.015109771371623419,0.8860583461950455,0.3811760317259814,-0.6938019464972303,1.0634854580118882,-0.2632694462073515,1.0468464226142926,0.6138825025996889,0.20498831814452878,1.038708540398208,1.4111649361741783,1.5114254848604147,0.4829254123355509,0.33510607088957794,0.4784829562791806,0.49690498771567454,0.21561551844953095,-1.3225755294988952,0.6825866256562007,0.4211781768411954,-0.03187888739873294,0.3730091644967422,1.1640210520102943,0.6202135260397046,-1.9337066705326695,2.419398652398618,-0.1390344261859557,2.830129507369283,1.720898159196665,2.272151021225703,1.1796019783916105,0.21005964317712322,-0.5421053924382369,-0.7486164529283055,-0.3979663419477862,0.2870876872265292,1.3999244721344766,0.514842240074825,2.610326568317131,-0.7796189875415469,-0.1516762737282436,0.05121904595225957,-0.7459742519173895,-0.19621663166483103,-1.0231030507489876,-0.9273171981814514,-0.5643622012694854,-0.7489914476367577,1.9516883692411031,-0.19317937663718998,-2.2287128730110397,-0.5651637284988992,-0.31227551657494307,-0.1806876649947768,-0.0421105272078551,-0.8272906826902572,-0.4087615077234002,0.13714326531309695,1.063298418961121,-1.20069487533485,-0.1906747005907242,0.818564445887187,0.6453426713006782,1.508013348366992,-0.13425333227610428,0.34358966229488236,0.47415082347893117,-0.408385461565403,-0.9883447694865796,-0.24246284697500464,-0.184828506090518,0.3527440767657528,-0.18807903735121423,1.0127423120984327,-0.1804896187174076,-0.7277705592474536,-0.5064284534848813,-0.11080534827913013,-0.9241238776792634,-0.9743966418751485,-0.07287648332298297,-1.0622341652267644,-0.6620691711215742,-0.25270953518261674,1.5918937985001347,-1.1490405760290565,0.7075199791149536,-0.5830770579190748,-0.15480202152336509,-1.2180831236371825,-1.9542002727020438,-0.7769410172290516,-1.0606443243828692,-0.7585363397071799,-1.0834537478856177,-0.85721544200747,1.110495314933466,0.14809782131297503,-2.0827890043351163,-1.6370193171693805,-1.0988513934840791,0.3215784309794221,-0.518117352910461,-0.5131735873560571,0.6974478406674841,2.688882038734465,-0.6332527356934389,0.5418250129477195,-0.9474321249569082,-0.7885006675637752,0.396143066069451,-0.7332152334707859,-0.4809576715521103,-0.7336900517486328,0.6056439610984947,1.1033552058113845,-1.5060576911968078,-0.6010675844029555,-0.5988398239012309,-2.197356507337919,-0.8776157879419447,0.2913905844685834,-0.0338926548314065,-0.6532735962682795,0.014001737998642438,-1.0100541181736016,-0.8966075624227202,0.1934520476422186,-1.1024608334397163,0.5722114668097447,-1.4336503073810307,0.3069529138707928,0.08759912077811662,0.004044039352019784,-0.7606424950229628,0.24555277306955647,0.16506099674248872,-0.7159352396489451,-0.6641559151098584,-0.2482710336458601,-0.3554300215762877,-0.5106906455592604,-2.025311450428586,2.1663569497990967,1.4691633747326025,1.863105491886898,1.5059937493950941,0.7839913809384877,1.0403606727560324,1.863637426765179,1.274992602140677,1.3241008803854493,-0.7204637388633389,-1.674250459685535,0.4591378750988134,-0.6034885799234416,-0.1768683180695196,-0.41878648669743435,-0.01972679546223446,0.41475895634447135,0.14920679622656366,0.9281166498518024,-0.1679714342646712,1.7181430256981318,0.37424580519645934,0.26839064150681596,-0.48218803895496243,-0.1302579905413085,1.6538949732432193,2.176745757367585,-0.6156087525176874,-0.47300460669644084,-0.43609433712935536,0.044191408298716615,-0.3629974954159998,0.7526411042631497,0.1368812930098409,-0.5205612371361585,-0.5322086425031931,0.6434472406540909,-0.8370369440957098,-0.5598188384494384,-0.39509742618113414,-0.11429181457239694,-0.2708722742060254,-0.28508066467970394,-0.13295618438894963,-1.1910022880547357,0.6637669328256205,0.3063775808361029,-0.01552895736005101,-0.5262635378848846,0.015258194290349936,-1.2014214198437043,1.872486077018259,0.9052676430332293,-0.7800192380482039,-0.40038028278850873,0.1280076008547105,0.27014806930782953,0.33211734095629536,-0.6710588460001656,-0.5734312582418811,-0.2453220154572947,-0.43468436751848066,-0.16875737687490144,-0.7199442715631034,0.1676460515537677,-0.2884505413541314,-0.241683293756605,-0.17005208063380142,-0.2643992615860159,0.963683964889933,0.03779313751635929,0.6198078903801961,-0.8584927690688074,-0.31520149108676865,-0.6538597037486933,-0.6541329675541938,0.22848199210546155,-0.8677297246531682,-1.3136265126397635,-1.5882586645515389,-0.31507391137656526,-0.7284798044876676,-0.33627846918551824,-0.6854227780110936,-1.1185802432320393,-1.0679492476981143,-0.5269688767007916,-0.6913082920839921,0.5262374717836654,-0.5992142899008001,-0.12074604044513393,3.225787011174132,-0.5083932863953388,-0.3180498384469216,-0.33940808518934956,0.4792765244613424,2.1381823476413397,1.3973119023274965,-0.21510327614974248,-0.10958224221715519,-0.018340219341650855,1.7761284508726367,2.8464853942357013,-0.2378426450224185,-0.30112657833514,-1.0657250127544002,-0.9150658945697976,-0.8727455550837283,-0.691701040021637,-0.9548885211095017,-0.7377337209802023,-0.923558139230323,2.931702516327157,-0.5169742356924458,-0.4266360783858689,0.9326146271617638,0.9202796563502598,0.0935054746563137,3.04550988684445,1.9374126337110684,-0.5814114313990792,1.64230099600991,-0.5034774552141285,0.3587962522849634,-0.6166199356954893,1.0400759309348584,1.5986800153760985,1.2003113391434321,0.7501080109584966,-1.182473091892147,-1.3330013543699413,-0.020590234952255766,-0.42814644003990665,-0.15278540504449986,0.13228212311306073,-1.395391473718456,-1.4028986220187571,-0.4276746512368516,0.8720132078185515,2.745929718403004,1.5133753863207406,-0.014652750798195042,-0.04641710611048245,-2.212807843708695,-1.5646241221858563,0.03572529769599234,0.022242665578242393,0.655241105017147,0.9392800877168129,-0.43242587121904874,-0.463984377906526,2.810370627542157,-0.21543418491833322,-0.5767897122676799,-0.049847917185962626,-0.1246635389886652,0.18306525530236464,1.0805763093187517,-0.13283148754315294,-0.7241485204585443,-1.1063153563258705,-0.39122907971374,-0.6547855349022026,-0.21976234181424104,0.31026999297349345,-0.9862744657980419,-0.3073204145112841,-0.7909734618425305,-0.6785322206370142,-0.23432572710763003,0.8340725755227749,1.4465382654397205,1.1501928167940194,-0.15041447384204687,1.5827766723179144,-0.2890324325586851,0.7579225364057267,-2.052894693368061,0.5738582205387078,1.0546999834145177,-0.8229301311498987,0.49095584035386775,0.44032377455185445,-0.21003427411679523,0.13049691177051934,0.5282447297502987,-0.4398056773825589,-1.962148456477782,0.15243272006200634,1.2738662315733964,-0.4459690300331203,-0.6757502832621644,0.9205565828689694,-0.9587340757150701,1.1542069046059162,-0.19991534164096134,0.6352484136362615,-0.7521479175176599],\"yaxis\":\"y\",\"type\":\"scatter\"}],                        {\"template\":{\"data\":{\"histogram2dcontour\":[{\"type\":\"histogram2dcontour\",\"colorbar\":{\"outlinewidth\":0,\"ticks\":\"\"},\"colorscale\":[[0.0,\"#0d0887\"],[0.1111111111111111,\"#46039f\"],[0.2222222222222222,\"#7201a8\"],[0.3333333333333333,\"#9c179e\"],[0.4444444444444444,\"#bd3786\"],[0.5555555555555556,\"#d8576b\"],[0.6666666666666666,\"#ed7953\"],[0.7777777777777778,\"#fb9f3a\"],[0.8888888888888888,\"#fdca26\"],[1.0,\"#f0f921\"]]}],\"choropleth\":[{\"type\":\"choropleth\",\"colorbar\":{\"outlinewidth\":0,\"ticks\":\"\"}}],\"histogram2d\":[{\"type\":\"histogram2d\",\"colorbar\":{\"outlinewidth\":0,\"ticks\":\"\"},\"colorscale\":[[0.0,\"#0d0887\"],[0.1111111111111111,\"#46039f\"],[0.2222222222222222,\"#7201a8\"],[0.3333333333333333,\"#9c179e\"],[0.4444444444444444,\"#bd3786\"],[0.5555555555555556,\"#d8576b\"],[0.6666666666666666,\"#ed7953\"],[0.7777777777777778,\"#fb9f3a\"],[0.8888888888888888,\"#fdca26\"],[1.0,\"#f0f921\"]]}],\"heatmap\":[{\"type\":\"heatmap\",\"colorbar\":{\"outlinewidth\":0,\"ticks\":\"\"},\"colorscale\":[[0.0,\"#0d0887\"],[0.1111111111111111,\"#46039f\"],[0.2222222222222222,\"#7201a8\"],[0.3333333333333333,\"#9c179e\"],[0.4444444444444444,\"#bd3786\"],[0.5555555555555556,\"#d8576b\"],[0.6666666666666666,\"#ed7953\"],[0.7777777777777778,\"#fb9f3a\"],[0.8888888888888888,\"#fdca26\"],[1.0,\"#f0f921\"]]}],\"heatmapgl\":[{\"type\":\"heatmapgl\",\"colorbar\":{\"outlinewidth\":0,\"ticks\":\"\"},\"colorscale\":[[0.0,\"#0d0887\"],[0.1111111111111111,\"#46039f\"],[0.2222222222222222,\"#7201a8\"],[0.3333333333333333,\"#9c179e\"],[0.4444444444444444,\"#bd3786\"],[0.5555555555555556,\"#d8576b\"],[0.6666666666666666,\"#ed7953\"],[0.7777777777777778,\"#fb9f3a\"],[0.8888888888888888,\"#fdca26\"],[1.0,\"#f0f921\"]]}],\"contourcarpet\":[{\"type\":\"contourcarpet\",\"colorbar\":{\"outlinewidth\":0,\"ticks\":\"\"}}],\"contour\":[{\"type\":\"contour\",\"colorbar\":{\"outlinewidth\":0,\"ticks\":\"\"},\"colorscale\":[[0.0,\"#0d0887\"],[0.1111111111111111,\"#46039f\"],[0.2222222222222222,\"#7201a8\"],[0.3333333333333333,\"#9c179e\"],[0.4444444444444444,\"#bd3786\"],[0.5555555555555556,\"#d8576b\"],[0.6666666666666666,\"#ed7953\"],[0.7777777777777778,\"#fb9f3a\"],[0.8888888888888888,\"#fdca26\"],[1.0,\"#f0f921\"]]}],\"surface\":[{\"type\":\"surface\",\"colorbar\":{\"outlinewidth\":0,\"ticks\":\"\"},\"colorscale\":[[0.0,\"#0d0887\"],[0.1111111111111111,\"#46039f\"],[0.2222222222222222,\"#7201a8\"],[0.3333333333333333,\"#9c179e\"],[0.4444444444444444,\"#bd3786\"],[0.5555555555555556,\"#d8576b\"],[0.6666666666666666,\"#ed7953\"],[0.7777777777777778,\"#fb9f3a\"],[0.8888888888888888,\"#fdca26\"],[1.0,\"#f0f921\"]]}],\"mesh3d\":[{\"type\":\"mesh3d\",\"colorbar\":{\"outlinewidth\":0,\"ticks\":\"\"}}],\"scatter\":[{\"fillpattern\":{\"fillmode\":\"overlay\",\"size\":10,\"solidity\":0.2},\"type\":\"scatter\"}],\"parcoords\":[{\"type\":\"parcoords\",\"line\":{\"colorbar\":{\"outlinewidth\":0,\"ticks\":\"\"}}}],\"scatterpolargl\":[{\"type\":\"scatterpolargl\",\"marker\":{\"colorbar\":{\"outlinewidth\":0,\"ticks\":\"\"}}}],\"bar\":[{\"error_x\":{\"color\":\"#2a3f5f\"},\"error_y\":{\"color\":\"#2a3f5f\"},\"marker\":{\"line\":{\"color\":\"#E5ECF6\",\"width\":0.5},\"pattern\":{\"fillmode\":\"overlay\",\"size\":10,\"solidity\":0.2}},\"type\":\"bar\"}],\"scattergeo\":[{\"type\":\"scattergeo\",\"marker\":{\"colorbar\":{\"outlinewidth\":0,\"ticks\":\"\"}}}],\"scatterpolar\":[{\"type\":\"scatterpolar\",\"marker\":{\"colorbar\":{\"outlinewidth\":0,\"ticks\":\"\"}}}],\"histogram\":[{\"marker\":{\"pattern\":{\"fillmode\":\"overlay\",\"size\":10,\"solidity\":0.2}},\"type\":\"histogram\"}],\"scattergl\":[{\"type\":\"scattergl\",\"marker\":{\"colorbar\":{\"outlinewidth\":0,\"ticks\":\"\"}}}],\"scatter3d\":[{\"type\":\"scatter3d\",\"line\":{\"colorbar\":{\"outlinewidth\":0,\"ticks\":\"\"}},\"marker\":{\"colorbar\":{\"outlinewidth\":0,\"ticks\":\"\"}}}],\"scattermapbox\":[{\"type\":\"scattermapbox\",\"marker\":{\"colorbar\":{\"outlinewidth\":0,\"ticks\":\"\"}}}],\"scatterternary\":[{\"type\":\"scatterternary\",\"marker\":{\"colorbar\":{\"outlinewidth\":0,\"ticks\":\"\"}}}],\"scattercarpet\":[{\"type\":\"scattercarpet\",\"marker\":{\"colorbar\":{\"outlinewidth\":0,\"ticks\":\"\"}}}],\"carpet\":[{\"aaxis\":{\"endlinecolor\":\"#2a3f5f\",\"gridcolor\":\"white\",\"linecolor\":\"white\",\"minorgridcolor\":\"white\",\"startlinecolor\":\"#2a3f5f\"},\"baxis\":{\"endlinecolor\":\"#2a3f5f\",\"gridcolor\":\"white\",\"linecolor\":\"white\",\"minorgridcolor\":\"white\",\"startlinecolor\":\"#2a3f5f\"},\"type\":\"carpet\"}],\"table\":[{\"cells\":{\"fill\":{\"color\":\"#EBF0F8\"},\"line\":{\"color\":\"white\"}},\"header\":{\"fill\":{\"color\":\"#C8D4E3\"},\"line\":{\"color\":\"white\"}},\"type\":\"table\"}],\"barpolar\":[{\"marker\":{\"line\":{\"color\":\"#E5ECF6\",\"width\":0.5},\"pattern\":{\"fillmode\":\"overlay\",\"size\":10,\"solidity\":0.2}},\"type\":\"barpolar\"}],\"pie\":[{\"automargin\":true,\"type\":\"pie\"}]},\"layout\":{\"autotypenumbers\":\"strict\",\"colorway\":[\"#636efa\",\"#EF553B\",\"#00cc96\",\"#ab63fa\",\"#FFA15A\",\"#19d3f3\",\"#FF6692\",\"#B6E880\",\"#FF97FF\",\"#FECB52\"],\"font\":{\"color\":\"#2a3f5f\"},\"hovermode\":\"closest\",\"hoverlabel\":{\"align\":\"left\"},\"paper_bgcolor\":\"white\",\"plot_bgcolor\":\"#E5ECF6\",\"polar\":{\"bgcolor\":\"#E5ECF6\",\"angularaxis\":{\"gridcolor\":\"white\",\"linecolor\":\"white\",\"ticks\":\"\"},\"radialaxis\":{\"gridcolor\":\"white\",\"linecolor\":\"white\",\"ticks\":\"\"}},\"ternary\":{\"bgcolor\":\"#E5ECF6\",\"aaxis\":{\"gridcolor\":\"white\",\"linecolor\":\"white\",\"ticks\":\"\"},\"baxis\":{\"gridcolor\":\"white\",\"linecolor\":\"white\",\"ticks\":\"\"},\"caxis\":{\"gridcolor\":\"white\",\"linecolor\":\"white\",\"ticks\":\"\"}},\"coloraxis\":{\"colorbar\":{\"outlinewidth\":0,\"ticks\":\"\"}},\"colorscale\":{\"sequential\":[[0.0,\"#0d0887\"],[0.1111111111111111,\"#46039f\"],[0.2222222222222222,\"#7201a8\"],[0.3333333333333333,\"#9c179e\"],[0.4444444444444444,\"#bd3786\"],[0.5555555555555556,\"#d8576b\"],[0.6666666666666666,\"#ed7953\"],[0.7777777777777778,\"#fb9f3a\"],[0.8888888888888888,\"#fdca26\"],[1.0,\"#f0f921\"]],\"sequentialminus\":[[0.0,\"#0d0887\"],[0.1111111111111111,\"#46039f\"],[0.2222222222222222,\"#7201a8\"],[0.3333333333333333,\"#9c179e\"],[0.4444444444444444,\"#bd3786\"],[0.5555555555555556,\"#d8576b\"],[0.6666666666666666,\"#ed7953\"],[0.7777777777777778,\"#fb9f3a\"],[0.8888888888888888,\"#fdca26\"],[1.0,\"#f0f921\"]],\"diverging\":[[0,\"#8e0152\"],[0.1,\"#c51b7d\"],[0.2,\"#de77ae\"],[0.3,\"#f1b6da\"],[0.4,\"#fde0ef\"],[0.5,\"#f7f7f7\"],[0.6,\"#e6f5d0\"],[0.7,\"#b8e186\"],[0.8,\"#7fbc41\"],[0.9,\"#4d9221\"],[1,\"#276419\"]]},\"xaxis\":{\"gridcolor\":\"white\",\"linecolor\":\"white\",\"ticks\":\"\",\"title\":{\"standoff\":15},\"zerolinecolor\":\"white\",\"automargin\":true,\"zerolinewidth\":2},\"yaxis\":{\"gridcolor\":\"white\",\"linecolor\":\"white\",\"ticks\":\"\",\"title\":{\"standoff\":15},\"zerolinecolor\":\"white\",\"automargin\":true,\"zerolinewidth\":2},\"scene\":{\"xaxis\":{\"backgroundcolor\":\"#E5ECF6\",\"gridcolor\":\"white\",\"linecolor\":\"white\",\"showbackground\":true,\"ticks\":\"\",\"zerolinecolor\":\"white\",\"gridwidth\":2},\"yaxis\":{\"backgroundcolor\":\"#E5ECF6\",\"gridcolor\":\"white\",\"linecolor\":\"white\",\"showbackground\":true,\"ticks\":\"\",\"zerolinecolor\":\"white\",\"gridwidth\":2},\"zaxis\":{\"backgroundcolor\":\"#E5ECF6\",\"gridcolor\":\"white\",\"linecolor\":\"white\",\"showbackground\":true,\"ticks\":\"\",\"zerolinecolor\":\"white\",\"gridwidth\":2}},\"shapedefaults\":{\"line\":{\"color\":\"#2a3f5f\"}},\"annotationdefaults\":{\"arrowcolor\":\"#2a3f5f\",\"arrowhead\":0,\"arrowwidth\":1},\"geo\":{\"bgcolor\":\"white\",\"landcolor\":\"#E5ECF6\",\"subunitcolor\":\"white\",\"showland\":true,\"showlakes\":true,\"lakecolor\":\"white\"},\"title\":{\"x\":0.05},\"mapbox\":{\"style\":\"light\"}}},\"xaxis\":{\"anchor\":\"y\",\"domain\":[0.0,1.0],\"title\":{\"text\":\"pca0\"}},\"yaxis\":{\"anchor\":\"x\",\"domain\":[0.0,1.0],\"title\":{\"text\":\"pca1\"}},\"coloraxis\":{\"colorbar\":{\"title\":{\"text\":\"color\"}},\"colorscale\":[[0.0,\"#0d0887\"],[0.1111111111111111,\"#46039f\"],[0.2222222222222222,\"#7201a8\"],[0.3333333333333333,\"#9c179e\"],[0.4444444444444444,\"#bd3786\"],[0.5555555555555556,\"#d8576b\"],[0.6666666666666666,\"#ed7953\"],[0.7777777777777778,\"#fb9f3a\"],[0.8888888888888888,\"#fdca26\"],[1.0,\"#f0f921\"]]},\"legend\":{\"tracegroupgap\":0},\"title\":{\"text\":\"PCA Analysis on 2019-2020 IPEDS Data\"}},                        {\"responsive\": true}                    ).then(function(){\n",
       "                            \n",
       "var gd = document.getElementById('7c1f59e0-b8c3-4421-ad62-a1903b93c50b');\n",
       "var x = new MutationObserver(function (mutations, observer) {{\n",
       "        var display = window.getComputedStyle(gd).display;\n",
       "        if (!display || display === 'none') {{\n",
       "            console.log([gd, 'removed!']);\n",
       "            Plotly.purge(gd);\n",
       "            observer.disconnect();\n",
       "        }}\n",
       "}});\n",
       "\n",
       "// Listen for the removal of the full notebook cells\n",
       "var notebookContainer = gd.closest('#notebook-container');\n",
       "if (notebookContainer) {{\n",
       "    x.observe(notebookContainer, {childList: true});\n",
       "}}\n",
       "\n",
       "// Listen for the clearing of the current output cell\n",
       "var outputEl = gd.closest('.output');\n",
       "if (outputEl) {{\n",
       "    x.observe(outputEl, {childList: true});\n",
       "}}\n",
       "\n",
       "                        })                };                });            </script>        </div>"
      ]
     },
     "metadata": {},
     "output_type": "display_data"
    }
   ],
   "source": [
    "# plotting k-Means for 3 and 4 clusters\n",
    "clusters = 3\n",
    "\n",
    "year = 19\n",
    "\n",
    "# evaluating k-Means at clusters\n",
    "kmeans = KMeans(n_clusters=clusters)\n",
    "kmeans.fit(pca)\n",
    "pca_y = kmeans.predict(pca) \n",
    "    \n",
    "# plotting PCA analysis\n",
    "fig = px.scatter(df, x = 'pca0', y = 'pca1', hover_data = ['Name', 'Full-time undergraduate enrollment', \\\n",
    "                                                               'Percent of students awarded Pell grants'],\n",
    "                     color = pca_y, title = f'PCA Analysis on 20{year}-20{year + 1} IPEDS Data')\n",
    "\n",
    "\n",
    "fig.show()"
   ]
  }
 ],
 "metadata": {
  "kernelspec": {
   "display_name": "Python 3 (ipykernel)",
   "language": "python",
   "name": "python3"
  },
  "language_info": {
   "codemirror_mode": {
    "name": "ipython",
    "version": 3
   },
   "file_extension": ".py",
   "mimetype": "text/x-python",
   "name": "python",
   "nbconvert_exporter": "python",
   "pygments_lexer": "ipython3",
   "version": "3.9.12"
  }
 },
 "nbformat": 4,
 "nbformat_minor": 5
}
