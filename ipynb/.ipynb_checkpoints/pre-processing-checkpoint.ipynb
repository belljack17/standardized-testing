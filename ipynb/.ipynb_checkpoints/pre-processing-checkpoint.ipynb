{
 "cells": [
  {
   "cell_type": "code",
   "execution_count": 3,
   "id": "ce576b3a",
   "metadata": {},
   "outputs": [
    {
     "ename": "FileNotFoundError",
     "evalue": "[Errno 2] No such file or directory: 'data/IPEDS_Data_110122.csv'",
     "output_type": "error",
     "traceback": [
      "\u001b[1;31m---------------------------------------------------------------------------\u001b[0m",
      "\u001b[1;31mFileNotFoundError\u001b[0m                         Traceback (most recent call last)",
      "Cell \u001b[1;32mIn [3], line 4\u001b[0m\n\u001b[0;32m      1\u001b[0m \u001b[38;5;28;01mimport\u001b[39;00m \u001b[38;5;21;01mpandas\u001b[39;00m \u001b[38;5;28;01mas\u001b[39;00m \u001b[38;5;21;01mpd\u001b[39;00m\n\u001b[0;32m      3\u001b[0m \u001b[38;5;66;03m# read in the file\u001b[39;00m\n\u001b[1;32m----> 4\u001b[0m df_ipeds \u001b[38;5;241m=\u001b[39m \u001b[43mpd\u001b[49m\u001b[38;5;241;43m.\u001b[39;49m\u001b[43mread_csv\u001b[49m\u001b[43m(\u001b[49m\u001b[38;5;124;43m'\u001b[39;49m\u001b[38;5;124;43mdata/IPEDS_Data_110122.csv\u001b[39;49m\u001b[38;5;124;43m'\u001b[39;49m\u001b[43m)\u001b[49m\n\u001b[0;32m      6\u001b[0m \u001b[38;5;66;03m# drop all rows where it doesn't have the SAT MATH 75 percentile score\u001b[39;00m\n\u001b[0;32m      7\u001b[0m \u001b[38;5;28;01mfor\u001b[39;00m year \u001b[38;5;129;01min\u001b[39;00m (\u001b[38;5;124m'\u001b[39m\u001b[38;5;124m2017\u001b[39m\u001b[38;5;124m'\u001b[39m, \u001b[38;5;124m'\u001b[39m\u001b[38;5;124m2018\u001b[39m\u001b[38;5;124m'\u001b[39m, \u001b[38;5;124m'\u001b[39m\u001b[38;5;124m2019\u001b[39m\u001b[38;5;124m'\u001b[39m):\n",
      "File \u001b[1;32m~\\miniconda3\\lib\\site-packages\\pandas\\util\\_decorators.py:211\u001b[0m, in \u001b[0;36mdeprecate_kwarg.<locals>._deprecate_kwarg.<locals>.wrapper\u001b[1;34m(*args, **kwargs)\u001b[0m\n\u001b[0;32m    209\u001b[0m     \u001b[38;5;28;01melse\u001b[39;00m:\n\u001b[0;32m    210\u001b[0m         kwargs[new_arg_name] \u001b[38;5;241m=\u001b[39m new_arg_value\n\u001b[1;32m--> 211\u001b[0m \u001b[38;5;28;01mreturn\u001b[39;00m func(\u001b[38;5;241m*\u001b[39margs, \u001b[38;5;241m*\u001b[39m\u001b[38;5;241m*\u001b[39mkwargs)\n",
      "File \u001b[1;32m~\\miniconda3\\lib\\site-packages\\pandas\\util\\_decorators.py:317\u001b[0m, in \u001b[0;36mdeprecate_nonkeyword_arguments.<locals>.decorate.<locals>.wrapper\u001b[1;34m(*args, **kwargs)\u001b[0m\n\u001b[0;32m    311\u001b[0m \u001b[38;5;28;01mif\u001b[39;00m \u001b[38;5;28mlen\u001b[39m(args) \u001b[38;5;241m>\u001b[39m num_allow_args:\n\u001b[0;32m    312\u001b[0m     warnings\u001b[38;5;241m.\u001b[39mwarn(\n\u001b[0;32m    313\u001b[0m         msg\u001b[38;5;241m.\u001b[39mformat(arguments\u001b[38;5;241m=\u001b[39marguments),\n\u001b[0;32m    314\u001b[0m         \u001b[38;5;167;01mFutureWarning\u001b[39;00m,\n\u001b[0;32m    315\u001b[0m         stacklevel\u001b[38;5;241m=\u001b[39mfind_stack_level(inspect\u001b[38;5;241m.\u001b[39mcurrentframe()),\n\u001b[0;32m    316\u001b[0m     )\n\u001b[1;32m--> 317\u001b[0m \u001b[38;5;28;01mreturn\u001b[39;00m func(\u001b[38;5;241m*\u001b[39margs, \u001b[38;5;241m*\u001b[39m\u001b[38;5;241m*\u001b[39mkwargs)\n",
      "File \u001b[1;32m~\\miniconda3\\lib\\site-packages\\pandas\\io\\parsers\\readers.py:950\u001b[0m, in \u001b[0;36mread_csv\u001b[1;34m(filepath_or_buffer, sep, delimiter, header, names, index_col, usecols, squeeze, prefix, mangle_dupe_cols, dtype, engine, converters, true_values, false_values, skipinitialspace, skiprows, skipfooter, nrows, na_values, keep_default_na, na_filter, verbose, skip_blank_lines, parse_dates, infer_datetime_format, keep_date_col, date_parser, dayfirst, cache_dates, iterator, chunksize, compression, thousands, decimal, lineterminator, quotechar, quoting, doublequote, escapechar, comment, encoding, encoding_errors, dialect, error_bad_lines, warn_bad_lines, on_bad_lines, delim_whitespace, low_memory, memory_map, float_precision, storage_options)\u001b[0m\n\u001b[0;32m    935\u001b[0m kwds_defaults \u001b[38;5;241m=\u001b[39m _refine_defaults_read(\n\u001b[0;32m    936\u001b[0m     dialect,\n\u001b[0;32m    937\u001b[0m     delimiter,\n\u001b[1;32m   (...)\u001b[0m\n\u001b[0;32m    946\u001b[0m     defaults\u001b[38;5;241m=\u001b[39m{\u001b[38;5;124m\"\u001b[39m\u001b[38;5;124mdelimiter\u001b[39m\u001b[38;5;124m\"\u001b[39m: \u001b[38;5;124m\"\u001b[39m\u001b[38;5;124m,\u001b[39m\u001b[38;5;124m\"\u001b[39m},\n\u001b[0;32m    947\u001b[0m )\n\u001b[0;32m    948\u001b[0m kwds\u001b[38;5;241m.\u001b[39mupdate(kwds_defaults)\n\u001b[1;32m--> 950\u001b[0m \u001b[38;5;28;01mreturn\u001b[39;00m \u001b[43m_read\u001b[49m\u001b[43m(\u001b[49m\u001b[43mfilepath_or_buffer\u001b[49m\u001b[43m,\u001b[49m\u001b[43m \u001b[49m\u001b[43mkwds\u001b[49m\u001b[43m)\u001b[49m\n",
      "File \u001b[1;32m~\\miniconda3\\lib\\site-packages\\pandas\\io\\parsers\\readers.py:605\u001b[0m, in \u001b[0;36m_read\u001b[1;34m(filepath_or_buffer, kwds)\u001b[0m\n\u001b[0;32m    602\u001b[0m _validate_names(kwds\u001b[38;5;241m.\u001b[39mget(\u001b[38;5;124m\"\u001b[39m\u001b[38;5;124mnames\u001b[39m\u001b[38;5;124m\"\u001b[39m, \u001b[38;5;28;01mNone\u001b[39;00m))\n\u001b[0;32m    604\u001b[0m \u001b[38;5;66;03m# Create the parser.\u001b[39;00m\n\u001b[1;32m--> 605\u001b[0m parser \u001b[38;5;241m=\u001b[39m TextFileReader(filepath_or_buffer, \u001b[38;5;241m*\u001b[39m\u001b[38;5;241m*\u001b[39mkwds)\n\u001b[0;32m    607\u001b[0m \u001b[38;5;28;01mif\u001b[39;00m chunksize \u001b[38;5;129;01mor\u001b[39;00m iterator:\n\u001b[0;32m    608\u001b[0m     \u001b[38;5;28;01mreturn\u001b[39;00m parser\n",
      "File \u001b[1;32m~\\miniconda3\\lib\\site-packages\\pandas\\io\\parsers\\readers.py:1442\u001b[0m, in \u001b[0;36mTextFileReader.__init__\u001b[1;34m(self, f, engine, **kwds)\u001b[0m\n\u001b[0;32m   1439\u001b[0m     \u001b[38;5;28mself\u001b[39m\u001b[38;5;241m.\u001b[39moptions[\u001b[38;5;124m\"\u001b[39m\u001b[38;5;124mhas_index_names\u001b[39m\u001b[38;5;124m\"\u001b[39m] \u001b[38;5;241m=\u001b[39m kwds[\u001b[38;5;124m\"\u001b[39m\u001b[38;5;124mhas_index_names\u001b[39m\u001b[38;5;124m\"\u001b[39m]\n\u001b[0;32m   1441\u001b[0m \u001b[38;5;28mself\u001b[39m\u001b[38;5;241m.\u001b[39mhandles: IOHandles \u001b[38;5;241m|\u001b[39m \u001b[38;5;28;01mNone\u001b[39;00m \u001b[38;5;241m=\u001b[39m \u001b[38;5;28;01mNone\u001b[39;00m\n\u001b[1;32m-> 1442\u001b[0m \u001b[38;5;28mself\u001b[39m\u001b[38;5;241m.\u001b[39m_engine \u001b[38;5;241m=\u001b[39m \u001b[38;5;28;43mself\u001b[39;49m\u001b[38;5;241;43m.\u001b[39;49m\u001b[43m_make_engine\u001b[49m\u001b[43m(\u001b[49m\u001b[43mf\u001b[49m\u001b[43m,\u001b[49m\u001b[43m \u001b[49m\u001b[38;5;28;43mself\u001b[39;49m\u001b[38;5;241;43m.\u001b[39;49m\u001b[43mengine\u001b[49m\u001b[43m)\u001b[49m\n",
      "File \u001b[1;32m~\\miniconda3\\lib\\site-packages\\pandas\\io\\parsers\\readers.py:1729\u001b[0m, in \u001b[0;36mTextFileReader._make_engine\u001b[1;34m(self, f, engine)\u001b[0m\n\u001b[0;32m   1727\u001b[0m     is_text \u001b[38;5;241m=\u001b[39m \u001b[38;5;28;01mFalse\u001b[39;00m\n\u001b[0;32m   1728\u001b[0m     mode \u001b[38;5;241m=\u001b[39m \u001b[38;5;124m\"\u001b[39m\u001b[38;5;124mrb\u001b[39m\u001b[38;5;124m\"\u001b[39m\n\u001b[1;32m-> 1729\u001b[0m \u001b[38;5;28mself\u001b[39m\u001b[38;5;241m.\u001b[39mhandles \u001b[38;5;241m=\u001b[39m \u001b[43mget_handle\u001b[49m\u001b[43m(\u001b[49m\n\u001b[0;32m   1730\u001b[0m \u001b[43m    \u001b[49m\u001b[43mf\u001b[49m\u001b[43m,\u001b[49m\n\u001b[0;32m   1731\u001b[0m \u001b[43m    \u001b[49m\u001b[43mmode\u001b[49m\u001b[43m,\u001b[49m\n\u001b[0;32m   1732\u001b[0m \u001b[43m    \u001b[49m\u001b[43mencoding\u001b[49m\u001b[38;5;241;43m=\u001b[39;49m\u001b[38;5;28;43mself\u001b[39;49m\u001b[38;5;241;43m.\u001b[39;49m\u001b[43moptions\u001b[49m\u001b[38;5;241;43m.\u001b[39;49m\u001b[43mget\u001b[49m\u001b[43m(\u001b[49m\u001b[38;5;124;43m\"\u001b[39;49m\u001b[38;5;124;43mencoding\u001b[39;49m\u001b[38;5;124;43m\"\u001b[39;49m\u001b[43m,\u001b[49m\u001b[43m \u001b[49m\u001b[38;5;28;43;01mNone\u001b[39;49;00m\u001b[43m)\u001b[49m\u001b[43m,\u001b[49m\n\u001b[0;32m   1733\u001b[0m \u001b[43m    \u001b[49m\u001b[43mcompression\u001b[49m\u001b[38;5;241;43m=\u001b[39;49m\u001b[38;5;28;43mself\u001b[39;49m\u001b[38;5;241;43m.\u001b[39;49m\u001b[43moptions\u001b[49m\u001b[38;5;241;43m.\u001b[39;49m\u001b[43mget\u001b[49m\u001b[43m(\u001b[49m\u001b[38;5;124;43m\"\u001b[39;49m\u001b[38;5;124;43mcompression\u001b[39;49m\u001b[38;5;124;43m\"\u001b[39;49m\u001b[43m,\u001b[49m\u001b[43m \u001b[49m\u001b[38;5;28;43;01mNone\u001b[39;49;00m\u001b[43m)\u001b[49m\u001b[43m,\u001b[49m\n\u001b[0;32m   1734\u001b[0m \u001b[43m    \u001b[49m\u001b[43mmemory_map\u001b[49m\u001b[38;5;241;43m=\u001b[39;49m\u001b[38;5;28;43mself\u001b[39;49m\u001b[38;5;241;43m.\u001b[39;49m\u001b[43moptions\u001b[49m\u001b[38;5;241;43m.\u001b[39;49m\u001b[43mget\u001b[49m\u001b[43m(\u001b[49m\u001b[38;5;124;43m\"\u001b[39;49m\u001b[38;5;124;43mmemory_map\u001b[39;49m\u001b[38;5;124;43m\"\u001b[39;49m\u001b[43m,\u001b[49m\u001b[43m \u001b[49m\u001b[38;5;28;43;01mFalse\u001b[39;49;00m\u001b[43m)\u001b[49m\u001b[43m,\u001b[49m\n\u001b[0;32m   1735\u001b[0m \u001b[43m    \u001b[49m\u001b[43mis_text\u001b[49m\u001b[38;5;241;43m=\u001b[39;49m\u001b[43mis_text\u001b[49m\u001b[43m,\u001b[49m\n\u001b[0;32m   1736\u001b[0m \u001b[43m    \u001b[49m\u001b[43merrors\u001b[49m\u001b[38;5;241;43m=\u001b[39;49m\u001b[38;5;28;43mself\u001b[39;49m\u001b[38;5;241;43m.\u001b[39;49m\u001b[43moptions\u001b[49m\u001b[38;5;241;43m.\u001b[39;49m\u001b[43mget\u001b[49m\u001b[43m(\u001b[49m\u001b[38;5;124;43m\"\u001b[39;49m\u001b[38;5;124;43mencoding_errors\u001b[39;49m\u001b[38;5;124;43m\"\u001b[39;49m\u001b[43m,\u001b[49m\u001b[43m \u001b[49m\u001b[38;5;124;43m\"\u001b[39;49m\u001b[38;5;124;43mstrict\u001b[39;49m\u001b[38;5;124;43m\"\u001b[39;49m\u001b[43m)\u001b[49m\u001b[43m,\u001b[49m\n\u001b[0;32m   1737\u001b[0m \u001b[43m    \u001b[49m\u001b[43mstorage_options\u001b[49m\u001b[38;5;241;43m=\u001b[39;49m\u001b[38;5;28;43mself\u001b[39;49m\u001b[38;5;241;43m.\u001b[39;49m\u001b[43moptions\u001b[49m\u001b[38;5;241;43m.\u001b[39;49m\u001b[43mget\u001b[49m\u001b[43m(\u001b[49m\u001b[38;5;124;43m\"\u001b[39;49m\u001b[38;5;124;43mstorage_options\u001b[39;49m\u001b[38;5;124;43m\"\u001b[39;49m\u001b[43m,\u001b[49m\u001b[43m \u001b[49m\u001b[38;5;28;43;01mNone\u001b[39;49;00m\u001b[43m)\u001b[49m\u001b[43m,\u001b[49m\n\u001b[0;32m   1738\u001b[0m \u001b[43m\u001b[49m\u001b[43m)\u001b[49m\n\u001b[0;32m   1739\u001b[0m \u001b[38;5;28;01massert\u001b[39;00m \u001b[38;5;28mself\u001b[39m\u001b[38;5;241m.\u001b[39mhandles \u001b[38;5;129;01mis\u001b[39;00m \u001b[38;5;129;01mnot\u001b[39;00m \u001b[38;5;28;01mNone\u001b[39;00m\n\u001b[0;32m   1740\u001b[0m f \u001b[38;5;241m=\u001b[39m \u001b[38;5;28mself\u001b[39m\u001b[38;5;241m.\u001b[39mhandles\u001b[38;5;241m.\u001b[39mhandle\n",
      "File \u001b[1;32m~\\miniconda3\\lib\\site-packages\\pandas\\io\\common.py:857\u001b[0m, in \u001b[0;36mget_handle\u001b[1;34m(path_or_buf, mode, encoding, compression, memory_map, is_text, errors, storage_options)\u001b[0m\n\u001b[0;32m    852\u001b[0m \u001b[38;5;28;01melif\u001b[39;00m \u001b[38;5;28misinstance\u001b[39m(handle, \u001b[38;5;28mstr\u001b[39m):\n\u001b[0;32m    853\u001b[0m     \u001b[38;5;66;03m# Check whether the filename is to be opened in binary mode.\u001b[39;00m\n\u001b[0;32m    854\u001b[0m     \u001b[38;5;66;03m# Binary mode does not support 'encoding' and 'newline'.\u001b[39;00m\n\u001b[0;32m    855\u001b[0m     \u001b[38;5;28;01mif\u001b[39;00m ioargs\u001b[38;5;241m.\u001b[39mencoding \u001b[38;5;129;01mand\u001b[39;00m \u001b[38;5;124m\"\u001b[39m\u001b[38;5;124mb\u001b[39m\u001b[38;5;124m\"\u001b[39m \u001b[38;5;129;01mnot\u001b[39;00m \u001b[38;5;129;01min\u001b[39;00m ioargs\u001b[38;5;241m.\u001b[39mmode:\n\u001b[0;32m    856\u001b[0m         \u001b[38;5;66;03m# Encoding\u001b[39;00m\n\u001b[1;32m--> 857\u001b[0m         handle \u001b[38;5;241m=\u001b[39m \u001b[38;5;28;43mopen\u001b[39;49m\u001b[43m(\u001b[49m\n\u001b[0;32m    858\u001b[0m \u001b[43m            \u001b[49m\u001b[43mhandle\u001b[49m\u001b[43m,\u001b[49m\n\u001b[0;32m    859\u001b[0m \u001b[43m            \u001b[49m\u001b[43mioargs\u001b[49m\u001b[38;5;241;43m.\u001b[39;49m\u001b[43mmode\u001b[49m\u001b[43m,\u001b[49m\n\u001b[0;32m    860\u001b[0m \u001b[43m            \u001b[49m\u001b[43mencoding\u001b[49m\u001b[38;5;241;43m=\u001b[39;49m\u001b[43mioargs\u001b[49m\u001b[38;5;241;43m.\u001b[39;49m\u001b[43mencoding\u001b[49m\u001b[43m,\u001b[49m\n\u001b[0;32m    861\u001b[0m \u001b[43m            \u001b[49m\u001b[43merrors\u001b[49m\u001b[38;5;241;43m=\u001b[39;49m\u001b[43merrors\u001b[49m\u001b[43m,\u001b[49m\n\u001b[0;32m    862\u001b[0m \u001b[43m            \u001b[49m\u001b[43mnewline\u001b[49m\u001b[38;5;241;43m=\u001b[39;49m\u001b[38;5;124;43m\"\u001b[39;49m\u001b[38;5;124;43m\"\u001b[39;49m\u001b[43m,\u001b[49m\n\u001b[0;32m    863\u001b[0m \u001b[43m        \u001b[49m\u001b[43m)\u001b[49m\n\u001b[0;32m    864\u001b[0m     \u001b[38;5;28;01melse\u001b[39;00m:\n\u001b[0;32m    865\u001b[0m         \u001b[38;5;66;03m# Binary mode\u001b[39;00m\n\u001b[0;32m    866\u001b[0m         handle \u001b[38;5;241m=\u001b[39m \u001b[38;5;28mopen\u001b[39m(handle, ioargs\u001b[38;5;241m.\u001b[39mmode)\n",
      "\u001b[1;31mFileNotFoundError\u001b[0m: [Errno 2] No such file or directory: 'data/IPEDS_Data_110122.csv'"
     ]
    }
   ],
   "source": [
    "import pandas as pd\n",
    "\n",
    "# read in the file\n",
    "df_ipeds = pd.read_csv('data/IPEDS_Data_110122.csv')\n",
    "\n",
    "# drop all rows where it doesn't have the SAT MATH 75 percentile score\n",
    "for year in ('2017', '2018', '2019'):\n",
    "    df_ipeds.dropna(subset=[f'SAT Math 75th percentile score (ADM{year}_RV)'], inplace = True)\n",
    "    \n",
    "    df_ipeds.dropna(subset = [f'SAT Evidence-Based Reading and Writing 75th percentile score (ADM{year}_RV)'], inplace = True)\n",
    "\n",
    "df_ipeds.head()"
   ]
  },
  {
   "cell_type": "code",
   "execution_count": null,
   "id": "8556eb04",
   "metadata": {},
   "outputs": [],
   "source": [
    "# list of unwanted column names without year tags\n",
    "bad_col = ['Percent of graduate enrollment that are American Indian or Alaska Native',\n",
    "           'Percent of graduate enrollment that are Asian/Native Hawaiian/Pacific Islander',\n",
    "           'Percent of graduate enrollment that are Asian',\n",
    "           'Percent of graduate enrollment that are Native Hawaiian or Other Pacific Islander',\n",
    "           'Percent of graduate enrollment that are Black or African American',\n",
    "           'Percent of graduate enrollment that are Hispanic/Latino',\n",
    "           'Percent of graduate enrollment that are White',\n",
    "           'Percent of graduate enrollment that are two or more races',\n",
    "           'Percent of graduate enrollment that are Race/ethnicity unknown',\n",
    "           'Percent of graduate enrollment that are Nonresident Alien',\n",
    "           'Percent of graduate enrollment that are women',\n",
    "           'Applicants men', \n",
    "           'Applicants women',\n",
    "           'Admissions men',\n",
    "           'Admissions women',\n",
    "           'Enrolled  men', \n",
    "           'Enrolled  women',\n",
    "           'Enrolled full time men',\n",
    "           'Enrolled full time women', \n",
    "           'Enrolled part time men', \n",
    "           'Enrolled part time women', \n",
    "           'FIPS state code', \n",
    "           'Open admission policy',\n",
    "           'Total price for in-district students living on campus',\n",
    "           'Total price for out-of-state students living on campus',\n",
    "           'Total price for in-district students living off campus (not with family)',\n",
    "           'Total price for in-state students living off campus (not with family)',\n",
    "           'Total price for out-of-state students living off campus (not with family)',\n",
    "           'Total price for in-district students living off campus (with family)',\n",
    "           'Total price for in-state students living off campus (with family)',\n",
    "           'Total price for out-of-state students living off campus (with family)',\n",
    "           'Number of undergraduate students awarded federal  state  local  institutional or other sources of grant aid',\n",
    "           'Number of undergraduate students awarded Pell grants',\n",
    "           'Number of undergraduate students awarded federal student loans']"
   ]
  },
  {
   "cell_type": "code",
   "execution_count": null,
   "id": "4c009654",
   "metadata": {},
   "outputs": [],
   "source": [
    "# get a list of bad columns from ipeds\n",
    "# including year tags\n",
    "li = []\n",
    "for bad in bad_col:\n",
    "    for col in df_ipeds.columns:\n",
    "        if bad in col:\n",
    "            li.append(col)\n",
    "            \n",
    "# drop bad columns\n",
    "df_ipeds.drop(li, axis=1, inplace=True)"
   ]
  },
  {
   "cell_type": "code",
   "execution_count": null,
   "id": "d6cf6436",
   "metadata": {},
   "outputs": [],
   "source": [
    "# how years are labled\n",
    "years = ['1718', '1819', '1920', '2017', '2018', '2019']"
   ]
  },
  {
   "cell_type": "code",
   "execution_count": null,
   "id": "300333b8",
   "metadata": {},
   "outputs": [],
   "source": [
    "import numpy as np\n",
    "\n",
    "# first two identifying columns\n",
    "iden = df_ipeds.columns[:2]\n",
    "\n",
    "# initialize yearly dataframes\n",
    "df_2017_old = pd.DataFrame()\n",
    "df_2018_old = pd.DataFrame()\n",
    "df_2019_old = pd.DataFrame()\n",
    "\n",
    "# add identifying columns to yearly dataframes\n",
    "df_2017_old[iden] = df_ipeds[iden]\n",
    "df_2018_old[iden] = df_ipeds[iden]\n",
    "df_2019_old[iden] = df_ipeds[iden]\n",
    "\n",
    "# add data to yearly dataframes\n",
    "for column in df_ipeds.columns:\n",
    "    if '2017' in column or '1718' in column:\n",
    "        df_2017_old[column] = df_ipeds[column]\n",
    "    if '2018' in column or '1819' in column:\n",
    "        df_2018_old[column] = df_ipeds[column]\n",
    "    if '2019' in column or '1920' in column:\n",
    "        df_2019_old[column] = df_ipeds[column]"
   ]
  },
  {
   "cell_type": "code",
   "execution_count": null,
   "id": "3d823b6d",
   "metadata": {},
   "outputs": [],
   "source": [
    "# list of new column names\n",
    "new_columns = ['UnitID', \n",
    "               'Name',\n",
    "               'Percent on any financial aid',\n",
    "               'Number in financial aid cohort',\n",
    "               'Average total grant aid',\n",
    "               'Percent of students awarded Pell grants',\n",
    "               'Total amount of Pell grant aid awarded',\n",
    "               'Average amount Pell grant aid awarded',\n",
    "               'Percent of students awarded federal student loans',\n",
    "               'Average amount of federal student loans awarded',\n",
    "               'State', \n",
    "               'Level of institution',\n",
    "               'Institution size category',\n",
    "               'Total price for in-state students living on campus',\n",
    "               'Full-time undergraduate enrollment',\n",
    "               'Percent American Indian or Alaska Native',\n",
    "               'Percent Asian/Native Hawaiian/Pacific Islander',\n",
    "               'Percent Asian',\n",
    "               'Percent Native Hawaiian or Other Pacific Islander',\n",
    "               'Percent Black or African American',\n",
    "               'Percent Hispanic/Latino',\n",
    "               'Percent White',\n",
    "               'Percent two or more races',\n",
    "               'Percent Race/ethnicity unknown',\n",
    "               'Percent Nonresident Alien',\n",
    "               'Percent women',\n",
    "               'Admission test scores',\n",
    "               'Secondary school GPA',\n",
    "               'Secondary school rank', \n",
    "               'Applicants total',\n",
    "               'Admissions total', \n",
    "               'Enrolled total',\n",
    "               'Enrolled full time total',\n",
    "               'Enrolled part time total',\n",
    "               'SAT EBRW 25th percentile',\n",
    "               'SAT EBRW 75th percentile',\n",
    "               'SAT Math 25th percentile',\n",
    "               'SAT Math 75th percentile',\n",
    "               'ACT Composite 25th percentile',\n",
    "               'ACT Composite 75th percentile',\n",
    "               'ACT English 25th percentile',\n",
    "               'ACT English 75th percentile',\n",
    "               'ACT Math 25th percentile',\n",
    "               'ACT Math 75th percentile']"
   ]
  },
  {
   "cell_type": "code",
   "execution_count": null,
   "id": "ab84a91c",
   "metadata": {},
   "outputs": [],
   "source": [
    "new_columns[17]"
   ]
  },
  {
   "cell_type": "code",
   "execution_count": null,
   "id": "7b306798",
   "metadata": {},
   "outputs": [],
   "source": [
    "# initialize old-new column name dictionaries\n",
    "column_dict_2017, column_dict_2018, column_dict_2019 = dict(), dict(), dict()\n",
    "\n",
    "# fill column name dictionaries\n",
    "for idx in range(0, len(df_2017_old.columns)):\n",
    "    column_dict_2017[df_2017_old.columns[idx]] = new_columns[idx]\n",
    "for idx in range(0, len(df_2018_old.columns)):\n",
    "    column_dict_2018[df_2018_old.columns[idx]] = new_columns[idx]\n",
    "for idx in range(0, len(df_2019_old.columns)):\n",
    "    column_dict_2019[df_2019_old.columns[idx]] = new_columns[idx]"
   ]
  },
  {
   "cell_type": "code",
   "execution_count": null,
   "id": "8d1a107f",
   "metadata": {},
   "outputs": [],
   "source": [
    "# initialize cleaned dataframes\n",
    "df_2017, df_2018, df_2019 = pd.DataFrame(), pd.DataFrame(), pd.DataFrame()\n",
    "\n",
    "# assign new names to clean dataframes\n",
    "for old, new in column_dict_2017.items():\n",
    "    df_2017[new] = df_2017_old[old]\n",
    "for old, new in column_dict_2018.items():\n",
    "    df_2018[new] = df_2018_old[old]\n",
    "for old, new in column_dict_2019.items():\n",
    "    df_2019[new] = df_2019_old[old]"
   ]
  },
  {
   "cell_type": "code",
   "execution_count": null,
   "id": "da76f86d",
   "metadata": {},
   "outputs": [],
   "source": [
    "# list of dataframes\n",
    "df_years_list = [df_2017, df_2018, df_2019]\n",
    "\n",
    "for df in df_years_list:\n",
    "    \n",
    "    # calculate acceptance rate\n",
    "    applicants = df.loc[:, 'Applicants total']\n",
    "    admitted = df.loc[:, 'Admissions total']\n",
    "    acceptance_rate = applicants / admitted\n",
    "    \n",
    "    df.insert(loc=)"
   ]
  },
  {
   "cell_type": "code",
   "execution_count": null,
   "id": "0dbbfc11",
   "metadata": {},
   "outputs": [],
   "source": [
    "# drop empty rows\n",
    "for df in df_years_list:\n",
    "    df.dropna(axis=0, inplace=True)"
   ]
  },
  {
   "cell_type": "code",
   "execution_count": null,
   "id": "35953856",
   "metadata": {},
   "outputs": [],
   "source": [
    "# export dataframes to csv files\n",
    "df_2017.to_csv('data\\IPEDS_2017.csv')\n",
    "df_2018.to_csv('data\\IPEDS_2018.csv')\n",
    "df_2019.to_csv('data\\IPEDS_2019.csv')"
   ]
  }
 ],
 "metadata": {
  "kernelspec": {
   "display_name": "Python 3 (ipykernel)",
   "language": "python",
   "name": "python3"
  },
  "language_info": {
   "codemirror_mode": {
    "name": "ipython",
    "version": 3
   },
   "file_extension": ".py",
   "mimetype": "text/x-python",
   "name": "python",
   "nbconvert_exporter": "python",
   "pygments_lexer": "ipython3",
   "version": "3.9.12"
  }
 },
 "nbformat": 4,
 "nbformat_minor": 5
}
